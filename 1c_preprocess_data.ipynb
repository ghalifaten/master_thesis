{
 "cells": [
  {
   "cell_type": "code",
   "execution_count": 1,
   "id": "d00c7f70-393c-4e3e-9a26-3809941a16b3",
   "metadata": {},
   "outputs": [],
   "source": [
    "import pandas as pd\n",
    "from gensim.utils import simple_preprocess\n",
    "from nltk.corpus import stopwords\n",
    "from nltk.stem import PorterStemmer\n",
    "import spacy\n",
    "\n",
    "stemmer = PorterStemmer()"
   ]
  },
  {
   "cell_type": "code",
   "execution_count": 2,
   "id": "4027f5c4-48a6-448b-9cb0-d00064ee031e",
   "metadata": {},
   "outputs": [],
   "source": [
    "def load_tools(language, stopwords=stopwords):\n",
    "    \"\"\"\n",
    "    Load open tasks in DataFrame from csv file.\n",
    "    Define stopwords and lemmatizer appropriate to given language of data.\n",
    "    \"\"\"\n",
    "    if language == \"german\": \n",
    "        df = pd.read_csv(\"data/open_tasks_DE.csv\") \n",
    "        stopwords = stopwords.words('german') \n",
    "        lemmatizer = spacy.load(\"de_core_news_sm\") \n",
    "    elif language == \"english\": \n",
    "        df = pd.read_csv(\"data/open_tasks_EN.csv\") \n",
    "        stopwords = stopwords.words('english')\n",
    "        lemmatizer = spacy.load('en_core_web_sm')\n",
    "    else:\n",
    "        raise language + \" language not supported.\" \n",
    "    return df, stopwords, lemmatizer \n",
    "\n",
    "def preprocess(text, lemmatizer, stopwords, stemmer=stemmer):\n",
    "    # lowercase, remove punctuation, tokenize \n",
    "    words = simple_preprocess(text, deacc=True, min_len=1, max_len=50)\n",
    "    # remove stopwords \n",
    "    tokens = [word for word in words if word not in stopwords]\n",
    "    # stemming\n",
    "    stems = [stemmer.stem(token) for token in tokens]\n",
    "    # lemmatize\n",
    "    stemmed_doc = lemmatizer(\" \".join(stems))\n",
    "    lemmas = [s.lemma_ for s in stemmed_doc]\n",
    "    return \" \".join(lemmas)"
   ]
  },
  {
   "cell_type": "code",
   "execution_count": 3,
   "id": "8f80d6d5-0ded-4d39-8ffa-c11a13552bd8",
   "metadata": {},
   "outputs": [
    {
     "data": {
      "text/plain": [
       "('What are the courses that clients can book at Swiss Connect Academy?',\n",
       " 'cours client book swiss connect academi')"
      ]
     },
     "execution_count": 3,
     "metadata": {},
     "output_type": "execute_result"
    }
   ],
   "source": [
    "df, stopwords, lemmatizer = load_tools(\"english\")\n",
    "text = df[\"description\"][14917]\n",
    "text, preprocess(text, lemmatizer, stopwords)"
   ]
  },
  {
   "cell_type": "code",
   "execution_count": 4,
   "id": "a82f3849-7204-493a-a9f6-6682391292e8",
   "metadata": {},
   "outputs": [],
   "source": [
    "df[\"preprocess_desc\"] = df[\"description\"].apply(lambda text: preprocess(text, lemmatizer, stopwords))\n",
    "df[\"preprocess_context\"] = df[\"context\"].apply(lambda text: preprocess(text, lemmatizer, stopwords) if isinstance(text, str) else \"\")\n",
    "df.to_csv(\"data/preprocessed_open_tasks_EN.csv\", index_label=False)"
   ]
  },
  {
   "cell_type": "code",
   "execution_count": 5,
   "id": "be75ea2e-0699-43d1-8c45-0982db92360f",
   "metadata": {},
   "outputs": [
    {
     "data": {
      "text/plain": [
       "('Ersetze die markierte bildhafte Wendung durch einen gleichbedeutenden Ausdruck: Da Tonio daheim seine Zeit vertrödelte, beim Unterricht langsamen und abgewandten Geistes war und bei den Lehrern schlecht angeschrieben stand, fielen seine Noten ins Bodenlose , was seinen Vater, einen Kaufmann aus Bremen, sehr erzürnte. Der Mutter Tonios jedoch, die Consuelo mit Vornamen hieß und überhaupt so anders war als die übrigen Damen der Stadt, weil der Vater sie sich einstmals von ganz unten auf der Landkarte heraufgeholt hatte, waren die Zeugnisse einerlei… Thomas Mann: Tonio Kröger (leicht verändert)',\n",
       " 'Ersetz markieren Bildhaft Wendung gleichbedeutend Ausdruck Tonio daheim Zeit vertrodeln bei Unterricht langsamen abgewandten Geist Lehrer schlecht anschreiben stehen fallen Not bodenlos Vater Kaufmann Bremen erzurnen Mutter tonio jedoch Consuelo vornamen heißen uberhaupt ubrig dam Stadt Vater einstmal ganz unten landkart Heraufgeholt Zeugniss einerlei Thoma Mann tonio Kroger leicht verandern')"
      ]
     },
     "execution_count": 5,
     "metadata": {},
     "output_type": "execute_result"
    }
   ],
   "source": [
    "df, stopwords, lemmatizer = load_tools(\"german\")\n",
    "text = df[\"description\"][14838]\n",
    "text, preprocess(text, lemmatizer, stopwords)"
   ]
  },
  {
   "cell_type": "code",
   "execution_count": 6,
   "id": "4c458c3c-6359-4f40-9034-6fca0200d3a6",
   "metadata": {},
   "outputs": [],
   "source": [
    "df[\"preprocess_desc\"] = df[\"description\"].apply(lambda text: preprocess(text, lemmatizer, stopwords))\n",
    "df[\"preprocess_context\"] = df[\"context\"].apply(lambda text: preprocess(text, lemmatizer, stopwords) if isinstance(text, str) else \"\")\n",
    "df.to_csv(\"data/preprocessed_open_tasks_DE.csv\", index_label=False)"
   ]
  },
  {
   "cell_type": "code",
   "execution_count": null,
   "id": "c4f27c45-fd6b-4b6f-9fb6-a3dec8fb6a1c",
   "metadata": {},
   "outputs": [],
   "source": []
  },
  {
   "cell_type": "code",
   "execution_count": null,
   "id": "987979dd-ec50-4cce-b45f-140f0eaa6318",
   "metadata": {},
   "outputs": [],
   "source": []
  }
 ],
 "metadata": {
  "kernelspec": {
   "display_name": "tb_venv",
   "language": "python",
   "name": "tb_venv"
  },
  "language_info": {
   "codemirror_mode": {
    "name": "ipython",
    "version": 3
   },
   "file_extension": ".py",
   "mimetype": "text/x-python",
   "name": "python",
   "nbconvert_exporter": "python",
   "pygments_lexer": "ipython3",
   "version": "3.11.8"
  }
 },
 "nbformat": 4,
 "nbformat_minor": 5
}
