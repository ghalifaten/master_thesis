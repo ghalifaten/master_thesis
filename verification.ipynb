{
 "cells": [
  {
   "cell_type": "code",
   "execution_count": 1,
   "id": "d2c7b381-29a1-4296-9f6f-1d69771b699f",
   "metadata": {},
   "outputs": [],
   "source": [
    "import pandas as pd "
   ]
  },
  {
   "cell_type": "code",
   "execution_count": 13,
   "id": "031f4e6e-314d-4b00-a1cf-1f1e33f8ae5d",
   "metadata": {},
   "outputs": [
    {
     "name": "stdout",
     "output_type": "stream",
     "text": [
      "1730 1129\n",
      "4138 11222\n",
      "503 951\n"
     ]
    }
   ],
   "source": [
    "# Result of 1a cleaning tasks \n",
    "open_tasks_de = pd.read_csv(\"data/open_tasks_DE.csv\")\n",
    "open_tasks_en = pd.read_csv(\"data/open_tasks_EN.csv\")\n",
    "\n",
    "concept_aspects_de = pd.read_csv(\"data/taskAspects_DE.csv\") \n",
    "concept_aspects_en = pd.read_csv(\"data/taskAspects_EN.csv\") \n",
    "\n",
    "print(len(open_tasks_de), len(open_tasks_en))\n",
    "print(len(concept_aspects_de), len(concept_aspects_en))\n",
    "print(len(concept_aspects_de.taskId.unique()), len(concept_aspects_en.taskId.unique()))"
   ]
  },
  {
   "cell_type": "code",
   "execution_count": 16,
   "id": "12f49106-350f-45c9-a9ef-9efaa9906b4a",
   "metadata": {},
   "outputs": [
    {
     "name": "stdout",
     "output_type": "stream",
     "text": [
      "1730\n",
      "1730\n",
      "1730\n",
      "1730\n",
      "1730\n",
      "\n",
      "4138\n",
      "4138\n",
      "4138\n",
      "4138\n",
      "4138\n",
      "4138\n"
     ]
    }
   ],
   "source": [
    "# Results of augmentation \n",
    "filenames = [\n",
    "    \"augmented_BT_DE\", \n",
    "    \"augmented_RD_DE\", \n",
    "    \"augmented_RI_DE\", \n",
    "    \"augmented_RS_DE\", \n",
    "    \"augmented_SR_DE\", \n",
    "]\n",
    "for f in filenames: \n",
    "    print(len(pd.read_csv(f\"data/generated/{f}.csv\")))\n",
    "\n",
    "print()\n",
    "filenames = [\n",
    "    \"taskAspects_DE\",\n",
    "    \"taskAspects_BT_DE\", \n",
    "    \"taskAspects_RD_DE\", \n",
    "    \"taskAspects_RI_DE\", \n",
    "    \"taskAspects_RS_DE\", \n",
    "    \"taskAspects_SR_DE\", \n",
    "]\n",
    "for f in filenames: \n",
    "    print(len(pd.read_csv(f\"data/{f}.csv\")))"
   ]
  },
  {
   "cell_type": "code",
   "execution_count": 19,
   "id": "95111322-ce89-4a00-889f-6f65819cf1c0",
   "metadata": {},
   "outputs": [
    {
     "data": {
      "text/plain": [
       "4138"
      ]
     },
     "execution_count": 19,
     "metadata": {},
     "output_type": "execute_result"
    }
   ],
   "source": [
    "len(pd.read_csv(\"data/taskAspects_BT_DE.csv\"))"
   ]
  },
  {
   "cell_type": "code",
   "execution_count": 17,
   "id": "9b63b530-ce41-41ca-9cdb-340bc81309bd",
   "metadata": {},
   "outputs": [
    {
     "name": "stdout",
     "output_type": "stream",
     "text": [
      "1129\n",
      "1129\n",
      "1129\n",
      "1129\n",
      "1129\n",
      "\n",
      "11222\n",
      "11222\n",
      "11222\n",
      "11222\n",
      "11222\n",
      "11222\n"
     ]
    }
   ],
   "source": [
    "filenames = [\n",
    "    \"augmented_BT_EN\", \n",
    "    \"augmented_RD_EN\", \n",
    "    \"augmented_RI_EN\", \n",
    "    \"augmented_RS_EN\", \n",
    "    \"augmented_SR_EN\", \n",
    "]\n",
    "for f in filenames: \n",
    "    print(len(pd.read_csv(f\"data/generated/{f}.csv\")))\n",
    "\n",
    "print()\n",
    "filenames = [\n",
    "    \"taskAspects_EN\",\n",
    "    \"taskAspects_BT_EN\", \n",
    "    \"taskAspects_RD_EN\", \n",
    "    \"taskAspects_RI_EN\", \n",
    "    \"taskAspects_RS_EN\", \n",
    "    \"taskAspects_SR_EN\", \n",
    "]\n",
    "for f in filenames: \n",
    "    print(len(pd.read_csv(f\"data/{f}.csv\")))"
   ]
  },
  {
   "cell_type": "code",
   "execution_count": 14,
   "id": "be12dfdf-8e6b-4153-959e-ef941a0c34b8",
   "metadata": {},
   "outputs": [
    {
     "name": "stdout",
     "output_type": "stream",
     "text": [
      "1730\n",
      "1539\n",
      "1539\n",
      "1539\n",
      "1539\n",
      "1539\n",
      "\n",
      "1129\n",
      "285\n",
      "285\n",
      "285\n",
      "285\n",
      "285\n"
     ]
    }
   ],
   "source": [
    "# Results of preprocessing \n",
    "filenames = [\n",
    "    \"open_tasks_DE\",\n",
    "    \"augmented_BT_DE\", \n",
    "    \"augmented_RD_DE\", \n",
    "    \"augmented_RI_DE\", \n",
    "    \"augmented_RS_DE\", \n",
    "    \"augmented_SR_DE\", \n",
    "]\n",
    "for f in filenames: \n",
    "    print(len(pd.read_csv(f\"data/preprocessed_{f}.csv\")))\n",
    "\n",
    "print()\n",
    "filenames = [\n",
    "    \"open_tasks_EN\",\n",
    "    \"augmented_BT_EN\", \n",
    "    \"augmented_RD_EN\", \n",
    "    \"augmented_RI_EN\", \n",
    "    \"augmented_RS_EN\", \n",
    "    \"augmented_SR_EN\", \n",
    "]\n",
    "for f in filenames: \n",
    "    print(len(pd.read_csv(f\"data/preprocessed_{f}.csv\")))"
   ]
  },
  {
   "cell_type": "code",
   "execution_count": null,
   "id": "69c6ffbd-cf2c-404f-b07b-1e8dbee19803",
   "metadata": {},
   "outputs": [],
   "source": []
  }
 ],
 "metadata": {
  "kernelspec": {
   "display_name": "Python 3 (ipykernel)",
   "language": "python",
   "name": "python3"
  },
  "language_info": {
   "codemirror_mode": {
    "name": "ipython",
    "version": 3
   },
   "file_extension": ".py",
   "mimetype": "text/x-python",
   "name": "python",
   "nbconvert_exporter": "python",
   "pygments_lexer": "ipython3",
   "version": "3.11.8"
  }
 },
 "nbformat": 4,
 "nbformat_minor": 5
}
