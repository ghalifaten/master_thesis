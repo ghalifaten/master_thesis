{
 "cells": [
  {
   "cell_type": "markdown",
   "id": "750204c7-04f9-4514-81f5-8ef9e23ff563",
   "metadata": {},
   "source": [
    "This notebook is made to explore different ways of text augmentation. <hr>"
   ]
  },
  {
   "cell_type": "code",
   "execution_count": 3,
   "id": "86421d96-e57c-4afd-b7b4-0c94a44d6f20",
   "metadata": {},
   "outputs": [],
   "source": [
    "import warnings\n",
    "warnings.filterwarnings(\"ignore\")"
   ]
  },
  {
   "cell_type": "code",
   "execution_count": 4,
   "id": "dceb88eb-327d-4ce8-ab5e-696f5ddd61e4",
   "metadata": {},
   "outputs": [],
   "source": [
    "import pandas as pd\n",
    "import nlpaug.augmenter.word as naw\n",
    "import nlpaug.augmenter.sentence as nas\n",
    "from textaugment import EDA\n",
    "from tqdm import tqdm"
   ]
  },
  {
   "cell_type": "code",
   "execution_count": 5,
   "id": "d316e165-e3b0-4ba5-ab13-50d09ff5d18e",
   "metadata": {},
   "outputs": [],
   "source": [
    "t = EDA()\n",
    "\n",
    "# Synonym replacement\n",
    "def augment_by_sr(df, taskAspects_df, lang, n=2):\n",
    "    _df = df.copy()\n",
    "    _taskAspects_df = taskAspects_df.copy()\n",
    "    _df['description'] = _df['description'].apply(lambda text: t.synonym_replacement(text, n=n))\n",
    "    _df[\"word_count\"] = _df[\"description\"].apply(lambda s: len(s.split()))\n",
    "    _df[\"taskId\"] = _df[\"taskId\"] + \"_SR\"\n",
    "    _taskAspects_df[\"taskId\"] = _taskAspects_df[\"taskId\"] + \"_SR\"\n",
    "    _df.to_csv(f\"gen_files/{lang}/augmented/tasks_SR.csv\", index_label=False)\n",
    "    _taskAspects_df.to_csv(f\"gen_files/{lang}/augmented/task_aspects_SR.csv\", index_label=False)\n",
    "\n",
    "# Random insertion\n",
    "def augment_by_ri(df, taskAspects_df, lang, n=2):\n",
    "    # _df = df.copy()\n",
    "    _taskAspects_df = taskAspects_df.copy()\n",
    "    _df['description'] = _df['description'].apply(lambda text: t.random_insertion(text, n=n))\n",
    "    _df[\"word_count\"] = _df[\"description\"].apply(lambda s: len(s.split()))\n",
    "    _df[\"taskId\"] = _df[\"taskId\"] + \"_RI\"\n",
    "    _taskAspects_df[\"taskId\"] = _taskAspects_df[\"taskId\"] + \"_RI\"\n",
    "    _df.to_csv(f\"gen_files/{lang}/augmented/tasks_RI.csv\", index_label=False)\n",
    "    _taskAspects_df.to_csv(f\"gen_files/{lang}/augmented/task_aspects_RI.csv\", index_label=False)\n",
    "\n",
    "# Random swap\n",
    "def augment_by_rs(df, taskAspects_df, lang):\n",
    "    # _df = df.copy()\n",
    "    _taskAspects_df = taskAspects_df.copy()\n",
    "    _df['description'] = _df['description'].apply(lambda text: t.random_swap(text))\n",
    "    _df[\"word_count\"] = _df[\"description\"].apply(lambda s: len(s.split()))\n",
    "    _df[\"taskId\"] = _df[\"taskId\"] + \"_RS\"\n",
    "    _taskAspects_df[\"taskId\"] = _taskAspects_df[\"taskId\"] + \"_RS\"\n",
    "    _df.to_csv(f\"gen_files/{lang}/augmented/tasks_RS.csv\", index_label=False)\n",
    "    _taskAspects_df.to_csv(f\"gen_files/{lang}/augmented/task_aspects_RS.csv\", index_label=False)\n",
    "\n",
    "# Random deletion\n",
    "def augment_by_rd(df, taskAspects_df, lang, p=0.4):\n",
    "    # _df = df.copy()\n",
    "    _taskAspects_df = taskAspects_df.copy()\n",
    "    _df['description'] = _df['description'].apply(lambda text: t.random_deletion(text, p=p))\n",
    "    _df[\"word_count\"] = _df[\"description\"].apply(lambda s: len(s.split())) \n",
    "    _df[\"taskId\"] = _df[\"taskId\"] + \"_RD\"\n",
    "    _taskAspects_df[\"taskId\"] = _taskAspects_df[\"taskId\"] + \"_RD\"\n",
    "    _df.to_csv(f\"gen_files/{lang}/augmented/tasks_RD.csv\", index_label=False)\n",
    "    _taskAspects_df.to_csv(f\"gen_files/{lang}/augmented/task_aspects_RD.csv\", index_label=False)"
   ]
  },
  {
   "cell_type": "code",
   "execution_count": 6,
   "id": "85be1fd1-9edb-4ab5-a5e2-a3065f2d64ab",
   "metadata": {},
   "outputs": [],
   "source": [
    "# Back Translation\n",
    "def augment_by_bt(df, taskAspects_df, lang):\n",
    "    if lang == \"EN\": \n",
    "        from_model_name = 'facebook/wmt19-en-de'\n",
    "        to_model_name = 'facebook/wmt19-de-en'\n",
    "    elif lang == \"DE\": \n",
    "        from_model_name = 'facebook/wmt19-de-en' \n",
    "        to_model_name = 'facebook/wmt19-en-de'\n",
    "    else:\n",
    "        raise f\"Language {lang} not supported.\"\n",
    "        \n",
    "    back_translation_aug = naw.BackTranslationAug(\n",
    "        from_model_name=from_model_name,\n",
    "        to_model_name=to_model_name\n",
    "        )\n",
    "    _df = df.copy()\n",
    "    _taskAspects_df = taskAspects_df.copy()\n",
    "    _df['description'] = _df['description'].apply(lambda text: back_translation_aug.augment(text)[0])\n",
    "    _df[\"word_count\"] = _df[\"description\"].apply(lambda s: len(s.split())) \n",
    "    _df[\"taskId\"] = _df[\"taskId\"] + \"_BT\"\n",
    "    _taskAspects_df[\"taskId\"] = _taskAspects_df[\"taskId\"] + \"_BT\"\n",
    "    _df.to_csv(f\"gen_files/{lang}/augmented/tasks_BT.csv\", index_label=False)\n",
    "    _taskAspects_df.to_csv(f\"gen_files/{lang}/augmented/task_aspects_BT.csv\", index_label=False)"
   ]
  },
  {
   "cell_type": "markdown",
   "id": "a9c18572-f4aa-4a46-a0e2-9641222aa219",
   "metadata": {},
   "source": [
    "<hr>"
   ]
  },
  {
   "cell_type": "code",
   "execution_count": 7,
   "id": "c3cb4ba1-df65-4aba-8622-4b962973afcd",
   "metadata": {},
   "outputs": [],
   "source": [
    "df_de = pd.read_csv(\"gen_files/DE/all_concept_open_tasks.csv\").dropna(subset=[\"description\"]) \n",
    "df_en = pd.read_csv(\"gen_files/EN/all_concept_open_tasks.csv\").dropna(subset=[\"description\"]) "
   ]
  },
  {
   "cell_type": "code",
   "execution_count": 9,
   "id": "17578649-f5da-445e-8cda-7db66c260d95",
   "metadata": {},
   "outputs": [],
   "source": [
    "df_taskAspects_de = pd.read_csv(\"gen_files/DE/concept_task_aspects.csv\") \n",
    "df_taskAspects_en = pd.read_csv(\"gen_files/EN/concept_task_aspects.csv\") "
   ]
  },
  {
   "cell_type": "code",
   "execution_count": 10,
   "id": "2581f867-5264-415e-89df-caee2ec9f4ef",
   "metadata": {},
   "outputs": [
    {
     "name": "stderr",
     "output_type": "stream",
     "text": [
      "2it [00:00, 31.82it/s]"
     ]
    },
    {
     "name": "stdout",
     "output_type": "stream",
     "text": [
      "\n",
      "EN\n",
      "\n",
      "Augmenting by SR...\n",
      "Augmenting by RI...\n",
      "Augmenting by RS...\n",
      "Augmenting by RD...\n",
      "Augmenting by BT...\n",
      "\n",
      "DE\n",
      "\n",
      "Augmenting by SR...\n",
      "Augmenting by RI...\n",
      "Augmenting by RS...\n",
      "Augmenting by RD...\n",
      "Augmenting by BT...\n"
     ]
    },
    {
     "name": "stderr",
     "output_type": "stream",
     "text": [
      "\n"
     ]
    }
   ],
   "source": [
    "for df, taskAspects_df, lang in tqdm(zip([df_en, df_de], [df_taskAspects_en, df_taskAspects_de], [\"EN\", \"DE\"])):\n",
    "    print(f\"\\n{lang}\\n\")\n",
    "    print(\"Augmenting by SR...\")\n",
    "    augment_by_sr(df, taskAspects_df, lang)\n",
    "    print(\"Augmenting by RI...\")\n",
    "    augment_by_ri(df, taskAspects_df, lang)\n",
    "    print(\"Augmenting by RS...\") \n",
    "    augment_by_rs(df, taskAspects_df, lang)\n",
    "    print(\"Augmenting by RD...\")\n",
    "    augment_by_rd(df, taskAspects_df, lang)\n",
    "    print(\"Augmenting by BT...\")\n",
    "    augment_by_bt(df, taskAspects_df, lang)\n"
   ]
  },
  {
   "cell_type": "code",
   "execution_count": 38,
   "id": "ef32b20c-4887-475a-84a3-f2e1bf822f13",
   "metadata": {},
   "outputs": [
    {
     "name": "stdout",
     "output_type": "stream",
     "text": [
      "951\n",
      "951\n",
      "951\n",
      "951\n",
      "951\n",
      "951\n"
     ]
    }
   ],
   "source": [
    "filenames = [\n",
    "    \"taskAspects_EN\",\n",
    "    \"taskAspects_BT_EN\", \n",
    "    \"taskAspects_RD_EN\", \n",
    "    \"taskAspects_RI_EN\", \n",
    "    \"taskAspects_RS_EN\", \n",
    "    \"taskAspects_SR_EN\", \n",
    "] \n",
    "for f in filenames: \n",
    "    d = pd.read_csv(f\"data/{f}.csv\") \n",
    "    print(len(d.taskId.unique()))"
   ]
  },
  {
   "cell_type": "code",
   "execution_count": null,
   "id": "b1cbb00d-4a9d-4d05-b368-e35017e503e7",
   "metadata": {},
   "outputs": [],
   "source": []
  },
  {
   "cell_type": "code",
   "execution_count": 26,
   "id": "7ea49836-57a9-48c2-aca7-30ee29ae702c",
   "metadata": {},
   "outputs": [
    {
     "data": {
      "text/plain": [
       "1129"
      ]
     },
     "execution_count": 26,
     "metadata": {},
     "output_type": "execute_result"
    }
   ],
   "source": [
    "d = pd.read_csv(\"data/generated/augmented_BT_EN.csv\")\n",
    "len(d)"
   ]
  },
  {
   "cell_type": "markdown",
   "id": "c13f4a97-c2d0-4b8e-a5d8-412bec658e82",
   "metadata": {},
   "source": [
    "<hr>"
   ]
  },
  {
   "cell_type": "markdown",
   "id": "eded972e-2167-42dc-993b-1572e4cdbb02",
   "metadata": {},
   "source": [
    "https://github.com/makcedward/nlpaug/blob/master/example/textual_augmenter.ipynb"
   ]
  },
  {
   "cell_type": "raw",
   "id": "af2205a1-b2bd-492e-9d5a-d93267d151d4",
   "metadata": {},
   "source": [
    "# Synonym augmenter Wordnet\n",
    "aug = naw.SynonymAug(aug_src=\"wordnet\")\n",
    "# text = \"Der schöner Fuchs springt um den Baum herum\"\n",
    "text = df.loc[14989]['description']\n",
    "augmented_text = aug.augment(text)\n",
    "print(text)\n",
    "print(augmented_text[0])"
   ]
  },
  {
   "cell_type": "raw",
   "id": "ef38b72d-a90c-466f-b4f7-ecccb00b4993",
   "metadata": {},
   "source": [
    "# Synonym augmenter Word2vec\n",
    "aug = naw.SynonymAug()\n",
    "# text = \"Der schöner Fuchs springt um den Baum herum\"\n",
    "text = df.loc[14989]['description']\n",
    "augmented_text = aug.augment(text)\n",
    "print(text)\n",
    "print(augmented_text[0])"
   ]
  },
  {
   "cell_type": "raw",
   "id": "f13c7177-34af-4238-aa4a-f46e81d101da",
   "metadata": {},
   "source": [
    "# Substitue word randomly by word embeddings similarity\n",
    "# text = \"Der schöner Fuchs springt um den Baum herum\"\n",
    "text = df.loc[14989]['description']\n",
    "aug = naw.ContextualWordEmbsAug(\n",
    "    model_path='bert-base-uncased', action=\"substitute\")\n",
    "\n",
    "augmented_text = aug.augment(text)\n",
    "print(text)\n",
    "print(augmented_text[0])"
   ]
  },
  {
   "cell_type": "raw",
   "id": "136f5950-eb8d-45a3-b402-a73e853635cc",
   "metadata": {},
   "source": [
    "# Insert word by e.g word2vec similarity\n",
    "# model_type: word2vec, glove or fasttext\n",
    "# text = \"Der schöner Fuchs springt um den Baum herum\"\n",
    "text = df.loc[14989]['description']\n",
    "\n",
    "aug = naw.ContextualWordEmbsAug(\n",
    "    model_path='bert-base-uncased', action=\"insert\")\n",
    "\n",
    "augmented_text = aug.augment(text)\n",
    "print(text)\n",
    "print(augmented_text[0])"
   ]
  },
  {
   "cell_type": "raw",
   "id": "d058d8ae-e6da-4874-93b5-0b91fd6c8273",
   "metadata": {},
   "source": [
    "# Sentence augmenter\n",
    "text = \"Der schöner Fuchs springt um den Baum herum\"\n",
    "aug = nas.ContextualWordEmbsForSentenceAug(model_path='gpt2')\n",
    "augmented_text = aug.augment(text)\n",
    "print(augmented_text)"
   ]
  },
  {
   "cell_type": "code",
   "execution_count": null,
   "id": "4ffed38c-4e07-4dfe-94d3-ab5b0de5950e",
   "metadata": {},
   "outputs": [],
   "source": []
  }
 ],
 "metadata": {
  "kernelspec": {
   "display_name": "tb_venv",
   "language": "python",
   "name": "tb_venv"
  },
  "language_info": {
   "codemirror_mode": {
    "name": "ipython",
    "version": 3
   },
   "file_extension": ".py",
   "mimetype": "text/x-python",
   "name": "python",
   "nbconvert_exporter": "python",
   "pygments_lexer": "ipython3",
   "version": "3.11.8"
  }
 },
 "nbformat": 4,
 "nbformat_minor": 5
}
