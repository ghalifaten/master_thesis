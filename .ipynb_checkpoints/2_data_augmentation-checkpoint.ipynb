{
 "cells": [
  {
   "cell_type": "markdown",
   "id": "750204c7-04f9-4514-81f5-8ef9e23ff563",
   "metadata": {},
   "source": [
    "This notebook is made to explore different ways of text augmentation. <hr>"
   ]
  },
  {
   "cell_type": "code",
   "execution_count": 1,
   "id": "86421d96-e57c-4afd-b7b4-0c94a44d6f20",
   "metadata": {},
   "outputs": [],
   "source": [
    "import warnings\n",
    "warnings.filterwarnings(\"ignore\")"
   ]
  },
  {
   "cell_type": "code",
   "execution_count": 2,
   "id": "dceb88eb-327d-4ce8-ab5e-696f5ddd61e4",
   "metadata": {},
   "outputs": [],
   "source": [
    "import pandas as pd\n",
    "import nlpaug.augmenter.word as naw\n",
    "import nlpaug.augmenter.sentence as nas\n",
    "from textaugment import EDA"
   ]
  },
  {
   "cell_type": "code",
   "execution_count": 3,
   "id": "d316e165-e3b0-4ba5-ab13-50d09ff5d18e",
   "metadata": {},
   "outputs": [],
   "source": [
    "t = EDA()\n",
    "\n",
    "# Synonym replacement\n",
    "def augment_by_sr(df, output_file_suff, n=2):\n",
    "    _df = df.copy()\n",
    "    _df['description'] = _df['description'].apply(lambda text: t.synonym_replacement(text, n=n))\n",
    "    _df[\"word_count\"] = _df[\"description\"].apply(lambda s: len(s.split()))\n",
    "    _df[\"taskId\"] = _df[\"taskId\"] + \"_SR\"\n",
    "    _df.to_csv(\"data/augmented_SR_\"+output_file_suff+\".csv\", index_label=False)\n",
    "\n",
    "# Random insertion\n",
    "def augment_by_ri(df, output_file_suff, n=2):\n",
    "    _df = df.copy()\n",
    "    _df['description'] = _df['description'].apply(lambda text: t.random_insertion(text, n=n))\n",
    "    _df[\"word_count\"] = _df[\"description\"].apply(lambda s: len(s.split()))\n",
    "    _df[\"taskId\"] = _df[\"taskId\"] + \"_RI\"\n",
    "    _df.to_csv(\"data/augmented_RI_\"+output_file_suff+\".csv\", index_label=False)\n",
    "\n",
    "# Random swap\n",
    "def augment_by_rs(df, output_file_suff):\n",
    "    _df = df.copy()\n",
    "    _df['description'] = _df['description'].apply(lambda text: t.random_swap(text))\n",
    "    _df[\"word_count\"] = _df[\"description\"].apply(lambda s: len(s.split()))\n",
    "    _df[\"taskId\"] = _df[\"taskId\"] + \"_RS\"\n",
    "    _df.to_csv(\"data/augmented_RS_\"+output_file_suff+\".csv\", index_label=False)\n",
    "\n",
    "# Random deletion\n",
    "def augment_by_rd(df, output_file_suff, p=0.4):\n",
    "    _df = df.copy()\n",
    "    _df['description'] = _df['description'].apply(lambda text: t.random_deletion(text, p=p))\n",
    "    _df[\"word_count\"] = _df[\"description\"].apply(lambda s: len(s.split())) \n",
    "    _df[\"taskId\"] = _df[\"taskId\"] + \"_RD\"\n",
    "    _df.to_csv(\"data/augmented_RD_\"+output_file_suff+\".csv\", index_label=False)"
   ]
  },
  {
   "cell_type": "code",
   "execution_count": 4,
   "id": "85be1fd1-9edb-4ab5-a5e2-a3065f2d64ab",
   "metadata": {},
   "outputs": [],
   "source": [
    "# Back Translation\n",
    "def augment_by_bt(df, output_file_suff):\n",
    "    if output_file_suff == \"EN\": \n",
    "        from_model_name = 'facebook/wmt19-en-de'\n",
    "        to_model_name = 'facebook/wmt19-de-en'\n",
    "    elif output_file_suff == \"DE\": \n",
    "        from_model_name = 'facebook/wmt19-de-en' \n",
    "        to_model_name = 'facebook/wmt19-en-de'\n",
    "    else:\n",
    "        raise \"Bad output_file_suff\"\n",
    "        \n",
    "    back_translation_aug = naw.BackTranslationAug(\n",
    "        from_model_name=from_model_name,\n",
    "        to_model_name=to_model_name\n",
    "        )\n",
    "    _df = df.copy()\n",
    "    _df['description'] = _df['description'].apply(lambda text: back_translation_aug.augment(text)[0])\n",
    "    _df[\"word_count\"] = _df[\"description\"].apply(lambda s: len(s.split())) \n",
    "    _df[\"taskId\"] = _df[\"taskId\"] + \"_BT\"\n",
    "    _df.to_csv(\"data/augmented_BT_\"+output_file_suff+\".csv\", index_label=False)"
   ]
  },
  {
   "cell_type": "markdown",
   "id": "a9c18572-f4aa-4a46-a0e2-9641222aa219",
   "metadata": {},
   "source": [
    "<hr>"
   ]
  },
  {
   "cell_type": "code",
   "execution_count": 5,
   "id": "c3cb4ba1-df65-4aba-8622-4b962973afcd",
   "metadata": {},
   "outputs": [],
   "source": [
    "df_en = pd.read_csv(\"data/open_tasks_EN.csv\").dropna(subset=[\"description\"]) \n",
    "df_de = pd.read_csv(\"data/open_tasks_DE.csv\").dropna(subset=[\"description\"]) "
   ]
  },
  {
   "cell_type": "code",
   "execution_count": 6,
   "id": "4498c447-8a8d-47f8-a4db-a159f780918a",
   "metadata": {},
   "outputs": [
    {
     "data": {
      "text/plain": [
       "(1556, 299)"
      ]
     },
     "execution_count": 6,
     "metadata": {},
     "output_type": "execute_result"
    }
   ],
   "source": [
    "len(df_de), len(df_en)"
   ]
  },
  {
   "cell_type": "code",
   "execution_count": 7,
   "id": "c2c9d85d-f906-4025-9f6c-04b06dbe217c",
   "metadata": {},
   "outputs": [],
   "source": [
    "# remove test descriptions before augmentation\n",
    "df_en = df_en[df_en[\"word_count\"] > 4]\n",
    "df_de = df_de[df_de[\"word_count\"] > 4]"
   ]
  },
  {
   "cell_type": "code",
   "execution_count": 8,
   "id": "2581f867-5264-415e-89df-caee2ec9f4ef",
   "metadata": {},
   "outputs": [
    {
     "name": "stderr",
     "output_type": "stream",
     "text": [
      "Some weights of FSMTForConditionalGeneration were not initialized from the model checkpoint at facebook/wmt19-en-de and are newly initialized: ['model.decoder.embed_positions.weight', 'model.encoder.embed_positions.weight']\n",
      "You should probably TRAIN this model on a down-stream task to be able to use it for predictions and inference.\n",
      "Some weights of FSMTForConditionalGeneration were not initialized from the model checkpoint at facebook/wmt19-de-en and are newly initialized: ['model.decoder.embed_positions.weight', 'model.encoder.embed_positions.weight']\n",
      "You should probably TRAIN this model on a down-stream task to be able to use it for predictions and inference.\n"
     ]
    },
    {
     "ename": "KeyboardInterrupt",
     "evalue": "",
     "output_type": "error",
     "traceback": [
      "\u001b[0;31m---------------------------------------------------------------------------\u001b[0m",
      "\u001b[0;31mKeyboardInterrupt\u001b[0m                         Traceback (most recent call last)",
      "Cell \u001b[0;32mIn[8], line 6\u001b[0m\n\u001b[1;32m      4\u001b[0m augment_by_rs(df, suff)\n\u001b[1;32m      5\u001b[0m augment_by_rd(df, suff)\n\u001b[0;32m----> 6\u001b[0m augment_by_bt(df, suff)\n",
      "Cell \u001b[0;32mIn[4], line 17\u001b[0m, in \u001b[0;36maugment_by_bt\u001b[0;34m(df, output_file_suff)\u001b[0m\n\u001b[1;32m     12\u001b[0m back_translation_aug \u001b[38;5;241m=\u001b[39m naw\u001b[38;5;241m.\u001b[39mBackTranslationAug(\n\u001b[1;32m     13\u001b[0m     from_model_name\u001b[38;5;241m=\u001b[39mfrom_model_name,\n\u001b[1;32m     14\u001b[0m     to_model_name\u001b[38;5;241m=\u001b[39mto_model_name\n\u001b[1;32m     15\u001b[0m     )\n\u001b[1;32m     16\u001b[0m _df \u001b[38;5;241m=\u001b[39m df\u001b[38;5;241m.\u001b[39mcopy()\n\u001b[0;32m---> 17\u001b[0m _df[\u001b[38;5;124m'\u001b[39m\u001b[38;5;124mdescription\u001b[39m\u001b[38;5;124m'\u001b[39m] \u001b[38;5;241m=\u001b[39m _df[\u001b[38;5;124m'\u001b[39m\u001b[38;5;124mdescription\u001b[39m\u001b[38;5;124m'\u001b[39m]\u001b[38;5;241m.\u001b[39mapply(\u001b[38;5;28;01mlambda\u001b[39;00m text: back_translation_aug\u001b[38;5;241m.\u001b[39maugment(text)[\u001b[38;5;241m0\u001b[39m])\n\u001b[1;32m     18\u001b[0m _df[\u001b[38;5;124m\"\u001b[39m\u001b[38;5;124mword_count\u001b[39m\u001b[38;5;124m\"\u001b[39m] \u001b[38;5;241m=\u001b[39m _df[\u001b[38;5;124m\"\u001b[39m\u001b[38;5;124mdescription\u001b[39m\u001b[38;5;124m\"\u001b[39m]\u001b[38;5;241m.\u001b[39mapply(\u001b[38;5;28;01mlambda\u001b[39;00m s: \u001b[38;5;28mlen\u001b[39m(s\u001b[38;5;241m.\u001b[39msplit())) \n\u001b[1;32m     19\u001b[0m _df[\u001b[38;5;124m\"\u001b[39m\u001b[38;5;124mtaskId\u001b[39m\u001b[38;5;124m\"\u001b[39m] \u001b[38;5;241m=\u001b[39m _df[\u001b[38;5;124m\"\u001b[39m\u001b[38;5;124mtaskId\u001b[39m\u001b[38;5;124m\"\u001b[39m] \u001b[38;5;241m+\u001b[39m \u001b[38;5;124m\"\u001b[39m\u001b[38;5;124m_BT\u001b[39m\u001b[38;5;124m\"\u001b[39m\n",
      "File \u001b[0;32m~/anaconda3/envs/tb_venv/lib/python3.11/site-packages/pandas/core/series.py:4764\u001b[0m, in \u001b[0;36mSeries.apply\u001b[0;34m(self, func, convert_dtype, args, by_row, **kwargs)\u001b[0m\n\u001b[1;32m   4629\u001b[0m \u001b[38;5;28;01mdef\u001b[39;00m \u001b[38;5;21mapply\u001b[39m(\n\u001b[1;32m   4630\u001b[0m     \u001b[38;5;28mself\u001b[39m,\n\u001b[1;32m   4631\u001b[0m     func: AggFuncType,\n\u001b[0;32m   (...)\u001b[0m\n\u001b[1;32m   4636\u001b[0m     \u001b[38;5;241m*\u001b[39m\u001b[38;5;241m*\u001b[39mkwargs,\n\u001b[1;32m   4637\u001b[0m ) \u001b[38;5;241m-\u001b[39m\u001b[38;5;241m>\u001b[39m DataFrame \u001b[38;5;241m|\u001b[39m Series:\n\u001b[1;32m   4638\u001b[0m \u001b[38;5;250m    \u001b[39m\u001b[38;5;124;03m\"\"\"\u001b[39;00m\n\u001b[1;32m   4639\u001b[0m \u001b[38;5;124;03m    Invoke function on values of Series.\u001b[39;00m\n\u001b[1;32m   4640\u001b[0m \n\u001b[0;32m   (...)\u001b[0m\n\u001b[1;32m   4755\u001b[0m \u001b[38;5;124;03m    dtype: float64\u001b[39;00m\n\u001b[1;32m   4756\u001b[0m \u001b[38;5;124;03m    \"\"\"\u001b[39;00m\n\u001b[1;32m   4757\u001b[0m     \u001b[38;5;28;01mreturn\u001b[39;00m SeriesApply(\n\u001b[1;32m   4758\u001b[0m         \u001b[38;5;28mself\u001b[39m,\n\u001b[1;32m   4759\u001b[0m         func,\n\u001b[1;32m   4760\u001b[0m         convert_dtype\u001b[38;5;241m=\u001b[39mconvert_dtype,\n\u001b[1;32m   4761\u001b[0m         by_row\u001b[38;5;241m=\u001b[39mby_row,\n\u001b[1;32m   4762\u001b[0m         args\u001b[38;5;241m=\u001b[39margs,\n\u001b[1;32m   4763\u001b[0m         kwargs\u001b[38;5;241m=\u001b[39mkwargs,\n\u001b[0;32m-> 4764\u001b[0m     )\u001b[38;5;241m.\u001b[39mapply()\n",
      "File \u001b[0;32m~/anaconda3/envs/tb_venv/lib/python3.11/site-packages/pandas/core/apply.py:1209\u001b[0m, in \u001b[0;36mSeriesApply.apply\u001b[0;34m(self)\u001b[0m\n\u001b[1;32m   1206\u001b[0m     \u001b[38;5;28;01mreturn\u001b[39;00m \u001b[38;5;28mself\u001b[39m\u001b[38;5;241m.\u001b[39mapply_compat()\n\u001b[1;32m   1208\u001b[0m \u001b[38;5;66;03m# self.func is Callable\u001b[39;00m\n\u001b[0;32m-> 1209\u001b[0m \u001b[38;5;28;01mreturn\u001b[39;00m \u001b[38;5;28mself\u001b[39m\u001b[38;5;241m.\u001b[39mapply_standard()\n",
      "File \u001b[0;32m~/anaconda3/envs/tb_venv/lib/python3.11/site-packages/pandas/core/apply.py:1289\u001b[0m, in \u001b[0;36mSeriesApply.apply_standard\u001b[0;34m(self)\u001b[0m\n\u001b[1;32m   1283\u001b[0m \u001b[38;5;66;03m# row-wise access\u001b[39;00m\n\u001b[1;32m   1284\u001b[0m \u001b[38;5;66;03m# apply doesn't have a `na_action` keyword and for backward compat reasons\u001b[39;00m\n\u001b[1;32m   1285\u001b[0m \u001b[38;5;66;03m# we need to give `na_action=\"ignore\"` for categorical data.\u001b[39;00m\n\u001b[1;32m   1286\u001b[0m \u001b[38;5;66;03m# TODO: remove the `na_action=\"ignore\"` when that default has been changed in\u001b[39;00m\n\u001b[1;32m   1287\u001b[0m \u001b[38;5;66;03m#  Categorical (GH51645).\u001b[39;00m\n\u001b[1;32m   1288\u001b[0m action \u001b[38;5;241m=\u001b[39m \u001b[38;5;124m\"\u001b[39m\u001b[38;5;124mignore\u001b[39m\u001b[38;5;124m\"\u001b[39m \u001b[38;5;28;01mif\u001b[39;00m \u001b[38;5;28misinstance\u001b[39m(obj\u001b[38;5;241m.\u001b[39mdtype, CategoricalDtype) \u001b[38;5;28;01melse\u001b[39;00m \u001b[38;5;28;01mNone\u001b[39;00m\n\u001b[0;32m-> 1289\u001b[0m mapped \u001b[38;5;241m=\u001b[39m obj\u001b[38;5;241m.\u001b[39m_map_values(\n\u001b[1;32m   1290\u001b[0m     mapper\u001b[38;5;241m=\u001b[39mcurried, na_action\u001b[38;5;241m=\u001b[39maction, convert\u001b[38;5;241m=\u001b[39m\u001b[38;5;28mself\u001b[39m\u001b[38;5;241m.\u001b[39mconvert_dtype\n\u001b[1;32m   1291\u001b[0m )\n\u001b[1;32m   1293\u001b[0m \u001b[38;5;28;01mif\u001b[39;00m \u001b[38;5;28mlen\u001b[39m(mapped) \u001b[38;5;129;01mand\u001b[39;00m \u001b[38;5;28misinstance\u001b[39m(mapped[\u001b[38;5;241m0\u001b[39m], ABCSeries):\n\u001b[1;32m   1294\u001b[0m     \u001b[38;5;66;03m# GH#43986 Need to do list(mapped) in order to get treated as nested\u001b[39;00m\n\u001b[1;32m   1295\u001b[0m     \u001b[38;5;66;03m#  See also GH#25959 regarding EA support\u001b[39;00m\n\u001b[1;32m   1296\u001b[0m     \u001b[38;5;28;01mreturn\u001b[39;00m obj\u001b[38;5;241m.\u001b[39m_constructor_expanddim(\u001b[38;5;28mlist\u001b[39m(mapped), index\u001b[38;5;241m=\u001b[39mobj\u001b[38;5;241m.\u001b[39mindex)\n",
      "File \u001b[0;32m~/anaconda3/envs/tb_venv/lib/python3.11/site-packages/pandas/core/base.py:921\u001b[0m, in \u001b[0;36mIndexOpsMixin._map_values\u001b[0;34m(self, mapper, na_action, convert)\u001b[0m\n\u001b[1;32m    918\u001b[0m \u001b[38;5;28;01mif\u001b[39;00m \u001b[38;5;28misinstance\u001b[39m(arr, ExtensionArray):\n\u001b[1;32m    919\u001b[0m     \u001b[38;5;28;01mreturn\u001b[39;00m arr\u001b[38;5;241m.\u001b[39mmap(mapper, na_action\u001b[38;5;241m=\u001b[39mna_action)\n\u001b[0;32m--> 921\u001b[0m \u001b[38;5;28;01mreturn\u001b[39;00m algorithms\u001b[38;5;241m.\u001b[39mmap_array(arr, mapper, na_action\u001b[38;5;241m=\u001b[39mna_action, convert\u001b[38;5;241m=\u001b[39mconvert)\n",
      "File \u001b[0;32m~/anaconda3/envs/tb_venv/lib/python3.11/site-packages/pandas/core/algorithms.py:1814\u001b[0m, in \u001b[0;36mmap_array\u001b[0;34m(arr, mapper, na_action, convert)\u001b[0m\n\u001b[1;32m   1812\u001b[0m values \u001b[38;5;241m=\u001b[39m arr\u001b[38;5;241m.\u001b[39mastype(\u001b[38;5;28mobject\u001b[39m, copy\u001b[38;5;241m=\u001b[39m\u001b[38;5;28;01mFalse\u001b[39;00m)\n\u001b[1;32m   1813\u001b[0m \u001b[38;5;28;01mif\u001b[39;00m na_action \u001b[38;5;129;01mis\u001b[39;00m \u001b[38;5;28;01mNone\u001b[39;00m:\n\u001b[0;32m-> 1814\u001b[0m     \u001b[38;5;28;01mreturn\u001b[39;00m lib\u001b[38;5;241m.\u001b[39mmap_infer(values, mapper, convert\u001b[38;5;241m=\u001b[39mconvert)\n\u001b[1;32m   1815\u001b[0m \u001b[38;5;28;01melse\u001b[39;00m:\n\u001b[1;32m   1816\u001b[0m     \u001b[38;5;28;01mreturn\u001b[39;00m lib\u001b[38;5;241m.\u001b[39mmap_infer_mask(\n\u001b[1;32m   1817\u001b[0m         values, mapper, mask\u001b[38;5;241m=\u001b[39misna(values)\u001b[38;5;241m.\u001b[39mview(np\u001b[38;5;241m.\u001b[39muint8), convert\u001b[38;5;241m=\u001b[39mconvert\n\u001b[1;32m   1818\u001b[0m     )\n",
      "File \u001b[0;32mlib.pyx:2926\u001b[0m, in \u001b[0;36mpandas._libs.lib.map_infer\u001b[0;34m()\u001b[0m\n",
      "Cell \u001b[0;32mIn[4], line 17\u001b[0m, in \u001b[0;36maugment_by_bt.<locals>.<lambda>\u001b[0;34m(text)\u001b[0m\n\u001b[1;32m     12\u001b[0m back_translation_aug \u001b[38;5;241m=\u001b[39m naw\u001b[38;5;241m.\u001b[39mBackTranslationAug(\n\u001b[1;32m     13\u001b[0m     from_model_name\u001b[38;5;241m=\u001b[39mfrom_model_name,\n\u001b[1;32m     14\u001b[0m     to_model_name\u001b[38;5;241m=\u001b[39mto_model_name\n\u001b[1;32m     15\u001b[0m     )\n\u001b[1;32m     16\u001b[0m _df \u001b[38;5;241m=\u001b[39m df\u001b[38;5;241m.\u001b[39mcopy()\n\u001b[0;32m---> 17\u001b[0m _df[\u001b[38;5;124m'\u001b[39m\u001b[38;5;124mdescription\u001b[39m\u001b[38;5;124m'\u001b[39m] \u001b[38;5;241m=\u001b[39m _df[\u001b[38;5;124m'\u001b[39m\u001b[38;5;124mdescription\u001b[39m\u001b[38;5;124m'\u001b[39m]\u001b[38;5;241m.\u001b[39mapply(\u001b[38;5;28;01mlambda\u001b[39;00m text: back_translation_aug\u001b[38;5;241m.\u001b[39maugment(text)[\u001b[38;5;241m0\u001b[39m])\n\u001b[1;32m     18\u001b[0m _df[\u001b[38;5;124m\"\u001b[39m\u001b[38;5;124mword_count\u001b[39m\u001b[38;5;124m\"\u001b[39m] \u001b[38;5;241m=\u001b[39m _df[\u001b[38;5;124m\"\u001b[39m\u001b[38;5;124mdescription\u001b[39m\u001b[38;5;124m\"\u001b[39m]\u001b[38;5;241m.\u001b[39mapply(\u001b[38;5;28;01mlambda\u001b[39;00m s: \u001b[38;5;28mlen\u001b[39m(s\u001b[38;5;241m.\u001b[39msplit())) \n\u001b[1;32m     19\u001b[0m _df[\u001b[38;5;124m\"\u001b[39m\u001b[38;5;124mtaskId\u001b[39m\u001b[38;5;124m\"\u001b[39m] \u001b[38;5;241m=\u001b[39m _df[\u001b[38;5;124m\"\u001b[39m\u001b[38;5;124mtaskId\u001b[39m\u001b[38;5;124m\"\u001b[39m] \u001b[38;5;241m+\u001b[39m \u001b[38;5;124m\"\u001b[39m\u001b[38;5;124m_BT\u001b[39m\u001b[38;5;124m\"\u001b[39m\n",
      "File \u001b[0;32m~/anaconda3/envs/tb_venv/lib/python3.11/site-packages/nlpaug/base_augmenter.py:98\u001b[0m, in \u001b[0;36mAugmenter.augment\u001b[0;34m(self, data, n, num_thread)\u001b[0m\n\u001b[1;32m     96\u001b[0m \u001b[38;5;28;01melif\u001b[39;00m \u001b[38;5;28mself\u001b[39m\u001b[38;5;241m.\u001b[39m\u001b[38;5;18m__class__\u001b[39m\u001b[38;5;241m.\u001b[39m\u001b[38;5;18m__name__\u001b[39m \u001b[38;5;129;01min\u001b[39;00m [\u001b[38;5;124m'\u001b[39m\u001b[38;5;124mAbstSummAug\u001b[39m\u001b[38;5;124m'\u001b[39m, \u001b[38;5;124m'\u001b[39m\u001b[38;5;124mBackTranslationAug\u001b[39m\u001b[38;5;124m'\u001b[39m, \u001b[38;5;124m'\u001b[39m\u001b[38;5;124mContextualWordEmbsAug\u001b[39m\u001b[38;5;124m'\u001b[39m, \u001b[38;5;124m'\u001b[39m\u001b[38;5;124mContextualWordEmbsForSentenceAug\u001b[39m\u001b[38;5;124m'\u001b[39m]:\n\u001b[1;32m     97\u001b[0m     \u001b[38;5;28;01mfor\u001b[39;00m _ \u001b[38;5;129;01min\u001b[39;00m \u001b[38;5;28mrange\u001b[39m(aug_num):\n\u001b[0;32m---> 98\u001b[0m         result \u001b[38;5;241m=\u001b[39m action_fx(clean_data)\n\u001b[1;32m     99\u001b[0m         \u001b[38;5;28;01mif\u001b[39;00m \u001b[38;5;28misinstance\u001b[39m(result, \u001b[38;5;28mlist\u001b[39m):\n\u001b[1;32m    100\u001b[0m             augmented_results\u001b[38;5;241m.\u001b[39mextend(result)\n",
      "File \u001b[0;32m~/anaconda3/envs/tb_venv/lib/python3.11/site-packages/nlpaug/augmenter/word/back_translation.py:70\u001b[0m, in \u001b[0;36mBackTranslationAug.substitute\u001b[0;34m(self, data, n)\u001b[0m\n\u001b[1;32m     67\u001b[0m \u001b[38;5;28;01mif\u001b[39;00m \u001b[38;5;129;01mnot\u001b[39;00m data:\n\u001b[1;32m     68\u001b[0m     \u001b[38;5;28;01mreturn\u001b[39;00m data\n\u001b[0;32m---> 70\u001b[0m augmented_text \u001b[38;5;241m=\u001b[39m \u001b[38;5;28mself\u001b[39m\u001b[38;5;241m.\u001b[39mmodel\u001b[38;5;241m.\u001b[39mpredict(data)\n\u001b[1;32m     71\u001b[0m \u001b[38;5;28;01mreturn\u001b[39;00m augmented_text\n",
      "File \u001b[0;32m~/anaconda3/envs/tb_venv/lib/python3.11/site-packages/nlpaug/model/lang_models/machine_translation_transformers.py:39\u001b[0m, in \u001b[0;36mMtTransformers.predict\u001b[0;34m(self, texts, target_words, n)\u001b[0m\n\u001b[1;32m     38\u001b[0m \u001b[38;5;28;01mdef\u001b[39;00m \u001b[38;5;21mpredict\u001b[39m(\u001b[38;5;28mself\u001b[39m, texts, target_words\u001b[38;5;241m=\u001b[39m\u001b[38;5;28;01mNone\u001b[39;00m, n\u001b[38;5;241m=\u001b[39m\u001b[38;5;241m1\u001b[39m):\n\u001b[0;32m---> 39\u001b[0m     src_translated_texts \u001b[38;5;241m=\u001b[39m \u001b[38;5;28mself\u001b[39m\u001b[38;5;241m.\u001b[39mtranslate_one_step_batched(texts, \u001b[38;5;28mself\u001b[39m\u001b[38;5;241m.\u001b[39msrc_tokenizer, \u001b[38;5;28mself\u001b[39m\u001b[38;5;241m.\u001b[39msrc_model)\n\u001b[1;32m     40\u001b[0m     tgt_translated_texts \u001b[38;5;241m=\u001b[39m \u001b[38;5;28mself\u001b[39m\u001b[38;5;241m.\u001b[39mtranslate_one_step_batched(src_translated_texts, \u001b[38;5;28mself\u001b[39m\u001b[38;5;241m.\u001b[39mtgt_tokenizer, \u001b[38;5;28mself\u001b[39m\u001b[38;5;241m.\u001b[39mtgt_model)\n\u001b[1;32m     42\u001b[0m     \u001b[38;5;28;01mreturn\u001b[39;00m tgt_translated_texts\n",
      "File \u001b[0;32m~/anaconda3/envs/tb_venv/lib/python3.11/site-packages/nlpaug/model/lang_models/machine_translation_transformers.py:62\u001b[0m, in \u001b[0;36mMtTransformers.translate_one_step_batched\u001b[0;34m(self, data, tokenizer, model)\u001b[0m\n\u001b[1;32m     59\u001b[0m         batch \u001b[38;5;241m=\u001b[39m \u001b[38;5;28mtuple\u001b[39m(t\u001b[38;5;241m.\u001b[39mto(\u001b[38;5;28mself\u001b[39m\u001b[38;5;241m.\u001b[39mdevice) \u001b[38;5;28;01mfor\u001b[39;00m t \u001b[38;5;129;01min\u001b[39;00m batch)\n\u001b[1;32m     60\u001b[0m         input_ids, attention_mask \u001b[38;5;241m=\u001b[39m batch\n\u001b[0;32m---> 62\u001b[0m         translated_ids_batch \u001b[38;5;241m=\u001b[39m model\u001b[38;5;241m.\u001b[39mgenerate(\n\u001b[1;32m     63\u001b[0m             input_ids\u001b[38;5;241m=\u001b[39minput_ids, attention_mask\u001b[38;5;241m=\u001b[39mattention_mask,\n\u001b[1;32m     64\u001b[0m             max_length\u001b[38;5;241m=\u001b[39m\u001b[38;5;28mself\u001b[39m\u001b[38;5;241m.\u001b[39mmax_length\n\u001b[1;32m     65\u001b[0m         )\n\u001b[1;32m     67\u001b[0m         all_translated_ids\u001b[38;5;241m.\u001b[39mappend(\n\u001b[1;32m     68\u001b[0m             translated_ids_batch\u001b[38;5;241m.\u001b[39mdetach()\u001b[38;5;241m.\u001b[39mcpu()\u001b[38;5;241m.\u001b[39mnumpy()\n\u001b[1;32m     69\u001b[0m         )\n\u001b[1;32m     71\u001b[0m all_translated_texts \u001b[38;5;241m=\u001b[39m []\n",
      "File \u001b[0;32m~/anaconda3/envs/tb_venv/lib/python3.11/site-packages/torch/utils/_contextlib.py:115\u001b[0m, in \u001b[0;36mcontext_decorator.<locals>.decorate_context\u001b[0;34m(*args, **kwargs)\u001b[0m\n\u001b[1;32m    112\u001b[0m \u001b[38;5;129m@functools\u001b[39m\u001b[38;5;241m.\u001b[39mwraps(func)\n\u001b[1;32m    113\u001b[0m \u001b[38;5;28;01mdef\u001b[39;00m \u001b[38;5;21mdecorate_context\u001b[39m(\u001b[38;5;241m*\u001b[39margs, \u001b[38;5;241m*\u001b[39m\u001b[38;5;241m*\u001b[39mkwargs):\n\u001b[1;32m    114\u001b[0m     \u001b[38;5;28;01mwith\u001b[39;00m ctx_factory():\n\u001b[0;32m--> 115\u001b[0m         \u001b[38;5;28;01mreturn\u001b[39;00m func(\u001b[38;5;241m*\u001b[39margs, \u001b[38;5;241m*\u001b[39m\u001b[38;5;241m*\u001b[39mkwargs)\n",
      "File \u001b[0;32m~/anaconda3/envs/tb_venv/lib/python3.11/site-packages/transformers/generation/utils.py:1795\u001b[0m, in \u001b[0;36mGenerationMixin.generate\u001b[0;34m(self, inputs, generation_config, logits_processor, stopping_criteria, prefix_allowed_tokens_fn, synced_gpus, assistant_model, streamer, negative_prompt_ids, negative_prompt_attention_mask, **kwargs)\u001b[0m\n\u001b[1;32m   1787\u001b[0m     input_ids, model_kwargs \u001b[38;5;241m=\u001b[39m \u001b[38;5;28mself\u001b[39m\u001b[38;5;241m.\u001b[39m_expand_inputs_for_generation(\n\u001b[1;32m   1788\u001b[0m         input_ids\u001b[38;5;241m=\u001b[39minput_ids,\n\u001b[1;32m   1789\u001b[0m         expand_size\u001b[38;5;241m=\u001b[39mgeneration_config\u001b[38;5;241m.\u001b[39mnum_beams,\n\u001b[1;32m   1790\u001b[0m         is_encoder_decoder\u001b[38;5;241m=\u001b[39m\u001b[38;5;28mself\u001b[39m\u001b[38;5;241m.\u001b[39mconfig\u001b[38;5;241m.\u001b[39mis_encoder_decoder,\n\u001b[1;32m   1791\u001b[0m         \u001b[38;5;241m*\u001b[39m\u001b[38;5;241m*\u001b[39mmodel_kwargs,\n\u001b[1;32m   1792\u001b[0m     )\n\u001b[1;32m   1794\u001b[0m     \u001b[38;5;66;03m# 14. run beam sample\u001b[39;00m\n\u001b[0;32m-> 1795\u001b[0m     result \u001b[38;5;241m=\u001b[39m \u001b[38;5;28mself\u001b[39m\u001b[38;5;241m.\u001b[39m_beam_search(\n\u001b[1;32m   1796\u001b[0m         input_ids,\n\u001b[1;32m   1797\u001b[0m         beam_scorer,\n\u001b[1;32m   1798\u001b[0m         logits_processor\u001b[38;5;241m=\u001b[39mprepared_logits_processor,\n\u001b[1;32m   1799\u001b[0m         logits_warper\u001b[38;5;241m=\u001b[39mprepared_logits_warper,\n\u001b[1;32m   1800\u001b[0m         stopping_criteria\u001b[38;5;241m=\u001b[39mprepared_stopping_criteria,\n\u001b[1;32m   1801\u001b[0m         generation_config\u001b[38;5;241m=\u001b[39mgeneration_config,\n\u001b[1;32m   1802\u001b[0m         synced_gpus\u001b[38;5;241m=\u001b[39msynced_gpus,\n\u001b[1;32m   1803\u001b[0m         \u001b[38;5;241m*\u001b[39m\u001b[38;5;241m*\u001b[39mmodel_kwargs,\n\u001b[1;32m   1804\u001b[0m     )\n\u001b[1;32m   1806\u001b[0m \u001b[38;5;28;01melif\u001b[39;00m generation_mode \u001b[38;5;241m==\u001b[39m GenerationMode\u001b[38;5;241m.\u001b[39mGROUP_BEAM_SEARCH:\n\u001b[1;32m   1807\u001b[0m     \u001b[38;5;66;03m# 11. prepare beam search scorer\u001b[39;00m\n\u001b[1;32m   1808\u001b[0m     beam_scorer \u001b[38;5;241m=\u001b[39m BeamSearchScorer(\n\u001b[1;32m   1809\u001b[0m         batch_size\u001b[38;5;241m=\u001b[39mbatch_size,\n\u001b[1;32m   1810\u001b[0m         num_beams\u001b[38;5;241m=\u001b[39mgeneration_config\u001b[38;5;241m.\u001b[39mnum_beams,\n\u001b[0;32m   (...)\u001b[0m\n\u001b[1;32m   1816\u001b[0m         max_length\u001b[38;5;241m=\u001b[39mgeneration_config\u001b[38;5;241m.\u001b[39mmax_length,\n\u001b[1;32m   1817\u001b[0m     )\n",
      "File \u001b[0;32m~/anaconda3/envs/tb_venv/lib/python3.11/site-packages/transformers/generation/utils.py:2742\u001b[0m, in \u001b[0;36mGenerationMixin._beam_search\u001b[0;34m(self, input_ids, beam_scorer, logits_processor, stopping_criteria, generation_config, synced_gpus, logits_warper, **model_kwargs)\u001b[0m\n\u001b[1;32m   2736\u001b[0m model_kwargs \u001b[38;5;241m=\u001b[39m \u001b[38;5;28mself\u001b[39m\u001b[38;5;241m.\u001b[39m_update_model_kwargs_for_generation(\n\u001b[1;32m   2737\u001b[0m     outputs,\n\u001b[1;32m   2738\u001b[0m     model_kwargs,\n\u001b[1;32m   2739\u001b[0m     is_encoder_decoder\u001b[38;5;241m=\u001b[39m\u001b[38;5;28mself\u001b[39m\u001b[38;5;241m.\u001b[39mconfig\u001b[38;5;241m.\u001b[39mis_encoder_decoder,\n\u001b[1;32m   2740\u001b[0m )\n\u001b[1;32m   2741\u001b[0m \u001b[38;5;28;01mif\u001b[39;00m model_kwargs\u001b[38;5;241m.\u001b[39mget(\u001b[38;5;124m\"\u001b[39m\u001b[38;5;124mpast_key_values\u001b[39m\u001b[38;5;124m\"\u001b[39m, \u001b[38;5;28;01mNone\u001b[39;00m) \u001b[38;5;129;01mis\u001b[39;00m \u001b[38;5;129;01mnot\u001b[39;00m \u001b[38;5;28;01mNone\u001b[39;00m:\n\u001b[0;32m-> 2742\u001b[0m     model_kwargs[\u001b[38;5;124m\"\u001b[39m\u001b[38;5;124mpast_key_values\u001b[39m\u001b[38;5;124m\"\u001b[39m] \u001b[38;5;241m=\u001b[39m \u001b[38;5;28mself\u001b[39m\u001b[38;5;241m.\u001b[39m_temporary_reorder_cache(\n\u001b[1;32m   2743\u001b[0m         model_kwargs[\u001b[38;5;124m\"\u001b[39m\u001b[38;5;124mpast_key_values\u001b[39m\u001b[38;5;124m\"\u001b[39m], beam_idx\n\u001b[1;32m   2744\u001b[0m     )\n\u001b[1;32m   2746\u001b[0m \u001b[38;5;28;01mif\u001b[39;00m return_dict_in_generate \u001b[38;5;129;01mand\u001b[39;00m output_scores:\n\u001b[1;32m   2747\u001b[0m     beam_indices \u001b[38;5;241m=\u001b[39m \u001b[38;5;28mtuple\u001b[39m((beam_indices[beam_idx[i]] \u001b[38;5;241m+\u001b[39m (beam_idx[i],) \u001b[38;5;28;01mfor\u001b[39;00m i \u001b[38;5;129;01min\u001b[39;00m \u001b[38;5;28mrange\u001b[39m(\u001b[38;5;28mlen\u001b[39m(beam_indices))))\n",
      "File \u001b[0;32m~/anaconda3/envs/tb_venv/lib/python3.11/site-packages/transformers/generation/utils.py:2496\u001b[0m, in \u001b[0;36mGenerationMixin._temporary_reorder_cache\u001b[0;34m(self, past_key_values, beam_idx)\u001b[0m\n\u001b[1;32m   2494\u001b[0m \u001b[38;5;66;03m# Exception 1: code path for models using the legacy cache format\u001b[39;00m\n\u001b[1;32m   2495\u001b[0m \u001b[38;5;28;01mif\u001b[39;00m \u001b[38;5;28misinstance\u001b[39m(past_key_values, (\u001b[38;5;28mtuple\u001b[39m, \u001b[38;5;28mlist\u001b[39m)):\n\u001b[0;32m-> 2496\u001b[0m     past_key_values \u001b[38;5;241m=\u001b[39m \u001b[38;5;28mself\u001b[39m\u001b[38;5;241m.\u001b[39m_reorder_cache(past_key_values, beam_idx)\n\u001b[1;32m   2497\u001b[0m \u001b[38;5;66;03m# Exception 2: models with different cache formats. These are limited to `DynamicCache` until their\u001b[39;00m\n\u001b[1;32m   2498\u001b[0m \u001b[38;5;66;03m# cache format is standardized, to avoid adding complexity to the codebase.\u001b[39;00m\n\u001b[1;32m   2499\u001b[0m \u001b[38;5;28;01melif\u001b[39;00m \u001b[38;5;124m\"\u001b[39m\u001b[38;5;124mbloom\u001b[39m\u001b[38;5;124m\"\u001b[39m \u001b[38;5;129;01min\u001b[39;00m model_class \u001b[38;5;129;01mor\u001b[39;00m \u001b[38;5;124m\"\u001b[39m\u001b[38;5;124mgptbigcode\u001b[39m\u001b[38;5;124m\"\u001b[39m \u001b[38;5;129;01min\u001b[39;00m model_class:\n",
      "File \u001b[0;32m~/anaconda3/envs/tb_venv/lib/python3.11/site-packages/transformers/models/fsmt/modeling_fsmt.py:1297\u001b[0m, in \u001b[0;36mFSMTForConditionalGeneration._reorder_cache\u001b[0;34m(past_key_values, beam_idx)\u001b[0m\n\u001b[1;32m   1294\u001b[0m reordered_past \u001b[38;5;241m=\u001b[39m []\n\u001b[1;32m   1295\u001b[0m \u001b[38;5;28;01mfor\u001b[39;00m layer_past \u001b[38;5;129;01min\u001b[39;00m past_key_values:\n\u001b[1;32m   1296\u001b[0m     \u001b[38;5;66;03m# get the correct batch idx from decoder layer's batch dim for cross and self-attn\u001b[39;00m\n\u001b[0;32m-> 1297\u001b[0m     layer_past_new \u001b[38;5;241m=\u001b[39m {\n\u001b[1;32m   1298\u001b[0m         attn_key: _reorder_buffer(attn_cache, beam_idx) \u001b[38;5;28;01mfor\u001b[39;00m attn_key, attn_cache \u001b[38;5;129;01min\u001b[39;00m layer_past\u001b[38;5;241m.\u001b[39mitems()\n\u001b[1;32m   1299\u001b[0m     }\n\u001b[1;32m   1300\u001b[0m     reordered_past\u001b[38;5;241m.\u001b[39mappend(layer_past_new)\n\u001b[1;32m   1301\u001b[0m \u001b[38;5;28;01mreturn\u001b[39;00m reordered_past\n",
      "File \u001b[0;32m~/anaconda3/envs/tb_venv/lib/python3.11/site-packages/transformers/models/fsmt/modeling_fsmt.py:1298\u001b[0m, in \u001b[0;36m<dictcomp>\u001b[0;34m(.0)\u001b[0m\n\u001b[1;32m   1294\u001b[0m reordered_past \u001b[38;5;241m=\u001b[39m []\n\u001b[1;32m   1295\u001b[0m \u001b[38;5;28;01mfor\u001b[39;00m layer_past \u001b[38;5;129;01min\u001b[39;00m past_key_values:\n\u001b[1;32m   1296\u001b[0m     \u001b[38;5;66;03m# get the correct batch idx from decoder layer's batch dim for cross and self-attn\u001b[39;00m\n\u001b[1;32m   1297\u001b[0m     layer_past_new \u001b[38;5;241m=\u001b[39m {\n\u001b[0;32m-> 1298\u001b[0m         attn_key: _reorder_buffer(attn_cache, beam_idx) \u001b[38;5;28;01mfor\u001b[39;00m attn_key, attn_cache \u001b[38;5;129;01min\u001b[39;00m layer_past\u001b[38;5;241m.\u001b[39mitems()\n\u001b[1;32m   1299\u001b[0m     }\n\u001b[1;32m   1300\u001b[0m     reordered_past\u001b[38;5;241m.\u001b[39mappend(layer_past_new)\n\u001b[1;32m   1301\u001b[0m \u001b[38;5;28;01mreturn\u001b[39;00m reordered_past\n",
      "File \u001b[0;32m~/anaconda3/envs/tb_venv/lib/python3.11/site-packages/transformers/models/fsmt/modeling_fsmt.py:851\u001b[0m, in \u001b[0;36m_reorder_buffer\u001b[0;34m(attn_cache, new_order)\u001b[0m\n\u001b[1;32m    849\u001b[0m \u001b[38;5;28;01mfor\u001b[39;00m k, input_buffer_k \u001b[38;5;129;01min\u001b[39;00m attn_cache\u001b[38;5;241m.\u001b[39mitems():\n\u001b[1;32m    850\u001b[0m     \u001b[38;5;28;01mif\u001b[39;00m input_buffer_k \u001b[38;5;129;01mis\u001b[39;00m \u001b[38;5;129;01mnot\u001b[39;00m \u001b[38;5;28;01mNone\u001b[39;00m:\n\u001b[0;32m--> 851\u001b[0m         attn_cache[k] \u001b[38;5;241m=\u001b[39m input_buffer_k\u001b[38;5;241m.\u001b[39mindex_select(\u001b[38;5;241m0\u001b[39m, new_order)\n\u001b[1;32m    852\u001b[0m \u001b[38;5;28;01mreturn\u001b[39;00m attn_cache\n",
      "\u001b[0;31mKeyboardInterrupt\u001b[0m: "
     ]
    }
   ],
   "source": [
    "for df, suff in zip([df_en, df_de], [\"EN\", \"DE\"]):\n",
    "    augment_by_sr(df, suff)\n",
    "    augment_by_ri(df, suff) \n",
    "    augment_by_rs(df, suff)\n",
    "    augment_by_rd(df, suff)\n",
    "    augment_by_bt(df, suff)"
   ]
  },
  {
   "cell_type": "markdown",
   "id": "c13f4a97-c2d0-4b8e-a5d8-412bec658e82",
   "metadata": {},
   "source": [
    "<hr>"
   ]
  },
  {
   "cell_type": "markdown",
   "id": "eded972e-2167-42dc-993b-1572e4cdbb02",
   "metadata": {},
   "source": [
    "https://github.com/makcedward/nlpaug/blob/master/example/textual_augmenter.ipynb"
   ]
  },
  {
   "cell_type": "raw",
   "id": "af2205a1-b2bd-492e-9d5a-d93267d151d4",
   "metadata": {},
   "source": [
    "# Synonym augmenter Wordnet\n",
    "aug = naw.SynonymAug(aug_src=\"wordnet\")\n",
    "# text = \"Der schöner Fuchs springt um den Baum herum\"\n",
    "text = df.loc[14989]['description']\n",
    "augmented_text = aug.augment(text)\n",
    "print(text)\n",
    "print(augmented_text[0])"
   ]
  },
  {
   "cell_type": "raw",
   "id": "ef38b72d-a90c-466f-b4f7-ecccb00b4993",
   "metadata": {},
   "source": [
    "# Synonym augmenter Word2vec\n",
    "aug = naw.SynonymAug()\n",
    "# text = \"Der schöner Fuchs springt um den Baum herum\"\n",
    "text = df.loc[14989]['description']\n",
    "augmented_text = aug.augment(text)\n",
    "print(text)\n",
    "print(augmented_text[0])"
   ]
  },
  {
   "cell_type": "raw",
   "id": "f13c7177-34af-4238-aa4a-f46e81d101da",
   "metadata": {},
   "source": [
    "# Substitue word randomly by word embeddings similarity\n",
    "# text = \"Der schöner Fuchs springt um den Baum herum\"\n",
    "text = df.loc[14989]['description']\n",
    "aug = naw.ContextualWordEmbsAug(\n",
    "    model_path='bert-base-uncased', action=\"substitute\")\n",
    "\n",
    "augmented_text = aug.augment(text)\n",
    "print(text)\n",
    "print(augmented_text[0])"
   ]
  },
  {
   "cell_type": "raw",
   "id": "136f5950-eb8d-45a3-b402-a73e853635cc",
   "metadata": {},
   "source": [
    "# Insert word by e.g word2vec similarity\n",
    "# model_type: word2vec, glove or fasttext\n",
    "# text = \"Der schöner Fuchs springt um den Baum herum\"\n",
    "text = df.loc[14989]['description']\n",
    "\n",
    "aug = naw.ContextualWordEmbsAug(\n",
    "    model_path='bert-base-uncased', action=\"insert\")\n",
    "\n",
    "augmented_text = aug.augment(text)\n",
    "print(text)\n",
    "print(augmented_text[0])"
   ]
  },
  {
   "cell_type": "raw",
   "id": "d058d8ae-e6da-4874-93b5-0b91fd6c8273",
   "metadata": {},
   "source": [
    "# Sentence augmenter\n",
    "text = \"Der schöner Fuchs springt um den Baum herum\"\n",
    "aug = nas.ContextualWordEmbsForSentenceAug(model_path='gpt2')\n",
    "augmented_text = aug.augment(text)\n",
    "print(augmented_text)"
   ]
  },
  {
   "cell_type": "code",
   "execution_count": null,
   "id": "4ffed38c-4e07-4dfe-94d3-ab5b0de5950e",
   "metadata": {},
   "outputs": [],
   "source": []
  }
 ],
 "metadata": {
  "kernelspec": {
   "display_name": "tb_venv",
   "language": "python",
   "name": "tb_venv"
  },
  "language_info": {
   "codemirror_mode": {
    "name": "ipython",
    "version": 3
   },
   "file_extension": ".py",
   "mimetype": "text/x-python",
   "name": "python",
   "nbconvert_exporter": "python",
   "pygments_lexer": "ipython3",
   "version": "3.11.8"
  }
 },
 "nbformat": 4,
 "nbformat_minor": 5
}
