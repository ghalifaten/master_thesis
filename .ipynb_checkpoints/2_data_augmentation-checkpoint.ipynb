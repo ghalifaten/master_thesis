{
 "cells": [
  {
   "cell_type": "code",
   "execution_count": 1,
   "id": "86421d96-e57c-4afd-b7b4-0c94a44d6f20",
   "metadata": {},
   "outputs": [],
   "source": [
    "import warnings\n",
    "warnings.filterwarnings(\"ignore\")"
   ]
  },
  {
   "cell_type": "code",
   "execution_count": 2,
   "id": "dceb88eb-327d-4ce8-ab5e-696f5ddd61e4",
   "metadata": {},
   "outputs": [],
   "source": [
    "import pandas as pd\n",
    "import nlpaug.augmenter.word as naw\n",
    "import nlpaug.augmenter.sentence as nas\n",
    "from textaugment import EDA"
   ]
  },
  {
   "cell_type": "code",
   "execution_count": 3,
   "id": "d316e165-e3b0-4ba5-ab13-50d09ff5d18e",
   "metadata": {},
   "outputs": [],
   "source": [
    "t = EDA()\n",
    "\n",
    "# Synonym replacement\n",
    "def augment_by_sr(df, output_file_suff, n=2):\n",
    "    df['description'] = df['description'].apply(lambda text: t.synonym_replacement(text, n=n))\n",
    "    df.to_csv(\"data/augmented_SR_\"+output_file_suff+\".csv\", index_label=False)\n",
    "\n",
    "# Random insertion\n",
    "def augment_by_ri(df, output_file_suff, n=2):\n",
    "    df['description'] = df['description'].apply(lambda text: t.random_insertion(text, n=n))\n",
    "    df.to_csv(\"data/augmented_RI_\"+output_file_suff+\".csv\", index_label=False)\n",
    "\n",
    "# Random swap\n",
    "def augment_by_rs(df, output_file_suff):\n",
    "    df['description'] = df['description'].apply(lambda text: t.random_swap(text))\n",
    "    df.to_csv(\"data/augmented_RS_\"+output_file_suff+\".csv\", index_label=False)\n",
    "\n",
    "# Random deletion\n",
    "def augment_by_rd(df, output_file_suff, p=0.4):\n",
    "    df['description'] = df['description'].apply(lambda text: t.random_deletion(text, p=p))\n",
    "    df.to_csv(\"data/augmented_RD_\"+output_file_suff+\".csv\", index_label=False)"
   ]
  },
  {
   "cell_type": "code",
   "execution_count": 4,
   "id": "85be1fd1-9edb-4ab5-a5e2-a3065f2d64ab",
   "metadata": {},
   "outputs": [],
   "source": [
    "# Back Translation\n",
    "def augment_by_bt(df, output_file_suff):\n",
    "    if output_file_suff == \"EN\": \n",
    "        from_model_name = 'facebook/wmt19-en-de'\n",
    "        to_model_name = 'facebook/wmt19-de-en'\n",
    "    elif output_file_suff == \"DE\": \n",
    "        from_model_name = 'facebook/wmt19-de-en' \n",
    "        to_model_name = 'facebook/wmt19-en-de'\n",
    "    else:\n",
    "        raise \"Bad output_file_suff\"\n",
    "        \n",
    "    back_translation_aug = naw.BackTranslationAug(\n",
    "        from_model_name=from_model_name,\n",
    "        to_model_name=to_model_name\n",
    "        )\n",
    "    df['description'] = df['description'].apply(lambda text: back_translation_aug.augment(text)[0])\n",
    "    df.to_csv(\"data/augmented_BT_\"+output_file_suff+\".csv\", index_label=False)"
   ]
  },
  {
   "cell_type": "markdown",
   "id": "a9c18572-f4aa-4a46-a0e2-9641222aa219",
   "metadata": {},
   "source": [
    "<hr>"
   ]
  },
  {
   "cell_type": "code",
   "execution_count": 5,
   "id": "c3cb4ba1-df65-4aba-8622-4b962973afcd",
   "metadata": {},
   "outputs": [],
   "source": [
    "df_en = pd.read_csv(\"data/open_tasks_EN.csv\").dropna(subset=[\"description\"]) \n",
    "df_de = pd.read_csv(\"data/open_tasks_DE.csv\").dropna(subset=[\"description\"]) "
   ]
  },
  {
   "cell_type": "code",
   "execution_count": null,
   "id": "36adbe57-c4f6-4dc8-8cbb-f12c6d65ef48",
   "metadata": {},
   "outputs": [
    {
     "name": "stderr",
     "output_type": "stream",
     "text": [
      "Some weights of FSMTForConditionalGeneration were not initialized from the model checkpoint at facebook/wmt19-de-en and are newly initialized: ['model.decoder.embed_positions.weight', 'model.encoder.embed_positions.weight']\n",
      "You should probably TRAIN this model on a down-stream task to be able to use it for predictions and inference.\n",
      "Some weights of FSMTForConditionalGeneration were not initialized from the model checkpoint at facebook/wmt19-en-de and are newly initialized: ['model.decoder.embed_positions.weight', 'model.encoder.embed_positions.weight']\n",
      "You should probably TRAIN this model on a down-stream task to be able to use it for predictions and inference.\n"
     ]
    }
   ],
   "source": [
    "augment_by_bt(df_de, \"DE\")"
   ]
  },
  {
   "cell_type": "code",
   "execution_count": null,
   "id": "2581f867-5264-415e-89df-caee2ec9f4ef",
   "metadata": {},
   "outputs": [],
   "source": [
    "for df, suff in zip([df_en, df_de], [\"EN\", \"DE\"]):\n",
    "    augment_by_sr(df, suff)\n",
    "    augment_by_ri(df, suff) \n",
    "    augment_by_rs(df, suff)\n",
    "    augment_by_rd(df, suff)\n",
    "    augment_by_bt(df, suff)"
   ]
  },
  {
   "cell_type": "markdown",
   "id": "c13f4a97-c2d0-4b8e-a5d8-412bec658e82",
   "metadata": {},
   "source": [
    "<hr>"
   ]
  },
  {
   "cell_type": "markdown",
   "id": "eded972e-2167-42dc-993b-1572e4cdbb02",
   "metadata": {},
   "source": [
    "https://github.com/makcedward/nlpaug/blob/master/example/textual_augmenter.ipynb"
   ]
  },
  {
   "cell_type": "raw",
   "id": "af2205a1-b2bd-492e-9d5a-d93267d151d4",
   "metadata": {},
   "source": [
    "# Synonym augmenter Wordnet\n",
    "aug = naw.SynonymAug(aug_src=\"wordnet\")\n",
    "# text = \"Der schöner Fuchs springt um den Baum herum\"\n",
    "text = df.loc[14989]['description']\n",
    "augmented_text = aug.augment(text)\n",
    "print(text)\n",
    "print(augmented_text[0])"
   ]
  },
  {
   "cell_type": "raw",
   "id": "ef38b72d-a90c-466f-b4f7-ecccb00b4993",
   "metadata": {},
   "source": [
    "# Synonym augmenter Word2vec\n",
    "aug = naw.SynonymAug()\n",
    "# text = \"Der schöner Fuchs springt um den Baum herum\"\n",
    "text = df.loc[14989]['description']\n",
    "augmented_text = aug.augment(text)\n",
    "print(text)\n",
    "print(augmented_text[0])"
   ]
  },
  {
   "cell_type": "raw",
   "id": "f13c7177-34af-4238-aa4a-f46e81d101da",
   "metadata": {},
   "source": [
    "# Substitue word randomly by word embeddings similarity\n",
    "# text = \"Der schöner Fuchs springt um den Baum herum\"\n",
    "text = df.loc[14989]['description']\n",
    "aug = naw.ContextualWordEmbsAug(\n",
    "    model_path='bert-base-uncased', action=\"substitute\")\n",
    "\n",
    "augmented_text = aug.augment(text)\n",
    "print(text)\n",
    "print(augmented_text[0])"
   ]
  },
  {
   "cell_type": "raw",
   "id": "136f5950-eb8d-45a3-b402-a73e853635cc",
   "metadata": {},
   "source": [
    "# Insert word by e.g word2vec similarity\n",
    "# model_type: word2vec, glove or fasttext\n",
    "# text = \"Der schöner Fuchs springt um den Baum herum\"\n",
    "text = df.loc[14989]['description']\n",
    "\n",
    "aug = naw.ContextualWordEmbsAug(\n",
    "    model_path='bert-base-uncased', action=\"insert\")\n",
    "\n",
    "augmented_text = aug.augment(text)\n",
    "print(text)\n",
    "print(augmented_text[0])"
   ]
  },
  {
   "cell_type": "raw",
   "id": "d058d8ae-e6da-4874-93b5-0b91fd6c8273",
   "metadata": {},
   "source": [
    "# Sentence augmenter\n",
    "text = \"Der schöner Fuchs springt um den Baum herum\"\n",
    "aug = nas.ContextualWordEmbsForSentenceAug(model_path='gpt2')\n",
    "augmented_text = aug.augment(text)\n",
    "print(augmented_text)"
   ]
  },
  {
   "cell_type": "code",
   "execution_count": null,
   "id": "4ffed38c-4e07-4dfe-94d3-ab5b0de5950e",
   "metadata": {},
   "outputs": [],
   "source": []
  }
 ],
 "metadata": {
  "kernelspec": {
   "display_name": "tb_venv",
   "language": "python",
   "name": "tb_venv"
  },
  "language_info": {
   "codemirror_mode": {
    "name": "ipython",
    "version": 3
   },
   "file_extension": ".py",
   "mimetype": "text/x-python",
   "name": "python",
   "nbconvert_exporter": "python",
   "pygments_lexer": "ipython3",
   "version": "3.11.8"
  }
 },
 "nbformat": 4,
 "nbformat_minor": 5
}
