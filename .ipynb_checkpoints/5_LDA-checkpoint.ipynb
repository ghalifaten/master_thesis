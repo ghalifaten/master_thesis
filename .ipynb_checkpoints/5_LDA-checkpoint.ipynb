{
 "cells": [
  {
   "cell_type": "markdown",
   "id": "227ddbba-b589-411a-b746-09933d46c1b0",
   "metadata": {},
   "source": [
    "This notebook is to explore and implement Latent Dirichlet Allocation. <hr>"
   ]
  },
  {
   "cell_type": "markdown",
   "id": "6fe12823-c2e6-4ec3-af27-726b3c37c08e",
   "metadata": {},
   "source": [
    "> Things to consider doing to improve results: plot distribution of words/lemmas in corpus and remove head and tail of distribution."
   ]
  },
  {
   "cell_type": "code",
   "execution_count": 2,
   "id": "6a8ec6ca-558d-44c6-9e75-e11e041a3460",
   "metadata": {},
   "outputs": [],
   "source": [
    "import pandas as pd\n",
    "import gensim.corpora as corpora\n",
    "from gensim.models.ldamodel import LdaModel\n",
    "from pprint import pprint\n",
    "import matplotlib.pyplot as plt\n",
    "from gensim.models import CoherenceModel\n",
    "import pyLDAvis\n",
    "import pyLDAvis.gensim_models as gensimvis"
   ]
  },
  {
   "cell_type": "code",
   "execution_count": 3,
   "id": "08760613-ec44-4414-a491-2eafa454965a",
   "metadata": {},
   "outputs": [],
   "source": [
    "def get_corpus(data, min_len=3):\n",
    "    # Create a Dictionary: a mapping between words and their integer IDs\n",
    "    id2word = corpora.Dictionary(data)\n",
    "    \n",
    "    # Remove tokens of 1 or 2 letters\n",
    "    del_ids = [k for k,v in id2word.items() if len(v)<min_len]\n",
    "    id2word.filter_tokens(bad_ids=del_ids)\n",
    "    \n",
    "    # Create a corpus: a list of documents represented as a BoW\n",
    "    corpus = [id2word.doc2bow(text) for text in data]\n",
    "    \n",
    "    return id2word, corpus"
   ]
  },
  {
   "cell_type": "code",
   "execution_count": 45,
   "id": "fec3c33c-a727-4a40-835a-3c0c021eb326",
   "metadata": {},
   "outputs": [],
   "source": [
    "def get_model(corpus, id2word, num_topics=3, passes=10, decay=0.5, iterations=50):\n",
    "    coh_scores = []\n",
    "    lda_model = LdaModel(\n",
    "        corpus=corpus, \n",
    "        id2word=id2word, \n",
    "        num_topics=num_topics, \n",
    "        distributed=False,\n",
    "        passes=passes, \n",
    "        update_every=1,\n",
    "        alpha='auto', \n",
    "        eta=None, \n",
    "        decay=decay,\n",
    "        eval_every=5,\n",
    "        iterations=iterations, \n",
    "        per_word_topics=True)\n",
    "    \n",
    "    coherence_model_lda = CoherenceModel(\n",
    "        model=lda_model, \n",
    "        texts=data, \n",
    "        dictionary=id2word, \n",
    "        coherence='c_v')\n",
    "        \n",
    "    coherence_lda = coherence_model_lda.get_coherence()\n",
    "    print(f\"Coherence score: {coherence_lda}\")\n",
    "\n",
    "    return lda_model, coherence_lda\n",
    "\n",
    "def plot_coh_score(coh_scores, title, language, save=True): \n",
    "    fig, ax = plt.subplots(1, 1)\n",
    "    ax.plot(range(2, 11), coh_scores, marker='o', linestyle='--')\n",
    "    ax.title.set_text(title)\n",
    "    ax.set_ylabel(\"Coherence score\")\n",
    "    ax.set_xlabel('Number of topics')\n",
    "    ax.grid(True)\n",
    "    if save:\n",
    "        ax.get_figure().savefig(\"figures/LDA_coh_\"+language, bbox_inches=\"tight\")\n"
   ]
  },
  {
   "cell_type": "code",
   "execution_count": 5,
   "id": "c1e5497e-b4fa-4b92-abbd-31da2097261e",
   "metadata": {},
   "outputs": [],
   "source": [
    "def get_best_model(corpus, id2word, title, language, plot=False, save_plot=False):\n",
    "    coh_scores = []\n",
    "    for num_topics in range(2, 11):\n",
    "    # for passes in range(10, 100, 10): \n",
    "    # for iterations in range(50, 100, 10): \n",
    "    # for decay in [0.6, 0.7, 0.8, 0.9, 1]:\n",
    "        lda_model, coherence_lda = get_model(corpus, \n",
    "                                             id2word, \n",
    "                                             num_topics=num_topics, \n",
    "                                             passes=passes, \n",
    "                                             decay=decay, \n",
    "                                             iterations=iterations)\n",
    "    coh_scores.append(coherence_lda)\n",
    "    if coherence_lda == max(coh_scores):\n",
    "        best_model = lda_model\n",
    "\n",
    "    if plot:\n",
    "        plot_coh_score(coh_scores, title, language, save_plot)\n",
    "\n",
    "    return best_model "
   ]
  },
  {
   "cell_type": "markdown",
   "id": "0037c44f-2bde-44b8-a80a-169625d2dbeb",
   "metadata": {},
   "source": [
    "<hr>"
   ]
  },
  {
   "cell_type": "markdown",
   "id": "c386e7fa-92f6-4fc8-9dd5-8c873c80b127",
   "metadata": {},
   "source": [
    "**German tasks**"
   ]
  },
  {
   "cell_type": "raw",
   "id": "ae73f886-e4f5-45a5-a8a9-2df3c5650e08",
   "metadata": {},
   "source": [
    "df = pd.read_csv(\"data/all_preprocessed_tasks_DE.csv\") \n",
    "df.head()"
   ]
  },
  {
   "cell_type": "raw",
   "id": "2c893350-99a6-4c84-817f-331ba2399e55",
   "metadata": {},
   "source": [
    "df = pd.read_csv(\"data/all_preprocessed_tasks_DE.csv\")\n",
    "df.dropna(subset=[\"description\"], inplace=True)\n",
    "data = df[\"description\"].str.split().to_list() \n",
    "title = \"Coherence score by number of topics in german tasks\" \n",
    "\n",
    "id2word, corpus = get_corpus(data)\n",
    "\n",
    "num_topics = 3 \n",
    "passes = 80 \n",
    "decay = 0.9\n",
    "iterations = 100\n",
    "lda_model, coherence_lda = get_model(corpus=corpus,\n",
    "                                     id2word=id2word,\n",
    "                                     title=title,\n",
    "                                     num_topics=num_topics,\n",
    "                                     passes=passes,\n",
    "                                     decay=decay,\n",
    "                                     iterations=iterations)"
   ]
  },
  {
   "cell_type": "raw",
   "id": "d76a9e2e-839d-4d69-9919-8dbbb5093e18",
   "metadata": {},
   "source": [
    "lda_model.show_topics()"
   ]
  },
  {
   "cell_type": "raw",
   "id": "bb331fe8-0fa1-456a-b98b-da55488e6c2b",
   "metadata": {},
   "source": [
    "# Visualization \n",
    "pyLDAvis.enable_notebook()\n",
    "vis = gensimvis.prepare(lda_model, corpus, id2word) \n",
    "vis"
   ]
  },
  {
   "cell_type": "raw",
   "id": "d6bfbfe7-12b9-4f1b-8c78-119f0c2e9ba9",
   "metadata": {},
   "source": [
    "**German concept aspects**"
   ]
  },
  {
   "cell_type": "raw",
   "id": "9057ecfc-a4a2-4ed1-826a-7be9a328b2e7",
   "metadata": {},
   "source": [
    "df = pd.read_csv(\"data/preprocessed_concept_aspects_DE.csv\")\n",
    "df.dropna(subset=[\"description\"], inplace=True)\n",
    "data = df[\"description\"].str.split().to_list() \n",
    "title = \"Coherence score by number of topics in english tasks\" \n",
    "\n",
    "id2word, corpus = get_corpus(data)\n",
    "\n",
    "num_topics = 3 \n",
    "passes = 20 \n",
    "decay = 0.9\n",
    "iterations = 100\n",
    "lda_model_aspects, coherence_lda_aspects = get_model(corpus=corpus,\n",
    "                                                     id2word=id2word,\n",
    "                                                     title=title,\n",
    "                                                     num_topics=num_topics,\n",
    "                                                     passes=passes,\n",
    "                                                     decay=decay,\n",
    "                                                     iterations=iterations)"
   ]
  },
  {
   "cell_type": "raw",
   "id": "1fcffe13-bb96-45a1-94a2-e0bad29de54f",
   "metadata": {},
   "source": [
    "lda_model_aspects.show_topics()"
   ]
  },
  {
   "cell_type": "raw",
   "id": "0867c84f-6637-42d6-9e84-bcc4f55555d4",
   "metadata": {},
   "source": [
    "# Visualization \n",
    "pyLDAvis.enable_notebook()\n",
    "vis = gensimvis.prepare(lda_model_aspects, corpus, id2word) \n",
    "vis"
   ]
  },
  {
   "cell_type": "markdown",
   "id": "a34ee6e1-b975-4957-b974-c4abd2185c89",
   "metadata": {},
   "source": [
    "<hr>"
   ]
  },
  {
   "cell_type": "markdown",
   "id": "a9b84ab7-985a-4600-b896-ead7c6ac03c5",
   "metadata": {},
   "source": [
    "**English tasks**"
   ]
  },
  {
   "cell_type": "code",
   "execution_count": 6,
   "id": "489d6cc0-4ef7-4725-ae45-1d77f2f2800e",
   "metadata": {},
   "outputs": [],
   "source": [
    "folder = \"gen_files/EN/\"\n",
    "df = pd.read_csv(f\"{folder}preprocessed/all_preprocessed_open_tasks_EN.csv\")\n",
    "df_taskaspects = pd.read_csv(f\"{folder}all_taskAspects_EN.csv\")\n",
    "\n",
    "# Keeping only the tasks that have one or more aspects of type CONCEPT\n",
    "df = pd.merge(df, df_taskaspects, on=\"taskId\", how=\"inner\") \n",
    "df.reset_index(drop=True, inplace=True)"
   ]
  },
  {
   "cell_type": "code",
   "execution_count": 7,
   "id": "c126fd00-0949-4a3c-8df0-9f6002e7c201",
   "metadata": {},
   "outputs": [
    {
     "data": {
      "text/plain": [
       "(5706, 5706)"
      ]
     },
     "execution_count": 7,
     "metadata": {},
     "output_type": "execute_result"
    }
   ],
   "source": [
    "len(df.taskId.unique()), len(df_taskaspects.taskId.unique())"
   ]
  },
  {
   "cell_type": "code",
   "execution_count": 8,
   "id": "cd3af9cf-6916-4337-91c1-a05b679d0d79",
   "metadata": {},
   "outputs": [],
   "source": [
    "_df = df[[\"taskId\", \"description\", \"topic_id\"]].drop_duplicates(\"taskId\")\n",
    "_df = _df.dropna(subset=[\"description\"]).reset_index()\n",
    "data = _df[\"description\"].str.split().to_list() "
   ]
  },
  {
   "cell_type": "code",
   "execution_count": 9,
   "id": "be1ac68f-8e71-4cfe-8cfc-cff28c5e104e",
   "metadata": {},
   "outputs": [
    {
     "data": {
      "text/plain": [
       "5702"
      ]
     },
     "execution_count": 9,
     "metadata": {},
     "output_type": "execute_result"
    }
   ],
   "source": [
    "len(data)"
   ]
  },
  {
   "cell_type": "code",
   "execution_count": 10,
   "id": "faf0df50-b31c-4374-8cff-5a74f2923edd",
   "metadata": {},
   "outputs": [
    {
     "name": "stdout",
     "output_type": "stream",
     "text": [
      "Coherence score: 0.3927157019845491\n"
     ]
    }
   ],
   "source": [
    "title = \"Coherence score by number of topics in Augmented English tasks\" \n",
    "\n",
    "id2word, corpus = get_corpus(data)\n",
    "\n",
    "num_topics = 3 \n",
    "passes = 20 \n",
    "decay = 0.9\n",
    "iterations = 100\n",
    "lda_model_en, coherence_lda_en = get_model(corpus=corpus,\n",
    "                                         id2word=id2word,\n",
    "                                         title=title,\n",
    "                                         num_topics=num_topics,\n",
    "                                         passes=passes,\n",
    "                                         decay=decay,\n",
    "                                         iterations=iterations)"
   ]
  },
  {
   "cell_type": "code",
   "execution_count": 11,
   "id": "38c29589-04ee-47a1-b9cc-d26584f11011",
   "metadata": {},
   "outputs": [
    {
     "data": {
      "text/plain": [
       "[(0,\n",
       "  '0.013*\"dora\" + 0.010*\"gwen\" + 0.008*\"think\" + 0.007*\"look\" + 0.007*\"come\" + 0.007*\"dad\" + 0.007*\"ask\" + 0.006*\"friend\" + 0.006*\"take\" + 0.006*\"want\"'),\n",
       " (1,\n",
       "  '0.022*\"auf\" + 0.021*\"englisch\" + 0.019*\"schreib\" + 0.019*\"horst\" + 0.013*\"sie\" + 0.011*\"die\" + 0.011*\"ship\" + 0.011*\"english\" + 0.011*\"satz\" + 0.010*\"lifeboat\"'),\n",
       " (2,\n",
       "  '0.023*\"translat\" + 0.021*\"sie\" + 0.019*\"satz\" + 0.019*\"ubersetzen\" + 0.017*\"english\" + 0.015*\"den\" + 0.011*\"oil\" + 0.010*\"ich\" + 0.010*\"sentenc\" + 0.009*\"ship\"')]"
      ]
     },
     "execution_count": 11,
     "metadata": {},
     "output_type": "execute_result"
    }
   ],
   "source": [
    "lda_model_en.print_topics() "
   ]
  },
  {
   "cell_type": "raw",
   "id": "b8f6eae9-8bd7-4066-82b4-8990a6fcf157",
   "metadata": {},
   "source": [
    "# Visualization \n",
    "pyLDAvis.enable_notebook()\n",
    "vis = gensimvis.prepare(lda_model_en, corpus, id2word) \n",
    "vis"
   ]
  },
  {
   "cell_type": "code",
   "execution_count": 12,
   "id": "0bf7dacd-a529-4ea2-a27a-92bcc7286a33",
   "metadata": {
    "scrolled": true
   },
   "outputs": [],
   "source": [
    "documents = _df[\"description\"].to_list()\n",
    "\n",
    "# Infer topic distributions for each document\n",
    "topic_distributions = lda_model_en.get_document_topics(corpus)\n",
    "\n",
    "doc_to_topic = {}\n",
    "for (i, d) in enumerate(topic_distributions): \n",
    "    doc_to_topic[i] = {u:v for (u,v) in d} \n",
    "    \n",
    "df1 = pd.DataFrame.from_dict(doc_to_topic, orient='index').sort_index()\n",
    "# Replace values that are less than 1/3 by NaN \n",
    "df1 = df1.mask(df1 < 1/3).reset_index()"
   ]
  },
  {
   "cell_type": "code",
   "execution_count": 13,
   "id": "111aa0a6-95e9-4486-a53e-0ab4991a7dac",
   "metadata": {},
   "outputs": [
    {
     "name": "stdout",
     "output_type": "stream",
     "text": [
      "5702 5702\n"
     ]
    }
   ],
   "source": [
    "df_tasks_topics = pd.concat([_df[[\"taskId\"]], df1], axis=1) \n",
    "print(len(_df), len(df1))"
   ]
  },
  {
   "cell_type": "code",
   "execution_count": 14,
   "id": "45ce3a8a-85ab-498c-966d-52abbf981b32",
   "metadata": {},
   "outputs": [
    {
     "data": {
      "text/html": [
       "<div>\n",
       "<style scoped>\n",
       "    .dataframe tbody tr th:only-of-type {\n",
       "        vertical-align: middle;\n",
       "    }\n",
       "\n",
       "    .dataframe tbody tr th {\n",
       "        vertical-align: top;\n",
       "    }\n",
       "\n",
       "    .dataframe thead th {\n",
       "        text-align: right;\n",
       "    }\n",
       "</style>\n",
       "<table border=\"1\" class=\"dataframe\">\n",
       "  <thead>\n",
       "    <tr style=\"text-align: right;\">\n",
       "      <th></th>\n",
       "      <th>taskId</th>\n",
       "      <th>index</th>\n",
       "      <th>1</th>\n",
       "      <th>2</th>\n",
       "      <th>0</th>\n",
       "    </tr>\n",
       "  </thead>\n",
       "  <tbody>\n",
       "    <tr>\n",
       "      <th>0</th>\n",
       "      <td>14ambh1obhw7TYMQE8lcC1</td>\n",
       "      <td>0</td>\n",
       "      <td>0.981932</td>\n",
       "      <td>NaN</td>\n",
       "      <td>NaN</td>\n",
       "    </tr>\n",
       "    <tr>\n",
       "      <th>1</th>\n",
       "      <td>25RGLvb2p0G5zulfX9xQOj</td>\n",
       "      <td>1</td>\n",
       "      <td>0.613683</td>\n",
       "      <td>NaN</td>\n",
       "      <td>0.379606</td>\n",
       "    </tr>\n",
       "    <tr>\n",
       "      <th>2</th>\n",
       "      <td>18Ccvc8NMJT5xqLv9nAgTH</td>\n",
       "      <td>2</td>\n",
       "      <td>NaN</td>\n",
       "      <td>0.694426</td>\n",
       "      <td>NaN</td>\n",
       "    </tr>\n",
       "    <tr>\n",
       "      <th>3</th>\n",
       "      <td>3Jr6T26XL13aKRh31JX0xi</td>\n",
       "      <td>3</td>\n",
       "      <td>0.991638</td>\n",
       "      <td>NaN</td>\n",
       "      <td>NaN</td>\n",
       "    </tr>\n",
       "    <tr>\n",
       "      <th>4</th>\n",
       "      <td>3gbjpjewKN1aa5y4aN20Yw</td>\n",
       "      <td>4</td>\n",
       "      <td>NaN</td>\n",
       "      <td>0.786927</td>\n",
       "      <td>NaN</td>\n",
       "    </tr>\n",
       "    <tr>\n",
       "      <th>...</th>\n",
       "      <td>...</td>\n",
       "      <td>...</td>\n",
       "      <td>...</td>\n",
       "      <td>...</td>\n",
       "      <td>...</td>\n",
       "    </tr>\n",
       "    <tr>\n",
       "      <th>5697</th>\n",
       "      <td>1vmTwnxXvLHaBpLOllxi8E_SR</td>\n",
       "      <td>5697</td>\n",
       "      <td>0.474202</td>\n",
       "      <td>NaN</td>\n",
       "      <td>0.507759</td>\n",
       "    </tr>\n",
       "    <tr>\n",
       "      <th>5698</th>\n",
       "      <td>aif5faqXBMr5BWFu35fcRC_SR</td>\n",
       "      <td>5698</td>\n",
       "      <td>0.984828</td>\n",
       "      <td>NaN</td>\n",
       "      <td>NaN</td>\n",
       "    </tr>\n",
       "    <tr>\n",
       "      <th>5699</th>\n",
       "      <td>2lqfJ6gZiLr7w2cuDlFWvF_SR</td>\n",
       "      <td>5699</td>\n",
       "      <td>NaN</td>\n",
       "      <td>NaN</td>\n",
       "      <td>0.968495</td>\n",
       "    </tr>\n",
       "    <tr>\n",
       "      <th>5700</th>\n",
       "      <td>16MreBTRQqA9TQI3zQU33G_SR</td>\n",
       "      <td>5700</td>\n",
       "      <td>0.919188</td>\n",
       "      <td>NaN</td>\n",
       "      <td>NaN</td>\n",
       "    </tr>\n",
       "    <tr>\n",
       "      <th>5701</th>\n",
       "      <td>8gooLcJt0bz7yVHSaWd0MM_SR</td>\n",
       "      <td>5701</td>\n",
       "      <td>NaN</td>\n",
       "      <td>NaN</td>\n",
       "      <td>0.950674</td>\n",
       "    </tr>\n",
       "  </tbody>\n",
       "</table>\n",
       "<p>5702 rows × 5 columns</p>\n",
       "</div>"
      ],
      "text/plain": [
       "                         taskId  index         1         2         0\n",
       "0        14ambh1obhw7TYMQE8lcC1      0  0.981932       NaN       NaN\n",
       "1        25RGLvb2p0G5zulfX9xQOj      1  0.613683       NaN  0.379606\n",
       "2        18Ccvc8NMJT5xqLv9nAgTH      2       NaN  0.694426       NaN\n",
       "3        3Jr6T26XL13aKRh31JX0xi      3  0.991638       NaN       NaN\n",
       "4        3gbjpjewKN1aa5y4aN20Yw      4       NaN  0.786927       NaN\n",
       "...                         ...    ...       ...       ...       ...\n",
       "5697  1vmTwnxXvLHaBpLOllxi8E_SR   5697  0.474202       NaN  0.507759\n",
       "5698  aif5faqXBMr5BWFu35fcRC_SR   5698  0.984828       NaN       NaN\n",
       "5699  2lqfJ6gZiLr7w2cuDlFWvF_SR   5699       NaN       NaN  0.968495\n",
       "5700  16MreBTRQqA9TQI3zQU33G_SR   5700  0.919188       NaN       NaN\n",
       "5701  8gooLcJt0bz7yVHSaWd0MM_SR   5701       NaN       NaN  0.950674\n",
       "\n",
       "[5702 rows x 5 columns]"
      ]
     },
     "execution_count": 14,
     "metadata": {},
     "output_type": "execute_result"
    }
   ],
   "source": [
    "df_tasks_topics"
   ]
  },
  {
   "cell_type": "code",
   "execution_count": 15,
   "id": "f9e37497-f332-4fb9-9af5-d31fa86a3cc3",
   "metadata": {},
   "outputs": [
    {
     "data": {
      "text/html": [
       "<div>\n",
       "<style scoped>\n",
       "    .dataframe tbody tr th:only-of-type {\n",
       "        vertical-align: middle;\n",
       "    }\n",
       "\n",
       "    .dataframe tbody tr th {\n",
       "        vertical-align: top;\n",
       "    }\n",
       "\n",
       "    .dataframe thead th {\n",
       "        text-align: right;\n",
       "    }\n",
       "</style>\n",
       "<table border=\"1\" class=\"dataframe\">\n",
       "  <thead>\n",
       "    <tr style=\"text-align: right;\">\n",
       "      <th></th>\n",
       "      <th>taskId</th>\n",
       "      <th>aspectId</th>\n",
       "    </tr>\n",
       "  </thead>\n",
       "  <tbody>\n",
       "    <tr>\n",
       "      <th>0</th>\n",
       "      <td>14ambh1obhw7TYMQE8lcC1_BT</td>\n",
       "      <td>9639</td>\n",
       "    </tr>\n",
       "    <tr>\n",
       "      <th>1</th>\n",
       "      <td>25RGLvb2p0G5zulfX9xQOj_BT</td>\n",
       "      <td>9639</td>\n",
       "    </tr>\n",
       "    <tr>\n",
       "      <th>2</th>\n",
       "      <td>18Ccvc8NMJT5xqLv9nAgTH_BT</td>\n",
       "      <td>9937</td>\n",
       "    </tr>\n",
       "    <tr>\n",
       "      <th>3</th>\n",
       "      <td>3Jr6T26XL13aKRh31JX0xi_BT</td>\n",
       "      <td>9633</td>\n",
       "    </tr>\n",
       "    <tr>\n",
       "      <th>4</th>\n",
       "      <td>3gbjpjewKN1aa5y4aN20Yw_BT</td>\n",
       "      <td>11401</td>\n",
       "    </tr>\n",
       "  </tbody>\n",
       "</table>\n",
       "</div>"
      ],
      "text/plain": [
       "                      taskId  aspectId\n",
       "0  14ambh1obhw7TYMQE8lcC1_BT      9639\n",
       "1  25RGLvb2p0G5zulfX9xQOj_BT      9639\n",
       "2  18Ccvc8NMJT5xqLv9nAgTH_BT      9937\n",
       "3  3Jr6T26XL13aKRh31JX0xi_BT      9633\n",
       "4  3gbjpjewKN1aa5y4aN20Yw_BT     11401"
      ]
     },
     "execution_count": 15,
     "metadata": {},
     "output_type": "execute_result"
    }
   ],
   "source": [
    "df_taskaspects.head()"
   ]
  },
  {
   "cell_type": "code",
   "execution_count": 16,
   "id": "77609b82-1280-44f5-82eb-dfa0b397c241",
   "metadata": {},
   "outputs": [
    {
     "data": {
      "text/html": [
       "<div>\n",
       "<style scoped>\n",
       "    .dataframe tbody tr th:only-of-type {\n",
       "        vertical-align: middle;\n",
       "    }\n",
       "\n",
       "    .dataframe tbody tr th {\n",
       "        vertical-align: top;\n",
       "    }\n",
       "\n",
       "    .dataframe thead th {\n",
       "        text-align: right;\n",
       "    }\n",
       "</style>\n",
       "<table border=\"1\" class=\"dataframe\">\n",
       "  <thead>\n",
       "    <tr style=\"text-align: right;\">\n",
       "      <th></th>\n",
       "      <th>taskId</th>\n",
       "      <th>aspectId</th>\n",
       "    </tr>\n",
       "  </thead>\n",
       "  <tbody>\n",
       "    <tr>\n",
       "      <th>0</th>\n",
       "      <td>12QfXkR96hp8Hyu8mSN1gm</td>\n",
       "      <td>[183, 184, 185, 186, 187, 17042, 18153, 19487]</td>\n",
       "    </tr>\n",
       "    <tr>\n",
       "      <th>1</th>\n",
       "      <td>12QfXkR96hp8Hyu8mSN1gm_BT</td>\n",
       "      <td>[183, 184, 185, 186, 187, 17042, 18153, 19487]</td>\n",
       "    </tr>\n",
       "    <tr>\n",
       "      <th>2</th>\n",
       "      <td>12QfXkR96hp8Hyu8mSN1gm_RD</td>\n",
       "      <td>[183, 184, 185, 186, 187, 17042, 18153, 19487]</td>\n",
       "    </tr>\n",
       "    <tr>\n",
       "      <th>3</th>\n",
       "      <td>12QfXkR96hp8Hyu8mSN1gm_RI</td>\n",
       "      <td>[183, 184, 185, 186, 187, 17042, 18153, 19487]</td>\n",
       "    </tr>\n",
       "    <tr>\n",
       "      <th>4</th>\n",
       "      <td>12QfXkR96hp8Hyu8mSN1gm_RS</td>\n",
       "      <td>[183, 184, 185, 186, 187, 17042, 18153, 19487]</td>\n",
       "    </tr>\n",
       "  </tbody>\n",
       "</table>\n",
       "</div>"
      ],
      "text/plain": [
       "                      taskId                                        aspectId\n",
       "0     12QfXkR96hp8Hyu8mSN1gm  [183, 184, 185, 186, 187, 17042, 18153, 19487]\n",
       "1  12QfXkR96hp8Hyu8mSN1gm_BT  [183, 184, 185, 186, 187, 17042, 18153, 19487]\n",
       "2  12QfXkR96hp8Hyu8mSN1gm_RD  [183, 184, 185, 186, 187, 17042, 18153, 19487]\n",
       "3  12QfXkR96hp8Hyu8mSN1gm_RI  [183, 184, 185, 186, 187, 17042, 18153, 19487]\n",
       "4  12QfXkR96hp8Hyu8mSN1gm_RS  [183, 184, 185, 186, 187, 17042, 18153, 19487]"
      ]
     },
     "execution_count": 16,
     "metadata": {},
     "output_type": "execute_result"
    }
   ],
   "source": [
    "df_task_to_aspects = df_taskaspects.groupby(by=\"taskId\")[\"aspectId\"].apply(list).reset_index()\n",
    "df_task_to_aspects.head()"
   ]
  },
  {
   "cell_type": "code",
   "execution_count": 17,
   "id": "6130beab-3d1e-4466-89b2-126eb82a5a3c",
   "metadata": {},
   "outputs": [
    {
     "data": {
      "text/plain": [
       "(5702, 5702, 5706)"
      ]
     },
     "execution_count": 17,
     "metadata": {},
     "output_type": "execute_result"
    }
   ],
   "source": [
    "len(df_tasks_topics), len(df_tasks_topics.taskId.unique()), len(df_task_to_aspects)"
   ]
  },
  {
   "cell_type": "code",
   "execution_count": 18,
   "id": "06a1c850-b809-4ada-9769-cd3f540505d7",
   "metadata": {},
   "outputs": [
    {
     "data": {
      "text/html": [
       "<div>\n",
       "<style scoped>\n",
       "    .dataframe tbody tr th:only-of-type {\n",
       "        vertical-align: middle;\n",
       "    }\n",
       "\n",
       "    .dataframe tbody tr th {\n",
       "        vertical-align: top;\n",
       "    }\n",
       "\n",
       "    .dataframe thead th {\n",
       "        text-align: right;\n",
       "    }\n",
       "</style>\n",
       "<table border=\"1\" class=\"dataframe\">\n",
       "  <thead>\n",
       "    <tr style=\"text-align: right;\">\n",
       "      <th></th>\n",
       "      <th>taskId</th>\n",
       "      <th>1</th>\n",
       "      <th>2</th>\n",
       "      <th>0</th>\n",
       "      <th>aspectId</th>\n",
       "    </tr>\n",
       "  </thead>\n",
       "  <tbody>\n",
       "    <tr>\n",
       "      <th>4457</th>\n",
       "      <td>4XZ8sEvsgUl5DMsGoE5ufp_RS</td>\n",
       "      <td>NaN</td>\n",
       "      <td>0.979604</td>\n",
       "      <td>NaN</td>\n",
       "      <td>[6095, 6096, 6097, 6098, 6099, 6100, 6101, 624...</td>\n",
       "    </tr>\n",
       "    <tr>\n",
       "      <th>4987</th>\n",
       "      <td>2KO9ICLsLJT6Eqglg3Y4zi_SR</td>\n",
       "      <td>0.956628</td>\n",
       "      <td>NaN</td>\n",
       "      <td>NaN</td>\n",
       "      <td>[1375, 1376, 1377, 124, 1380, 15321, 27937]</td>\n",
       "    </tr>\n",
       "    <tr>\n",
       "      <th>5538</th>\n",
       "      <td>8nblrizP2BF7H4WWocLGff_SR</td>\n",
       "      <td>NaN</td>\n",
       "      <td>0.983991</td>\n",
       "      <td>NaN</td>\n",
       "      <td>[1374, 71121, 71160]</td>\n",
       "    </tr>\n",
       "    <tr>\n",
       "      <th>4642</th>\n",
       "      <td>7rYCHqM6wT35W1eFnKv0Rh_RS</td>\n",
       "      <td>0.964774</td>\n",
       "      <td>NaN</td>\n",
       "      <td>NaN</td>\n",
       "      <td>[68053, 8783, 68218, 92129]</td>\n",
       "    </tr>\n",
       "    <tr>\n",
       "      <th>3361</th>\n",
       "      <td>5dykdJ0qry1aM9Jzj6vJf1_RI</td>\n",
       "      <td>0.956821</td>\n",
       "      <td>NaN</td>\n",
       "      <td>NaN</td>\n",
       "      <td>[1415, 1631, 1417, 1416, 1418, 1419, 1632, 160...</td>\n",
       "    </tr>\n",
       "  </tbody>\n",
       "</table>\n",
       "</div>"
      ],
      "text/plain": [
       "                         taskId         1         2   0  \\\n",
       "4457  4XZ8sEvsgUl5DMsGoE5ufp_RS       NaN  0.979604 NaN   \n",
       "4987  2KO9ICLsLJT6Eqglg3Y4zi_SR  0.956628       NaN NaN   \n",
       "5538  8nblrizP2BF7H4WWocLGff_SR       NaN  0.983991 NaN   \n",
       "4642  7rYCHqM6wT35W1eFnKv0Rh_RS  0.964774       NaN NaN   \n",
       "3361  5dykdJ0qry1aM9Jzj6vJf1_RI  0.956821       NaN NaN   \n",
       "\n",
       "                                               aspectId  \n",
       "4457  [6095, 6096, 6097, 6098, 6099, 6100, 6101, 624...  \n",
       "4987        [1375, 1376, 1377, 124, 1380, 15321, 27937]  \n",
       "5538                               [1374, 71121, 71160]  \n",
       "4642                        [68053, 8783, 68218, 92129]  \n",
       "3361  [1415, 1631, 1417, 1416, 1418, 1419, 1632, 160...  "
      ]
     },
     "execution_count": 18,
     "metadata": {},
     "output_type": "execute_result"
    }
   ],
   "source": [
    "df_task_topic_aspect = pd.merge(df_tasks_topics, \n",
    "                                df_task_to_aspects, \n",
    "                                on=\"taskId\", \n",
    "                                how=\"inner\").drop(columns=[\"index\"])\n",
    "df_task_topic_aspect.sample(5)"
   ]
  },
  {
   "cell_type": "code",
   "execution_count": 19,
   "id": "0f794806-6415-48d0-adcf-db0a6bf6c00f",
   "metadata": {},
   "outputs": [
    {
     "data": {
      "text/plain": [
       "0            NaN\n",
       "1       0.379606\n",
       "2            NaN\n",
       "3            NaN\n",
       "4            NaN\n",
       "          ...   \n",
       "5697    0.507759\n",
       "5698         NaN\n",
       "5699    0.968495\n",
       "5700         NaN\n",
       "5701    0.950674\n",
       "Name: 0, Length: 5702, dtype: float64"
      ]
     },
     "execution_count": 19,
     "metadata": {},
     "output_type": "execute_result"
    }
   ],
   "source": [
    "df_task_topic_aspect[0]"
   ]
  },
  {
   "cell_type": "code",
   "execution_count": 20,
   "id": "4907981a-0bfc-4dda-a6c3-df76b86618ab",
   "metadata": {},
   "outputs": [],
   "source": [
    "df_topic_0 = df_task_topic_aspect[[0, \"aspectId\"]].dropna(subset=[0]).reset_index(drop=True)\n",
    "df_topic_1 = df_task_topic_aspect[[1, \"aspectId\"]].dropna(subset=[1]).reset_index(drop=True)\n",
    "df_topic_2 = df_task_topic_aspect[[2, \"aspectId\"]].dropna(subset=[2]).reset_index(drop=True)"
   ]
  },
  {
   "cell_type": "code",
   "execution_count": 21,
   "id": "f03984e3-6b17-4ed5-b3b9-df21e4420f84",
   "metadata": {},
   "outputs": [],
   "source": [
    "from collections import Counter\n",
    "import itertools\n",
    "aspects_0 = df_topic_0[\"aspectId\"].to_list()\n",
    "aspects_0 = list(itertools.chain.from_iterable(aspects_0))\n",
    "occurrences_0 = Counter(aspects_0)\n",
    "\n",
    "aspects_1 = df_topic_1[\"aspectId\"].to_list()\n",
    "aspects_1 = list(itertools.chain.from_iterable(aspects_1))\n",
    "occurrences_1 = Counter(aspects_1)\n",
    "\n",
    "aspects_2 = df_topic_2[\"aspectId\"].to_list()\n",
    "aspects_2 = list(itertools.chain.from_iterable(aspects_2))\n",
    "occurrences_2 = Counter(aspects_2)"
   ]
  },
  {
   "cell_type": "code",
   "execution_count": 41,
   "id": "574c7fc2-ee31-4619-874f-e093be20b0df",
   "metadata": {},
   "outputs": [
    {
     "name": "stdout",
     "output_type": "stream",
     "text": [
      "68\n",
      "117\n",
      "116\n"
     ]
    }
   ],
   "source": [
    "# define threshold t as a function of the values of the occurrences.\n",
    "# defining t as a fixed value risks of having an empty dict result. \n",
    "from statistics import median \n",
    "t = median(occurrences_0.values())\n",
    "retained_occ = dict(filter(lambda x: x[1] > t, occurrences_0.items()))\n",
    "retained_aspects_0 = list(retained_occ.keys())\n",
    "print(len(retained_aspects_0))\n",
    "\n",
    "t = median(occurrences_1.values())\n",
    "retained_occ = dict(filter(lambda x: x[1] > t, occurrences_1.items()))\n",
    "retained_aspects_1 = list(retained_occ.keys())\n",
    "print(len(retained_aspects_1))\n",
    "\n",
    "t = median(occurrences_2.values())\n",
    "retained_occ = dict(filter(lambda x: x[1] > t, occurrences_2.items()))\n",
    "retained_aspects_2 = list(retained_occ.keys())\n",
    "print(len(retained_aspects_2))"
   ]
  },
  {
   "cell_type": "code",
   "execution_count": 44,
   "id": "ddac4f33-be3e-4074-8937-e3f262c7f5e2",
   "metadata": {},
   "outputs": [
    {
     "name": "stdout",
     "output_type": "stream",
     "text": [
      "49\n",
      "99\n",
      "43\n"
     ]
    }
   ],
   "source": [
    "# Verify the number of common elements between the aspects of each topic \n",
    "# to assess their disparity. \n",
    "print(len(set(retained_aspects_0).intersection(set(retained_aspects_1))))\n",
    "print(len(set(retained_aspects_2).intersection(set(retained_aspects_1))))\n",
    "print(len(set(retained_aspects_0).intersection(set(retained_aspects_2))))"
   ]
  },
  {
   "cell_type": "markdown",
   "id": "c719bfe2-2dc0-4604-81b4-da55b0911b6d",
   "metadata": {},
   "source": [
    "subtopics"
   ]
  },
  {
   "cell_type": "code",
   "execution_count": null,
   "id": "1366a003-9a0c-4bc0-80b5-8a0f92878ea1",
   "metadata": {},
   "outputs": [],
   "source": [
    "title = \"Coherence score by number of topics in Augmented English tasks\" \n",
    "\n",
    "id2word, corpus = get_corpus(data)\n",
    "\n",
    "num_topics = 3 \n",
    "passes = 20 \n",
    "decay = 0.9\n",
    "iterations = 100\n",
    "lda_model_en, coherence_lda_en = get_model(corpus=corpus,\n",
    "                                         id2word=id2word,\n",
    "                                         title=title,\n",
    "                                         num_topics=num_topics,\n",
    "                                         passes=passes,\n",
    "                                         decay=decay,\n",
    "                                         iterations=iterations)"
   ]
  },
  {
   "cell_type": "code",
   "execution_count": null,
   "id": "158ab81c-1b2f-41fc-a52b-84b462c0a1b0",
   "metadata": {},
   "outputs": [],
   "source": []
  },
  {
   "cell_type": "code",
   "execution_count": null,
   "id": "594fa34b-f74f-4cec-9ad4-72217262b30d",
   "metadata": {},
   "outputs": [],
   "source": []
  },
  {
   "cell_type": "markdown",
   "id": "215170a1-e274-410c-a791-54eb6640f4cf",
   "metadata": {},
   "source": [
    "**English Aspects**"
   ]
  },
  {
   "cell_type": "code",
   "execution_count": null,
   "id": "1a9bc059-7120-4a6e-b595-35ffcd5760bc",
   "metadata": {},
   "outputs": [],
   "source": [
    "d = pd.read_csv(\"data/taskAspects_EN.csv\")\n",
    "len(d.aspectId.unique())"
   ]
  },
  {
   "cell_type": "code",
   "execution_count": null,
   "id": "c8e0b982-638a-4c84-94cd-7525b7c8f827",
   "metadata": {},
   "outputs": [],
   "source": [
    "i = pd.read_csv(\"data/preprocessed_concept_aspects_EN.csv\")\n",
    "i"
   ]
  },
  {
   "cell_type": "code",
   "execution_count": null,
   "id": "779190f3-9f2e-44fb-a6dc-cba38a4a0d84",
   "metadata": {},
   "outputs": [],
   "source": [
    "df = pd.read_csv(\"data/preprocessed_concept_aspects_EN.csv\")\n",
    "df.dropna(subset=[\"description\"], inplace=True)\n",
    "data = df[\"description\"].str.split().to_list() \n",
    "title = \"Coherence score by number of topics in english tasks\" \n",
    "\n",
    "id2word, corpus = get_corpus(data)\n",
    "\n",
    "num_topics = 3 \n",
    "passes = 20 \n",
    "decay = 0.9\n",
    "iterations = 100\n",
    "lda_model_aspects, coherence_lda_aspects = get_model(corpus=corpus,\n",
    "                                                     id2word=id2word,\n",
    "                                                     title=title,\n",
    "                                                     num_topics=num_topics,\n",
    "                                                     passes=passes,\n",
    "                                                     decay=decay,\n",
    "                                                     iterations=iterations)"
   ]
  },
  {
   "cell_type": "code",
   "execution_count": null,
   "id": "50152f88-ff25-468b-9810-33f7e20f6e82",
   "metadata": {},
   "outputs": [],
   "source": [
    "lda_model_aspects.print_topics() "
   ]
  },
  {
   "cell_type": "code",
   "execution_count": null,
   "id": "c8e27d3e-56fd-4810-a281-35a635c5bac8",
   "metadata": {},
   "outputs": [],
   "source": [
    "# Visualization \n",
    "pyLDAvis.enable_notebook()\n",
    "vis = gensimvis.prepare(lda_model_aspects, corpus, id2word) \n",
    "vis"
   ]
  },
  {
   "cell_type": "markdown",
   "id": "33bafd24-d078-4e1d-96f1-cba2a27e6b0d",
   "metadata": {},
   "source": [
    "<hr>"
   ]
  },
  {
   "cell_type": "markdown",
   "id": "990ee5a4-e02e-49b0-86d2-5af0771fd0d5",
   "metadata": {},
   "source": [
    "Functions that come with gensim LDAModel: <br>\n",
    "- get_document_topics(bow[, ...]) \tReturn topic distribution for the given document bow, as a list of (topic_id, topic_probability) 2-tuples.<br>\n",
    "- get_term_topics(word_id[, minimum_probability]) \tReturns most likely topics for a particular word in vocab.<br>\n",
    "- get_topic_terms(topicid[, topn]) \tReturn a list of (word_id, probability) 2-tuples for the most probable words in topic topicid. <br>\n",
    "- show_topic(topicid[, topn]) Return a list of (word, probability) 2-tuples for the most probable words in topic topicid.<br>\n",
    "- top_topics(corpus[, num_words]) \tCalculate the Umass topic coherence for each topic.<br>\n",
    "  https://tedboy.github.io/nlps/generated/generated/gensim.models.LdaModel.html                                             "
   ]
  },
  {
   "cell_type": "code",
   "execution_count": null,
   "id": "b9151638-78ff-40bb-bba6-7576418d209c",
   "metadata": {},
   "outputs": [],
   "source": []
  },
  {
   "cell_type": "code",
   "execution_count": null,
   "id": "91452ddb-e0d4-48ce-b547-120865b0199c",
   "metadata": {},
   "outputs": [],
   "source": []
  },
  {
   "cell_type": "code",
   "execution_count": null,
   "id": "efe429b1-f85b-4aff-b15f-1c391cbe3c56",
   "metadata": {},
   "outputs": [],
   "source": []
  }
 ],
 "metadata": {
  "kernelspec": {
   "display_name": "tb_venv",
   "language": "python",
   "name": "tb_venv"
  },
  "language_info": {
   "codemirror_mode": {
    "name": "ipython",
    "version": 3
   },
   "file_extension": ".py",
   "mimetype": "text/x-python",
   "name": "python",
   "nbconvert_exporter": "python",
   "pygments_lexer": "ipython3",
   "version": "3.11.8"
  }
 },
 "nbformat": 4,
 "nbformat_minor": 5
}
