{
 "cells": [
  {
   "cell_type": "code",
   "execution_count": 1,
   "id": "6a8ec6ca-558d-44c6-9e75-e11e041a3460",
   "metadata": {},
   "outputs": [],
   "source": [
    "import pandas as pd\n",
    "from gensim.utils import simple_preprocess\n",
    "import gensim.corpora as corpora\n",
    "from gensim.models.ldamodel import LdaModel\n",
    "from pprint import pprint\n"
   ]
  },
  {
   "cell_type": "code",
   "execution_count": 2,
   "id": "fefa2356-2911-411b-8c11-5d6ac2d968ab",
   "metadata": {},
   "outputs": [],
   "source": [
    "# import nltk\n",
    "# nltk.download('stopwords')\n",
    "from nltk.corpus import stopwords\n",
    "stop_words = stopwords.words('german')"
   ]
  },
  {
   "cell_type": "code",
   "execution_count": 3,
   "id": "0dda2ba6-4938-4c9a-9b43-d995048af18f",
   "metadata": {},
   "outputs": [],
   "source": [
    "df = pd.read_csv(\"data/open_tasks_Corn_EKV_DE.csv\")\n",
    "data = df[\"description\"]"
   ]
  },
  {
   "cell_type": "code",
   "execution_count": 46,
   "id": "df5ae578-f260-40e4-b7d1-c4bf06cecefd",
   "metadata": {},
   "outputs": [],
   "source": [
    "import spacy\n",
    "\n",
    "# Load the German language model\n",
    "nlp = spacy.load(\"de_core_news_sm\")\n",
    "\n",
    "def preprocess_data(text): \n",
    " # lowercase, tokenize, and remove stopwords\n",
    "    doc = nlp(text)\n",
    "    verbs = [token.text.lower() for token in doc if token.pos_ == \"VERB\"]\n",
    "    preprocessed_text = simple_preprocess(text)\n",
    "    return [word for word in preprocessed_text if word not in verbs and word not in stop_words]"
   ]
  },
  {
   "cell_type": "code",
   "execution_count": 48,
   "id": "e0b8a5ac-d619-4297-83a2-a5177d7e6f04",
   "metadata": {},
   "outputs": [],
   "source": [
    "preprocessed_data = data.apply(preprocess_data).to_list()"
   ]
  },
  {
   "cell_type": "code",
   "execution_count": 49,
   "id": "08760613-ec44-4414-a491-2eafa454965a",
   "metadata": {},
   "outputs": [],
   "source": [
    "# Create a Dictionary: a mapping between words and their integer IDs\n",
    "id2word = corpora.Dictionary(preprocessed_data)\n",
    "\n",
    "# Create a corpus: a list of documents represented as a BoW\n",
    "corpus = [id2word.doc2bow(text) for text in preprocessed_data]"
   ]
  },
  {
   "cell_type": "code",
   "execution_count": 50,
   "id": "38c29589-04ee-47a1-b9cc-d26584f11011",
   "metadata": {},
   "outputs": [],
   "source": [
    "# Build the LDA model \n",
    "num_topics = 2\n",
    "lda_model = LdaModel(corpus=corpus, id2word=id2word, num_topics=num_topics, random_state=42, passes=10, alpha='auto', per_word_topics=True)"
   ]
  },
  {
   "cell_type": "code",
   "execution_count": 51,
   "id": "b38d6c90-9037-447f-9bfa-613fb752704e",
   "metadata": {},
   "outputs": [],
   "source": [
    "# Print the keywords for each topic\n",
    "# lda_model.print_topics()"
   ]
  },
  {
   "cell_type": "code",
   "execution_count": 52,
   "id": "f214b882-58ee-433a-83d6-99bba12b25ac",
   "metadata": {},
   "outputs": [
    {
     "name": "stdout",
     "output_type": "stream",
     "text": [
      "Coherence Score:  0.6118722237449903\n"
     ]
    }
   ],
   "source": [
    "# Evaluation\n",
    "from gensim.models import CoherenceModel\n",
    "coherence_model_lda = CoherenceModel(model=lda_model, texts=preprocessed_data, dictionary=id2word, coherence='c_v')\n",
    "coherence_lda = coherence_model_lda.get_coherence()\n",
    "print('Coherence Score: ', coherence_lda)"
   ]
  },
  {
   "cell_type": "code",
   "execution_count": 53,
   "id": "7d2146df-71fc-45a6-a95c-746c78135318",
   "metadata": {},
   "outputs": [],
   "source": [
    "# Visualization \n",
    "import pyLDAvis\n",
    "import pyLDAvis.gensim_models as gensimvis\n",
    "\n",
    "# Visualize the topics\n",
    "pyLDAvis.enable_notebook()"
   ]
  },
  {
   "cell_type": "code",
   "execution_count": 54,
   "id": "e0d7efe5-52f7-4b13-bab8-f950a42ca832",
   "metadata": {},
   "outputs": [],
   "source": [
    "vis = gensimvis.prepare(lda_model, corpus, id2word) "
   ]
  },
  {
   "cell_type": "code",
   "execution_count": 55,
   "id": "d017a062-53af-41f8-9cc1-b818b5ea13dc",
   "metadata": {},
   "outputs": [
    {
     "data": {
      "text/html": [
       "\n",
       "<link rel=\"stylesheet\" type=\"text/css\" href=\"https://cdn.jsdelivr.net/gh/bmabey/pyLDAvis@3.4.0/pyLDAvis/js/ldavis.v1.0.0.css\">\n",
       "\n",
       "\n",
       "<div id=\"ldavis_el192791397405906124169222669091\" style=\"background-color:white;\"></div>\n",
       "<script type=\"text/javascript\">\n",
       "\n",
       "var ldavis_el192791397405906124169222669091_data = {\"mdsDat\": {\"x\": [0.0738786448667545, -0.0738786448667545], \"y\": [0.0, 0.0], \"topics\": [1, 2], \"cluster\": [1, 1], \"Freq\": [52.55946309327507, 47.44053690672494]}, \"tinfo\": {\"Term\": [\"satz\", \"km\", \"beschreibe\", \"drei\", \"schreibe\", \"ma\", \"hebel\", \"licht\", \"auto\", \"energie\", \"elektrische\", \"geschwindigkeit\", \"cent\", \"m\\u00fcnze\", \"begr\\u00fcnde\", \"erl\\u00e4utern\", \"rolle\", \"haushalt\", \"berechne\", \"s\\u00fcdpol\", \"entscheidung\", \"erde\", \"zug\", \"sonne\", \"wirkungen\", \"mehrere\", \"schreiben\", \"konjunktiv\", \"erkl\\u00e4re\", \"pkw\", \"schreibe\", \"drei\", \"energie\", \"elektrische\", \"satz\", \"cent\", \"m\\u00fcnze\", \"wirkungen\", \"mehrere\", \"schreiben\", \"konjunktiv\", \"regeln\", \"gleichzeitig\", \"nachdem\", \"ursprung\", \"bildes\", \"einheit\", \"entstehung\", \"material\", \"stelle\", \"gedicht\", \"destilliertes\", \"kaufempfehlung\", \"formelzeichen\", \"wasser\", \"elektrischer\", \"mehr\", \"the\", \"quelle\", \"trotzdem\", \"passiv\", \"pr\\u00e4sens\", \"nenne\", \"beispiele\", \"stromkreis\", \"gib\", \"elektrischen\", \"ger\\u00e4te\", \"strom\", \"erkl\\u00e4re\", \"hilfe\", \"warum\", \"begr\\u00fcnde\", \"stromst\\u00e4rke\", \"geschwindigkeit\", \"recherchiere\", \"km\", \"beschreibe\", \"ma\", \"hebel\", \"licht\", \"erl\\u00e4utern\", \"rolle\", \"haushalt\", \"berechne\", \"s\\u00fcdpol\", \"entscheidung\", \"erde\", \"zug\", \"sonne\", \"pkw\", \"langen\", \"gegenstand\", \"min\", \"kreuzung\", \"manchmal\", \"vervollst\\u00e4ndige\", \"text\", \"kunststoff\", \"kg\", \"unterschied\", \"zeit\", \"bilder\", \"losen\", \"ice\", \"gr\\u00f6\\u00dfe\", \"auto\", \"geschwindigkeit\", \"begr\\u00fcnde\", \"erkl\\u00e4re\", \"elektrischen\", \"warum\", \"erg\\u00e4nze\", \"bewegung\", \"beurteile\", \"gib\", \"folgenden\", \"magnete\", \"zwei\", \"hilfe\", \"nenne\", \"pr\\u00e4sens\", \"passiv\"], \"Freq\": [11.0, 5.0, 4.0, 4.0, 3.0, 2.0, 2.0, 2.0, 4.0, 3.0, 3.0, 6.0, 3.0, 3.0, 7.0, 2.0, 2.0, 2.0, 2.0, 2.0, 2.0, 2.0, 2.0, 2.0, 2.0, 2.0, 2.0, 2.0, 7.0, 1.0, 3.414691135928187, 4.537836186508855, 2.7952857283719523, 2.793995199308207, 10.049646222750116, 2.7832571205912875, 2.7815502846134095, 2.174079754264481, 2.1731263420839153, 2.1701215949207624, 2.1394690130244687, 1.5531487082588193, 1.553019968533358, 1.5529263498103252, 1.5528263556186985, 1.552558921488744, 1.5520785243376964, 1.5519505675645187, 1.5519255130914489, 1.5519234997855773, 1.5518837929197746, 1.5517992340731643, 1.5517609812616024, 1.551709865662527, 1.5516304519309219, 1.5512720834857634, 1.5511582198536873, 1.5499738367495097, 1.5499148916276002, 1.5496190475147897, 6.175904346829823, 6.162830385900452, 5.922811218299909, 2.1707450486390254, 2.167930670731072, 2.863866979584783, 3.448274420071686, 2.224311512062188, 2.182602301719945, 2.869271139945671, 2.1747005235749146, 2.1785396741715517, 2.1960954776719293, 1.6035923105743575, 1.6283822576226519, 1.5695646450848486, 5.646747800081915, 3.8531575213164375, 2.683972233158119, 2.6816340717644622, 2.68071253734299, 2.0881335981340126, 2.087979941759179, 2.08721206371254, 2.086482953108698, 2.086313143632699, 2.086160698740453, 2.0848428075991405, 2.0847719358677783, 2.0846671426239696, 1.492077905812999, 1.4920249034498008, 1.4918982025625367, 1.4918845733834285, 1.4917446471445854, 1.491576049151174, 1.4909083203317595, 1.4905166076285044, 1.4904719846865355, 1.4904500770430802, 1.4902897575140162, 1.4901438748191183, 1.4901013719716774, 1.4899634648704798, 1.4899590227676596, 1.4891477332616394, 3.8751031245594203, 4.407233120933087, 5.056166191832008, 5.00660161238931, 4.450339286702427, 3.281500482564101, 2.108053804404649, 2.0995459660209606, 2.0942356340129153, 2.623088166160172, 2.094645518954981, 2.093815653382621, 2.0920866658166557, 2.090836011958943, 2.6701607259206157, 2.4395703608576427, 2.4270091036503225], \"Total\": [11.0, 5.0, 4.0, 4.0, 3.0, 2.0, 2.0, 2.0, 4.0, 3.0, 3.0, 6.0, 3.0, 3.0, 7.0, 2.0, 2.0, 2.0, 2.0, 2.0, 2.0, 2.0, 2.0, 2.0, 2.0, 2.0, 2.0, 2.0, 7.0, 1.0, 3.7171101016835593, 4.955533096408065, 3.095607971117646, 3.0955576721135176, 11.143767645966419, 3.095134888083006, 3.0950671628066417, 2.474034842068535, 2.47399758835546, 2.473877557907419, 2.4726676878108282, 1.8524723360034185, 1.8524679246784879, 1.8524634508825102, 1.8524599714703451, 1.8524491192567112, 1.8524282021161504, 1.852424649461165, 1.8524240265536074, 1.852424057624602, 1.8524220581543318, 1.852419299621591, 1.8524172146131064, 1.8524134982702627, 1.8524124018400878, 1.8523957724414548, 1.852393668078065, 1.8523460342291649, 1.852344886922362, 1.8523329840409704, 8.602913450480145, 8.602400746758095, 8.592971944220524, 3.0710301664853787, 3.0709223416345295, 5.486955145744955, 7.898613706774112, 3.6703044183372278, 3.6686708500719765, 7.875872752334981, 4.265536535533858, 5.460040156735653, 7.2522616695039375, 3.0487494957778654, 6.03561537855574, 2.4502388885478776, 5.984997000039062, 4.193545858762242, 2.9981705091347846, 2.9982651202986537, 2.99830317778827, 2.400939309586853, 2.400945906766889, 2.4009763324609517, 2.401006629646874, 2.4010124251830156, 2.4010200660701497, 2.4010729845642156, 2.4010764932997795, 2.4010779578658648, 1.8037176335403227, 1.8037201928266664, 1.8037249440352738, 1.8037261350243878, 1.8037318379102627, 1.8037385932657581, 1.80376486775786, 1.8037791717387264, 1.803782616474444, 1.8037832187091372, 1.803786480282147, 1.803795146775482, 1.8037979433101539, 1.803802197973562, 1.8038036000502857, 1.803834934976726, 4.814191976051962, 6.03561537855574, 7.2522616695039375, 7.875872752334981, 7.898613706774112, 5.460040156735653, 3.021652134330716, 3.0220030095578987, 3.022221998425764, 5.486955145744955, 3.643793564746124, 3.643824499284233, 3.643897867874724, 4.265536535533858, 8.592971944220524, 8.602400746758095, 8.602913450480145], \"Category\": [\"Default\", \"Default\", \"Default\", \"Default\", \"Default\", \"Default\", \"Default\", \"Default\", \"Default\", \"Default\", \"Default\", \"Default\", \"Default\", \"Default\", \"Default\", \"Default\", \"Default\", \"Default\", \"Default\", \"Default\", \"Default\", \"Default\", \"Default\", \"Default\", \"Default\", \"Default\", \"Default\", \"Default\", \"Default\", \"Default\", \"Topic1\", \"Topic1\", \"Topic1\", \"Topic1\", \"Topic1\", \"Topic1\", \"Topic1\", \"Topic1\", \"Topic1\", \"Topic1\", \"Topic1\", \"Topic1\", \"Topic1\", \"Topic1\", \"Topic1\", \"Topic1\", \"Topic1\", \"Topic1\", \"Topic1\", \"Topic1\", \"Topic1\", \"Topic1\", \"Topic1\", \"Topic1\", \"Topic1\", \"Topic1\", \"Topic1\", \"Topic1\", \"Topic1\", \"Topic1\", \"Topic1\", \"Topic1\", \"Topic1\", \"Topic1\", \"Topic1\", \"Topic1\", \"Topic1\", \"Topic1\", \"Topic1\", \"Topic1\", \"Topic1\", \"Topic1\", \"Topic1\", \"Topic1\", \"Topic1\", \"Topic1\", \"Topic2\", \"Topic2\", \"Topic2\", \"Topic2\", \"Topic2\", \"Topic2\", \"Topic2\", \"Topic2\", \"Topic2\", \"Topic2\", \"Topic2\", \"Topic2\", \"Topic2\", \"Topic2\", \"Topic2\", \"Topic2\", \"Topic2\", \"Topic2\", \"Topic2\", \"Topic2\", \"Topic2\", \"Topic2\", \"Topic2\", \"Topic2\", \"Topic2\", \"Topic2\", \"Topic2\", \"Topic2\", \"Topic2\", \"Topic2\", \"Topic2\", \"Topic2\", \"Topic2\", \"Topic2\", \"Topic2\", \"Topic2\", \"Topic2\", \"Topic2\", \"Topic2\", \"Topic2\", \"Topic2\", \"Topic2\", \"Topic2\", \"Topic2\", \"Topic2\", \"Topic2\", \"Topic2\"], \"logprob\": [30.0, 29.0, 28.0, 27.0, 26.0, 25.0, 24.0, 23.0, 22.0, 21.0, 20.0, 19.0, 18.0, 17.0, 16.0, 15.0, 14.0, 13.0, 12.0, 11.0, 10.0, 9.0, 8.0, 7.0, 6.0, 5.0, 4.0, 3.0, 2.0, 1.0, -4.9465, -4.6622, -5.1467, -5.1471, -3.8671, -5.151, -5.1516, -5.398, -5.3984, -5.3998, -5.414, -5.7343, -5.7344, -5.7345, -5.7345, -5.7347, -5.735, -5.7351, -5.7351, -5.7351, -5.7351, -5.7352, -5.7352, -5.7352, -5.7353, -5.7355, -5.7356, -5.7364, -5.7364, -5.7366, -4.354, -4.3561, -4.3958, -5.3995, -5.4008, -5.1224, -4.9367, -5.3752, -5.3941, -5.1205, -5.3977, -5.396, -5.3879, -5.7024, -5.687, -5.7238, -4.3411, -4.7232, -5.0848, -5.0857, -5.0861, -5.3359, -5.3359, -5.3363, -5.3367, -5.3367, -5.3368, -5.3374, -5.3375, -5.3375, -5.672, -5.672, -5.6721, -5.6721, -5.6722, -5.6723, -5.6728, -5.673, -5.673, -5.6731, -5.6732, -5.6733, -5.6733, -5.6734, -5.6734, -5.6739, -4.7176, -4.5889, -4.4515, -4.4614, -4.5792, -4.8838, -5.3264, -5.3304, -5.3329, -5.1078, -5.3328, -5.3331, -5.334, -5.3346, -5.09, -5.1803, -5.1855], \"loglift\": [30.0, 29.0, 28.0, 27.0, 26.0, 25.0, 24.0, 23.0, 22.0, 21.0, 20.0, 19.0, 18.0, 17.0, 16.0, 15.0, 14.0, 13.0, 12.0, 11.0, 10.0, 9.0, 8.0, 7.0, 6.0, 5.0, 4.0, 3.0, 2.0, 1.0, 0.5584, 0.5552, 0.5412, 0.5407, 0.5399, 0.537, 0.5364, 0.514, 0.5136, 0.5122, 0.4985, 0.467, 0.4669, 0.4668, 0.4668, 0.4666, 0.4663, 0.4662, 0.4662, 0.4662, 0.4662, 0.4661, 0.4661, 0.4661, 0.466, 0.4658, 0.4657, 0.465, 0.465, 0.4648, 0.3118, 0.3097, 0.2711, 0.2963, 0.295, -0.007, -0.1856, 0.1424, 0.1239, -0.3665, -0.0305, -0.2756, -0.5514, 0.0007, -0.6669, 0.1978, 0.6875, 0.661, 0.635, 0.6341, 0.6337, 0.6061, 0.606, 0.6056, 0.6053, 0.6052, 0.6051, 0.6045, 0.6044, 0.6044, 0.556, 0.556, 0.5559, 0.5559, 0.5558, 0.5557, 0.5552, 0.5549, 0.5549, 0.5549, 0.5548, 0.5547, 0.5546, 0.5545, 0.5545, 0.554, 0.5287, 0.4313, 0.385, 0.2926, 0.172, 0.2365, 0.3857, 0.3815, 0.3789, 0.0077, 0.1921, 0.1916, 0.1908, 0.0327, -0.4231, -0.5145, -0.5197]}, \"token.table\": {\"Topic\": [1, 2, 1, 2, 1, 2, 2, 2, 1, 2, 1, 2, 2, 1, 1, 1, 1, 1, 1, 1, 2, 1, 1, 2, 1, 2, 1, 2, 1, 2, 2, 1, 2, 1, 1, 2, 1, 2, 1, 2, 1, 2, 1, 2, 2, 2, 1, 2, 2, 1, 2, 2, 1, 2, 2, 2, 2, 2, 2, 1, 2, 2, 1, 1, 1, 2, 1, 1, 1, 2, 1, 2, 2, 1, 2, 1, 1, 2, 1, 2, 1, 2, 1, 1, 2, 1, 1, 2, 1, 2, 1, 2, 2, 2, 1, 1, 2, 1, 2, 1, 2, 1, 1, 2, 2, 1, 2], \"Freq\": [0.2077191780000604, 0.8308767120002416, 0.27577603941265433, 0.6894400985316358, 0.6512472660888536, 0.3256236330444268, 0.8329839556895136, 0.9538467289304025, 0.3308823774431154, 0.6617647548862308, 0.3309063547710676, 0.6618127095421352, 0.5543858189376232, 1.079651785957011, 0.969263088193895, 1.0796691658354869, 1.0089731826479307, 1.0796639771059784, 0.9691307085071121, 0.3798134851723538, 0.5064179802298051, 1.0796828786561108, 0.9691149615811567, 0.8329792942020197, 1.0796660477292623, 0.832960935738899, 0.33094477972445235, 0.6618895594489047, 0.38091016631910185, 0.6348502771985031, 0.8330073117692235, 0.5488785147847274, 0.5488785147847274, 1.0796725471216604, 1.079667558047062, 0.5544082557082184, 0.5449139286670035, 0.27245696433350175, 0.3313663768413585, 0.662732753682717, 0.5467513257013685, 0.5467513257013685, 1.0796408258173311, 0.5543744500174582, 0.832994466859255, 1.0005786278503528, 0.46887419280999965, 0.46887419280999965, 0.5543840803799939, 1.0796703810689416, 0.5543903444869843, 1.0025067681672757, 0.8088430199735801, 0.5544061367562061, 0.5543905295830686, 0.5544097160839946, 1.0005659274966923, 0.5543845112969847, 1.0006102024083159, 0.5488738550368893, 0.5488738550368893, 0.5544040603962742, 1.0796664107844436, 1.0796841052016133, 0.8084082253812784, 0.5544078896359059, 0.9692842973008593, 1.079643433206309, 0.6982450354717485, 0.34912251773587427, 0.6974381451745431, 0.23247938172484767, 0.5544105027332953, 0.6974797125396841, 0.23249323751322803, 1.0797125384803283, 0.8162469420217595, 0.40812347101087976, 1.079638254849658, 0.8330050228800022, 0.8973625723091584, 0.08973625723091584, 0.8070785954500609, 0.8084474486650592, 0.8329592104446486, 1.079666392675032, 0.5451565653432119, 0.27257828267160594, 0.6512701323913909, 0.32563506619569543, 0.6560066685602568, 0.3280033342801284, 0.8329819450424341, 0.5543915883206838, 1.0797118697275587, 1.0797194765904807, 0.5543893420487223, 1.0796454610636195, 0.5543959846845412, 0.36629767228593474, 0.5494465084289021, 1.0796731861724238, 0.8083960524694165, 0.5543866784360906, 0.8329597185183454, 0.5488628036565923, 0.5488628036565923], \"Term\": [\"auto\", \"auto\", \"begr\\u00fcnde\", \"begr\\u00fcnde\", \"beispiele\", \"beispiele\", \"berechne\", \"beschreibe\", \"beurteile\", \"beurteile\", \"bewegung\", \"bewegung\", \"bilder\", \"bildes\", \"cent\", \"destilliertes\", \"drei\", \"einheit\", \"elektrische\", \"elektrischen\", \"elektrischen\", \"elektrischer\", \"energie\", \"entscheidung\", \"entstehung\", \"erde\", \"erg\\u00e4nze\", \"erg\\u00e4nze\", \"erkl\\u00e4re\", \"erkl\\u00e4re\", \"erl\\u00e4utern\", \"folgenden\", \"folgenden\", \"formelzeichen\", \"gedicht\", \"gegenstand\", \"ger\\u00e4te\", \"ger\\u00e4te\", \"geschwindigkeit\", \"geschwindigkeit\", \"gib\", \"gib\", \"gleichzeitig\", \"gr\\u00f6\\u00dfe\", \"haushalt\", \"hebel\", \"hilfe\", \"hilfe\", \"ice\", \"kaufempfehlung\", \"kg\", \"km\", \"konjunktiv\", \"kreuzung\", \"kunststoff\", \"langen\", \"licht\", \"losen\", \"ma\", \"magnete\", \"magnete\", \"manchmal\", \"material\", \"mehr\", \"mehrere\", \"min\", \"m\\u00fcnze\", \"nachdem\", \"nenne\", \"nenne\", \"passiv\", \"passiv\", \"pkw\", \"pr\\u00e4sens\", \"pr\\u00e4sens\", \"quelle\", \"recherchiere\", \"recherchiere\", \"regeln\", \"rolle\", \"satz\", \"satz\", \"schreibe\", \"schreiben\", \"sonne\", \"stelle\", \"strom\", \"strom\", \"stromkreis\", \"stromkreis\", \"stromst\\u00e4rke\", \"stromst\\u00e4rke\", \"s\\u00fcdpol\", \"text\", \"the\", \"trotzdem\", \"unterschied\", \"ursprung\", \"vervollst\\u00e4ndige\", \"warum\", \"warum\", \"wasser\", \"wirkungen\", \"zeit\", \"zug\", \"zwei\", \"zwei\"]}, \"R\": 30, \"lambda.step\": 0.01, \"plot.opts\": {\"xlab\": \"PC1\", \"ylab\": \"PC2\"}, \"topic.order\": [2, 1]};\n",
       "\n",
       "function LDAvis_load_lib(url, callback){\n",
       "  var s = document.createElement('script');\n",
       "  s.src = url;\n",
       "  s.async = true;\n",
       "  s.onreadystatechange = s.onload = callback;\n",
       "  s.onerror = function(){console.warn(\"failed to load library \" + url);};\n",
       "  document.getElementsByTagName(\"head\")[0].appendChild(s);\n",
       "}\n",
       "\n",
       "if(typeof(LDAvis) !== \"undefined\"){\n",
       "   // already loaded: just create the visualization\n",
       "   !function(LDAvis){\n",
       "       new LDAvis(\"#\" + \"ldavis_el192791397405906124169222669091\", ldavis_el192791397405906124169222669091_data);\n",
       "   }(LDAvis);\n",
       "}else if(typeof define === \"function\" && define.amd){\n",
       "   // require.js is available: use it to load d3/LDAvis\n",
       "   require.config({paths: {d3: \"https://d3js.org/d3.v5\"}});\n",
       "   require([\"d3\"], function(d3){\n",
       "      window.d3 = d3;\n",
       "      LDAvis_load_lib(\"https://cdn.jsdelivr.net/gh/bmabey/pyLDAvis@3.4.0/pyLDAvis/js/ldavis.v3.0.0.js\", function(){\n",
       "        new LDAvis(\"#\" + \"ldavis_el192791397405906124169222669091\", ldavis_el192791397405906124169222669091_data);\n",
       "      });\n",
       "    });\n",
       "}else{\n",
       "    // require.js not available: dynamically load d3 & LDAvis\n",
       "    LDAvis_load_lib(\"https://d3js.org/d3.v5.js\", function(){\n",
       "         LDAvis_load_lib(\"https://cdn.jsdelivr.net/gh/bmabey/pyLDAvis@3.4.0/pyLDAvis/js/ldavis.v3.0.0.js\", function(){\n",
       "                 new LDAvis(\"#\" + \"ldavis_el192791397405906124169222669091\", ldavis_el192791397405906124169222669091_data);\n",
       "            })\n",
       "         });\n",
       "}\n",
       "</script>"
      ],
      "text/plain": [
       "PreparedData(topic_coordinates=              x    y  topics  cluster       Freq\n",
       "topic                                           \n",
       "1      0.073879  0.0       1        1  52.559463\n",
       "0     -0.073879  0.0       2        1  47.440537, topic_info=           Term       Freq      Total Category  logprob  loglift\n",
       "2          satz  11.000000  11.000000  Default  30.0000  30.0000\n",
       "187          km   5.000000   5.000000  Default  29.0000  29.0000\n",
       "95   beschreibe   4.000000   4.000000  Default  28.0000  28.0000\n",
       "272        drei   4.000000   4.000000  Default  27.0000  27.0000\n",
       "30     schreibe   3.000000   3.000000  Default  26.0000  26.0000\n",
       "..          ...        ...        ...      ...      ...      ...\n",
       "19         zwei   2.092087   3.643898   Topic2  -5.3340   0.1908\n",
       "304       hilfe   2.090836   4.265537   Topic2  -5.3346   0.0327\n",
       "136       nenne   2.670161   8.592972   Topic2  -5.0900  -0.4231\n",
       "29      präsens   2.439570   8.602401   Topic2  -5.1803  -0.5145\n",
       "28       passiv   2.427009   8.602913   Topic2  -5.1855  -0.5197\n",
       "\n",
       "[123 rows x 6 columns], token_table=      Topic      Freq       Term\n",
       "term                            \n",
       "183       1  0.207719       auto\n",
       "183       2  0.830877       auto\n",
       "124       1  0.275776   begründe\n",
       "124       2  0.689440   begründe\n",
       "172       1  0.651247  beispiele\n",
       "...     ...       ...        ...\n",
       "422       1  0.808396  wirkungen\n",
       "195       2  0.554387       zeit\n",
       "199       2  0.832960        zug\n",
       "19        1  0.548863       zwei\n",
       "19        2  0.548863       zwei\n",
       "\n",
       "[107 rows x 3 columns], R=30, lambda_step=0.01, plot_opts={'xlab': 'PC1', 'ylab': 'PC2'}, topic_order=[2, 1])"
      ]
     },
     "execution_count": 55,
     "metadata": {},
     "output_type": "execute_result"
    }
   ],
   "source": [
    "vis"
   ]
  },
  {
   "cell_type": "code",
   "execution_count": null,
   "id": "ca2175c6-2864-4e0e-ad0d-e190fc5ff963",
   "metadata": {},
   "outputs": [],
   "source": []
  }
 ],
 "metadata": {
  "kernelspec": {
   "display_name": "tb_venv",
   "language": "python",
   "name": "tb_venv"
  },
  "language_info": {
   "codemirror_mode": {
    "name": "ipython",
    "version": 3
   },
   "file_extension": ".py",
   "mimetype": "text/x-python",
   "name": "python",
   "nbconvert_exporter": "python",
   "pygments_lexer": "ipython3",
   "version": "3.11.8"
  }
 },
 "nbformat": 4,
 "nbformat_minor": 5
}
