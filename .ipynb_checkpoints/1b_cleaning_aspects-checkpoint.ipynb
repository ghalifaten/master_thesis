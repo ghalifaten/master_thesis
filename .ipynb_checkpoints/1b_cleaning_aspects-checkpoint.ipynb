{
 "cells": [
  {
   "cell_type": "markdown",
   "id": "269358d0-8b03-428d-8ed1-0ec21181f515",
   "metadata": {},
   "source": [
    "This notebook is made for the cleaning of aspects' texts. <hr>"
   ]
  },
  {
   "cell_type": "code",
   "execution_count": 1,
   "id": "dd6d830a-f3e6-490a-b62a-ba2d1f6851e4",
   "metadata": {},
   "outputs": [],
   "source": [
    "import warnings\n",
    "warnings.filterwarnings(\"ignore\")"
   ]
  },
  {
   "cell_type": "code",
   "execution_count": 2,
   "id": "57cecb15-2f03-4715-ae7b-53dc13fdce24",
   "metadata": {},
   "outputs": [],
   "source": [
    "import pandas as pd\n",
    "import seaborn as sns \n",
    "import numpy as np"
   ]
  },
  {
   "cell_type": "raw",
   "id": "ddcfc75b-b605-4cce-803d-91209bdadca8",
   "metadata": {},
   "source": [
    "import mysql.connector\n",
    "cnx = mysql.connector.connect(user='root', password='taskbase',\n",
    "                              host='127.0.0.1', port='3309', database='lernnavi')\n",
    "# All Aspects\n",
    "query = \"SELECT * FROM Aspects\"\n",
    "df_aspects = pd.read_sql(query, cnx)\n",
    "df_aspects.rename(columns={\"id\":\"aspectId\"}, inplace=True)\n",
    "df_aspects = df_aspects[[\"aspectId\", \"description\", \"type\", \"groupId\", \"categoryId\"]]\n",
    "df_aspects.to_csv(\"data/aspects.csv\", index_label=False)\n",
    "\n",
    "# All taskAspects \n",
    "query = \"SELECT * FROM TaskAspects\"\n",
    "df_TaskAspect = pd.read_sql(query, cnx)\n",
    "df_TaskAspect.to_csv(\"data/taskAspects.csv\", index_label=False)"
   ]
  },
  {
   "cell_type": "code",
   "execution_count": 3,
   "id": "d97b4a10-809b-4231-b4b7-7383cbc36727",
   "metadata": {},
   "outputs": [
    {
     "data": {
      "text/html": [
       "<div>\n",
       "<style scoped>\n",
       "    .dataframe tbody tr th:only-of-type {\n",
       "        vertical-align: middle;\n",
       "    }\n",
       "\n",
       "    .dataframe tbody tr th {\n",
       "        vertical-align: top;\n",
       "    }\n",
       "\n",
       "    .dataframe thead th {\n",
       "        text-align: right;\n",
       "    }\n",
       "</style>\n",
       "<table border=\"1\" class=\"dataframe\">\n",
       "  <thead>\n",
       "    <tr style=\"text-align: right;\">\n",
       "      <th></th>\n",
       "      <th>aspectId</th>\n",
       "      <th>description</th>\n",
       "      <th>type</th>\n",
       "      <th>groupId</th>\n",
       "      <th>categoryId</th>\n",
       "    </tr>\n",
       "  </thead>\n",
       "  <tbody>\n",
       "    <tr>\n",
       "      <th>0</th>\n",
       "      <td>1</td>\n",
       "      <td>To enable them on this domain</td>\n",
       "      <td>CONCEPT</td>\n",
       "      <td>1067.0</td>\n",
       "      <td>NaN</td>\n",
       "    </tr>\n",
       "    <tr>\n",
       "      <th>1</th>\n",
       "      <td>2</td>\n",
       "      <td>To enable competences for smoke tests</td>\n",
       "      <td>CONCEPT</td>\n",
       "      <td>48.0</td>\n",
       "      <td>NaN</td>\n",
       "    </tr>\n",
       "    <tr>\n",
       "      <th>2</th>\n",
       "      <td>4</td>\n",
       "      <td>Die Antwort wurde in einem Satz gegeben.</td>\n",
       "      <td>CONCEPT</td>\n",
       "      <td>674.0</td>\n",
       "      <td>NaN</td>\n",
       "    </tr>\n",
       "    <tr>\n",
       "      <th>3</th>\n",
       "      <td>17</td>\n",
       "      <td>Es wurde erkannt, dass die Schafe vorzeitig in...</td>\n",
       "      <td>CONCEPT</td>\n",
       "      <td>95.0</td>\n",
       "      <td>NaN</td>\n",
       "    </tr>\n",
       "    <tr>\n",
       "      <th>4</th>\n",
       "      <td>18</td>\n",
       "      <td>Es wurde erkannt, dass in Schweden der Erhalt ...</td>\n",
       "      <td>CONCEPT</td>\n",
       "      <td>73.0</td>\n",
       "      <td>NaN</td>\n",
       "    </tr>\n",
       "  </tbody>\n",
       "</table>\n",
       "</div>"
      ],
      "text/plain": [
       "   aspectId                                        description     type  \\\n",
       "0         1                      To enable them on this domain  CONCEPT   \n",
       "1         2              To enable competences for smoke tests  CONCEPT   \n",
       "2         4          Die Antwort wurde in einem Satz gegeben.   CONCEPT   \n",
       "3        17  Es wurde erkannt, dass die Schafe vorzeitig in...  CONCEPT   \n",
       "4        18  Es wurde erkannt, dass in Schweden der Erhalt ...  CONCEPT   \n",
       "\n",
       "   groupId  categoryId  \n",
       "0   1067.0         NaN  \n",
       "1     48.0         NaN  \n",
       "2    674.0         NaN  \n",
       "3     95.0         NaN  \n",
       "4     73.0         NaN  "
      ]
     },
     "execution_count": 3,
     "metadata": {},
     "output_type": "execute_result"
    }
   ],
   "source": [
    "df_aspects = pd.read_csv(\"data/aspects.csv\")\n",
    "df_aspects.head()"
   ]
  },
  {
   "cell_type": "code",
   "execution_count": 4,
   "id": "200bd2e4-db5b-4be1-bf00-8bb61488f94e",
   "metadata": {},
   "outputs": [
    {
     "data": {
      "text/plain": [
       "array(['CONCEPT', 'MISCONCEPTION'], dtype=object)"
      ]
     },
     "execution_count": 4,
     "metadata": {},
     "output_type": "execute_result"
    }
   ],
   "source": [
    "df_aspects.type.unique()"
   ]
  },
  {
   "cell_type": "code",
   "execution_count": 5,
   "id": "e4f7363b-076e-4758-9ea0-91ba394059e8",
   "metadata": {},
   "outputs": [],
   "source": [
    "df_misconcept_aspects = df_aspects[df_aspects[\"type\"] == \"MISCONCEPTION\"]"
   ]
  },
  {
   "cell_type": "code",
   "execution_count": 6,
   "id": "097ee1bb-31ea-4f69-a013-d20e1d8813f0",
   "metadata": {},
   "outputs": [],
   "source": [
    "df_concept_aspects = df_aspects[df_aspects[\"type\"] == \"CONCEPT\"]"
   ]
  },
  {
   "cell_type": "markdown",
   "id": "9fceef6b-8fb0-42eb-a364-720657b00e4c",
   "metadata": {},
   "source": [
    "<hr>"
   ]
  },
  {
   "cell_type": "code",
   "execution_count": 7,
   "id": "ef1f6bb0-d625-4e89-8d71-0ffd6a5fac88",
   "metadata": {},
   "outputs": [
    {
     "data": {
      "text/html": [
       "<div>\n",
       "<style scoped>\n",
       "    .dataframe tbody tr th:only-of-type {\n",
       "        vertical-align: middle;\n",
       "    }\n",
       "\n",
       "    .dataframe tbody tr th {\n",
       "        vertical-align: top;\n",
       "    }\n",
       "\n",
       "    .dataframe thead th {\n",
       "        text-align: right;\n",
       "    }\n",
       "</style>\n",
       "<table border=\"1\" class=\"dataframe\">\n",
       "  <thead>\n",
       "    <tr style=\"text-align: right;\">\n",
       "      <th></th>\n",
       "      <th>id</th>\n",
       "      <th>taskId</th>\n",
       "      <th>aspectId</th>\n",
       "      <th>sampleSolution</th>\n",
       "    </tr>\n",
       "  </thead>\n",
       "  <tbody>\n",
       "    <tr>\n",
       "      <th>0</th>\n",
       "      <td>3</td>\n",
       "      <td>5ElPCuVMbAy8pzupzU7R3x</td>\n",
       "      <td>2</td>\n",
       "      <td>NaN</td>\n",
       "    </tr>\n",
       "    <tr>\n",
       "      <th>1</th>\n",
       "      <td>54</td>\n",
       "      <td>2VX1HHa4SZp9Cs6Suof4ho</td>\n",
       "      <td>1</td>\n",
       "      <td>NaN</td>\n",
       "    </tr>\n",
       "    <tr>\n",
       "      <th>2</th>\n",
       "      <td>74</td>\n",
       "      <td>2j6rJkYxYa98ydGaSCW17D</td>\n",
       "      <td>4</td>\n",
       "      <td>NaN</td>\n",
       "    </tr>\n",
       "    <tr>\n",
       "      <th>3</th>\n",
       "      <td>75</td>\n",
       "      <td>2j6rJkYxYa98ydGaSCW17D</td>\n",
       "      <td>20</td>\n",
       "      <td>{\"type\": \"DEFAULT\", \"sampleSolutionGroups\": [{...</td>\n",
       "    </tr>\n",
       "    <tr>\n",
       "      <th>4</th>\n",
       "      <td>76</td>\n",
       "      <td>2j6rJkYxYa98ydGaSCW17D</td>\n",
       "      <td>21</td>\n",
       "      <td>{\"type\": \"DEFAULT\", \"sampleSolutionGroups\": [{...</td>\n",
       "    </tr>\n",
       "  </tbody>\n",
       "</table>\n",
       "</div>"
      ],
      "text/plain": [
       "   id                  taskId  aspectId  \\\n",
       "0   3  5ElPCuVMbAy8pzupzU7R3x         2   \n",
       "1  54  2VX1HHa4SZp9Cs6Suof4ho         1   \n",
       "2  74  2j6rJkYxYa98ydGaSCW17D         4   \n",
       "3  75  2j6rJkYxYa98ydGaSCW17D        20   \n",
       "4  76  2j6rJkYxYa98ydGaSCW17D        21   \n",
       "\n",
       "                                      sampleSolution  \n",
       "0                                                NaN  \n",
       "1                                                NaN  \n",
       "2                                                NaN  \n",
       "3  {\"type\": \"DEFAULT\", \"sampleSolutionGroups\": [{...  \n",
       "4  {\"type\": \"DEFAULT\", \"sampleSolutionGroups\": [{...  "
      ]
     },
     "execution_count": 7,
     "metadata": {},
     "output_type": "execute_result"
    }
   ],
   "source": [
    "df_TaskAspect = pd.read_csv(\"data/taskAspects.csv\")\n",
    "df_TaskAspect.head()"
   ]
  },
  {
   "cell_type": "markdown",
   "id": "f2e7b4c9-ff71-452b-bd55-a36472a9001b",
   "metadata": {},
   "source": [
    "**Distribution of DE aspects**"
   ]
  },
  {
   "cell_type": "code",
   "execution_count": 8,
   "id": "4617eaac-41ed-4388-9e38-eb6d7e34e01c",
   "metadata": {},
   "outputs": [],
   "source": [
    "lang = \"DE\""
   ]
  },
  {
   "cell_type": "code",
   "execution_count": 9,
   "id": "488a3d2f-cfed-4aac-ba5a-672c95e67a28",
   "metadata": {},
   "outputs": [
    {
     "data": {
      "text/html": [
       "<div>\n",
       "<style scoped>\n",
       "    .dataframe tbody tr th:only-of-type {\n",
       "        vertical-align: middle;\n",
       "    }\n",
       "\n",
       "    .dataframe tbody tr th {\n",
       "        vertical-align: top;\n",
       "    }\n",
       "\n",
       "    .dataframe thead th {\n",
       "        text-align: right;\n",
       "    }\n",
       "</style>\n",
       "<table border=\"1\" class=\"dataframe\">\n",
       "  <thead>\n",
       "    <tr style=\"text-align: right;\">\n",
       "      <th></th>\n",
       "      <th>taskId</th>\n",
       "      <th>aspectId</th>\n",
       "    </tr>\n",
       "  </thead>\n",
       "  <tbody>\n",
       "    <tr>\n",
       "      <th>0</th>\n",
       "      <td>9Aa4h4yosMb9oAglIYVbMr</td>\n",
       "      <td>9222</td>\n",
       "    </tr>\n",
       "    <tr>\n",
       "      <th>1</th>\n",
       "      <td>9Aa4h4yosMb9oAglIYVbMr</td>\n",
       "      <td>9226</td>\n",
       "    </tr>\n",
       "    <tr>\n",
       "      <th>2</th>\n",
       "      <td>9Aa4h4yosMb9oAglIYVbMr</td>\n",
       "      <td>9232</td>\n",
       "    </tr>\n",
       "    <tr>\n",
       "      <th>3</th>\n",
       "      <td>9Aa4h4yosMb9oAglIYVbMr</td>\n",
       "      <td>9236</td>\n",
       "    </tr>\n",
       "    <tr>\n",
       "      <th>4</th>\n",
       "      <td>2T3rZTRBlAv94jV8YNcbgq</td>\n",
       "      <td>9703</td>\n",
       "    </tr>\n",
       "  </tbody>\n",
       "</table>\n",
       "</div>"
      ],
      "text/plain": [
       "                   taskId  aspectId\n",
       "0  9Aa4h4yosMb9oAglIYVbMr      9222\n",
       "1  9Aa4h4yosMb9oAglIYVbMr      9226\n",
       "2  9Aa4h4yosMb9oAglIYVbMr      9232\n",
       "3  9Aa4h4yosMb9oAglIYVbMr      9236\n",
       "4  2T3rZTRBlAv94jV8YNcbgq      9703"
      ]
     },
     "execution_count": 9,
     "metadata": {},
     "output_type": "execute_result"
    }
   ],
   "source": [
    "df_tasks = pd.read_csv(f\"data/{lang}/open_tasks.csv\")\n",
    "df = pd.merge(df_tasks[[\"taskId\"]], df_TaskAspect[[\"taskId\", \"aspectId\"]], how=\"inner\", on=[\"taskId\"])\n",
    "df.head()"
   ]
  },
  {
   "cell_type": "code",
   "execution_count": 10,
   "id": "f3f27b38-8961-48bc-9223-76e8dadaf37b",
   "metadata": {},
   "outputs": [
    {
     "name": "stdout",
     "output_type": "stream",
     "text": [
      "1047 tasks do not have an aspect assigned.\n"
     ]
    },
    {
     "data": {
      "text/html": [
       "<div>\n",
       "<style scoped>\n",
       "    .dataframe tbody tr th:only-of-type {\n",
       "        vertical-align: middle;\n",
       "    }\n",
       "\n",
       "    .dataframe tbody tr th {\n",
       "        vertical-align: top;\n",
       "    }\n",
       "\n",
       "    .dataframe thead th {\n",
       "        text-align: right;\n",
       "    }\n",
       "</style>\n",
       "<table border=\"1\" class=\"dataframe\">\n",
       "  <thead>\n",
       "    <tr style=\"text-align: right;\">\n",
       "      <th></th>\n",
       "      <th>id</th>\n",
       "      <th>taskId</th>\n",
       "      <th>aspectId</th>\n",
       "      <th>sampleSolution</th>\n",
       "    </tr>\n",
       "  </thead>\n",
       "  <tbody>\n",
       "  </tbody>\n",
       "</table>\n",
       "</div>"
      ],
      "text/plain": [
       "Empty DataFrame\n",
       "Columns: [id, taskId, aspectId, sampleSolution]\n",
       "Index: []"
      ]
     },
     "execution_count": 10,
     "metadata": {},
     "output_type": "execute_result"
    }
   ],
   "source": [
    "# Open tasks that don't have any aspect assigned\n",
    "ids = df_TaskAspect.taskId.unique()\n",
    "no_aspect_ids = df_tasks[~df_tasks[\"taskId\"].isin(ids)].taskId.unique() \n",
    "print(f\"{len(no_aspect_ids)} tasks do not have an aspect assigned.\")\n",
    "df_TaskAspect[df_TaskAspect[\"taskId\"].isin(no_aspect_ids)]"
   ]
  },
  {
   "cell_type": "code",
   "execution_count": 11,
   "id": "5e86459d-3b73-422d-80b4-912e465c7fe1",
   "metadata": {},
   "outputs": [
    {
     "name": "stdout",
     "output_type": "stream",
     "text": [
      "Only 0.41 of the tasks that have one or more aspects.\n"
     ]
    }
   ],
   "source": [
    "# Aspects of type CONCEPT only \n",
    "df2 = pd.merge(df, df_concept_aspects[[\"aspectId\"]], how=\"inner\", on=[\"aspectId\"]) \n",
    "print(\"Only {:.2f} of the tasks that have one or more aspects.\".format(len(df2.taskId.unique())/len(df_tasks)))\n",
    "df2.to_csv(f\"gen_files/{lang}/concept_task_aspects.csv\", index_label=False)"
   ]
  },
  {
   "cell_type": "code",
   "execution_count": 12,
   "id": "4d62831f-c92e-4dae-94b1-e70b6d856788",
   "metadata": {},
   "outputs": [
    {
     "data": {
      "text/plain": [
       "1777"
      ]
     },
     "execution_count": 12,
     "metadata": {},
     "output_type": "execute_result"
    }
   ],
   "source": [
    "len(df_tasks)"
   ]
  },
  {
   "cell_type": "code",
   "execution_count": 13,
   "id": "6c7c05db-bbcc-435d-9549-0cf5457c1a3b",
   "metadata": {},
   "outputs": [
    {
     "name": "stdout",
     "output_type": "stream",
     "text": [
      "657 73\n"
     ]
    }
   ],
   "source": [
    "ids = df2.taskId.unique() # tasks with concept aspects \n",
    "# filter the others out and save filtered tasks \n",
    "df_tasks = df_tasks[df_tasks[\"taskId\"].isin(ids)]\n",
    "# Take out a 10% test sample\n",
    "test_ids = df_tasks.sample(frac=0.1).index\n",
    "test_sample = df_tasks.loc[test_ids].reset_index()\n",
    "df_tasks = df_tasks.drop(test_ids).reset_index()\n",
    "# Save both sets\n",
    "test_sample.to_csv(f\"gen_files/{lang}/test_open_tasks.csv\", index_label=False)\n",
    "df_tasks.to_csv(f\"gen_files/{lang}/concept_open_tasks.csv\", index_label=False)\n",
    "\n",
    "print(len(df_tasks), len(test_sample))"
   ]
  },
  {
   "cell_type": "code",
   "execution_count": 14,
   "id": "9689341b-2865-4a12-b8f0-638c2f955a15",
   "metadata": {},
   "outputs": [
    {
     "data": {
      "text/html": [
       "<div>\n",
       "<style scoped>\n",
       "    .dataframe tbody tr th:only-of-type {\n",
       "        vertical-align: middle;\n",
       "    }\n",
       "\n",
       "    .dataframe tbody tr th {\n",
       "        vertical-align: top;\n",
       "    }\n",
       "\n",
       "    .dataframe thead th {\n",
       "        text-align: right;\n",
       "    }\n",
       "</style>\n",
       "<table border=\"1\" class=\"dataframe\">\n",
       "  <thead>\n",
       "    <tr style=\"text-align: right;\">\n",
       "      <th></th>\n",
       "      <th>aspectId</th>\n",
       "      <th>tasks_count</th>\n",
       "    </tr>\n",
       "  </thead>\n",
       "  <tbody>\n",
       "    <tr>\n",
       "      <th>919</th>\n",
       "      <td>397570</td>\n",
       "      <td>3</td>\n",
       "    </tr>\n",
       "    <tr>\n",
       "      <th>49</th>\n",
       "      <td>144</td>\n",
       "      <td>1</td>\n",
       "    </tr>\n",
       "    <tr>\n",
       "      <th>237</th>\n",
       "      <td>13554</td>\n",
       "      <td>1</td>\n",
       "    </tr>\n",
       "    <tr>\n",
       "      <th>791</th>\n",
       "      <td>295338</td>\n",
       "      <td>1</td>\n",
       "    </tr>\n",
       "    <tr>\n",
       "      <th>50</th>\n",
       "      <td>162</td>\n",
       "      <td>1</td>\n",
       "    </tr>\n",
       "  </tbody>\n",
       "</table>\n",
       "</div>"
      ],
      "text/plain": [
       "     aspectId  tasks_count\n",
       "919    397570            3\n",
       "49        144            1\n",
       "237     13554            1\n",
       "791    295338            1\n",
       "50        162            1"
      ]
     },
     "execution_count": 14,
     "metadata": {},
     "output_type": "execute_result"
    }
   ],
   "source": [
    "# Count of tasks by aspect \n",
    "d = df2.groupby(\"aspectId\").count().reset_index().rename(columns={\"taskId\":\"tasks_count\"})\n",
    "d = d.sort_values(by=\"tasks_count\")\n",
    "d.sample(5)"
   ]
  },
  {
   "cell_type": "code",
   "execution_count": 15,
   "id": "f7661951-9d99-4387-99a7-0f198093e996",
   "metadata": {},
   "outputs": [
    {
     "data": {
      "image/png": "[encoded data removed]",
      "text/plain": [
       "<Figure size 2000x1000 with 1 Axes>"
      ]
     },
     "metadata": {},
     "output_type": "display_data"
    }
   ],
   "source": [
    "import matplotlib.pyplot as plt\n",
    "sns.set_theme(style='white', \n",
    "              rc={'figure.figsize':(20,10)})\n",
    "\n",
    "ax = sns.histplot(data=d,\n",
    "                  x=\"tasks_count\",\n",
    "                  bins=10,\n",
    "                  shrink=0.9)\n",
    "\n",
    "ax.set_yscale(\"log\")\n",
    "mids = [rect.get_x() + rect.get_width() / 2 for rect in ax.patches]\n",
    "ticks = ax.set_xticks(mids)\n",
    "m = d.tasks_count.unique().max()\n",
    "step = m//10\n",
    "starts = np.arange(1, m, step)[:-1]\n",
    "ends =  np.arange(step, m, step)[:-1]\n",
    "xlabels = ax.set_xticklabels([f\"[{s},{e}]\" for s,e in zip(starts[:-1], ends)]+[f\"[{starts[-1]},{m}]\"])\n",
    "ax.set_title(\"Histogram of the number of tasks for one aspect\")\n",
    "ax.get_figure().savefig(f\"figures/tasks_count_dist{lang}.png\", bbox_inches=\"tight\") "
   ]
  },
  {
   "cell_type": "code",
   "execution_count": 16,
   "id": "9d2749df-2144-45fc-af2d-5ee44959a61f",
   "metadata": {},
   "outputs": [
    {
     "name": "stdout",
     "output_type": "stream",
     "text": [
      "77.15% of the aspects are assigned to only one task.\n"
     ]
    }
   ],
   "source": [
    "print(\"{:.2f}% of the aspects are assigned to only one task.\".format(len(d[d['tasks_count']==1]) / len(d) * 100))"
   ]
  },
  {
   "cell_type": "code",
   "execution_count": 17,
   "id": "10e4ac11-6fea-4154-9982-6e6900370d14",
   "metadata": {},
   "outputs": [
    {
     "data": {
      "text/html": [
       "<div>\n",
       "<style scoped>\n",
       "    .dataframe tbody tr th:only-of-type {\n",
       "        vertical-align: middle;\n",
       "    }\n",
       "\n",
       "    .dataframe tbody tr th {\n",
       "        vertical-align: top;\n",
       "    }\n",
       "\n",
       "    .dataframe thead th {\n",
       "        text-align: right;\n",
       "    }\n",
       "</style>\n",
       "<table border=\"1\" class=\"dataframe\">\n",
       "  <thead>\n",
       "    <tr style=\"text-align: right;\">\n",
       "      <th></th>\n",
       "      <th>taskId</th>\n",
       "      <th>aspects_count</th>\n",
       "    </tr>\n",
       "  </thead>\n",
       "  <tbody>\n",
       "    <tr>\n",
       "      <th>709</th>\n",
       "      <td>bsGPClmNxCavOMwhz66N2</td>\n",
       "      <td>11</td>\n",
       "    </tr>\n",
       "    <tr>\n",
       "      <th>465</th>\n",
       "      <td>7iYhOB4UA989EaTPyEdIMk</td>\n",
       "      <td>14</td>\n",
       "    </tr>\n",
       "    <tr>\n",
       "      <th>677</th>\n",
       "      <td>aXEPvx0DNfe8cdumjmnAQk</td>\n",
       "      <td>12</td>\n",
       "    </tr>\n",
       "    <tr>\n",
       "      <th>415</th>\n",
       "      <td>7351MeDHkbdasSE1Zqc6X1</td>\n",
       "      <td>14</td>\n",
       "    </tr>\n",
       "    <tr>\n",
       "      <th>374</th>\n",
       "      <td>6TGMWbfrXY0a0lpY9BKvCb</td>\n",
       "      <td>5</td>\n",
       "    </tr>\n",
       "  </tbody>\n",
       "</table>\n",
       "</div>"
      ],
      "text/plain": [
       "                     taskId  aspects_count\n",
       "709   bsGPClmNxCavOMwhz66N2             11\n",
       "465  7iYhOB4UA989EaTPyEdIMk             14\n",
       "677  aXEPvx0DNfe8cdumjmnAQk             12\n",
       "415  7351MeDHkbdasSE1Zqc6X1             14\n",
       "374  6TGMWbfrXY0a0lpY9BKvCb              5"
      ]
     },
     "execution_count": 17,
     "metadata": {},
     "output_type": "execute_result"
    }
   ],
   "source": [
    "# How many tasks have one aspect?\n",
    "d = df2.groupby(\"taskId\").count().reset_index().rename(columns={\"aspectId\":\"aspects_count\"})\n",
    "d = d.sort_values(by=\"aspects_count\")\n",
    "d.sample(5)"
   ]
  },
  {
   "cell_type": "code",
   "execution_count": 18,
   "id": "cd622e1e-bee1-4fbc-be9d-90cb0b841b95",
   "metadata": {},
   "outputs": [
    {
     "name": "stdout",
     "output_type": "stream",
     "text": [
      "6.16% of the tasks are assigned only one aspect.\n"
     ]
    }
   ],
   "source": [
    "print(\"{:.2f}% of the tasks are assigned only one aspect.\".format(len(d[d['aspects_count']==1]) / len(d) * 100))"
   ]
  },
  {
   "cell_type": "code",
   "execution_count": 19,
   "id": "72c54fca-5fa8-44b9-94d4-2c0f67bac573",
   "metadata": {},
   "outputs": [
    {
     "data": {
      "image/png": "[encoded data removed]",
      "text/plain": [
       "<Figure size 2000x1000 with 1 Axes>"
      ]
     },
     "metadata": {},
     "output_type": "display_data"
    }
   ],
   "source": [
    "m = d.aspects_count.unique().max()\n",
    "\n",
    "ax = sns.histplot(data=d,\n",
    "                  x=\"aspects_count\",\n",
    "                  bins=m,\n",
    "                  shrink=0.9)\n",
    "# ax.set_yscale(\"log\")\n",
    "\n",
    "mids = [rect.get_x() + rect.get_width() / 2 for rect in ax.patches]\n",
    "ax.set_xticks(mids)\n",
    "ax.set_xticklabels(np.arange(1,m+1))\n",
    "ax.set_title(\"Histogram of the number of aspects assigned to a task\")\n",
    "ax.get_figure().savefig(f\"figures/aspects_count_dist{lang}.png\", bbox_inches=\"tight\") "
   ]
  },
  {
   "cell_type": "code",
   "execution_count": 20,
   "id": "3c2b41fb-c25c-424f-b8da-b2ab96d78343",
   "metadata": {},
   "outputs": [],
   "source": [
    "d_aspects = pd.merge(df[[\"aspectId\"]].drop_duplicates(), df_concept_aspects, how=\"inner\", on=[\"aspectId\"])\n",
    "d_aspects.to_csv(f\"gen_files/{lang}/concept_aspects.csv\", index_label=False)"
   ]
  },
  {
   "cell_type": "markdown",
   "id": "b2e85f6d-538f-4568-af3a-310d28454913",
   "metadata": {},
   "source": [
    "<hr>"
   ]
  },
  {
   "cell_type": "markdown",
   "id": "f56fd977-4b83-4702-9fc8-1103aec142ac",
   "metadata": {},
   "source": [
    "> A big number of aspects appear only once. So they are very task-spectific, and we should remove them to make the dataset more general/representative. "
   ]
  },
  {
   "cell_type": "raw",
   "id": "466e850a-1ae7-43fe-93ba-4d670c049ba0",
   "metadata": {},
   "source": [
    "# Remove aspects that appear once, because very task-specific \n",
    "d = d[d['tasks_count'] > 1 ]\n",
    "L = len(df2) \n",
    "l = len(d)\n",
    "print(\"Removed aspects represent {:.2f}% of the original set.\".format( (L-l) / L * 100) ) \n",
    "d[\"tasks_count\"].sum(), len(d)"
   ]
  },
  {
   "cell_type": "raw",
   "id": "426b36f7-bb04-4c71-a9e6-a054da73633b",
   "metadata": {},
   "source": [
    "sns.set_theme(style='white', \n",
    "              rc={'figure.figsize':(20,6)})\n",
    "ax = sns.barplot(data=d,\n",
    "                  x=\"aspectId\",\n",
    "                  y=\"tasks_count\")\n",
    "xlabels = ax.set_xticklabels(\"\")"
   ]
  },
  {
   "cell_type": "raw",
   "id": "beac2920-fb81-4934-ba63-b5a50a3c5aa3",
   "metadata": {},
   "source": [
    "remained_aspects = d[\"aspectId\"].unique()\n",
    "df = df[df[\"aspectId\"].isin(remained_aspects)]"
   ]
  }
 ],
 "metadata": {
  "kernelspec": {
   "display_name": "tb_venv",
   "language": "python",
   "name": "tb_venv"
  },
  "language_info": {
   "codemirror_mode": {
    "name": "ipython",
    "version": 3
   },
   "file_extension": ".py",
   "mimetype": "text/x-python",
   "name": "python",
   "nbconvert_exporter": "python",
   "pygments_lexer": "ipython3",
   "version": "3.11.8"
  }
 },
 "nbformat": 4,
 "nbformat_minor": 5
}
