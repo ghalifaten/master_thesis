{
 "cells": [
  {
   "cell_type": "markdown",
   "id": "269358d0-8b03-428d-8ed1-0ec21181f515",
   "metadata": {},
   "source": [
    "This notebook is made for the cleaning of aspects' texts. <hr>"
   ]
  },
  {
   "cell_type": "code",
   "execution_count": 68,
   "id": "dd6d830a-f3e6-490a-b62a-ba2d1f6851e4",
   "metadata": {},
   "outputs": [],
   "source": [
    "import warnings\n",
    "warnings.filterwarnings(\"ignore\")"
   ]
  },
  {
   "cell_type": "code",
   "execution_count": 69,
   "id": "57cecb15-2f03-4715-ae7b-53dc13fdce24",
   "metadata": {},
   "outputs": [],
   "source": [
    "import mysql.connector\n",
    "import pandas as pd\n",
    "import seaborn as sns \n",
    "import numpy as np\n",
    "cnx = mysql.connector.connect(user='root', password='taskbase',\n",
    "                              host='127.0.0.1', port='3309', database='lernnavi')"
   ]
  },
  {
   "cell_type": "code",
   "execution_count": 70,
   "id": "90df893a-176a-4e6e-b260-c18336997f71",
   "metadata": {},
   "outputs": [
    {
     "data": {
      "text/html": [
       "<div>\n",
       "<style scoped>\n",
       "    .dataframe tbody tr th:only-of-type {\n",
       "        vertical-align: middle;\n",
       "    }\n",
       "\n",
       "    .dataframe tbody tr th {\n",
       "        vertical-align: top;\n",
       "    }\n",
       "\n",
       "    .dataframe thead th {\n",
       "        text-align: right;\n",
       "    }\n",
       "</style>\n",
       "<table border=\"1\" class=\"dataframe\">\n",
       "  <thead>\n",
       "    <tr style=\"text-align: right;\">\n",
       "      <th></th>\n",
       "      <th>aspectId</th>\n",
       "      <th>description</th>\n",
       "      <th>type</th>\n",
       "      <th>groupId</th>\n",
       "      <th>categoryId</th>\n",
       "    </tr>\n",
       "  </thead>\n",
       "  <tbody>\n",
       "    <tr>\n",
       "      <th>0</th>\n",
       "      <td>1</td>\n",
       "      <td>To enable them on this domain</td>\n",
       "      <td>CONCEPT</td>\n",
       "      <td>1067.0</td>\n",
       "      <td>NaN</td>\n",
       "    </tr>\n",
       "    <tr>\n",
       "      <th>1</th>\n",
       "      <td>2</td>\n",
       "      <td>To enable competences for smoke tests</td>\n",
       "      <td>CONCEPT</td>\n",
       "      <td>48.0</td>\n",
       "      <td>NaN</td>\n",
       "    </tr>\n",
       "    <tr>\n",
       "      <th>2</th>\n",
       "      <td>4</td>\n",
       "      <td>Die Antwort wurde in einem Satz gegeben.</td>\n",
       "      <td>CONCEPT</td>\n",
       "      <td>674.0</td>\n",
       "      <td>NaN</td>\n",
       "    </tr>\n",
       "    <tr>\n",
       "      <th>3</th>\n",
       "      <td>17</td>\n",
       "      <td>Es wurde erkannt, dass die Schafe vorzeitig in...</td>\n",
       "      <td>CONCEPT</td>\n",
       "      <td>95.0</td>\n",
       "      <td>NaN</td>\n",
       "    </tr>\n",
       "    <tr>\n",
       "      <th>4</th>\n",
       "      <td>18</td>\n",
       "      <td>Es wurde erkannt, dass in Schweden der Erhalt ...</td>\n",
       "      <td>CONCEPT</td>\n",
       "      <td>73.0</td>\n",
       "      <td>NaN</td>\n",
       "    </tr>\n",
       "  </tbody>\n",
       "</table>\n",
       "</div>"
      ],
      "text/plain": [
       "   aspectId                                        description     type  \\\n",
       "0         1                      To enable them on this domain  CONCEPT   \n",
       "1         2              To enable competences for smoke tests  CONCEPT   \n",
       "2         4          Die Antwort wurde in einem Satz gegeben.   CONCEPT   \n",
       "3        17  Es wurde erkannt, dass die Schafe vorzeitig in...  CONCEPT   \n",
       "4        18  Es wurde erkannt, dass in Schweden der Erhalt ...  CONCEPT   \n",
       "\n",
       "   groupId  categoryId  \n",
       "0   1067.0         NaN  \n",
       "1     48.0         NaN  \n",
       "2    674.0         NaN  \n",
       "3     95.0         NaN  \n",
       "4     73.0         NaN  "
      ]
     },
     "execution_count": 70,
     "metadata": {},
     "output_type": "execute_result"
    }
   ],
   "source": [
    "# All Aspects\n",
    "query = \"SELECT * FROM Aspects\"\n",
    "df_aspects = pd.read_sql(query, cnx)\n",
    "df_aspects.rename(columns={\"id\":\"aspectId\"}, inplace=True)\n",
    "df_aspects = df_aspects[[\"aspectId\", \"description\", \"type\", \"groupId\", \"categoryId\"]]\n",
    "df_aspects.head()"
   ]
  },
  {
   "cell_type": "markdown",
   "id": "9fceef6b-8fb0-42eb-a364-720657b00e4c",
   "metadata": {},
   "source": [
    "<hr>"
   ]
  },
  {
   "cell_type": "code",
   "execution_count": 71,
   "id": "ef1f6bb0-d625-4e89-8d71-0ffd6a5fac88",
   "metadata": {},
   "outputs": [
    {
     "data": {
      "text/html": [
       "<div>\n",
       "<style scoped>\n",
       "    .dataframe tbody tr th:only-of-type {\n",
       "        vertical-align: middle;\n",
       "    }\n",
       "\n",
       "    .dataframe tbody tr th {\n",
       "        vertical-align: top;\n",
       "    }\n",
       "\n",
       "    .dataframe thead th {\n",
       "        text-align: right;\n",
       "    }\n",
       "</style>\n",
       "<table border=\"1\" class=\"dataframe\">\n",
       "  <thead>\n",
       "    <tr style=\"text-align: right;\">\n",
       "      <th></th>\n",
       "      <th>id</th>\n",
       "      <th>taskId</th>\n",
       "      <th>aspectId</th>\n",
       "      <th>sampleSolution</th>\n",
       "    </tr>\n",
       "  </thead>\n",
       "  <tbody>\n",
       "    <tr>\n",
       "      <th>0</th>\n",
       "      <td>3</td>\n",
       "      <td>5ElPCuVMbAy8pzupzU7R3x</td>\n",
       "      <td>2</td>\n",
       "      <td>None</td>\n",
       "    </tr>\n",
       "    <tr>\n",
       "      <th>1</th>\n",
       "      <td>54</td>\n",
       "      <td>2VX1HHa4SZp9Cs6Suof4ho</td>\n",
       "      <td>1</td>\n",
       "      <td>None</td>\n",
       "    </tr>\n",
       "    <tr>\n",
       "      <th>2</th>\n",
       "      <td>74</td>\n",
       "      <td>2j6rJkYxYa98ydGaSCW17D</td>\n",
       "      <td>4</td>\n",
       "      <td>None</td>\n",
       "    </tr>\n",
       "    <tr>\n",
       "      <th>3</th>\n",
       "      <td>75</td>\n",
       "      <td>2j6rJkYxYa98ydGaSCW17D</td>\n",
       "      <td>20</td>\n",
       "      <td>{\"type\": \"DEFAULT\", \"sampleSolutionGroups\": [{...</td>\n",
       "    </tr>\n",
       "    <tr>\n",
       "      <th>4</th>\n",
       "      <td>76</td>\n",
       "      <td>2j6rJkYxYa98ydGaSCW17D</td>\n",
       "      <td>21</td>\n",
       "      <td>{\"type\": \"DEFAULT\", \"sampleSolutionGroups\": [{...</td>\n",
       "    </tr>\n",
       "  </tbody>\n",
       "</table>\n",
       "</div>"
      ],
      "text/plain": [
       "   id                  taskId  aspectId  \\\n",
       "0   3  5ElPCuVMbAy8pzupzU7R3x         2   \n",
       "1  54  2VX1HHa4SZp9Cs6Suof4ho         1   \n",
       "2  74  2j6rJkYxYa98ydGaSCW17D         4   \n",
       "3  75  2j6rJkYxYa98ydGaSCW17D        20   \n",
       "4  76  2j6rJkYxYa98ydGaSCW17D        21   \n",
       "\n",
       "                                      sampleSolution  \n",
       "0                                               None  \n",
       "1                                               None  \n",
       "2                                               None  \n",
       "3  {\"type\": \"DEFAULT\", \"sampleSolutionGroups\": [{...  \n",
       "4  {\"type\": \"DEFAULT\", \"sampleSolutionGroups\": [{...  "
      ]
     },
     "execution_count": 71,
     "metadata": {},
     "output_type": "execute_result"
    }
   ],
   "source": [
    "query = \"SELECT * FROM TaskAspects\"\n",
    "df_TaskAspect = pd.read_sql(query, cnx)\n",
    "df_TaskAspect.head()"
   ]
  },
  {
   "cell_type": "code",
   "execution_count": 72,
   "id": "b9504162-de9b-4946-b453-c3d48f2ef1ca",
   "metadata": {},
   "outputs": [
    {
     "data": {
      "text/plain": [
       "117604"
      ]
     },
     "execution_count": 72,
     "metadata": {},
     "output_type": "execute_result"
    }
   ],
   "source": [
    "len(df_TaskAspect)"
   ]
  },
  {
   "cell_type": "markdown",
   "id": "f2e7b4c9-ff71-452b-bd55-a36472a9001b",
   "metadata": {},
   "source": [
    "**Distribution of DE aspects**"
   ]
  },
  {
   "cell_type": "code",
   "execution_count": 73,
   "id": "488a3d2f-cfed-4aac-ba5a-672c95e67a28",
   "metadata": {},
   "outputs": [
    {
     "data": {
      "text/html": [
       "<div>\n",
       "<style scoped>\n",
       "    .dataframe tbody tr th:only-of-type {\n",
       "        vertical-align: middle;\n",
       "    }\n",
       "\n",
       "    .dataframe tbody tr th {\n",
       "        vertical-align: top;\n",
       "    }\n",
       "\n",
       "    .dataframe thead th {\n",
       "        text-align: right;\n",
       "    }\n",
       "</style>\n",
       "<table border=\"1\" class=\"dataframe\">\n",
       "  <thead>\n",
       "    <tr style=\"text-align: right;\">\n",
       "      <th></th>\n",
       "      <th>taskId</th>\n",
       "      <th>aspectId</th>\n",
       "    </tr>\n",
       "  </thead>\n",
       "  <tbody>\n",
       "    <tr>\n",
       "      <th>0</th>\n",
       "      <td>9Aa4h4yosMb9oAglIYVbMr</td>\n",
       "      <td>9222</td>\n",
       "    </tr>\n",
       "    <tr>\n",
       "      <th>1</th>\n",
       "      <td>9Aa4h4yosMb9oAglIYVbMr</td>\n",
       "      <td>9226</td>\n",
       "    </tr>\n",
       "    <tr>\n",
       "      <th>2</th>\n",
       "      <td>9Aa4h4yosMb9oAglIYVbMr</td>\n",
       "      <td>9232</td>\n",
       "    </tr>\n",
       "    <tr>\n",
       "      <th>3</th>\n",
       "      <td>9Aa4h4yosMb9oAglIYVbMr</td>\n",
       "      <td>9236</td>\n",
       "    </tr>\n",
       "    <tr>\n",
       "      <th>4</th>\n",
       "      <td>2T3rZTRBlAv94jV8YNcbgq</td>\n",
       "      <td>9703</td>\n",
       "    </tr>\n",
       "  </tbody>\n",
       "</table>\n",
       "</div>"
      ],
      "text/plain": [
       "                   taskId aspectId\n",
       "0  9Aa4h4yosMb9oAglIYVbMr     9222\n",
       "1  9Aa4h4yosMb9oAglIYVbMr     9226\n",
       "2  9Aa4h4yosMb9oAglIYVbMr     9232\n",
       "3  9Aa4h4yosMb9oAglIYVbMr     9236\n",
       "4  2T3rZTRBlAv94jV8YNcbgq     9703"
      ]
     },
     "execution_count": 73,
     "metadata": {},
     "output_type": "execute_result"
    }
   ],
   "source": [
    "df_tasks = pd.read_csv(\"data/open_tasks_DE.csv\")\n",
    "df = pd.merge(df_tasks[[\"taskId\"]], df_TaskAspect[[\"taskId\", \"aspectId\"]], how=\"inner\", on=[\"taskId\"])\n",
    "df[\"aspectId\"] = df[\"aspectId\"].apply(str)\n",
    "df.head()"
   ]
  },
  {
   "cell_type": "code",
   "execution_count": 74,
   "id": "9f8dcae7-fef1-4536-855f-ce338c63cc46",
   "metadata": {},
   "outputs": [
    {
     "data": {
      "text/plain": [
       "(13094, 2271, 1730)"
      ]
     },
     "execution_count": 74,
     "metadata": {},
     "output_type": "execute_result"
    }
   ],
   "source": [
    "len(df), len(df.aspectId.unique()), len(df_tasks)"
   ]
  },
  {
   "cell_type": "code",
   "execution_count": 75,
   "id": "c1765202-5f8f-46fd-a2e3-467e889c48b2",
   "metadata": {},
   "outputs": [
    {
     "data": {
      "image/png": "[encoded data removed]",
      "text/plain": [
       "<Figure size 2000x600 with 1 Axes>"
      ]
     },
     "metadata": {},
     "output_type": "display_data"
    }
   ],
   "source": [
    "sns.set_theme(style='white', \n",
    "              rc={'figure.figsize':(20,6)})\n",
    "ax = sns.histplot(data=df,\n",
    "                  x=\"aspectId\",\n",
    "                  bins = len(df.aspectId.unique()),\n",
    "                  shrink=0.9)\n",
    "ax.set_yscale(\"log\")\n",
    "\n",
    "xlabels = ax.set_xticklabels([''])"
   ]
  },
  {
   "cell_type": "markdown",
   "id": "f56fd977-4b83-4702-9fc8-1103aec142ac",
   "metadata": {},
   "source": [
    "> A big number of aspects appear only once. So they are very task-spectific, and we should remove them to make the dataset more general/representative. "
   ]
  },
  {
   "cell_type": "code",
   "execution_count": 76,
   "id": "3bed20b2-4918-49ec-9b53-236b0f3ae1c8",
   "metadata": {},
   "outputs": [
    {
     "data": {
      "text/html": [
       "<div>\n",
       "<style scoped>\n",
       "    .dataframe tbody tr th:only-of-type {\n",
       "        vertical-align: middle;\n",
       "    }\n",
       "\n",
       "    .dataframe tbody tr th {\n",
       "        vertical-align: top;\n",
       "    }\n",
       "\n",
       "    .dataframe thead th {\n",
       "        text-align: right;\n",
       "    }\n",
       "</style>\n",
       "<table border=\"1\" class=\"dataframe\">\n",
       "  <thead>\n",
       "    <tr style=\"text-align: right;\">\n",
       "      <th></th>\n",
       "      <th>aspectId</th>\n",
       "      <th>tasks_count</th>\n",
       "    </tr>\n",
       "  </thead>\n",
       "  <tbody>\n",
       "    <tr>\n",
       "      <th>12</th>\n",
       "      <td>101128</td>\n",
       "      <td>2</td>\n",
       "    </tr>\n",
       "    <tr>\n",
       "      <th>13</th>\n",
       "      <td>101129</td>\n",
       "      <td>2</td>\n",
       "    </tr>\n",
       "    <tr>\n",
       "      <th>14</th>\n",
       "      <td>101130</td>\n",
       "      <td>6</td>\n",
       "    </tr>\n",
       "    <tr>\n",
       "      <th>15</th>\n",
       "      <td>101131</td>\n",
       "      <td>6</td>\n",
       "    </tr>\n",
       "    <tr>\n",
       "      <th>16</th>\n",
       "      <td>101132</td>\n",
       "      <td>8</td>\n",
       "    </tr>\n",
       "  </tbody>\n",
       "</table>\n",
       "</div>"
      ],
      "text/plain": [
       "   aspectId  tasks_count\n",
       "12   101128            2\n",
       "13   101129            2\n",
       "14   101130            6\n",
       "15   101131            6\n",
       "16   101132            8"
      ]
     },
     "execution_count": 76,
     "metadata": {},
     "output_type": "execute_result"
    }
   ],
   "source": [
    "d = df.groupby(\"aspectId\").count().reset_index().rename(columns={\"taskId\":\"tasks_count\"})\n",
    "d = d[d['tasks_count'] > 1 ]\n",
    "d.head()"
   ]
  },
  {
   "cell_type": "code",
   "execution_count": 77,
   "id": "4c413394-664e-4fd5-9de8-2853d7ccd773",
   "metadata": {},
   "outputs": [
    {
     "name": "stdout",
     "output_type": "stream",
     "text": [
      "Removed aspects represent 94.41% of the original set.\n"
     ]
    }
   ],
   "source": [
    "L = len(df) \n",
    "l = len(d)\n",
    "print(\"Removed aspects represent {:.2f}% of the original set.\".format( (L-l) / L * 100) ) "
   ]
  },
  {
   "cell_type": "code",
   "execution_count": 78,
   "id": "1978886f-5ec7-44a7-a881-e9f6c6f5f18f",
   "metadata": {},
   "outputs": [
    {
     "data": {
      "text/plain": [
       "11555"
      ]
     },
     "execution_count": 78,
     "metadata": {},
     "output_type": "execute_result"
    }
   ],
   "source": [
    "d[\"tasks_count\"].sum()"
   ]
  },
  {
   "cell_type": "raw",
   "id": "426b36f7-bb04-4c71-a9e6-a054da73633b",
   "metadata": {},
   "source": [
    "sns.set_theme(style='white', \n",
    "              rc={'figure.figsize':(20,6)})\n",
    "ax = sns.barplot(data=d,\n",
    "                  x=\"aspectId\",\n",
    "                  y=\"tasks_count\")\n",
    "xlabels = ax.set_xticklabels(\"\")"
   ]
  },
  {
   "cell_type": "code",
   "execution_count": 79,
   "id": "603a39f8-b993-4846-a58a-200fd80ab75d",
   "metadata": {},
   "outputs": [],
   "source": [
    "remained_aspects = d[\"aspectId\"].unique()\n",
    "df = df[df[\"aspectId\"].isin(remained_aspects)]"
   ]
  },
  {
   "cell_type": "code",
   "execution_count": 82,
   "id": "c1a91a8b-ee80-4cb0-a5cc-e11a2f1e34fa",
   "metadata": {},
   "outputs": [],
   "source": [
    "df[\"aspectId\"] = df[\"aspectId\"].apply(int)\n",
    "df.to_csv(\"data/taskAspects_DE.csv\", index_label=False)"
   ]
  },
  {
   "cell_type": "code",
   "execution_count": 84,
   "id": "3c2b41fb-c25c-424f-b8da-b2ab96d78343",
   "metadata": {},
   "outputs": [],
   "source": [
    "d_aspects = pd.merge(df[[\"aspectId\"]], df_aspects, how=\"inner\", on=[\"aspectId\"])\n",
    "d_aspects.to_csv(\"data/aspects_DE.csv\", index_label=False)"
   ]
  },
  {
   "cell_type": "markdown",
   "id": "57661fbc-eb94-409a-806f-1c3876d8a7a2",
   "metadata": {},
   "source": [
    "**English tasks**"
   ]
  },
  {
   "cell_type": "code",
   "execution_count": 85,
   "id": "bb3309c1-4efa-409c-9460-9dce4556b5f8",
   "metadata": {},
   "outputs": [
    {
     "data": {
      "text/html": [
       "<div>\n",
       "<style scoped>\n",
       "    .dataframe tbody tr th:only-of-type {\n",
       "        vertical-align: middle;\n",
       "    }\n",
       "\n",
       "    .dataframe tbody tr th {\n",
       "        vertical-align: top;\n",
       "    }\n",
       "\n",
       "    .dataframe thead th {\n",
       "        text-align: right;\n",
       "    }\n",
       "</style>\n",
       "<table border=\"1\" class=\"dataframe\">\n",
       "  <thead>\n",
       "    <tr style=\"text-align: right;\">\n",
       "      <th></th>\n",
       "      <th>taskId</th>\n",
       "      <th>aspectId</th>\n",
       "    </tr>\n",
       "  </thead>\n",
       "  <tbody>\n",
       "    <tr>\n",
       "      <th>0</th>\n",
       "      <td>8lxRyLzStOK9eUhNRal38O</td>\n",
       "      <td>9059</td>\n",
       "    </tr>\n",
       "    <tr>\n",
       "      <th>1</th>\n",
       "      <td>8lxRyLzStOK9eUhNRal38O</td>\n",
       "      <td>9065</td>\n",
       "    </tr>\n",
       "    <tr>\n",
       "      <th>2</th>\n",
       "      <td>8lxRyLzStOK9eUhNRal38O</td>\n",
       "      <td>9067</td>\n",
       "    </tr>\n",
       "    <tr>\n",
       "      <th>3</th>\n",
       "      <td>aazKG44PsKc5UnpTiDECut</td>\n",
       "      <td>9068</td>\n",
       "    </tr>\n",
       "    <tr>\n",
       "      <th>4</th>\n",
       "      <td>aazKG44PsKc5UnpTiDECut</td>\n",
       "      <td>9069</td>\n",
       "    </tr>\n",
       "  </tbody>\n",
       "</table>\n",
       "</div>"
      ],
      "text/plain": [
       "                   taskId aspectId\n",
       "0  8lxRyLzStOK9eUhNRal38O     9059\n",
       "1  8lxRyLzStOK9eUhNRal38O     9065\n",
       "2  8lxRyLzStOK9eUhNRal38O     9067\n",
       "3  aazKG44PsKc5UnpTiDECut     9068\n",
       "4  aazKG44PsKc5UnpTiDECut     9069"
      ]
     },
     "execution_count": 85,
     "metadata": {},
     "output_type": "execute_result"
    }
   ],
   "source": [
    "df_tasks = pd.read_csv(\"data/open_tasks_EN.csv\")\n",
    "df = pd.merge(df_tasks[[\"taskId\"]], df_TaskAspect[[\"taskId\", \"aspectId\"]], how=\"inner\", on=[\"taskId\"])\n",
    "df[\"aspectId\"] = df[\"aspectId\"].apply(str)\n",
    "df.head()"
   ]
  },
  {
   "cell_type": "code",
   "execution_count": 86,
   "id": "20ec1e3a-f672-415b-897b-73395831fcda",
   "metadata": {},
   "outputs": [
    {
     "data": {
      "image/png": "[encoded data removed]",
      "text/plain": [
       "<Figure size 1500x600 with 1 Axes>"
      ]
     },
     "metadata": {},
     "output_type": "display_data"
    }
   ],
   "source": [
    "sns.set_theme(style='white', \n",
    "              rc={'figure.figsize':(15,6)})\n",
    "ax = sns.histplot(data=df,\n",
    "                  x=\"aspectId\",\n",
    "                  bins = len(df.aspectId.unique()),\n",
    "                  shrink=0.8)\n",
    "ax.set_yscale(\"log\")\n",
    "\n",
    "xlabels = ax.set_xticklabels([''])"
   ]
  },
  {
   "cell_type": "code",
   "execution_count": 87,
   "id": "dcf4bff9-b204-4af3-b9cc-cdf286d5c5c4",
   "metadata": {},
   "outputs": [
    {
     "data": {
      "text/html": [
       "<div>\n",
       "<style scoped>\n",
       "    .dataframe tbody tr th:only-of-type {\n",
       "        vertical-align: middle;\n",
       "    }\n",
       "\n",
       "    .dataframe tbody tr th {\n",
       "        vertical-align: top;\n",
       "    }\n",
       "\n",
       "    .dataframe thead th {\n",
       "        text-align: right;\n",
       "    }\n",
       "</style>\n",
       "<table border=\"1\" class=\"dataframe\">\n",
       "  <thead>\n",
       "    <tr style=\"text-align: right;\">\n",
       "      <th></th>\n",
       "      <th>aspectId</th>\n",
       "      <th>tasks_count</th>\n",
       "    </tr>\n",
       "  </thead>\n",
       "  <tbody>\n",
       "    <tr>\n",
       "      <th>0</th>\n",
       "      <td>10002</td>\n",
       "      <td>6</td>\n",
       "    </tr>\n",
       "    <tr>\n",
       "      <th>2</th>\n",
       "      <td>10010</td>\n",
       "      <td>16</td>\n",
       "    </tr>\n",
       "    <tr>\n",
       "      <th>15</th>\n",
       "      <td>10069</td>\n",
       "      <td>7</td>\n",
       "    </tr>\n",
       "    <tr>\n",
       "      <th>27</th>\n",
       "      <td>10097</td>\n",
       "      <td>17</td>\n",
       "    </tr>\n",
       "    <tr>\n",
       "      <th>29</th>\n",
       "      <td>10148</td>\n",
       "      <td>33</td>\n",
       "    </tr>\n",
       "  </tbody>\n",
       "</table>\n",
       "</div>"
      ],
      "text/plain": [
       "   aspectId  tasks_count\n",
       "0     10002            6\n",
       "2     10010           16\n",
       "15    10069            7\n",
       "27    10097           17\n",
       "29    10148           33"
      ]
     },
     "execution_count": 87,
     "metadata": {},
     "output_type": "execute_result"
    }
   ],
   "source": [
    "d = df.groupby(\"aspectId\").count().reset_index().rename(columns={\"taskId\":\"tasks_count\"})\n",
    "d = d[d['tasks_count'] > 1 ]\n",
    "d.head()"
   ]
  },
  {
   "cell_type": "code",
   "execution_count": 88,
   "id": "ec632644-bbde-4481-8f8c-3abcd2f7ada1",
   "metadata": {},
   "outputs": [
    {
     "name": "stdout",
     "output_type": "stream",
     "text": [
      "Removed aspects represent 97.77% of the original set.\n"
     ]
    }
   ],
   "source": [
    "L = len(df) \n",
    "l = len(d)\n",
    "print(\"Removed aspects represent {:.2f}% of the original set.\".format( (L-l) / L * 100) ) "
   ]
  },
  {
   "cell_type": "raw",
   "id": "a076cdf7-47e6-4c29-b729-9f99b7a54fe4",
   "metadata": {},
   "source": [
    "sns.set_theme(style='white', \n",
    "              rc={'figure.figsize':(20,6)})\n",
    "ax = sns.barplot(data=d,\n",
    "                  x=\"aspectId\",\n",
    "                  y=\"tasks_count\")\n",
    "# ax.set_yscale('log')\n",
    "xlabels = ax.set_xticklabels(\"\")"
   ]
  },
  {
   "cell_type": "code",
   "execution_count": 89,
   "id": "91b90684-9b56-4d92-8257-4a69fba7e3f1",
   "metadata": {},
   "outputs": [],
   "source": [
    "remained_aspects = d[\"aspectId\"].unique()\n",
    "df = df[df[\"aspectId\"].isin(remained_aspects)]"
   ]
  },
  {
   "cell_type": "code",
   "execution_count": 90,
   "id": "39e2e902-8d98-4630-a3b7-78beead7e8b2",
   "metadata": {},
   "outputs": [],
   "source": [
    "df[\"aspectId\"] = df[\"aspectId\"].apply(int)\n",
    "df.to_csv(\"data/taskAspects_EN.csv\", index_label=False)"
   ]
  },
  {
   "cell_type": "code",
   "execution_count": 92,
   "id": "bd536d8f-f6a1-4934-8439-b7239c3c1228",
   "metadata": {},
   "outputs": [],
   "source": [
    "d_aspects = pd.merge(df[[\"aspectId\"]], df_aspects, how=\"inner\", on=[\"aspectId\"])\n",
    "d_aspects.to_csv(\"data/aspects_DE.csv\", index_label=False)"
   ]
  },
  {
   "cell_type": "markdown",
   "id": "4fd514af-cb20-4984-bd84-5eebbd43ef1f",
   "metadata": {},
   "source": [
    "<hr>"
   ]
  },
  {
   "cell_type": "code",
   "execution_count": null,
   "id": "29288a66-38fb-4e34-95c3-7a58d9916937",
   "metadata": {},
   "outputs": [],
   "source": []
  }
 ],
 "metadata": {
  "kernelspec": {
   "display_name": "tb_venv",
   "language": "python",
   "name": "tb_venv"
  },
  "language_info": {
   "codemirror_mode": {
    "name": "ipython",
    "version": 3
   },
   "file_extension": ".py",
   "mimetype": "text/x-python",
   "name": "python",
   "nbconvert_exporter": "python",
   "pygments_lexer": "ipython3",
   "version": "3.11.8"
  }
 },
 "nbformat": 4,
 "nbformat_minor": 5
}
