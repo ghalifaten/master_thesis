{
 "cells": [
  {
   "cell_type": "markdown",
   "id": "269358d0-8b03-428d-8ed1-0ec21181f515",
   "metadata": {},
   "source": [
    "This notebook is made for the cleaning of aspects' texts. <hr>"
   ]
  },
  {
   "cell_type": "code",
   "execution_count": 1,
   "id": "dd6d830a-f3e6-490a-b62a-ba2d1f6851e4",
   "metadata": {},
   "outputs": [],
   "source": [
    "import warnings\n",
    "warnings.filterwarnings(\"ignore\")"
   ]
  },
  {
   "cell_type": "code",
   "execution_count": 2,
   "id": "57cecb15-2f03-4715-ae7b-53dc13fdce24",
   "metadata": {},
   "outputs": [],
   "source": [
    "import pandas as pd\n",
    "import seaborn as sns \n",
    "import numpy as np"
   ]
  },
  {
   "cell_type": "raw",
   "id": "d28de886-d70f-448f-81d4-e60eefb7ce98",
   "metadata": {},
   "source": [
    "import mysql.connector\n",
    "cnx = mysql.connector.connect(user='root', password='taskbase',\n",
    "                              host='127.0.0.1', port='3309', database='lernnavi')\n",
    "# All Aspects\n",
    "query = \"SELECT * FROM Aspects\"\n",
    "df_aspects = pd.read_sql(query, cnx)\n",
    "df_aspects.rename(columns={\"id\":\"aspectId\"}, inplace=True)\n",
    "df_aspects = df_aspects[[\"aspectId\", \"description\", \"type\", \"groupId\", \"categoryId\"]]\n",
    "df_aspects.to_csv(\"data/aspects.csv\", index_label=False)\n",
    "\n",
    "# All taskAspects \n",
    "query = \"SELECT * FROM TaskAspects\"\n",
    "df_TaskAspect = pd.read_sql(query, cnx)\n",
    "df_TaskAspect.to_csv(\"data/taskAspects.csv\", index_label=False)"
   ]
  },
  {
   "cell_type": "code",
   "execution_count": 3,
   "id": "d97b4a10-809b-4231-b4b7-7383cbc36727",
   "metadata": {},
   "outputs": [
    {
     "data": {
      "text/html": [
       "<div>\n",
       "<style scoped>\n",
       "    .dataframe tbody tr th:only-of-type {\n",
       "        vertical-align: middle;\n",
       "    }\n",
       "\n",
       "    .dataframe tbody tr th {\n",
       "        vertical-align: top;\n",
       "    }\n",
       "\n",
       "    .dataframe thead th {\n",
       "        text-align: right;\n",
       "    }\n",
       "</style>\n",
       "<table border=\"1\" class=\"dataframe\">\n",
       "  <thead>\n",
       "    <tr style=\"text-align: right;\">\n",
       "      <th></th>\n",
       "      <th>aspectId</th>\n",
       "      <th>description</th>\n",
       "      <th>type</th>\n",
       "      <th>groupId</th>\n",
       "      <th>categoryId</th>\n",
       "    </tr>\n",
       "  </thead>\n",
       "  <tbody>\n",
       "    <tr>\n",
       "      <th>0</th>\n",
       "      <td>1</td>\n",
       "      <td>To enable them on this domain</td>\n",
       "      <td>CONCEPT</td>\n",
       "      <td>1067.0</td>\n",
       "      <td>NaN</td>\n",
       "    </tr>\n",
       "    <tr>\n",
       "      <th>1</th>\n",
       "      <td>2</td>\n",
       "      <td>To enable competences for smoke tests</td>\n",
       "      <td>CONCEPT</td>\n",
       "      <td>48.0</td>\n",
       "      <td>NaN</td>\n",
       "    </tr>\n",
       "    <tr>\n",
       "      <th>2</th>\n",
       "      <td>4</td>\n",
       "      <td>Die Antwort wurde in einem Satz gegeben.</td>\n",
       "      <td>CONCEPT</td>\n",
       "      <td>674.0</td>\n",
       "      <td>NaN</td>\n",
       "    </tr>\n",
       "    <tr>\n",
       "      <th>3</th>\n",
       "      <td>17</td>\n",
       "      <td>Es wurde erkannt, dass die Schafe vorzeitig in...</td>\n",
       "      <td>CONCEPT</td>\n",
       "      <td>95.0</td>\n",
       "      <td>NaN</td>\n",
       "    </tr>\n",
       "    <tr>\n",
       "      <th>4</th>\n",
       "      <td>18</td>\n",
       "      <td>Es wurde erkannt, dass in Schweden der Erhalt ...</td>\n",
       "      <td>CONCEPT</td>\n",
       "      <td>73.0</td>\n",
       "      <td>NaN</td>\n",
       "    </tr>\n",
       "  </tbody>\n",
       "</table>\n",
       "</div>"
      ],
      "text/plain": [
       "   aspectId                                        description     type  \\\n",
       "0         1                      To enable them on this domain  CONCEPT   \n",
       "1         2              To enable competences for smoke tests  CONCEPT   \n",
       "2         4          Die Antwort wurde in einem Satz gegeben.   CONCEPT   \n",
       "3        17  Es wurde erkannt, dass die Schafe vorzeitig in...  CONCEPT   \n",
       "4        18  Es wurde erkannt, dass in Schweden der Erhalt ...  CONCEPT   \n",
       "\n",
       "   groupId  categoryId  \n",
       "0   1067.0         NaN  \n",
       "1     48.0         NaN  \n",
       "2    674.0         NaN  \n",
       "3     95.0         NaN  \n",
       "4     73.0         NaN  "
      ]
     },
     "execution_count": 3,
     "metadata": {},
     "output_type": "execute_result"
    }
   ],
   "source": [
    "df_aspects = pd.read_csv(\"data/aspects.csv\")\n",
    "df_aspects.head()"
   ]
  },
  {
   "cell_type": "code",
   "execution_count": 4,
   "id": "200bd2e4-db5b-4be1-bf00-8bb61488f94e",
   "metadata": {},
   "outputs": [
    {
     "data": {
      "text/plain": [
       "array(['CONCEPT', 'MISCONCEPTION'], dtype=object)"
      ]
     },
     "execution_count": 4,
     "metadata": {},
     "output_type": "execute_result"
    }
   ],
   "source": [
    "df_aspects.type.unique()"
   ]
  },
  {
   "cell_type": "code",
   "execution_count": 5,
   "id": "097ee1bb-31ea-4f69-a013-d20e1d8813f0",
   "metadata": {},
   "outputs": [],
   "source": [
    "df_concept_aspects = df_aspects[df_aspects[\"type\"] == \"CONCEPT\"]"
   ]
  },
  {
   "cell_type": "markdown",
   "id": "9fceef6b-8fb0-42eb-a364-720657b00e4c",
   "metadata": {},
   "source": [
    "<hr>"
   ]
  },
  {
   "cell_type": "code",
   "execution_count": 6,
   "id": "ef1f6bb0-d625-4e89-8d71-0ffd6a5fac88",
   "metadata": {},
   "outputs": [
    {
     "data": {
      "text/html": [
       "<div>\n",
       "<style scoped>\n",
       "    .dataframe tbody tr th:only-of-type {\n",
       "        vertical-align: middle;\n",
       "    }\n",
       "\n",
       "    .dataframe tbody tr th {\n",
       "        vertical-align: top;\n",
       "    }\n",
       "\n",
       "    .dataframe thead th {\n",
       "        text-align: right;\n",
       "    }\n",
       "</style>\n",
       "<table border=\"1\" class=\"dataframe\">\n",
       "  <thead>\n",
       "    <tr style=\"text-align: right;\">\n",
       "      <th></th>\n",
       "      <th>id</th>\n",
       "      <th>taskId</th>\n",
       "      <th>aspectId</th>\n",
       "      <th>sampleSolution</th>\n",
       "    </tr>\n",
       "  </thead>\n",
       "  <tbody>\n",
       "    <tr>\n",
       "      <th>0</th>\n",
       "      <td>3</td>\n",
       "      <td>5ElPCuVMbAy8pzupzU7R3x</td>\n",
       "      <td>2</td>\n",
       "      <td>NaN</td>\n",
       "    </tr>\n",
       "    <tr>\n",
       "      <th>1</th>\n",
       "      <td>54</td>\n",
       "      <td>2VX1HHa4SZp9Cs6Suof4ho</td>\n",
       "      <td>1</td>\n",
       "      <td>NaN</td>\n",
       "    </tr>\n",
       "    <tr>\n",
       "      <th>2</th>\n",
       "      <td>74</td>\n",
       "      <td>2j6rJkYxYa98ydGaSCW17D</td>\n",
       "      <td>4</td>\n",
       "      <td>NaN</td>\n",
       "    </tr>\n",
       "    <tr>\n",
       "      <th>3</th>\n",
       "      <td>75</td>\n",
       "      <td>2j6rJkYxYa98ydGaSCW17D</td>\n",
       "      <td>20</td>\n",
       "      <td>{\"type\": \"DEFAULT\", \"sampleSolutionGroups\": [{...</td>\n",
       "    </tr>\n",
       "    <tr>\n",
       "      <th>4</th>\n",
       "      <td>76</td>\n",
       "      <td>2j6rJkYxYa98ydGaSCW17D</td>\n",
       "      <td>21</td>\n",
       "      <td>{\"type\": \"DEFAULT\", \"sampleSolutionGroups\": [{...</td>\n",
       "    </tr>\n",
       "  </tbody>\n",
       "</table>\n",
       "</div>"
      ],
      "text/plain": [
       "   id                  taskId  aspectId  \\\n",
       "0   3  5ElPCuVMbAy8pzupzU7R3x         2   \n",
       "1  54  2VX1HHa4SZp9Cs6Suof4ho         1   \n",
       "2  74  2j6rJkYxYa98ydGaSCW17D         4   \n",
       "3  75  2j6rJkYxYa98ydGaSCW17D        20   \n",
       "4  76  2j6rJkYxYa98ydGaSCW17D        21   \n",
       "\n",
       "                                      sampleSolution  \n",
       "0                                                NaN  \n",
       "1                                                NaN  \n",
       "2                                                NaN  \n",
       "3  {\"type\": \"DEFAULT\", \"sampleSolutionGroups\": [{...  \n",
       "4  {\"type\": \"DEFAULT\", \"sampleSolutionGroups\": [{...  "
      ]
     },
     "execution_count": 6,
     "metadata": {},
     "output_type": "execute_result"
    }
   ],
   "source": [
    "df_TaskAspect = pd.read_csv(\"data/taskAspects.csv\")\n",
    "df_TaskAspect.head()"
   ]
  },
  {
   "cell_type": "code",
   "execution_count": 7,
   "id": "b9504162-de9b-4946-b453-c3d48f2ef1ca",
   "metadata": {},
   "outputs": [
    {
     "data": {
      "text/plain": [
       "117604"
      ]
     },
     "execution_count": 7,
     "metadata": {},
     "output_type": "execute_result"
    }
   ],
   "source": [
    "len(df_TaskAspect)"
   ]
  },
  {
   "cell_type": "markdown",
   "id": "f2e7b4c9-ff71-452b-bd55-a36472a9001b",
   "metadata": {},
   "source": [
    "**Distribution of DE aspects**"
   ]
  },
  {
   "cell_type": "code",
   "execution_count": 8,
   "id": "488a3d2f-cfed-4aac-ba5a-672c95e67a28",
   "metadata": {},
   "outputs": [
    {
     "data": {
      "text/html": [
       "<div>\n",
       "<style scoped>\n",
       "    .dataframe tbody tr th:only-of-type {\n",
       "        vertical-align: middle;\n",
       "    }\n",
       "\n",
       "    .dataframe tbody tr th {\n",
       "        vertical-align: top;\n",
       "    }\n",
       "\n",
       "    .dataframe thead th {\n",
       "        text-align: right;\n",
       "    }\n",
       "</style>\n",
       "<table border=\"1\" class=\"dataframe\">\n",
       "  <thead>\n",
       "    <tr style=\"text-align: right;\">\n",
       "      <th></th>\n",
       "      <th>taskId</th>\n",
       "      <th>aspectId</th>\n",
       "    </tr>\n",
       "  </thead>\n",
       "  <tbody>\n",
       "    <tr>\n",
       "      <th>0</th>\n",
       "      <td>9Aa4h4yosMb9oAglIYVbMr</td>\n",
       "      <td>9222</td>\n",
       "    </tr>\n",
       "    <tr>\n",
       "      <th>1</th>\n",
       "      <td>9Aa4h4yosMb9oAglIYVbMr</td>\n",
       "      <td>9226</td>\n",
       "    </tr>\n",
       "    <tr>\n",
       "      <th>2</th>\n",
       "      <td>9Aa4h4yosMb9oAglIYVbMr</td>\n",
       "      <td>9232</td>\n",
       "    </tr>\n",
       "    <tr>\n",
       "      <th>3</th>\n",
       "      <td>9Aa4h4yosMb9oAglIYVbMr</td>\n",
       "      <td>9236</td>\n",
       "    </tr>\n",
       "    <tr>\n",
       "      <th>4</th>\n",
       "      <td>2T3rZTRBlAv94jV8YNcbgq</td>\n",
       "      <td>9703</td>\n",
       "    </tr>\n",
       "  </tbody>\n",
       "</table>\n",
       "</div>"
      ],
      "text/plain": [
       "                   taskId  aspectId\n",
       "0  9Aa4h4yosMb9oAglIYVbMr      9222\n",
       "1  9Aa4h4yosMb9oAglIYVbMr      9226\n",
       "2  9Aa4h4yosMb9oAglIYVbMr      9232\n",
       "3  9Aa4h4yosMb9oAglIYVbMr      9236\n",
       "4  2T3rZTRBlAv94jV8YNcbgq      9703"
      ]
     },
     "execution_count": 8,
     "metadata": {},
     "output_type": "execute_result"
    }
   ],
   "source": [
    "df_tasks = pd.read_csv(\"data/open_tasks_DE.csv\")\n",
    "df = pd.merge(df_tasks[[\"taskId\"]], df_TaskAspect[[\"taskId\", \"aspectId\"]], how=\"inner\", on=[\"taskId\"])\n",
    "df.head()"
   ]
  },
  {
   "cell_type": "code",
   "execution_count": 9,
   "id": "9f8dcae7-fef1-4536-855f-ce338c63cc46",
   "metadata": {},
   "outputs": [
    {
     "data": {
      "text/plain": [
       "(13094, 2271, 1730)"
      ]
     },
     "execution_count": 9,
     "metadata": {},
     "output_type": "execute_result"
    }
   ],
   "source": [
    "len(df), len(df.aspectId.unique()), len(df_tasks)"
   ]
  },
  {
   "cell_type": "code",
   "execution_count": 10,
   "id": "5e86459d-3b73-422d-80b4-912e465c7fe1",
   "metadata": {},
   "outputs": [
    {
     "data": {
      "text/html": [
       "<div>\n",
       "<style scoped>\n",
       "    .dataframe tbody tr th:only-of-type {\n",
       "        vertical-align: middle;\n",
       "    }\n",
       "\n",
       "    .dataframe tbody tr th {\n",
       "        vertical-align: top;\n",
       "    }\n",
       "\n",
       "    .dataframe thead th {\n",
       "        text-align: right;\n",
       "    }\n",
       "</style>\n",
       "<table border=\"1\" class=\"dataframe\">\n",
       "  <thead>\n",
       "    <tr style=\"text-align: right;\">\n",
       "      <th></th>\n",
       "      <th>taskId</th>\n",
       "      <th>aspectId</th>\n",
       "    </tr>\n",
       "  </thead>\n",
       "  <tbody>\n",
       "    <tr>\n",
       "      <th>0</th>\n",
       "      <td>9Aa4h4yosMb9oAglIYVbMr</td>\n",
       "      <td>9226</td>\n",
       "    </tr>\n",
       "    <tr>\n",
       "      <th>1</th>\n",
       "      <td>9Aa4h4yosMb9oAglIYVbMr</td>\n",
       "      <td>9236</td>\n",
       "    </tr>\n",
       "    <tr>\n",
       "      <th>2</th>\n",
       "      <td>2T3rZTRBlAv94jV8YNcbgq</td>\n",
       "      <td>9707</td>\n",
       "    </tr>\n",
       "    <tr>\n",
       "      <th>3</th>\n",
       "      <td>2T3rZTRBlAv94jV8YNcbgq</td>\n",
       "      <td>9709</td>\n",
       "    </tr>\n",
       "    <tr>\n",
       "      <th>4</th>\n",
       "      <td>2T3rZTRBlAv94jV8YNcbgq</td>\n",
       "      <td>9713</td>\n",
       "    </tr>\n",
       "  </tbody>\n",
       "</table>\n",
       "</div>"
      ],
      "text/plain": [
       "                   taskId  aspectId\n",
       "0  9Aa4h4yosMb9oAglIYVbMr      9226\n",
       "1  9Aa4h4yosMb9oAglIYVbMr      9236\n",
       "2  2T3rZTRBlAv94jV8YNcbgq      9707\n",
       "3  2T3rZTRBlAv94jV8YNcbgq      9709\n",
       "4  2T3rZTRBlAv94jV8YNcbgq      9713"
      ]
     },
     "execution_count": 10,
     "metadata": {},
     "output_type": "execute_result"
    }
   ],
   "source": [
    "# Aspects of type CONCEPT only \n",
    "df2 = pd.merge(df, df_concept_aspects[[\"aspectId\"]], how=\"inner\", on=[\"aspectId\"]) \n",
    "df2.head()"
   ]
  },
  {
   "cell_type": "code",
   "execution_count": 11,
   "id": "9692106f-cd55-45c1-bbf2-210dac1d2b73",
   "metadata": {},
   "outputs": [
    {
     "data": {
      "text/plain": [
       "(4814, 872)"
      ]
     },
     "execution_count": 11,
     "metadata": {},
     "output_type": "execute_result"
    }
   ],
   "source": [
    "len(df2), len(df2.aspectId.unique())"
   ]
  },
  {
   "cell_type": "code",
   "execution_count": 12,
   "id": "c1765202-5f8f-46fd-a2e3-467e889c48b2",
   "metadata": {},
   "outputs": [
    {
     "data": {
      "image/png": "[encoded data removed]",
      "text/plain": [
       "<Figure size 2000x600 with 1 Axes>"
      ]
     },
     "metadata": {},
     "output_type": "display_data"
    }
   ],
   "source": [
    "sns.set_theme(style='white', \n",
    "              rc={'figure.figsize':(20,6)})\n",
    "ax = sns.histplot(data=df2,\n",
    "                  x=\"aspectId\",\n",
    "                  bins = len(df.aspectId.unique()),\n",
    "                  shrink=0.9)\n",
    "ax.set_yscale(\"log\")\n",
    "\n",
    "xlabels = ax.set_xticklabels([''])"
   ]
  },
  {
   "cell_type": "markdown",
   "id": "f56fd977-4b83-4702-9fc8-1103aec142ac",
   "metadata": {},
   "source": [
    "> A big number of aspects appear only once. So they are very task-spectific, and we should remove them to make the dataset more general/representative. "
   ]
  },
  {
   "cell_type": "code",
   "execution_count": 13,
   "id": "3bed20b2-4918-49ec-9b53-236b0f3ae1c8",
   "metadata": {},
   "outputs": [
    {
     "data": {
      "text/plain": [
       "(4814, 872)"
      ]
     },
     "execution_count": 13,
     "metadata": {},
     "output_type": "execute_result"
    }
   ],
   "source": [
    "# Count of tasks by aspect - Inspecting those that appear once \n",
    "d = df2.groupby(\"aspectId\").count().reset_index().rename(columns={\"taskId\":\"tasks_count\"})\n",
    "d[\"tasks_count\"].sum(), len(d)"
   ]
  },
  {
   "cell_type": "code",
   "execution_count": 14,
   "id": "5a129609-486e-4501-9892-499e9c47b7cd",
   "metadata": {},
   "outputs": [
    {
     "name": "stdout",
     "output_type": "stream",
     "text": [
      "Removed aspects represent 95.93% of the original set.\n"
     ]
    },
    {
     "data": {
      "text/plain": [
       "(4138, 196)"
      ]
     },
     "execution_count": 14,
     "metadata": {},
     "output_type": "execute_result"
    }
   ],
   "source": [
    "# Remove aspects that appear once, because very task-specific \n",
    "d = d[d['tasks_count'] > 1 ]\n",
    "L = len(df2) \n",
    "l = len(d)\n",
    "print(\"Removed aspects represent {:.2f}% of the original set.\".format( (L-l) / L * 100) ) \n",
    "d[\"tasks_count\"].sum(), len(d)"
   ]
  },
  {
   "cell_type": "raw",
   "id": "426b36f7-bb04-4c71-a9e6-a054da73633b",
   "metadata": {},
   "source": [
    "sns.set_theme(style='white', \n",
    "              rc={'figure.figsize':(20,6)})\n",
    "ax = sns.barplot(data=d,\n",
    "                  x=\"aspectId\",\n",
    "                  y=\"tasks_count\")\n",
    "xlabels = ax.set_xticklabels(\"\")"
   ]
  },
  {
   "cell_type": "code",
   "execution_count": 15,
   "id": "603a39f8-b993-4846-a58a-200fd80ab75d",
   "metadata": {},
   "outputs": [],
   "source": [
    "remained_aspects = d[\"aspectId\"].unique()\n",
    "df = df[df[\"aspectId\"].isin(remained_aspects)]"
   ]
  },
  {
   "cell_type": "code",
   "execution_count": 16,
   "id": "c1a91a8b-ee80-4cb0-a5cc-e11a2f1e34fa",
   "metadata": {},
   "outputs": [],
   "source": [
    "df.to_csv(\"data/taskAspects_DE.csv\", index_label=False)"
   ]
  },
  {
   "cell_type": "code",
   "execution_count": 17,
   "id": "3c2b41fb-c25c-424f-b8da-b2ab96d78343",
   "metadata": {},
   "outputs": [],
   "source": [
    "d_aspects = pd.merge(df[[\"aspectId\"]].drop_duplicates(), df_aspects, how=\"inner\", on=[\"aspectId\"])\n",
    "d_aspects.to_csv(\"data/concept_aspects_DE.csv\", index_label=False)"
   ]
  },
  {
   "cell_type": "markdown",
   "id": "57661fbc-eb94-409a-806f-1c3876d8a7a2",
   "metadata": {},
   "source": [
    "**English tasks**"
   ]
  },
  {
   "cell_type": "code",
   "execution_count": 18,
   "id": "bb3309c1-4efa-409c-9460-9dce4556b5f8",
   "metadata": {},
   "outputs": [
    {
     "data": {
      "text/html": [
       "<div>\n",
       "<style scoped>\n",
       "    .dataframe tbody tr th:only-of-type {\n",
       "        vertical-align: middle;\n",
       "    }\n",
       "\n",
       "    .dataframe tbody tr th {\n",
       "        vertical-align: top;\n",
       "    }\n",
       "\n",
       "    .dataframe thead th {\n",
       "        text-align: right;\n",
       "    }\n",
       "</style>\n",
       "<table border=\"1\" class=\"dataframe\">\n",
       "  <thead>\n",
       "    <tr style=\"text-align: right;\">\n",
       "      <th></th>\n",
       "      <th>taskId</th>\n",
       "      <th>aspectId</th>\n",
       "    </tr>\n",
       "  </thead>\n",
       "  <tbody>\n",
       "    <tr>\n",
       "      <th>0</th>\n",
       "      <td>8lxRyLzStOK9eUhNRal38O</td>\n",
       "      <td>9059</td>\n",
       "    </tr>\n",
       "    <tr>\n",
       "      <th>1</th>\n",
       "      <td>8lxRyLzStOK9eUhNRal38O</td>\n",
       "      <td>9065</td>\n",
       "    </tr>\n",
       "    <tr>\n",
       "      <th>2</th>\n",
       "      <td>8lxRyLzStOK9eUhNRal38O</td>\n",
       "      <td>9067</td>\n",
       "    </tr>\n",
       "    <tr>\n",
       "      <th>3</th>\n",
       "      <td>aazKG44PsKc5UnpTiDECut</td>\n",
       "      <td>9068</td>\n",
       "    </tr>\n",
       "    <tr>\n",
       "      <th>4</th>\n",
       "      <td>aazKG44PsKc5UnpTiDECut</td>\n",
       "      <td>9069</td>\n",
       "    </tr>\n",
       "  </tbody>\n",
       "</table>\n",
       "</div>"
      ],
      "text/plain": [
       "                   taskId  aspectId\n",
       "0  8lxRyLzStOK9eUhNRal38O      9059\n",
       "1  8lxRyLzStOK9eUhNRal38O      9065\n",
       "2  8lxRyLzStOK9eUhNRal38O      9067\n",
       "3  aazKG44PsKc5UnpTiDECut      9068\n",
       "4  aazKG44PsKc5UnpTiDECut      9069"
      ]
     },
     "execution_count": 18,
     "metadata": {},
     "output_type": "execute_result"
    }
   ],
   "source": [
    "df_tasks = pd.read_csv(\"data/open_tasks_EN.csv\")\n",
    "df = pd.merge(df_tasks[[\"taskId\"]], df_TaskAspect[[\"taskId\", \"aspectId\"]], how=\"inner\", on=[\"taskId\"])\n",
    "df.head()"
   ]
  },
  {
   "cell_type": "code",
   "execution_count": 19,
   "id": "0a93a891-edb8-4e54-b720-1f4356d6a887",
   "metadata": {},
   "outputs": [
    {
     "data": {
      "text/plain": [
       "(52542, 2394)"
      ]
     },
     "execution_count": 19,
     "metadata": {},
     "output_type": "execute_result"
    }
   ],
   "source": [
    "len(df), len(df.aspectId.unique())"
   ]
  },
  {
   "cell_type": "code",
   "execution_count": 20,
   "id": "909abd8b-00fc-4be7-9ecc-f7172f6ed74f",
   "metadata": {},
   "outputs": [
    {
     "data": {
      "text/html": [
       "<div>\n",
       "<style scoped>\n",
       "    .dataframe tbody tr th:only-of-type {\n",
       "        vertical-align: middle;\n",
       "    }\n",
       "\n",
       "    .dataframe tbody tr th {\n",
       "        vertical-align: top;\n",
       "    }\n",
       "\n",
       "    .dataframe thead th {\n",
       "        text-align: right;\n",
       "    }\n",
       "</style>\n",
       "<table border=\"1\" class=\"dataframe\">\n",
       "  <thead>\n",
       "    <tr style=\"text-align: right;\">\n",
       "      <th></th>\n",
       "      <th>taskId</th>\n",
       "      <th>aspectId</th>\n",
       "    </tr>\n",
       "  </thead>\n",
       "  <tbody>\n",
       "    <tr>\n",
       "      <th>0</th>\n",
       "      <td>8lxRyLzStOK9eUhNRal38O</td>\n",
       "      <td>9065</td>\n",
       "    </tr>\n",
       "    <tr>\n",
       "      <th>1</th>\n",
       "      <td>aazKG44PsKc5UnpTiDECut</td>\n",
       "      <td>9069</td>\n",
       "    </tr>\n",
       "    <tr>\n",
       "      <th>2</th>\n",
       "      <td>8L1QdQwEG5XaRfdYKcLPed</td>\n",
       "      <td>9077</td>\n",
       "    </tr>\n",
       "    <tr>\n",
       "      <th>3</th>\n",
       "      <td>8L1QdQwEG5XaRfdYKcLPed</td>\n",
       "      <td>9575</td>\n",
       "    </tr>\n",
       "    <tr>\n",
       "      <th>4</th>\n",
       "      <td>14ambh1obhw7TYMQE8lcC1</td>\n",
       "      <td>9637</td>\n",
       "    </tr>\n",
       "  </tbody>\n",
       "</table>\n",
       "</div>"
      ],
      "text/plain": [
       "                   taskId  aspectId\n",
       "0  8lxRyLzStOK9eUhNRal38O      9065\n",
       "1  aazKG44PsKc5UnpTiDECut      9069\n",
       "2  8L1QdQwEG5XaRfdYKcLPed      9077\n",
       "3  8L1QdQwEG5XaRfdYKcLPed      9575\n",
       "4  14ambh1obhw7TYMQE8lcC1      9637"
      ]
     },
     "execution_count": 20,
     "metadata": {},
     "output_type": "execute_result"
    }
   ],
   "source": [
    "# Aspects of type CONCEPT only \n",
    "df2 = pd.merge(df, df_concept_aspects[[\"aspectId\"]], how=\"inner\", on=[\"aspectId\"]) \n",
    "df2.head()"
   ]
  },
  {
   "cell_type": "code",
   "execution_count": 21,
   "id": "d7156a17-e791-4716-a83f-438b3ee97e16",
   "metadata": {},
   "outputs": [
    {
     "data": {
      "text/plain": [
       "(11610, 657)"
      ]
     },
     "execution_count": 21,
     "metadata": {},
     "output_type": "execute_result"
    }
   ],
   "source": [
    "len(df2), len(df2.aspectId.unique())"
   ]
  },
  {
   "cell_type": "raw",
   "id": "0b585fea-700c-43de-9996-777f4b06c8a9",
   "metadata": {},
   "source": [
    "sns.set_theme(style='white', \n",
    "              rc={'figure.figsize':(15,6)})\n",
    "ax = sns.histplot(data=df,\n",
    "                  x=\"aspectId\",\n",
    "                  bins = len(df.aspectId.unique()),\n",
    "                  shrink=0.8)\n",
    "ax.set_yscale(\"log\")\n",
    "\n",
    "xlabels = ax.set_xticklabels([''])"
   ]
  },
  {
   "cell_type": "code",
   "execution_count": 23,
   "id": "564d2fdc-1e31-4460-b246-b60f4001cd2a",
   "metadata": {},
   "outputs": [
    {
     "data": {
      "text/plain": [
       "(11610, 657)"
      ]
     },
     "execution_count": 23,
     "metadata": {},
     "output_type": "execute_result"
    }
   ],
   "source": [
    "# Count of tasks by aspect - Inspecting those that appear once \n",
    "d = df2.groupby(\"aspectId\").count().reset_index().rename(columns={\"taskId\":\"tasks_count\"})\n",
    "d[\"tasks_count\"].sum(), len(d)"
   ]
  },
  {
   "cell_type": "code",
   "execution_count": 24,
   "id": "ec632644-bbde-4481-8f8c-3abcd2f7ada1",
   "metadata": {},
   "outputs": [
    {
     "name": "stdout",
     "output_type": "stream",
     "text": [
      "Removed aspects represent 97.68% of the original set.\n"
     ]
    },
    {
     "data": {
      "text/plain": [
       "(11222, 269)"
      ]
     },
     "execution_count": 24,
     "metadata": {},
     "output_type": "execute_result"
    }
   ],
   "source": [
    "# Remove aspects that appear once, because very task-specific \n",
    "d = d[d['tasks_count'] > 1 ]\n",
    "L = len(df2) \n",
    "l = len(d)\n",
    "print(\"Removed aspects represent {:.2f}% of the original set.\".format( (L-l) / L * 100) ) \n",
    "d[\"tasks_count\"].sum(), len(d)"
   ]
  },
  {
   "cell_type": "raw",
   "id": "a076cdf7-47e6-4c29-b729-9f99b7a54fe4",
   "metadata": {},
   "source": [
    "sns.set_theme(style='white', \n",
    "              rc={'figure.figsize':(20,6)})\n",
    "ax = sns.barplot(data=d,\n",
    "                  x=\"aspectId\",\n",
    "                  y=\"tasks_count\")\n",
    "# ax.set_yscale('log')\n",
    "xlabels = ax.set_xticklabels(\"\")"
   ]
  },
  {
   "cell_type": "code",
   "execution_count": 25,
   "id": "91b90684-9b56-4d92-8257-4a69fba7e3f1",
   "metadata": {},
   "outputs": [],
   "source": [
    "remained_aspects = d[\"aspectId\"].unique()\n",
    "df = df[df[\"aspectId\"].isin(remained_aspects)]"
   ]
  },
  {
   "cell_type": "code",
   "execution_count": 26,
   "id": "39e2e902-8d98-4630-a3b7-78beead7e8b2",
   "metadata": {},
   "outputs": [],
   "source": [
    "df.to_csv(\"data/taskAspects_EN.csv\", index_label=False)"
   ]
  },
  {
   "cell_type": "code",
   "execution_count": 27,
   "id": "bd536d8f-f6a1-4934-8439-b7239c3c1228",
   "metadata": {},
   "outputs": [],
   "source": [
    "d_aspects = pd.merge(df[[\"aspectId\"]].drop_duplicates(), df_aspects, how=\"inner\", on=[\"aspectId\"])\n",
    "d_aspects.to_csv(\"data/concept_aspects_EN.csv\", index_label=False)"
   ]
  },
  {
   "cell_type": "markdown",
   "id": "4fd514af-cb20-4984-bd84-5eebbd43ef1f",
   "metadata": {},
   "source": [
    "<hr>"
   ]
  }
 ],
 "metadata": {
  "kernelspec": {
   "display_name": "tb_venv",
   "language": "python",
   "name": "tb_venv"
  },
  "language_info": {
   "codemirror_mode": {
    "name": "ipython",
    "version": 3
   },
   "file_extension": ".py",
   "mimetype": "text/x-python",
   "name": "python",
   "nbconvert_exporter": "python",
   "pygments_lexer": "ipython3",
   "version": "3.11.8"
  }
 },
 "nbformat": 4,
 "nbformat_minor": 5
}
