{
 "cells": [
  {
   "cell_type": "code",
   "execution_count": 11,
   "id": "a83cad40-9ace-447e-b8fe-fdea4e413eac",
   "metadata": {},
   "outputs": [],
   "source": [
    "import pandas as pd "
   ]
  },
  {
   "cell_type": "code",
   "execution_count": 12,
   "id": "4c807d10-fc14-4b12-983b-227c4ae9c1cd",
   "metadata": {},
   "outputs": [],
   "source": [
    "filenames = [\n",
    "    \"open_tasks_EN\",\n",
    "    \"augmented_BT_EN\", \n",
    "    \"augmented_RD_EN\", \n",
    "    \"augmented_RI_EN\", \n",
    "    \"augmented_RS_EN\", \n",
    "    \"augmented_SR_EN\", \n",
    "] \n",
    "df = pd.DataFrame() \n",
    "\n",
    "for filename in filenames: \n",
    "    _df = pd.read_csv(\"data/preprocessed_\"+filename+\".csv\")\n",
    "    df = pd.concat([df, _df],  ignore_index=True) \n",
    "\n",
    "df.to_csv(\"data/final_tasks_EN.csv\", index_label=False)"
   ]
  },
  {
   "cell_type": "code",
   "execution_count": 13,
   "id": "62b23158-00f4-461e-b336-c96c8832ace8",
   "metadata": {},
   "outputs": [],
   "source": [
    "filenames = [\n",
    "    \"open_tasks_DE\",\n",
    "    \"augmented_BT_DE\", \n",
    "    \"augmented_RD_DE\", \n",
    "    \"augmented_RI_DE\", \n",
    "    \"augmented_RS_DE\", \n",
    "    \"augmented_SR_DE\", \n",
    "]\n",
    "df = pd.DataFrame() \n",
    "\n",
    "for filename in filenames: \n",
    "    _df = pd.read_csv(\"data/preprocessed_\"+filename+\".csv\")\n",
    "    df = pd.concat([df, _df],  ignore_index=True) \n",
    "\n",
    "df.to_csv(\"data/final_tasks_DE.csv\", index_label=False)"
   ]
  },
  {
   "cell_type": "code",
   "execution_count": null,
   "id": "e9a7ef9f-a708-4f7f-838d-d639464c0a0a",
   "metadata": {},
   "outputs": [],
   "source": []
  }
 ],
 "metadata": {
  "kernelspec": {
   "display_name": "tb_venv",
   "language": "python",
   "name": "tb_venv"
  },
  "language_info": {
   "codemirror_mode": {
    "name": "ipython",
    "version": 3
   },
   "file_extension": ".py",
   "mimetype": "text/x-python",
   "name": "python",
   "nbconvert_exporter": "python",
   "pygments_lexer": "ipython3",
   "version": "3.11.8"
  }
 },
 "nbformat": 4,
 "nbformat_minor": 5
}
