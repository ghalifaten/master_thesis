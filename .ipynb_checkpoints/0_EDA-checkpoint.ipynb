{
 "cells": [
  {
   "cell_type": "markdown",
   "id": "986ef0bf-020e-4b3a-ad57-143c2d5e17d7",
   "metadata": {},
   "source": [
    "## Tasks \n",
    "\n",
    "Table of all versions of tasks.\n",
    "* **version**: version number of the task update\n",
    "* **taskId**: unique ID of the task. *version* is however the primary key of the table => Multiple rows could have the same ID.\n",
    "* **title**\n",
    "* **typeId**: ID of the type of the task. 33 types: *OPEN, CLOZE_TEXT_INPUT, CLOZE_TEXT_DROPDOWN, MULTIPLE_CHOICE, GRAMMAR, SPELLCHECK...*\n",
    "* **createdTime**: timestamp of creation of the version of the task\n",
    "* **authorId**\n",
    "* **content**: a dict containing more information about the task (some fields in dict exist already as a separate column) <br> *id, <br>type, <br>hints (list), <br>title, <br>version, <br>description (text), <br>taskType (OPEN, CLUSTER,... same as type?), <br>solutionSteps (list)*\n",
    "* **Status**: status of the task? *DRAFT, INITIAL, WORK_IN_PROGRESS...* \n",
    "* **aiStatus**: \n",
    "* **customerId, language, followUpTask, versionComment, feedbackComment**: sparse fields.\n",
    "\n",
    "> **TaskChildParent**\n",
    "\n",
    "<hr>\n",
    "\n",
    "## LatestTaskVersions\n",
    "\n",
    "The table containing the last versions of tasks.\n",
    "* **version**\n",
    "* **taskId**: no duplicates\n",
    "* **createdTime**\n",
    "  \n",
    "<hr>\n",
    "\n",
    "## Competences\n",
    "\n",
    "The table of **Aspects**\n",
    "\n",
    "* **id**\n",
    "* **name**\n",
    "* **description**\n",
    "* **tenantId**: ID of the client\n",
    "* **categoryId**: *Content, Deklination, Grammar, Spelling, Tempus, Modus, Wortart...* -sparse\n",
    "* **type**: CONCEPT, MISCONCEPTION\n",
    "* **groupId**\n",
    "* **metaData**\n",
    "\n",
    "> **TaskCompetences** is a join table associating *taskId* to *competenceId*.\n",
    "\n",
    "<hr>\n",
    "\n",
    "## AspectsConfigurations\n",
    "\n",
    "The table of **Detectors**\n",
    "\n",
    "* **id**: table PK\n",
    "* **name**: detector name\n",
    "* **aspectDetectorConfiguration**: dict containing different parameters, related to the detector type.\n",
    "* **taskId**: one task can have multiple detectors, one detector per row.\n",
    "* **topicId** -sparse\n",
    "* **authorId**\n",
    "* **configurationId, isEnabled**: sparse fields\n",
    "\n",
    "<hr>"
   ]
  },
  {
   "cell_type": "code",
   "execution_count": 1,
   "id": "1bfb32e6-09c0-41ea-9c38-76648c0407ea",
   "metadata": {},
   "outputs": [],
   "source": [
    "import warnings\n",
    "warnings.filterwarnings(\"ignore\")"
   ]
  },
  {
   "cell_type": "code",
   "execution_count": 2,
   "id": "047a420b-5b80-4d11-81d3-4c2159a759be",
   "metadata": {},
   "outputs": [],
   "source": [
    "import mysql.connector\n",
    "import pandas as pd\n",
    "import seaborn as sns\n",
    "import matplotlib.pyplot as plt\n",
    "import numpy as np\n",
    "import json\n",
    "from bs4 import BeautifulSoup"
   ]
  },
  {
   "cell_type": "code",
   "execution_count": 3,
   "id": "7bd97542-d980-46f3-8230-6edf4b889f33",
   "metadata": {},
   "outputs": [],
   "source": [
    "sns.set_theme(style='white', \n",
    "              rc={'figure.figsize':(15,8)})\n",
    "color_blind_colors = [\n",
    "    \"#00429d\",  # Dark blue\n",
    "    \"#009c79\",  # Dark green\n",
    "    \"#ff420e\",  # Orange\n",
    "    \"#365e96\",  # Blue\n",
    "    \"#ffbb00\",  # Yellow\n",
    "    \"#a200ff\",  # Purple\n",
    "    \"#01b1d2\",  # Cyan\n",
    "    \"#00558c\",  # Dark blue\n",
    "    \"#9e0638\",  # Red\n",
    "    \"#00a03e\",  # Green\n",
    "    \"#ffcd00\",  # Yellow\n",
    "    \"#7a6fca\",  # Blue\n",
    "    \"#3f3f3f\",  # Gray\n",
    "    \"#af280e\",  # Red\n",
    "    \"#c3d825\",  # Green-yellow\n",
    "    \"#3a4276\",  # Blue\n",
    "    \"#1f8a70\",  # Green\n",
    "    \"#ff6800\",  # Orange\n",
    "    \"#5b5a5a\",  # Gray\n",
    "    \"#c49867\",  # Brown\n",
    "    \"#827a04\",  # Olive\n",
    "    \"#83a4d4\",  # Light blue\n",
    "    \"#44a1c2\",  # Blue\n",
    "    \"#c4b97f\",  # Olive\n",
    "    \"#8a88a3\",  # Purple\n",
    "    \"#da8137\",  # Orange\n",
    "    \"#dc5f3b\",  # Red-orange\n",
    "    \"#a67e2d\",  # Yellow-brown\n",
    "    \"#b7aa89\",  # Gray\n",
    "    \"#647d6e\",  # Green\n",
    "    \"#6aabb1\",  # Cyan\n",
    "    \"#a07f29\",  # Yellow-brown\n",
    "    \"#d7a844\",  # Yellow-orange\n",
    "    \"#6e764d\"   # Olive\n",
    "]"
   ]
  },
  {
   "cell_type": "code",
   "execution_count": 4,
   "id": "d052c74d-3e32-4219-bb4f-1610fdf16956",
   "metadata": {},
   "outputs": [],
   "source": [
    "cnx = mysql.connector.connect(user='root', password='taskbase',\n",
    "                              host='127.0.0.1', port='3309', database='lernnavi')"
   ]
  },
  {
   "cell_type": "markdown",
   "id": "b800e904-821d-42bf-b99c-ce3cc917cf4f",
   "metadata": {},
   "source": [
    "# Distribution of types"
   ]
  },
  {
   "cell_type": "code",
   "execution_count": 5,
   "id": "a3ccc7ff-0131-4360-9447-f30c1f742482",
   "metadata": {},
   "outputs": [
    {
     "ename": "DatabaseError",
     "evalue": "Execution failed on sql 'SELECT * FROM DocumentTypes': 1146 (42S02): Table 'lernnavi.DocumentTypes' doesn't exist",
     "output_type": "error",
     "traceback": [
      "\u001b[0;31m---------------------------------------------------------------------------\u001b[0m",
      "\u001b[0;31mMySQLInterfaceError\u001b[0m                       Traceback (most recent call last)",
      "File \u001b[0;32m~/anaconda3/envs/tb_venv/lib/python3.11/site-packages/mysql/connector/connection_cext.py:661\u001b[0m, in \u001b[0;36mCMySQLConnection.cmd_query\u001b[0;34m(self, query, raw, buffered, raw_as_string)\u001b[0m\n\u001b[1;32m    660\u001b[0m         query \u001b[38;5;241m=\u001b[39m query\u001b[38;5;241m.\u001b[39mencode(\u001b[38;5;124m\"\u001b[39m\u001b[38;5;124mutf-8\u001b[39m\u001b[38;5;124m\"\u001b[39m)\n\u001b[0;32m--> 661\u001b[0m     \u001b[38;5;28mself\u001b[39m\u001b[38;5;241m.\u001b[39m_cmysql\u001b[38;5;241m.\u001b[39mquery(\n\u001b[1;32m    662\u001b[0m         query,\n\u001b[1;32m    663\u001b[0m         raw\u001b[38;5;241m=\u001b[39mraw,\n\u001b[1;32m    664\u001b[0m         buffered\u001b[38;5;241m=\u001b[39mbuffered,\n\u001b[1;32m    665\u001b[0m         raw_as_string\u001b[38;5;241m=\u001b[39mraw_as_string,\n\u001b[1;32m    666\u001b[0m         query_attrs\u001b[38;5;241m=\u001b[39m\u001b[38;5;28mself\u001b[39m\u001b[38;5;241m.\u001b[39mquery_attrs,\n\u001b[1;32m    667\u001b[0m     )\n\u001b[1;32m    668\u001b[0m \u001b[38;5;28;01mexcept\u001b[39;00m MySQLInterfaceError \u001b[38;5;28;01mas\u001b[39;00m err:\n",
      "\u001b[0;31mMySQLInterfaceError\u001b[0m: Table 'lernnavi.DocumentTypes' doesn't exist",
      "\nThe above exception was the direct cause of the following exception:\n",
      "\u001b[0;31mProgrammingError\u001b[0m                          Traceback (most recent call last)",
      "File \u001b[0;32m~/anaconda3/envs/tb_venv/lib/python3.11/site-packages/pandas/io/sql.py:2262\u001b[0m, in \u001b[0;36mSQLiteDatabase.execute\u001b[0;34m(self, sql, params)\u001b[0m\n\u001b[1;32m   2261\u001b[0m \u001b[38;5;28;01mtry\u001b[39;00m:\n\u001b[0;32m-> 2262\u001b[0m     cur\u001b[38;5;241m.\u001b[39mexecute(sql, \u001b[38;5;241m*\u001b[39margs)\n\u001b[1;32m   2263\u001b[0m     \u001b[38;5;28;01mreturn\u001b[39;00m cur\n",
      "File \u001b[0;32m~/anaconda3/envs/tb_venv/lib/python3.11/site-packages/mysql/connector/cursor_cext.py:374\u001b[0m, in \u001b[0;36mCMySQLCursor.execute\u001b[0;34m(self, operation, params, multi)\u001b[0m\n\u001b[1;32m    373\u001b[0m \u001b[38;5;28;01mtry\u001b[39;00m:\n\u001b[0;32m--> 374\u001b[0m     result \u001b[38;5;241m=\u001b[39m \u001b[38;5;28mself\u001b[39m\u001b[38;5;241m.\u001b[39m_cnx\u001b[38;5;241m.\u001b[39mcmd_query(\n\u001b[1;32m    375\u001b[0m         stmt,\n\u001b[1;32m    376\u001b[0m         raw\u001b[38;5;241m=\u001b[39m\u001b[38;5;28mself\u001b[39m\u001b[38;5;241m.\u001b[39m_raw,\n\u001b[1;32m    377\u001b[0m         buffered\u001b[38;5;241m=\u001b[39m\u001b[38;5;28mself\u001b[39m\u001b[38;5;241m.\u001b[39m_buffered,\n\u001b[1;32m    378\u001b[0m         raw_as_string\u001b[38;5;241m=\u001b[39m\u001b[38;5;28mself\u001b[39m\u001b[38;5;241m.\u001b[39m_raw_as_string,\n\u001b[1;32m    379\u001b[0m     )\n\u001b[1;32m    380\u001b[0m \u001b[38;5;28;01mexcept\u001b[39;00m MySQLInterfaceError \u001b[38;5;28;01mas\u001b[39;00m err:\n",
      "File \u001b[0;32m~/anaconda3/envs/tb_venv/lib/python3.11/site-packages/mysql/connector/opentelemetry/context_propagation.py:74\u001b[0m, in \u001b[0;36mwith_context_propagation.<locals>.wrapper\u001b[0;34m(cnx, *args, **kwargs)\u001b[0m\n\u001b[1;32m     73\u001b[0m \u001b[38;5;28;01mif\u001b[39;00m \u001b[38;5;129;01mnot\u001b[39;00m OTEL_ENABLED \u001b[38;5;129;01mor\u001b[39;00m \u001b[38;5;129;01mnot\u001b[39;00m cnx\u001b[38;5;241m.\u001b[39motel_context_propagation:\n\u001b[0;32m---> 74\u001b[0m     \u001b[38;5;28;01mreturn\u001b[39;00m method(cnx, \u001b[38;5;241m*\u001b[39margs, \u001b[38;5;241m*\u001b[39m\u001b[38;5;241m*\u001b[39mkwargs)\n\u001b[1;32m     76\u001b[0m current_span \u001b[38;5;241m=\u001b[39m trace\u001b[38;5;241m.\u001b[39mget_current_span()\n",
      "File \u001b[0;32m~/anaconda3/envs/tb_venv/lib/python3.11/site-packages/mysql/connector/connection_cext.py:669\u001b[0m, in \u001b[0;36mCMySQLConnection.cmd_query\u001b[0;34m(self, query, raw, buffered, raw_as_string)\u001b[0m\n\u001b[1;32m    668\u001b[0m \u001b[38;5;28;01mexcept\u001b[39;00m MySQLInterfaceError \u001b[38;5;28;01mas\u001b[39;00m err:\n\u001b[0;32m--> 669\u001b[0m     \u001b[38;5;28;01mraise\u001b[39;00m get_mysql_exception(\n\u001b[1;32m    670\u001b[0m         err\u001b[38;5;241m.\u001b[39merrno, msg\u001b[38;5;241m=\u001b[39merr\u001b[38;5;241m.\u001b[39mmsg, sqlstate\u001b[38;5;241m=\u001b[39merr\u001b[38;5;241m.\u001b[39msqlstate\n\u001b[1;32m    671\u001b[0m     ) \u001b[38;5;28;01mfrom\u001b[39;00m \u001b[38;5;21;01merr\u001b[39;00m\n\u001b[1;32m    672\u001b[0m \u001b[38;5;28;01mexcept\u001b[39;00m \u001b[38;5;167;01mAttributeError\u001b[39;00m \u001b[38;5;28;01mas\u001b[39;00m err:\n",
      "\u001b[0;31mProgrammingError\u001b[0m: 1146 (42S02): Table 'lernnavi.DocumentTypes' doesn't exist",
      "\nThe above exception was the direct cause of the following exception:\n",
      "\u001b[0;31mDatabaseError\u001b[0m                             Traceback (most recent call last)",
      "Cell \u001b[0;32mIn[5], line 2\u001b[0m\n\u001b[1;32m      1\u001b[0m query \u001b[38;5;241m=\u001b[39m \u001b[38;5;124m\"\u001b[39m\u001b[38;5;124mSELECT * FROM DocumentTypes\u001b[39m\u001b[38;5;124m\"\u001b[39m\n\u001b[0;32m----> 2\u001b[0m df_types \u001b[38;5;241m=\u001b[39m pd\u001b[38;5;241m.\u001b[39mread_sql(query, cnx)\n\u001b[1;32m      3\u001b[0m df_types\u001b[38;5;241m.\u001b[39mrename(columns\u001b[38;5;241m=\u001b[39m{\u001b[38;5;124m'\u001b[39m\u001b[38;5;124mid\u001b[39m\u001b[38;5;124m'\u001b[39m:\u001b[38;5;124m'\u001b[39m\u001b[38;5;124mtypeId\u001b[39m\u001b[38;5;124m'\u001b[39m, \u001b[38;5;124m'\u001b[39m\u001b[38;5;124mname\u001b[39m\u001b[38;5;124m'\u001b[39m:\u001b[38;5;124m'\u001b[39m\u001b[38;5;124mtype\u001b[39m\u001b[38;5;124m'\u001b[39m}, inplace\u001b[38;5;241m=\u001b[39m\u001b[38;5;28;01mTrue\u001b[39;00m)\n\u001b[1;32m      4\u001b[0m df_types\u001b[38;5;241m.\u001b[39mhead()\n",
      "File \u001b[0;32m~/anaconda3/envs/tb_venv/lib/python3.11/site-packages/pandas/io/sql.py:654\u001b[0m, in \u001b[0;36mread_sql\u001b[0;34m(sql, con, index_col, coerce_float, params, parse_dates, columns, chunksize, dtype_backend, dtype)\u001b[0m\n\u001b[1;32m    652\u001b[0m \u001b[38;5;28;01mwith\u001b[39;00m pandasSQL_builder(con) \u001b[38;5;28;01mas\u001b[39;00m pandas_sql:\n\u001b[1;32m    653\u001b[0m     \u001b[38;5;28;01mif\u001b[39;00m \u001b[38;5;28misinstance\u001b[39m(pandas_sql, SQLiteDatabase):\n\u001b[0;32m--> 654\u001b[0m         \u001b[38;5;28;01mreturn\u001b[39;00m pandas_sql\u001b[38;5;241m.\u001b[39mread_query(\n\u001b[1;32m    655\u001b[0m             sql,\n\u001b[1;32m    656\u001b[0m             index_col\u001b[38;5;241m=\u001b[39mindex_col,\n\u001b[1;32m    657\u001b[0m             params\u001b[38;5;241m=\u001b[39mparams,\n\u001b[1;32m    658\u001b[0m             coerce_float\u001b[38;5;241m=\u001b[39mcoerce_float,\n\u001b[1;32m    659\u001b[0m             parse_dates\u001b[38;5;241m=\u001b[39mparse_dates,\n\u001b[1;32m    660\u001b[0m             chunksize\u001b[38;5;241m=\u001b[39mchunksize,\n\u001b[1;32m    661\u001b[0m             dtype_backend\u001b[38;5;241m=\u001b[39mdtype_backend,\n\u001b[1;32m    662\u001b[0m             dtype\u001b[38;5;241m=\u001b[39mdtype,\n\u001b[1;32m    663\u001b[0m         )\n\u001b[1;32m    665\u001b[0m     \u001b[38;5;28;01mtry\u001b[39;00m:\n\u001b[1;32m    666\u001b[0m         _is_table_name \u001b[38;5;241m=\u001b[39m pandas_sql\u001b[38;5;241m.\u001b[39mhas_table(sql)\n",
      "File \u001b[0;32m~/anaconda3/envs/tb_venv/lib/python3.11/site-packages/pandas/io/sql.py:2326\u001b[0m, in \u001b[0;36mSQLiteDatabase.read_query\u001b[0;34m(self, sql, index_col, coerce_float, parse_dates, params, chunksize, dtype, dtype_backend)\u001b[0m\n\u001b[1;32m   2315\u001b[0m \u001b[38;5;28;01mdef\u001b[39;00m \u001b[38;5;21mread_query\u001b[39m(\n\u001b[1;32m   2316\u001b[0m     \u001b[38;5;28mself\u001b[39m,\n\u001b[1;32m   2317\u001b[0m     sql,\n\u001b[0;32m   (...)\u001b[0m\n\u001b[1;32m   2324\u001b[0m     dtype_backend: DtypeBackend \u001b[38;5;241m|\u001b[39m Literal[\u001b[38;5;124m\"\u001b[39m\u001b[38;5;124mnumpy\u001b[39m\u001b[38;5;124m\"\u001b[39m] \u001b[38;5;241m=\u001b[39m \u001b[38;5;124m\"\u001b[39m\u001b[38;5;124mnumpy\u001b[39m\u001b[38;5;124m\"\u001b[39m,\n\u001b[1;32m   2325\u001b[0m ) \u001b[38;5;241m-\u001b[39m\u001b[38;5;241m>\u001b[39m DataFrame \u001b[38;5;241m|\u001b[39m Iterator[DataFrame]:\n\u001b[0;32m-> 2326\u001b[0m     cursor \u001b[38;5;241m=\u001b[39m \u001b[38;5;28mself\u001b[39m\u001b[38;5;241m.\u001b[39mexecute(sql, params)\n\u001b[1;32m   2327\u001b[0m     columns \u001b[38;5;241m=\u001b[39m [col_desc[\u001b[38;5;241m0\u001b[39m] \u001b[38;5;28;01mfor\u001b[39;00m col_desc \u001b[38;5;129;01min\u001b[39;00m cursor\u001b[38;5;241m.\u001b[39mdescription]\n\u001b[1;32m   2329\u001b[0m     \u001b[38;5;28;01mif\u001b[39;00m chunksize \u001b[38;5;129;01mis\u001b[39;00m \u001b[38;5;129;01mnot\u001b[39;00m \u001b[38;5;28;01mNone\u001b[39;00m:\n",
      "File \u001b[0;32m~/anaconda3/envs/tb_venv/lib/python3.11/site-packages/pandas/io/sql.py:2274\u001b[0m, in \u001b[0;36mSQLiteDatabase.execute\u001b[0;34m(self, sql, params)\u001b[0m\n\u001b[1;32m   2271\u001b[0m     \u001b[38;5;28;01mraise\u001b[39;00m ex \u001b[38;5;28;01mfrom\u001b[39;00m \u001b[38;5;21;01minner_exc\u001b[39;00m\n\u001b[1;32m   2273\u001b[0m ex \u001b[38;5;241m=\u001b[39m DatabaseError(\u001b[38;5;124mf\u001b[39m\u001b[38;5;124m\"\u001b[39m\u001b[38;5;124mExecution failed on sql \u001b[39m\u001b[38;5;124m'\u001b[39m\u001b[38;5;132;01m{\u001b[39;00msql\u001b[38;5;132;01m}\u001b[39;00m\u001b[38;5;124m'\u001b[39m\u001b[38;5;124m: \u001b[39m\u001b[38;5;132;01m{\u001b[39;00mexc\u001b[38;5;132;01m}\u001b[39;00m\u001b[38;5;124m\"\u001b[39m)\n\u001b[0;32m-> 2274\u001b[0m \u001b[38;5;28;01mraise\u001b[39;00m ex \u001b[38;5;28;01mfrom\u001b[39;00m \u001b[38;5;21;01mexc\u001b[39;00m\n",
      "\u001b[0;31mDatabaseError\u001b[0m: Execution failed on sql 'SELECT * FROM DocumentTypes': 1146 (42S02): Table 'lernnavi.DocumentTypes' doesn't exist"
     ]
    }
   ],
   "source": [
    "query = \"SELECT * FROM TaskTypes\"\n",
    "df_types = pd.read_sql(query, cnx)\n",
    "df_types.rename(columns={'id':'typeId', 'name':'type'}, inplace=True)\n",
    "df_types.head()"
   ]
  },
  {
   "cell_type": "code",
   "execution_count": null,
   "id": "910c896a-5f38-45de-8861-c4b25cd8d4c0",
   "metadata": {},
   "outputs": [],
   "source": [
    "query = \"SELECT * FROM Tasks\"\n",
    "df_tasks = pd.read_sql(query, cnx)\n",
    "df_tasks = pd.merge(df_tasks, df_types, how=\"inner\", on='typeId')\n",
    "df_tasks.head()"
   ]
  },
  {
   "cell_type": "code",
   "execution_count": null,
   "id": "4896853b-6381-4019-99fd-497a5ac3cda2",
   "metadata": {},
   "outputs": [],
   "source": [
    "query = \"SELECT * FROM LatestTaskVersions\"\n",
    "df = pd.read_sql(query, cnx)\n",
    "df_latest_task_versions = pd.merge(df_tasks, df, how=\"inner\", on=[\"version\", \"taskId\"])\n",
    "L = len(df_latest_task_versions)\n",
    "df_latest_task_versions.head() "
   ]
  },
  {
   "cell_type": "raw",
   "id": "c85670b3-42b4-42cb-b681-edd950c05069",
   "metadata": {
    "scrolled": true
   },
   "source": [
    "ax = sns.histplot(data=df_tasks,\n",
    "                  x=\"type\"\n",
    "                 )\n",
    "plt.xticks(rotation=90)\n",
    "title = plt.title(\"Distribution of types of tasks\") "
   ]
  },
  {
   "cell_type": "code",
   "execution_count": null,
   "id": "fc36f3c1-ba6c-4397-bba8-129ddc46ef6e",
   "metadata": {},
   "outputs": [],
   "source": [
    "types_count = df_latest_task_versions[[\"type\", \"taskId\"]].groupby(\"type\").count().rename(columns={\"taskId\":\"count\"}).reset_index()\n",
    "\n",
    "sns.set_theme(style='white', \n",
    "              rc={'figure.figsize':(12,6)})\n",
    "\n",
    "colors = ['tab:blue' for x in types_count.type]\n",
    "colors[-2] = 'red'\n",
    "colors[-3] = 'red'\n",
    "\n",
    "ax = sns.barplot(data=types_count,\n",
    "                 x='type',\n",
    "                 y=\"count\",\n",
    "                 order=types_count.sort_values('count').type, palette=colors)\n",
    "\n",
    "plt.xticks(rotation=90)\n",
    "ax.get_xticklabels()[-2].set_color(\"red\")\n",
    "ax.get_xticklabels()[-3].set_color(\"red\")\n",
    "title = plt.title(\"Types of tasks sorted by count\")\n",
    "ax.get_figure().savefig(\"figures/types_count_sorted.png\", bbox_inches=\"tight\") \n"
   ]
  },
  {
   "cell_type": "code",
   "execution_count": null,
   "id": "f9a1088e-565f-4d54-91c2-7f2f7351e461",
   "metadata": {},
   "outputs": [],
   "source": [
    "lowest_counts = types_count.sort_values(by=\"count\", ascending=False)[16:] # ID 29 to 27\n",
    "# lowest_counts = types_count[18:] # ID 29 to 20\n",
    "p = lowest_counts['count'].sum() / types_count['count'].sum() * 100\n",
    "print(\"The types of lowest counts (ID 29 to ID 27) correspond to {p:.2f}% of the number of tasks.\".format(p=p))"
   ]
  },
  {
   "cell_type": "markdown",
   "id": "316bfb8c-c313-42ad-9e3a-55a4429900f1",
   "metadata": {},
   "source": [
    "<hr>\n",
    "\n",
    "# Tenants"
   ]
  },
  {
   "cell_type": "code",
   "execution_count": null,
   "id": "ab1cb8b7-4163-445e-8b30-e1e233224d23",
   "metadata": {},
   "outputs": [],
   "source": [
    "# Get titles and descriptions of last versions of tasks \n",
    "df = df_latest_task_versions[[\"title\", \"content\"]]\n",
    "df = pd.concat([df, df[\"content\"].apply(json.loads).apply(pd.Series)], axis=1)\n",
    "columns_to_keep = [\"type\", \"clozeText\", \"description\", \"taskType\", \"clozeElements\", \"textWithMistakes\", \"solution\", \"language\", \"tenant\", \"topic\"]\n",
    "df_content = df[columns_to_keep]\n",
    "# df_content.head()"
   ]
  },
  {
   "cell_type": "code",
   "execution_count": null,
   "id": "18e351e9-1c92-4be3-bd95-2044db60b048",
   "metadata": {},
   "outputs": [],
   "source": [
    "# How many tasks with solution ?\n",
    "print(\"{:.2f}%\".format(len(df_content[\"solution\"].dropna()) / L * 100))"
   ]
  },
  {
   "cell_type": "code",
   "execution_count": null,
   "id": "cb2c6d5f-f0c6-4803-be94-7f62ea1a7fc7",
   "metadata": {},
   "outputs": [],
   "source": [
    "# How many tasks with language specified ? \n",
    "print(\"{:.2f}%\".format(len(df_content[\"language\"].dropna()) / L * 100))"
   ]
  },
  {
   "cell_type": "code",
   "execution_count": null,
   "id": "a6489225-ce01-4701-9897-0613c6a1d305",
   "metadata": {},
   "outputs": [],
   "source": [
    "# How many tasks with topic specified ? \n",
    "print(\"{:.2f}%\".format(len(df_content[\"topic\"].dropna()) / L * 100))"
   ]
  },
  {
   "cell_type": "code",
   "execution_count": null,
   "id": "8826a56c-4558-48fe-a6fd-f42d3e361be2",
   "metadata": {},
   "outputs": [],
   "source": [
    "# How many tasks with tenant specified ? \n",
    "print(\"{:.2f}%\".format(len(df_content[\"tenant\"].dropna()) / L * 100))"
   ]
  },
  {
   "cell_type": "code",
   "execution_count": null,
   "id": "94c6bd0c-a776-41f6-9e5c-559361eb8e11",
   "metadata": {},
   "outputs": [],
   "source": [
    "# Distribution of tasks among tenants\n",
    "tenants = df_content[\"tenant\"].apply(pd.Series)\n",
    "tenants_count = tenants.groupby(by=\"name\").count()[[\"id\"]].rename(columns={\"id\":\"count\"}).reset_index()\n",
    "\n",
    "sns.set_theme(style='white', \n",
    "              font_scale=0.7, \n",
    "              rc={'figure.figsize':(15,8)})\n",
    "\n",
    "ax = sns.barplot(data=tenants_count,\n",
    "                 x=\"name\",\n",
    "                 y=\"count\",\n",
    "                 order=tenants_count.sort_values('count').name,\n",
    "                 )\n",
    "# ax.set_yscale(\"log\")\n",
    "plt.xticks(rotation=90)\n",
    "title = plt.title(\"Number of tasks by tenant. All types combined.\")"
   ]
  },
  {
   "cell_type": "code",
   "execution_count": null,
   "id": "faf39738-c80e-4e7f-a8ad-c704aa0e1c75",
   "metadata": {},
   "outputs": [],
   "source": [
    "df_content = pd.concat([df_content, tenants], axis=1)"
   ]
  },
  {
   "cell_type": "code",
   "execution_count": null,
   "id": "ff4167d8-7b5f-4526-8c65-cb91dc49bfd9",
   "metadata": {},
   "outputs": [],
   "source": [
    "# Distribution of tasks' types among tenants \n",
    "sns.set_theme(style='white', \n",
    "              font_scale=0.7, \n",
    "              rc={'figure.figsize':(15,8)})\n",
    "\n",
    "ax = sns.histplot(data=df_content,\n",
    "                  x=\"name\",\n",
    "                  hue=\"type\",\n",
    "                  multiple=\"stack\", \n",
    "                  palette=color_blind_colors,\n",
    "                 )\n",
    "ax.set_yscale(\"log\")\n",
    "plt.xticks(rotation=90)\n",
    "title = plt.title(\"Number of tasks by tenant. All types combined.\")"
   ]
  },
  {
   "cell_type": "code",
   "execution_count": null,
   "id": "e7127479-fed3-4266-8005-4a100bb4aeb3",
   "metadata": {},
   "outputs": [],
   "source": [
    "# Tenants with most CLOZE and OPEN tasks\n",
    "task_types = [\"OPEN\", \"CLOZE_TEXT_INPUT\"]\n",
    "df_cloze_open = df_content[df_content[\"type\"].isin(task_types)]\n",
    "\n",
    "ax = sns.histplot(data=df_cloze_open,\n",
    "                  x=\"name\",\n",
    "                  hue=\"type\",\n",
    "                  multiple=\"stack\"\n",
    "                 )\n",
    "# ax.set_yscale(\"log\")\n",
    "x = plt.xticks(rotation=90)\n",
    "title = plt.title(\"Number by tenant of tasks of types 'OPEN' and 'CLOZE_TEXT_INPUT'.\")"
   ]
  },
  {
   "cell_type": "code",
   "execution_count": null,
   "id": "d2c4aadd-a953-46e3-a681-145ceba80618",
   "metadata": {},
   "outputs": [],
   "source": [
    "# How many CLOZE OPEN with language specified ?\n",
    "print(\"{:.2f}%\".format(len(df_cloze_open[\"language\"].dropna())/ len(df_cloze_open) * 100))"
   ]
  },
  {
   "cell_type": "code",
   "execution_count": null,
   "id": "e42832e5-6b44-4e96-9722-d84b8acd6568",
   "metadata": {},
   "outputs": [],
   "source": [
    "# What is the portion of English and German cloze/open tasks ? NaN included in total\n",
    "print(\"{:.2f}%\".format(len(df_cloze_open[df_cloze_open[\"language\"].isin([\"DE\", \"EN\"])]) / len(df_cloze_open) * 100))"
   ]
  },
  {
   "cell_type": "code",
   "execution_count": null,
   "id": "6aa746df-b864-4cca-8ffa-083277e0900f",
   "metadata": {},
   "outputs": [],
   "source": [
    "sns.set_theme(style='white', \n",
    "              rc={'figure.figsize':(12,6)})\n",
    "\n",
    "ax = sns.histplot(data=df_cloze_open,\n",
    "                  x=\"language\",\n",
    "                  shrink=0.8)\n",
    "title = plt.title(\"Distribution of languages of the OPEN and CLOZE_TEXT_INPUT tasks.\")\n",
    "ax.get_figure().savefig(\"figures/languages_distribution.png\", bbox_inches=\"tight\") "
   ]
  },
  {
   "cell_type": "markdown",
   "id": "84603f54-4d8c-484f-ae9c-621087e30d64",
   "metadata": {},
   "source": [
    "**Cornelsen and EKV_Physik**"
   ]
  },
  {
   "cell_type": "code",
   "execution_count": null,
   "id": "04d27205-9f4c-45d4-9b32-e97e81543812",
   "metadata": {},
   "outputs": [],
   "source": [
    "df_corn_ekv = df_content[df_content[\"name\"].isin([\"Cornelsen DE\", \"EKV_Physik\"])]\n",
    "sns.set_theme(style='white', \n",
    "              font_scale=1, \n",
    "              rc={'figure.figsize':(8,6)})\n",
    "\n",
    "ax = sns.histplot(data=df_corn_ekv,\n",
    "                  x=\"name\",\n",
    "                  hue=\"type\",\n",
    "                  multiple=\"stack\",\n",
    "                  shrink=0.5\n",
    "                 )"
   ]
  },
  {
   "cell_type": "markdown",
   "id": "74b8dacf-4fe4-495b-b24b-407984b53fe6",
   "metadata": {},
   "source": [
    "# Content"
   ]
  },
  {
   "cell_type": "code",
   "execution_count": null,
   "id": "68c5c854-fbc0-4949-924b-20299a3998f9",
   "metadata": {},
   "outputs": [],
   "source": [
    "# Lengths of descriptions => need pre-processing ? cleaning html tags \n",
    "clean_descriptions = df_cloze_open[[\"description\", \"language\"]]\n",
    "clean_descriptions[\"description\"] = clean_descriptions[\"description\"].apply(lambda str: BeautifulSoup(str, 'html.parser').get_text().strip())\n",
    "clean_descriptions = pd.DataFrame(clean_descriptions.reset_index(drop=True))\n",
    "clean_descriptions[\"word_count\"] = clean_descriptions[\"description\"].apply(lambda s: len(s.split()))\n",
    "clean_descriptions.sort_values(by=\"word_count\", inplace=True)\n",
    "L = len(clean_descriptions)"
   ]
  },
  {
   "cell_type": "code",
   "execution_count": null,
   "id": "24b8379b-90ef-45b8-89d5-5830404f9db2",
   "metadata": {},
   "outputs": [],
   "source": [
    "df_cloze_open_EN = df_cloze_open[df_cloze_open[\"language\"] == \"EN\"]\n",
    "df_cloze_open_DE = df_cloze_open[df_cloze_open[\"language\"] == \"DE\"]"
   ]
  },
  {
   "cell_type": "code",
   "execution_count": null,
   "id": "8eacfc3b-763e-4f0b-9a87-7b4053f6a81c",
   "metadata": {},
   "outputs": [],
   "source": [
    "sns.set_theme(style='white', \n",
    "              rc={'figure.figsize':(15,8)})\n",
    "\n",
    "ax = sns.histplot(data=clean_descriptions,\n",
    "                  x=\"word_count\"\n",
    "                 )\n",
    "ax.set_yscale(\"log\")\n",
    "title = plt.title(\"Distribution of description text by length (in words). All languages combined.\")"
   ]
  },
  {
   "cell_type": "code",
   "execution_count": null,
   "id": "ca858d1f-4b96-47c7-a3a5-a586e4f69075",
   "metadata": {},
   "outputs": [],
   "source": [
    "# How many empty descriptions ?\n",
    "empty = clean_descriptions[clean_descriptions[\"word_count\"] == 0]\n",
    "print(\"{:.2f}%\".format(len(empty) / L * 100))"
   ]
  },
  {
   "cell_type": "code",
   "execution_count": null,
   "id": "a7276192-1d9a-47ab-97d4-45f30ec8fdf5",
   "metadata": {},
   "outputs": [],
   "source": [
    "# How heavy is the tail ?\n",
    "tail = clean_descriptions[clean_descriptions[\"word_count\"] > 200]\n",
    "print(\"{:.2f}%\".format(len(tail) / L * 100))"
   ]
  },
  {
   "cell_type": "code",
   "execution_count": null,
   "id": "a82262ba-fc7c-4825-bbba-06b839b2db50",
   "metadata": {},
   "outputs": [],
   "source": [
    "# How heavy is the tail ?\n",
    "tail = clean_descriptions[clean_descriptions[\"word_count\"] > 100]\n",
    "print(\"{:.2f}%\".format(len(tail) / L * 100))"
   ]
  },
  {
   "cell_type": "code",
   "execution_count": null,
   "id": "b4f204ec-12e3-48c9-ac58-c035fdabefff",
   "metadata": {},
   "outputs": [],
   "source": [
    "clean_descriptions.head()"
   ]
  },
  {
   "cell_type": "code",
   "execution_count": null,
   "id": "10e9de59-7df2-4dd1-b51c-ef2e9b081132",
   "metadata": {},
   "outputs": [],
   "source": [
    "sns.set_theme(style='white', \n",
    "              rc={'figure.figsize':(15,8)})\n",
    "\n",
    "ax = sns.histplot(data=clean_descriptions[clean_descriptions[\"language\"] == \"EN\"],\n",
    "                  x=\"word_count\"\n",
    "                 )\n",
    "ax.set_yscale(\"log\")\n",
    "title = plt.title(\"Distribution of ENGLISH description text by length (in words).\")"
   ]
  },
  {
   "cell_type": "code",
   "execution_count": null,
   "id": "c2402d67-13bf-4b7b-a061-0564163fa59e",
   "metadata": {},
   "outputs": [],
   "source": [
    "df = clean_descriptions[clean_descriptions[\"language\"] == \"EN\"]\n",
    "L = len(df)\n",
    "tail = df[df[\"word_count\"] > 100]\n",
    "print(\"{:.2f}%\".format(len(tail) / L * 100))"
   ]
  },
  {
   "cell_type": "code",
   "execution_count": null,
   "id": "0fab6b9e-8937-4a31-b712-2bac7d4aa33a",
   "metadata": {},
   "outputs": [],
   "source": [
    "df = clean_descriptions[clean_descriptions[\"language\"] == \"EN\"]\n",
    "L = len(df)\n",
    "tail = df[df[\"word_count\"] > 50]\n",
    "print(\"{:.2f}%\".format(len(tail) / L * 100))"
   ]
  },
  {
   "cell_type": "code",
   "execution_count": null,
   "id": "1ea60fd7-8c95-40ac-9225-b056fb1f7ce4",
   "metadata": {},
   "outputs": [],
   "source": [
    "sns.set_theme(style='white', \n",
    "              rc={'figure.figsize':(15,8)})\n",
    "\n",
    "ax = sns.histplot(data=clean_descriptions[clean_descriptions[\"language\"] == \"DE\"],\n",
    "                  x=\"word_count\"\n",
    "                 )\n",
    "ax.set_yscale(\"log\")\n",
    "title = plt.title(\"Distribution of GERMAN description text by length (in words).\")"
   ]
  },
  {
   "cell_type": "code",
   "execution_count": null,
   "id": "4cefe6d9-d2e3-47fb-aca3-a8719b0a0ad8",
   "metadata": {},
   "outputs": [],
   "source": [
    "df = clean_descriptions[clean_descriptions[\"language\"] == \"DE\"]\n",
    "L = len(df)\n",
    "tail = df[df[\"word_count\"] > 100]\n",
    "print(\"{:.2f}%\".format(len(tail) / L * 100))"
   ]
  },
  {
   "cell_type": "code",
   "execution_count": null,
   "id": "8223bf87-95f0-4697-93dd-dafe260becde",
   "metadata": {},
   "outputs": [],
   "source": [
    "sns.set_theme(style='white', \n",
    "              rc={'figure.figsize':(15,8)})\n",
    "\n",
    "ax = sns.histplot(data=clean_descriptions[clean_descriptions[\"language\"].isin([\"EN\", \"DE\"])],\n",
    "                  x=\"word_count\"\n",
    "                 )\n",
    "ax.set_yscale(\"log\")\n",
    "title = plt.title(\"Distribution of description text by length (in words). ENGLISH and GERMAN combined.\")"
   ]
  },
  {
   "cell_type": "code",
   "execution_count": null,
   "id": "78c36e84-beb3-44d0-85fd-99a63299890e",
   "metadata": {},
   "outputs": [],
   "source": [
    "df = clean_descriptions[clean_descriptions[\"language\"].isin([\"EN\", \"DE\"])]\n",
    "L = len(df)\n",
    "tail = df[df[\"word_count\"] > 100]\n",
    "print(\"{:.2f}%\".format(len(tail) / L * 100))\n",
    "\n",
    "# How many empty descriptions ?\n",
    "empty = df[df[\"word_count\"] == 0]\n",
    "print(\"{:.2f}%\".format(len(empty) / L * 100))\n",
    "\n",
    "# How many short descriptions ?\n",
    "empty = df[df[\"word_count\"] < 10]\n",
    "print(\"{:.2f}%\".format(len(empty) / L * 100))"
   ]
  },
  {
   "cell_type": "markdown",
   "id": "9568b2e6-49f4-4ad3-bbaa-6cdd88c3b4ba",
   "metadata": {},
   "source": [
    "> The distribution of the length of task description (in number of words) is heavy-tailed. Descriptions of more than 100 words count for less than 1% of the dataset and so can be discarded. Empty descriptions however count for almost 10% of the dataset.\n",
    "> More than half of the dataset of English and German tasks have short descriptions, of less than 10 words."
   ]
  },
  {
   "cell_type": "code",
   "execution_count": null,
   "id": "19b817b8-5903-460c-8585-fc7cc6f5da0d",
   "metadata": {},
   "outputs": [],
   "source": []
  },
  {
   "cell_type": "markdown",
   "id": "9dbdd4d0-4deb-4771-b98b-81712db263a4",
   "metadata": {},
   "source": [
    "**Topics**"
   ]
  },
  {
   "cell_type": "code",
   "execution_count": null,
   "id": "cf56a6a4-2a0c-4642-b04f-f511eae39e0c",
   "metadata": {},
   "outputs": [],
   "source": [
    "df_cloze_open_topics = df_cloze_open_EN[\"topic\"].apply(pd.Series)"
   ]
  },
  {
   "cell_type": "code",
   "execution_count": null,
   "id": "d7c8b0f9-4916-4744-8361-a950155b5a2e",
   "metadata": {},
   "outputs": [],
   "source": [
    "df_cloze_open_topics.dropna(subset=[\"name\"]).name.unique()"
   ]
  },
  {
   "cell_type": "raw",
   "id": "32b643e7-ac9f-48bb-8862-83f57e9a3079",
   "metadata": {},
   "source": [
    "## QUEST Difference between clozeText and description ? \n",
    "# All tasks have description, clozeText relates to tasks of types \"CLOZE_TEXT_DROPDOWN\", \"CLOZE_TEXT_INPUT\", and \"DND_IN_TEXT\"\n",
    "print(len(df_content[\"description\"].dropna()), len(df_content[\"clozeText\"].dropna()))\n",
    "d = df_content[[\"clozeText\", \"type\"]].dropna()\n",
    "print(d[\"type\"].unique())\n",
    "print(len(df_content[df_content[\"type\"] == \"CLOZE_TEXT_DROPDOWN\"]) + len(df_content[df_content[\"type\"] == \"CLOZE_TEXT_INPUT\"]) + len(df_content[df_content[\"type\"] == \"DND_IN_TEXT\"]))"
   ]
  },
  {
   "cell_type": "markdown",
   "id": "0ac8160d-a8db-4ea8-862d-33febd8877ba",
   "metadata": {},
   "source": [
    "<hr>\n",
    "\n",
    "# Aspects"
   ]
  },
  {
   "cell_type": "code",
   "execution_count": 44,
   "id": "b1996572-a749-40e6-80eb-7b31e58fe0cd",
   "metadata": {},
   "outputs": [],
   "source": [
    "pd.set_option('display.max_rows', 500)\n",
    "query = \"SELECT * FROM Tenants\"\n",
    "df = pd.read_sql(query, cnx)\n",
    "# df[df[\"lang\"] == \"DE\"]"
   ]
  },
  {
   "cell_type": "code",
   "execution_count": 41,
   "id": "d61b4b0f-c3bd-48d4-961e-2aaca742e7bb",
   "metadata": {},
   "outputs": [
    {
     "data": {
      "text/html": [
       "<div>\n",
       "<style scoped>\n",
       "    .dataframe tbody tr th:only-of-type {\n",
       "        vertical-align: middle;\n",
       "    }\n",
       "\n",
       "    .dataframe tbody tr th {\n",
       "        vertical-align: top;\n",
       "    }\n",
       "\n",
       "    .dataframe thead th {\n",
       "        text-align: right;\n",
       "    }\n",
       "</style>\n",
       "<table border=\"1\" class=\"dataframe\">\n",
       "  <thead>\n",
       "    <tr style=\"text-align: right;\">\n",
       "      <th></th>\n",
       "      <th>id</th>\n",
       "      <th>name</th>\n",
       "      <th>description</th>\n",
       "      <th>tenantId</th>\n",
       "      <th>categoryId</th>\n",
       "      <th>type</th>\n",
       "      <th>groupId</th>\n",
       "      <th>metaData</th>\n",
       "    </tr>\n",
       "  </thead>\n",
       "  <tbody>\n",
       "    <tr>\n",
       "      <th>6789</th>\n",
       "      <td>100769</td>\n",
       "      <td>EM_Magnet</td>\n",
       "      <td>Der/Die Lernende kennt alle Informationen zum ...</td>\n",
       "      <td>140</td>\n",
       "      <td>NaN</td>\n",
       "      <td>CONCEPT</td>\n",
       "      <td>135946.0</td>\n",
       "      <td>None</td>\n",
       "    </tr>\n",
       "    <tr>\n",
       "      <th>6820</th>\n",
       "      <td>100920</td>\n",
       "      <td>EM_Anziehungskraft</td>\n",
       "      <td>Der/Die Lernende hat erwähnt, dass unterschied...</td>\n",
       "      <td>140</td>\n",
       "      <td>NaN</td>\n",
       "      <td>CONCEPT</td>\n",
       "      <td>135946.0</td>\n",
       "      <td>None</td>\n",
       "    </tr>\n",
       "    <tr>\n",
       "      <th>6821</th>\n",
       "      <td>100921</td>\n",
       "      <td>EM_Anziehungskraft</td>\n",
       "      <td>Der/Die Lernende hat nicht erwähnt, dass unter...</td>\n",
       "      <td>140</td>\n",
       "      <td>NaN</td>\n",
       "      <td>MISCONCEPTION</td>\n",
       "      <td>135946.0</td>\n",
       "      <td>None</td>\n",
       "    </tr>\n",
       "    <tr>\n",
       "      <th>6822</th>\n",
       "      <td>100922</td>\n",
       "      <td>EM_magnetisieren</td>\n",
       "      <td>Der/ die Lernende kennt alle Informationen übe...</td>\n",
       "      <td>140</td>\n",
       "      <td>NaN</td>\n",
       "      <td>CONCEPT</td>\n",
       "      <td>135946.0</td>\n",
       "      <td>None</td>\n",
       "    </tr>\n",
       "    <tr>\n",
       "      <th>6823</th>\n",
       "      <td>100923</td>\n",
       "      <td>EM_magnetisieren</td>\n",
       "      <td>Der/ die Lernende kennt nicht alle Information...</td>\n",
       "      <td>140</td>\n",
       "      <td>NaN</td>\n",
       "      <td>MISCONCEPTION</td>\n",
       "      <td>135946.0</td>\n",
       "      <td>None</td>\n",
       "    </tr>\n",
       "  </tbody>\n",
       "</table>\n",
       "</div>"
      ],
      "text/plain": [
       "          id                name  \\\n",
       "6789  100769           EM_Magnet   \n",
       "6820  100920  EM_Anziehungskraft   \n",
       "6821  100921  EM_Anziehungskraft   \n",
       "6822  100922    EM_magnetisieren   \n",
       "6823  100923    EM_magnetisieren   \n",
       "\n",
       "                                            description  tenantId  categoryId  \\\n",
       "6789  Der/Die Lernende kennt alle Informationen zum ...       140         NaN   \n",
       "6820  Der/Die Lernende hat erwähnt, dass unterschied...       140         NaN   \n",
       "6821  Der/Die Lernende hat nicht erwähnt, dass unter...       140         NaN   \n",
       "6822  Der/ die Lernende kennt alle Informationen übe...       140         NaN   \n",
       "6823  Der/ die Lernende kennt nicht alle Information...       140         NaN   \n",
       "\n",
       "               type   groupId metaData  \n",
       "6789        CONCEPT  135946.0     None  \n",
       "6820        CONCEPT  135946.0     None  \n",
       "6821  MISCONCEPTION  135946.0     None  \n",
       "6822        CONCEPT  135946.0     None  \n",
       "6823  MISCONCEPTION  135946.0     None  "
      ]
     },
     "execution_count": 41,
     "metadata": {},
     "output_type": "execute_result"
    }
   ],
   "source": [
    "query = \"SELECT * FROM Competences\"\n",
    "df_aspects = pd.read_sql(query, cnx)\n",
    "# df_aspects.head()\n",
    "\n",
    "df_aspects_cornelsen = df_aspects[df_aspects[\"tenantId\"]==95]\n",
    "df_aspects_ekvphysik = df_aspects[df_aspects[\"tenantId\"]==140]\n",
    "# df_aspects_cornelsen.head()\n",
    "df_aspects_ekvphysik.head()"
   ]
  },
  {
   "cell_type": "code",
   "execution_count": 42,
   "id": "f6f4e3b3-7974-478e-a221-07338f1deeb3",
   "metadata": {},
   "outputs": [
    {
     "data": {
      "text/plain": [
       "'Die/Der Lernende hat einen Fehler bei der Kommasetzung gemacht.'"
      ]
     },
     "execution_count": 42,
     "metadata": {},
     "output_type": "execute_result"
    }
   ],
   "source": [
    "df_aspects[\"description\"][6790]"
   ]
  },
  {
   "cell_type": "markdown",
   "id": "f4357727-1d0e-482f-994d-d2ab7b6a9fd7",
   "metadata": {},
   "source": [
    "<hr>\n",
    "\n",
    "# Detectors"
   ]
  },
  {
   "cell_type": "code",
   "execution_count": 43,
   "id": "d861945c-e2a2-460b-a1f6-ae10d11ce722",
   "metadata": {},
   "outputs": [
    {
     "data": {
      "text/html": [
       "<div>\n",
       "<style scoped>\n",
       "    .dataframe tbody tr th:only-of-type {\n",
       "        vertical-align: middle;\n",
       "    }\n",
       "\n",
       "    .dataframe tbody tr th {\n",
       "        vertical-align: top;\n",
       "    }\n",
       "\n",
       "    .dataframe thead th {\n",
       "        text-align: right;\n",
       "    }\n",
       "</style>\n",
       "<table border=\"1\" class=\"dataframe\">\n",
       "  <thead>\n",
       "    <tr style=\"text-align: right;\">\n",
       "      <th></th>\n",
       "      <th>id</th>\n",
       "      <th>name</th>\n",
       "      <th>aspectDetectorConfiguration</th>\n",
       "      <th>taskId</th>\n",
       "      <th>topicId</th>\n",
       "      <th>authorId</th>\n",
       "      <th>configuratorId</th>\n",
       "      <th>isEnabled</th>\n",
       "    </tr>\n",
       "  </thead>\n",
       "  <tbody>\n",
       "    <tr>\n",
       "      <th>0</th>\n",
       "      <td>109</td>\n",
       "      <td>Entailment</td>\n",
       "      <td>{\"type\": \"ENTAILMENT_FREEFORM_TEXT\", \"paramete...</td>\n",
       "      <td>2FVWlAlScuC9XzyS5SarpA</td>\n",
       "      <td>NaN</td>\n",
       "      <td>24183</td>\n",
       "      <td>None</td>\n",
       "      <td>1</td>\n",
       "    </tr>\n",
       "    <tr>\n",
       "      <th>1</th>\n",
       "      <td>111</td>\n",
       "      <td>Universal AI</td>\n",
       "      <td>{\"type\": \"GPT3_FREEFORM\", \"parameters\": {\"PROM...</td>\n",
       "      <td>4M6yoJCBEbQ6zaztY5bG1U</td>\n",
       "      <td>NaN</td>\n",
       "      <td>24183</td>\n",
       "      <td>None</td>\n",
       "      <td>1</td>\n",
       "    </tr>\n",
       "    <tr>\n",
       "      <th>2</th>\n",
       "      <td>113</td>\n",
       "      <td>Entailment</td>\n",
       "      <td>{\"type\": \"ENTAILMENT_FREEFORM_TEXT\", \"paramete...</td>\n",
       "      <td>7Aogxgxr1hM80XInQ8ZGAo</td>\n",
       "      <td>NaN</td>\n",
       "      <td>9443</td>\n",
       "      <td>None</td>\n",
       "      <td>1</td>\n",
       "    </tr>\n",
       "    <tr>\n",
       "      <th>3</th>\n",
       "      <td>114</td>\n",
       "      <td>Is Mathematically Equivalent</td>\n",
       "      <td>{\"type\": \"IS_EQUAL_SYMBOLIC_SOLUTION_FIELD\", \"...</td>\n",
       "      <td>94aOVOXLgfx6kujfGUjQ87</td>\n",
       "      <td>NaN</td>\n",
       "      <td>9443</td>\n",
       "      <td>None</td>\n",
       "      <td>1</td>\n",
       "    </tr>\n",
       "    <tr>\n",
       "      <th>4</th>\n",
       "      <td>119</td>\n",
       "      <td>Entailment</td>\n",
       "      <td>{\"type\": \"ENTAILMENT_FREEFORM_TEXT\", \"paramete...</td>\n",
       "      <td>8XOoRbXxyor6yQA8GCmawe</td>\n",
       "      <td>NaN</td>\n",
       "      <td>9443</td>\n",
       "      <td>None</td>\n",
       "      <td>1</td>\n",
       "    </tr>\n",
       "  </tbody>\n",
       "</table>\n",
       "</div>"
      ],
      "text/plain": [
       "    id                          name  \\\n",
       "0  109                    Entailment   \n",
       "1  111                  Universal AI   \n",
       "2  113                    Entailment   \n",
       "3  114  Is Mathematically Equivalent   \n",
       "4  119                    Entailment   \n",
       "\n",
       "                         aspectDetectorConfiguration                  taskId  \\\n",
       "0  {\"type\": \"ENTAILMENT_FREEFORM_TEXT\", \"paramete...  2FVWlAlScuC9XzyS5SarpA   \n",
       "1  {\"type\": \"GPT3_FREEFORM\", \"parameters\": {\"PROM...  4M6yoJCBEbQ6zaztY5bG1U   \n",
       "2  {\"type\": \"ENTAILMENT_FREEFORM_TEXT\", \"paramete...  7Aogxgxr1hM80XInQ8ZGAo   \n",
       "3  {\"type\": \"IS_EQUAL_SYMBOLIC_SOLUTION_FIELD\", \"...  94aOVOXLgfx6kujfGUjQ87   \n",
       "4  {\"type\": \"ENTAILMENT_FREEFORM_TEXT\", \"paramete...  8XOoRbXxyor6yQA8GCmawe   \n",
       "\n",
       "   topicId  authorId configuratorId  isEnabled  \n",
       "0      NaN     24183           None          1  \n",
       "1      NaN     24183           None          1  \n",
       "2      NaN      9443           None          1  \n",
       "3      NaN      9443           None          1  \n",
       "4      NaN      9443           None          1  "
      ]
     },
     "execution_count": 43,
     "metadata": {},
     "output_type": "execute_result"
    }
   ],
   "source": [
    "query = \"SELECT * FROM AspectConfigurations\"\n",
    "df_detectors = pd.read_sql(query, cnx)\n",
    "df_detectors.head()"
   ]
  },
  {
   "cell_type": "code",
   "execution_count": null,
   "id": "27d2bf3f-71e9-4483-819b-1de9112ffa13",
   "metadata": {},
   "outputs": [],
   "source": []
  },
  {
   "cell_type": "code",
   "execution_count": null,
   "id": "d26183a0-7769-4d65-85f2-f2cc6befc600",
   "metadata": {},
   "outputs": [],
   "source": []
  }
 ],
 "metadata": {
  "kernelspec": {
   "display_name": "tb_venv",
   "language": "python",
   "name": "tb_venv"
  },
  "language_info": {
   "codemirror_mode": {
    "name": "ipython",
    "version": 3
   },
   "file_extension": ".py",
   "mimetype": "text/x-python",
   "name": "python",
   "nbconvert_exporter": "python",
   "pygments_lexer": "ipython3",
   "version": "3.11.8"
  }
 },
 "nbformat": 4,
 "nbformat_minor": 5
}
