{
 "cells": [
  {
   "cell_type": "code",
   "execution_count": 1,
   "id": "d2c7b381-29a1-4296-9f6f-1d69771b699f",
   "metadata": {},
   "outputs": [],
   "source": [
    "import pandas as pd "
   ]
  },
  {
   "cell_type": "code",
   "execution_count": 25,
   "id": "031f4e6e-314d-4b00-a1cf-1f1e33f8ae5d",
   "metadata": {},
   "outputs": [
    {
     "name": "stdout",
     "output_type": "stream",
     "text": [
      "1730 1129\n",
      "4138 11222\n",
      "503 951\n"
     ]
    }
   ],
   "source": [
    "# Result of 1a cleaning tasks \n",
    "open_tasks_de = pd.read_csv(\"gen_files/DE/open_tasks_DE.csv\")\n",
    "open_tasks_en = pd.read_csv(\"gen_files/EN/open_tasks_EN.csv\")\n",
    "\n",
    "taskaspects_de = pd.read_csv(\"gen_files/DE/taskAspects_DE.csv\") \n",
    "taskaspects_en = pd.read_csv(\"gen_files/EN/taskAspects_EN.csv\") \n",
    "\n",
    "print(len(open_tasks_de), len(open_tasks_en))\n",
    "print(len(taskaspects_de), len(taskaspects_en))\n",
    "print(len(taskaspects_de.taskId.unique()), len(taskaspects_en.taskId.unique()))"
   ]
  },
  {
   "cell_type": "code",
   "execution_count": 23,
   "id": "12f49106-350f-45c9-a9ef-9efaa9906b4a",
   "metadata": {},
   "outputs": [
    {
     "name": "stdout",
     "output_type": "stream",
     "text": [
      "1730\n",
      "1730\n",
      "1730\n",
      "1730\n",
      "1730\n",
      "\n",
      "4138\n",
      "4138\n",
      "4138\n",
      "4138\n",
      "4138\n"
     ]
    }
   ],
   "source": [
    "# Results of augmentation \n",
    "filenames = [\n",
    "    \"tasks_BT_DE\", \n",
    "    \"tasks_RD_DE\", \n",
    "    \"tasks_RI_DE\", \n",
    "    \"tasks_RS_DE\", \n",
    "    \"tasks_SR_DE\", \n",
    "]\n",
    "for f in filenames: \n",
    "    print(len(pd.read_csv(f\"gen_files/DE/augmented/{f}.csv\")))\n",
    "\n",
    "print()\n",
    "filenames = [\n",
    "    \"taskAspects_BT_DE\", \n",
    "    \"taskAspects_RD_DE\", \n",
    "    \"taskAspects_RI_DE\", \n",
    "    \"taskAspects_RS_DE\", \n",
    "    \"taskAspects_SR_DE\", \n",
    "]\n",
    "for f in filenames: \n",
    "    print(len(pd.read_csv(f\"gen_files/DE/augmented/{f}.csv\")))"
   ]
  },
  {
   "cell_type": "code",
   "execution_count": 24,
   "id": "9b63b530-ce41-41ca-9cdb-340bc81309bd",
   "metadata": {},
   "outputs": [
    {
     "name": "stdout",
     "output_type": "stream",
     "text": [
      "1129\n",
      "1129\n",
      "1129\n",
      "1129\n",
      "1129\n",
      "\n",
      "11222\n",
      "11222\n",
      "11222\n",
      "11222\n",
      "11222\n"
     ]
    }
   ],
   "source": [
    "# Results of augmentation \n",
    "filenames = [\n",
    "    \"tasks_BT_EN\", \n",
    "    \"tasks_RD_EN\", \n",
    "    \"tasks_RI_EN\", \n",
    "    \"tasks_RS_EN\", \n",
    "    \"tasks_SR_EN\", \n",
    "]\n",
    "for f in filenames: \n",
    "    print(len(pd.read_csv(f\"gen_files/EN/augmented/{f}.csv\")))\n",
    "\n",
    "print()\n",
    "filenames = [\n",
    "    \"taskAspects_BT_EN\", \n",
    "    \"taskAspects_RD_EN\", \n",
    "    \"taskAspects_RI_EN\", \n",
    "    \"taskAspects_RS_EN\", \n",
    "    \"taskAspects_SR_EN\", \n",
    "]\n",
    "for f in filenames: \n",
    "    print(len(pd.read_csv(f\"gen_files/EN/augmented/{f}.csv\")))"
   ]
  },
  {
   "cell_type": "code",
   "execution_count": 35,
   "id": "1f5553b0-40f5-482b-97f1-c292d5d57945",
   "metadata": {},
   "outputs": [
    {
     "name": "stdout",
     "output_type": "stream",
     "text": [
      "1730\n",
      "1730\n",
      "1730\n",
      "1730\n",
      "1730\n"
     ]
    }
   ],
   "source": [
    "# Results of preprocessing \n",
    "filenames = [\n",
    "    \"tasks_BT_DE\", \n",
    "    \"tasks_RD_DE\", \n",
    "    \"tasks_RI_DE\", \n",
    "    \"tasks_RS_DE\", \n",
    "    \"tasks_SR_DE\", \n",
    "]\n",
    "for f in filenames: \n",
    "    print(len(pd.read_csv(f\"gen_files/DE/preprocessed/{f}.csv\")))"
   ]
  },
  {
   "cell_type": "code",
   "execution_count": 34,
   "id": "be12dfdf-8e6b-4153-959e-ef941a0c34b8",
   "metadata": {},
   "outputs": [
    {
     "name": "stdout",
     "output_type": "stream",
     "text": [
      "1129\n",
      "1129\n",
      "1129\n",
      "1129\n",
      "1129\n",
      "1129\n"
     ]
    }
   ],
   "source": [
    "# Results of preprocessing \n",
    "filenames = [\n",
    "    \"open_tasks_EN\",\n",
    "    \"tasks_BT_EN\", \n",
    "    \"tasks_RD_EN\", \n",
    "    \"tasks_RI_EN\", \n",
    "    \"tasks_RS_EN\", \n",
    "    \"tasks_SR_EN\", \n",
    "]\n",
    "for f in filenames: \n",
    "    print(len(pd.read_csv(f\"gen_files/EN/preprocessed/{f}.csv\")))"
   ]
  },
  {
   "cell_type": "code",
   "execution_count": 28,
   "id": "69c6ffbd-cf2c-404f-b07b-1e8dbee19803",
   "metadata": {},
   "outputs": [
    {
     "data": {
      "text/plain": [
       "(196, 196)"
      ]
     },
     "execution_count": 28,
     "metadata": {},
     "output_type": "execute_result"
    }
   ],
   "source": [
    "concept_aspects_de = pd.read_csv(\"gen_files/DE/concept_aspects_DE.csv\") \n",
    "len(concept_aspects_de), len(pd.read_csv(\"gen_files/DE/preprocessed/concept_aspects_DE.csv\"))"
   ]
  },
  {
   "cell_type": "code",
   "execution_count": 30,
   "id": "c5e20605-dbff-42d2-8a16-c538344bec53",
   "metadata": {},
   "outputs": [
    {
     "data": {
      "text/plain": [
       "(269, 269)"
      ]
     },
     "execution_count": 30,
     "metadata": {},
     "output_type": "execute_result"
    }
   ],
   "source": [
    "concept_aspects_en = pd.read_csv(\"gen_files/EN/concept_aspects_EN.csv\") \n",
    "len(concept_aspects_en), len(pd.read_csv(\"gen_files/EN/preprocessed/concept_aspects_EN.csv\"))"
   ]
  },
  {
   "cell_type": "code",
   "execution_count": null,
   "id": "2c38631e-530c-40fc-bc82-16b1a7e7aa43",
   "metadata": {},
   "outputs": [],
   "source": []
  }
 ],
 "metadata": {
  "kernelspec": {
   "display_name": "Python 3 (ipykernel)",
   "language": "python",
   "name": "python3"
  },
  "language_info": {
   "codemirror_mode": {
    "name": "ipython",
    "version": 3
   },
   "file_extension": ".py",
   "mimetype": "text/x-python",
   "name": "python",
   "nbconvert_exporter": "python",
   "pygments_lexer": "ipython3",
   "version": "3.11.8"
  }
 },
 "nbformat": 4,
 "nbformat_minor": 5
}
