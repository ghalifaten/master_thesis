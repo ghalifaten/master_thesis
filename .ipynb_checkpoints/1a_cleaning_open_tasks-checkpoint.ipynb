{
 "cells": [
  {
   "cell_type": "markdown",
   "id": "65a40885-ac25-44cb-9d5b-f197f1140ed5",
   "metadata": {},
   "source": [
    "This notebook is made for cleaning the open tasks' description texts. <hr>"
   ]
  },
  {
   "cell_type": "code",
   "execution_count": 1,
   "id": "7a80166e-85d6-4a88-b969-dc9b4d2da852",
   "metadata": {},
   "outputs": [],
   "source": [
    "import warnings\n",
    "warnings.filterwarnings(\"ignore\")"
   ]
  },
  {
   "cell_type": "code",
   "execution_count": 2,
   "id": "4cf2eecb-db78-4a28-a0d4-13d29b6907d0",
   "metadata": {},
   "outputs": [],
   "source": [
    "import pandas as pd\n",
    "import numpy as np\n",
    "import seaborn as sns\n",
    "import matplotlib.pyplot as plt\n",
    "from bs4 import BeautifulSoup\n",
    "import nltk\n",
    "from nltk import classify\n",
    "from nltk import textcat"
   ]
  },
  {
   "cell_type": "markdown",
   "id": "df9defe5-668e-4481-b20d-3e61f2156dd0",
   "metadata": {},
   "source": [
    "**Loading data**"
   ]
  },
  {
   "cell_type": "code",
   "execution_count": 3,
   "id": "f6bd7682-8453-428a-9393-d91ddc34a30f",
   "metadata": {},
   "outputs": [
    {
     "name": "stdout",
     "output_type": "stream",
     "text": [
      "Number of OPEN tasks: 4204\n"
     ]
    }
   ],
   "source": [
    "# Load Tasks\n",
    "df_tasks = pd.read_csv(\"data/EDA_result.csv\")\n",
    "L = len(df_tasks)\n",
    "print(f\"Number of OPEN tasks: {L}\")"
   ]
  },
  {
   "cell_type": "markdown",
   "id": "4811aeed-2875-4cfd-903e-3adcb5956b39",
   "metadata": {},
   "source": [
    "**Removing playground tasks, and those with Nan tenant**"
   ]
  },
  {
   "cell_type": "code",
   "execution_count": 4,
   "id": "1aaf9e10-1c78-4488-9b4d-9be4ea13b7dd",
   "metadata": {},
   "outputs": [
    {
     "name": "stdout",
     "output_type": "stream",
     "text": [
      "Percentage of tasks with unspecified tenant: 3.59%\n",
      "Percentage of playground tasks: 10.18%\n",
      "Number of OPEN tasks after removing Playground and Nan tenants: 3625\n"
     ]
    }
   ],
   "source": [
    "# Nan tenants\n",
    "print(\"Percentage of tasks with unspecified tenant: {:.2f}%\".format(len(df_tasks[df_tasks[\"tenant_name\"].isna()]) / L * 100))\n",
    "df_tasks.dropna(subset=[\"tenant_name\"], inplace=True)\n",
    "\n",
    "# Playground\n",
    "df_playground = df_tasks[df_tasks[\"tenant_name\"].str.contains('playground', case=False)]\n",
    "print(\"Percentage of playground tasks: {:.2f}%\".format(len(df_playground) / L * 100))\n",
    "df_tasks = df_tasks.drop(df_playground.index)\n",
    "df = df_tasks.copy()\n",
    "\n",
    "df.dropna(axis=1, how=\"all\", inplace=True)\n",
    "print(f\"Number of OPEN tasks after removing Playground and Nan tenants: {len(df)}\")"
   ]
  },
  {
   "cell_type": "code",
   "execution_count": 5,
   "id": "1be30dad-c3e8-4c71-8993-5637cecd0308",
   "metadata": {},
   "outputs": [
    {
     "data": {
      "text/html": [
       "<div>\n",
       "<style scoped>\n",
       "    .dataframe tbody tr th:only-of-type {\n",
       "        vertical-align: middle;\n",
       "    }\n",
       "\n",
       "    .dataframe tbody tr th {\n",
       "        vertical-align: top;\n",
       "    }\n",
       "\n",
       "    .dataframe thead th {\n",
       "        text-align: right;\n",
       "    }\n",
       "</style>\n",
       "<table border=\"1\" class=\"dataframe\">\n",
       "  <thead>\n",
       "    <tr style=\"text-align: right;\">\n",
       "      <th></th>\n",
       "      <th>taskId</th>\n",
       "      <th>description</th>\n",
       "      <th>language</th>\n",
       "      <th>context</th>\n",
       "      <th>tenant_name</th>\n",
       "      <th>word_count</th>\n",
       "    </tr>\n",
       "  </thead>\n",
       "  <tbody>\n",
       "    <tr>\n",
       "      <th>653</th>\n",
       "      <td>2h4Cy3wj0Dz7xYBXEhBMcf</td>\n",
       "      <td>NaN</td>\n",
       "      <td>NaN</td>\n",
       "      <td>NaN</td>\n",
       "      <td>connectsolutions_en</td>\n",
       "      <td>0</td>\n",
       "    </tr>\n",
       "    <tr>\n",
       "      <th>2286</th>\n",
       "      <td>rtjB7FDzEm5DhSkOkqLF5</td>\n",
       "      <td>NaN</td>\n",
       "      <td>EN</td>\n",
       "      <td>NaN</td>\n",
       "      <td>demo</td>\n",
       "      <td>0</td>\n",
       "    </tr>\n",
       "    <tr>\n",
       "      <th>2287</th>\n",
       "      <td>7zfPuYc7lDJ6zTSDsSpgEM</td>\n",
       "      <td>NaN</td>\n",
       "      <td>EN</td>\n",
       "      <td>NaN</td>\n",
       "      <td>demo</td>\n",
       "      <td>0</td>\n",
       "    </tr>\n",
       "    <tr>\n",
       "      <th>2295</th>\n",
       "      <td>8ExkHm2okfQazT2ggizh9e</td>\n",
       "      <td>NaN</td>\n",
       "      <td>EN</td>\n",
       "      <td>NaN</td>\n",
       "      <td>demo</td>\n",
       "      <td>0</td>\n",
       "    </tr>\n",
       "    <tr>\n",
       "      <th>899</th>\n",
       "      <td>47JOFEMq8vP65XuIlDgZmD</td>\n",
       "      <td>NaN</td>\n",
       "      <td>EN</td>\n",
       "      <td>NaN</td>\n",
       "      <td>demo</td>\n",
       "      <td>0</td>\n",
       "    </tr>\n",
       "  </tbody>\n",
       "</table>\n",
       "</div>"
      ],
      "text/plain": [
       "                      taskId description language context  \\\n",
       "653   2h4Cy3wj0Dz7xYBXEhBMcf         NaN      NaN     NaN   \n",
       "2286   rtjB7FDzEm5DhSkOkqLF5         NaN       EN     NaN   \n",
       "2287  7zfPuYc7lDJ6zTSDsSpgEM         NaN       EN     NaN   \n",
       "2295  8ExkHm2okfQazT2ggizh9e         NaN       EN     NaN   \n",
       "899   47JOFEMq8vP65XuIlDgZmD         NaN       EN     NaN   \n",
       "\n",
       "              tenant_name  word_count  \n",
       "653   connectsolutions_en           0  \n",
       "2286                 demo           0  \n",
       "2287                 demo           0  \n",
       "2295                 demo           0  \n",
       "899                  demo           0  "
      ]
     },
     "execution_count": 5,
     "metadata": {},
     "output_type": "execute_result"
    }
   ],
   "source": [
    "df.head()"
   ]
  },
  {
   "cell_type": "markdown",
   "id": "b8d1d333-471c-47fd-b5c0-2e48a4ce4eae",
   "metadata": {},
   "source": [
    "**Removing short descriptions**"
   ]
  },
  {
   "cell_type": "code",
   "execution_count": 6,
   "id": "1ea0ce15-c366-4f61-a0d1-dd31b94781db",
   "metadata": {},
   "outputs": [
    {
     "data": {
      "text/plain": [
       "3442"
      ]
     },
     "execution_count": 6,
     "metadata": {},
     "output_type": "execute_result"
    }
   ],
   "source": [
    "df = df[df[\"word_count\"] > 4] \n",
    "len(df)"
   ]
  },
  {
   "cell_type": "markdown",
   "id": "851c614a-581a-4753-97aa-e73727cc72e3",
   "metadata": {},
   "source": [
    "**Fixing language field**"
   ]
  },
  {
   "cell_type": "code",
   "execution_count": 7,
   "id": "e27eb91c-b001-46e8-8f2e-622cb7c56df6",
   "metadata": {},
   "outputs": [],
   "source": [
    "def detect_lang(detector, text):\n",
    "    try:\n",
    "        return detector.guess_language(text)\n",
    "    except:\n",
    "        return \"\""
   ]
  },
  {
   "cell_type": "code",
   "execution_count": 8,
   "id": "e1de69ee-5411-41ac-abc6-74febb2256d2",
   "metadata": {},
   "outputs": [
    {
     "data": {
      "text/plain": [
       "array([nan, 'DE', 'EN'], dtype=object)"
      ]
     },
     "execution_count": 8,
     "metadata": {},
     "output_type": "execute_result"
    }
   ],
   "source": [
    "df.language.unique()"
   ]
  },
  {
   "cell_type": "code",
   "execution_count": 9,
   "id": "bdd305e5-895b-4929-80a1-2ce21d0b0c02",
   "metadata": {},
   "outputs": [],
   "source": [
    "detector = textcat.TextCat()\n",
    "# Take out tasks with Nan language\n",
    "df_nan = df[df[\"language\"].isna()].copy()\n",
    "df = df.dropna(subset=[\"language\"])"
   ]
  },
  {
   "cell_type": "code",
   "execution_count": 11,
   "id": "1104ebad-ab03-4912-8bb9-5cae50a3b500",
   "metadata": {},
   "outputs": [
    {
     "data": {
      "text/plain": [
       "array(['DE', 'EN'], dtype=object)"
      ]
     },
     "execution_count": 11,
     "metadata": {},
     "output_type": "execute_result"
    }
   ],
   "source": [
    "df.language.unique()"
   ]
  },
  {
   "cell_type": "code",
   "execution_count": 12,
   "id": "2efa5691-4fa7-4c93-a932-38c516d7030f",
   "metadata": {},
   "outputs": [
    {
     "data": {
      "text/plain": [
       "array([nan], dtype=object)"
      ]
     },
     "execution_count": 12,
     "metadata": {},
     "output_type": "execute_result"
    }
   ],
   "source": [
    "df_nan.language.unique()"
   ]
  },
  {
   "cell_type": "code",
   "execution_count": 13,
   "id": "f7be5a5a-7f35-41a9-8462-f100d0ab6d75",
   "metadata": {},
   "outputs": [],
   "source": [
    "# Fix Nan language\n",
    "df_nan[\"language\"] = df_nan[\"description\"].apply(lambda text: detect_lang(detector, text))"
   ]
  },
  {
   "cell_type": "code",
   "execution_count": 15,
   "id": "5fabbf1a-0226-4290-8fb4-eb715cfdd393",
   "metadata": {},
   "outputs": [
    {
     "data": {
      "text/plain": [
       "array(['deu', 'fra', 'eng', 'eng ', 'por', 'nds', 'ita', 'fur', 'lmo',\n",
       "       'vec', 'sot', 'afr'], dtype=object)"
      ]
     },
     "execution_count": 15,
     "metadata": {},
     "output_type": "execute_result"
    }
   ],
   "source": [
    "df_nan.language.unique()"
   ]
  },
  {
   "cell_type": "code",
   "execution_count": 22,
   "id": "3ff1b229-3e58-4026-970e-0874e30d54b1",
   "metadata": {},
   "outputs": [
    {
     "data": {
      "text/plain": [
       "546"
      ]
     },
     "execution_count": 22,
     "metadata": {},
     "output_type": "execute_result"
    }
   ],
   "source": [
    "len(df_nan[df_nan[\"language\"].isin([\"deu\", \"eng\", \"eng \"])])"
   ]
  },
  {
   "cell_type": "code",
   "execution_count": 16,
   "id": "919a50ff-987d-4474-96e3-d08e2ac8885d",
   "metadata": {},
   "outputs": [],
   "source": [
    "# Concat detected German and English tasks to main df\n",
    "df = pd.concat([df, df_nan[df_nan['language'].isin([\"deu\", \"eng\", \"eng \"])]])"
   ]
  },
  {
   "cell_type": "code",
   "execution_count": 17,
   "id": "3acefda3-3e08-4577-bff9-44b7acf1e397",
   "metadata": {},
   "outputs": [
    {
     "data": {
      "text/plain": [
       "array(['DE', 'EN', 'deu', 'eng', 'eng '], dtype=object)"
      ]
     },
     "execution_count": 17,
     "metadata": {},
     "output_type": "execute_result"
    }
   ],
   "source": [
    "df.language.unique()"
   ]
  },
  {
   "cell_type": "code",
   "execution_count": 18,
   "id": "ff353efa-8353-4108-b57e-b4458bcd5f96",
   "metadata": {},
   "outputs": [
    {
     "data": {
      "text/html": [
       "<div>\n",
       "<style scoped>\n",
       "    .dataframe tbody tr th:only-of-type {\n",
       "        vertical-align: middle;\n",
       "    }\n",
       "\n",
       "    .dataframe tbody tr th {\n",
       "        vertical-align: top;\n",
       "    }\n",
       "\n",
       "    .dataframe thead th {\n",
       "        text-align: right;\n",
       "    }\n",
       "</style>\n",
       "<table border=\"1\" class=\"dataframe\">\n",
       "  <thead>\n",
       "    <tr style=\"text-align: right;\">\n",
       "      <th></th>\n",
       "      <th>taskId</th>\n",
       "      <th>description</th>\n",
       "      <th>language</th>\n",
       "      <th>context</th>\n",
       "      <th>tenant_name</th>\n",
       "      <th>word_count</th>\n",
       "    </tr>\n",
       "  </thead>\n",
       "  <tbody>\n",
       "    <tr>\n",
       "      <th>3692</th>\n",
       "      <td>7hvRQmyfUMS71XyLOtJdRY</td>\n",
       "      <td>This is a reference Task</td>\n",
       "      <td>DE</td>\n",
       "      <td>NaN</td>\n",
       "      <td>Open Questions PoC</td>\n",
       "      <td>5</td>\n",
       "    </tr>\n",
       "    <tr>\n",
       "      <th>960</th>\n",
       "      <td>2VX1HHa4SZp9Cs6Suof4ho</td>\n",
       "      <td>Beschreibe den Hund im Bild.</td>\n",
       "      <td>DE</td>\n",
       "      <td>NaN</td>\n",
       "      <td>other_tenant</td>\n",
       "      <td>5</td>\n",
       "    </tr>\n",
       "    <tr>\n",
       "      <th>926</th>\n",
       "      <td>1xgHkdji4n27IrsqwdFmhp</td>\n",
       "      <td>\"А\" - перша літера абетки.</td>\n",
       "      <td>DE</td>\n",
       "      <td>NaN</td>\n",
       "      <td>task-pool-smartest</td>\n",
       "      <td>5</td>\n",
       "    </tr>\n",
       "    <tr>\n",
       "      <th>2704</th>\n",
       "      <td>2U6hRpolI4D7j1nzJMeWRZ</td>\n",
       "      <td>Nenne die Bestandteile eines Hebels.</td>\n",
       "      <td>DE</td>\n",
       "      <td>Die Wippe ist ein Hebel Fast auf jedem Spiel...</td>\n",
       "      <td>EKV_Physik</td>\n",
       "      <td>5</td>\n",
       "    </tr>\n",
       "    <tr>\n",
       "      <th>925</th>\n",
       "      <td>67O6lTzBuHz7WIvFT9QIZJ</td>\n",
       "      <td>\"А\" - перша літера абетки.</td>\n",
       "      <td>DE</td>\n",
       "      <td>NaN</td>\n",
       "      <td>task-pool-smartest</td>\n",
       "      <td>5</td>\n",
       "    </tr>\n",
       "  </tbody>\n",
       "</table>\n",
       "</div>"
      ],
      "text/plain": [
       "                      taskId                           description language  \\\n",
       "3692  7hvRQmyfUMS71XyLOtJdRY              This is a reference Task       DE   \n",
       "960   2VX1HHa4SZp9Cs6Suof4ho          Beschreibe den Hund im Bild.       DE   \n",
       "926   1xgHkdji4n27IrsqwdFmhp            \"А\" - перша літера абетки.       DE   \n",
       "2704  2U6hRpolI4D7j1nzJMeWRZ  Nenne die Bestandteile eines Hebels.       DE   \n",
       "925   67O6lTzBuHz7WIvFT9QIZJ            \"А\" - перша літера абетки.       DE   \n",
       "\n",
       "                                                context         tenant_name  \\\n",
       "3692                                                NaN  Open Questions PoC   \n",
       "960                                                 NaN        other_tenant   \n",
       "926                                                 NaN  task-pool-smartest   \n",
       "2704    Die Wippe ist ein Hebel Fast auf jedem Spiel...          EKV_Physik   \n",
       "925                                                 NaN  task-pool-smartest   \n",
       "\n",
       "      word_count  \n",
       "3692           5  \n",
       "960            5  \n",
       "926            5  \n",
       "2704           5  \n",
       "925            5  "
      ]
     },
     "execution_count": 18,
     "metadata": {},
     "output_type": "execute_result"
    }
   ],
   "source": [
    "df.head()"
   ]
  },
  {
   "cell_type": "code",
   "execution_count": 19,
   "id": "bf27ec3e-c3a6-4198-98b2-5f39461ba1e2",
   "metadata": {},
   "outputs": [],
   "source": [
    "# Word count\n",
    "df[\"word_count\"] = df[\"description\"].apply(lambda s: len(s.split())) \n",
    "\n",
    "df_deu = df[df[\"language\"].isin([\"deu\", \"DE\"])] \n",
    "df_eng = df[df[\"language\"].isin([\"eng\", \"eng \", \"EN\"])]  "
   ]
  },
  {
   "cell_type": "code",
   "execution_count": 20,
   "id": "345fbeaa-aecb-4f74-9780-0fff725c0e8e",
   "metadata": {},
   "outputs": [
    {
     "data": {
      "text/plain": [
       "(1776, 1319)"
      ]
     },
     "execution_count": 20,
     "metadata": {},
     "output_type": "execute_result"
    }
   ],
   "source": [
    "len(df_deu), len(df_eng)"
   ]
  },
  {
   "cell_type": "markdown",
   "id": "832b5c0e-d1fa-4a8d-9938-cbddb624d658",
   "metadata": {},
   "source": [
    "<hr>"
   ]
  },
  {
   "cell_type": "markdown",
   "id": "dfbce136-f96a-49c1-907e-d7fc80f7b16e",
   "metadata": {},
   "source": [
    "**Visualization**"
   ]
  },
  {
   "cell_type": "code",
   "execution_count": 24,
   "id": "0e8e70e3-d04b-420f-9867-3f883b4116ae",
   "metadata": {},
   "outputs": [],
   "source": [
    "from sklearn.feature_extraction.text import CountVectorizer"
   ]
  },
  {
   "cell_type": "code",
   "execution_count": 25,
   "id": "823e9887-6711-4cb0-89e7-a486322f4104",
   "metadata": {},
   "outputs": [],
   "source": [
    "df_deu[\"language\"] = \"DE\"\n",
    "df_eng[\"language\"] = \"EN\"\n",
    "df_both = pd.concat([df_deu, df_eng]) "
   ]
  },
  {
   "cell_type": "code",
   "execution_count": 28,
   "id": "39662af4-659e-45f8-b495-35964c6532d6",
   "metadata": {},
   "outputs": [
    {
     "data": {
      "image/png": "[encoded data removed]",
      "text/plain": [
       "<Figure size 1200x500 with 1 Axes>"
      ]
     },
     "metadata": {},
     "output_type": "display_data"
    }
   ],
   "source": [
    "fig, ax = plt.subplots(1, 1, figsize=(12, 5))\n",
    "\n",
    "sns.histplot(data=df_both, x=\"word_count\", hue=\"language\", kde=True, stat=\"density\", palette=[\"tab:blue\", \"tab:orange\"])\n",
    "ax.set_xscale(\"log\")\n",
    "\n",
    "fig.savefig(\"figures/description_lengths_2\", bbox_inches=\"tight\") "
   ]
  },
  {
   "cell_type": "markdown",
   "id": "772d9e80-7c25-41cd-bbf8-5e83580adb56",
   "metadata": {},
   "source": [
    "> Descriptions with less than 5 words mostly correspond to testing tasks (\"empty task\", \"test task\", \"bla bla bla\"...) and it is judicious to remove them. Since they correspong to less than 5% of the descriptions in both languages, we can remove them. Those with less than 10 words however represent more than half of the english tasks and so cannot be removed and should not be just testing tasks."
   ]
  },
  {
   "cell_type": "markdown",
   "id": "e1e1ec7c-ac0b-4303-a878-d96205527a5e",
   "metadata": {},
   "source": [
    "**Saving clean tasks**"
   ]
  },
  {
   "cell_type": "code",
   "execution_count": 34,
   "id": "2daab706-c768-4fea-8fde-63648e029cab",
   "metadata": {},
   "outputs": [],
   "source": [
    "df_deu.to_csv(\"data/DE/open_tasks.csv\", index_label=False)\n",
    "df_eng.to_csv(\"data/EN/open_tasks.csv\", index_label=False)"
   ]
  },
  {
   "cell_type": "code",
   "execution_count": null,
   "id": "445f5864-9c55-4b0c-a153-cdeab3fa54c6",
   "metadata": {},
   "outputs": [],
   "source": []
  }
 ],
 "metadata": {
  "kernelspec": {
   "display_name": "tb_venv",
   "language": "python",
   "name": "tb_venv"
  },
  "language_info": {
   "codemirror_mode": {
    "name": "ipython",
    "version": 3
   },
   "file_extension": ".py",
   "mimetype": "text/x-python",
   "name": "python",
   "nbconvert_exporter": "python",
   "pygments_lexer": "ipython3",
   "version": "3.11.8"
  }
 },
 "nbformat": 4,
 "nbformat_minor": 5
}
