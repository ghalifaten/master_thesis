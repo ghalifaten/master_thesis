{
 "cells": [
  {
   "cell_type": "code",
   "execution_count": 1,
   "id": "7a80166e-85d6-4a88-b969-dc9b4d2da852",
   "metadata": {},
   "outputs": [],
   "source": [
    "import warnings\n",
    "warnings.filterwarnings(\"ignore\")"
   ]
  },
  {
   "cell_type": "code",
   "execution_count": 2,
   "id": "4cf2eecb-db78-4a28-a0d4-13d29b6907d0",
   "metadata": {},
   "outputs": [],
   "source": [
    "import mysql.connector\n",
    "import pandas as pd\n",
    "import numpy as np\n",
    "import seaborn as sns\n",
    "import matplotlib.pyplot as plt\n",
    "from bs4 import BeautifulSoup"
   ]
  },
  {
   "cell_type": "code",
   "execution_count": 3,
   "id": "daba238a-3939-4ca7-ab33-dc17e742ad3f",
   "metadata": {},
   "outputs": [],
   "source": [
    "# Connect to Database\n",
    "cnx = mysql.connector.connect(user='root', password='taskbase',\n",
    "                              host='127.0.0.1', port='3309', database='lernnavi')"
   ]
  },
  {
   "cell_type": "code",
   "execution_count": 4,
   "id": "f6bd7682-8453-428a-9393-d91ddc34a30f",
   "metadata": {},
   "outputs": [
    {
     "name": "stdout",
     "output_type": "stream",
     "text": [
      "Number of OPEN tasks, playground included: 3829\n"
     ]
    }
   ],
   "source": [
    "# Load Tasks\n",
    "query = \"SELECT * FROM Tasks\"\n",
    "df_tasks = pd.read_sql(query, cnx)\n",
    "# display(df_tasks.head(1))\n",
    "\n",
    "# Load types of tasks\n",
    "query = \"SELECT * FROM TaskTypes\"\n",
    "df_types = pd.read_sql(query, cnx)\n",
    "df_types.rename(columns={'id':'typeId', 'name':'type'}, inplace=True)\n",
    "# display(df_types.head(1))\n",
    "\n",
    "# Assign types to tasks\n",
    "df_tasks = pd.merge(df_tasks, df_types, how=\"inner\", on='typeId')\n",
    "# display(df_tasks.head(1))\n",
    "\n",
    "# Select tasks of type \"OPEN\"\n",
    "df_open_tasks = df_tasks[df_tasks[\"type\"] == \"OPEN\"]\n",
    "\n",
    "# Load Last versions of tasks\n",
    "query = \"SELECT * FROM LatestTaskVersions\"\n",
    "df_latest = pd.read_sql(query, cnx)\n",
    "# display(df_latest.head(1))\n",
    "\n",
    "# Select last versions of Open tasks\n",
    "df_latest_open_versions = pd.merge(df_open_tasks, df_latest, how=\"inner\", on=[\"version\", \"taskId\"])\n",
    "# display(df_latest_open_versions.head(1))\n",
    "print(f\"Number of OPEN tasks, playground included: {len(df_latest_open_versions)}\")"
   ]
  },
  {
   "cell_type": "code",
   "execution_count": 5,
   "id": "1aaf9e10-1c78-4488-9b4d-9be4ea13b7dd",
   "metadata": {},
   "outputs": [
    {
     "name": "stdout",
     "output_type": "stream",
     "text": [
      "Percentage of tasks with unspecified tenant: 3.94%\n",
      "Percentage of playground tasks (after removing Nan tenants): 10.03%\n",
      "Number of OPEN tasks after removing Playground and Nan tenants: 3309\n",
      "\n",
      "Final number of tasks after cleaning: 3309\n"
     ]
    }
   ],
   "source": [
    "# Remove playground tasks, and those with Nan tenant\n",
    "df_content = df_latest_open_versions[\"content\"].apply(json.loads).apply(pd.Series)\n",
    "df_content.rename(columns={\"id\":\"taskId\"}, inplace=True)\n",
    "# display(df_content.head(1))\n",
    "\n",
    "df_tenants = df_content[\"tenant\"].apply(pd.Series)\n",
    "df_tenants.rename(columns={\"name\":\"tenant_name\"}, inplace=True)\n",
    "# display(df_tenants.head(1))\n",
    "\n",
    "df_content = pd.concat([df_content, df_tenants], axis=1)\n",
    "print(\"Percentage of tasks with unspecified tenant: {:.2f}%\".format(len(df_content[df_content[\"tenant_name\"].isna()]) / len(df_content) * 100))\n",
    "df_content.dropna(subset=[\"tenant_name\"], inplace=True)\n",
    "df_playground = df_content[df_content[\"tenant_name\"].str.contains('playground', case=False)]\n",
    "print(\"Percentage of playground tasks (after removing Nan tenants): {:.2f}%\".format(len(df_playground) / len(df_content) * 100))\n",
    "df_content = df_content.drop(df_playground.index)\n",
    "df_open_tasks = df_content.copy()\n",
    "print(f\"Number of OPEN tasks after removing Playground and Nan tenants: {len(df_open_tasks)}\")\n",
    "# display(df_open_tasks.head(1))\n",
    "\n",
    "# Cleaning DataFrame\n",
    "columns_to_keep = [\"taskId\", \"language\", \"description\", \"context\", \"topic\"]\n",
    "df_open_tasks = df_open_tasks[columns_to_keep]\n",
    "df_open_tasks.dropna(axis=1, how=\"all\")\n",
    "\n",
    "# Extract topic ID, potentially useful later\n",
    "df_topics = df_open_tasks[\"topic\"].apply(pd.Series)\n",
    "df_topics.rename(columns={\"id\":\"topic_id\"}, inplace=True)\n",
    "# display(df_topics.head(1))\n",
    "\n",
    "df_open_tasks = pd.concat([df_open_tasks.drop(\"topic\", axis=1), df_topics[[\"topic_id\"]]], axis=1)\n",
    "# display(df_open_tasks.head(1))\n",
    "\n",
    "print(f\"\\nFinal number of tasks after cleaning: {len(df_open_tasks)}\")"
   ]
  },
  {
   "cell_type": "markdown",
   "id": "38309d14-80bc-4e26-a894-746e05888890",
   "metadata": {},
   "source": [
    "<hr>"
   ]
  },
  {
   "cell_type": "markdown",
   "id": "54850739-599f-4182-8c8c-c18fb3c5b95d",
   "metadata": {},
   "source": [
    "**Augment description with context**"
   ]
  },
  {
   "cell_type": "code",
   "execution_count": 6,
   "id": "63c0f42a-678e-47a3-a575-17a7ff683a22",
   "metadata": {},
   "outputs": [],
   "source": [
    "df_open_tasks[\"description\"] = df_open_tasks.apply(\n",
    "    lambda row: row[\"description\"]+\" \"+row[\"context\"] \n",
    "    if isinstance(row[\"context\"], str) \n",
    "    else row[\"description\"], \n",
    "    axis=1)\n",
    "df_open_tasks.drop(columns=[\"context\"], inplace=True)\n",
    "# df_open_tasks.head(1)"
   ]
  },
  {
   "cell_type": "markdown",
   "id": "40a980cd-7a60-4e76-83cf-3125f755dd0f",
   "metadata": {},
   "source": [
    "<hr>"
   ]
  },
  {
   "cell_type": "markdown",
   "id": "b8d1d333-471c-47fd-b5c0-2e48a4ce4eae",
   "metadata": {},
   "source": [
    "**Cleaning description**"
   ]
  },
  {
   "cell_type": "code",
   "execution_count": 7,
   "id": "1ea0ce15-c366-4f61-a0d1-dd31b94781db",
   "metadata": {},
   "outputs": [
    {
     "name": "stdout",
     "output_type": "stream",
     "text": [
      "Number of tasks with Nan description: 0\n",
      "Number of tasks with Empty description: 114\n",
      "\n",
      "Final number of tasks with non empty descriptions: 3195\n"
     ]
    }
   ],
   "source": [
    "df_open_tasks[\"description\"] = df_open_tasks[\"description\"].apply(\n",
    "    lambda text: BeautifulSoup(str(text), 'html.parser').get_text(separator=\" \", strip=True).strip())\n",
    "\n",
    "print(\"Number of tasks with Nan description: {}\".format(len(df_open_tasks) - len(df_open_tasks.dropna(subset=[\"description\"]))))\n",
    "print(\"Number of tasks with Empty description: {}\".format(len(df_open_tasks[df_open_tasks[\"description\"] == \"\"])))\n",
    "\n",
    "#Remove empty descriptions \n",
    "df_open_tasks = df_open_tasks[df_open_tasks[\"description\"] != \"\"] \n",
    "print(f\"\\nFinal number of tasks with non empty descriptions: {len(df_open_tasks)}\")"
   ]
  },
  {
   "cell_type": "markdown",
   "id": "60c392e0-0700-4ea7-9da5-e6fb3add314c",
   "metadata": {},
   "source": [
    "<hr>"
   ]
  },
  {
   "cell_type": "markdown",
   "id": "5a79323f-11ac-4efa-bae5-22fc186b8462",
   "metadata": {},
   "source": [
    "**Visualization**"
   ]
  },
  {
   "cell_type": "code",
   "execution_count": 8,
   "id": "0e8e70e3-d04b-420f-9867-3f883b4116ae",
   "metadata": {},
   "outputs": [],
   "source": [
    "from sklearn.feature_extraction.text import CountVectorizer"
   ]
  },
  {
   "cell_type": "code",
   "execution_count": 9,
   "id": "a1fa607a-a35c-491b-b464-2370ce54b8c2",
   "metadata": {},
   "outputs": [
    {
     "data": {
      "image/png": "[encoded data removed]",
      "text/plain": [
       "<Figure size 1000x600 with 1 Axes>"
      ]
     },
     "metadata": {},
     "output_type": "display_data"
    }
   ],
   "source": [
    "# Word count\n",
    "df_open_tasks[\"word_count\"] = df_open_tasks[\"description\"].apply(lambda s: len(s.split())) \n",
    "\n",
    "fig, ax = plt.subplots(1, 1, figsize=(10, 6))\n",
    "word_count = df_open_tasks[\"word_count\"].to_list()\n",
    "plt.hist(word_count, bins=np.arange(max(word_count)+2)-0.5, histtype='step')\n",
    "ax.set_yscale(\"log\")\n",
    "ax.set_xscale(\"log\")\n",
    "ax.set_title(\"Distribution of lengths of descriptions in number of words\")\n",
    "ax.set_xlabel(\"word count\")\n",
    "ax.set_ylabel(\"frequency\")\n",
    "plt.show()"
   ]
  },
  {
   "cell_type": "code",
   "execution_count": 10,
   "id": "7300b51e-3d4c-48dc-886e-b2a4cb4f34a0",
   "metadata": {},
   "outputs": [
    {
     "name": "stdout",
     "output_type": "stream",
     "text": [
      "Percentage of descriptions with less than 5 words: 1.69%\n",
      "Percentage of descriptions with less than 10 words: 25.60%\n"
     ]
    }
   ],
   "source": [
    "print(\"Percentage of descriptions with less than 5 words: {:.2f}%\".format(len(df_open_tasks[df_open_tasks[\"word_count\"] < 5]) / len(df_open_tasks) * 100))\n",
    "print(\"Percentage of descriptions with less than 10 words: {:.2f}%\".format(len(df_open_tasks[df_open_tasks[\"word_count\"] < 10]) / len(df_open_tasks) * 100))"
   ]
  },
  {
   "cell_type": "code",
   "execution_count": 11,
   "id": "f00f512a-bae2-4a84-9a6a-ddf0003e584b",
   "metadata": {},
   "outputs": [],
   "source": [
    "def get_bow(text_data):\n",
    "    # create the vocabulary\n",
    "    vectorizer = CountVectorizer(input='content', stop_words=None, ngram_range=(1,1))\n",
    "    \n",
    "    # fit the vocabulary to the text data\n",
    "    vectorizer.fit(text_data)\n",
    "    \n",
    "    # create the bag-of-words model\n",
    "    bow_model = vectorizer.transform(text_data)\n",
    "\n",
    "    return vectorizer, bow_model"
   ]
  },
  {
   "cell_type": "code",
   "execution_count": 12,
   "id": "60d7052e-11db-434d-9354-e0497ef68c93",
   "metadata": {},
   "outputs": [],
   "source": [
    "text_data = df_open_tasks[\"description\"].tolist() \n",
    "vectorizer, bow_model = get_bow(text_data)\n",
    "words = vectorizer.vocabulary_.keys()\n",
    "word_lengths = [len(word) for word in words] "
   ]
  },
  {
   "cell_type": "code",
   "execution_count": 13,
   "id": "2944b9c0-8e81-4b4d-9b33-1278817d87b8",
   "metadata": {},
   "outputs": [
    {
     "data": {
      "image/png": "[encoded data removed]",
      "text/plain": [
       "<Figure size 1000x600 with 1 Axes>"
      ]
     },
     "metadata": {},
     "output_type": "display_data"
    }
   ],
   "source": [
    "fig, ax = plt.subplots(1, 1, figsize=(10, 6))\n",
    "plt.hist(word_lengths, bins=np.arange(max(word_lengths)+2)-0.5, histtype='bar', rwidth=0.8)\n",
    "ax.set_yscale(\"log\")\n",
    "ax.set_title(\"Distribution of words' lengths in descriptions\")\n",
    "ax.set_xlabel(\"word length\")\n",
    "ax.set_ylabel(\"frequency\")\n",
    "plt.show()"
   ]
  },
  {
   "cell_type": "raw",
   "id": "08949864-694d-44f4-94eb-18fd63e8a479",
   "metadata": {},
   "source": [
    "for word in words:\n",
    "    l = len(word) \n",
    "    if l == 30: \n",
    "        print(word)"
   ]
  },
  {
   "cell_type": "markdown",
   "id": "f4ad61cd-c7c2-475d-9a71-4d7c25c24440",
   "metadata": {},
   "source": [
    "<hr>"
   ]
  },
  {
   "cell_type": "markdown",
   "id": "851c614a-581a-4753-97aa-e73727cc72e3",
   "metadata": {},
   "source": [
    "**Fixing language field**"
   ]
  },
  {
   "cell_type": "code",
   "execution_count": 14,
   "id": "c0b6cc84-4a90-4d58-9c16-b8c194cfb556",
   "metadata": {},
   "outputs": [],
   "source": [
    "import nltk\n",
    "from nltk import classify\n",
    "from nltk import textcat\n",
    "# nltk.download('crubadan')\n",
    "# nltk.download('punkt')\n",
    "\n",
    "def detect_lang(detector, text):\n",
    "    try:\n",
    "        return detector.guess_language(text)\n",
    "    except:\n",
    "        return \"\"\n",
    "\n",
    "detector = textcat.TextCat()\n",
    "df_open_tasks[\"language\"] = df_open_tasks[\"description\"].apply(lambda text: detect_lang(detector, text))\n",
    "df_open_tasks.to_csv(\"language_detected.csv\", index_label=False)"
   ]
  },
  {
   "cell_type": "raw",
   "id": "206279ae-edf6-42f8-8a48-a3748e6926fb",
   "metadata": {},
   "source": [
    "detector = textcat.TextCat()\n",
    "df_open_tasks[\"language\"] = df_open_tasks[\"description\"].apply(lambda text: detect_lang(detector, text))\n",
    "df_open_tasks.to_csv(\"language_detected.csv\", index_label=False)"
   ]
  },
  {
   "cell_type": "code",
   "execution_count": 91,
   "id": "ee8f9960-8408-438d-a889-9ffcf134f055",
   "metadata": {},
   "outputs": [
    {
     "data": {
      "text/plain": [
       "array(['deu', 'fra', 'pdc', 'eng', 'ita', 'fur', 'nds', 'vec', 'lat',\n",
       "       'pam', 'ksh', 'lnc', 'por', 'swe', 'ukr', 'lmo', 'nob', 'gsw',\n",
       "       'sot', 'est', 'cat', 'glg', 'ssw', 'dan', 'miq', 'epo', 'mlt',\n",
       "       'ltz'], dtype=object)"
      ]
     },
     "execution_count": 91,
     "metadata": {},
     "output_type": "execute_result"
    }
   ],
   "source": [
    "df_open_tasks = pd.read_csv(\"language_detected.csv\")\n",
    "df_open_tasks[\"language\"] = df_open_tasks[\"language\"].str.strip()\n",
    "df_open_tasks.language.unique()"
   ]
  },
  {
   "cell_type": "code",
   "execution_count": 93,
   "id": "c2154adb-c3f8-4424-9185-8f681e94a67d",
   "metadata": {},
   "outputs": [
    {
     "data": {
      "text/plain": [
       "3195"
      ]
     },
     "execution_count": 93,
     "metadata": {},
     "output_type": "execute_result"
    }
   ],
   "source": [
    "# df_open_tasks = pd.merge(df_open_tasks, df_content[[\"taskId\", \"tenant_name\"]], how=\"inner\", on=[\"taskId\"])\n",
    "df_open_tasks = pd.merge(df_open_tasks.drop(\"tenant_name\", axis=1), df_content[[\"taskId\", \"tenant_name\"]], how=\"inner\", on=[\"taskId\"])\n",
    "len(df_open_tasks)"
   ]
  },
  {
   "cell_type": "code",
   "execution_count": 94,
   "id": "9a0b9dca-5aca-4195-b7c8-927977c51995",
   "metadata": {},
   "outputs": [],
   "source": [
    "pd.set_option(\"display.max_rows\", None)\n",
    "df_translator = df_open_tasks[df_open_tasks[\"tenant_name\"] == \"DataEnricher\"]\n",
    "df_open_tasks = df_open_tasks[df_open_tasks[\"tenant_name\"] != \"DataEnricher\"]\n",
    "\n",
    "idx = df_open_tasks[df_open_tasks[\"tenant_name\"].isin([\"connectsolutions_fr\", \"connectsolutions_it\"])].index\n",
    "df_open_tasks = df_open_tasks.drop(idx)\n",
    "\n",
    "filtered_df = df_open_tasks[df_open_tasks['description'].str.contains('translate', case=False)]\n",
    "idx = filtered_df.index\n",
    "df_translator = pd.concat([df_translator, filtered_df])\n",
    "df_open_tasks = df_open_tasks.drop(idx)\n",
    "\n",
    "filtered_df = df_open_tasks[df_open_tasks['description'].str.contains('übersetzen', case=False)]\n",
    "idx = filtered_df.index\n",
    "df_translator = pd.concat([df_translator, filtered_df])\n",
    "df_open_tasks = df_open_tasks.drop(idx)\n",
    "\n",
    "filtered_df = df_open_tasks[df_open_tasks['description'].str.contains('übersetze', case=False)]\n",
    "idx = filtered_df.index\n",
    "df_translator = pd.concat([df_translator, filtered_df])\n",
    "df_open_tasks = df_open_tasks.drop(idx)\n",
    "\n",
    "df_eng = df_open_tasks[df_open_tasks[\"language\"] == \"eng\"]\n",
    "df_deu = df_open_tasks[df_open_tasks[\"language\"] == \"deu\"]\n",
    "\n",
    "idx = df_eng[df_eng[\"tenant_name\"].isin([\"connectsolutions_de\", \"Marketing Grundlagen\"])].index\n",
    "df_eng = df_eng.drop(idx)\n",
    "df_deu = pd.concat([df_deu, df_open_tasks.loc[idx]])"
   ]
  },
  {
   "cell_type": "code",
   "execution_count": 95,
   "id": "4f445451-4d86-4603-86de-163998a06b49",
   "metadata": {},
   "outputs": [
    {
     "data": {
      "text/plain": [
       "array(['deu', 'pdc', 'eng', 'fra', 'ita', 'nds', 'lat', 'pam', 'ksh',\n",
       "       'swe', 'ukr', 'sot', 'est', 'por', 'cat', 'glg', 'nob', 'miq',\n",
       "       'epo', 'gsw', 'mlt', 'ltz'], dtype=object)"
      ]
     },
     "execution_count": 95,
     "metadata": {},
     "output_type": "execute_result"
    }
   ],
   "source": [
    "df_open_tasks.language.unique()"
   ]
  },
  {
   "cell_type": "code",
   "execution_count": 96,
   "id": "6205006e-1269-4ff7-90bf-6f50d81a0c39",
   "metadata": {},
   "outputs": [],
   "source": [
    "# display(df_open_tasks[df_open_tasks[\"language\"].isin([\"nds\", \"gsw\", \"ltz\", \"ksh\"])].sort_values(by=\"language\")) \n",
    "idx = df_open_tasks[df_open_tasks[\"language\"].isin([\"nds\", \"gsw\", \"ltz\", \"ksh\"])].index\n",
    "df_deu = pd.concat([df_deu, df_open_tasks.loc[idx]])"
   ]
  },
  {
   "cell_type": "code",
   "execution_count": 87,
   "id": "b4b6dd15-a7d9-4cf7-9f85-2794f277ede0",
   "metadata": {},
   "outputs": [],
   "source": [
    "# display(df_open_tasks[~ df_open_tasks[\"language\"].isin([\"nds\", \"gsw\", \"ltz\", \"ksh\", \"deu\", \"eng\"])].sort_values(by=\"language\"))"
   ]
  },
  {
   "cell_type": "code",
   "execution_count": 89,
   "id": "bf27ec3e-c3a6-4198-98b2-5f39461ba1e2",
   "metadata": {},
   "outputs": [],
   "source": [
    "df_eng[\"language\"] = \"eng\" \n",
    "df_deu[\"language\"] = \"deu\" "
   ]
  },
  {
   "cell_type": "code",
   "execution_count": 102,
   "id": "2daab706-c768-4fea-8fde-63648e029cab",
   "metadata": {},
   "outputs": [],
   "source": [
    "df_eng.drop(\"tenant_name\", axis=1).to_csv(\"data/open_tasks_EN.csv\", index_label=False)"
   ]
  },
  {
   "cell_type": "code",
   "execution_count": 103,
   "id": "3793e39e-f54a-4deb-b73f-0cccde2767d4",
   "metadata": {},
   "outputs": [],
   "source": [
    "df_deu.drop(\"tenant_name\", axis=1).to_csv(\"data/open_tasks_DE.csv\", index_label=False)"
   ]
  },
  {
   "cell_type": "code",
   "execution_count": 105,
   "id": "5e48aba3-3136-4a95-a22e-30ca6d9bdde4",
   "metadata": {},
   "outputs": [],
   "source": [
    "df_translator.drop(\"tenant_name\", axis=1).to_csv(\"data/translate_tasks.csv\", index_label=False)"
   ]
  },
  {
   "cell_type": "code",
   "execution_count": 106,
   "id": "25f353c0-0160-433f-a2f6-ed91af8ac6b3",
   "metadata": {},
   "outputs": [
    {
     "data": {
      "text/plain": [
       "(299, 1556, 647)"
      ]
     },
     "execution_count": 106,
     "metadata": {},
     "output_type": "execute_result"
    }
   ],
   "source": [
    "len(df_eng), len(df_deu), len(df_translator)"
   ]
  },
  {
   "cell_type": "code",
   "execution_count": null,
   "id": "83377177-c629-4d72-b3ce-70371bfd8820",
   "metadata": {},
   "outputs": [],
   "source": []
  }
 ],
 "metadata": {
  "kernelspec": {
   "display_name": "tb_venv",
   "language": "python",
   "name": "tb_venv"
  },
  "language_info": {
   "codemirror_mode": {
    "name": "ipython",
    "version": 3
   },
   "file_extension": ".py",
   "mimetype": "text/x-python",
   "name": "python",
   "nbconvert_exporter": "python",
   "pygments_lexer": "ipython3",
   "version": "3.11.8"
  }
 },
 "nbformat": 4,
 "nbformat_minor": 5
}
