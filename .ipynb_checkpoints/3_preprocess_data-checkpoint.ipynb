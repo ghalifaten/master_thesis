{
 "cells": [
  {
   "cell_type": "markdown",
   "id": "6d351f9e-d4fc-4c4d-92ff-a0d3c8543d20",
   "metadata": {},
   "source": [
    "This notebook is for preliminary steps of text preprocessing: stopwords removal, lowering case, lemmatization.. <hr>"
   ]
  },
  {
   "cell_type": "code",
   "execution_count": 1,
   "id": "d00c7f70-393c-4e3e-9a26-3809941a16b3",
   "metadata": {},
   "outputs": [],
   "source": [
    "import pandas as pd\n",
    "from gensim.utils import simple_preprocess\n",
    "from nltk.corpus import stopwords\n",
    "from nltk.stem import PorterStemmer\n",
    "import spacy\n",
    "import seaborn as sns \n",
    "import matplotlib.pyplot as plt \n",
    "\n",
    "stemmer = PorterStemmer()"
   ]
  },
  {
   "cell_type": "code",
   "execution_count": 2,
   "id": "4027f5c4-48a6-448b-9cb0-d00064ee031e",
   "metadata": {},
   "outputs": [],
   "source": [
    "def load_tools(language, stopwords=stopwords):\n",
    "    \"\"\"\n",
    "    Load open tasks in DataFrame from csv file.\n",
    "    Define stopwords and lemmatizer appropriate to given language of data.\n",
    "    \"\"\"\n",
    "    if language == \"german\": \n",
    "        stopwords = stopwords.words('german') \n",
    "        lemmatizer = spacy.load(\"de_core_news_sm\") \n",
    "    elif language == \"english\": \n",
    "        stopwords = stopwords.words('english')\n",
    "        lemmatizer = spacy.load('en_core_web_sm')\n",
    "    else:\n",
    "        raise language + \" language not supported.\" \n",
    "    return stopwords, lemmatizer\n",
    "\n",
    "def preprocess(text, lemmatizer, stopwords, stoplemmas, stemmer=stemmer):\n",
    "    if isinstance(text, float):\n",
    "        return \"\"\n",
    "    # lowercase, remove punctuation, tokenize \n",
    "    words = simple_preprocess(text, deacc=True, min_len=1, max_len=50)\n",
    "    # remove stopwords \n",
    "    tokens = [word for word in words if word not in stopwords]\n",
    "    # stemming\n",
    "    stems = [stemmer.stem(token) for token in tokens]\n",
    "    # lemmatize\n",
    "    stemmed_doc = lemmatizer(\" \".join(stems))\n",
    "    lemmas = [s.lemma_ for s in stemmed_doc]\n",
    "    lemmas = [lemma for lemma in lemmas if lemma not in stoplemmas]\n",
    "    # lowercase again (apparently stemming capitalizes the output) \n",
    "    lemmas = [lemma.lower() for lemma in lemmas] \n",
    "    return \" \".join(lemmas)"
   ]
  },
  {
   "cell_type": "code",
   "execution_count": 3,
   "id": "15af1733-0687-4a89-9ed7-0610368ba79b",
   "metadata": {},
   "outputs": [],
   "source": [
    "from sklearn.feature_extraction.text import CountVectorizer\n",
    "\n",
    "def get_bow(text_data):\n",
    "    # create the vocabulary\n",
    "    vectorizer = CountVectorizer(input='content', stop_words=None, ngram_range=(1,1))\n",
    "    \n",
    "    # fit the vocabulary to the text data\n",
    "    vectorizer.fit(text_data)\n",
    "    \n",
    "    # create the bag-of-words model\n",
    "    bow_model = vectorizer.transform(text_data)\n",
    "\n",
    "    return vectorizer, bow_model"
   ]
  },
  {
   "cell_type": "markdown",
   "id": "ce4a749a-89a4-45c8-8186-d490cff98730",
   "metadata": {},
   "source": [
    "<hr>"
   ]
  },
  {
   "cell_type": "code",
   "execution_count": 6,
   "id": "4b42c3e0-e0a3-44ff-930f-400752262fa0",
   "metadata": {},
   "outputs": [],
   "source": [
    "lang = \"EN\" \n",
    "language = \"german\" if lang==\"DE\" else \"english\"\n",
    "_stopwords, lemmatizer = load_tools(language)"
   ]
  },
  {
   "cell_type": "code",
   "execution_count": 12,
   "id": "0de15262-5145-4035-bf2b-99b1317913e2",
   "metadata": {},
   "outputs": [],
   "source": [
    "df = pd.read_csv(f\"gen_files/{lang}/concept_open_tasks.csv\")\n",
    "df[\"description\"] = df[\"description\"].apply(lambda text: preprocess(text,lemmatizer, _stopwords, stoplemmas=[]))\n",
    "df[\"word_count\"] = df[\"description\"].apply(lambda s: len(s.split())) \n",
    "\n",
    "df.to_csv(f\"gen_files/{lang}/preprocessed/open_tasks.csv\", index_label=False)"
   ]
  },
  {
   "cell_type": "code",
   "execution_count": 16,
   "id": "a1974fba-07f6-4ca2-93b1-266a529ae39b",
   "metadata": {},
   "outputs": [],
   "source": [
    "df = pd.read_csv(f\"gen_files/{lang}/trimmed_open_tasks.csv\")\n",
    "df[\"description\"] = df[\"description\"].apply(lambda text: preprocess(text,lemmatizer, _stopwords, stoplemmas=[]))\n",
    "df[\"word_count\"] = df[\"description\"].apply(lambda s: len(s.split())) \n",
    "\n",
    "df.to_csv(f\"gen_files/{lang}/preprocessed/trimmed_open_tasks.csv\", index_label=False)"
   ]
  },
  {
   "cell_type": "code",
   "execution_count": 7,
   "id": "219dddfa-aa5a-4fea-bc3b-0c62ffbc3fde",
   "metadata": {},
   "outputs": [],
   "source": [
    "df = pd.read_csv(f\"gen_files/{lang}/trimmed_test_tasks.csv\")\n",
    "df[\"description\"] = df[\"description\"].apply(lambda text: preprocess(text,lemmatizer, _stopwords, stoplemmas=[]))\n",
    "df[\"word_count\"] = df[\"description\"].apply(lambda s: len(s.split())) \n",
    "\n",
    "df.to_csv(f\"gen_files/{lang}/preprocessed/trimmed_test_tasks.csv\", index_label=False)"
   ]
  },
  {
   "cell_type": "markdown",
   "id": "d9f988b2-feaa-42d2-948a-1512675b479f",
   "metadata": {},
   "source": [
    "# Trimmed tasks: Preprocessing for model A"
   ]
  },
  {
   "cell_type": "markdown",
   "id": "774fa14c-d2a0-47a4-ae20-2316347422db",
   "metadata": {},
   "source": [
    "**German**"
   ]
  },
  {
   "cell_type": "code",
   "execution_count": 32,
   "id": "fa214865-78b8-4a9b-9541-16f2daaff569",
   "metadata": {},
   "outputs": [],
   "source": [
    "folder = \"gen_files/DE/\"\n",
    "filename = \"trimmed_open_tasks\"\n",
    "_stopwords, lemmatizer = load_tools(\"german\")\n",
    "\n",
    "df = pd.read_csv(f\"{folder}{filename}.csv\") \n",
    "df[\"description\"] = df[\"description\"].apply(lambda text: preprocess(text,lemmatizer, _stopwords, stoplemmas=[]))\n",
    "df[\"word_count\"] = df[\"description\"].apply(lambda s: len(s.split())) \n",
    "\n",
    "data = df[\"description\"].to_list() \n",
    "vectorizer, bow_model = get_bow(data)\n",
    "\n",
    "freq_dict = {}\n",
    "for word, id in vectorizer.vocabulary_.items(): \n",
    "    freq = bow_model[:, id].sum(axis=0) \n",
    "    freq_dict[word] = freq[0,0]\n",
    "    \n",
    "df_word_freq_de = pd.DataFrame(sorted(freq_dict.items(), key=lambda x: x[1], reverse=True))\n",
    "df_word_freq_de.columns = [\"words\", \"German\"]"
   ]
  },
  {
   "cell_type": "code",
   "execution_count": 37,
   "id": "0cf7aef9-b6bb-4616-aa4c-9bffa7a5a552",
   "metadata": {},
   "outputs": [],
   "source": [
    "folder = \"gen_files/EN/\"\n",
    "filename = \"trimmed_open_tasks\"\n",
    "_stopwords, lemmatizer = load_tools(\"english\")\n",
    "\n",
    "df = pd.read_csv(f\"{folder}{filename}.csv\") \n",
    "df[\"description\"] = df[\"description\"].apply(lambda text: preprocess(text, lemmatizer, _stopwords, stoplemmas=[]))\n",
    "df[\"word_count\"] = df[\"description\"].apply(lambda s: len(s.split())) \n",
    "\n",
    "data = df[\"description\"].to_list() \n",
    "vectorizer, bow_model = get_bow(data)\n",
    "\n",
    "freq_dict = {}\n",
    "for word, id in vectorizer.vocabulary_.items(): \n",
    "    freq = bow_model[:, id].sum(axis=0) \n",
    "    freq_dict[word] = freq[0,0]\n",
    "    \n",
    "df_word_freq_en = pd.DataFrame(sorted(freq_dict.items(), key=lambda x: x[1], reverse=True))\n",
    "df_word_freq_en.columns = [\"words\", \"English\"]"
   ]
  },
  {
   "cell_type": "code",
   "execution_count": 38,
   "id": "597a793b-fd56-4bb1-a5ea-0331ae9341c4",
   "metadata": {},
   "outputs": [
    {
     "data": {
      "text/html": [
       "<div>\n",
       "<style scoped>\n",
       "    .dataframe tbody tr th:only-of-type {\n",
       "        vertical-align: middle;\n",
       "    }\n",
       "\n",
       "    .dataframe tbody tr th {\n",
       "        vertical-align: top;\n",
       "    }\n",
       "\n",
       "    .dataframe thead th {\n",
       "        text-align: right;\n",
       "    }\n",
       "</style>\n",
       "<table border=\"1\" class=\"dataframe\">\n",
       "  <thead>\n",
       "    <tr style=\"text-align: right;\">\n",
       "      <th></th>\n",
       "      <th>words</th>\n",
       "      <th>German</th>\n",
       "    </tr>\n",
       "  </thead>\n",
       "  <tbody>\n",
       "    <tr>\n",
       "      <th>0</th>\n",
       "      <td>schreib</td>\n",
       "      <td>878</td>\n",
       "    </tr>\n",
       "    <tr>\n",
       "      <th>1</th>\n",
       "      <td>satz</td>\n",
       "      <td>834</td>\n",
       "    </tr>\n",
       "    <tr>\n",
       "      <th>2</th>\n",
       "      <td>fur</td>\n",
       "      <td>381</td>\n",
       "    </tr>\n",
       "    <tr>\n",
       "      <th>3</th>\n",
       "      <td>passiv</td>\n",
       "      <td>250</td>\n",
       "    </tr>\n",
       "    <tr>\n",
       "      <th>4</th>\n",
       "      <td>prasen</td>\n",
       "      <td>237</td>\n",
       "    </tr>\n",
       "  </tbody>\n",
       "</table>\n",
       "</div>"
      ],
      "text/plain": [
       "     words  German\n",
       "0  schreib     878\n",
       "1     satz     834\n",
       "2      fur     381\n",
       "3   passiv     250\n",
       "4   prasen     237"
      ]
     },
     "execution_count": 38,
     "metadata": {},
     "output_type": "execute_result"
    }
   ],
   "source": [
    "df_word_freq_de.head()"
   ]
  },
  {
   "cell_type": "code",
   "execution_count": 39,
   "id": "c517eeec-8389-4e13-a04d-bd7c7fbd8c15",
   "metadata": {},
   "outputs": [
    {
     "data": {
      "text/html": [
       "<div>\n",
       "<style scoped>\n",
       "    .dataframe tbody tr th:only-of-type {\n",
       "        vertical-align: middle;\n",
       "    }\n",
       "\n",
       "    .dataframe tbody tr th {\n",
       "        vertical-align: top;\n",
       "    }\n",
       "\n",
       "    .dataframe thead th {\n",
       "        text-align: right;\n",
       "    }\n",
       "</style>\n",
       "<table border=\"1\" class=\"dataframe\">\n",
       "  <thead>\n",
       "    <tr style=\"text-align: right;\">\n",
       "      <th></th>\n",
       "      <th>words</th>\n",
       "      <th>English</th>\n",
       "    </tr>\n",
       "  </thead>\n",
       "  <tbody>\n",
       "    <tr>\n",
       "      <th>0</th>\n",
       "      <td>translat</td>\n",
       "      <td>640</td>\n",
       "    </tr>\n",
       "    <tr>\n",
       "      <th>1</th>\n",
       "      <td>english</td>\n",
       "      <td>508</td>\n",
       "    </tr>\n",
       "    <tr>\n",
       "      <th>2</th>\n",
       "      <td>sentenc</td>\n",
       "      <td>495</td>\n",
       "    </tr>\n",
       "    <tr>\n",
       "      <th>3</th>\n",
       "      <td>write</td>\n",
       "      <td>291</td>\n",
       "    </tr>\n",
       "    <tr>\n",
       "      <th>4</th>\n",
       "      <td>like</td>\n",
       "      <td>201</td>\n",
       "    </tr>\n",
       "  </tbody>\n",
       "</table>\n",
       "</div>"
      ],
      "text/plain": [
       "      words  English\n",
       "0  translat      640\n",
       "1   english      508\n",
       "2   sentenc      495\n",
       "3     write      291\n",
       "4      like      201"
      ]
     },
     "execution_count": 39,
     "metadata": {},
     "output_type": "execute_result"
    }
   ],
   "source": [
    "df_word_freq_en.head()"
   ]
  },
  {
   "cell_type": "code",
   "execution_count": 40,
   "id": "8201d447-85dd-4a2f-b372-3b8c1bbffb4a",
   "metadata": {},
   "outputs": [
    {
     "data": {
      "text/html": [
       "<div>\n",
       "<style scoped>\n",
       "    .dataframe tbody tr th:only-of-type {\n",
       "        vertical-align: middle;\n",
       "    }\n",
       "\n",
       "    .dataframe tbody tr th {\n",
       "        vertical-align: top;\n",
       "    }\n",
       "\n",
       "    .dataframe thead th {\n",
       "        text-align: right;\n",
       "    }\n",
       "</style>\n",
       "<table border=\"1\" class=\"dataframe\">\n",
       "  <thead>\n",
       "    <tr style=\"text-align: right;\">\n",
       "      <th></th>\n",
       "      <th>German</th>\n",
       "      <th>English</th>\n",
       "    </tr>\n",
       "  </thead>\n",
       "  <tbody>\n",
       "    <tr>\n",
       "      <th>0</th>\n",
       "      <td>878</td>\n",
       "      <td>640.0</td>\n",
       "    </tr>\n",
       "    <tr>\n",
       "      <th>1</th>\n",
       "      <td>834</td>\n",
       "      <td>508.0</td>\n",
       "    </tr>\n",
       "    <tr>\n",
       "      <th>2</th>\n",
       "      <td>381</td>\n",
       "      <td>495.0</td>\n",
       "    </tr>\n",
       "    <tr>\n",
       "      <th>3</th>\n",
       "      <td>250</td>\n",
       "      <td>291.0</td>\n",
       "    </tr>\n",
       "    <tr>\n",
       "      <th>4</th>\n",
       "      <td>237</td>\n",
       "      <td>201.0</td>\n",
       "    </tr>\n",
       "    <tr>\n",
       "      <th>...</th>\n",
       "      <td>...</td>\n",
       "      <td>...</td>\n",
       "    </tr>\n",
       "    <tr>\n",
       "      <th>6141</th>\n",
       "      <td>1</td>\n",
       "      <td>NaN</td>\n",
       "    </tr>\n",
       "    <tr>\n",
       "      <th>6142</th>\n",
       "      <td>1</td>\n",
       "      <td>NaN</td>\n",
       "    </tr>\n",
       "    <tr>\n",
       "      <th>6143</th>\n",
       "      <td>1</td>\n",
       "      <td>NaN</td>\n",
       "    </tr>\n",
       "    <tr>\n",
       "      <th>6144</th>\n",
       "      <td>1</td>\n",
       "      <td>NaN</td>\n",
       "    </tr>\n",
       "    <tr>\n",
       "      <th>6145</th>\n",
       "      <td>1</td>\n",
       "      <td>NaN</td>\n",
       "    </tr>\n",
       "  </tbody>\n",
       "</table>\n",
       "<p>6146 rows × 2 columns</p>\n",
       "</div>"
      ],
      "text/plain": [
       "      German  English\n",
       "0        878    640.0\n",
       "1        834    508.0\n",
       "2        381    495.0\n",
       "3        250    291.0\n",
       "4        237    201.0\n",
       "...      ...      ...\n",
       "6141       1      NaN\n",
       "6142       1      NaN\n",
       "6143       1      NaN\n",
       "6144       1      NaN\n",
       "6145       1      NaN\n",
       "\n",
       "[6146 rows x 2 columns]"
      ]
     },
     "execution_count": 40,
     "metadata": {},
     "output_type": "execute_result"
    }
   ],
   "source": [
    "d = pd.concat([df_word_freq_de[[\"German\"]], df_word_freq_en[[\"English\"]]], axis=1)\n",
    "d"
   ]
  },
  {
   "cell_type": "code",
   "execution_count": 41,
   "id": "520bd2bc-5ce9-4279-b898-1233f21a9aa4",
   "metadata": {},
   "outputs": [
    {
     "data": {
      "text/plain": [
       "6146"
      ]
     },
     "execution_count": 41,
     "metadata": {},
     "output_type": "execute_result"
    }
   ],
   "source": [
    "max(len(df_word_freq_de), len(df_word_freq_en))"
   ]
  },
  {
   "cell_type": "code",
   "execution_count": 46,
   "id": "d2f62732-feb7-4448-a2dd-6ae9b3c4470b",
   "metadata": {},
   "outputs": [
    {
     "name": "stderr",
     "output_type": "stream",
     "text": [
      "/home/faten/anaconda3/envs/tb_venv/lib/python3.11/site-packages/seaborn/_oldcore.py:1119: FutureWarning: use_inf_as_na option is deprecated and will be removed in a future version. Convert inf values to NaN before operating instead.\n",
      "  with pd.option_context('mode.use_inf_as_na', True):\n",
      "/home/faten/anaconda3/envs/tb_venv/lib/python3.11/site-packages/seaborn/_oldcore.py:1119: FutureWarning: use_inf_as_na option is deprecated and will be removed in a future version. Convert inf values to NaN before operating instead.\n",
      "  with pd.option_context('mode.use_inf_as_na', True):\n"
     ]
    },
    {
     "data": {
      "image/png": "[encoded data removed]",
      "text/plain": [
       "<Figure size 1200x600 with 1 Axes>"
      ]
     },
     "metadata": {},
     "output_type": "display_data"
    }
   ],
   "source": [
    "sns.set_theme(style='white', font_scale=1.3,\n",
    "              rc={'figure.figsize':(12,6)})\n",
    "\n",
    "sns.lineplot(data=d, palette=[\"blue\", \"red\"])\n",
    "# Get the current axes\n",
    "ax = plt.gca()\n",
    "\n",
    "# Define the desired xticks and xticklabels\n",
    "ticks = list(range(0, 51, 50)) + list(range(1000, len(df_word_freq), 1000))\n",
    "\n",
    "ax.set_xticks(ticks)\n",
    "ax.set_xticklabels([\"\"]+ticks[1:])\n",
    "ax.tick_params(axis='x', which='both', bottom=True, top=False)\n",
    "ax.set_xlabel(\"words\")\n",
    "ax.set_ylabel(\"frequency\")\n",
    "\n",
    "plt.savefig(\"figures/word_freq\", bbox_inches=\"tight\") "
   ]
  },
  {
   "cell_type": "code",
   "execution_count": 10,
   "id": "a60fc661-a5a6-47a7-9d96-0960f7989fed",
   "metadata": {},
   "outputs": [],
   "source": [
    "# df_word_freq.head(50)"
   ]
  },
  {
   "cell_type": "code",
   "execution_count": 12,
   "id": "7992a5ba-37cd-43e2-b225-ee0c1eb71edd",
   "metadata": {},
   "outputs": [],
   "source": [
    "stoplemmas = [\"fur\", \"zwei\", \"drei\", \"geben\", \"bei\", \"immer\", \"gehen\", \"sehen\"] \n",
    "\n",
    "df = pd.read_csv(f\"{folder}{filename}.csv\") \n",
    "df[\"description\"] = df[\"description\"].apply(lambda text: \n",
    "                                            preprocess(text, lemmatizer, stopwords, stoplemmas=stoplemmas))\n",
    "df[\"word_count\"] = df[\"description\"].apply(lambda s: len(s.split()))  \n",
    "\n",
    "df.to_csv(f\"{folder}preprocessed/{filename}.csv\", index_label=False)"
   ]
  },
  {
   "cell_type": "markdown",
   "id": "7dec8432-16a2-4cba-b9be-7d5c2033a76f",
   "metadata": {},
   "source": [
    "**English**"
   ]
  },
  {
   "cell_type": "code",
   "execution_count": 24,
   "id": "4c900afb-8dd7-4dce-a369-5b6f8cd455a4",
   "metadata": {},
   "outputs": [],
   "source": [
    "folder = \"gen_files/EN/\"\n",
    "filename = \"trimmed_open_tasks\"\n",
    "\n",
    "stopwords, lemmatizer = load_tools(\"english\")\n",
    "\n",
    "df = pd.read_csv(f\"{folder}{filename}.csv\") \n",
    "df[\"description\"] = df[\"description\"].apply(lambda text: preprocess(text, lemmatizer, stopwords, stoplemmas=[]))\n",
    "df[\"word_count\"] = df[\"description\"].apply(lambda s: len(s.split())) "
   ]
  },
  {
   "cell_type": "code",
   "execution_count": 25,
   "id": "a9f7dff7-6fe4-41a9-8e52-2a513e91e6c0",
   "metadata": {},
   "outputs": [],
   "source": [
    "data = df[\"description\"].to_list() \n",
    "vectorizer, bow_model = get_bow(data)"
   ]
  },
  {
   "cell_type": "code",
   "execution_count": 26,
   "id": "80a03dde-d0de-40fa-a316-dfb544eaf162",
   "metadata": {
    "scrolled": true
   },
   "outputs": [],
   "source": [
    "freq_dict = {}\n",
    "for word, id in vectorizer.vocabulary_.items(): \n",
    "    freq = bow_model[:, id].sum(axis=0) \n",
    "    freq_dict[word] = freq[0,0]"
   ]
  },
  {
   "cell_type": "code",
   "execution_count": 27,
   "id": "b407e628-5e67-410c-81c8-0114dc459a65",
   "metadata": {},
   "outputs": [],
   "source": [
    "df_word_freq = pd.DataFrame(sorted(freq_dict.items(), key=lambda x: x[1], reverse=True))\n",
    "df_word_freq.columns = [\"words\", \"freq\"]"
   ]
  },
  {
   "cell_type": "code",
   "execution_count": 28,
   "id": "de8b4a73-5086-421d-bea1-d7aa615c7222",
   "metadata": {},
   "outputs": [
    {
     "name": "stderr",
     "output_type": "stream",
     "text": [
      "/home/faten/anaconda3/envs/tb_venv/lib/python3.11/site-packages/seaborn/_oldcore.py:1119: FutureWarning: use_inf_as_na option is deprecated and will be removed in a future version. Convert inf values to NaN before operating instead.\n",
      "  with pd.option_context('mode.use_inf_as_na', True):\n",
      "/home/faten/anaconda3/envs/tb_venv/lib/python3.11/site-packages/seaborn/_oldcore.py:1119: FutureWarning: use_inf_as_na option is deprecated and will be removed in a future version. Convert inf values to NaN before operating instead.\n",
      "  with pd.option_context('mode.use_inf_as_na', True):\n"
     ]
    },
    {
     "data": {
      "image/png": "[encoded data removed]",
      "text/plain": [
       "<Figure size 1800x800 with 1 Axes>"
      ]
     },
     "metadata": {},
     "output_type": "display_data"
    }
   ],
   "source": [
    "sns.set_theme(style='white', font_scale=1.3,\n",
    "              rc={'figure.figsize':(18,8)})\n",
    "\n",
    "sns.lineplot(data=df_word_freq, x=\"words\", y=\"freq\").set(title=\"Distribution of words' frequencies in English tasks\")\n",
    "\n",
    "# Get the current axes\n",
    "ax = plt.gca()\n",
    "\n",
    "# Define the desired xticks and xticklabels\n",
    "ticks = list(range(0, 51, 50)) + list(range(1000, len(df_word_freq), 1000))\n",
    "\n",
    "ax.set_xticks(ticks)\n",
    "ax.set_xticklabels([\"\"]+ticks[1:])\n",
    "ax.tick_params(axis='x', which='both', bottom=True, top=False)\n",
    "\n",
    "plt.savefig(\"figures/word_freq_EN\", bbox_inches=\"tight\") "
   ]
  },
  {
   "cell_type": "code",
   "execution_count": null,
   "id": "42113dcf-4efa-44c3-84d5-411a60e29e09",
   "metadata": {},
   "outputs": [],
   "source": [
    "# df_word_freq.head(50)"
   ]
  },
  {
   "cell_type": "code",
   "execution_count": 18,
   "id": "ed5d679f-3373-4783-87c1-e80bb24ebf80",
   "metadata": {},
   "outputs": [],
   "source": [
    "stoplemmas = [\"like\", \"use\", \"say\", \"go\", \"one\", \"see\", \"luke\", \"two\", \"three\", \"ga\", \"come\", \"tom\", \"gwen\", \"make\", \"get\", \"chri\"]\n",
    "\n",
    "df = pd.read_csv(f\"{folder}{filename}.csv\") \n",
    "df[\"description\"] = df[\"description\"].apply(lambda text: preprocess(text, lemmatizer, stopwords, stoplemmas=stoplemmas))\n",
    "df[\"word_count\"] = df[\"description\"].apply(lambda s: len(s.split()))  \n",
    "\n",
    "df.to_csv(f\"{folder}preprocessed/{filename}.csv\", index_label=False)"
   ]
  },
  {
   "cell_type": "markdown",
   "id": "ee90666a-5ce1-4b35-b462-8a4fb1bf6eb6",
   "metadata": {},
   "source": [
    "<hr>"
   ]
  },
  {
   "cell_type": "markdown",
   "id": "c049c92a-7712-4e40-a842-e278c769f40d",
   "metadata": {},
   "source": [
    "# Preprocessing for baseline model"
   ]
  },
  {
   "cell_type": "markdown",
   "id": "fd4267f6-0c21-4bf3-8bf0-5b20abfbc3e4",
   "metadata": {},
   "source": [
    "**Tasks**"
   ]
  },
  {
   "cell_type": "code",
   "execution_count": null,
   "id": "64cf06a8-7a5a-41b2-99b8-bb6b9f9f60cb",
   "metadata": {},
   "outputs": [],
   "source": [
    "folder = \"gen_files/DE/\"\n",
    "filenames = [\n",
    "    \"tasks_BT_DE\", \n",
    "    \"tasks_RD_DE\", \n",
    "    \"tasks_RI_DE\", \n",
    "    \"tasks_RS_DE\", \n",
    "    \"tasks_SR_DE\", \n",
    "]\n",
    "\n",
    "stopwords, lemmatizer = load_tools(\"german\")\n",
    "\n",
    "for filename in filenames: \n",
    "    df = pd.read_csv(f\"{folder}augmented/{filename}.csv\") \n",
    "    df[\"description\"] = df[\"description\"].apply(lambda text: \n",
    "                                                preprocess(text, lemmatizer, stopwords, stoplemmas=[]))\n",
    "    df[\"word_count\"] = df[\"description\"].apply(lambda s: len(s.split())) \n",
    "    df.to_csv(f\"{folder}preprocessed/{filename}.csv\", index_label=False)\n",
    "\n",
    "filename = \"open_tasks_DE\"\n",
    "df = pd.read_csv(f\"{folder}{filename}.csv\") \n",
    "df[\"description\"] = df[\"description\"].apply(lambda text: \n",
    "                                            preprocess(text, lemmatizer, stopwords, stoplemmas=[]))\n",
    "df[\"word_count\"] = df[\"description\"].apply(lambda s: len(s.split())) \n",
    "df.to_csv(f\"{folder}preprocessed/{filename}.csv\", index_label=False)"
   ]
  },
  {
   "cell_type": "code",
   "execution_count": null,
   "id": "5bb6a64e-ad27-4c7d-9e76-a66a52f90f4f",
   "metadata": {},
   "outputs": [],
   "source": [
    "stopwords, lemmatizer = load_tools(\"english\")\n",
    "folder = \"gen_files/EN/\"\n",
    "\n",
    "filenames = [\n",
    "    \"tasks_BT_EN\", \n",
    "    \"tasks_RD_EN\", \n",
    "    \"tasks_RI_EN\", \n",
    "    \"tasks_RS_EN\", \n",
    "    \"tasks_SR_EN\", \n",
    "]\n",
    "\n",
    "for filename in filenames: \n",
    "    df = pd.read_csv(f\"{folder}augmented/{filename}.csv\") \n",
    "    df[\"description\"] = df[\"description\"].apply(lambda text: \n",
    "                                                preprocess(text, lemmatizer, stopwords, stoplemmas=[]))\n",
    "    df[\"word_count\"] = df[\"description\"].apply(lambda s: len(s.split())) \n",
    "    df.to_csv(f\"{folder}preprocessed/{filename}.csv\", index_label=False)\n",
    "\n",
    "filename = \"open_tasks_EN\"\n",
    "df = pd.read_csv(f\"{folder}{filename}.csv\") \n",
    "df[\"description\"] = df[\"description\"].apply(lambda text: \n",
    "                                            preprocess(text, lemmatizer, stopwords, stoplemmas=[]))\n",
    "df[\"word_count\"] = df[\"description\"].apply(lambda s: len(s.split())) \n",
    "df.to_csv(f\"{folder}preprocessed/{filename}.csv\", index_label=False)"
   ]
  },
  {
   "cell_type": "markdown",
   "id": "cbc3cd65-13b4-4ffe-b5d6-bab6d79f0064",
   "metadata": {},
   "source": [
    "**Aspects**"
   ]
  },
  {
   "cell_type": "raw",
   "id": "7dffb288-eab3-42e1-9cbd-b32f9a727452",
   "metadata": {},
   "source": [
    "stopwords, lemmatizer = load_tools(\"english\")\n",
    "filename = \"concept_aspects_EN\"\n",
    "\n",
    "df = pd.read_csv(\"data/\"+filename+\".csv\") \n",
    "df[\"description\"] = df[\"description\"].apply(lambda text: preprocess(text, lemmatizer, stopwords))\n",
    "df[\"word_count\"] = df[\"description\"].apply(lambda s: len(s.split())) \n",
    "df.to_csv(\"data/preprocessed_\"+filename+\".csv\", index_label=False)"
   ]
  },
  {
   "cell_type": "raw",
   "id": "148a857c-0a1c-4b8f-803f-fda4e8959903",
   "metadata": {},
   "source": [
    "stopwords, lemmatizer = load_tools(\"german\")\n",
    "filename = \"concept_aspects_DE\"\n",
    "\n",
    "df = pd.read_csv(\"data/\"+filename+\".csv\") \n",
    "df[\"description\"] = df[\"description\"].apply(lambda text: preprocess(text, lemmatizer, stopwords))\n",
    "df[\"word_count\"] = df[\"description\"].apply(lambda s: len(s.split())) \n",
    "df.to_csv(\"data/preprocessed_\"+filename+\".csv\", index_label=False)"
   ]
  },
  {
   "cell_type": "raw",
   "id": "9cbda9a1-5c4f-489d-ab11-7fc0eae59e8d",
   "metadata": {},
   "source": [
    "pd.read_csv(\"data/preprocessed_concept_aspects_EN.csv\").head()"
   ]
  },
  {
   "cell_type": "code",
   "execution_count": null,
   "id": "c5d928fc-9632-4f27-968a-e9aa906dc401",
   "metadata": {},
   "outputs": [],
   "source": []
  },
  {
   "cell_type": "code",
   "execution_count": null,
   "id": "7b009a12-b2af-4eed-8e5d-26fccd6aa592",
   "metadata": {},
   "outputs": [],
   "source": []
  }
 ],
 "metadata": {
  "kernelspec": {
   "display_name": "tb_venv",
   "language": "python",
   "name": "tb_venv"
  },
  "language_info": {
   "codemirror_mode": {
    "name": "ipython",
    "version": 3
   },
   "file_extension": ".py",
   "mimetype": "text/x-python",
   "name": "python",
   "nbconvert_exporter": "python",
   "pygments_lexer": "ipython3",
   "version": "3.11.8"
  }
 },
 "nbformat": 4,
 "nbformat_minor": 5
}
