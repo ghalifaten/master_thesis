{
 "cells": [
  {
   "cell_type": "code",
   "execution_count": null,
   "id": "d00c7f70-393c-4e3e-9a26-3809941a16b3",
   "metadata": {},
   "outputs": [],
   "source": [
    "import pandas as pd\n",
    "from gensim.utils import simple_preprocess\n",
    "from nltk.corpus import stopwords\n",
    "from nltk.stem import PorterStemmer\n",
    "import spacy\n",
    "\n",
    "stemmer = PorterStemmer()"
   ]
  },
  {
   "cell_type": "code",
   "execution_count": null,
   "id": "4027f5c4-48a6-448b-9cb0-d00064ee031e",
   "metadata": {},
   "outputs": [],
   "source": [
    "def load_tools(language, stopwords=stopwords):\n",
    "    \"\"\"\n",
    "    Load open tasks in DataFrame from csv file.\n",
    "    Define stopwords and lemmatizer appropriate to given language of data.\n",
    "    \"\"\"\n",
    "    if language == \"german\": \n",
    "        stopwords = stopwords.words('german') \n",
    "        lemmatizer = spacy.load(\"de_core_news_sm\") \n",
    "    elif language == \"english\": \n",
    "        stopwords = stopwords.words('english')\n",
    "        lemmatizer = spacy.load('en_core_web_sm')\n",
    "    else:\n",
    "        raise language + \" language not supported.\" \n",
    "    return stopwords, lemmatizer \n",
    "\n",
    "def preprocess(text, lemmatizer, stopwords, stemmer=stemmer):\n",
    "    if isinstance(text, float):\n",
    "        return \"\"\n",
    "    # lowercase, remove punctuation, tokenize \n",
    "    words = simple_preprocess(text, deacc=True, min_len=1, max_len=50)\n",
    "    # remove stopwords \n",
    "    tokens = [word for word in words if word not in stopwords]\n",
    "    # stemming\n",
    "    stems = [stemmer.stem(token) for token in tokens]\n",
    "    # lemmatize\n",
    "    stemmed_doc = lemmatizer(\" \".join(stems))\n",
    "    lemmas = [s.lemma_ for s in stemmed_doc]\n",
    "    # lowercase again (apparently stemming capitalizes the output) \n",
    "    lemmas = [lemma.lower() for lemma in lemmas] \n",
    "    return \" \".join(lemmas)"
   ]
  },
  {
   "cell_type": "code",
   "execution_count": null,
   "id": "e7d3faf9-2a70-44de-931f-05e8c6b6a786",
   "metadata": {},
   "outputs": [],
   "source": [
    "stopwords, lemmatizer = load_tools(\"english\")\n",
    "filenames = [\n",
    "    \"open_tasks_EN\",\n",
    "    \"augmented_BT_EN\", \n",
    "    \"augmented_RD_EN\", \n",
    "    \"augmented_RI_EN\", \n",
    "    \"augmented_RS_EN\", \n",
    "    \"augmented_SR_EN\", \n",
    "]\n",
    "\n",
    "for filename in filenames: \n",
    "    df = pd.read_csv(\"data/\"+filename+\".csv\") \n",
    "    df[\"description\"] = df[\"description\"].apply(lambda text: preprocess(text, lemmatizer, stopwords))\n",
    "    df[\"word_count\"] = df[\"description\"].apply(lambda s: len(s.split())) \n",
    "    df.to_csv(\"data/preprocessed_\"+filename+\".csv\", index_label=False)"
   ]
  },
  {
   "cell_type": "code",
   "execution_count": null,
   "id": "64cf06a8-7a5a-41b2-99b8-bb6b9f9f60cb",
   "metadata": {},
   "outputs": [],
   "source": [
    "stopwords, lemmatizer = load_tools(\"german\")\n",
    "filenames = [\n",
    "    \"open_tasks_DE\",\n",
    "    \"augmented_BT_DE\", \n",
    "    \"augmented_RD_DE\", \n",
    "    \"augmented_RI_DE\", \n",
    "    \"augmented_RS_DE\", \n",
    "    \"augmented_SR_DE\", \n",
    "]\n",
    "\n",
    "for filename in filenames: \n",
    "    df = pd.read_csv(\"data/\"+filename+\".csv\") \n",
    "    df[\"description\"] = df[\"description\"].apply(lambda text: preprocess(text, lemmatizer, stopwords))\n",
    "    df[\"word_count\"] = df[\"description\"].apply(lambda s: len(s.split())) \n",
    "    df.to_csv(\"data/preprocessed_\"+filename+\".csv\", index_label=False)"
   ]
  },
  {
   "cell_type": "code",
   "execution_count": null,
   "id": "32d9cc34-f9b9-46b7-9ef1-c883348f7e6c",
   "metadata": {},
   "outputs": [],
   "source": []
  }
 ],
 "metadata": {
  "kernelspec": {
   "display_name": "tb_venv",
   "language": "python",
   "name": "tb_venv"
  },
  "language_info": {
   "codemirror_mode": {
    "name": "ipython",
    "version": 3
   },
   "file_extension": ".py",
   "mimetype": "text/x-python",
   "name": "python",
   "nbconvert_exporter": "python",
   "pygments_lexer": "ipython3",
   "version": "3.11.8"
  }
 },
 "nbformat": 4,
 "nbformat_minor": 5
}
