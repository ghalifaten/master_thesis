{
 "cells": [
  {
   "cell_type": "raw",
   "id": "0190903d-3547-4284-971f-d3b3f2253d91",
   "metadata": {},
   "source": [
    "!pip install numpy requests nlpaug"
   ]
  },
  {
   "cell_type": "raw",
   "id": "97db1c86-f9bf-49f2-a26e-2c53ab406bd6",
   "metadata": {},
   "source": [
    "!pip install torch torchvision torchaudio"
   ]
  },
  {
   "cell_type": "code",
   "execution_count": 1,
   "id": "86421d96-e57c-4afd-b7b4-0c94a44d6f20",
   "metadata": {},
   "outputs": [],
   "source": [
    "import warnings\n",
    "warnings.filterwarnings(\"ignore\")"
   ]
  },
  {
   "cell_type": "code",
   "execution_count": 2,
   "id": "dceb88eb-327d-4ce8-ab5e-696f5ddd61e4",
   "metadata": {},
   "outputs": [],
   "source": [
    "import pandas as pd\n",
    "import nlpaug.augmenter.word as naw\n",
    "import nlpaug.augmenter.sentence as nas"
   ]
  },
  {
   "cell_type": "code",
   "execution_count": 3,
   "id": "c3cb4ba1-df65-4aba-8622-4b962973afcd",
   "metadata": {},
   "outputs": [
    {
     "name": "stdout",
     "output_type": "stream",
     "text": [
      "130\n"
     ]
    },
    {
     "data": {
      "text/html": [
       "<div>\n",
       "<style scoped>\n",
       "    .dataframe tbody tr th:only-of-type {\n",
       "        vertical-align: middle;\n",
       "    }\n",
       "\n",
       "    .dataframe tbody tr th {\n",
       "        vertical-align: top;\n",
       "    }\n",
       "\n",
       "    .dataframe thead th {\n",
       "        text-align: right;\n",
       "    }\n",
       "</style>\n",
       "<table border=\"1\" class=\"dataframe\">\n",
       "  <thead>\n",
       "    <tr style=\"text-align: right;\">\n",
       "      <th></th>\n",
       "      <th>documentId</th>\n",
       "      <th>tenant</th>\n",
       "      <th>language</th>\n",
       "      <th>title</th>\n",
       "      <th>description</th>\n",
       "      <th>context</th>\n",
       "      <th>topic</th>\n",
       "      <th>hints</th>\n",
       "      <th>solutionSteps</th>\n",
       "      <th>replacements</th>\n",
       "      <th>resource</th>\n",
       "      <th>sampleSolutions</th>\n",
       "      <th>stepifier</th>\n",
       "      <th>word_count</th>\n",
       "    </tr>\n",
       "  </thead>\n",
       "  <tbody>\n",
       "    <tr>\n",
       "      <th>14989</th>\n",
       "      <td>81xdUMIFiyC7gTSwml1MTv</td>\n",
       "      <td>Cornelsen DE</td>\n",
       "      <td>DE</td>\n",
       "      <td>Archive | 4.1 Erlebnislyrik | Kennzeichen</td>\n",
       "      <td>Was ist ein Kennzeichen der Erlebnislyrik? Ant...</td>\n",
       "      <td>NaN</td>\n",
       "      <td>{'id': 5350, 'name': 'Essay 3', 'description':...</td>\n",
       "      <td>[]</td>\n",
       "      <td>[]</td>\n",
       "      <td>NaN</td>\n",
       "      <td>NaN</td>\n",
       "      <td>['']</td>\n",
       "      <td>KEYWORD</td>\n",
       "      <td>11</td>\n",
       "    </tr>\n",
       "    <tr>\n",
       "      <th>14990</th>\n",
       "      <td>7fE9sk0x2amalma0takBp5</td>\n",
       "      <td>Cornelsen DE</td>\n",
       "      <td>DE</td>\n",
       "      <td>Archive | 3.3 Schlussteil Interpretationsaufsatz</td>\n",
       "      <td>Welches Vorgehen planen Sie für den Schlusstei...</td>\n",
       "      <td>NaN</td>\n",
       "      <td>{'id': 5349, 'name': 'Essay 1', 'description':...</td>\n",
       "      <td>[]</td>\n",
       "      <td>[]</td>\n",
       "      <td>NaN</td>\n",
       "      <td>NaN</td>\n",
       "      <td>['']</td>\n",
       "      <td>KEYWORD</td>\n",
       "      <td>14</td>\n",
       "    </tr>\n",
       "    <tr>\n",
       "      <th>14991</th>\n",
       "      <td>7CUm7BcYBG79uI8VPMUKCo</td>\n",
       "      <td>Cornelsen DE</td>\n",
       "      <td>DE</td>\n",
       "      <td>Archive | 3.2 Gedicht | Inhaltliche Aspekte</td>\n",
       "      <td>Auf welchen inhaltlichen Aspekt hin würden Sie...</td>\n",
       "      <td>NaN</td>\n",
       "      <td>{'id': 5349, 'name': 'Essay 1', 'description':...</td>\n",
       "      <td>[]</td>\n",
       "      <td>[]</td>\n",
       "      <td>NaN</td>\n",
       "      <td>NaN</td>\n",
       "      <td>['']</td>\n",
       "      <td>KEYWORD</td>\n",
       "      <td>15</td>\n",
       "    </tr>\n",
       "    <tr>\n",
       "      <th>15031</th>\n",
       "      <td>6eVh0sUk73laFRNimbk7MC</td>\n",
       "      <td>Cornelsen DE</td>\n",
       "      <td>DE</td>\n",
       "      <td>DaF | Relativpronomen</td>\n",
       "      <td>Mache aus den zwei Sätzen einen Relativsatz.Ic...</td>\n",
       "      <td>NaN</td>\n",
       "      <td>{'id': 5357, 'name': 'DaF', 'description': '',...</td>\n",
       "      <td>[]</td>\n",
       "      <td>['Ich arbeite gern mit dem Laptop, den ich let...</td>\n",
       "      <td>NaN</td>\n",
       "      <td>NaN</td>\n",
       "      <td>['']</td>\n",
       "      <td>KEYWORD</td>\n",
       "      <td>19</td>\n",
       "    </tr>\n",
       "    <tr>\n",
       "      <th>15032</th>\n",
       "      <td>avYO5lPPpNR7MVAKdARpVK</td>\n",
       "      <td>Cornelsen DE</td>\n",
       "      <td>DE</td>\n",
       "      <td>DaF | Plusquamperfekt</td>\n",
       "      <td>Was war zuerst? Schreibe einen Satz mit nachde...</td>\n",
       "      <td>NaN</td>\n",
       "      <td>{'id': 5357, 'name': 'DaF', 'description': '',...</td>\n",
       "      <td>[]</td>\n",
       "      <td>['Nachdem ich eine neue Wohnung gefunden hatte...</td>\n",
       "      <td>NaN</td>\n",
       "      <td>NaN</td>\n",
       "      <td>['']</td>\n",
       "      <td>KEYWORD</td>\n",
       "      <td>19</td>\n",
       "    </tr>\n",
       "  </tbody>\n",
       "</table>\n",
       "</div>"
      ],
      "text/plain": [
       "                   documentId        tenant language  \\\n",
       "14989  81xdUMIFiyC7gTSwml1MTv  Cornelsen DE       DE   \n",
       "14990  7fE9sk0x2amalma0takBp5  Cornelsen DE       DE   \n",
       "14991  7CUm7BcYBG79uI8VPMUKCo  Cornelsen DE       DE   \n",
       "15031  6eVh0sUk73laFRNimbk7MC  Cornelsen DE       DE   \n",
       "15032  avYO5lPPpNR7MVAKdARpVK  Cornelsen DE       DE   \n",
       "\n",
       "                                                  title  \\\n",
       "14989         Archive | 4.1 Erlebnislyrik | Kennzeichen   \n",
       "14990  Archive | 3.3 Schlussteil Interpretationsaufsatz   \n",
       "14991       Archive | 3.2 Gedicht | Inhaltliche Aspekte   \n",
       "15031                            DaF | Relativpronomen    \n",
       "15032                            DaF | Plusquamperfekt    \n",
       "\n",
       "                                             description context  \\\n",
       "14989  Was ist ein Kennzeichen der Erlebnislyrik? Ant...     NaN   \n",
       "14990  Welches Vorgehen planen Sie für den Schlusstei...     NaN   \n",
       "14991  Auf welchen inhaltlichen Aspekt hin würden Sie...     NaN   \n",
       "15031  Mache aus den zwei Sätzen einen Relativsatz.Ic...     NaN   \n",
       "15032  Was war zuerst? Schreibe einen Satz mit nachde...     NaN   \n",
       "\n",
       "                                                   topic hints  \\\n",
       "14989  {'id': 5350, 'name': 'Essay 3', 'description':...    []   \n",
       "14990  {'id': 5349, 'name': 'Essay 1', 'description':...    []   \n",
       "14991  {'id': 5349, 'name': 'Essay 1', 'description':...    []   \n",
       "15031  {'id': 5357, 'name': 'DaF', 'description': '',...    []   \n",
       "15032  {'id': 5357, 'name': 'DaF', 'description': '',...    []   \n",
       "\n",
       "                                           solutionSteps  replacements  \\\n",
       "14989                                                 []           NaN   \n",
       "14990                                                 []           NaN   \n",
       "14991                                                 []           NaN   \n",
       "15031  ['Ich arbeite gern mit dem Laptop, den ich let...           NaN   \n",
       "15032  ['Nachdem ich eine neue Wohnung gefunden hatte...           NaN   \n",
       "\n",
       "       resource sampleSolutions stepifier  word_count  \n",
       "14989       NaN            ['']   KEYWORD          11  \n",
       "14990       NaN            ['']   KEYWORD          14  \n",
       "14991       NaN            ['']   KEYWORD          15  \n",
       "15031       NaN            ['']   KEYWORD          19  \n",
       "15032       NaN            ['']   KEYWORD          19  "
      ]
     },
     "execution_count": 3,
     "metadata": {},
     "output_type": "execute_result"
    }
   ],
   "source": [
    "df = pd.read_csv(\"data/open_tasks_Corn_EKV_DE.csv\")\n",
    "df.dropna(subset=[\"description\"], inplace=True)\n",
    "print(len(df))\n",
    "df.head()"
   ]
  },
  {
   "cell_type": "code",
   "execution_count": 4,
   "id": "85be1fd1-9edb-4ab5-a5e2-a3065f2d64ab",
   "metadata": {},
   "outputs": [
    {
     "name": "stderr",
     "output_type": "stream",
     "text": [
      "Some weights of FSMTForConditionalGeneration were not initialized from the model checkpoint at facebook/wmt19-de-en and are newly initialized: ['model.decoder.embed_positions.weight', 'model.encoder.embed_positions.weight']\n",
      "You should probably TRAIN this model on a down-stream task to be able to use it for predictions and inference.\n",
      "Some weights of FSMTForConditionalGeneration were not initialized from the model checkpoint at facebook/wmt19-en-de and are newly initialized: ['model.decoder.embed_positions.weight', 'model.encoder.embed_positions.weight']\n",
      "You should probably TRAIN this model on a down-stream task to be able to use it for predictions and inference.\n"
     ]
    },
    {
     "name": "stdout",
     "output_type": "stream",
     "text": [
      "Was ist ein Kennzeichen der Erlebnislyrik? Antworten Sie in einem Satz.\n",
      "Was ist ein Charakteristikum von Erfahrungsdichtung? Antwort in einem Satz.\n"
     ]
    }
   ],
   "source": [
    "# Back Translation Augmenter\n",
    "text = df.loc[14989]['description']\n",
    "\n",
    "back_translation_aug = naw.BackTranslationAug(\n",
    "    from_model_name='facebook/wmt19-de-en', \n",
    "    to_model_name='facebook/wmt19-en-de'\n",
    ")\n",
    "augmented_text = back_translation_aug.augment(text)[0]\n",
    "print(text)\n",
    "print(augmented_text)"
   ]
  },
  {
   "cell_type": "code",
   "execution_count": 5,
   "id": "1040870a-e58a-413b-8490-b82ec1bec77e",
   "metadata": {
    "scrolled": true
   },
   "outputs": [],
   "source": [
    "df_aug = pd.DataFrame()\n",
    "df_aug ['description'] = df['description'].apply(lambda text: back_translation_aug.augment(text)[0])"
   ]
  },
  {
   "cell_type": "code",
   "execution_count": 12,
   "id": "c6985dd1-49ee-4908-adb6-2cd5392b25b8",
   "metadata": {},
   "outputs": [
    {
     "data": {
      "text/html": [
       "<div>\n",
       "<style scoped>\n",
       "    .dataframe tbody tr th:only-of-type {\n",
       "        vertical-align: middle;\n",
       "    }\n",
       "\n",
       "    .dataframe tbody tr th {\n",
       "        vertical-align: top;\n",
       "    }\n",
       "\n",
       "    .dataframe thead th {\n",
       "        text-align: right;\n",
       "    }\n",
       "</style>\n",
       "<table border=\"1\" class=\"dataframe\">\n",
       "  <thead>\n",
       "    <tr style=\"text-align: right;\">\n",
       "      <th></th>\n",
       "      <th>description</th>\n",
       "    </tr>\n",
       "  </thead>\n",
       "  <tbody>\n",
       "    <tr>\n",
       "      <th>0</th>\n",
       "      <td>Was ist ein Charakteristikum von Erfahrungsdic...</td>\n",
       "    </tr>\n",
       "    <tr>\n",
       "      <th>1</th>\n",
       "      <td>Was planen Sie für den letzten Teil des Interp...</td>\n",
       "    </tr>\n",
       "    <tr>\n",
       "      <th>2</th>\n",
       "      <td>Wie würden Sie das Gedicht interpretieren? Sch...</td>\n",
       "    </tr>\n",
       "    <tr>\n",
       "      <th>3</th>\n",
       "      <td>Ich arbeite gerne mit dem Laptop. Den Laptop h...</td>\n",
       "    </tr>\n",
       "    <tr>\n",
       "      <th>4</th>\n",
       "      <td>Was war zuerst? Schreiben Sie einen Satz, nach...</td>\n",
       "    </tr>\n",
       "    <tr>\n",
       "      <th>...</th>\n",
       "      <td>...</td>\n",
       "    </tr>\n",
       "    <tr>\n",
       "      <th>255</th>\n",
       "      <td>Bei einer totalen Mondfinsternis kann man stat...</td>\n",
       "    </tr>\n",
       "    <tr>\n",
       "      <th>256</th>\n",
       "      <td>Begründe, warum eine Treppe auch eine schiefe ...</td>\n",
       "    </tr>\n",
       "    <tr>\n",
       "      <th>257</th>\n",
       "      <td>In diesen Texten kommen drei unterschiedliche ...</td>\n",
       "    </tr>\n",
       "    <tr>\n",
       "      <th>258</th>\n",
       "      <td>Ein Gegenstand aus Eisen wird sowohl vom Nord-...</td>\n",
       "    </tr>\n",
       "    <tr>\n",
       "      <th>259</th>\n",
       "      <td>Begründe, dass es keine Magnete gibt, die nur ...</td>\n",
       "    </tr>\n",
       "  </tbody>\n",
       "</table>\n",
       "<p>260 rows × 1 columns</p>\n",
       "</div>"
      ],
      "text/plain": [
       "                                           description\n",
       "0    Was ist ein Charakteristikum von Erfahrungsdic...\n",
       "1    Was planen Sie für den letzten Teil des Interp...\n",
       "2    Wie würden Sie das Gedicht interpretieren? Sch...\n",
       "3    Ich arbeite gerne mit dem Laptop. Den Laptop h...\n",
       "4    Was war zuerst? Schreiben Sie einen Satz, nach...\n",
       "..                                                 ...\n",
       "255  Bei einer totalen Mondfinsternis kann man stat...\n",
       "256  Begründe, warum eine Treppe auch eine schiefe ...\n",
       "257  In diesen Texten kommen drei unterschiedliche ...\n",
       "258  Ein Gegenstand aus Eisen wird sowohl vom Nord-...\n",
       "259  Begründe, dass es keine Magnete gibt, die nur ...\n",
       "\n",
       "[260 rows x 1 columns]"
      ]
     },
     "execution_count": 12,
     "metadata": {},
     "output_type": "execute_result"
    }
   ],
   "source": [
    "df_all = pd.concat([df_aug, df[['description']]]).reset_index(drop=True)\n",
    "df_all"
   ]
  },
  {
   "cell_type": "code",
   "execution_count": 13,
   "id": "2581f867-5264-415e-89df-caee2ec9f4ef",
   "metadata": {},
   "outputs": [],
   "source": [
    "df_all.to_csv(\"data/augmented_open_tasks_Corn_EKV.csv\", index_label=False)"
   ]
  },
  {
   "cell_type": "markdown",
   "id": "c13f4a97-c2d0-4b8e-a5d8-412bec658e82",
   "metadata": {},
   "source": [
    "<hr>"
   ]
  },
  {
   "cell_type": "markdown",
   "id": "eded972e-2167-42dc-993b-1572e4cdbb02",
   "metadata": {},
   "source": [
    "https://github.com/makcedward/nlpaug/blob/master/example/textual_augmenter.ipynb"
   ]
  },
  {
   "cell_type": "raw",
   "id": "af2205a1-b2bd-492e-9d5a-d93267d151d4",
   "metadata": {},
   "source": [
    "# Synonym augmenter Wordnet\n",
    "aug = naw.SynonymAug(aug_src=\"wordnet\")\n",
    "# text = \"Der schöner Fuchs springt um den Baum herum\"\n",
    "text = df.loc[14989]['description']\n",
    "augmented_text = aug.augment(text)\n",
    "print(text)\n",
    "print(augmented_text[0])"
   ]
  },
  {
   "cell_type": "raw",
   "id": "ef38b72d-a90c-466f-b4f7-ecccb00b4993",
   "metadata": {},
   "source": [
    "# Synonym augmenter Word2vec\n",
    "aug = naw.SynonymAug()\n",
    "# text = \"Der schöner Fuchs springt um den Baum herum\"\n",
    "text = df.loc[14989]['description']\n",
    "augmented_text = aug.augment(text)\n",
    "print(text)\n",
    "print(augmented_text[0])"
   ]
  },
  {
   "cell_type": "raw",
   "id": "f13c7177-34af-4238-aa4a-f46e81d101da",
   "metadata": {},
   "source": [
    "# Substitue word randomly by word embeddings similarity\n",
    "# text = \"Der schöner Fuchs springt um den Baum herum\"\n",
    "text = df.loc[14989]['description']\n",
    "aug = naw.ContextualWordEmbsAug(\n",
    "    model_path='bert-base-uncased', action=\"substitute\")\n",
    "\n",
    "augmented_text = aug.augment(text)\n",
    "print(text)\n",
    "print(augmented_text[0])"
   ]
  },
  {
   "cell_type": "raw",
   "id": "136f5950-eb8d-45a3-b402-a73e853635cc",
   "metadata": {},
   "source": [
    "# Insert word by e.g word2vec similarity\n",
    "# model_type: word2vec, glove or fasttext\n",
    "# text = \"Der schöner Fuchs springt um den Baum herum\"\n",
    "text = df.loc[14989]['description']\n",
    "\n",
    "aug = naw.ContextualWordEmbsAug(\n",
    "    model_path='bert-base-uncased', action=\"insert\")\n",
    "\n",
    "augmented_text = aug.augment(text)\n",
    "print(text)\n",
    "print(augmented_text[0])"
   ]
  },
  {
   "cell_type": "raw",
   "id": "d058d8ae-e6da-4874-93b5-0b91fd6c8273",
   "metadata": {},
   "source": [
    "# Sentence augmenter\n",
    "text = \"Der schöner Fuchs springt um den Baum herum\"\n",
    "aug = nas.ContextualWordEmbsForSentenceAug(model_path='gpt2')\n",
    "augmented_text = aug.augment(text)\n",
    "print(augmented_text)"
   ]
  },
  {
   "cell_type": "code",
   "execution_count": null,
   "id": "4ffed38c-4e07-4dfe-94d3-ab5b0de5950e",
   "metadata": {},
   "outputs": [],
   "source": []
  }
 ],
 "metadata": {
  "kernelspec": {
   "display_name": "tb_venv",
   "language": "python",
   "name": "tb_venv"
  },
  "language_info": {
   "codemirror_mode": {
    "name": "ipython",
    "version": 3
   },
   "file_extension": ".py",
   "mimetype": "text/x-python",
   "name": "python",
   "nbconvert_exporter": "python",
   "pygments_lexer": "ipython3",
   "version": "3.11.8"
  }
 },
 "nbformat": 4,
 "nbformat_minor": 5
}
