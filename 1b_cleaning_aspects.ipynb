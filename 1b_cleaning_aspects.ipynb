{
 "cells": [
  {
   "cell_type": "code",
   "execution_count": 1,
   "id": "dd6d830a-f3e6-490a-b62a-ba2d1f6851e4",
   "metadata": {},
   "outputs": [],
   "source": [
    "import warnings\n",
    "warnings.filterwarnings(\"ignore\")"
   ]
  },
  {
   "cell_type": "code",
   "execution_count": 2,
   "id": "57cecb15-2f03-4715-ae7b-53dc13fdce24",
   "metadata": {},
   "outputs": [],
   "source": [
    "import mysql.connector\n",
    "import pandas as pd\n",
    "cnx = mysql.connector.connect(user='root', password='taskbase',\n",
    "                              host='127.0.0.1', port='3309', database='lernnavi')"
   ]
  },
  {
   "cell_type": "code",
   "execution_count": 3,
   "id": "90df893a-176a-4e6e-b260-c18336997f71",
   "metadata": {},
   "outputs": [],
   "source": [
    "# All Aspects\n",
    "query = \"SELECT * FROM Aspects\"\n",
    "df_aspects = pd.read_sql(query, cnx)\n",
    "# df_aspects.head()"
   ]
  },
  {
   "cell_type": "code",
   "execution_count": 4,
   "id": "ef1f6bb0-d625-4e89-8d71-0ffd6a5fac88",
   "metadata": {},
   "outputs": [],
   "source": [
    "query = \"SELECT * FROM TaskAspects\"\n",
    "df_TaskAspect = pd.read_sql(query, cnx)\n",
    "# df_TaskAspect.head()"
   ]
  },
  {
   "cell_type": "markdown",
   "id": "f2e7b4c9-ff71-452b-bd55-a36472a9001b",
   "metadata": {},
   "source": [
    "**German tasks**"
   ]
  },
  {
   "cell_type": "code",
   "execution_count": 5,
   "id": "488a3d2f-cfed-4aac-ba5a-672c95e67a28",
   "metadata": {},
   "outputs": [
    {
     "data": {
      "text/html": [
       "<div>\n",
       "<style scoped>\n",
       "    .dataframe tbody tr th:only-of-type {\n",
       "        vertical-align: middle;\n",
       "    }\n",
       "\n",
       "    .dataframe tbody tr th {\n",
       "        vertical-align: top;\n",
       "    }\n",
       "\n",
       "    .dataframe thead th {\n",
       "        text-align: right;\n",
       "    }\n",
       "</style>\n",
       "<table border=\"1\" class=\"dataframe\">\n",
       "  <thead>\n",
       "    <tr style=\"text-align: right;\">\n",
       "      <th></th>\n",
       "      <th>language</th>\n",
       "      <th>description</th>\n",
       "      <th>context</th>\n",
       "      <th>tenant_id</th>\n",
       "      <th>tenant_name</th>\n",
       "      <th>topic_name</th>\n",
       "      <th>topic_description</th>\n",
       "      <th>word_count</th>\n",
       "      <th>taskId</th>\n",
       "    </tr>\n",
       "  </thead>\n",
       "  <tbody>\n",
       "    <tr>\n",
       "      <th>14837</th>\n",
       "      <td>deu</td>\n",
       "      <td>Nennen Sie fünf Argumente für die ZHAW.</td>\n",
       "      <td>NaN</td>\n",
       "      <td>19.0</td>\n",
       "      <td>Marketing Grundlagen</td>\n",
       "      <td>NaN</td>\n",
       "      <td>NaN</td>\n",
       "      <td>7</td>\n",
       "      <td>2cJMUQ5g2Tl9P93e0tYmOT</td>\n",
       "    </tr>\n",
       "  </tbody>\n",
       "</table>\n",
       "</div>"
      ],
      "text/plain": [
       "      language                              description context  tenant_id  \\\n",
       "14837      deu  Nennen Sie fünf Argumente für die ZHAW.     NaN       19.0   \n",
       "\n",
       "                tenant_name topic_name topic_description  word_count  \\\n",
       "14837  Marketing Grundlagen        NaN               NaN           7   \n",
       "\n",
       "                       taskId  \n",
       "14837  2cJMUQ5g2Tl9P93e0tYmOT  "
      ]
     },
     "execution_count": 5,
     "metadata": {},
     "output_type": "execute_result"
    }
   ],
   "source": [
    "df_tasks = pd.read_csv(\"data/open_tasks_DE.csv\")\n",
    "df_tasks.head(1)"
   ]
  },
  {
   "cell_type": "code",
   "execution_count": 6,
   "id": "c5c78b7b-53cb-4986-8cfa-b74cc1093531",
   "metadata": {},
   "outputs": [],
   "source": [
    "df = pd.merge(df_tasks[[\"taskId\"]], df_TaskAspect, how=\"inner\", on=[\"taskId\"])\n",
    "# df.head()"
   ]
  },
  {
   "cell_type": "code",
   "execution_count": 7,
   "id": "813176e7-e88b-4f52-86cf-d173bb653b9e",
   "metadata": {},
   "outputs": [
    {
     "data": {
      "text/html": [
       "<div>\n",
       "<style scoped>\n",
       "    .dataframe tbody tr th:only-of-type {\n",
       "        vertical-align: middle;\n",
       "    }\n",
       "\n",
       "    .dataframe tbody tr th {\n",
       "        vertical-align: top;\n",
       "    }\n",
       "\n",
       "    .dataframe thead th {\n",
       "        text-align: right;\n",
       "    }\n",
       "</style>\n",
       "<table border=\"1\" class=\"dataframe\">\n",
       "  <thead>\n",
       "    <tr style=\"text-align: right;\">\n",
       "      <th></th>\n",
       "      <th>taskId</th>\n",
       "      <th>aspectId</th>\n",
       "      <th>name</th>\n",
       "      <th>description</th>\n",
       "      <th>categoryId</th>\n",
       "      <th>type</th>\n",
       "      <th>groupId</th>\n",
       "    </tr>\n",
       "  </thead>\n",
       "  <tbody>\n",
       "    <tr>\n",
       "      <th>0</th>\n",
       "      <td>6GiDAn1lXN77UqQybxaa1N</td>\n",
       "      <td>8063</td>\n",
       "      <td>contains too little/753</td>\n",
       "      <td>Bitte zähle noch weitere Möbel und Einrichtung...</td>\n",
       "      <td>NaN</td>\n",
       "      <td>MISCONCEPTION</td>\n",
       "      <td>NaN</td>\n",
       "    </tr>\n",
       "    <tr>\n",
       "      <th>1</th>\n",
       "      <td>6GiDAn1lXN77UqQybxaa1N</td>\n",
       "      <td>8067</td>\n",
       "      <td>is contained/749</td>\n",
       "      <td>Es wurden genügend Möbel und Einrichtungsgegen...</td>\n",
       "      <td>NaN</td>\n",
       "      <td>CONCEPT</td>\n",
       "      <td>NaN</td>\n",
       "    </tr>\n",
       "    <tr>\n",
       "      <th>2</th>\n",
       "      <td>1N8fnGOxojM7uMBAfjldQO</td>\n",
       "      <td>8067</td>\n",
       "      <td>is contained/749</td>\n",
       "      <td>Es wurden genügend Möbel und Einrichtungsgegen...</td>\n",
       "      <td>NaN</td>\n",
       "      <td>CONCEPT</td>\n",
       "      <td>NaN</td>\n",
       "    </tr>\n",
       "    <tr>\n",
       "      <th>3</th>\n",
       "      <td>6GiDAn1lXN77UqQybxaa1N</td>\n",
       "      <td>8075</td>\n",
       "      <td>is not contained/750</td>\n",
       "      <td>Es wurden keine Möbel und Einrichtungsgegenstä...</td>\n",
       "      <td>NaN</td>\n",
       "      <td>MISCONCEPTION</td>\n",
       "      <td>NaN</td>\n",
       "    </tr>\n",
       "    <tr>\n",
       "      <th>4</th>\n",
       "      <td>2nrIbSGCnBTaitH65i7FqT</td>\n",
       "      <td>7656</td>\n",
       "      <td>is contained/796</td>\n",
       "      <td>Der Satz beginnt mit \"Nein\".</td>\n",
       "      <td>NaN</td>\n",
       "      <td>CONCEPT</td>\n",
       "      <td>NaN</td>\n",
       "    </tr>\n",
       "  </tbody>\n",
       "</table>\n",
       "</div>"
      ],
      "text/plain": [
       "                   taskId  aspectId                     name  \\\n",
       "0  6GiDAn1lXN77UqQybxaa1N      8063  contains too little/753   \n",
       "1  6GiDAn1lXN77UqQybxaa1N      8067         is contained/749   \n",
       "2  1N8fnGOxojM7uMBAfjldQO      8067         is contained/749   \n",
       "3  6GiDAn1lXN77UqQybxaa1N      8075     is not contained/750   \n",
       "4  2nrIbSGCnBTaitH65i7FqT      7656         is contained/796   \n",
       "\n",
       "                                         description  categoryId  \\\n",
       "0  Bitte zähle noch weitere Möbel und Einrichtung...         NaN   \n",
       "1  Es wurden genügend Möbel und Einrichtungsgegen...         NaN   \n",
       "2  Es wurden genügend Möbel und Einrichtungsgegen...         NaN   \n",
       "3  Es wurden keine Möbel und Einrichtungsgegenstä...         NaN   \n",
       "4                       Der Satz beginnt mit \"Nein\".         NaN   \n",
       "\n",
       "            type  groupId  \n",
       "0  MISCONCEPTION      NaN  \n",
       "1        CONCEPT      NaN  \n",
       "2        CONCEPT      NaN  \n",
       "3  MISCONCEPTION      NaN  \n",
       "4        CONCEPT      NaN  "
      ]
     },
     "execution_count": 7,
     "metadata": {},
     "output_type": "execute_result"
    }
   ],
   "source": [
    "df_aspects.rename(columns={\"id\":\"aspectId\"}, inplace=True)\n",
    "merged = pd.merge(\n",
    "    left=df[[\"taskId\", \"aspectId\"]], \n",
    "    right=df_aspects[[\"aspectId\", \"name\", \"description\", \"categoryId\", \"type\", \"groupId\"]], \n",
    "    on=\"aspectId\", \n",
    "    how=\"outer\")\n",
    "merged.head()"
   ]
  },
  {
   "cell_type": "code",
   "execution_count": 8,
   "id": "7035a064-a51d-4fef-bf58-7e0aa4b59d4a",
   "metadata": {},
   "outputs": [
    {
     "data": {
      "text/plain": [
       "(49990, 6116, 0)"
      ]
     },
     "execution_count": 8,
     "metadata": {},
     "output_type": "execute_result"
    }
   ],
   "source": [
    "len(merged), len(merged[merged[\"taskId\"].isna()]), len(merged[merged[\"description\"].isna()])"
   ]
  },
  {
   "cell_type": "code",
   "execution_count": 9,
   "id": "b866ba99-41b3-4231-ba6e-d51a1a148ed3",
   "metadata": {},
   "outputs": [],
   "source": [
    "merged.dropna(subset=[\"taskId\"]).to_csv(\"data/aspects_DE.csv\", index_label=False)"
   ]
  },
  {
   "cell_type": "markdown",
   "id": "8b885dfb-ce16-491b-b539-f1352e17a2ac",
   "metadata": {},
   "source": [
    "**English tasks**"
   ]
  },
  {
   "cell_type": "code",
   "execution_count": 10,
   "id": "bb3309c1-4efa-409c-9460-9dce4556b5f8",
   "metadata": {},
   "outputs": [
    {
     "data": {
      "text/plain": [
       "(15357, 7416, 0)"
      ]
     },
     "execution_count": 10,
     "metadata": {},
     "output_type": "execute_result"
    }
   ],
   "source": [
    "df_tasks = pd.read_csv(\"data/open_tasks_EN.csv\")\n",
    "\n",
    "df = pd.merge(df_tasks[[\"taskId\"]], df_TaskAspect, how=\"inner\", on=[\"taskId\"])\n",
    "\n",
    "df_aspects.rename(columns={\"id\":\"aspectId\"}, inplace=True)\n",
    "\n",
    "merged = pd.merge(\n",
    "    left=df[[\"taskId\", \"aspectId\"]], \n",
    "    right=df_aspects[[\"aspectId\", \"name\", \"description\", \"categoryId\", \"type\", \"groupId\"]], \n",
    "    on=\"aspectId\", \n",
    "    how=\"outer\")\n",
    "\n",
    "len(merged), len(merged[merged[\"taskId\"].isna()]), len(merged[merged[\"description\"].isna()])"
   ]
  },
  {
   "cell_type": "code",
   "execution_count": 11,
   "id": "c0dfb113-020d-412e-a6b7-c1a58f42309d",
   "metadata": {},
   "outputs": [],
   "source": [
    "merged.dropna(subset=[\"taskId\"]).to_csv(\"data/aspects_EN.csv\", index_label=False)"
   ]
  }
 ],
 "metadata": {
  "kernelspec": {
   "display_name": "tb_venv",
   "language": "python",
   "name": "tb_venv"
  },
  "language_info": {
   "codemirror_mode": {
    "name": "ipython",
    "version": 3
   },
   "file_extension": ".py",
   "mimetype": "text/x-python",
   "name": "python",
   "nbconvert_exporter": "python",
   "pygments_lexer": "ipython3",
   "version": "3.11.8"
  }
 },
 "nbformat": 4,
 "nbformat_minor": 5
}
