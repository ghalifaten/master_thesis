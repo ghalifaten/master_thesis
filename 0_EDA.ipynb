{
 "cells": [
  {
   "cell_type": "markdown",
   "id": "59f85720-0229-4d3d-bed4-3f0c7fe077ab",
   "metadata": {},
   "source": [
    "This notebook is made for Exploratory Data Analysis <hr>"
   ]
  },
  {
   "cell_type": "markdown",
   "id": "986ef0bf-020e-4b3a-ad57-143c2d5e17d7",
   "metadata": {},
   "source": [
    "## Tasks \n",
    "\n",
    "Table of all versions of tasks.\n",
    "* **version**: version number of the task update\n",
    "* **taskId**: unique ID of the task. *version* is however the primary key of the table => Multiple rows could have the same ID.\n",
    "* **title**\n",
    "* **typeId**: ID of the type of the task. 33 types: *OPEN, CLOZE_TEXT_INPUT, CLOZE_TEXT_DROPDOWN, MULTIPLE_CHOICE, GRAMMAR, SPELLCHECK...*\n",
    "* **createdTime**: timestamp of creation of the version of the task\n",
    "* **authorId**\n",
    "* **content**: a dict containing more information about the task (some fields in dict exist already as a separate column) <br> *id, <br>type, <br>hints (list), <br>title, <br>version, <br>description (text), <br>taskType (OPEN, CLUSTER,... same as type?), <br>solutionSteps (list)*\n",
    "* **Status**: status of the task? *DRAFT, INITIAL, WORK_IN_PROGRESS...* \n",
    "* **aiStatus**: \n",
    "* **customerId, language, followUpTask, versionComment, feedbackComment**: sparse fields.\n",
    "\n",
    "> **TaskChildParent**\n",
    "\n",
    "<hr>\n",
    "\n",
    "## LatestTaskVersions\n",
    "\n",
    "The table containing the last versions of tasks.\n",
    "* **version**\n",
    "* **taskId**: no duplicates\n",
    "* **createdTime**\n",
    "  \n",
    "<hr>\n",
    "\n",
    "## Competences\n",
    "\n",
    "The table of **Aspects**\n",
    "\n",
    "* **id**\n",
    "* **name**\n",
    "* **description**\n",
    "* **tenantId**: ID of the client\n",
    "* **categoryId**: *Content, Deklination, Grammar, Spelling, Tempus, Modus, Wortart...* -sparse\n",
    "* **type**: CONCEPT, MISCONCEPTION\n",
    "* **groupId**\n",
    "* **metaData**\n",
    "\n",
    "> **TaskCompetences** is a join table associating *taskId* to *competenceId*.\n",
    "\n",
    "<hr>\n",
    "\n",
    "## AspectsConfigurations\n",
    "\n",
    "The table of **Detectors**\n",
    "\n",
    "* **id**: table PK\n",
    "* **name**: detector name\n",
    "* **aspectDetectorConfiguration**: dict containing different parameters, related to the detector type.\n",
    "* **taskId**: one task can have multiple detectors, one detector per row.\n",
    "* **topicId** -sparse\n",
    "* **authorId**\n",
    "* **configurationId, isEnabled**: sparse fields\n",
    "\n",
    "<hr>"
   ]
  },
  {
   "cell_type": "code",
   "execution_count": 1,
   "id": "1bfb32e6-09c0-41ea-9c38-76648c0407ea",
   "metadata": {},
   "outputs": [],
   "source": [
    "import warnings\n",
    "warnings.filterwarnings(\"ignore\")"
   ]
  },
  {
   "cell_type": "code",
   "execution_count": 2,
   "id": "047a420b-5b80-4d11-81d3-4c2159a759be",
   "metadata": {},
   "outputs": [],
   "source": [
    "import mysql.connector\n",
    "import pandas as pd\n",
    "import seaborn as sns\n",
    "import matplotlib.pyplot as plt\n",
    "import numpy as np\n",
    "import json\n",
    "from bs4 import BeautifulSoup"
   ]
  },
  {
   "cell_type": "code",
   "execution_count": 3,
   "id": "7bd97542-d980-46f3-8230-6edf4b889f33",
   "metadata": {},
   "outputs": [],
   "source": [
    "sns.set_theme(style='white', \n",
    "              rc={'figure.figsize':(12,6)})\n",
    "color_blind_colors = [\n",
    "    \"#00429d\",  # Dark blue\n",
    "    \"#009c79\",  # Dark green\n",
    "    \"#ff420e\",  # Orange\n",
    "    \"#365e96\",  # Blue\n",
    "    \"#ffbb00\",  # Yellow\n",
    "    \"#a200ff\",  # Purple\n",
    "    \"#01b1d2\",  # Cyan\n",
    "    \"#00558c\",  # Dark blue\n",
    "    \"#9e0638\",  # Red\n",
    "    \"#00a03e\",  # Green\n",
    "    \"#ffcd00\",  # Yellow\n",
    "    \"#7a6fca\",  # Blue\n",
    "    \"#3f3f3f\",  # Gray\n",
    "    \"#af280e\",  # Red\n",
    "    \"#c3d825\",  # Green-yellow\n",
    "    \"#3a4276\",  # Blue\n",
    "    \"#1f8a70\",  # Green\n",
    "    \"#ff6800\",  # Orange\n",
    "    \"#5b5a5a\",  # Gray\n",
    "    \"#c49867\",  # Brown\n",
    "    \"#827a04\",  # Olive\n",
    "    \"#83a4d4\",  # Light blue\n",
    "    \"#44a1c2\",  # Blue\n",
    "    \"#c4b97f\",  # Olive\n",
    "    \"#8a88a3\",  # Purple\n",
    "    \"#da8137\",  # Orange\n",
    "    \"#dc5f3b\",  # Red-orange\n",
    "    \"#a67e2d\",  # Yellow-brown\n",
    "    \"#b7aa89\",  # Gray\n",
    "    \"#647d6e\",  # Green\n",
    "    \"#6aabb1\",  # Cyan\n",
    "    \"#a07f29\",  # Yellow-brown\n",
    "    \"#d7a844\",  # Yellow-orange\n",
    "    \"#6e764d\"   # Olive\n",
    "]"
   ]
  },
  {
   "cell_type": "code",
   "execution_count": 4,
   "id": "d052c74d-3e32-4219-bb4f-1610fdf16956",
   "metadata": {},
   "outputs": [],
   "source": [
    "cnx = mysql.connector.connect(user='root', password='taskbase',\n",
    "                              host='127.0.0.1', port='3309', database='lernnavi')"
   ]
  },
  {
   "cell_type": "markdown",
   "id": "b800e904-821d-42bf-b99c-ce3cc917cf4f",
   "metadata": {},
   "source": [
    "# Distribution of types"
   ]
  },
  {
   "cell_type": "code",
   "execution_count": 5,
   "id": "a3ccc7ff-0131-4360-9447-f30c1f742482",
   "metadata": {},
   "outputs": [
    {
     "data": {
      "text/html": [
       "<div>\n",
       "<style scoped>\n",
       "    .dataframe tbody tr th:only-of-type {\n",
       "        vertical-align: middle;\n",
       "    }\n",
       "\n",
       "    .dataframe tbody tr th {\n",
       "        vertical-align: top;\n",
       "    }\n",
       "\n",
       "    .dataframe thead th {\n",
       "        text-align: right;\n",
       "    }\n",
       "</style>\n",
       "<table border=\"1\" class=\"dataframe\">\n",
       "  <thead>\n",
       "    <tr style=\"text-align: right;\">\n",
       "      <th></th>\n",
       "      <th>typeId</th>\n",
       "      <th>type</th>\n",
       "    </tr>\n",
       "  </thead>\n",
       "  <tbody>\n",
       "    <tr>\n",
       "      <th>0</th>\n",
       "      <td>26</td>\n",
       "      <td>BIT_MATCH</td>\n",
       "    </tr>\n",
       "    <tr>\n",
       "      <th>1</th>\n",
       "      <td>32</td>\n",
       "      <td>BIT_MATCH_MATRIX</td>\n",
       "    </tr>\n",
       "    <tr>\n",
       "      <th>2</th>\n",
       "      <td>27</td>\n",
       "      <td>BIT_MATCH_PICTURE</td>\n",
       "    </tr>\n",
       "    <tr>\n",
       "      <th>3</th>\n",
       "      <td>30</td>\n",
       "      <td>BIT_MULTIPLE_CHOICE</td>\n",
       "    </tr>\n",
       "    <tr>\n",
       "      <th>4</th>\n",
       "      <td>31</td>\n",
       "      <td>BIT_MULTIPLE_RESPONSE</td>\n",
       "    </tr>\n",
       "  </tbody>\n",
       "</table>\n",
       "</div>"
      ],
      "text/plain": [
       "   typeId                   type\n",
       "0      26              BIT_MATCH\n",
       "1      32       BIT_MATCH_MATRIX\n",
       "2      27      BIT_MATCH_PICTURE\n",
       "3      30    BIT_MULTIPLE_CHOICE\n",
       "4      31  BIT_MULTIPLE_RESPONSE"
      ]
     },
     "execution_count": 5,
     "metadata": {},
     "output_type": "execute_result"
    }
   ],
   "source": [
    "query = \"SELECT * FROM TaskTypes\"\n",
    "df_types = pd.read_sql(query, cnx)\n",
    "df_types.rename(columns={'id':'typeId', 'name':'type'}, inplace=True)\n",
    "df_types.head()"
   ]
  },
  {
   "cell_type": "code",
   "execution_count": 6,
   "id": "910c896a-5f38-45de-8861-c4b25cd8d4c0",
   "metadata": {},
   "outputs": [
    {
     "data": {
      "text/html": [
       "<div>\n",
       "<style scoped>\n",
       "    .dataframe tbody tr th:only-of-type {\n",
       "        vertical-align: middle;\n",
       "    }\n",
       "\n",
       "    .dataframe tbody tr th {\n",
       "        vertical-align: top;\n",
       "    }\n",
       "\n",
       "    .dataframe thead th {\n",
       "        text-align: right;\n",
       "    }\n",
       "</style>\n",
       "<table border=\"1\" class=\"dataframe\">\n",
       "  <thead>\n",
       "    <tr style=\"text-align: right;\">\n",
       "      <th></th>\n",
       "      <th>version</th>\n",
       "      <th>taskId</th>\n",
       "      <th>title</th>\n",
       "      <th>typeId</th>\n",
       "      <th>createdTime</th>\n",
       "      <th>authorId</th>\n",
       "      <th>content</th>\n",
       "      <th>Status</th>\n",
       "      <th>versionComment</th>\n",
       "      <th>aiStatus</th>\n",
       "      <th>feedbackComment</th>\n",
       "      <th>customerId</th>\n",
       "      <th>language</th>\n",
       "      <th>followUpTask</th>\n",
       "      <th>isCommaMode</th>\n",
       "      <th>isReferenceTask</th>\n",
       "      <th>isMultipleChoice</th>\n",
       "      <th>type</th>\n",
       "    </tr>\n",
       "  </thead>\n",
       "  <tbody>\n",
       "    <tr>\n",
       "      <th>0</th>\n",
       "      <td>8</td>\n",
       "      <td>Dyx07vCUuWqWSiHC6V</td>\n",
       "      <td></td>\n",
       "      <td>3</td>\n",
       "      <td>1531728113426</td>\n",
       "      <td>2</td>\n",
       "      <td>{\"id\": \"Dyx07vCUuWqWSiHC6V\", \"type\": \"HIGHLIGH...</td>\n",
       "      <td>WORK_IN_PROGRESS</td>\n",
       "      <td>None</td>\n",
       "      <td>INITIAL</td>\n",
       "      <td>None</td>\n",
       "      <td>None</td>\n",
       "      <td>None</td>\n",
       "      <td>None</td>\n",
       "      <td>NaN</td>\n",
       "      <td>0</td>\n",
       "      <td>NaN</td>\n",
       "      <td>HIGHLIGHT</td>\n",
       "    </tr>\n",
       "    <tr>\n",
       "      <th>1</th>\n",
       "      <td>9</td>\n",
       "      <td>Dyx07vCUuWqWSiHC6V</td>\n",
       "      <td>Aufgabe PT1.2</td>\n",
       "      <td>3</td>\n",
       "      <td>1531728228715</td>\n",
       "      <td>2</td>\n",
       "      <td>{\"id\": \"Dyx07vCUuWqWSiHC6V\", \"type\": \"HIGHLIGH...</td>\n",
       "      <td>WORK_IN_PROGRESS</td>\n",
       "      <td>None</td>\n",
       "      <td>INITIAL</td>\n",
       "      <td>None</td>\n",
       "      <td>None</td>\n",
       "      <td>None</td>\n",
       "      <td>None</td>\n",
       "      <td>NaN</td>\n",
       "      <td>0</td>\n",
       "      <td>NaN</td>\n",
       "      <td>HIGHLIGHT</td>\n",
       "    </tr>\n",
       "    <tr>\n",
       "      <th>2</th>\n",
       "      <td>20</td>\n",
       "      <td>HurIW8u0XJAWSiN5aR</td>\n",
       "      <td></td>\n",
       "      <td>3</td>\n",
       "      <td>1531729909418</td>\n",
       "      <td>2</td>\n",
       "      <td>{\"id\": \"HurIW8u0XJAWSiN5aR\", \"type\": \"HIGHLIGH...</td>\n",
       "      <td>WORK_IN_PROGRESS</td>\n",
       "      <td>None</td>\n",
       "      <td>INITIAL</td>\n",
       "      <td>None</td>\n",
       "      <td>None</td>\n",
       "      <td>None</td>\n",
       "      <td>None</td>\n",
       "      <td>NaN</td>\n",
       "      <td>0</td>\n",
       "      <td>NaN</td>\n",
       "      <td>HIGHLIGHT</td>\n",
       "    </tr>\n",
       "    <tr>\n",
       "      <th>3</th>\n",
       "      <td>21</td>\n",
       "      <td>HurIW8u0XJAWSiN5aR</td>\n",
       "      <td></td>\n",
       "      <td>3</td>\n",
       "      <td>1531730025414</td>\n",
       "      <td>2</td>\n",
       "      <td>{\"id\": \"HurIW8u0XJAWSiN5aR\", \"type\": \"HIGHLIGH...</td>\n",
       "      <td>WORK_IN_PROGRESS</td>\n",
       "      <td>None</td>\n",
       "      <td>INITIAL</td>\n",
       "      <td>None</td>\n",
       "      <td>None</td>\n",
       "      <td>None</td>\n",
       "      <td>None</td>\n",
       "      <td>NaN</td>\n",
       "      <td>0</td>\n",
       "      <td>NaN</td>\n",
       "      <td>HIGHLIGHT</td>\n",
       "    </tr>\n",
       "    <tr>\n",
       "      <th>4</th>\n",
       "      <td>24</td>\n",
       "      <td>HurIW8u0XJAWSiN5aR</td>\n",
       "      <td>Aufgabe PT1.6a</td>\n",
       "      <td>3</td>\n",
       "      <td>1531730573408</td>\n",
       "      <td>2</td>\n",
       "      <td>{\"id\": \"HurIW8u0XJAWSiN5aR\", \"type\": \"HIGHLIGH...</td>\n",
       "      <td>WORK_IN_PROGRESS</td>\n",
       "      <td>None</td>\n",
       "      <td>INITIAL</td>\n",
       "      <td>None</td>\n",
       "      <td>None</td>\n",
       "      <td>None</td>\n",
       "      <td>None</td>\n",
       "      <td>NaN</td>\n",
       "      <td>0</td>\n",
       "      <td>NaN</td>\n",
       "      <td>HIGHLIGHT</td>\n",
       "    </tr>\n",
       "  </tbody>\n",
       "</table>\n",
       "</div>"
      ],
      "text/plain": [
       "   version              taskId           title  typeId    createdTime  \\\n",
       "0        8  Dyx07vCUuWqWSiHC6V                       3  1531728113426   \n",
       "1        9  Dyx07vCUuWqWSiHC6V   Aufgabe PT1.2       3  1531728228715   \n",
       "2       20  HurIW8u0XJAWSiN5aR                       3  1531729909418   \n",
       "3       21  HurIW8u0XJAWSiN5aR                       3  1531730025414   \n",
       "4       24  HurIW8u0XJAWSiN5aR  Aufgabe PT1.6a       3  1531730573408   \n",
       "\n",
       "   authorId                                            content  \\\n",
       "0         2  {\"id\": \"Dyx07vCUuWqWSiHC6V\", \"type\": \"HIGHLIGH...   \n",
       "1         2  {\"id\": \"Dyx07vCUuWqWSiHC6V\", \"type\": \"HIGHLIGH...   \n",
       "2         2  {\"id\": \"HurIW8u0XJAWSiN5aR\", \"type\": \"HIGHLIGH...   \n",
       "3         2  {\"id\": \"HurIW8u0XJAWSiN5aR\", \"type\": \"HIGHLIGH...   \n",
       "4         2  {\"id\": \"HurIW8u0XJAWSiN5aR\", \"type\": \"HIGHLIGH...   \n",
       "\n",
       "             Status versionComment aiStatus feedbackComment customerId  \\\n",
       "0  WORK_IN_PROGRESS           None  INITIAL            None       None   \n",
       "1  WORK_IN_PROGRESS           None  INITIAL            None       None   \n",
       "2  WORK_IN_PROGRESS           None  INITIAL            None       None   \n",
       "3  WORK_IN_PROGRESS           None  INITIAL            None       None   \n",
       "4  WORK_IN_PROGRESS           None  INITIAL            None       None   \n",
       "\n",
       "  language followUpTask  isCommaMode  isReferenceTask  isMultipleChoice  \\\n",
       "0     None         None          NaN                0               NaN   \n",
       "1     None         None          NaN                0               NaN   \n",
       "2     None         None          NaN                0               NaN   \n",
       "3     None         None          NaN                0               NaN   \n",
       "4     None         None          NaN                0               NaN   \n",
       "\n",
       "        type  \n",
       "0  HIGHLIGHT  \n",
       "1  HIGHLIGHT  \n",
       "2  HIGHLIGHT  \n",
       "3  HIGHLIGHT  \n",
       "4  HIGHLIGHT  "
      ]
     },
     "execution_count": 6,
     "metadata": {},
     "output_type": "execute_result"
    }
   ],
   "source": [
    "query = \"SELECT * FROM Tasks\"\n",
    "df_tasks = pd.read_sql(query, cnx)\n",
    "df_tasks = pd.merge(df_tasks, df_types, how=\"inner\", on='typeId')\n",
    "df_tasks.head()"
   ]
  },
  {
   "cell_type": "code",
   "execution_count": 7,
   "id": "4896853b-6381-4019-99fd-497a5ac3cda2",
   "metadata": {},
   "outputs": [
    {
     "data": {
      "text/html": [
       "<div>\n",
       "<style scoped>\n",
       "    .dataframe tbody tr th:only-of-type {\n",
       "        vertical-align: middle;\n",
       "    }\n",
       "\n",
       "    .dataframe tbody tr th {\n",
       "        vertical-align: top;\n",
       "    }\n",
       "\n",
       "    .dataframe thead th {\n",
       "        text-align: right;\n",
       "    }\n",
       "</style>\n",
       "<table border=\"1\" class=\"dataframe\">\n",
       "  <thead>\n",
       "    <tr style=\"text-align: right;\">\n",
       "      <th></th>\n",
       "      <th>version</th>\n",
       "      <th>taskId</th>\n",
       "      <th>title</th>\n",
       "      <th>typeId</th>\n",
       "      <th>createdTime_x</th>\n",
       "      <th>authorId</th>\n",
       "      <th>content</th>\n",
       "      <th>Status</th>\n",
       "      <th>versionComment</th>\n",
       "      <th>aiStatus</th>\n",
       "      <th>feedbackComment</th>\n",
       "      <th>customerId</th>\n",
       "      <th>language</th>\n",
       "      <th>followUpTask</th>\n",
       "      <th>isCommaMode</th>\n",
       "      <th>isReferenceTask</th>\n",
       "      <th>isMultipleChoice</th>\n",
       "      <th>type</th>\n",
       "      <th>id</th>\n",
       "      <th>createdTime_y</th>\n",
       "    </tr>\n",
       "  </thead>\n",
       "  <tbody>\n",
       "    <tr>\n",
       "      <th>0</th>\n",
       "      <td>2325</td>\n",
       "      <td>PT1-11a-restored</td>\n",
       "      <td>Aufgabe PT1.11a</td>\n",
       "      <td>3</td>\n",
       "      <td>1535643328825</td>\n",
       "      <td>2</td>\n",
       "      <td>{\"id\": \"PT1-11a-restored\", \"type\": \"HIGHLIGHT\"...</td>\n",
       "      <td>WORK_IN_PROGRESS</td>\n",
       "      <td>None</td>\n",
       "      <td>INITIAL</td>\n",
       "      <td>None</td>\n",
       "      <td>None</td>\n",
       "      <td>None</td>\n",
       "      <td>None</td>\n",
       "      <td>NaN</td>\n",
       "      <td>0</td>\n",
       "      <td>NaN</td>\n",
       "      <td>HIGHLIGHT</td>\n",
       "      <td>2693</td>\n",
       "      <td>1534434704301</td>\n",
       "    </tr>\n",
       "    <tr>\n",
       "      <th>1</th>\n",
       "      <td>2388</td>\n",
       "      <td>7kQh-veLQfOanjx1QkhbKx</td>\n",
       "      <td>Aufgabe PT 2.14a</td>\n",
       "      <td>3</td>\n",
       "      <td>1535660365797</td>\n",
       "      <td>2</td>\n",
       "      <td>{\"id\": \"7kQh-veLQfOanjx1QkhbKx\", \"type\": \"HIGH...</td>\n",
       "      <td>WORK_IN_PROGRESS</td>\n",
       "      <td>None</td>\n",
       "      <td>INITIAL</td>\n",
       "      <td>None</td>\n",
       "      <td>None</td>\n",
       "      <td>None</td>\n",
       "      <td>None</td>\n",
       "      <td>NaN</td>\n",
       "      <td>0</td>\n",
       "      <td>NaN</td>\n",
       "      <td>HIGHLIGHT</td>\n",
       "      <td>1589</td>\n",
       "      <td>1532335779747</td>\n",
       "    </tr>\n",
       "    <tr>\n",
       "      <th>2</th>\n",
       "      <td>2395</td>\n",
       "      <td>d7SwsoVyAUP80fMioyhxzH</td>\n",
       "      <td>Aufgabe PT 2.14c</td>\n",
       "      <td>3</td>\n",
       "      <td>1535661392063</td>\n",
       "      <td>2</td>\n",
       "      <td>{\"id\": \"d7SwsoVyAUP80fMioyhxzH\", \"type\": \"HIGH...</td>\n",
       "      <td>WORK_IN_PROGRESS</td>\n",
       "      <td>None</td>\n",
       "      <td>INITIAL</td>\n",
       "      <td>None</td>\n",
       "      <td>None</td>\n",
       "      <td>None</td>\n",
       "      <td>None</td>\n",
       "      <td>NaN</td>\n",
       "      <td>0</td>\n",
       "      <td>NaN</td>\n",
       "      <td>HIGHLIGHT</td>\n",
       "      <td>2516</td>\n",
       "      <td>1532336772750</td>\n",
       "    </tr>\n",
       "    <tr>\n",
       "      <th>3</th>\n",
       "      <td>3786</td>\n",
       "      <td>4R58yTMxw8b5CK1F72eh0W</td>\n",
       "      <td>Musteraufgabe D_Markieren_Adjektive_3.4_WORT_A_1</td>\n",
       "      <td>3</td>\n",
       "      <td>1562516756370</td>\n",
       "      <td>32</td>\n",
       "      <td>{\"id\": \"4R58yTMxw8b5CK1F72eh0W\", \"type\": \"HIGH...</td>\n",
       "      <td>WORK_IN_PROGRESS</td>\n",
       "      <td>None</td>\n",
       "      <td>INITIAL</td>\n",
       "      <td>None</td>\n",
       "      <td>None</td>\n",
       "      <td>None</td>\n",
       "      <td>None</td>\n",
       "      <td>NaN</td>\n",
       "      <td>0</td>\n",
       "      <td>NaN</td>\n",
       "      <td>HIGHLIGHT</td>\n",
       "      <td>927</td>\n",
       "      <td>1559076209311</td>\n",
       "    </tr>\n",
       "    <tr>\n",
       "      <th>4</th>\n",
       "      <td>3788</td>\n",
       "      <td>2UiRhzBKL217r4pFiCA6Ek</td>\n",
       "      <td>Ersatz 1.6b_Markieren mit mehreren Farben</td>\n",
       "      <td>3</td>\n",
       "      <td>1562516867617</td>\n",
       "      <td>32</td>\n",
       "      <td>{\"id\": \"2UiRhzBKL217r4pFiCA6Ek\", \"type\": \"HIGH...</td>\n",
       "      <td>WORK_IN_PROGRESS</td>\n",
       "      <td>None</td>\n",
       "      <td>INITIAL</td>\n",
       "      <td>None</td>\n",
       "      <td>None</td>\n",
       "      <td>None</td>\n",
       "      <td>None</td>\n",
       "      <td>NaN</td>\n",
       "      <td>0</td>\n",
       "      <td>NaN</td>\n",
       "      <td>HIGHLIGHT</td>\n",
       "      <td>425</td>\n",
       "      <td>1555145282057</td>\n",
       "    </tr>\n",
       "  </tbody>\n",
       "</table>\n",
       "</div>"
      ],
      "text/plain": [
       "   version                  taskId  \\\n",
       "0     2325        PT1-11a-restored   \n",
       "1     2388  7kQh-veLQfOanjx1QkhbKx   \n",
       "2     2395  d7SwsoVyAUP80fMioyhxzH   \n",
       "3     3786  4R58yTMxw8b5CK1F72eh0W   \n",
       "4     3788  2UiRhzBKL217r4pFiCA6Ek   \n",
       "\n",
       "                                              title  typeId  createdTime_x  \\\n",
       "0                                   Aufgabe PT1.11a       3  1535643328825   \n",
       "1                                  Aufgabe PT 2.14a       3  1535660365797   \n",
       "2                                  Aufgabe PT 2.14c       3  1535661392063   \n",
       "3  Musteraufgabe D_Markieren_Adjektive_3.4_WORT_A_1       3  1562516756370   \n",
       "4         Ersatz 1.6b_Markieren mit mehreren Farben       3  1562516867617   \n",
       "\n",
       "   authorId                                            content  \\\n",
       "0         2  {\"id\": \"PT1-11a-restored\", \"type\": \"HIGHLIGHT\"...   \n",
       "1         2  {\"id\": \"7kQh-veLQfOanjx1QkhbKx\", \"type\": \"HIGH...   \n",
       "2         2  {\"id\": \"d7SwsoVyAUP80fMioyhxzH\", \"type\": \"HIGH...   \n",
       "3        32  {\"id\": \"4R58yTMxw8b5CK1F72eh0W\", \"type\": \"HIGH...   \n",
       "4        32  {\"id\": \"2UiRhzBKL217r4pFiCA6Ek\", \"type\": \"HIGH...   \n",
       "\n",
       "             Status versionComment aiStatus feedbackComment customerId  \\\n",
       "0  WORK_IN_PROGRESS           None  INITIAL            None       None   \n",
       "1  WORK_IN_PROGRESS           None  INITIAL            None       None   \n",
       "2  WORK_IN_PROGRESS           None  INITIAL            None       None   \n",
       "3  WORK_IN_PROGRESS           None  INITIAL            None       None   \n",
       "4  WORK_IN_PROGRESS           None  INITIAL            None       None   \n",
       "\n",
       "  language followUpTask  isCommaMode  isReferenceTask  isMultipleChoice  \\\n",
       "0     None         None          NaN                0               NaN   \n",
       "1     None         None          NaN                0               NaN   \n",
       "2     None         None          NaN                0               NaN   \n",
       "3     None         None          NaN                0               NaN   \n",
       "4     None         None          NaN                0               NaN   \n",
       "\n",
       "        type    id  createdTime_y  \n",
       "0  HIGHLIGHT  2693  1534434704301  \n",
       "1  HIGHLIGHT  1589  1532335779747  \n",
       "2  HIGHLIGHT  2516  1532336772750  \n",
       "3  HIGHLIGHT   927  1559076209311  \n",
       "4  HIGHLIGHT   425  1555145282057  "
      ]
     },
     "execution_count": 7,
     "metadata": {},
     "output_type": "execute_result"
    }
   ],
   "source": [
    "query = \"SELECT * FROM LatestTaskVersions\"\n",
    "df = pd.read_sql(query, cnx)\n",
    "df_latest_task_versions = pd.merge(df_tasks, df, how=\"inner\", on=[\"version\", \"taskId\"])\n",
    "L = len(df_latest_task_versions)\n",
    "df_latest_task_versions.head() "
   ]
  },
  {
   "cell_type": "code",
   "execution_count": 8,
   "id": "fc36f3c1-ba6c-4397-bba8-129ddc46ef6e",
   "metadata": {},
   "outputs": [
    {
     "data": {
      "image/png": "[encoded data removed]",
      "text/plain": [
       "<Figure size 1200x600 with 1 Axes>"
      ]
     },
     "metadata": {},
     "output_type": "display_data"
    }
   ],
   "source": [
    "types_count = df_latest_task_versions[[\"type\", \"taskId\"]].groupby(\"type\").count().rename(columns={\"taskId\":\"count\"}).reset_index()\n",
    "\n",
    "colors = ['tab:blue' for x in types_count.type]\n",
    "colors[-3] = 'red'\n",
    "\n",
    "ax = sns.barplot(data=types_count,\n",
    "                 x='type',\n",
    "                 y=\"count\",\n",
    "                 order=types_count.sort_values('count').type, palette=colors)\n",
    "\n",
    "plt.xticks(rotation=90)\n",
    "ax.get_xticklabels()[-3].set_color(\"red\")\n",
    "title = plt.title(\"Types of tasks sorted by count\")\n",
    "ax.get_figure().savefig(\"figures/types_count_sorted.png\", bbox_inches=\"tight\") \n"
   ]
  },
  {
   "cell_type": "code",
   "execution_count": 9,
   "id": "a97c12f9-f16c-4ed8-9f99-32336d45cd6d",
   "metadata": {},
   "outputs": [
    {
     "name": "stdout",
     "output_type": "stream",
     "text": [
      "Percentage of OPEN tasks: 14.78%\n"
     ]
    }
   ],
   "source": [
    "open_count = types_count[types_count['type'] == \"OPEN\"].reset_index().loc[0,\"count\"]\n",
    "print(\"Percentage of OPEN tasks: {:.2f}%\".format(open_count / types_count['count'].sum() * 100))"
   ]
  },
  {
   "cell_type": "markdown",
   "id": "316bfb8c-c313-42ad-9e3a-55a4429900f1",
   "metadata": {},
   "source": [
    "<hr>\n",
    "\n",
    "# Tenants"
   ]
  },
  {
   "cell_type": "code",
   "execution_count": 10,
   "id": "0d13e7de-840f-48e9-932b-5265ad28c278",
   "metadata": {},
   "outputs": [
    {
     "data": {
      "text/html": [
       "<div>\n",
       "<style scoped>\n",
       "    .dataframe tbody tr th:only-of-type {\n",
       "        vertical-align: middle;\n",
       "    }\n",
       "\n",
       "    .dataframe tbody tr th {\n",
       "        vertical-align: top;\n",
       "    }\n",
       "\n",
       "    .dataframe thead th {\n",
       "        text-align: right;\n",
       "    }\n",
       "</style>\n",
       "<table border=\"1\" class=\"dataframe\">\n",
       "  <thead>\n",
       "    <tr style=\"text-align: right;\">\n",
       "      <th></th>\n",
       "      <th>version</th>\n",
       "      <th>taskId</th>\n",
       "      <th>title</th>\n",
       "      <th>typeId</th>\n",
       "      <th>createdTime_x</th>\n",
       "      <th>authorId</th>\n",
       "      <th>content</th>\n",
       "      <th>Status</th>\n",
       "      <th>versionComment</th>\n",
       "      <th>aiStatus</th>\n",
       "      <th>feedbackComment</th>\n",
       "      <th>customerId</th>\n",
       "      <th>language</th>\n",
       "      <th>followUpTask</th>\n",
       "      <th>isCommaMode</th>\n",
       "      <th>isReferenceTask</th>\n",
       "      <th>isMultipleChoice</th>\n",
       "      <th>type</th>\n",
       "      <th>id</th>\n",
       "      <th>createdTime_y</th>\n",
       "    </tr>\n",
       "  </thead>\n",
       "  <tbody>\n",
       "    <tr>\n",
       "      <th>0</th>\n",
       "      <td>2325</td>\n",
       "      <td>PT1-11a-restored</td>\n",
       "      <td>Aufgabe PT1.11a</td>\n",
       "      <td>3</td>\n",
       "      <td>1535643328825</td>\n",
       "      <td>2</td>\n",
       "      <td>{\"id\": \"PT1-11a-restored\", \"type\": \"HIGHLIGHT\"...</td>\n",
       "      <td>WORK_IN_PROGRESS</td>\n",
       "      <td>None</td>\n",
       "      <td>INITIAL</td>\n",
       "      <td>None</td>\n",
       "      <td>None</td>\n",
       "      <td>None</td>\n",
       "      <td>None</td>\n",
       "      <td>NaN</td>\n",
       "      <td>0</td>\n",
       "      <td>NaN</td>\n",
       "      <td>HIGHLIGHT</td>\n",
       "      <td>2693</td>\n",
       "      <td>1534434704301</td>\n",
       "    </tr>\n",
       "    <tr>\n",
       "      <th>1</th>\n",
       "      <td>2388</td>\n",
       "      <td>7kQh-veLQfOanjx1QkhbKx</td>\n",
       "      <td>Aufgabe PT 2.14a</td>\n",
       "      <td>3</td>\n",
       "      <td>1535660365797</td>\n",
       "      <td>2</td>\n",
       "      <td>{\"id\": \"7kQh-veLQfOanjx1QkhbKx\", \"type\": \"HIGH...</td>\n",
       "      <td>WORK_IN_PROGRESS</td>\n",
       "      <td>None</td>\n",
       "      <td>INITIAL</td>\n",
       "      <td>None</td>\n",
       "      <td>None</td>\n",
       "      <td>None</td>\n",
       "      <td>None</td>\n",
       "      <td>NaN</td>\n",
       "      <td>0</td>\n",
       "      <td>NaN</td>\n",
       "      <td>HIGHLIGHT</td>\n",
       "      <td>1589</td>\n",
       "      <td>1532335779747</td>\n",
       "    </tr>\n",
       "    <tr>\n",
       "      <th>2</th>\n",
       "      <td>2395</td>\n",
       "      <td>d7SwsoVyAUP80fMioyhxzH</td>\n",
       "      <td>Aufgabe PT 2.14c</td>\n",
       "      <td>3</td>\n",
       "      <td>1535661392063</td>\n",
       "      <td>2</td>\n",
       "      <td>{\"id\": \"d7SwsoVyAUP80fMioyhxzH\", \"type\": \"HIGH...</td>\n",
       "      <td>WORK_IN_PROGRESS</td>\n",
       "      <td>None</td>\n",
       "      <td>INITIAL</td>\n",
       "      <td>None</td>\n",
       "      <td>None</td>\n",
       "      <td>None</td>\n",
       "      <td>None</td>\n",
       "      <td>NaN</td>\n",
       "      <td>0</td>\n",
       "      <td>NaN</td>\n",
       "      <td>HIGHLIGHT</td>\n",
       "      <td>2516</td>\n",
       "      <td>1532336772750</td>\n",
       "    </tr>\n",
       "    <tr>\n",
       "      <th>3</th>\n",
       "      <td>3786</td>\n",
       "      <td>4R58yTMxw8b5CK1F72eh0W</td>\n",
       "      <td>Musteraufgabe D_Markieren_Adjektive_3.4_WORT_A_1</td>\n",
       "      <td>3</td>\n",
       "      <td>1562516756370</td>\n",
       "      <td>32</td>\n",
       "      <td>{\"id\": \"4R58yTMxw8b5CK1F72eh0W\", \"type\": \"HIGH...</td>\n",
       "      <td>WORK_IN_PROGRESS</td>\n",
       "      <td>None</td>\n",
       "      <td>INITIAL</td>\n",
       "      <td>None</td>\n",
       "      <td>None</td>\n",
       "      <td>None</td>\n",
       "      <td>None</td>\n",
       "      <td>NaN</td>\n",
       "      <td>0</td>\n",
       "      <td>NaN</td>\n",
       "      <td>HIGHLIGHT</td>\n",
       "      <td>927</td>\n",
       "      <td>1559076209311</td>\n",
       "    </tr>\n",
       "    <tr>\n",
       "      <th>4</th>\n",
       "      <td>3788</td>\n",
       "      <td>2UiRhzBKL217r4pFiCA6Ek</td>\n",
       "      <td>Ersatz 1.6b_Markieren mit mehreren Farben</td>\n",
       "      <td>3</td>\n",
       "      <td>1562516867617</td>\n",
       "      <td>32</td>\n",
       "      <td>{\"id\": \"2UiRhzBKL217r4pFiCA6Ek\", \"type\": \"HIGH...</td>\n",
       "      <td>WORK_IN_PROGRESS</td>\n",
       "      <td>None</td>\n",
       "      <td>INITIAL</td>\n",
       "      <td>None</td>\n",
       "      <td>None</td>\n",
       "      <td>None</td>\n",
       "      <td>None</td>\n",
       "      <td>NaN</td>\n",
       "      <td>0</td>\n",
       "      <td>NaN</td>\n",
       "      <td>HIGHLIGHT</td>\n",
       "      <td>425</td>\n",
       "      <td>1555145282057</td>\n",
       "    </tr>\n",
       "  </tbody>\n",
       "</table>\n",
       "</div>"
      ],
      "text/plain": [
       "   version                  taskId  \\\n",
       "0     2325        PT1-11a-restored   \n",
       "1     2388  7kQh-veLQfOanjx1QkhbKx   \n",
       "2     2395  d7SwsoVyAUP80fMioyhxzH   \n",
       "3     3786  4R58yTMxw8b5CK1F72eh0W   \n",
       "4     3788  2UiRhzBKL217r4pFiCA6Ek   \n",
       "\n",
       "                                              title  typeId  createdTime_x  \\\n",
       "0                                   Aufgabe PT1.11a       3  1535643328825   \n",
       "1                                  Aufgabe PT 2.14a       3  1535660365797   \n",
       "2                                  Aufgabe PT 2.14c       3  1535661392063   \n",
       "3  Musteraufgabe D_Markieren_Adjektive_3.4_WORT_A_1       3  1562516756370   \n",
       "4         Ersatz 1.6b_Markieren mit mehreren Farben       3  1562516867617   \n",
       "\n",
       "   authorId                                            content  \\\n",
       "0         2  {\"id\": \"PT1-11a-restored\", \"type\": \"HIGHLIGHT\"...   \n",
       "1         2  {\"id\": \"7kQh-veLQfOanjx1QkhbKx\", \"type\": \"HIGH...   \n",
       "2         2  {\"id\": \"d7SwsoVyAUP80fMioyhxzH\", \"type\": \"HIGH...   \n",
       "3        32  {\"id\": \"4R58yTMxw8b5CK1F72eh0W\", \"type\": \"HIGH...   \n",
       "4        32  {\"id\": \"2UiRhzBKL217r4pFiCA6Ek\", \"type\": \"HIGH...   \n",
       "\n",
       "             Status versionComment aiStatus feedbackComment customerId  \\\n",
       "0  WORK_IN_PROGRESS           None  INITIAL            None       None   \n",
       "1  WORK_IN_PROGRESS           None  INITIAL            None       None   \n",
       "2  WORK_IN_PROGRESS           None  INITIAL            None       None   \n",
       "3  WORK_IN_PROGRESS           None  INITIAL            None       None   \n",
       "4  WORK_IN_PROGRESS           None  INITIAL            None       None   \n",
       "\n",
       "  language followUpTask  isCommaMode  isReferenceTask  isMultipleChoice  \\\n",
       "0     None         None          NaN                0               NaN   \n",
       "1     None         None          NaN                0               NaN   \n",
       "2     None         None          NaN                0               NaN   \n",
       "3     None         None          NaN                0               NaN   \n",
       "4     None         None          NaN                0               NaN   \n",
       "\n",
       "        type    id  createdTime_y  \n",
       "0  HIGHLIGHT  2693  1534434704301  \n",
       "1  HIGHLIGHT  1589  1532335779747  \n",
       "2  HIGHLIGHT  2516  1532336772750  \n",
       "3  HIGHLIGHT   927  1559076209311  \n",
       "4  HIGHLIGHT   425  1555145282057  "
      ]
     },
     "execution_count": 10,
     "metadata": {},
     "output_type": "execute_result"
    }
   ],
   "source": [
    "df_latest_task_versions.head()"
   ]
  },
  {
   "cell_type": "code",
   "execution_count": 11,
   "id": "ab1cb8b7-4163-445e-8b30-e1e233224d23",
   "metadata": {},
   "outputs": [
    {
     "data": {
      "text/html": [
       "<div>\n",
       "<style scoped>\n",
       "    .dataframe tbody tr th:only-of-type {\n",
       "        vertical-align: middle;\n",
       "    }\n",
       "\n",
       "    .dataframe tbody tr th {\n",
       "        vertical-align: top;\n",
       "    }\n",
       "\n",
       "    .dataframe thead th {\n",
       "        text-align: right;\n",
       "    }\n",
       "</style>\n",
       "<table border=\"1\" class=\"dataframe\">\n",
       "  <thead>\n",
       "    <tr style=\"text-align: right;\">\n",
       "      <th></th>\n",
       "      <th>id</th>\n",
       "      <th>type</th>\n",
       "      <th>description</th>\n",
       "      <th>solution</th>\n",
       "      <th>sampleSolutions</th>\n",
       "      <th>language</th>\n",
       "      <th>tenant</th>\n",
       "      <th>topic</th>\n",
       "      <th>context</th>\n",
       "    </tr>\n",
       "  </thead>\n",
       "  <tbody>\n",
       "    <tr>\n",
       "      <th>0</th>\n",
       "      <td>PT1-11a-restored</td>\n",
       "      <td>HIGHLIGHT</td>\n",
       "      <td>&lt;p&gt;&lt;strong&gt;Woran erkennst du, dass die Hexe im...</td>\n",
       "      <td>NaN</td>\n",
       "      <td>NaN</td>\n",
       "      <td>NaN</td>\n",
       "      <td>NaN</td>\n",
       "      <td>NaN</td>\n",
       "      <td>NaN</td>\n",
       "    </tr>\n",
       "    <tr>\n",
       "      <th>1</th>\n",
       "      <td>7kQh-veLQfOanjx1QkhbKx</td>\n",
       "      <td>HIGHLIGHT</td>\n",
       "      <td>&lt;p&gt;&lt;strong&gt;Der nachfolgende Text ist jeweils d...</td>\n",
       "      <td>NaN</td>\n",
       "      <td>NaN</td>\n",
       "      <td>NaN</td>\n",
       "      <td>NaN</td>\n",
       "      <td>NaN</td>\n",
       "      <td>NaN</td>\n",
       "    </tr>\n",
       "    <tr>\n",
       "      <th>2</th>\n",
       "      <td>d7SwsoVyAUP80fMioyhxzH</td>\n",
       "      <td>HIGHLIGHT</td>\n",
       "      <td>&lt;p&gt;&lt;strong&gt;Markiere die drei Konkretisierungen...</td>\n",
       "      <td>NaN</td>\n",
       "      <td>NaN</td>\n",
       "      <td>NaN</td>\n",
       "      <td>NaN</td>\n",
       "      <td>NaN</td>\n",
       "      <td>NaN</td>\n",
       "    </tr>\n",
       "    <tr>\n",
       "      <th>3</th>\n",
       "      <td>4R58yTMxw8b5CK1F72eh0W</td>\n",
       "      <td>HIGHLIGHT</td>\n",
       "      <td>&lt;p&gt;&lt;strong&gt;Markiere im folgenden Text alle Adj...</td>\n",
       "      <td>NaN</td>\n",
       "      <td>NaN</td>\n",
       "      <td>NaN</td>\n",
       "      <td>NaN</td>\n",
       "      <td>NaN</td>\n",
       "      <td>NaN</td>\n",
       "    </tr>\n",
       "    <tr>\n",
       "      <th>4</th>\n",
       "      <td>2UiRhzBKL217r4pFiCA6Ek</td>\n",
       "      <td>HIGHLIGHT</td>\n",
       "      <td>&lt;p&gt;Bestimme, welche Fehlerart bei den markiert...</td>\n",
       "      <td>NaN</td>\n",
       "      <td>NaN</td>\n",
       "      <td>NaN</td>\n",
       "      <td>NaN</td>\n",
       "      <td>NaN</td>\n",
       "      <td>NaN</td>\n",
       "    </tr>\n",
       "  </tbody>\n",
       "</table>\n",
       "</div>"
      ],
      "text/plain": [
       "                       id       type  \\\n",
       "0        PT1-11a-restored  HIGHLIGHT   \n",
       "1  7kQh-veLQfOanjx1QkhbKx  HIGHLIGHT   \n",
       "2  d7SwsoVyAUP80fMioyhxzH  HIGHLIGHT   \n",
       "3  4R58yTMxw8b5CK1F72eh0W  HIGHLIGHT   \n",
       "4  2UiRhzBKL217r4pFiCA6Ek  HIGHLIGHT   \n",
       "\n",
       "                                         description solution sampleSolutions  \\\n",
       "0  <p><strong>Woran erkennst du, dass die Hexe im...      NaN             NaN   \n",
       "1  <p><strong>Der nachfolgende Text ist jeweils d...      NaN             NaN   \n",
       "2  <p><strong>Markiere die drei Konkretisierungen...      NaN             NaN   \n",
       "3  <p><strong>Markiere im folgenden Text alle Adj...      NaN             NaN   \n",
       "4  <p>Bestimme, welche Fehlerart bei den markiert...      NaN             NaN   \n",
       "\n",
       "  language tenant topic context  \n",
       "0      NaN    NaN   NaN     NaN  \n",
       "1      NaN    NaN   NaN     NaN  \n",
       "2      NaN    NaN   NaN     NaN  \n",
       "3      NaN    NaN   NaN     NaN  \n",
       "4      NaN    NaN   NaN     NaN  "
      ]
     },
     "execution_count": 11,
     "metadata": {},
     "output_type": "execute_result"
    }
   ],
   "source": [
    "# Get titles and descriptions of last versions of tasks \n",
    "df = df_latest_task_versions[[\"title\", \"content\"]]\n",
    "df = pd.concat([df, df[\"content\"].apply(json.loads).apply(pd.Series)], axis=1)\n",
    "columns_to_keep = [\"id\", \"type\", \"description\", \"solution\", \"sampleSolutions\", \"language\", \"tenant\", \"topic\", \"context\"]\n",
    "df_content = df[columns_to_keep]\n",
    "df_content.head()"
   ]
  },
  {
   "cell_type": "code",
   "execution_count": 12,
   "id": "faf39738-c80e-4e7f-a8ad-c704aa0e1c75",
   "metadata": {},
   "outputs": [
    {
     "data": {
      "text/html": [
       "<div>\n",
       "<style scoped>\n",
       "    .dataframe tbody tr th:only-of-type {\n",
       "        vertical-align: middle;\n",
       "    }\n",
       "\n",
       "    .dataframe tbody tr th {\n",
       "        vertical-align: top;\n",
       "    }\n",
       "\n",
       "    .dataframe thead th {\n",
       "        text-align: right;\n",
       "    }\n",
       "</style>\n",
       "<table border=\"1\" class=\"dataframe\">\n",
       "  <thead>\n",
       "    <tr style=\"text-align: right;\">\n",
       "      <th></th>\n",
       "      <th>tenant_name</th>\n",
       "    </tr>\n",
       "  </thead>\n",
       "  <tbody>\n",
       "    <tr>\n",
       "      <th>0</th>\n",
       "      <td>NaN</td>\n",
       "    </tr>\n",
       "    <tr>\n",
       "      <th>1</th>\n",
       "      <td>NaN</td>\n",
       "    </tr>\n",
       "    <tr>\n",
       "      <th>2</th>\n",
       "      <td>NaN</td>\n",
       "    </tr>\n",
       "    <tr>\n",
       "      <th>3</th>\n",
       "      <td>NaN</td>\n",
       "    </tr>\n",
       "    <tr>\n",
       "      <th>4</th>\n",
       "      <td>NaN</td>\n",
       "    </tr>\n",
       "  </tbody>\n",
       "</table>\n",
       "</div>"
      ],
      "text/plain": [
       "  tenant_name\n",
       "0         NaN\n",
       "1         NaN\n",
       "2         NaN\n",
       "3         NaN\n",
       "4         NaN"
      ]
     },
     "execution_count": 12,
     "metadata": {},
     "output_type": "execute_result"
    }
   ],
   "source": [
    "tenants = df_content[\"tenant\"].apply(pd.Series)[[\"name\"]]\n",
    "tenants.rename(columns={\"name\":\"tenant_name\"}, inplace=True)\n",
    "df_content = pd.concat([df_content, tenants], axis=1)"
   ]
  },
  {
   "cell_type": "code",
   "execution_count": 14,
   "id": "3ec57dad-96ad-4c78-8742-51ca07ec3251",
   "metadata": {},
   "outputs": [
    {
     "data": {
      "text/html": [
       "<div>\n",
       "<style scoped>\n",
       "    .dataframe tbody tr th:only-of-type {\n",
       "        vertical-align: middle;\n",
       "    }\n",
       "\n",
       "    .dataframe tbody tr th {\n",
       "        vertical-align: top;\n",
       "    }\n",
       "\n",
       "    .dataframe thead th {\n",
       "        text-align: right;\n",
       "    }\n",
       "</style>\n",
       "<table border=\"1\" class=\"dataframe\">\n",
       "  <thead>\n",
       "    <tr style=\"text-align: right;\">\n",
       "      <th></th>\n",
       "      <th>id</th>\n",
       "      <th>type</th>\n",
       "      <th>description</th>\n",
       "      <th>solution</th>\n",
       "      <th>sampleSolutions</th>\n",
       "      <th>language</th>\n",
       "      <th>tenant</th>\n",
       "      <th>topic</th>\n",
       "      <th>context</th>\n",
       "      <th>tenant_name</th>\n",
       "    </tr>\n",
       "  </thead>\n",
       "  <tbody>\n",
       "    <tr>\n",
       "      <th>0</th>\n",
       "      <td>PT1-11a-restored</td>\n",
       "      <td>HIGHLIGHT</td>\n",
       "      <td>&lt;p&gt;&lt;strong&gt;Woran erkennst du, dass die Hexe im...</td>\n",
       "      <td>NaN</td>\n",
       "      <td>NaN</td>\n",
       "      <td>NaN</td>\n",
       "      <td>NaN</td>\n",
       "      <td>NaN</td>\n",
       "      <td>NaN</td>\n",
       "      <td>NaN</td>\n",
       "    </tr>\n",
       "    <tr>\n",
       "      <th>1</th>\n",
       "      <td>7kQh-veLQfOanjx1QkhbKx</td>\n",
       "      <td>HIGHLIGHT</td>\n",
       "      <td>&lt;p&gt;&lt;strong&gt;Der nachfolgende Text ist jeweils d...</td>\n",
       "      <td>NaN</td>\n",
       "      <td>NaN</td>\n",
       "      <td>NaN</td>\n",
       "      <td>NaN</td>\n",
       "      <td>NaN</td>\n",
       "      <td>NaN</td>\n",
       "      <td>NaN</td>\n",
       "    </tr>\n",
       "    <tr>\n",
       "      <th>2</th>\n",
       "      <td>d7SwsoVyAUP80fMioyhxzH</td>\n",
       "      <td>HIGHLIGHT</td>\n",
       "      <td>&lt;p&gt;&lt;strong&gt;Markiere die drei Konkretisierungen...</td>\n",
       "      <td>NaN</td>\n",
       "      <td>NaN</td>\n",
       "      <td>NaN</td>\n",
       "      <td>NaN</td>\n",
       "      <td>NaN</td>\n",
       "      <td>NaN</td>\n",
       "      <td>NaN</td>\n",
       "    </tr>\n",
       "    <tr>\n",
       "      <th>3</th>\n",
       "      <td>4R58yTMxw8b5CK1F72eh0W</td>\n",
       "      <td>HIGHLIGHT</td>\n",
       "      <td>&lt;p&gt;&lt;strong&gt;Markiere im folgenden Text alle Adj...</td>\n",
       "      <td>NaN</td>\n",
       "      <td>NaN</td>\n",
       "      <td>NaN</td>\n",
       "      <td>NaN</td>\n",
       "      <td>NaN</td>\n",
       "      <td>NaN</td>\n",
       "      <td>NaN</td>\n",
       "    </tr>\n",
       "    <tr>\n",
       "      <th>4</th>\n",
       "      <td>2UiRhzBKL217r4pFiCA6Ek</td>\n",
       "      <td>HIGHLIGHT</td>\n",
       "      <td>&lt;p&gt;Bestimme, welche Fehlerart bei den markiert...</td>\n",
       "      <td>NaN</td>\n",
       "      <td>NaN</td>\n",
       "      <td>NaN</td>\n",
       "      <td>NaN</td>\n",
       "      <td>NaN</td>\n",
       "      <td>NaN</td>\n",
       "      <td>NaN</td>\n",
       "    </tr>\n",
       "  </tbody>\n",
       "</table>\n",
       "</div>"
      ],
      "text/plain": [
       "                       id       type  \\\n",
       "0        PT1-11a-restored  HIGHLIGHT   \n",
       "1  7kQh-veLQfOanjx1QkhbKx  HIGHLIGHT   \n",
       "2  d7SwsoVyAUP80fMioyhxzH  HIGHLIGHT   \n",
       "3  4R58yTMxw8b5CK1F72eh0W  HIGHLIGHT   \n",
       "4  2UiRhzBKL217r4pFiCA6Ek  HIGHLIGHT   \n",
       "\n",
       "                                         description solution sampleSolutions  \\\n",
       "0  <p><strong>Woran erkennst du, dass die Hexe im...      NaN             NaN   \n",
       "1  <p><strong>Der nachfolgende Text ist jeweils d...      NaN             NaN   \n",
       "2  <p><strong>Markiere die drei Konkretisierungen...      NaN             NaN   \n",
       "3  <p><strong>Markiere im folgenden Text alle Adj...      NaN             NaN   \n",
       "4  <p>Bestimme, welche Fehlerart bei den markiert...      NaN             NaN   \n",
       "\n",
       "  language tenant topic context tenant_name  \n",
       "0      NaN    NaN   NaN     NaN         NaN  \n",
       "1      NaN    NaN   NaN     NaN         NaN  \n",
       "2      NaN    NaN   NaN     NaN         NaN  \n",
       "3      NaN    NaN   NaN     NaN         NaN  \n",
       "4      NaN    NaN   NaN     NaN         NaN  "
      ]
     },
     "execution_count": 14,
     "metadata": {},
     "output_type": "execute_result"
    }
   ],
   "source": [
    "df_content.head()"
   ]
  },
  {
   "cell_type": "code",
   "execution_count": 15,
   "id": "383d39e5-37bd-4aab-aa6e-5c3c6758c256",
   "metadata": {},
   "outputs": [],
   "source": [
    "df_content[\"type\"] = df_content[\"type\"].apply(lambda t: t if t==\"OPEN\" else \"OTHER\")"
   ]
  },
  {
   "cell_type": "code",
   "execution_count": 17,
   "id": "ff4167d8-7b5f-4526-8c65-cb91dc49bfd9",
   "metadata": {},
   "outputs": [
    {
     "data": {
      "image/png": "[encoded data removed]",
      "text/plain": [
       "<Figure size 1200x600 with 1 Axes>"
      ]
     },
     "metadata": {},
     "output_type": "display_data"
    }
   ],
   "source": [
    "# Distribution of tasks' types among tenants \n",
    "ax = sns.histplot(data=df_content,\n",
    "                  x=\"tenant_name\",\n",
    "                  hue=\"type\",\n",
    "                  multiple=\"stack\", \n",
    "                  palette=[\"tab:blue\", \"red\"],\n",
    "                 )\n",
    "ax.set_yscale(\"log\")\n",
    "ax.set_xticklabels('')\n",
    "ax.set_xlabel(\"Tenants\")\n",
    "ax.get_figure().savefig(\"figures/types_tenants.png\", bbox_inches=\"tight\") \n",
    "plt.show()"
   ]
  },
  {
   "cell_type": "markdown",
   "id": "41bfac92-1fbe-43c4-964e-c2fc88ec83e0",
   "metadata": {},
   "source": [
    "# OPEN tasks"
   ]
  },
  {
   "cell_type": "code",
   "execution_count": 20,
   "id": "f044892e-0b5a-49a3-9d9b-1bf686f78389",
   "metadata": {},
   "outputs": [],
   "source": [
    "df_open = df_content[df_content[\"type\"] == \"OPEN\"]"
   ]
  },
  {
   "cell_type": "code",
   "execution_count": 21,
   "id": "4f65dedf-2df0-4550-8726-8a5981626658",
   "metadata": {},
   "outputs": [
    {
     "data": {
      "text/plain": [
       "array([nan, 'EN', 'FR', 'DE', 'IT', 'DE_DE'], dtype=object)"
      ]
     },
     "execution_count": 21,
     "metadata": {},
     "output_type": "execute_result"
    }
   ],
   "source": [
    "df_open[\"language\"].unique()"
   ]
  },
  {
   "cell_type": "code",
   "execution_count": 22,
   "id": "b1574a90-a54c-40e7-a9b0-196f7e97fe7a",
   "metadata": {},
   "outputs": [
    {
     "name": "stdout",
     "output_type": "stream",
     "text": [
      "74.25%\n"
     ]
    }
   ],
   "source": [
    "# How many tasks with language specified ? \n",
    "L = len(df_open)\n",
    "print(\"{:.2f}%\".format(len(df_open[\"language\"].dropna()) / L * 100))"
   ]
  },
  {
   "cell_type": "code",
   "execution_count": 24,
   "id": "2b54d875-64d7-4825-9906-f0ae22fd4705",
   "metadata": {},
   "outputs": [
    {
     "name": "stdout",
     "output_type": "stream",
     "text": [
      "Nan:  25.75%\n"
     ]
    }
   ],
   "source": [
    "l = len(df_open[df_open[\"language\"].isna()])\n",
    "nan_perc = l/L\n",
    "print(\"Nan:  {:.2f}%\".format(nan_perc*100))"
   ]
  },
  {
   "cell_type": "code",
   "execution_count": 25,
   "id": "6aa746df-b864-4cca-8ffa-083277e0900f",
   "metadata": {},
   "outputs": [
    {
     "data": {
      "image/png": "[encoded data removed]",
      "text/plain": [
       "<Figure size 1200x600 with 1 Axes>"
      ]
     },
     "metadata": {},
     "output_type": "display_data"
    }
   ],
   "source": [
    "df_open[\"language\"] = df_open[\"language\"].apply(lambda l: \"NaN\" if str(l) == \"nan\" else l)\n",
    "df_open[\"language\"] = df_open[\"language\"].apply(lambda l: \"DE\" if l == \"DE_DE\" else l)\n",
    "\n",
    "ax = sns.histplot(data=df_open,\n",
    "                  x=\"language\",\n",
    "                  shrink=0.8)\n",
    "# title = plt.title(\"Distribution of languages of the OPEN tasks.\")\n",
    "ax.get_figure().savefig(\"figures/languages_distribution.png\", bbox_inches=\"tight\") "
   ]
  },
  {
   "cell_type": "code",
   "execution_count": 26,
   "id": "065f2a3f-b105-400a-b1d1-a7f04fb26f89",
   "metadata": {},
   "outputs": [
    {
     "name": "stdout",
     "output_type": "stream",
     "text": [
      "66.62%\n"
     ]
    }
   ],
   "source": [
    "# Portion of DE/EN tasks\n",
    "print(\"{:.2f}%\".format(len(df_open[df_open[\"language\"].isin([\"DE\", \"EN\"])]) / L * 100))"
   ]
  },
  {
   "cell_type": "code",
   "execution_count": 27,
   "id": "18e351e9-1c92-4be3-bd95-2044db60b048",
   "metadata": {},
   "outputs": [
    {
     "name": "stdout",
     "output_type": "stream",
     "text": [
      "0.00%\n"
     ]
    }
   ],
   "source": [
    "# How many tasks with solution ?\n",
    "print(\"{:.2f}%\".format(len(df_open[\"solution\"].dropna()) / L * 100))"
   ]
  },
  {
   "cell_type": "code",
   "execution_count": 28,
   "id": "a6489225-ce01-4701-9897-0613c6a1d305",
   "metadata": {},
   "outputs": [
    {
     "name": "stdout",
     "output_type": "stream",
     "text": [
      "27.29%\n"
     ]
    }
   ],
   "source": [
    "# How many tasks with topic specified ? \n",
    "print(\"{:.2f}%\".format(len(df_open[\"topic\"].dropna()) / L * 100))"
   ]
  },
  {
   "cell_type": "code",
   "execution_count": 29,
   "id": "8826a56c-4558-48fe-a6fd-f42d3e361be2",
   "metadata": {},
   "outputs": [
    {
     "name": "stdout",
     "output_type": "stream",
     "text": [
      "96.68%\n"
     ]
    }
   ],
   "source": [
    "# How many tasks with tenant specified ? \n",
    "print(\"{:.2f}%\".format(len(df_open[\"tenant\"].dropna()) / L * 100))"
   ]
  },
  {
   "cell_type": "markdown",
   "id": "74b8dacf-4fe4-495b-b24b-407984b53fe6",
   "metadata": {},
   "source": [
    "# Content"
   ]
  },
  {
   "cell_type": "code",
   "execution_count": 30,
   "id": "8b73e4c7-dc37-46a6-906a-357073f0ee98",
   "metadata": {},
   "outputs": [
    {
     "data": {
      "text/html": [
       "<div>\n",
       "<style scoped>\n",
       "    .dataframe tbody tr th:only-of-type {\n",
       "        vertical-align: middle;\n",
       "    }\n",
       "\n",
       "    .dataframe tbody tr th {\n",
       "        vertical-align: top;\n",
       "    }\n",
       "\n",
       "    .dataframe thead th {\n",
       "        text-align: right;\n",
       "    }\n",
       "</style>\n",
       "<table border=\"1\" class=\"dataframe\">\n",
       "  <thead>\n",
       "    <tr style=\"text-align: right;\">\n",
       "      <th></th>\n",
       "      <th>id</th>\n",
       "      <th>type</th>\n",
       "      <th>description</th>\n",
       "      <th>solution</th>\n",
       "      <th>sampleSolutions</th>\n",
       "      <th>language</th>\n",
       "      <th>tenant</th>\n",
       "      <th>topic</th>\n",
       "      <th>context</th>\n",
       "      <th>tenant_name</th>\n",
       "    </tr>\n",
       "  </thead>\n",
       "  <tbody>\n",
       "    <tr>\n",
       "      <th>16004</th>\n",
       "      <td>4HNL62l.47Ta0sHqrOzKoF</td>\n",
       "      <td>OPEN</td>\n",
       "      <td>&lt;p&gt;Was hat dir besonders gut gefallen? &lt;/p&gt;</td>\n",
       "      <td>NaN</td>\n",
       "      <td>[]</td>\n",
       "      <td>NaN</td>\n",
       "      <td>NaN</td>\n",
       "      <td>NaN</td>\n",
       "      <td>NaN</td>\n",
       "      <td>NaN</td>\n",
       "    </tr>\n",
       "    <tr>\n",
       "      <th>16005</th>\n",
       "      <td>aCF0hfb1kQEayDOqwEp0s1</td>\n",
       "      <td>OPEN</td>\n",
       "      <td>&lt;p&gt;Was k&amp;ouml;nnte verbessert werden?&lt;/p&gt;</td>\n",
       "      <td>NaN</td>\n",
       "      <td>[]</td>\n",
       "      <td>NaN</td>\n",
       "      <td>NaN</td>\n",
       "      <td>NaN</td>\n",
       "      <td>NaN</td>\n",
       "      <td>NaN</td>\n",
       "    </tr>\n",
       "    <tr>\n",
       "      <th>16006</th>\n",
       "      <td>dCZ4cWixQrM9ovYwc-TP.z</td>\n",
       "      <td>OPEN</td>\n",
       "      <td>&lt;p&gt;Welche wichtigen Features fehlen in unserer...</td>\n",
       "      <td>NaN</td>\n",
       "      <td>[]</td>\n",
       "      <td>NaN</td>\n",
       "      <td>NaN</td>\n",
       "      <td>NaN</td>\n",
       "      <td>NaN</td>\n",
       "      <td>NaN</td>\n",
       "    </tr>\n",
       "    <tr>\n",
       "      <th>16007</th>\n",
       "      <td>8iXTTKYbQ.Hbd8daUV8dcQ</td>\n",
       "      <td>OPEN</td>\n",
       "      <td>&lt;p&gt;Was hat Ihnen besonders gut gefallen?&lt;/p&gt;</td>\n",
       "      <td>NaN</td>\n",
       "      <td>[]</td>\n",
       "      <td>NaN</td>\n",
       "      <td>NaN</td>\n",
       "      <td>NaN</td>\n",
       "      <td>NaN</td>\n",
       "      <td>NaN</td>\n",
       "    </tr>\n",
       "    <tr>\n",
       "      <th>16008</th>\n",
       "      <td>eEFZ3WW6kHx9rb9tdtx0AZ</td>\n",
       "      <td>OPEN</td>\n",
       "      <td>&lt;p&gt;Was k&amp;ouml;nnte verbessert werden?&lt;/p&gt;</td>\n",
       "      <td>NaN</td>\n",
       "      <td>[]</td>\n",
       "      <td>NaN</td>\n",
       "      <td>NaN</td>\n",
       "      <td>NaN</td>\n",
       "      <td>NaN</td>\n",
       "      <td>NaN</td>\n",
       "    </tr>\n",
       "  </tbody>\n",
       "</table>\n",
       "</div>"
      ],
      "text/plain": [
       "                           id  type  \\\n",
       "16004  4HNL62l.47Ta0sHqrOzKoF  OPEN   \n",
       "16005  aCF0hfb1kQEayDOqwEp0s1  OPEN   \n",
       "16006  dCZ4cWixQrM9ovYwc-TP.z  OPEN   \n",
       "16007  8iXTTKYbQ.Hbd8daUV8dcQ  OPEN   \n",
       "16008  eEFZ3WW6kHx9rb9tdtx0AZ  OPEN   \n",
       "\n",
       "                                             description solution  \\\n",
       "16004        <p>Was hat dir besonders gut gefallen? </p>      NaN   \n",
       "16005          <p>Was k&ouml;nnte verbessert werden?</p>      NaN   \n",
       "16006  <p>Welche wichtigen Features fehlen in unserer...      NaN   \n",
       "16007       <p>Was hat Ihnen besonders gut gefallen?</p>      NaN   \n",
       "16008          <p>Was k&ouml;nnte verbessert werden?</p>      NaN   \n",
       "\n",
       "      sampleSolutions language tenant topic context tenant_name  \n",
       "16004              []      NaN    NaN   NaN     NaN         NaN  \n",
       "16005              []      NaN    NaN   NaN     NaN         NaN  \n",
       "16006              []      NaN    NaN   NaN     NaN         NaN  \n",
       "16007              []      NaN    NaN   NaN     NaN         NaN  \n",
       "16008              []      NaN    NaN   NaN     NaN         NaN  "
      ]
     },
     "execution_count": 30,
     "metadata": {},
     "output_type": "execute_result"
    }
   ],
   "source": [
    "df_open.head()"
   ]
  },
  {
   "cell_type": "code",
   "execution_count": 31,
   "id": "68c5c854-fbc0-4949-924b-20299a3998f9",
   "metadata": {},
   "outputs": [],
   "source": [
    "# Lengths of descriptions => need pre-processing ? cleaning html tags \n",
    "clean_descriptions = df_open[[\"id\", \"description\", \"language\", \"context\", \"tenant_name\"]]\n",
    "clean_descriptions.rename(columns={\"id\":\"taskId\"}, inplace=True) \n",
    "clean_descriptions[\"description\"] = clean_descriptions[\"description\"].apply(lambda str: BeautifulSoup(str, 'html.parser').get_text().strip())\n",
    "clean_descriptions = pd.DataFrame(clean_descriptions.reset_index(drop=True))\n",
    "clean_descriptions[\"word_count\"] = clean_descriptions[\"description\"].apply(lambda s: len(s.split()))\n",
    "clean_descriptions.sort_values(by=\"word_count\", inplace=True)\n",
    "L = len(clean_descriptions)"
   ]
  },
  {
   "cell_type": "code",
   "execution_count": 32,
   "id": "5126a87f-ee2b-4636-a8bb-baa4eee6c1e6",
   "metadata": {},
   "outputs": [
    {
     "data": {
      "text/html": [
       "<div>\n",
       "<style scoped>\n",
       "    .dataframe tbody tr th:only-of-type {\n",
       "        vertical-align: middle;\n",
       "    }\n",
       "\n",
       "    .dataframe tbody tr th {\n",
       "        vertical-align: top;\n",
       "    }\n",
       "\n",
       "    .dataframe thead th {\n",
       "        text-align: right;\n",
       "    }\n",
       "</style>\n",
       "<table border=\"1\" class=\"dataframe\">\n",
       "  <thead>\n",
       "    <tr style=\"text-align: right;\">\n",
       "      <th></th>\n",
       "      <th>taskId</th>\n",
       "      <th>description</th>\n",
       "      <th>language</th>\n",
       "      <th>context</th>\n",
       "      <th>tenant_name</th>\n",
       "      <th>word_count</th>\n",
       "    </tr>\n",
       "  </thead>\n",
       "  <tbody>\n",
       "    <tr>\n",
       "      <th>653</th>\n",
       "      <td>2h4Cy3wj0Dz7xYBXEhBMcf</td>\n",
       "      <td></td>\n",
       "      <td>NaN</td>\n",
       "      <td>NaN</td>\n",
       "      <td>connectsolutions_en</td>\n",
       "      <td>0</td>\n",
       "    </tr>\n",
       "    <tr>\n",
       "      <th>898</th>\n",
       "      <td>3P6AbX1HlCU6uPMIaApL8H</td>\n",
       "      <td></td>\n",
       "      <td>EN</td>\n",
       "      <td>NaN</td>\n",
       "      <td>Playground</td>\n",
       "      <td>0</td>\n",
       "    </tr>\n",
       "    <tr>\n",
       "      <th>2286</th>\n",
       "      <td>rtjB7FDzEm5DhSkOkqLF5</td>\n",
       "      <td></td>\n",
       "      <td>EN</td>\n",
       "      <td>NaN</td>\n",
       "      <td>demo</td>\n",
       "      <td>0</td>\n",
       "    </tr>\n",
       "    <tr>\n",
       "      <th>2287</th>\n",
       "      <td>7zfPuYc7lDJ6zTSDsSpgEM</td>\n",
       "      <td></td>\n",
       "      <td>EN</td>\n",
       "      <td>NaN</td>\n",
       "      <td>demo</td>\n",
       "      <td>0</td>\n",
       "    </tr>\n",
       "    <tr>\n",
       "      <th>2292</th>\n",
       "      <td>9NO7tQxi7qD8EWU5MkqeRk</td>\n",
       "      <td></td>\n",
       "      <td>EN</td>\n",
       "      <td>NaN</td>\n",
       "      <td>Playground</td>\n",
       "      <td>0</td>\n",
       "    </tr>\n",
       "  </tbody>\n",
       "</table>\n",
       "</div>"
      ],
      "text/plain": [
       "                      taskId description language context  \\\n",
       "653   2h4Cy3wj0Dz7xYBXEhBMcf                  NaN     NaN   \n",
       "898   3P6AbX1HlCU6uPMIaApL8H                   EN     NaN   \n",
       "2286   rtjB7FDzEm5DhSkOkqLF5                   EN     NaN   \n",
       "2287  7zfPuYc7lDJ6zTSDsSpgEM                   EN     NaN   \n",
       "2292  9NO7tQxi7qD8EWU5MkqeRk                   EN     NaN   \n",
       "\n",
       "              tenant_name  word_count  \n",
       "653   connectsolutions_en           0  \n",
       "898            Playground           0  \n",
       "2286                 demo           0  \n",
       "2287                 demo           0  \n",
       "2292           Playground           0  "
      ]
     },
     "execution_count": 32,
     "metadata": {},
     "output_type": "execute_result"
    }
   ],
   "source": [
    "clean_descriptions.head()"
   ]
  },
  {
   "cell_type": "code",
   "execution_count": 33,
   "id": "9ce17098-edc4-4c3d-91b2-c2d213a8cf96",
   "metadata": {},
   "outputs": [],
   "source": [
    "clean_descriptions[~clean_descriptions[\"language\"].isin([\"FR\", \"IT\"])].to_csv(\"data/EDA_result.csv\", index_label=False)"
   ]
  },
  {
   "cell_type": "code",
   "execution_count": 34,
   "id": "24b8379b-90ef-45b8-89d5-5830404f9db2",
   "metadata": {},
   "outputs": [],
   "source": [
    "df_both = clean_descriptions[clean_descriptions[\"language\"].isin([\"DE\", \"EN\"])]"
   ]
  },
  {
   "cell_type": "code",
   "execution_count": 39,
   "id": "fee1fc66-d188-4c5b-956d-2c0f623eec57",
   "metadata": {},
   "outputs": [],
   "source": [
    "df_both = df_both.sort_values(by=\"language\")"
   ]
  },
  {
   "cell_type": "code",
   "execution_count": 40,
   "id": "1af10daf-1c23-407c-9d5e-e55fbbeafd72",
   "metadata": {},
   "outputs": [
    {
     "data": {
      "image/png": "[encoded data removed]",
      "text/plain": [
       "<Figure size 1200x500 with 1 Axes>"
      ]
     },
     "metadata": {},
     "output_type": "display_data"
    }
   ],
   "source": [
    "fig, ax = plt.subplots(1, 1, figsize=(12, 5))\n",
    "\n",
    "sns.histplot(data=df_both, x=\"word_count\", hue=\"language\", kde=True, stat=\"density\", palette=[\"tab:blue\", \"tab:orange\"])\n",
    "ax.set_xscale(\"log\")\n",
    "\n",
    "fig.savefig(\"figures/description_lengths_1\", bbox_inches=\"tight\") "
   ]
  },
  {
   "cell_type": "code",
   "execution_count": 36,
   "id": "ca858d1f-4b96-47c7-a3a5-a586e4f69075",
   "metadata": {},
   "outputs": [
    {
     "name": "stdout",
     "output_type": "stream",
     "text": [
      "Empty descriptions: 5.60%\n",
      "Descriptions of < 5 words: 7.38%\n",
      "Descriptions of < 10 words: 23.20%\n",
      "Descriptions of > 100 words: 0.66%\n",
      "Descrishaggy & daddyptions of > 200 words: 0.35%\n"
     ]
    }
   ],
   "source": [
    "# How many empty descriptions ?\n",
    "empty = df_both[df_both[\"word_count\"] == 0]\n",
    "print(\"Empty descriptions: {:.2f}%\".format(len(empty) / L * 100))\n",
    "\n",
    "# How many short descriptions ?\n",
    "tail = df_both[df_both[\"word_count\"] < 5]\n",
    "print(\"Descriptions of < 5 words: {:.2f}%\".format(len(tail) / L * 100))\n",
    "\n",
    "# How many short descriptions ?\n",
    "tail = df_both[df_both[\"word_count\"] < 10]\n",
    "print(\"Descriptions of < 10 words: {:.2f}%\".format(len(tail) / L * 100))\n",
    "\n",
    "# How heavy is the tail ?\n",
    "tail = df_both[df_both[\"word_count\"] > 100]\n",
    "print(\"Descriptions of > 100 words: {:.2f}%\".format(len(tail) / L * 100))\n",
    "\n",
    "# How heavy is the tail ?\n",
    "tail = df_both[df_both[\"word_count\"] > 200]\n",
    "print(\"Descrishaggy & daddyptions of > 200 words: {:.2f}%\".format(len(tail) / L * 100))"
   ]
  },
  {
   "cell_type": "markdown",
   "id": "9568b2e6-49f4-4ad3-bbaa-6cdd88c3b4ba",
   "metadata": {},
   "source": [
    "> The distribution of the length of task description (in number of words) is heavy-tailed. Descriptions of more than 100 words count for less than 1% of the dataset and so can be discarded. Empty descriptions however count for almost 10% of the dataset.\n",
    "> More than half of the dataset of English and German tasks have short descriptions, of less than 10 words."
   ]
  },
  {
   "cell_type": "markdown",
   "id": "0ac8160d-a8db-4ea8-862d-33febd8877ba",
   "metadata": {},
   "source": [
    "<hr>\n",
    "\n",
    "# Aspects"
   ]
  },
  {
   "cell_type": "code",
   "execution_count": 60,
   "id": "b1996572-a749-40e6-80eb-7b31e58fe0cd",
   "metadata": {},
   "outputs": [
    {
     "data": {
      "text/html": [
       "<div>\n",
       "<style scoped>\n",
       "    .dataframe tbody tr th:only-of-type {\n",
       "        vertical-align: middle;\n",
       "    }\n",
       "\n",
       "    .dataframe tbody tr th {\n",
       "        vertical-align: top;\n",
       "    }\n",
       "\n",
       "    .dataframe thead th {\n",
       "        text-align: right;\n",
       "    }\n",
       "</style>\n",
       "<table border=\"1\" class=\"dataframe\">\n",
       "  <thead>\n",
       "    <tr style=\"text-align: right;\">\n",
       "      <th></th>\n",
       "      <th>aspectId</th>\n",
       "      <th>description</th>\n",
       "      <th>type</th>\n",
       "      <th>groupId</th>\n",
       "      <th>categoryId</th>\n",
       "    </tr>\n",
       "  </thead>\n",
       "  <tbody>\n",
       "    <tr>\n",
       "      <th>0</th>\n",
       "      <td>1</td>\n",
       "      <td>To enable them on this domain</td>\n",
       "      <td>CONCEPT</td>\n",
       "      <td>1067.0</td>\n",
       "      <td>NaN</td>\n",
       "    </tr>\n",
       "    <tr>\n",
       "      <th>1</th>\n",
       "      <td>2</td>\n",
       "      <td>To enable competences for smoke tests</td>\n",
       "      <td>CONCEPT</td>\n",
       "      <td>48.0</td>\n",
       "      <td>NaN</td>\n",
       "    </tr>\n",
       "    <tr>\n",
       "      <th>2</th>\n",
       "      <td>4</td>\n",
       "      <td>Die Antwort wurde in einem Satz gegeben.</td>\n",
       "      <td>CONCEPT</td>\n",
       "      <td>674.0</td>\n",
       "      <td>NaN</td>\n",
       "    </tr>\n",
       "    <tr>\n",
       "      <th>3</th>\n",
       "      <td>17</td>\n",
       "      <td>Es wurde erkannt, dass die Schafe vorzeitig in...</td>\n",
       "      <td>CONCEPT</td>\n",
       "      <td>95.0</td>\n",
       "      <td>NaN</td>\n",
       "    </tr>\n",
       "    <tr>\n",
       "      <th>4</th>\n",
       "      <td>18</td>\n",
       "      <td>Es wurde erkannt, dass in Schweden der Erhalt ...</td>\n",
       "      <td>CONCEPT</td>\n",
       "      <td>73.0</td>\n",
       "      <td>NaN</td>\n",
       "    </tr>\n",
       "  </tbody>\n",
       "</table>\n",
       "</div>"
      ],
      "text/plain": [
       "   aspectId                                        description     type  \\\n",
       "0         1                      To enable them on this domain  CONCEPT   \n",
       "1         2              To enable competences for smoke tests  CONCEPT   \n",
       "2         4          Die Antwort wurde in einem Satz gegeben.   CONCEPT   \n",
       "3        17  Es wurde erkannt, dass die Schafe vorzeitig in...  CONCEPT   \n",
       "4        18  Es wurde erkannt, dass in Schweden der Erhalt ...  CONCEPT   \n",
       "\n",
       "   groupId  categoryId  \n",
       "0   1067.0         NaN  \n",
       "1     48.0         NaN  \n",
       "2    674.0         NaN  \n",
       "3     95.0         NaN  \n",
       "4     73.0         NaN  "
      ]
     },
     "execution_count": 60,
     "metadata": {},
     "output_type": "execute_result"
    }
   ],
   "source": [
    "# All Aspects\n",
    "query = \"SELECT * FROM Aspects\"\n",
    "df_aspects = pd.read_sql(query, cnx)\n",
    "df_aspects.rename(columns={\"id\":\"aspectId\"}, inplace=True)\n",
    "df_aspects = df_aspects[[\"aspectId\", \"description\", \"type\", \"groupId\", \"categoryId\"]]\n",
    "# df_aspects.to_csv(\"data/aspects.csv\", index_label=False)\n",
    "df_aspects.head()"
   ]
  },
  {
   "cell_type": "code",
   "execution_count": 61,
   "id": "ee54c64f-a648-4a5d-8f06-dc66b8a9d284",
   "metadata": {},
   "outputs": [],
   "source": [
    "L = len(df_aspects)"
   ]
  },
  {
   "cell_type": "code",
   "execution_count": 62,
   "id": "f6f4e3b3-7974-478e-a221-07338f1deeb3",
   "metadata": {},
   "outputs": [
    {
     "data": {
      "text/plain": [
       "(array(['CONCEPT', 'MISCONCEPTION'], dtype=object), 3879, 7980)"
      ]
     },
     "execution_count": 62,
     "metadata": {},
     "output_type": "execute_result"
    }
   ],
   "source": [
    "df_aspects.type.unique(), len(df_aspects[df_aspects[\"type\"] == \"CONCEPT\"]), len(df_aspects[df_aspects[\"type\"] == \"MISCONCEPTION\"])"
   ]
  },
  {
   "cell_type": "code",
   "execution_count": 63,
   "id": "d26183a0-7769-4d65-85f2-f2cc6befc600",
   "metadata": {},
   "outputs": [
    {
     "data": {
      "text/plain": [
       "3009"
      ]
     },
     "execution_count": 63,
     "metadata": {},
     "output_type": "execute_result"
    }
   ],
   "source": [
    "len(df_aspects.groupId.unique())"
   ]
  },
  {
   "cell_type": "code",
   "execution_count": 64,
   "id": "6e2dfd6c-09ea-4809-b7a2-21aefe5c1a26",
   "metadata": {},
   "outputs": [
    {
     "data": {
      "text/plain": [
       "39"
      ]
     },
     "execution_count": 64,
     "metadata": {},
     "output_type": "execute_result"
    }
   ],
   "source": [
    "len(df_aspects.categoryId.unique())"
   ]
  },
  {
   "cell_type": "code",
   "execution_count": 65,
   "id": "c66e7058-2db1-470e-9162-06ea8c14b759",
   "metadata": {},
   "outputs": [],
   "source": [
    "df_aspects = df_aspects[df_aspects[\"type\"] == \"CONCEPT\"]\n",
    "L = len(df_aspects)"
   ]
  },
  {
   "cell_type": "code",
   "execution_count": 66,
   "id": "4339536b-8147-4ac4-bc3d-067ce70a61dc",
   "metadata": {},
   "outputs": [
    {
     "data": {
      "text/plain": [
       "3879"
      ]
     },
     "execution_count": 66,
     "metadata": {},
     "output_type": "execute_result"
    }
   ],
   "source": [
    "L "
   ]
  },
  {
   "cell_type": "code",
   "execution_count": 67,
   "id": "beeda4f8-2935-478f-8132-3de3ed72cc2c",
   "metadata": {},
   "outputs": [
    {
     "data": {
      "text/plain": [
       "86.18200567156484"
      ]
     },
     "execution_count": 67,
     "metadata": {},
     "output_type": "execute_result"
    }
   ],
   "source": [
    "# Portion of aspects with specified groupId\n",
    "len(df_aspects.dropna(subset=[\"groupId\"])) / L * 100"
   ]
  },
  {
   "cell_type": "code",
   "execution_count": 68,
   "id": "42431b36-1d20-4d5d-af31-d8f9461ee403",
   "metadata": {},
   "outputs": [
    {
     "data": {
      "text/plain": [
       "60.32482598607889"
      ]
     },
     "execution_count": 68,
     "metadata": {},
     "output_type": "execute_result"
    }
   ],
   "source": [
    "# Portion of aspects with specified categoryId\n",
    "len(df_aspects.dropna(subset=[\"categoryId\"])) / L * 100"
   ]
  },
  {
   "cell_type": "code",
   "execution_count": null,
   "id": "524ebf68-d9ae-4cb5-a079-2c06538b1abd",
   "metadata": {},
   "outputs": [],
   "source": []
  }
 ],
 "metadata": {
  "kernelspec": {
   "display_name": "tb_venv",
   "language": "python",
   "name": "tb_venv"
  },
  "language_info": {
   "codemirror_mode": {
    "name": "ipython",
    "version": 3
   },
   "file_extension": ".py",
   "mimetype": "text/x-python",
   "name": "python",
   "nbconvert_exporter": "python",
   "pygments_lexer": "ipython3",
   "version": "3.11.8"
  }
 },
 "nbformat": 4,
 "nbformat_minor": 5
}
