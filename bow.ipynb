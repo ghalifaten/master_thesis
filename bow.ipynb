{
 "cells": [
  {
   "cell_type": "code",
   "execution_count": 25,
   "id": "02345578-75cb-4b3b-a9ce-4de84d4f403f",
   "metadata": {},
   "outputs": [],
   "source": [
    "text_data = [\"I love love dogs and dogs and cats\", \"I hate dogs but love cats and dogs\", \"Dogs are my favorite animal\"]"
   ]
  },
  {
   "cell_type": "code",
   "execution_count": 26,
   "id": "66d92d81-f5e3-49a8-b525-9a6492b45757",
   "metadata": {},
   "outputs": [],
   "source": [
    "from sklearn.feature_extraction.text import CountVectorizer\n",
    "\n",
    "def get_bow(text_data):\n",
    "    # create the vocabulary\n",
    "    vectorizer = CountVectorizer(input='content', stop_words=None, ngram_range=(1,1))\n",
    "    \n",
    "    # fit the vocabulary to the text data\n",
    "    vectorizer.fit(text_data)\n",
    "    \n",
    "    # create the bag-of-words model\n",
    "    bow_model = vectorizer.transform(text_data)\n",
    "\n",
    "    return vectorizer, bow_model"
   ]
  },
  {
   "cell_type": "code",
   "execution_count": 27,
   "id": "f5504b99-b85e-43c1-b3ba-1c68574a5e2d",
   "metadata": {},
   "outputs": [
    {
     "name": "stdout",
     "output_type": "stream",
     "text": [
      "{'love': 8, 'dogs': 5, 'and': 0, 'cats': 4, 'hate': 7, 'but': 3, 'are': 2, 'my': 9, 'favorite': 6, 'animal': 1}\n"
     ]
    }
   ],
   "source": [
    "vectorizer, bow_model = get_bow(text_data)\n",
    "\n",
    "# print the vocabulary\n",
    "print(vectorizer.vocabulary_)"
   ]
  },
  {
   "cell_type": "code",
   "execution_count": 28,
   "id": "bf542d9d-cfcf-4d78-a973-ffc2bf5878e1",
   "metadata": {},
   "outputs": [
    {
     "name": "stdout",
     "output_type": "stream",
     "text": [
      "  (0, 0)\t2\n",
      "  (0, 4)\t1\n",
      "  (0, 5)\t2\n",
      "  (0, 8)\t2\n",
      "  (1, 0)\t1\n",
      "  (1, 3)\t1\n",
      "  (1, 4)\t1\n",
      "  (1, 5)\t2\n",
      "  (1, 7)\t1\n",
      "  (1, 8)\t1\n",
      "  (2, 1)\t1\n",
      "  (2, 2)\t1\n",
      "  (2, 5)\t1\n",
      "  (2, 6)\t1\n",
      "  (2, 9)\t1\n"
     ]
    }
   ],
   "source": [
    "print(bow_model)"
   ]
  },
  {
   "cell_type": "code",
   "execution_count": 29,
   "id": "54a60e10-1d5c-4ec8-a02d-4bc2d02d983f",
   "metadata": {},
   "outputs": [
    {
     "data": {
      "text/plain": [
       "(3, 10)"
      ]
     },
     "execution_count": 29,
     "metadata": {},
     "output_type": "execute_result"
    }
   ],
   "source": [
    "bow_model.shape #(nb_docs, len_vocab)"
   ]
  },
  {
   "cell_type": "code",
   "execution_count": 30,
   "id": "20bb2dc8-f3c8-4f7c-ad2e-9037ba44a24b",
   "metadata": {},
   "outputs": [
    {
     "data": {
      "text/plain": [
       "2"
      ]
     },
     "execution_count": 30,
     "metadata": {},
     "output_type": "execute_result"
    }
   ],
   "source": [
    "bow_model[0,0] #frequency of word 0 in doc 0"
   ]
  },
  {
   "cell_type": "code",
   "execution_count": 31,
   "id": "5c433dc7-18b4-4103-9899-1258114d5933",
   "metadata": {},
   "outputs": [
    {
     "data": {
      "text/plain": [
       "5"
      ]
     },
     "execution_count": 31,
     "metadata": {},
     "output_type": "execute_result"
    }
   ],
   "source": [
    "vectorizer.vocabulary_['dogs'] #id of word 'dogs' "
   ]
  },
  {
   "cell_type": "code",
   "execution_count": 32,
   "id": "7d5aa6df-93c0-4e91-8393-be615855af2c",
   "metadata": {},
   "outputs": [
    {
     "name": "stdout",
     "output_type": "stream",
     "text": [
      "  (0, 0)\t2\n",
      "  (1, 0)\t2\n",
      "  (2, 0)\t1\n"
     ]
    }
   ],
   "source": [
    "print(bow_model[:, 5]) #frequency of word 'dogs' (id=5) per document"
   ]
  },
  {
   "cell_type": "code",
   "execution_count": 33,
   "id": "d02db4a8-8ec9-4410-9fca-6f7b03e67bb2",
   "metadata": {},
   "outputs": [
    {
     "data": {
      "text/plain": [
       "matrix([[5]])"
      ]
     },
     "execution_count": 33,
     "metadata": {},
     "output_type": "execute_result"
    }
   ],
   "source": [
    "bow_model[:, 5].sum(axis=0) #total frequency of word 'dogs' (id=5) in the docs. (sum over column 5 in the bow matrix)"
   ]
  },
  {
   "cell_type": "markdown",
   "id": "ec8ee5a5-0dc8-41d2-a218-6e7f068a1612",
   "metadata": {},
   "source": [
    "**BoW on open tasks**"
   ]
  },
  {
   "cell_type": "code",
   "execution_count": 34,
   "id": "5d015ca3-d45a-4cbd-bac2-ff791f0a7a05",
   "metadata": {},
   "outputs": [],
   "source": [
    "import pandas as pd"
   ]
  },
  {
   "cell_type": "code",
   "execution_count": 56,
   "id": "f2c9a135-a1bb-4dc9-bf76-339bae6fa011",
   "metadata": {},
   "outputs": [
    {
     "name": "stdout",
     "output_type": "stream",
     "text": [
      "(1570, 4961)\n"
     ]
    },
    {
     "data": {
      "text/plain": [
       "(2, 30)"
      ]
     },
     "execution_count": 56,
     "metadata": {},
     "output_type": "execute_result"
    }
   ],
   "source": [
    "df = pd.read_csv(\"data/preprocessed_open_tasks_DE.csv\")\n",
    "text_data = df[\"preprocess_desc\"].tolist()\n",
    "vectorizer, bow_model = get_bow(text_data) \n",
    "words = vectorizer.vocabulary_.keys()\n",
    "word_lengths = [len(word) for word in words] \n",
    "print(bow_model.shape)\n",
    "min(word_lengths), max(word_lengths)"
   ]
  },
  {
   "cell_type": "code",
   "execution_count": 55,
   "id": "4278fa68-57a7-4f17-94da-9e74ee9b28fe",
   "metadata": {},
   "outputs": [
    {
     "data": {
      "image/png": "[encoded data removed]",
      "text/plain": [
       "<Figure size 1000x600 with 1 Axes>"
      ]
     },
     "metadata": {},
     "output_type": "display_data"
    }
   ],
   "source": [
    "import matplotlib.pyplot as plt\n",
    "fig, ax = plt.subplots(1, 1, figsize=(10, 6))\n",
    "plt.hist(word_lengths, bins=max(word_lengths)-min(word_lengths)+1)\n",
    "ax.set_yscale(\"log\")"
   ]
  },
  {
   "cell_type": "code",
   "execution_count": 57,
   "id": "b75c850f-c89e-464e-9ae1-6fb6247b2743",
   "metadata": {},
   "outputs": [
    {
     "name": "stdout",
     "output_type": "stream",
     "text": [
      "(283, 1265)\n"
     ]
    },
    {
     "data": {
      "text/plain": [
       "(2, 22)"
      ]
     },
     "execution_count": 57,
     "metadata": {},
     "output_type": "execute_result"
    }
   ],
   "source": [
    "df = pd.read_csv(\"data/preprocessed_open_tasks_EN.csv\")\n",
    "text_data = df[\"preprocess_desc\"].tolist()\n",
    "vectorizer, bow_model = get_bow(text_data) \n",
    "words = vectorizer.vocabulary_.keys()\n",
    "word_lengths = [len(word) for word in words] \n",
    "print(bow_model.shape)\n",
    "min(word_lengths), max(word_lengths)"
   ]
  },
  {
   "cell_type": "code",
   "execution_count": 58,
   "id": "49433050-5f2a-4392-a20d-a625025198f3",
   "metadata": {},
   "outputs": [
    {
     "data": {
      "image/png": "[encoded data removed]",
      "text/plain": [
       "<Figure size 1000x600 with 1 Axes>"
      ]
     },
     "metadata": {},
     "output_type": "display_data"
    }
   ],
   "source": [
    "fig, ax = plt.subplots(1, 1, figsize=(10, 6))\n",
    "plt.hist(word_lengths, bins=max(word_lengths)-min(word_lengths)+1)\n",
    "ax.set_yscale(\"log\")"
   ]
  },
  {
   "cell_type": "raw",
   "id": "2d32e46c-9d1c-46b0-8f28-195cd6444c08",
   "metadata": {},
   "source": [
    "for word in words:\n",
    "    if len(word) < 4:\n",
    "        print(word)"
   ]
  },
  {
   "cell_type": "code",
   "execution_count": null,
   "id": "ef5e46fe-8914-46bf-9d5e-52908f299b5c",
   "metadata": {},
   "outputs": [],
   "source": []
  }
 ],
 "metadata": {
  "kernelspec": {
   "display_name": "tb_venv",
   "language": "python",
   "name": "tb_venv"
  },
  "language_info": {
   "codemirror_mode": {
    "name": "ipython",
    "version": 3
   },
   "file_extension": ".py",
   "mimetype": "text/x-python",
   "name": "python",
   "nbconvert_exporter": "python",
   "pygments_lexer": "ipython3",
   "version": "3.11.8"
  }
 },
 "nbformat": 4,
 "nbformat_minor": 5
}
