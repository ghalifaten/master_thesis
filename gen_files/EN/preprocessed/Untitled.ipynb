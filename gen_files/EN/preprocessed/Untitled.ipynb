{
 "cells": [
  {
   "cell_type": "code",
   "execution_count": null,
   "id": "48ea1d28-6357-40f1-bbf3-756e3d96cb7c",
   "metadata": {},
   "outputs": [],
   "source": [
    "l = [1,2,3,4,5] \n",
    "with\n",
    "    write = csv.writer(f)"
   ]
  },
  {
   "cell_type": "code",
   "execution_count": 1,
   "id": "b8a2520f-4e6a-4153-96c0-6bcfe5ed6099",
   "metadata": {},
   "outputs": [
    {
     "data": {
      "text/plain": [
       "5"
      ]
     },
     "execution_count": 1,
     "metadata": {},
     "output_type": "execute_result"
    }
   ],
   "source": [
    "a =[(0, '0.019*\"natur\" + 0.018*\"oil\" + 0.017*\"energi\" + 0.015*\"resourc\" + 0.013*\"frack\" + 0.012*\"canada\" + 0.012*\"produc\" + 0.011*\"countri\" + 0.011*\"water\" + 0.011*\"technolog\"'), (1, '0.044*\"ship\" + 0.021*\"peopl\" + 0.018*\"titan\" + 0.016*\"lifeboat\" + 0.011*\"belfast\" + 0.011*\"sink\" + 0.010*\"board\" + 0.010*\"dog\" + 0.009*\"passeng\" + 0.009*\"find\"'), (2, '0.164*\"translat\" + 0.126*\"english\" + 0.115*\"sentenc\" + 0.057*\"write\" + 0.046*\"hear\" + 0.025*\"follow\" + 0.016*\"comput\" + 0.016*\"sit\" + 0.015*\"front\" + 0.010*\"work\"'), (3, '0.014*\"societi\" + 0.010*\"cafe\" + 0.010*\"park\" + 0.010*\"man\" + 0.009*\"differ\" + 0.009*\"woman\" + 0.009*\"friend\" + 0.008*\"abrihim\" + 0.008*\"sherlock\" + 0.008*\"footbal\"'), (4, '0.015*\"forgot\" + 0.014*\"find\" + 0.014*\"realli\" + 0.014*\"bodi\" + 0.014*\"dad\" + 0.013*\"pizza\" + 0.010*\"sorri\" + 0.010*\"eye\" + 0.010*\"boy\" + 0.009*\"day\"')]\n",
    "len(a)"
   ]
  },
  {
   "cell_type": "code",
   "execution_count": 6,
   "id": "d681f393-016e-4029-b36a-6332d7f3b2ef",
   "metadata": {},
   "outputs": [
    {
     "data": {
      "text/plain": [
       "str"
      ]
     },
     "execution_count": 6,
     "metadata": {},
     "output_type": "execute_result"
    }
   ],
   "source": [
    "type(\"{:.3f}\".format(0.3456))"
   ]
  },
  {
   "cell_type": "code",
   "execution_count": 35,
   "id": "0ce3edfb-c9e9-4910-a8a9-2b90e57f2023",
   "metadata": {},
   "outputs": [
    {
     "name": "stdout",
     "output_type": "stream",
     "text": [
      "0\n",
      "natur, oil, energi, resourc, frack, canada, produc, countri, water, technolog\n",
      "1\n",
      "ship, peopl, titan, lifeboat, belfast, sink, board, dog, passeng, find\n",
      "2\n",
      "translat, english, sentenc, write, hear, follow, comput, sit, front, work\n",
      "3\n",
      "societi, cafe, park, man, differ, woman, friend, abrihim, sherlock, footbal\n",
      "4\n",
      "forgot, find, realli, bodi, dad, pizza, sorri, eye, boy, day\n"
     ]
    }
   ],
   "source": [
    "L = []\n",
    "for k,s in a: \n",
    "    l = s.split(\"+\")\n",
    "    #print(l)\n",
    "    for i in l: \n",
    "        w = i.split(\"*\")[1].strip()[1:-1]\n",
    "        L.append(w)\n",
    "    print(k)\n",
    "    print(*L, sep=\", \")\n",
    "    L = []"
   ]
  },
  {
   "cell_type": "code",
   "execution_count": 36,
   "id": "a426994c-3258-453c-874a-f9d59f8debe4",
   "metadata": {},
   "outputs": [],
   "source": [
    "a = [(0, '0.167*\"translat\" + 0.126*\"english\" + 0.117*\"sentenc\" + 0.052*\"write\" + 0.044*\"hear\" + 0.025*\"follow\" + 0.017*\"comput\" + 0.015*\"sit\" + 0.015*\"front\" + 0.010*\"work\"'), (1, '0.016*\"pizza\" + 0.014*\"forgot\" + 0.013*\"societi\" + 0.012*\"look\" + 0.011*\"sorri\" + 0.011*\"eye\" + 0.010*\"lose\" + 0.009*\"differ\" + 0.009*\"man\" + 0.009*\"whole\"'), (2, '0.018*\"bodi\" + 0.013*\"find\" + 0.013*\"boy\" + 0.012*\"trip\" + 0.011*\"dad\" + 0.011*\"think\" + 0.010*\"smell\" + 0.010*\"gun\" + 0.010*\"gordi\" + 0.010*\"give\"'), (3, '0.032*\"ship\" + 0.017*\"peopl\" + 0.013*\"titan\" + 0.012*\"lifeboat\" + 0.010*\"find\" + 0.010*\"write\" + 0.010*\"dog\" + 0.009*\"question\" + 0.008*\"belfast\" + 0.008*\"sink\"'), (4, '0.021*\"natur\" + 0.021*\"oil\" + 0.020*\"energi\" + 0.017*\"resourc\" + 0.016*\"frack\" + 0.014*\"canada\" + 0.014*\"produc\" + 0.013*\"water\" + 0.012*\"technolog\" + 0.012*\"chemic\"')]\n"
   ]
  },
  {
   "cell_type": "code",
   "execution_count": 37,
   "id": "be33241b-b1da-4ebd-8b5c-460ceb2f8a97",
   "metadata": {},
   "outputs": [
    {
     "name": "stdout",
     "output_type": "stream",
     "text": [
      "0\n",
      "translat, english, sentenc, write, hear, follow, comput, sit, front, work\n",
      "1\n",
      "pizza, forgot, societi, look, sorri, eye, lose, differ, man, whole\n",
      "2\n",
      "bodi, find, boy, trip, dad, think, smell, gun, gordi, give\n",
      "3\n",
      "ship, peopl, titan, lifeboat, find, write, dog, question, belfast, sink\n",
      "4\n",
      "natur, oil, energi, resourc, frack, canada, produc, water, technolog, chemic\n"
     ]
    }
   ],
   "source": [
    "L = []\n",
    "for k,s in a: \n",
    "    l = s.split(\"+\")\n",
    "    #print(l)\n",
    "    for i in l: \n",
    "        w = i.split(\"*\")[1].strip()[1:-1]\n",
    "        L.append(w)\n",
    "    print(k)\n",
    "    print(*L, sep=\", \")\n",
    "    L = []"
   ]
  },
  {
   "cell_type": "code",
   "execution_count": null,
   "id": "3fb8871c-5cb2-4c5b-a31c-6b5c503fed83",
   "metadata": {},
   "outputs": [],
   "source": [
    "0.4177209937568479\n",
    "0.33380713736384626\n",
    "0.39758288100836053\n",
    "0.35476409886156396\n",
    "0.28033468883753465\n",
    "0.48921571408495995\n",
    "0.3322413109185217\n",
    "0.35749346172670277\n",
    "0.3843952781544246\n",
    "0.3238827152001185\n",
    "0.4747799013943188\n",
    "0.5419867163580164\n",
    "0.4916883767339842\n",
    "0.3788603927879736\n",
    "0.42229864307134446\n",
    "0.43056873550428953\n",
    "0.4727654561342021\n",
    "0.4681026825374609\n",
    "0.5329151748994179\n",
    "0.6246965431035021\n"
   ]
  }
 ],
 "metadata": {
  "kernelspec": {
   "display_name": "tb_venv",
   "language": "python",
   "name": "tb_venv"
  },
  "language_info": {
   "codemirror_mode": {
    "name": "ipython",
    "version": 3
   },
   "file_extension": ".py",
   "mimetype": "text/x-python",
   "name": "python",
   "nbconvert_exporter": "python",
   "pygments_lexer": "ipython3",
   "version": "3.11.8"
  }
 },
 "nbformat": 4,
 "nbformat_minor": 5
}
