{
 "cells": [
  {
   "cell_type": "code",
   "execution_count": 29,
   "id": "b8a2520f-4e6a-4153-96c0-6bcfe5ed6099",
   "metadata": {},
   "outputs": [],
   "source": [
    "a = [(0, '0.019*\"natur\" + 0.018*\"oil\" + 0.017*\"energi\" + 0.015*\"resourc\" + 0.013*\"frack\" + 0.012*\"canada\" + 0.012*\"produc\" + 0.011*\"countri\" + 0.011*\"water\" + 0.011*\"technolog\"'), (1, '0.044*\"ship\" + 0.021*\"peopl\" + 0.018*\"titan\" + 0.016*\"lifeboat\" + 0.011*\"belfast\" + 0.011*\"sink\" + 0.010*\"board\" + 0.010*\"dog\" + 0.009*\"passeng\" + 0.009*\"find\"'), (2, '0.164*\"translat\" + 0.126*\"english\" + 0.115*\"sentenc\" + 0.057*\"write\" + 0.046*\"hear\" + 0.025*\"follow\" + 0.016*\"comput\" + 0.016*\"sit\" + 0.015*\"front\" + 0.010*\"work\"'), (3, '0.014*\"societi\" + 0.010*\"cafe\" + 0.010*\"park\" + 0.010*\"man\" + 0.009*\"differ\" + 0.009*\"woman\" + 0.009*\"friend\" + 0.008*\"abrihim\" + 0.008*\"sherlock\" + 0.008*\"footbal\"'), (4, '0.015*\"forgot\" + 0.014*\"find\" + 0.014*\"realli\" + 0.014*\"bodi\" + 0.014*\"dad\" + 0.013*\"pizza\" + 0.010*\"sorri\" + 0.010*\"eye\" + 0.010*\"boy\" + 0.009*\"day\"')]"
   ]
  },
  {
   "cell_type": "code",
   "execution_count": 30,
   "id": "0ce3edfb-c9e9-4910-a8a9-2b90e57f2023",
   "metadata": {},
   "outputs": [
    {
     "name": "stdout",
     "output_type": "stream",
     "text": [
      "0\n",
      "natur, oil, energi, resourc, frack, canada, produc, countri, water, technolog\n",
      "1\n",
      "ship, peopl, titan, lifeboat, belfast, sink, board, dog, passeng, find\n",
      "2\n",
      "translat, english, sentenc, write, hear, follow, comput, sit, front, work\n",
      "3\n",
      "societi, cafe, park, man, differ, woman, friend, abrihim, sherlock, footbal\n",
      "4\n",
      "forgot, find, realli, bodi, dad, pizza, sorri, eye, boy, day\n"
     ]
    }
   ],
   "source": [
    "L = []\n",
    "for k,s in a: \n",
    "    l = s.split(\"+\")\n",
    "    #print(l)\n",
    "    for i in l: \n",
    "        w = i.split(\"*\")[1].strip()[1:-1]\n",
    "        L.append(w)\n",
    "    print(k)\n",
    "    print(*L, sep=\", \")\n",
    "    L = []"
   ]
  },
  {
   "cell_type": "code",
   "execution_count": null,
   "id": "a426994c-3258-453c-874a-f9d59f8debe4",
   "metadata": {},
   "outputs": [],
   "source": []
  }
 ],
 "metadata": {
  "kernelspec": {
   "display_name": "tb_venv",
   "language": "python",
   "name": "tb_venv"
  },
  "language_info": {
   "codemirror_mode": {
    "name": "ipython",
    "version": 3
   },
   "file_extension": ".py",
   "mimetype": "text/x-python",
   "name": "python",
   "nbconvert_exporter": "python",
   "pygments_lexer": "ipython3",
   "version": "3.11.8"
  }
 },
 "nbformat": 4,
 "nbformat_minor": 5
}
