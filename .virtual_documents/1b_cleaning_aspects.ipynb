


import warnings
warnings.filterwarnings("ignore")


import mysql.connector
import pandas as pd
import seaborn as sns 
import numpy as np
cnx = mysql.connector.connect(user='root', password='taskbase',
                              host='127.0.0.1', port='3309', database='lernnavi')


# All Aspects
query = "SELECT * FROM Aspects"
df_aspects = pd.read_sql(query, cnx)
df_aspects.rename(columns={"id":"aspectId"}, inplace=True)
df_aspects = df_aspects[["aspectId", "description", "type", "groupId", "categoryId"]]
df_aspects.head()





query = "SELECT * FROM TaskAspects"
df_TaskAspect = pd.read_sql(query, cnx)
df_TaskAspect.head()


len(df_TaskAspect)





df_tasks = pd.read_csv("data/open_tasks_DE.csv")
df = pd.merge(df_tasks[["taskId"]], df_TaskAspect[["taskId", "aspectId"]], how="inner", on=["taskId"])
df["aspectId"] = df["aspectId"].apply(str)
df.head()


len(df), len(df.aspectId.unique()), len(df_tasks)


sns.set_theme(style='white', 
              rc={'figure.figsize':(20,6)})
ax = sns.histplot(data=df,
                  x="aspectId",
                  bins = len(df.aspectId.unique()),
                  shrink=0.9)
ax.set_yscale("log")

xlabels = ax.set_xticklabels([''])





d = df.groupby("aspectId").count().reset_index().rename(columns={"taskId":"tasks_count"})
d = d[d['tasks_count'] > 1 ]
d.head()


L = len(df) 
l = len(d)
print("Removed aspects represent {:.2f}% of the original set.".format( (L-l) / L * 100) ) 


d["tasks_count"].sum()





remained_aspects = d["aspectId"].unique()
df = df[df["aspectId"].isin(remained_aspects)]


df["aspectId"] = df["aspectId"].apply(int)
df.to_csv("data/taskAspects_DE.csv", index_label=False)


d_aspects = pd.merge(df[["aspectId"]], df_aspects, how="inner", on=["aspectId"])
d_aspects.to_csv("data/aspects_DE.csv", index_label=False)





df_tasks = pd.read_csv("data/open_tasks_EN.csv")
df = pd.merge(df_tasks[["taskId"]], df_TaskAspect[["taskId", "aspectId"]], how="inner", on=["taskId"])
df["aspectId"] = df["aspectId"].apply(str)
df.head()


sns.set_theme(style='white', 
              rc={'figure.figsize':(15,6)})
ax = sns.histplot(data=df,
                  x="aspectId",
                  bins = len(df.aspectId.unique()),
                  shrink=0.8)
ax.set_yscale("log")

xlabels = ax.set_xticklabels([''])


d = df.groupby("aspectId").count().reset_index().rename(columns={"taskId":"tasks_count"})
d = d[d['tasks_count'] > 1 ]
d.head()


L = len(df) 
l = len(d)
print("Removed aspects represent {:.2f}% of the original set.".format( (L-l) / L * 100) ) 





remained_aspects = d["aspectId"].unique()
df = df[df["aspectId"].isin(remained_aspects)]


df["aspectId"] = df["aspectId"].apply(int)
df.to_csv("data/taskAspects_EN.csv", index_label=False)


d_aspects = pd.merge(df[["aspectId"]], df_aspects, how="inner", on=["aspectId"])
d_aspects.to_csv("data/aspects_DE.csv", index_label=False)





from itertools import combinations

l = [1,2,3,4] 
for i in combinations(l, 2): 
    print(i)


product
