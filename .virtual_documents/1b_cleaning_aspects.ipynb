


import warnings
warnings.filterwarnings("ignore")


import pandas as pd
import seaborn as sns 
import numpy as np





df_aspects = pd.read_csv("data/aspects.csv")
df_aspects.head()


df_aspects.type.unique()


df_concept_aspects = df_aspects[df_aspects["type"] == "CONCEPT"]





df_TaskAspect = pd.read_csv("data/taskAspects.csv")
df_TaskAspect.head()


len(df_TaskAspect)





df_tasks = pd.read_csv("data/open_tasks_DE.csv")
df = pd.merge(df_tasks[["taskId"]], df_TaskAspect[["taskId", "aspectId"]], how="inner", on=["taskId"])
df.head()


len(df), len(df.aspectId.unique()), len(df_tasks)


# Aspects of type CONCEPT only 
df2 = pd.merge(df, df_concept_aspects[["aspectId"]], how="inner", on=["aspectId"]) 
df2.head()


len(df2.taskId.unique()), len(df2.aspectId.unique())





sns.set_theme(style='white', 
              rc={'figure.figsize':(20,6)})
ax = sns.histplot(data=df2,
                  x="aspectId",
                  bins = len(df.aspectId.unique()),
                  shrink=0.9)
ax.set_yscale("log")

xlabels = ax.set_xticklabels([''])





# Count of tasks by aspect - Inspecting those that appear once 
d = df2.groupby("aspectId").count().reset_index().rename(columns={"taskId":"tasks_count"})
d["tasks_count"].sum(), len(d)


# Remove aspects that appear once, because very task-specific 
d = d[d['tasks_count'] > 1 ]
L = len(df2) 
l = len(d)
print("Removed aspects represent {:.2f}% of the original set.".format( (L-l) / L * 100) ) 
d["tasks_count"].sum(), len(d)





remained_aspects = d["aspectId"].unique()
df = df[df["aspectId"].isin(remained_aspects)]


df.to_csv("data/taskAspects_DE.csv", index_label=False)


d_aspects = pd.merge(df[["aspectId"]].drop_duplicates(), df_aspects, how="inner", on=["aspectId"])
d_aspects.to_csv("data/concept_aspects_DE.csv", index_label=False)





df_tasks = pd.read_csv("data/open_tasks_EN.csv")
df = pd.merge(df_tasks[["taskId"]], df_TaskAspect[["taskId", "aspectId"]], how="inner", on=["taskId"])
df.head()


len(df), len(df.aspectId.unique())


# Aspects of type CONCEPT only 
df2 = pd.merge(df, df_concept_aspects[["aspectId"]], how="inner", on=["aspectId"]) 
df2.head()


len(df2), len(df2.aspectId.unique())





# Count of tasks by aspect - Inspecting those that appear once 
d = df2.groupby("aspectId").count().reset_index().rename(columns={"taskId":"tasks_count"})
d["tasks_count"].sum(), len(d)


# Remove aspects that appear once, because very task-specific 
d = d[d['tasks_count'] > 1 ]
L = len(df2) 
l = len(d)
print("Removed aspects represent {:.2f}% of the original set.".format( (L-l) / L * 100) ) 
d["tasks_count"].sum(), len(d)





remained_aspects = d["aspectId"].unique()
df = df[df["aspectId"].isin(remained_aspects)]


df.to_csv("data/taskAspects_EN.csv", index_label=False)


d_aspects = pd.merge(df[["aspectId"]].drop_duplicates(), df_aspects, how="inner", on=["aspectId"])
d_aspects.to_csv("data/concept_aspects_EN.csv", index_label=False)



