


import warnings
warnings.filterwarnings("ignore")


import pandas as pd
import seaborn as sns 
import numpy as np





df_aspects = pd.read_csv("data/aspects.csv")
df_aspects.head()


df_aspects.type.unique()


df_misconcept_aspects = df_aspects[df_aspects["type"] == "MISCONCEPTION"]


df_concept_aspects = df_aspects[df_aspects["type"] == "CONCEPT"]





df_TaskAspect = pd.read_csv("data/taskAspects.csv")
df_TaskAspect.head()





lang = "DE"


df_tasks = pd.read_csv(f"data/{lang}/open_tasks.csv")
df = pd.merge(df_tasks[["taskId"]], df_TaskAspect[["taskId", "aspectId"]], how="inner", on=["taskId"])
df.head()


# Open tasks that don't have any aspect assigned
ids = df_TaskAspect.taskId.unique()
no_aspect_ids = df_tasks[~df_tasks["taskId"].isin(ids)].taskId.unique() 
print(f"{len(no_aspect_ids)} tasks do not have an aspect assigned.")
df_TaskAspect[df_TaskAspect["taskId"].isin(no_aspect_ids)]


# Aspects of type CONCEPT only 
df2 = pd.merge(df, df_concept_aspects[["aspectId"]], how="inner", on=["aspectId"]) 
print("Only {:.2f} of the tasks that have one or more aspects.".format(len(df2.taskId.unique())/len(df_tasks)))
df2.to_csv(f"gen_files/{lang}/concept_task_aspects.csv", index_label=False)


len(df_tasks)


ids = df2.taskId.unique() # tasks with concept aspects 
# filter the others out and save filtered tasks 
df_tasks = df_tasks[df_tasks["taskId"].isin(ids)]
# Take out a 10% test sample
test_ids = df_tasks.sample(frac=0.1).index
test_sample = df_tasks.loc[test_ids].reset_index()
df_tasks = df_tasks.drop(test_ids).reset_index()
# Save both sets
test_sample.to_csv(f"gen_files/{lang}/test_open_tasks.csv", index_label=False)
df_tasks.to_csv(f"gen_files/{lang}/concept_open_tasks.csv", index_label=False)

print(len(df_tasks), len(test_sample))


# Count of tasks by aspect 
d = df2.groupby("aspectId").count().reset_index().rename(columns={"taskId":"tasks_count"})
d = d.sort_values(by="tasks_count")
d.sample(5)


import matplotlib.pyplot as plt
sns.set_theme(style='white', 
              rc={'figure.figsize':(20,10)})

ax = sns.histplot(data=d,
                  x="tasks_count",
                  bins=10,
                  shrink=0.9)

ax.set_yscale("log")
mids = [rect.get_x() + rect.get_width() / 2 for rect in ax.patches]
ticks = ax.set_xticks(mids)
m = d.tasks_count.unique().max()
step = m//10
starts = np.arange(1, m, step)[:-1]
ends =  np.arange(step, m, step)[:-1]
xlabels = ax.set_xticklabels([f"[{s},{e}]" for s,e in zip(starts[:-1], ends)]+[f"[{starts[-1]},{m}]"])
ax.set_title("Histogram of the number of tasks for one aspect")
ax.get_figure().savefig(f"figures/tasks_count_dist{lang}.png", bbox_inches="tight") 


print("{:.2f}% of the aspects are assigned to only one task.".format(len(d[d['tasks_count']==1]) / len(d) * 100))


# How many tasks have one aspect?
d = df2.groupby("taskId").count().reset_index().rename(columns={"aspectId":"aspects_count"})
d = d.sort_values(by="aspects_count")
d.sample(5)


print("{:.2f}% of the tasks are assigned only one aspect.".format(len(d[d['aspects_count']==1]) / len(d) * 100))


m = d.aspects_count.unique().max()

ax = sns.histplot(data=d,
                  x="aspects_count",
                  bins=m,
                  shrink=0.9)
# ax.set_yscale("log")

mids = [rect.get_x() + rect.get_width() / 2 for rect in ax.patches]
ax.set_xticks(mids)
ax.set_xticklabels(np.arange(1,m+1))
ax.set_title("Histogram of the number of aspects assigned to a task")
ax.get_figure().savefig(f"figures/aspects_count_dist{lang}.png", bbox_inches="tight") 


d_aspects = pd.merge(df[["aspectId"]].drop_duplicates(), df_concept_aspects, how="inner", on=["aspectId"])
d_aspects.to_csv(f"gen_files/{lang}/concept_aspects.csv", index_label=False)















