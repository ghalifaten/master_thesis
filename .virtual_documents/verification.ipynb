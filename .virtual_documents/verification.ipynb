import pandas as pd 


# Result of 1a cleaning tasks 
open_tasks_de = pd.read_csv("gen_files/DE/open_tasks_DE.csv")
open_tasks_en = pd.read_csv("gen_files/EN/open_tasks_EN.csv")

taskaspects_de = pd.read_csv("gen_files/DE/taskAspects_DE.csv") 
taskaspects_en = pd.read_csv("gen_files/EN/taskAspects_EN.csv") 

print(len(open_tasks_de), len(open_tasks_en))
print(len(taskaspects_de), len(taskaspects_en))
print(len(taskaspects_de.taskId.unique()), len(taskaspects_en.taskId.unique()))


# Results of augmentation 
filenames = [
    "tasks_BT_DE", 
    "tasks_RD_DE", 
    "tasks_RI_DE", 
    "tasks_RS_DE", 
    "tasks_SR_DE", 
]
for f in filenames: 
    print(len(pd.read_csv(f"gen_files/DE/augmented/{f}.csv")))

print()
filenames = [
    "taskAspects_BT_DE", 
    "taskAspects_RD_DE", 
    "taskAspects_RI_DE", 
    "taskAspects_RS_DE", 
    "taskAspects_SR_DE", 
]
for f in filenames: 
    print(len(pd.read_csv(f"gen_files/DE/augmented/{f}.csv")))


# Results of augmentation 
filenames = [
    "tasks_BT_EN", 
    "tasks_RD_EN", 
    "tasks_RI_EN", 
    "tasks_RS_EN", 
    "tasks_SR_EN", 
]
for f in filenames: 
    print(len(pd.read_csv(f"gen_files/EN/augmented/{f}.csv")))

print()
filenames = [
    "taskAspects_BT_EN", 
    "taskAspects_RD_EN", 
    "taskAspects_RI_EN", 
    "taskAspects_RS_EN", 
    "taskAspects_SR_EN", 
]
for f in filenames: 
    print(len(pd.read_csv(f"gen_files/EN/augmented/{f}.csv")))


# Results of preprocessing 
filenames = [
    "tasks_BT_DE", 
    "tasks_RD_DE", 
    "tasks_RI_DE", 
    "tasks_RS_DE", 
    "tasks_SR_DE", 
]
for f in filenames: 
    print(len(pd.read_csv(f"gen_files/DE/preprocessed/{f}.csv")))


# Results of preprocessing 
filenames = [
    "open_tasks_EN",
    "tasks_BT_EN", 
    "tasks_RD_EN", 
    "tasks_RI_EN", 
    "tasks_RS_EN", 
    "tasks_SR_EN", 
]
for f in filenames: 
    print(len(pd.read_csv(f"gen_files/EN/preprocessed/{f}.csv")))


concept_aspects_de = pd.read_csv("gen_files/DE/concept_aspects_DE.csv") 
len(concept_aspects_de), len(pd.read_csv("gen_files/DE/preprocessed/concept_aspects_DE.csv"))


concept_aspects_en = pd.read_csv("gen_files/EN/concept_aspects_EN.csv") 
len(concept_aspects_en), len(pd.read_csv("gen_files/EN/preprocessed/concept_aspects_EN.csv"))



