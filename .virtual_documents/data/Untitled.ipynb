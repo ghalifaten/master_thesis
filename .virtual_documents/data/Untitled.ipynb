import pandas as pd 
import mysql.connector
query = "SELECT * FROM Tasks"
cnx = mysql.connector.connect(user='root', password='taskbase',
                              host='127.0.0.1', port='3309', database='lernnavi')


df_tasks = pd.read_sql(query, cnx)
df_tasks.head()


# sample = df_tasks.sample(1).reset_index()
open = df_tasks[df_tasks["typeId"] == 8]
content = open["content"].apply(json.loads).apply(pd.Series)


content.columns


eng_content = content[content["language"] == 'EN']
deu_content = content[content["language"] == 'DE']


deu_content.sample(10)





deu_content.loc[226676]['description']


deu_content.loc[264603]['description']


eng_content.loc[189284]['description']


eng_content.loc[160728]["description"]


# tasks 
task1 = 'Translate "Er hatte die Absicht, sie zu heiraten." to English.'
task2 = '4. Which country would he like to do a road trip in?\n'
task3 = 'Schreibe aus zwei Sätzen einen Hauptsatz mit Relativsatz. Dort geht der Kollege. Er arbeitet im Büro.'
task4 = "Schreibe den Satz mit Infinitiv mit. Es ist wichtig, - kommen - pünktlich -"



eng_content.sample(10)


eng_content.loc[221276]['description']



