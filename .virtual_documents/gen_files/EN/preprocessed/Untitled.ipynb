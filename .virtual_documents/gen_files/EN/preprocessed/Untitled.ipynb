l = [1,2,3,4,5] 
with
    write = csv.writer(f)


a =[(0, '0.019*"natur" + 0.018*"oil" + 0.017*"energi" + 0.015*"resourc" + 0.013*"frack" + 0.012*"canada" + 0.012*"produc" + 0.011*"countri" + 0.011*"water" + 0.011*"technolog"'), (1, '0.044*"ship" + 0.021*"peopl" + 0.018*"titan" + 0.016*"lifeboat" + 0.011*"belfast" + 0.011*"sink" + 0.010*"board" + 0.010*"dog" + 0.009*"passeng" + 0.009*"find"'), (2, '0.164*"translat" + 0.126*"english" + 0.115*"sentenc" + 0.057*"write" + 0.046*"hear" + 0.025*"follow" + 0.016*"comput" + 0.016*"sit" + 0.015*"front" + 0.010*"work"'), (3, '0.014*"societi" + 0.010*"cafe" + 0.010*"park" + 0.010*"man" + 0.009*"differ" + 0.009*"woman" + 0.009*"friend" + 0.008*"abrihim" + 0.008*"sherlock" + 0.008*"footbal"'), (4, '0.015*"forgot" + 0.014*"find" + 0.014*"realli" + 0.014*"bodi" + 0.014*"dad" + 0.013*"pizza" + 0.010*"sorri" + 0.010*"eye" + 0.010*"boy" + 0.009*"day"')]
len(a)


type("{:.3f}".format(0.3456))


L = []
for k,s in a: 
    l = s.split("+")
    #print(l)
    for i in l: 
        w = i.split("*")[1].strip()[1:-1]
        L.append(w)
    print(k)
    print(*L, sep=", ")
    L = []


a = [(0, '0.167*"translat" + 0.126*"english" + 0.117*"sentenc" + 0.052*"write" + 0.044*"hear" + 0.025*"follow" + 0.017*"comput" + 0.015*"sit" + 0.015*"front" + 0.010*"work"'), (1, '0.016*"pizza" + 0.014*"forgot" + 0.013*"societi" + 0.012*"look" + 0.011*"sorri" + 0.011*"eye" + 0.010*"lose" + 0.009*"differ" + 0.009*"man" + 0.009*"whole"'), (2, '0.018*"bodi" + 0.013*"find" + 0.013*"boy" + 0.012*"trip" + 0.011*"dad" + 0.011*"think" + 0.010*"smell" + 0.010*"gun" + 0.010*"gordi" + 0.010*"give"'), (3, '0.032*"ship" + 0.017*"peopl" + 0.013*"titan" + 0.012*"lifeboat" + 0.010*"find" + 0.010*"write" + 0.010*"dog" + 0.009*"question" + 0.008*"belfast" + 0.008*"sink"'), (4, '0.021*"natur" + 0.021*"oil" + 0.020*"energi" + 0.017*"resourc" + 0.016*"frack" + 0.014*"canada" + 0.014*"produc" + 0.013*"water" + 0.012*"technolog" + 0.012*"chemic"')]



L = []
for k,s in a: 
    l = s.split("+")
    #print(l)
    for i in l: 
        w = i.split("*")[1].strip()[1:-1]
        L.append(w)
    print(k)
    print(*L, sep=", ")
    L = []


0.4177209937568479
0.33380713736384626
0.39758288100836053
0.35476409886156396
0.28033468883753465
0.48921571408495995
0.3322413109185217
0.35749346172670277
0.3843952781544246
0.3238827152001185
0.4747799013943188
0.5419867163580164
0.4916883767339842
0.3788603927879736
0.42229864307134446
0.43056873550428953
0.4727654561342021
0.4681026825374609
0.5329151748994179
0.6246965431035021

