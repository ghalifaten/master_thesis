import pandas as pd 


# Result of 1a cleaning tasks 
open_tasks_de = pd.read_csv("data/open_tasks_DE.csv")
open_tasks_en = pd.read_csv("data/open_tasks_EN.csv")

concept_aspects_de = pd.read_csv("data/taskAspects_DE.csv") 
concept_aspects_en = pd.read_csv("data/taskAspects_EN.csv") 

print(len(open_tasks_de), len(open_tasks_en))
print(len(concept_aspects_de), len(concept_aspects_en))
print(len(concept_aspects_de.taskId.unique()), len(concept_aspects_en.taskId.unique()))


# Results of augmentation 
filenames = [
    "augmented_BT_DE", 
    "augmented_RD_DE", 
    "augmented_RI_DE", 
    "augmented_RS_DE", 
    "augmented_SR_DE", 
]
for f in filenames: 
    print(len(pd.read_csv(f"data/generated/{f}.csv")))

print()
filenames = [
    "taskAspects_DE",
    "taskAspects_BT_DE", 
    "taskAspects_RD_DE", 
    "taskAspects_RI_DE", 
    "taskAspects_RS_DE", 
    "taskAspects_SR_DE", 
]
for f in filenames: 
    print(len(pd.read_csv(f"data/{f}.csv")))


len(pd.read_csv("data/taskAspects_BT_DE.csv"))


filenames = [
    "augmented_BT_EN", 
    "augmented_RD_EN", 
    "augmented_RI_EN", 
    "augmented_RS_EN", 
    "augmented_SR_EN", 
]
for f in filenames: 
    print(len(pd.read_csv(f"data/generated/{f}.csv")))

print()
filenames = [
    "taskAspects_EN",
    "taskAspects_BT_EN", 
    "taskAspects_RD_EN", 
    "taskAspects_RI_EN", 
    "taskAspects_RS_EN", 
    "taskAspects_SR_EN", 
]
for f in filenames: 
    print(len(pd.read_csv(f"data/{f}.csv")))


# Results of preprocessing 
filenames = [
    "open_tasks_DE",
    "augmented_BT_DE", 
    "augmented_RD_DE", 
    "augmented_RI_DE", 
    "augmented_RS_DE", 
    "augmented_SR_DE", 
]
for f in filenames: 
    print(len(pd.read_csv(f"data/preprocessed_{f}.csv")))

print()
filenames = [
    "open_tasks_EN",
    "augmented_BT_EN", 
    "augmented_RD_EN", 
    "augmented_RI_EN", 
    "augmented_RS_EN", 
    "augmented_SR_EN", 
]
for f in filenames: 
    print(len(pd.read_csv(f"data/preprocessed_{f}.csv")))



