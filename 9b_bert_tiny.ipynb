{
 "cells": [
  {
   "cell_type": "markdown",
   "id": "b3a4e491-847b-4d3d-b9d2-81550d208218",
   "metadata": {},
   "source": [
    "In this notebook we compute BERT embeddings of text and apply clustering to these embeddings. <hr>"
   ]
  },
  {
   "cell_type": "code",
   "execution_count": 1,
   "id": "0b8f1aee-0b81-4a1a-b6c9-a5003dd564e8",
   "metadata": {},
   "outputs": [],
   "source": [
    "import warnings\n",
    "warnings.filterwarnings(\"ignore\")"
   ]
  },
  {
   "cell_type": "code",
   "execution_count": 2,
   "id": "fdb95292-4a4d-4133-9d54-f8c4761cc8bf",
   "metadata": {},
   "outputs": [],
   "source": [
    "import pandas as pd\n",
    "import mysql.connector\n",
    "from datasets import Dataset, DatasetDict\n",
    "\n",
    "# from gensim.models import Word2Vec\n",
    "# import numpy as np\n",
    "# from nltk.corpus import stopwords\n",
    "# from sklearn.feature_extraction.text import TfidfVectorizer\n",
    "# from sklearn.cluster import KMeans\n",
    "# from sklearn.decomposition import PCA\n",
    "# import matplotlib.pyplot as plt\n"
   ]
  },
  {
   "cell_type": "code",
   "execution_count": 3,
   "id": "c560f01e-b7af-48c4-8116-08f0a45e0b90",
   "metadata": {},
   "outputs": [
    {
     "data": {
      "text/html": [
       "<div>\n",
       "<style scoped>\n",
       "    .dataframe tbody tr th:only-of-type {\n",
       "        vertical-align: middle;\n",
       "    }\n",
       "\n",
       "    .dataframe tbody tr th {\n",
       "        vertical-align: top;\n",
       "    }\n",
       "\n",
       "    .dataframe thead th {\n",
       "        text-align: right;\n",
       "    }\n",
       "</style>\n",
       "<table border=\"1\" class=\"dataframe\">\n",
       "  <thead>\n",
       "    <tr style=\"text-align: right;\">\n",
       "      <th></th>\n",
       "      <th>taskId</th>\n",
       "      <th>language</th>\n",
       "      <th>description</th>\n",
       "      <th>topic_id</th>\n",
       "      <th>word_count</th>\n",
       "    </tr>\n",
       "  </thead>\n",
       "  <tbody>\n",
       "    <tr>\n",
       "      <th>0</th>\n",
       "      <td>9oqJmtbKXts6Rr9Szw4OIS</td>\n",
       "      <td>eng</td>\n",
       "      <td>What are the courses that clients can book at ...</td>\n",
       "      <td>NaN</td>\n",
       "      <td>12</td>\n",
       "    </tr>\n",
       "    <tr>\n",
       "      <th>1</th>\n",
       "      <td>a0pzxEfKq8c9D0dRZlQcm9</td>\n",
       "      <td>eng</td>\n",
       "      <td>Write a rule for astronauts. Use a conditional...</td>\n",
       "      <td>NaN</td>\n",
       "      <td>43</td>\n",
       "    </tr>\n",
       "    <tr>\n",
       "      <th>2</th>\n",
       "      <td>9Hjn2yUwBcs7DZK6HARkE4</td>\n",
       "      <td>eng</td>\n",
       "      <td>Can you guess the most frequently spoken langu...</td>\n",
       "      <td>NaN</td>\n",
       "      <td>22</td>\n",
       "    </tr>\n",
       "    <tr>\n",
       "      <th>3</th>\n",
       "      <td>6AYw9CEZMTN7LN8u0LfYVb</td>\n",
       "      <td>eng</td>\n",
       "      <td>Complete the sentence with going to. Example: ...</td>\n",
       "      <td>NaN</td>\n",
       "      <td>42</td>\n",
       "    </tr>\n",
       "    <tr>\n",
       "      <th>4</th>\n",
       "      <td>8QIKtMOE9zV6lnfc2vHMUd</td>\n",
       "      <td>eng</td>\n",
       "      <td>The following are examples of vegetables. carr...</td>\n",
       "      <td>NaN</td>\n",
       "      <td>16</td>\n",
       "    </tr>\n",
       "  </tbody>\n",
       "</table>\n",
       "</div>"
      ],
      "text/plain": [
       "                   taskId language  \\\n",
       "0  9oqJmtbKXts6Rr9Szw4OIS      eng   \n",
       "1  a0pzxEfKq8c9D0dRZlQcm9      eng   \n",
       "2  9Hjn2yUwBcs7DZK6HARkE4      eng   \n",
       "3  6AYw9CEZMTN7LN8u0LfYVb      eng   \n",
       "4  8QIKtMOE9zV6lnfc2vHMUd      eng   \n",
       "\n",
       "                                         description  topic_id  word_count  \n",
       "0  What are the courses that clients can book at ...       NaN          12  \n",
       "1  Write a rule for astronauts. Use a conditional...       NaN          43  \n",
       "2  Can you guess the most frequently spoken langu...       NaN          22  \n",
       "3  Complete the sentence with going to. Example: ...       NaN          42  \n",
       "4  The following are examples of vegetables. carr...       NaN          16  "
      ]
     },
     "execution_count": 3,
     "metadata": {},
     "output_type": "execute_result"
    }
   ],
   "source": [
    "# Load data \n",
    "df = pd.read_csv(\"data/all_augmented_tasks_EN.csv\") \n",
    "df = df.dropna(subset=[\"description\"])\n",
    "df = df[df[\"word_count\"] > 4] # removing test descriptions # TODO move to data cleaning steps\n",
    "df.reset_index(inplace=True, drop=True)\n",
    "df.head()"
   ]
  },
  {
   "cell_type": "markdown",
   "id": "eb887dfe-b47d-4a4c-ac7d-911112a26661",
   "metadata": {},
   "source": [
    "> **Distribution of words:** Refer to 4_concat_data.ipynb"
   ]
  },
  {
   "cell_type": "code",
   "execution_count": 4,
   "id": "42af255b-6b41-4754-9825-7efb7bd087d7",
   "metadata": {},
   "outputs": [
    {
     "data": {
      "text/html": [
       "<div>\n",
       "<style scoped>\n",
       "    .dataframe tbody tr th:only-of-type {\n",
       "        vertical-align: middle;\n",
       "    }\n",
       "\n",
       "    .dataframe tbody tr th {\n",
       "        vertical-align: top;\n",
       "    }\n",
       "\n",
       "    .dataframe thead th {\n",
       "        text-align: right;\n",
       "    }\n",
       "</style>\n",
       "<table border=\"1\" class=\"dataframe\">\n",
       "  <thead>\n",
       "    <tr style=\"text-align: right;\">\n",
       "      <th></th>\n",
       "      <th>id</th>\n",
       "      <th>taskId</th>\n",
       "      <th>aspectId</th>\n",
       "      <th>sampleSolution</th>\n",
       "    </tr>\n",
       "  </thead>\n",
       "  <tbody>\n",
       "    <tr>\n",
       "      <th>0</th>\n",
       "      <td>3</td>\n",
       "      <td>5ElPCuVMbAy8pzupzU7R3x</td>\n",
       "      <td>2</td>\n",
       "      <td>None</td>\n",
       "    </tr>\n",
       "    <tr>\n",
       "      <th>1</th>\n",
       "      <td>54</td>\n",
       "      <td>2VX1HHa4SZp9Cs6Suof4ho</td>\n",
       "      <td>1</td>\n",
       "      <td>None</td>\n",
       "    </tr>\n",
       "    <tr>\n",
       "      <th>2</th>\n",
       "      <td>74</td>\n",
       "      <td>2j6rJkYxYa98ydGaSCW17D</td>\n",
       "      <td>4</td>\n",
       "      <td>None</td>\n",
       "    </tr>\n",
       "    <tr>\n",
       "      <th>3</th>\n",
       "      <td>75</td>\n",
       "      <td>2j6rJkYxYa98ydGaSCW17D</td>\n",
       "      <td>20</td>\n",
       "      <td>{\"type\": \"DEFAULT\", \"sampleSolutionGroups\": [{...</td>\n",
       "    </tr>\n",
       "    <tr>\n",
       "      <th>4</th>\n",
       "      <td>76</td>\n",
       "      <td>2j6rJkYxYa98ydGaSCW17D</td>\n",
       "      <td>21</td>\n",
       "      <td>{\"type\": \"DEFAULT\", \"sampleSolutionGroups\": [{...</td>\n",
       "    </tr>\n",
       "  </tbody>\n",
       "</table>\n",
       "</div>"
      ],
      "text/plain": [
       "   id                  taskId  aspectId  \\\n",
       "0   3  5ElPCuVMbAy8pzupzU7R3x         2   \n",
       "1  54  2VX1HHa4SZp9Cs6Suof4ho         1   \n",
       "2  74  2j6rJkYxYa98ydGaSCW17D         4   \n",
       "3  75  2j6rJkYxYa98ydGaSCW17D        20   \n",
       "4  76  2j6rJkYxYa98ydGaSCW17D        21   \n",
       "\n",
       "                                      sampleSolution  \n",
       "0                                               None  \n",
       "1                                               None  \n",
       "2                                               None  \n",
       "3  {\"type\": \"DEFAULT\", \"sampleSolutionGroups\": [{...  \n",
       "4  {\"type\": \"DEFAULT\", \"sampleSolutionGroups\": [{...  "
      ]
     },
     "execution_count": 4,
     "metadata": {},
     "output_type": "execute_result"
    }
   ],
   "source": [
    "cnx = mysql.connector.connect(user='root', password='taskbase',\n",
    "                              host='127.0.0.1', port='3309', database='lernnavi')\n",
    "\n",
    "query = \"SELECT * FROM TaskAspects\"\n",
    "df_taskAspects = pd.read_sql(query, cnx)\n",
    "df_taskAspects.head()"
   ]
  },
  {
   "cell_type": "code",
   "execution_count": 5,
   "id": "d523f13b-3f38-4a18-bac6-f7e06258f985",
   "metadata": {},
   "outputs": [
    {
     "data": {
      "text/html": [
       "<div>\n",
       "<style scoped>\n",
       "    .dataframe tbody tr th:only-of-type {\n",
       "        vertical-align: middle;\n",
       "    }\n",
       "\n",
       "    .dataframe tbody tr th {\n",
       "        vertical-align: top;\n",
       "    }\n",
       "\n",
       "    .dataframe thead th {\n",
       "        text-align: right;\n",
       "    }\n",
       "</style>\n",
       "<table border=\"1\" class=\"dataframe\">\n",
       "  <thead>\n",
       "    <tr style=\"text-align: right;\">\n",
       "      <th>aspectId</th>\n",
       "      <th>description</th>\n",
       "      <th>4</th>\n",
       "      <th>20</th>\n",
       "      <th>21</th>\n",
       "      <th>47</th>\n",
       "      <th>69</th>\n",
       "      <th>70</th>\n",
       "      <th>71</th>\n",
       "      <th>72</th>\n",
       "      <th>74</th>\n",
       "      <th>...</th>\n",
       "      <th>265322</th>\n",
       "      <th>265323</th>\n",
       "      <th>265326</th>\n",
       "      <th>265327</th>\n",
       "      <th>265404</th>\n",
       "      <th>265405</th>\n",
       "      <th>265406</th>\n",
       "      <th>265407</th>\n",
       "      <th>265408</th>\n",
       "      <th>265409</th>\n",
       "    </tr>\n",
       "  </thead>\n",
       "  <tbody>\n",
       "    <tr>\n",
       "      <th>0</th>\n",
       "      <td>\"Climate change is a dangerous threat,\" he said.</td>\n",
       "      <td>False</td>\n",
       "      <td>False</td>\n",
       "      <td>False</td>\n",
       "      <td>False</td>\n",
       "      <td>False</td>\n",
       "      <td>False</td>\n",
       "      <td>False</td>\n",
       "      <td>False</td>\n",
       "      <td>False</td>\n",
       "      <td>...</td>\n",
       "      <td>False</td>\n",
       "      <td>False</td>\n",
       "      <td>False</td>\n",
       "      <td>False</td>\n",
       "      <td>False</td>\n",
       "      <td>False</td>\n",
       "      <td>False</td>\n",
       "      <td>False</td>\n",
       "      <td>False</td>\n",
       "      <td>False</td>\n",
       "    </tr>\n",
       "  </tbody>\n",
       "</table>\n",
       "<p>1 rows × 1436 columns</p>\n",
       "</div>"
      ],
      "text/plain": [
       "aspectId                                       description      4     20  \\\n",
       "0         \"Climate change is a dangerous threat,\" he said.  False  False   \n",
       "\n",
       "aspectId     21     47     69     70     71     72     74  ...  265322  \\\n",
       "0         False  False  False  False  False  False  False  ...   False   \n",
       "\n",
       "aspectId  265323  265326  265327  265404  265405  265406  265407  265408  \\\n",
       "0          False   False   False   False   False   False   False   False   \n",
       "\n",
       "aspectId  265409  \n",
       "0          False  \n",
       "\n",
       "[1 rows x 1436 columns]"
      ]
     },
     "execution_count": 5,
     "metadata": {},
     "output_type": "execute_result"
    }
   ],
   "source": [
    "# Attribute labels (aspectId) to descriptions\n",
    "df = pd.merge(df[[\"taskId\", \"description\"]], df_taskAspects[[\"taskId\", \"aspectId\"]], how=\"inner\", on=[\"taskId\"]) \n",
    "df_pivot = df.pivot_table(index='description', columns='aspectId', aggfunc='size', fill_value=None)\n",
    "df_pivot = df_pivot.notnull().reset_index()\n",
    "df_pivot.head(1)"
   ]
  },
  {
   "cell_type": "code",
   "execution_count": 6,
   "id": "fa9925c3-87cb-4539-a1ca-bc41168d6075",
   "metadata": {},
   "outputs": [],
   "source": [
    "# Convert to Dataset \n",
    "dataset = Dataset.from_pandas(df_pivot) \n",
    "\n",
    "# Make splits: train, test, validation\n",
    "train_test = dataset.train_test_split(test_size=0.3)\n",
    "test_val = train_test[\"test\"].train_test_split(test_size=0.33)\n",
    "\n",
    "# Recreate Dataset with the three splits \n",
    "data = DatasetDict({\n",
    "    'train': train_test['train'],\n",
    "    'test': test_val['train'],\n",
    "    'validation': test_val['test']\n",
    "})\n",
    "\n",
    "# data"
   ]
  },
  {
   "cell_type": "code",
   "execution_count": 7,
   "id": "a4d4f3c3-2f0d-47d6-a2fe-e0617c4618b3",
   "metadata": {},
   "outputs": [
    {
     "data": {
      "text/plain": [
       "(722, 207, 103)"
      ]
     },
     "execution_count": 7,
     "metadata": {},
     "output_type": "execute_result"
    }
   ],
   "source": [
    "len(data['train']), len(data['test']), len(data['validation'])"
   ]
  },
  {
   "cell_type": "code",
   "execution_count": 8,
   "id": "9338a7e8-68b8-4aec-a607-def937eb4002",
   "metadata": {},
   "outputs": [],
   "source": [
    "labels = [label for label in data['train'].features.keys() if label not in ['description']]\n",
    "id2label = {idx:label for idx, label in enumerate(labels)}\n",
    "label2id = {label:idx for idx, label in enumerate(labels)}"
   ]
  },
  {
   "cell_type": "markdown",
   "id": "0cfdebd9-c7f5-4ecb-950b-66ba52b4487d",
   "metadata": {},
   "source": [
    "# Training BERT-tiny"
   ]
  },
  {
   "cell_type": "code",
   "execution_count": 9,
   "id": "29e8bc90-158b-4204-9582-9c5ccbe3df61",
   "metadata": {},
   "outputs": [],
   "source": [
    "from transformers import AutoTokenizer, AutoModelForSequenceClassification, TrainingArguments, Trainer\n",
    "import numpy as np\n",
    "from sklearn.metrics import f1_score, roc_auc_score, accuracy_score\n",
    "from transformers import EvalPrediction\n",
    "import torch\n",
    "    "
   ]
  },
  {
   "cell_type": "markdown",
   "id": "91e1507b-a327-4a70-b6c3-23f14b4d57c9",
   "metadata": {},
   "source": [
    "**Preprocess**"
   ]
  },
  {
   "cell_type": "code",
   "execution_count": 10,
   "id": "c23ec55a-41a0-4145-99ab-3e03619c61ec",
   "metadata": {},
   "outputs": [],
   "source": [
    "# Define Tokenizer\n",
    "tokenizer = AutoTokenizer.from_pretrained(\"prajjwal1/bert-tiny\") "
   ]
  },
  {
   "cell_type": "code",
   "execution_count": 11,
   "id": "3ac625d8-b068-48a3-945c-15754e66010e",
   "metadata": {},
   "outputs": [
    {
     "data": {
      "application/vnd.jupyter.widget-view+json": {
       "model_id": "c031711f3a0544c4bca173d8358aa3e7",
       "version_major": 2,
       "version_minor": 0
      },
      "text/plain": [
       "Map:   0%|          | 0/722 [00:00<?, ? examples/s]"
      ]
     },
     "metadata": {},
     "output_type": "display_data"
    },
    {
     "data": {
      "application/vnd.jupyter.widget-view+json": {
       "model_id": "1ac4e542e8134cc8bc9541ab7296aca4",
       "version_major": 2,
       "version_minor": 0
      },
      "text/plain": [
       "Map:   0%|          | 0/207 [00:00<?, ? examples/s]"
      ]
     },
     "metadata": {},
     "output_type": "display_data"
    },
    {
     "data": {
      "application/vnd.jupyter.widget-view+json": {
       "model_id": "7d1513e3cbee402ea05bb271e4e6cf6e",
       "version_major": 2,
       "version_minor": 0
      },
      "text/plain": [
       "Map:   0%|          | 0/103 [00:00<?, ? examples/s]"
      ]
     },
     "metadata": {},
     "output_type": "display_data"
    }
   ],
   "source": [
    "# Preprocessing \n",
    "def preprocess_data(examples):\n",
    "  # take a batch of texts\n",
    "  text = examples[\"description\"]\n",
    "  # encode them\n",
    "  encoding = tokenizer(text, padding=\"max_length\", truncation=True, max_length=128)\n",
    "  # add labels\n",
    "  labels_batch = {k: examples[k] for k in examples.keys() if k in labels}\n",
    "  # create numpy array of shape (batch_size, num_labels)\n",
    "  labels_matrix = np.zeros((len(text), len(labels)))\n",
    "  # fill numpy array\n",
    "  for idx, label in enumerate(labels):\n",
    "    labels_matrix[:, idx] = labels_batch[label]\n",
    "\n",
    "  encoding[\"labels\"] = labels_matrix.tolist()\n",
    "  \n",
    "  return encoding\n",
    "\n",
    "encoded_dataset = data.map(preprocess_data, batched=True, remove_columns=data['train'].column_names)"
   ]
  },
  {
   "cell_type": "raw",
   "id": "5bb638e4-b95c-45c6-aa04-7529367dc584",
   "metadata": {},
   "source": [
    "example = encoded_dataset['train'][0]\n",
    "print(example.keys())"
   ]
  },
  {
   "cell_type": "raw",
   "id": "4b9ada82-1594-4a40-8115-e7885644a49a",
   "metadata": {},
   "source": [
    "tokenizer.decode(example['input_ids'])"
   ]
  },
  {
   "cell_type": "raw",
   "id": "c5025c0e-b426-4bbb-8618-10976dba89c6",
   "metadata": {
    "scrolled": true
   },
   "source": [
    "example['labels']"
   ]
  },
  {
   "cell_type": "raw",
   "id": "f5f08b4a-7051-461c-9d92-6a80a42f777e",
   "metadata": {},
   "source": [
    "[id2label[idx] for idx, label in enumerate(example['labels']) if label == 1.0]"
   ]
  },
  {
   "cell_type": "code",
   "execution_count": 12,
   "id": "53e019b7-a09c-4d84-9369-a16cbf1ae8c7",
   "metadata": {},
   "outputs": [],
   "source": [
    "encoded_dataset.set_format(\"torch\")"
   ]
  },
  {
   "cell_type": "markdown",
   "id": "ddcf649e-df6d-433d-aaa8-495b92ea81a6",
   "metadata": {},
   "source": [
    "**Training the model**"
   ]
  },
  {
   "cell_type": "code",
   "execution_count": 13,
   "id": "8b170ace-cf80-4dd0-9ba3-0e2dc1d53ce7",
   "metadata": {},
   "outputs": [
    {
     "name": "stderr",
     "output_type": "stream",
     "text": [
      "Some weights of BertForSequenceClassification were not initialized from the model checkpoint at prajjwal1/bert-tiny and are newly initialized: ['classifier.bias', 'classifier.weight']\n",
      "You should probably TRAIN this model on a down-stream task to be able to use it for predictions and inference.\n"
     ]
    }
   ],
   "source": [
    "# Define the model\n",
    "model = AutoModelForSequenceClassification.from_pretrained(\"prajjwal1/bert-tiny\", \n",
    "                                                           problem_type=\"multi_label_classification\", \n",
    "                                                           num_labels=len(labels),\n",
    "                                                           id2label=id2label,\n",
    "                                                           label2id=label2id)"
   ]
  },
  {
   "cell_type": "code",
   "execution_count": 14,
   "id": "41de402a-fb23-4b3a-8936-74262b0970f5",
   "metadata": {},
   "outputs": [],
   "source": [
    "batch_size = 8\n",
    "metric_name = \"f1\"\n",
    "\n",
    "args = TrainingArguments(\n",
    "    f\"bert-finetuned-sem_eval-english\",\n",
    "    evaluation_strategy = \"epoch\",\n",
    "    save_strategy = \"epoch\",\n",
    "    learning_rate=1e-8,\n",
    "    per_device_train_batch_size=batch_size,\n",
    "    per_device_eval_batch_size=batch_size,\n",
    "    num_train_epochs=5,\n",
    "    weight_decay=0.1,\n",
    "    load_best_model_at_end=True,\n",
    "    metric_for_best_model=metric_name,\n",
    "    logging_steps=1,\n",
    "    #push_to_hub=True,\n",
    ")"
   ]
  },
  {
   "cell_type": "code",
   "execution_count": 15,
   "id": "6d6992f2-e8b5-4d30-b20f-783220435f49",
   "metadata": {},
   "outputs": [],
   "source": [
    "def multi_label_metrics(predictions, labels, threshold=0.5):\n",
    "    # first, apply sigmoid on predictions which are of shape (batch_size, num_labels)\n",
    "    sigmoid = torch.nn.Sigmoid()\n",
    "    probs = sigmoid(torch.Tensor(predictions))\n",
    "    # next, use threshold to turn them into integer predictions\n",
    "    y_pred = np.zeros(probs.shape)\n",
    "    y_pred[np.where(probs >= threshold)] = 1\n",
    "    # finally, compute metrics\n",
    "    y_true = labels\n",
    "    f1_micro_average = f1_score(y_true=y_true, y_pred=y_pred, average='micro')\n",
    "    roc_auc = roc_auc_score(y_true, y_pred, average = 'micro')\n",
    "    accuracy = accuracy_score(y_true, y_pred)\n",
    "    # return as dictionary\n",
    "    metrics = {'f1': f1_micro_average,\n",
    "               'roc_auc': roc_auc,\n",
    "               'accuracy': accuracy}\n",
    "    return metrics\n",
    "\n",
    "def compute_metrics(p: EvalPrediction):\n",
    "    preds = p.predictions[0] if isinstance(p.predictions, \n",
    "            tuple) else p.predictions\n",
    "    result = multi_label_metrics(\n",
    "        predictions=preds, \n",
    "        labels=p.label_ids)\n",
    "    return result"
   ]
  },
  {
   "cell_type": "code",
   "execution_count": 16,
   "id": "8dd1e1d8-bbc4-41f3-aa08-b960f0c06932",
   "metadata": {},
   "outputs": [
    {
     "data": {
      "text/plain": [
       "'torch.FloatTensor'"
      ]
     },
     "execution_count": 16,
     "metadata": {},
     "output_type": "execute_result"
    }
   ],
   "source": [
    "encoded_dataset['train'][0]['labels'].type() "
   ]
  },
  {
   "cell_type": "code",
   "execution_count": 17,
   "id": "97fed2e9-2673-40b1-aa16-a94ea1929adb",
   "metadata": {},
   "outputs": [
    {
     "data": {
      "text/plain": [
       "tensor([  101,  8683, 16473,  1037, 22200,  1999,  2010,  2067,  4220,  2008,\n",
       "         2003,  7032,  2519,  2146,  1998,  4376,  2519,  2898,  1012,  2828,\n",
       "         1999,  1996,  8522,  2008, 16463,  1996, 13443,  1997,  2023, 22200,\n",
       "         1012,   102,     0,     0,     0,     0,     0,     0,     0,     0,\n",
       "            0,     0,     0,     0,     0,     0,     0,     0,     0,     0,\n",
       "            0,     0,     0,     0,     0,     0,     0,     0,     0,     0,\n",
       "            0,     0,     0,     0,     0,     0,     0,     0,     0,     0,\n",
       "            0,     0,     0,     0,     0,     0,     0,     0,     0,     0,\n",
       "            0,     0,     0,     0,     0,     0,     0,     0,     0,     0,\n",
       "            0,     0,     0,     0,     0,     0,     0,     0,     0,     0,\n",
       "            0,     0,     0,     0,     0,     0,     0,     0,     0,     0,\n",
       "            0,     0,     0,     0,     0,     0,     0,     0,     0,     0,\n",
       "            0,     0,     0,     0,     0,     0,     0,     0])"
      ]
     },
     "execution_count": 17,
     "metadata": {},
     "output_type": "execute_result"
    }
   ],
   "source": [
    "encoded_dataset['train']['input_ids'][0]"
   ]
  },
  {
   "cell_type": "code",
   "execution_count": 18,
   "id": "f7d0dcdb-5d44-4570-8581-395a27a074a2",
   "metadata": {},
   "outputs": [
    {
     "name": "stderr",
     "output_type": "stream",
     "text": [
      "We strongly recommend passing in an `attention_mask` since your input_ids may be padded. See https://huggingface.co/docs/transformers/troubleshooting#incorrect-output-when-padding-tokens-arent-masked.\n"
     ]
    },
    {
     "data": {
      "text/plain": [
       "SequenceClassifierOutput(loss=tensor(0.6950, grad_fn=<BinaryCrossEntropyWithLogitsBackward0>), logits=tensor([[ 0.0490, -0.1720,  0.0216,  ...,  0.1357, -0.1400, -0.0925]],\n",
       "       grad_fn=<AddmmBackward0>), hidden_states=None, attentions=None)"
      ]
     },
     "execution_count": 18,
     "metadata": {},
     "output_type": "execute_result"
    }
   ],
   "source": [
    "#forward pass\n",
    "outputs = model(input_ids=encoded_dataset['train']['input_ids'][0].unsqueeze(0), labels=encoded_dataset['train'][0]['labels'].unsqueeze(0))\n",
    "outputs"
   ]
  },
  {
   "cell_type": "code",
   "execution_count": 19,
   "id": "d1744265-09ae-439b-b339-d5e8c2d4712d",
   "metadata": {},
   "outputs": [
    {
     "data": {
      "text/html": [
       "\n",
       "    <div>\n",
       "      \n",
       "      <progress value='455' max='455' style='width:300px; height:20px; vertical-align: middle;'></progress>\n",
       "      [455/455 00:40, Epoch 5/5]\n",
       "    </div>\n",
       "    <table border=\"1\" class=\"dataframe\">\n",
       "  <thead>\n",
       " <tr style=\"text-align: left;\">\n",
       "      <th>Epoch</th>\n",
       "      <th>Training Loss</th>\n",
       "      <th>Validation Loss</th>\n",
       "      <th>F1</th>\n",
       "      <th>Roc Auc</th>\n",
       "      <th>Accuracy</th>\n",
       "    </tr>\n",
       "  </thead>\n",
       "  <tbody>\n",
       "    <tr>\n",
       "      <td>1</td>\n",
       "      <td>0.692100</td>\n",
       "      <td>0.693991</td>\n",
       "      <td>0.041511</td>\n",
       "      <td>0.490640</td>\n",
       "      <td>0.000000</td>\n",
       "    </tr>\n",
       "    <tr>\n",
       "      <td>2</td>\n",
       "      <td>0.694200</td>\n",
       "      <td>0.693964</td>\n",
       "      <td>0.041524</td>\n",
       "      <td>0.490727</td>\n",
       "      <td>0.000000</td>\n",
       "    </tr>\n",
       "    <tr>\n",
       "      <td>3</td>\n",
       "      <td>0.694300</td>\n",
       "      <td>0.693946</td>\n",
       "      <td>0.041532</td>\n",
       "      <td>0.490779</td>\n",
       "      <td>0.000000</td>\n",
       "    </tr>\n",
       "    <tr>\n",
       "      <td>4</td>\n",
       "      <td>0.694600</td>\n",
       "      <td>0.693934</td>\n",
       "      <td>0.041536</td>\n",
       "      <td>0.490799</td>\n",
       "      <td>0.000000</td>\n",
       "    </tr>\n",
       "    <tr>\n",
       "      <td>5</td>\n",
       "      <td>0.693400</td>\n",
       "      <td>0.693931</td>\n",
       "      <td>0.041537</td>\n",
       "      <td>0.490810</td>\n",
       "      <td>0.000000</td>\n",
       "    </tr>\n",
       "  </tbody>\n",
       "</table><p>"
      ],
      "text/plain": [
       "<IPython.core.display.HTML object>"
      ]
     },
     "metadata": {},
     "output_type": "display_data"
    },
    {
     "data": {
      "text/plain": [
       "TrainOutput(global_step=455, training_loss=0.6942593687183254, metrics={'train_runtime': 40.5758, 'train_samples_per_second': 88.969, 'train_steps_per_second': 11.214, 'total_flos': 1659126888960.0, 'train_loss': 0.6942593687183254, 'epoch': 5.0})"
      ]
     },
     "execution_count": 19,
     "metadata": {},
     "output_type": "execute_result"
    }
   ],
   "source": [
    "# Training \n",
    "trainer = Trainer(\n",
    "    model,\n",
    "    args,\n",
    "    train_dataset=encoded_dataset[\"train\"],\n",
    "    eval_dataset=encoded_dataset[\"validation\"],\n",
    "    tokenizer=tokenizer,\n",
    "    compute_metrics=compute_metrics\n",
    ")\n",
    "\n",
    "trainer.train()"
   ]
  },
  {
   "cell_type": "markdown",
   "id": "f30c65d7-3256-47ac-aba8-0e2dc0ba57a0",
   "metadata": {},
   "source": [
    "**Evaluating**"
   ]
  },
  {
   "cell_type": "code",
   "execution_count": 20,
   "id": "3d8c5ffa-88dd-423e-9d00-14d227af28c5",
   "metadata": {},
   "outputs": [
    {
     "data": {
      "text/html": [
       "\n",
       "    <div>\n",
       "      \n",
       "      <progress value='13' max='13' style='width:300px; height:20px; vertical-align: middle;'></progress>\n",
       "      [13/13 00:00]\n",
       "    </div>\n",
       "    "
      ],
      "text/plain": [
       "<IPython.core.display.HTML object>"
      ]
     },
     "metadata": {},
     "output_type": "display_data"
    },
    {
     "data": {
      "text/plain": [
       "{'eval_loss': 0.6939312815666199,\n",
       " 'eval_f1': 0.041537272167407005,\n",
       " 'eval_roc_auc': 0.4908097957286409,\n",
       " 'eval_accuracy': 0.0,\n",
       " 'eval_runtime': 0.3559,\n",
       " 'eval_samples_per_second': 289.408,\n",
       " 'eval_steps_per_second': 36.527,\n",
       " 'epoch': 5.0}"
      ]
     },
     "execution_count": 20,
     "metadata": {},
     "output_type": "execute_result"
    }
   ],
   "source": [
    "trainer.evaluate()"
   ]
  },
  {
   "cell_type": "code",
   "execution_count": null,
   "id": "7fdc8618-04d6-47c1-b2f7-6da5a95e3fdd",
   "metadata": {},
   "outputs": [],
   "source": []
  }
 ],
 "metadata": {
  "kernelspec": {
   "display_name": "tb_venv",
   "language": "python",
   "name": "tb_venv"
  },
  "language_info": {
   "codemirror_mode": {
    "name": "ipython",
    "version": 3
   },
   "file_extension": ".py",
   "mimetype": "text/x-python",
   "name": "python",
   "nbconvert_exporter": "python",
   "pygments_lexer": "ipython3",
   "version": "3.11.8"
  }
 },
 "nbformat": 4,
 "nbformat_minor": 5
}
