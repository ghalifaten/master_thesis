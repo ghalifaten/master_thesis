{
 "cells": [
  {
   "cell_type": "code",
   "execution_count": 1,
   "id": "fdb95292-4a4d-4133-9d54-f8c4761cc8bf",
   "metadata": {},
   "outputs": [],
   "source": [
    "import pandas as pd\n",
    "from gensim.models import Word2Vec\n",
    "import numpy as np\n",
    "from nltk.corpus import stopwords\n",
    "from sklearn.feature_extraction.text import TfidfVectorizer\n"
   ]
  },
  {
   "cell_type": "code",
   "execution_count": 2,
   "id": "c560f01e-b7af-48c4-8116-08f0a45e0b90",
   "metadata": {},
   "outputs": [
    {
     "data": {
      "text/html": [
       "<div>\n",
       "<style scoped>\n",
       "    .dataframe tbody tr th:only-of-type {\n",
       "        vertical-align: middle;\n",
       "    }\n",
       "\n",
       "    .dataframe tbody tr th {\n",
       "        vertical-align: top;\n",
       "    }\n",
       "\n",
       "    .dataframe thead th {\n",
       "        text-align: right;\n",
       "    }\n",
       "</style>\n",
       "<table border=\"1\" class=\"dataframe\">\n",
       "  <thead>\n",
       "    <tr style=\"text-align: right;\">\n",
       "      <th></th>\n",
       "      <th>index</th>\n",
       "      <th>taskId</th>\n",
       "      <th>language</th>\n",
       "      <th>description</th>\n",
       "      <th>topic_id</th>\n",
       "      <th>word_count</th>\n",
       "    </tr>\n",
       "  </thead>\n",
       "  <tbody>\n",
       "    <tr>\n",
       "      <th>0</th>\n",
       "      <td>0</td>\n",
       "      <td>9oqJmtbKXts6Rr9Szw4OIS</td>\n",
       "      <td>eng</td>\n",
       "      <td>cours client book swiss connect academi</td>\n",
       "      <td>NaN</td>\n",
       "      <td>6</td>\n",
       "    </tr>\n",
       "    <tr>\n",
       "      <th>1</th>\n",
       "      <td>1</td>\n",
       "      <td>aOrgjKFodXC7uGMKqdMKMg</td>\n",
       "      <td>eng</td>\n",
       "      <td>empti respon</td>\n",
       "      <td>NaN</td>\n",
       "      <td>2</td>\n",
       "    </tr>\n",
       "    <tr>\n",
       "      <th>2</th>\n",
       "      <td>2</td>\n",
       "      <td>a0pzxEfKq8c9D0dRZlQcm9</td>\n",
       "      <td>eng</td>\n",
       "      <td>write rule astronaut use condit sentenc exampl...</td>\n",
       "      <td>NaN</td>\n",
       "      <td>20</td>\n",
       "    </tr>\n",
       "    <tr>\n",
       "      <th>3</th>\n",
       "      <td>3</td>\n",
       "      <td>9Hjn2yUwBcs7DZK6HARkE4</td>\n",
       "      <td>eng</td>\n",
       "      <td>guess frequent speak languag switzerland use m...</td>\n",
       "      <td>NaN</td>\n",
       "      <td>14</td>\n",
       "    </tr>\n",
       "    <tr>\n",
       "      <th>4</th>\n",
       "      <td>4</td>\n",
       "      <td>6AYw9CEZMTN7LN8u0LfYVb</td>\n",
       "      <td>eng</td>\n",
       "      <td>complet sentenc go exampl plan tonight rain wa...</td>\n",
       "      <td>NaN</td>\n",
       "      <td>16</td>\n",
       "    </tr>\n",
       "  </tbody>\n",
       "</table>\n",
       "</div>"
      ],
      "text/plain": [
       "   index                  taskId language  \\\n",
       "0      0  9oqJmtbKXts6Rr9Szw4OIS      eng   \n",
       "1      1  aOrgjKFodXC7uGMKqdMKMg      eng   \n",
       "2      2  a0pzxEfKq8c9D0dRZlQcm9      eng   \n",
       "3      3  9Hjn2yUwBcs7DZK6HARkE4      eng   \n",
       "4      4  6AYw9CEZMTN7LN8u0LfYVb      eng   \n",
       "\n",
       "                                         description  topic_id  word_count  \n",
       "0            cours client book swiss connect academi       NaN           6  \n",
       "1                                       empti respon       NaN           2  \n",
       "2  write rule astronaut use condit sentenc exampl...       NaN          20  \n",
       "3  guess frequent speak languag switzerland use m...       NaN          14  \n",
       "4  complet sentenc go exampl plan tonight rain wa...       NaN          16  "
      ]
     },
     "execution_count": 2,
     "metadata": {},
     "output_type": "execute_result"
    }
   ],
   "source": [
    "# Load data \n",
    "df = pd.read_csv(\"data/all_preprocessed_tasks_EN.csv\") \n",
    "df = df.dropna(subset=[\"description\"]).reset_index()\n",
    "data = df[df[\"word_count\"] > 4][\"description\"].tolist() # removing test descriptions\n",
    "sentences_tokens = [sentence.lower().split() for sentence in data]\n",
    "df.head()"
   ]
  },
  {
   "cell_type": "markdown",
   "id": "eb887dfe-b47d-4a4c-ac7d-911112a26661",
   "metadata": {},
   "source": [
    "> **Distribution of words:** Refer to 4_concat_data.ipynb"
   ]
  },
  {
   "cell_type": "markdown",
   "id": "f3b7fecb-2ce8-4df4-a09a-08c4fcbba46b",
   "metadata": {},
   "source": [
    "**CBOW** <br>\n",
    "The CBOW model learns to predict a target word leveraging all words in its neighborhood. The sum of the context vectors are used to predict the target word."
   ]
  },
  {
   "cell_type": "code",
   "execution_count": 3,
   "id": "57373bc5-0b45-4ceb-b68c-2320846a5118",
   "metadata": {},
   "outputs": [],
   "source": [
    "# Initialize Word2Vec CBOW model\n",
    "# TODO to adjust min_count (to remove words with very little occurrence), \n",
    "# plot distribution of words first, and make a studied decision\n",
    "# TODO tweak arg `window` = Maximum distance between the current and predicted word within a sentence.\n",
    "# (=== window=1 takes into account one word at each side of the word to predict)\n",
    "cbow_model = Word2Vec(sentences=sentences_tokens, min_count=1, vector_size=100, window=1)"
   ]
  },
  {
   "cell_type": "code",
   "execution_count": 4,
   "id": "0d8690e8-8cf8-4267-8846-169a495b876c",
   "metadata": {},
   "outputs": [
    {
     "data": {
      "text/plain": [
       "(3399, 1445)"
      ]
     },
     "execution_count": 4,
     "metadata": {},
     "output_type": "execute_result"
    }
   ],
   "source": [
    "# Train model \n",
    "cbow_model.train(data, total_examples=len(data), epochs=1)\n",
    "\n",
    "word_vectors = cbow_model.wv.vectors\n",
    "# length of word_vectors is equal to the number of words in the bag of vocabulary\n",
    "len(word_vectors), len(data)"
   ]
  },
  {
   "cell_type": "code",
   "execution_count": 5,
   "id": "f194dd5e-1d17-4780-ab40-66de575e8c05",
   "metadata": {},
   "outputs": [],
   "source": [
    "# We compute the embedding of the entire sentence as the average of the embeddings of its words. \n",
    "# One of the problems of this approach is that it ignores the order of the words in the sentences. \n",
    "# Another problem is that all words are given the same weight. \n",
    "# The third issue is information loss. \n",
    "# https://www.baeldung.com/cs/sentence-vectors-word2vec \n",
    "def meanEmbedding(model, words):\n",
    "    # remove out-of-vocabulary words\n",
    "    vocab = model.wv.index_to_key\n",
    "    words = [word for word in words if word in vocab]\n",
    "    if len(words) >= 1:\n",
    "        return np.mean(model.wv[words], axis=0)\n",
    "    else:\n",
    "        return []\n",
    "\n",
    "df[\"meanEmbedding\"] = df[\"description\"].apply(\n",
    "    lambda text: meanEmbedding(\n",
    "        model=cbow_model, \n",
    "        words=text.split()))"
   ]
  },
  {
   "cell_type": "code",
   "execution_count": 16,
   "id": "bc83e855-53f4-4a58-9443-387e88bd32a0",
   "metadata": {},
   "outputs": [],
   "source": [
    "# Weighted Averaging \n",
    "# Use TF-IDF score as the weight of each word (frequent words have a smaller TF-IDF score) \n",
    "# Solves problem of equal importance given to all words with normal averaging, but doesn't fix the order of words problem. \n",
    "def get_tfidf(data):\n",
    "    # Vectorizer \n",
    "    vectorizer = TfidfVectorizer(\n",
    "        max_df=0.9,\n",
    "        min_df=0.01,\n",
    "        stop_words=stopwords.words('english'),\n",
    "    )\n",
    "\n",
    "    tfidf = vectorizer.fit_transform(data)\n",
    "    tfidf_word_list = vectorizer.get_feature_names_out()\n",
    "    # print(f\"n_samples: {tfidf.shape[0]}, n_features: {tfidf.shape[1]}\")\n",
    "    return tfidf, tfidf_word_list\n",
    "\n",
    "def weightedMeanEmbedding(model, tfidf, tfidf_word_list, words, doc_idx):\n",
    "    # remove out-of-vocabulary words\n",
    "    vocab = model.wv.index_to_key\n",
    "    words = [word for word in words if word in vocab]\n",
    "    scores = []\n",
    "    for word in words: \n",
    "        if word in tfidf_word_list: \n",
    "            word_idx = list(tfidf_word_list).index(word)\n",
    "            score = tfidf[doc_idx, word_idx]\n",
    "        else: \n",
    "            score = 0 \n",
    "        scores.append(score)\n",
    "    if len(words) >= 1:\n",
    "        return np.mean(model.wv[words]*np.array(scores).reshape((-1,1)), axis=0)\n",
    "    else:\n",
    "        return []\n",
    "\n",
    "\n",
    "tfidf, tfidf_word_list = get_tfidf(df.description.to_list())\n",
    "\n",
    "df[\"weightedMeanEmbedding\"] = df.apply(\n",
    "    lambda row: weightedMeanEmbedding(\n",
    "        model=cbow_model, \n",
    "        tfidf=tfidf,\n",
    "        tfidf_word_list=tfidf_word_list,\n",
    "        words=row[\"description\"].split(), \n",
    "        doc_idx=row.name), axis=1)"
   ]
  },
  {
   "cell_type": "code",
   "execution_count": null,
   "id": "520414e1-a8ff-49a6-b827-191f825e3d02",
   "metadata": {},
   "outputs": [],
   "source": [
    "# Deep averaging network \n",
    "# Still ignorant about the syntax and order of words of a sentence. \n",
    "# despite its simplicity and lightness in contrast with syntactically-aware models, \n",
    "# such as recursive neural networks, deep averaging networks perform comparably. \n"
   ]
  },
  {
   "cell_type": "markdown",
   "id": "589f5b36-13fb-4b18-b66d-660db49105ee",
   "metadata": {},
   "source": [
    "**Clustering**"
   ]
  },
  {
   "cell_type": "code",
   "execution_count": 13,
   "id": "8749980e-d833-4e72-8544-31348c249349",
   "metadata": {},
   "outputs": [
    {
     "name": "stderr",
     "output_type": "stream",
     "text": [
      "/home/faten/anaconda3/envs/tb_venv/lib/python3.11/site-packages/sklearn/cluster/_kmeans.py:870: FutureWarning: The default value of `n_init` will change from 10 to 'auto' in 1.4. Set the value of `n_init` explicitly to suppress the warning\n",
      "  warnings.warn(\n"
     ]
    }
   ],
   "source": [
    "from sklearn.cluster import KMeans\n",
    "\n",
    "word_vectors = cbow_model.wv.vectors\n",
    "\n",
    "num_clusters = 5\n",
    "\n",
    "# Initalize a k-means object and use it to extract centroids\n",
    "\n",
    "kmeans_clustering = KMeans( n_clusters = num_clusters )\n",
    "\n",
    "idx = kmeans_clustering.fit_predict( word_vectors )"
   ]
  },
  {
   "cell_type": "code",
   "execution_count": 37,
   "id": "6c297f27-c9d0-4115-9340-b8a4af8f5c97",
   "metadata": {},
   "outputs": [
    {
     "name": "stdout",
     "output_type": "stream",
     "text": [
      "\n",
      "Cluster 0\n",
      "['go', 'say', 'get', 'see', 'come', 'man', 'look', 'luke', 'find', 'day', 'chri', 'think', 'know', 'could', 'still', 'help', 'gwen', 'back', 'friend', 'two', 'eye', 'we', 'walk', 'bu', 'realli', 'ask', 'tell', 'around', 'put', 'run', 'start', 'dad', 'play', 'need', 'night', 'open', 'hear', 'home', 'gun', 'phone', 'sound', 'boy', 'laugh', 'big', 'let', 'stop', 'happen', 'dog', 'today', 'gordi', 'high', 'number', 'terribl', 'billi', 'fall', 'dylan', 'everyon', 'hand', 'door', 'mayb', 'sherlock', 'robert', 'footbal', 'danc', 'nois', 'thank', 'across', 'abbi', 'long', 'teddi', 'kitchen', 'upset', 'shruti', 'everi', 'aw', 'excit', 'forgot', 'noth', 'park', 'sing', 'villag', 'tunnel', 'mile', 'ok', 'floor', 'susan', 'must', 'aunt', 'suddenli', 'hate', 'stand', 'rememb', 'far', 'alreadi', 'oh', 'shout', 'hard', 'voyag', 'money', 'pizza', 'surpris', 'shop', 'scott', 'lucki', 'dark', 'moment', 'cow', 'pick', 'watch', 'mum', 'least', 'turn', 'game', 'trip', 'forget', 'light', 'arriv', 'smell', 'close', 'push', 'field', 'drunk', 'alejandro', 'next', 'leave', 'maria', 'backpack', 'forest', 'rosali', 'bag', 'vern', 'kill', 'alley', 'plate', 'miner', 'waiter', 'bore', 'guy', 'second', 'scream', 'blanket', 'hall', 'six', 'trick', 'ever', 'calf', 'music', 'cage', 'nearli', 'care', 'desk', 'broken', 'pocket', 'pull', 'twelv', 'yeah', 'beauti', 'grab', 'clubhous', 'stair', 'harlow', 'outsid', 'wow', 'trash', 'rang', 'hey', 'ark', 'crazi', 'enjoy', 'dinner', 'diamond', 'gp', 'warn', 'air', 'sexi', 'bridg', 'scare', 'somebodi', 'thirti', 'wildli', 'shut', 'innoc', 'honestli']\n",
      "\n",
      "Cluster 1\n",
      "['make', 'ship', 'peopl', 'live', 'well', 'use', 'oil', 'time', 'year', 'food', 'water', 'ga', 'work', 'last', 'new', 'ice', 'even', 'world', 'also', 'feel', 'first', 'lot', 'lifeboat', 'crew', 'much', 'move', 'energi', 'enough', 'stay', 'chef', 'question', 'show', 'project', 'countri', 'sure', 'board', 'job', 'canada', 'problem', 'sea', 'tri', 'chang', 'leav', 'letter', 'titan', 'sport', 'fit', 'howev', 'anoth', 'exampl', 'river', 'edinburgh', 'power', 'sick', 'healthi', 'natur', 'person', 'room', 'parti', 'explain', 'produc', 'organ', 'sand', 'sourc', 'near', 'activ', 'april', 'lead', 'alcohol', 'state', 'week', 'save', 'kid', 'chemic', 'cour', 'inuit', 'frack', 'fitzjam', 'compani', 'travel', 'build', 'resourc', 'protest', 'mixtur', 'part', 'increa', 'rnli', 'languag', 'present', 'leader', 'weather', 'larg', 'inform', 'instead', 'ten', 'john', 'sink', 'belfast', 'winter', 'command', 'studi', 'worri', 'passeng', 'ration', 'addit', 'nation', 'surviv', 'cold', 'meal', 'expert', 'huge', 'carolin', 'commun', 'without', 'renew', 'technolog', 'tanner', 'pipelin', 'coast', 'french', 'wind', 'price', 'jeff', 'affect', 'accid', 'fun', 'decis', 'us', 'fresh', 'campaign', 'earth', 'meat', 'bit', 'allow', 'health', 'rescu', 'erebu', 'transport', 'market', 'fill', 'dr', 'doctor', 'form', 'nearbi', 'veget', 'hunt', 'heat', 'franklin', 'simpson', 'ground', 'hm', 'local', 'offer', 'trend', 'standup', 'damag', 'continu', 'plant', 'electr', 'paddleboard', 'sinc', 'entri', 'drug', 'lifestyl', 'region', 'coupl', 'large', 'deep', 'amount', 'leak', 'pollut', 'neg', 'competit', 'alberta', 'teen', 'avail', 'drive', 'bread', 'expen', 'tast', 'afraid', 'captain', 'product', 'access', 'effect', 'kind', 'polit', 'healthy', 'club', 'dairi', 'export']\n",
      "\n",
      "Cluster 2\n",
      "['like', 'name', 'want', 'dora', 'woman', 'great', 'mine', 'mani', 'mean', 'would', 'bear', 'way', 'someth', 'ye', 'hope', 'life', 'hor', 'never', 'hous', 'thing', 'street', 'esperanza', 'tin', 'alway', 'chine', 'wild', 'bad', 'english', 'offic', 'london', 'head', 'mr', 'cafe', 'stori', 'mouth', 'window', 'old', 'sad', 'abrihim', 'grandmoth', 'sorri', 'mexican', 'suppos', 'mango', 'x', 'magdalena', 'inherit', 'chandeli', 'baptiz', 'sit', 'father', 'spanish', 'zeze', 'hurt', 'strong', 'morn', 'believ', 'wonder', 'nine', 'wait', 'real', 'quit', 'sister', 'song', 'sun', 'bullet', 'marri', 'carri', 'fanci', 'record', 'elbow', 'sunday', 'cisnero', 'muddi', 'color', 'sob', 'sack', 'shave', 'maritza', 'grandfath', 'funni', 'spring', 'silver', 'nenni', 'lisandra', 'roof', 'kronleucht', 'throw', 'sandra', 'syllabl', 'thick', 'soft', 'ˌʃændəˈlɪə', 'nobodi', 'uglier', 'magic', 'carbin', 'certainti', 'moon']\n",
      "\n",
      "Cluster 3\n",
      "['one', 'take', 'place', 'good', 'give', 'king', 'school', 'word', 'meet', 'togeth', 'white', 'answer', 'right', 'love', 'end', 'later', 'young', 'th', 'often', 'dream', 'england', 'drink', 'william', 'brother', 'famili', 'citi', 'small', 'polic', 'bodi', 'littl', 'away', 'point', 'piec', 'four', 'special', 'call', 'follow', 'favourit', 'idea', 'break', 'learn', 'speak', 'garden', 'tire', 'becam', 'text', 'holiday', 'read', 'begin', 'island', 'jose', 'parent', 'land', 'imagin', 'boat', 'eat', 'bird', 'pictur', 'soon', 'everyth', 'wor', 'restaur', 'hour', 'true', 'child', 'stage', 'talk', 'luck', 'order', 'month', 'twenti', 'camp', 'african', 'hold', 'yet', 'girl', 'bottl', 'north', 'describ', 'notic', 'road', 'decid', 'india', 'fast', 'battl', 'norman', 'cake', 'civil', 'safe', 'harold', 'test', 'busi', 'interview', 'date', 'sleep', 'score', 'sign', 'main', 'fish', 'readi', 'canari', 'volunt', 'member', 'temperatur', 'agre', 'mother', 'narrat', 'june', 'thaw', 'hot', 'lunch', 'monkey', 'clara', 'interest', 'fight', 'hotel', 'usual', 'rock', 'sledg', 'weak', 'avoid', 'short', 'quickli', 'bed', 'plea', 'station', 'experi', 'onto', 'abl', 'dead', 'castl', 'extract', 'sweet', 'dirti', 'post', 'feedback', 'five', 'guess', 'pass', 'pumpkin', 'final', 'jona', 'line', 'hole', 'happi', 'delici', 'yesterday', 'heavi', 'silent', 'team', 'correct', 'diggin', 'pump', 'add', 'steal', 'sometim', 'burglar', 'march', 'student', 'gold', 'shine', 'soup', 'understand', 'danger', 'disappear', 'smile', 'glass', 'middl', 'lion', 'map', 'face', 'werden', 'bell', 'mysteri', 'cook', 'earli', 'barbecu', 'gloom', 'egg', 'loud', 'anyway', 'famou', 'keep', 'probabl', 'milk', 'weekend', 'church', 'segreg', 'cough', 'italian', 'choo', 'do', 'hast', 'yuck', 'full', 'spend', 'scienc', 'coal', 'movement', 'textbox', 'pot', 'hardli', 'racial', 'experienc', 'dem', 'entertain', 'finish', 'fact', 'complet', 'mad', 'age', 'christma', 'amaz', 'carrot', 'though', 'york', 'almost', 'stroke', 'uk', 'seem', 'stick', 'chimpanze', 'ill', 'half', 'angri', 'film', 'nice', 'hungri', 'beach', 'futur', 'meow', 'goodby', 'lilli', 'dna', 'optimist', 'earthquak', 'locat', 'magnet', 'surnam', 'everybodi', 'northwest', 'visit', 'load', 'group', 'box', 'sofa', 'harper', 'shake', 'jacko', 'metal', 'iceberg', 'anglo', 'sir', 'saxon', 'warm', 'seal', 'might', 'class', 'author', 'wilder', 'invit', 'archer', 'voic', 'tapestri', 'situat', 'publish', 'discoveri', 'purr', 'aliv', 'easili', 'strang', 'reason', 'supermarket', 'miss', 'friendli', 'breath', 'toward', 'birthday', 'conclus', 'emma', 'usa', 'den', 'cat', 'view', 'llandudno', 'progress', 'basebal', 'struggl', 'keyword', 'grin', 'support', 'bart', 'fruit', 'wash', 'bye', 'explos', 'ein', 'prepar', 'send', 'deadli', 'track', 'journey', 'appear', 'sie', 'quiet', 'calm', 'discuss', 'normal', 'chimp', 'shot', 'babi', 'verb', 'sail', 'hello', 'excus', 'joe', 'articl', 'less', 'clean', 'tent', 'slowli', 'south', 'cours', 'clue', 'tie', 'hit', 'librari', 'aldham', 'except', 'favorit', 'silenc', 'beer', 'possibl', 'fire', 'queen', 'determin', 'exit', 'ireland', 'nora', 'kayak', 'leaflet', 'shoe', 'introduct', 'straight', 'warner', 'draw', 'swim', 'serious', 'gener', 'cool', 'interact', 'buse', 'news', 'reach', 'explod', 'instructor', 'import', 'concentr', 'nicht', 'dollar', 'sum', 'compar', 'includ', 'jump', 'tuna', 'particular', 'slow', 'lake', 'jame', 'tv', 'mainli', 'dan', 'discov', 'shirt', 'farmer', 'magician', 'recip', 'slap', 'brave', 'pam', 'roll', 'belt', 'creat', 'varieti', 'either', 'million', 'unit', 'potato', 'star', 'septemb', 'perfect', 'daniel', 'spot', 'amus', 'posit', 'frighten', 'luther', 'ka', 'spill', 'smelli', 'evil', 'left', 'beat', 'worker', 'railway', 'catch', 'ad', 'lamp', 'gather', 'glad', 'jaipur', 'martin', 'heart', 'suggest', 'wrist', 'loudli', 'grow', 'despain', 'prize', 'puke', 'bottom', 'ran', 'deal', 'german', 'addict', 'glasgow', 'picnic', 'schon', 'tonight', 'activist', 'book', 'wie', 'ideal', 'duke', 'rich', 'squeez', 'solv', 'claim', 'wine', 'fundrais', 'popular', 'round', 'cranberri', 'piti', 'pie', 'modern', 'cross', 'feed', 'fli', 'arrest', 'fect', 'tradit', 'qualiti', 'homework', 'case', 'empir', 'race', 'headlin', 'beeman', 'swiss', 'violent', 'center', 'blam', 'habe', 'paddl', 'replac', 'emerg', 'plan', 'finn', 'washington', 'articul', 'nut', 'style', 'object', 'appl', 'hill', 'opinion', 'boston', 'mash', 'summer', 'trade', 'simpli', 'knew', 'train', 'pacif', 'public', 'conquest', 'reduc', 'danni', 'growl', 'conveni', 'happy', 'roast', 'takeaway', 'tomorrow', 'knight', 'foggi', 'expect', 'trainer', 'roulad', 'fashion', 'raccoon', 'ladder', 'es', 'condit', 'hmmm', 'collect', 'financi', 'reli', 'breast', 'environ', 'rush', 'quebec', 'wood', 'exploit', 'flour', 'cleveland', 'calori', 'smoothi', 'controversi', 'co', 'diagnos', 'embark', 'check', 'breakfast', 'temporari', 'frozen', 'pressur', 'dave', 'teenag', 'foot', 'vor', 'univer', 'event', 'british', 'rout', 'tree', 'woof', 'vet', 'concept', 'worth', 'nose', 'armi', 'grillparti', 'advic', 'stephen', 'geotherm', 'reedman', 'magazin', 'major', 'theatr', 'winner', 'doorbel', 'reserv', 'improv', 'fern', 'disast', 'provinc', 'racoon', 'ceil', 'clever', 'neighbour', 'farm', 'jr', 'januari', 'easi', 'link', 'thousand', 'aid', 'igitt', 'schonst', 'industri', 'advantag', 'southern', 'difficult', 'mit', 'signal', 'increas', 'wool', 'boyfriend', 'type', 'musikrichtung', 'trap', 'emiss', 'percent', 'destroy', 'judg', 'driver', 'ring', 'migrat', 'rare', 'nowher', 'wrong', 'grind', 'lack', 'wildlif', 'fuel', 'scene', 'germani', 'free', 'bay', 'ambit', 'hi', 'lauten', 'skate', 'fundament', 'scrambl', 'kuh', 'groom', 'simpl', 'gesehen', 'lock', 'machin', 'bei', 'drank', 'glock', 'je', 'pen', 'juli', 'distinguish', 'size', 'partner', 'clumsi', 'wake', 'henri', 'retten', 'giant', 'machen', 'un', 'wenn', 'growth', 'spirit', 'girlfriend', 'america', 'tourist', 'lindsay', 'sind', 'poison', 'disturb', 'illeg', 'melt', 'verlasst', 'non', 'stanley', 'distanc', 'forc', 'empti', 'ist', 'anywher', 'samuel', 'de', 'promis', 'hunter', 'solder', 'store', 'explo', 'freeze', 'wednesday', 'video', 'pool', 'internet', 'sandwich', 'phrase', 'pleas', 'flight', 'teach', 'starv', 'relev', 'ici', 'lal', 'reid', 'accord', 'shipyard', 'madli', 'nd', 'secur', 'bark', 'zu', 'juic', 'bath', 'gymnasium', 'builder', 'museum', 'scurvi', 'suppli', 'hat', 'monster', 'kent', 'farmland', 'seven', 'chart', 'asia', 'gehen', 'partridg', 'torch', 'buri', 'master', 'block', 'roam', 'montgomeri', 'ankl', 'concert', 'howard', 'isol', 'dusk', 'chariti', 'helicopt', 'deutschland', 'cloth', 'success', 'cultur', 'nur', 'helm', 'shortli', 'turkish', 'midnight', 'messag', 'senior', 'beechey', 'bright', 'relea', 'sever', 'lemon', 'salt', 'greenland', 'advis', 'novemb', 'forti', 'birmingham', 'somehow', 'win', 'compos', 'attend', 'endless', 'auch', 'passag', 'orphanag', 'perhap', 'ihr', 'haben', 'jungl', 'rabbit', 'patrol', 'belong', 'ant', 'speech', 'sore', 'shi', 'von', 'matter', 'hurri', 'southampton', 'europ', 'note', 'intern', 'match', 'cousin', 'scottish', 'panick', 'indit', 'ahead', 'photo', 'unknown', 'locker', 'europaisch', 'appli', 'northern', 'scientif', 'countrysid', 'happili', 'buhn', 'hintergrund', 'earn', 'lip', 'thought', 'top', 'hair', 'spell', 'extra', 'union', 'wife', 'tweet', 'comic', 'badli', 'proud', 'nervou', 'list', 'impress', 'immigr', 'fifti', 'west', 'anyth', 'cinema', 'yellow', 'fox', 'email', 'immer', 'einen', 'ancestri', 'solut', 'diari', 'cartoon', 'stare', 'howi', 'assumpt', 'pound', 'set', 'wahr', 'actual', 'truck', 'smelt', 'davon', 'horen', 'proudli', 'brexit', 'auf', 'will', 'homecom', 'skin', 'adult', 'tow', 'homesick', 'embarrass', 'mail', 'boot', 'boom', 'uber', 'attitud', 'traum', 'speaker', 'lichter', 'ear', 'abwasch', 'accent', 'someon', 'buy', 'seat', 'christian', 'gym', 'chanc', 'attack', 'recommend', 'front', 'invent', 'snowflak', 'imag', 'blacksmith', 'prison', 'useless', 'flame', 'convict', 'greenwich', 'touch', 'summari', 'report', 'early', 'trouser', 'employ', 'express', 'nicknam', 'california', 'husband', 'aber', 'third', 'other', 'zealand', 'metr', 'restroom', 'litter', 'rule', 'edward', 'uh', 'wortspiel', 'ramon', 'death', 'realiz', 'angelsachsen', 'pastor', 'cuba', 'institut', 'volk', 'paper', 'streicheln', 'onlin', 'großbritannien', 'structur', 'memphi', 'heer', 'equal', 'fetzen', 'noch', 'tombston', 'wandteppich', 'arme', 'listen', 'darci', 'grave', 'thief', 'silli', 'weekli', 'normandi', 'pork', 'christchurch', 'victori', 'relat', 'politisch', 'rosa', 'knurren', 'jack', 'fan', 'tower', 'ohh', 'sclc', 'escap', 'balmer', 'ritter', 'connect', 'colleg', 'leg', 'elliot', 'quondam', 'herzog', 'content', 'schwager', 'dialogu', 'stamford', 'bayeux', 'career', 'eroberung', 'movi', 'racist', 'mention', 'miauen', 'goal', 'task', 'treat', 'wird', 'alabama', 'bogenschutz', 'comput', 'strike', 'zoo', 'galleri', 'baptist', 'accept', 'youth', 'bank', 'atlanta', 'wellington', 'bogenschutzin', 'schnurren', 'perfekt', 'yummi', 'familiennam', 'dass', 'tray', 'merchant', 'um', 'bin', 'achiev', 'religi', 'reform', 'etwa', 'fresno', 'senlac', 'tooth', 'fliegen', 'atmospher', 'illustr', 'jungen', 'nachnam', 'whatev', 'politik', 'honor', 'lebt', 'borough', 'teacher', 'abbey', 'europaischen', 'paragraph', 'straße', 'relationship', 'carolean', 'poem', 'highlight', 'identifi', 'figur', 'statement', 'taxi', 'dear', 'coif', 'pirrip', 'conqueror', 'arrow', 'ch', 'digion', 'paramed', 'tennesse', 'social', 'car', 'inchcolm', 'coffe', 'princ', 'ticket', 'attract', 'exist', 'pip', 'share', 'tenni', 'remov', 'contact', 'per', 'process', 'tablet', 'wale', 'climat', 'level', 'resolv', 'landscap', 'arm', 'festiv', 'rais', 'wherefor', 'regard', 'stray', 'erb', 'spider', 'associ', 'linda', 'deshalb', 'august', 'rest', 'meiner', 'staff', 'unser', 'contract', 'wish', 'scotsman', 'ago', 'goa', 'repair', 'bike', 'mountain', 'lway', 'town', 'jetzt', 'flag', 'safeti', 'ind', 'hospit', 'brooklyn', 'seasick', 'hike', 'wert', 'amazon', 'troubl', 'latin', 'st', 'taylor', 'parame', 'equip', 'kein', 'shm', 'deriv', 'blood', 'mitgli', 'mere', 'spendenaktionen', 'besatzung', 'bergen', 'player', 'account', 'recent', 'individu', 'walkway', 'comment', 'mini', 'direct', 'royal', 'orient', 'challeng', 'ignor', 'climb', 'manag', 'hilf', 'schmerz', 'pay', 'picknickplatz', 'babysitt', 'santi', 'com', 'vii', 'foreground', 'ranchi', 'euer', 'erst', 'easy', 'eu', 'satellitengesteuert', 'wollen', 'result', 'dschungel', 'parteien', 'wahrend', 'grandpar', 'heritag', 'servic', 'base', 'condemn', 'telephon', 'oneself', 'wherev', 'eight', 'analys', 'ii', 'ver', 'pack', 'detect', 'spici', 'weltweit', 'nach', 'standortsystem', 'getrennt', 'postcard', 'ast', 'citizen', 'klett', 'sale', 'evalu', 'birth', 'dort', 'oder', 'menschen', 'talent', 'mergenc', 'shape', 'wohltatigkeitsorganis', 'wave', 'establish', 'jugend', 'spade', 'simon', 'verlag', 'ambul', 'excitedli', 'subject', 'blue', 'construct', 'jung', 'knowledg', 'eccentr', 'origin', 'laptop', 'fragen', 'host', 'viel', 'hawaii', 'architectur', 'postman', 'interpret', 'reaction', 'jenni', 'late', 'du', 'term', 'landmark', 'band', 'leadership', 'sight', 'attach', 'manhattan', 'insur', 'bronx', 'topic', 'afford', 'kilt', 'tabl', 'nox', 'definit', 'whether', 'interrog', 'tag', 'outlin', 'serv', 'scientist', 'grammar', 'cost', 'virgin', 'quotat', 'downhil', 'mari', 'briten', 'engstmoglich', 'celebr', 'copi', 'newspap', 'hielt', 'neue', 'musti', 'gargeri', 'organist', 'inscript', 'squar', 'objurg', 'spacewalk', 'beast', 'shack', 'schaden', 'neer', 'harri', 'verhandlungen', 'diesen', 'phase', 'unseren', 'verhaltni', 'eur', 'burger', 'hint', 'element', 'ray', 'best', 'bomb', 'ɪˌskeɪpd', 'ˈkɒnvɪkt', 'fluchtig', 'ˌnӕ', 'nl', 'ˈhɒlədeɪ', 'feiertag', 'zeigt', 'sneer', 'friendship', 'contrast', 'unreason', 'biolog', 'preserv', 'factor', 'aaron', 'sa', 'gemeinsam', 'strategi', 'apart', 'laughter', 'enter', 'measur', 'millionen', 'religion', 'leser', 'priscilla', 'genealog', 'prove', 'streiken', 'ˈstraɪk', 'grunen', 'ˈmɪnɪstə', 'not', 'influenc', 'gandhi', 'jen', 'cell', 'er', 'protect', 'coastal', 'neuen', 'nobel', 'identif', 'dish', 'monday', 'ˌsɪvl', 'ɒn', 'ˈraɪt', 'gut', 'gallen', 'partei', 'flurina', 'kӕˈpeɪn', 'sieg', 'əˈt', 'erreichen', 'staten', 'ˈӕkse', 'zutritt', 'beim']\n",
      "\n",
      "Cluster 4\n",
      "['rise', 'die', 'write', 'differ', 'societi', 'three', 'sentenc', 'whole', 'becom', 'may', 'american', 'lose', 'develop', 'uniti', 'past', 'former', 'anim', 'caus', 'minut', 'law', 'drop', 'lie', 'ocean', 'join', 'independ', 'behind', 'al', 'histori', 'quot', 'minist', 'peac', 'shoot', 'b', 'ident', 'presid', 'thanksgiv', 'alon', 'integr', 'similar', 'indian', 'ambedkar', 'bring', 'philosoph', 'russian', 'sassi', 'comparison', 'justic', 'hibri', 'unlik', 'mikhail', 'beset', 'r', 'tide', 'azizah', 'haughti', 'gorbachev', 'trod', 'scholar', 'diver', 'self', 'legal', 'black', 'concili', 'der', 'cover', 'area', 'e', 'femal', 'turkey', 'pain', 'taufen', 'forgav', 'und', 'hop', 'hip', 'crush', 'terror', 'goe', 'da', 'fur', 'step', 'lachanc', 'g', 'angel', 'maya', 'wir', 'low', 'au', 'wide', 'fear', 'shame', 'slave', 'wondrous', 'backyard', 'flood', 'gift', 'clear', 'jewel', 'root', 'swell', 'thigh', 'teardrop', 'bitter', 'stud', 'decor', 'behaviour', 'tread', 'pride', 'dirt', 'p', 'arrog', 'tɪnə', 'ˈhɔ', 'hut', 'shoulder', 'bold', 'daybreak', 'twist', 'ancestor', 'dust', 'soul', 'cri', 'offend', 'cut', 'participl', 'leap', 'weaken', 'bow', 'ich', 'sich', 'm', 'i', 'f', 'k', 'c', 'w', 'v']\n"
     ]
    }
   ],
   "source": [
    "word_centroid_map = dict(zip(cbow_model.wv.key_to_index, idx ))\n",
    "\n",
    "for cluster in range(0,5):\n",
    "    # Print the cluster number\n",
    "    print(\"\\nCluster %d\" % cluster)\n",
    "    # Find all of the words for that cluster number, and print them out\n",
    "    words = []\n",
    "    for i in range(0, len(list(word_centroid_map.values()))):\n",
    "        vals = word_centroid_map.values()\n",
    "        if(list(vals)[i] == cluster):\n",
    "            words.append(list(word_centroid_map.keys())[i])\n",
    "    print(words)"
   ]
  },
  {
   "cell_type": "markdown",
   "id": "d8df9b13-43ad-4e17-a0b0-2aaf1fb3b221",
   "metadata": {},
   "source": [
    "<hr>"
   ]
  },
  {
   "cell_type": "markdown",
   "id": "a3af82eb-6203-4b05-8a2f-b9dd286e0071",
   "metadata": {},
   "source": [
    "**SKIPGRAM** <br> \n",
    "The SkipGram model on the other hand, learns to predict a word based on a neighboring word. To put it simply, given a word, it learns to predict another word in it’s context."
   ]
  },
  {
   "cell_type": "code",
   "execution_count": 22,
   "id": "cd06e40e-aff3-43bb-af7e-477bdbc40d2d",
   "metadata": {},
   "outputs": [],
   "source": [
    "# Word2Vec Skip Gram model\n",
    "sg_model = Word2Vec(sentences=sentences, min_count=10, vector_size=100, window=5, sg=1)"
   ]
  },
  {
   "cell_type": "code",
   "execution_count": 26,
   "id": "2acbbaf8-3d30-43e7-a81c-e37ddd7b4a9f",
   "metadata": {},
   "outputs": [],
   "source": [
    "# sg_model.wv.key_to_index"
   ]
  },
  {
   "cell_type": "code",
   "execution_count": 27,
   "id": "6a163177-db71-4c87-9951-6f74860765ea",
   "metadata": {},
   "outputs": [
    {
     "data": {
      "text/plain": [
       "[('mango', 0.8317583799362183),\n",
       " ('cisneros,', 0.8169061541557312),\n",
       " ('sandra', 0.8010516166687012),\n",
       " ('justice', 0.7969511151313782),\n",
       " ('from:', 0.7728200554847717),\n",
       " ('bombed', 0.7447158694267273),\n",
       " ('law', 0.7269050478935242),\n",
       " ('2009', 0.7186321020126343),\n",
       " ('indian', 0.7171280384063721),\n",
       " ('jr.', 0.7159419059753418)]"
      ]
     },
     "execution_count": 27,
     "metadata": {},
     "output_type": "execute_result"
    }
   ],
   "source": [
    "sims = sg_model.wv.most_similar(['house'], topn=10)  # get other similar words\n",
    "sims"
   ]
  },
  {
   "cell_type": "code",
   "execution_count": null,
   "id": "914976ce-0b95-457b-8074-7e7e254c3d0b",
   "metadata": {},
   "outputs": [],
   "source": []
  }
 ],
 "metadata": {
  "kernelspec": {
   "display_name": "tb_venv",
   "language": "python",
   "name": "tb_venv"
  },
  "language_info": {
   "codemirror_mode": {
    "name": "ipython",
    "version": 3
   },
   "file_extension": ".py",
   "mimetype": "text/x-python",
   "name": "python",
   "nbconvert_exporter": "python",
   "pygments_lexer": "ipython3",
   "version": "3.11.8"
  }
 },
 "nbformat": 4,
 "nbformat_minor": 5
}
