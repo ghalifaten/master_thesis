{
 "cells": [
  {
   "cell_type": "markdown",
   "id": "65a40885-ac25-44cb-9d5b-f197f1140ed5",
   "metadata": {},
   "source": [
    "This notebook is made for cleaning the open tasks' description texts. <hr>"
   ]
  },
  {
   "cell_type": "code",
   "execution_count": 1,
   "id": "7a80166e-85d6-4a88-b969-dc9b4d2da852",
   "metadata": {},
   "outputs": [],
   "source": [
    "import warnings\n",
    "warnings.filterwarnings(\"ignore\")"
   ]
  },
  {
   "cell_type": "code",
   "execution_count": 2,
   "id": "4cf2eecb-db78-4a28-a0d4-13d29b6907d0",
   "metadata": {},
   "outputs": [],
   "source": [
    "import mysql.connector\n",
    "import pandas as pd\n",
    "import numpy as np\n",
    "import seaborn as sns\n",
    "import matplotlib.pyplot as plt\n",
    "from bs4 import BeautifulSoup\n",
    "import nltk\n",
    "from nltk import classify\n",
    "from nltk import textcat"
   ]
  },
  {
   "cell_type": "code",
   "execution_count": 3,
   "id": "daba238a-3939-4ca7-ab33-dc17e742ad3f",
   "metadata": {},
   "outputs": [],
   "source": [
    "# Connect to Database\n",
    "cnx = mysql.connector.connect(user='root', password='taskbase',\n",
    "                              host='127.0.0.1', port='3309', database='lernnavi')"
   ]
  },
  {
   "cell_type": "markdown",
   "id": "df9defe5-668e-4481-b20d-3e61f2156dd0",
   "metadata": {},
   "source": [
    "**Loading data**"
   ]
  },
  {
   "cell_type": "code",
   "execution_count": 4,
   "id": "f6bd7682-8453-428a-9393-d91ddc34a30f",
   "metadata": {},
   "outputs": [
    {
     "data": {
      "text/html": [
       "<div>\n",
       "<style scoped>\n",
       "    .dataframe tbody tr th:only-of-type {\n",
       "        vertical-align: middle;\n",
       "    }\n",
       "\n",
       "    .dataframe tbody tr th {\n",
       "        vertical-align: top;\n",
       "    }\n",
       "\n",
       "    .dataframe thead th {\n",
       "        text-align: right;\n",
       "    }\n",
       "</style>\n",
       "<table border=\"1\" class=\"dataframe\">\n",
       "  <thead>\n",
       "    <tr style=\"text-align: right;\">\n",
       "      <th></th>\n",
       "      <th>version</th>\n",
       "      <th>taskId</th>\n",
       "      <th>title</th>\n",
       "      <th>typeId</th>\n",
       "      <th>createdTime_x</th>\n",
       "      <th>authorId</th>\n",
       "      <th>content</th>\n",
       "      <th>Status</th>\n",
       "      <th>versionComment</th>\n",
       "      <th>aiStatus</th>\n",
       "      <th>feedbackComment</th>\n",
       "      <th>customerId</th>\n",
       "      <th>language</th>\n",
       "      <th>followUpTask</th>\n",
       "      <th>isCommaMode</th>\n",
       "      <th>isReferenceTask</th>\n",
       "      <th>isMultipleChoice</th>\n",
       "      <th>type</th>\n",
       "      <th>id</th>\n",
       "      <th>createdTime_y</th>\n",
       "    </tr>\n",
       "  </thead>\n",
       "  <tbody>\n",
       "    <tr>\n",
       "      <th>0</th>\n",
       "      <td>954</td>\n",
       "      <td>4HNL62l.47Ta0sHqrOzKoF</td>\n",
       "      <td>Fragebogen SG 10</td>\n",
       "      <td>8</td>\n",
       "      <td>1532434643356</td>\n",
       "      <td>2</td>\n",
       "      <td>{\"id\": \"4HNL62l.47Ta0sHqrOzKoF\", \"type\": \"OPEN...</td>\n",
       "      <td>WORK_IN_PROGRESS</td>\n",
       "      <td>None</td>\n",
       "      <td>INITIAL</td>\n",
       "      <td>None</td>\n",
       "      <td>None</td>\n",
       "      <td>None</td>\n",
       "      <td>None</td>\n",
       "      <td>NaN</td>\n",
       "      <td>0</td>\n",
       "      <td>NaN</td>\n",
       "      <td>OPEN</td>\n",
       "      <td>823</td>\n",
       "      <td>1532434618364</td>\n",
       "    </tr>\n",
       "  </tbody>\n",
       "</table>\n",
       "</div>"
      ],
      "text/plain": [
       "   version                  taskId             title  typeId  createdTime_x  \\\n",
       "0      954  4HNL62l.47Ta0sHqrOzKoF  Fragebogen SG 10       8  1532434643356   \n",
       "\n",
       "   authorId                                            content  \\\n",
       "0         2  {\"id\": \"4HNL62l.47Ta0sHqrOzKoF\", \"type\": \"OPEN...   \n",
       "\n",
       "             Status versionComment aiStatus feedbackComment customerId  \\\n",
       "0  WORK_IN_PROGRESS           None  INITIAL            None       None   \n",
       "\n",
       "  language followUpTask  isCommaMode  isReferenceTask  isMultipleChoice  type  \\\n",
       "0     None         None          NaN                0               NaN  OPEN   \n",
       "\n",
       "    id  createdTime_y  \n",
       "0  823  1532434618364  "
      ]
     },
     "metadata": {},
     "output_type": "display_data"
    },
    {
     "name": "stdout",
     "output_type": "stream",
     "text": [
      "Number of OPEN tasks, playground included: 4551\n"
     ]
    }
   ],
   "source": [
    "# Load Tasks\n",
    "query = \"SELECT * FROM Tasks\"\n",
    "df_tasks = pd.read_sql(query, cnx)\n",
    "\n",
    "# Load types of tasks\n",
    "query = \"SELECT * FROM TaskTypes\"\n",
    "df_types = pd.read_sql(query, cnx)\n",
    "df_types.rename(columns={'id':'typeId', 'name':'type'}, inplace=True)\n",
    "\n",
    "# Assign types to tasks\n",
    "df_tasks = pd.merge(df_tasks, df_types, how=\"inner\", on='typeId')\n",
    "\n",
    "# Select tasks of type \"OPEN\"\n",
    "df_open_tasks = df_tasks[df_tasks[\"type\"] == \"OPEN\"]\n",
    "\n",
    "# Load Last versions of tasks\n",
    "query = \"SELECT * FROM LatestTaskVersions\"\n",
    "df_latest = pd.read_sql(query, cnx)\n",
    "\n",
    "# Select last versions of Open tasks\n",
    "df_latest_open_versions = pd.merge(df_open_tasks, df_latest, how=\"inner\", on=[\"version\", \"taskId\"])\n",
    "display(df_latest_open_versions.head(1))\n",
    "print(f\"Number of OPEN tasks, playground included: {len(df_latest_open_versions)}\")"
   ]
  },
  {
   "cell_type": "markdown",
   "id": "4811aeed-2875-4cfd-903e-3adcb5956b39",
   "metadata": {},
   "source": [
    "**Removing playground tasks, and those with Nan tenant**"
   ]
  },
  {
   "cell_type": "code",
   "execution_count": 5,
   "id": "1aaf9e10-1c78-4488-9b4d-9be4ea13b7dd",
   "metadata": {},
   "outputs": [
    {
     "name": "stdout",
     "output_type": "stream",
     "text": [
      "Percentage of tasks with unspecified tenant: 3.32%\n",
      "Percentage of playground tasks (after removing Nan tenants): 9.91%\n",
      "Number of OPEN tasks after removing Playground and Nan tenants: 3964\n"
     ]
    }
   ],
   "source": [
    "df_content = df_latest_open_versions[\"content\"].apply(json.loads).apply(pd.Series)\n",
    "df_content.rename(columns={\"id\":\"taskId\"}, inplace=True)\n",
    "df_tenants = df_content[\"tenant\"].apply(pd.Series)\n",
    "df_tenants.rename(columns={\"name\":\"tenant_name\"}, inplace=True)\n",
    "\n",
    "# Nan tenants\n",
    "df_content = pd.concat([df_content, df_tenants], axis=1)\n",
    "print(\"Percentage of tasks with unspecified tenant: {:.2f}%\".format(len(df_content[df_content[\"tenant_name\"].isna()]) / len(df_content) * 100))\n",
    "df_content.dropna(subset=[\"tenant_name\"], inplace=True)\n",
    "\n",
    "# Playground\n",
    "df_playground = df_content[df_content[\"tenant_name\"].str.contains('playground', case=False)]\n",
    "print(\"Percentage of playground tasks (after removing Nan tenants): {:.2f}%\".format(len(df_playground) / len(df_content) * 100))\n",
    "df_content = df_content.drop(df_playground.index)\n",
    "df_open_tasks = df_content.copy()\n",
    "\n",
    "\n",
    "print(f\"Number of OPEN tasks after removing Playground and Nan tenants: {len(df_open_tasks)}\")"
   ]
  },
  {
   "cell_type": "markdown",
   "id": "6cacf022-e191-4cef-ab95-b55e08e9b027",
   "metadata": {},
   "source": [
    "**Cleaning**"
   ]
  },
  {
   "cell_type": "code",
   "execution_count": 6,
   "id": "c563c64f-a3fd-4983-bb8f-d30851e7ed2a",
   "metadata": {},
   "outputs": [
    {
     "name": "stdout",
     "output_type": "stream",
     "text": [
      "Final number of tasks after cleaning: 3964\n"
     ]
    }
   ],
   "source": [
    "columns_to_keep = [\"taskId\", \"language\", \"description\", \"context\", \"topic\"]\n",
    "df_open_tasks = df_open_tasks[columns_to_keep]\n",
    "df_open_tasks.dropna(axis=1, how=\"all\")\n",
    "\n",
    "# Extract topic ID, potentially useful later\n",
    "df_topics = df_open_tasks[\"topic\"].apply(pd.Series)\n",
    "df_topics.rename(columns={\"id\":\"topic_id\"}, inplace=True)\n",
    "\n",
    "df = pd.concat([df_open_tasks.drop(\"topic\", axis=1), df_topics[[\"topic_id\"]]], axis=1)\n",
    "\n",
    "print(f\"Final number of tasks after cleaning: {len(df)}\")"
   ]
  },
  {
   "cell_type": "raw",
   "id": "4ef77183-10e3-48bc-a9da-f80368c0323e",
   "metadata": {},
   "source": [
    "**Augment description with context**"
   ]
  },
  {
   "cell_type": "raw",
   "id": "6c1a02b5-ef15-41e5-b900-10c7b79263e6",
   "metadata": {},
   "source": [
    "df.head(1)"
   ]
  },
  {
   "cell_type": "raw",
   "id": "91d59299-a5a9-40fc-8ab4-fb52694e3ea5",
   "metadata": {},
   "source": [
    "df[\"description\"] = df.apply(\n",
    "    lambda row: row[\"description\"]+\" \"+row[\"context\"] \n",
    "    if isinstance(row[\"context\"], str) \n",
    "    else row[\"description\"], \n",
    "    axis=1)\n",
    "df.drop(columns=[\"context\"], inplace=True)\n",
    "df.head(1)"
   ]
  },
  {
   "cell_type": "markdown",
   "id": "b8d1d333-471c-47fd-b5c0-2e48a4ce4eae",
   "metadata": {},
   "source": [
    "**Cleaning description: HTML parsing, removing empty descriptions**"
   ]
  },
  {
   "cell_type": "code",
   "execution_count": 7,
   "id": "1ea0ce15-c366-4f61-a0d1-dd31b94781db",
   "metadata": {},
   "outputs": [
    {
     "name": "stdout",
     "output_type": "stream",
     "text": [
      "Final number of tasks with non empty descriptions: 3838\n"
     ]
    }
   ],
   "source": [
    "df[\"description\"] = df[\"description\"].apply(\n",
    "    lambda text: BeautifulSoup(str(text), 'html.parser').get_text(separator=\" \", strip=True).strip())\n",
    "\n",
    "#Remove empty descriptions \n",
    "df = df[df[\"description\"] != \"\"] \n",
    "print(f\"Final number of tasks with non empty descriptions: {len(df)}\")"
   ]
  },
  {
   "cell_type": "markdown",
   "id": "adc4c8b8-1198-469c-bfd0-176e016a0aaa",
   "metadata": {},
   "source": [
    "**Controlling language field**"
   ]
  },
  {
   "cell_type": "code",
   "execution_count": 8,
   "id": "e1de69ee-5411-41ac-abc6-74febb2256d2",
   "metadata": {},
   "outputs": [
    {
     "data": {
      "text/plain": [
       "array([nan, 'EN', 'DE', 'FR', 'IT', 'DE_DE'], dtype=object)"
      ]
     },
     "execution_count": 8,
     "metadata": {},
     "output_type": "execute_result"
    }
   ],
   "source": [
    "df.language.unique()"
   ]
  },
  {
   "cell_type": "code",
   "execution_count": 9,
   "id": "ba82f048-d888-49d8-aa44-a4154b160488",
   "metadata": {},
   "outputs": [],
   "source": [
    "df[\"language\"] = df[\"language\"].apply(lambda l: \"DE\" if l==\"DE_DE\" else l)"
   ]
  },
  {
   "cell_type": "code",
   "execution_count": 10,
   "id": "e6ff7774-2dd9-4ed5-8339-7e9ffec2a263",
   "metadata": {},
   "outputs": [
    {
     "name": "stdout",
     "output_type": "stream",
     "text": [
      "Nan:  23.63%\n",
      "ENGLISH:  32.88%\n",
      "GERMAN:  34.76%\n"
     ]
    }
   ],
   "source": [
    "L = len(df)\n",
    "l = len(df[df[\"language\"].isna()])\n",
    "nan_perc = l/L\n",
    "print(\"Nan:  {:.2f}%\".format(nan_perc*100))\n",
    "\n",
    "l = len(df[df[\"language\"] == \"EN\"])\n",
    "print(\"ENGLISH:  {:.2f}%\".format(l/L*100))\n",
    "\n",
    "l = len(df[df[\"language\"] == \"DE\"])\n",
    "print(\"GERMAN:  {:.2f}%\".format(l/L*100))\n",
    "\n",
    "# Remove FR and IT tasks \n",
    "df = df[~df[\"language\"].isin([\"FR\", \"IT\"])]"
   ]
  },
  {
   "cell_type": "markdown",
   "id": "60c392e0-0700-4ea7-9da5-e6fb3add314c",
   "metadata": {},
   "source": [
    "<hr>"
   ]
  },
  {
   "cell_type": "markdown",
   "id": "851c614a-581a-4753-97aa-e73727cc72e3",
   "metadata": {},
   "source": [
    "**Fixing language field**"
   ]
  },
  {
   "cell_type": "code",
   "execution_count": 11,
   "id": "c0b6cc84-4a90-4d58-9c16-b8c194cfb556",
   "metadata": {},
   "outputs": [
    {
     "name": "stdout",
     "output_type": "stream",
     "text": [
      "2596\n",
      "907\n"
     ]
    }
   ],
   "source": [
    "def detect_lang(detector, text):\n",
    "    try:\n",
    "        return detector.guess_language(text)\n",
    "    except:\n",
    "        return \"\"\n",
    "if nan_perc > 0.2:\n",
    "    detector = textcat.TextCat()\n",
    "    df_nan = df[df[\"language\"].isna()].copy()\n",
    "    df = df.dropna(subset=[\"language\"])\n",
    "    df_nan[\"language\"] = df_nan[\"description\"].apply(lambda text: detect_lang(detector, text))\n",
    "    print(len(df))\n",
    "    print(len(df_nan))"
   ]
  },
  {
   "cell_type": "code",
   "execution_count": 12,
   "id": "9be0f6d5-add3-4bc8-bc83-7741a712eb46",
   "metadata": {},
   "outputs": [
    {
     "data": {
      "text/plain": [
       "3142"
      ]
     },
     "execution_count": 12,
     "metadata": {},
     "output_type": "execute_result"
    }
   ],
   "source": [
    "# Concat detected German and English tasks to main df\n",
    "df = pd.concat([df, df_nan[df_nan['language'].isin([\"deu\", \"eng\"])]])\n",
    "len(df)"
   ]
  },
  {
   "cell_type": "code",
   "execution_count": 13,
   "id": "ff353efa-8353-4108-b57e-b4458bcd5f96",
   "metadata": {},
   "outputs": [
    {
     "data": {
      "text/html": [
       "<div>\n",
       "<style scoped>\n",
       "    .dataframe tbody tr th:only-of-type {\n",
       "        vertical-align: middle;\n",
       "    }\n",
       "\n",
       "    .dataframe tbody tr th {\n",
       "        vertical-align: top;\n",
       "    }\n",
       "\n",
       "    .dataframe thead th {\n",
       "        text-align: right;\n",
       "    }\n",
       "</style>\n",
       "<table border=\"1\" class=\"dataframe\">\n",
       "  <thead>\n",
       "    <tr style=\"text-align: right;\">\n",
       "      <th></th>\n",
       "      <th>taskId</th>\n",
       "      <th>language</th>\n",
       "      <th>description</th>\n",
       "      <th>context</th>\n",
       "      <th>topic_id</th>\n",
       "    </tr>\n",
       "  </thead>\n",
       "  <tbody>\n",
       "    <tr>\n",
       "      <th>511</th>\n",
       "      <td>7TVZOkAoQvS71zub3YI9Uy</td>\n",
       "      <td>EN</td>\n",
       "      <td>What do you know about the Battle of Waterloo?</td>\n",
       "      <td>NaN</td>\n",
       "      <td>4598.0</td>\n",
       "    </tr>\n",
       "    <tr>\n",
       "      <th>660</th>\n",
       "      <td>9Aa4h4yosMb9oAglIYVbMr</td>\n",
       "      <td>DE</td>\n",
       "      <td>Translate into German: Він народився у Швейцарії.</td>\n",
       "      <td>NaN</td>\n",
       "      <td>NaN</td>\n",
       "    </tr>\n",
       "    <tr>\n",
       "      <th>690</th>\n",
       "      <td>8lxRyLzStOK9eUhNRal38O</td>\n",
       "      <td>EN</td>\n",
       "      <td>Describe the interaction between the girl and ...</td>\n",
       "      <td>NaN</td>\n",
       "      <td>NaN</td>\n",
       "    </tr>\n",
       "    <tr>\n",
       "      <th>691</th>\n",
       "      <td>aazKG44PsKc5UnpTiDECut</td>\n",
       "      <td>EN</td>\n",
       "      <td>Write three short sentences about yourself or ...</td>\n",
       "      <td>NaN</td>\n",
       "      <td>NaN</td>\n",
       "    </tr>\n",
       "    <tr>\n",
       "      <th>692</th>\n",
       "      <td>8L1QdQwEG5XaRfdYKcLPed</td>\n",
       "      <td>EN</td>\n",
       "      <td>Translate this sentence into English: \"Homer S...</td>\n",
       "      <td>NaN</td>\n",
       "      <td>NaN</td>\n",
       "    </tr>\n",
       "  </tbody>\n",
       "</table>\n",
       "</div>"
      ],
      "text/plain": [
       "                     taskId language  \\\n",
       "511  7TVZOkAoQvS71zub3YI9Uy       EN   \n",
       "660  9Aa4h4yosMb9oAglIYVbMr       DE   \n",
       "690  8lxRyLzStOK9eUhNRal38O       EN   \n",
       "691  aazKG44PsKc5UnpTiDECut       EN   \n",
       "692  8L1QdQwEG5XaRfdYKcLPed       EN   \n",
       "\n",
       "                                           description context  topic_id  \n",
       "511     What do you know about the Battle of Waterloo?     NaN    4598.0  \n",
       "660  Translate into German: Він народився у Швейцарії.     NaN       NaN  \n",
       "690  Describe the interaction between the girl and ...     NaN       NaN  \n",
       "691  Write three short sentences about yourself or ...     NaN       NaN  \n",
       "692  Translate this sentence into English: \"Homer S...     NaN       NaN  "
      ]
     },
     "execution_count": 13,
     "metadata": {},
     "output_type": "execute_result"
    }
   ],
   "source": [
    "df.head()"
   ]
  },
  {
   "cell_type": "code",
   "execution_count": 14,
   "id": "bf27ec3e-c3a6-4198-98b2-5f39461ba1e2",
   "metadata": {},
   "outputs": [],
   "source": [
    "# Word count\n",
    "df[\"word_count\"] = df[\"description\"].apply(lambda s: len(s.split())) \n",
    "\n",
    "df_deu = df[df[\"language\"].isin([\"deu\", \"DE\"])] \n",
    "df_eng = df[df[\"language\"].isin([\"eng\", \"EN\"])]  "
   ]
  },
  {
   "cell_type": "code",
   "execution_count": 15,
   "id": "345fbeaa-aecb-4f74-9780-0fff725c0e8e",
   "metadata": {},
   "outputs": [
    {
     "data": {
      "text/plain": [
       "(1798, 1344)"
      ]
     },
     "execution_count": 15,
     "metadata": {},
     "output_type": "execute_result"
    }
   ],
   "source": [
    "len(df_deu), len(df_eng)"
   ]
  },
  {
   "cell_type": "markdown",
   "id": "832b5c0e-d1fa-4a8d-9938-cbddb624d658",
   "metadata": {},
   "source": [
    "<hr>"
   ]
  },
  {
   "cell_type": "markdown",
   "id": "dfbce136-f96a-49c1-907e-d7fc80f7b16e",
   "metadata": {},
   "source": [
    "**Visualization**"
   ]
  },
  {
   "cell_type": "code",
   "execution_count": 16,
   "id": "0e8e70e3-d04b-420f-9867-3f883b4116ae",
   "metadata": {},
   "outputs": [],
   "source": [
    "from sklearn.feature_extraction.text import CountVectorizer"
   ]
  },
  {
   "cell_type": "code",
   "execution_count": 17,
   "id": "a1fa607a-a35c-491b-b464-2370ce54b8c2",
   "metadata": {},
   "outputs": [
    {
     "data": {
      "image/png": "[encoded data removed]",
      "text/plain": [
       "<Figure size 2000x600 with 2 Axes>"
      ]
     },
     "metadata": {},
     "output_type": "display_data"
    }
   ],
   "source": [
    "fig, axs = plt.subplots(1, 2, figsize=(20, 6), sharey=True)\n",
    "fig.suptitle('Distribution of lengths of descriptions by word count') \n",
    "for (i, (df, lang)) in enumerate(zip([df_deu, df_eng], [\"German\", \"English\"])): \n",
    "    ax = axs[i]\n",
    "    word_count = df[\"word_count\"].to_list()\n",
    "    ax.hist(word_count, bins=np.arange(max(word_count)+2)-0.5, histtype='step')\n",
    "    ax.set_yscale(\"log\")\n",
    "    ax.set_xscale(\"log\")\n",
    "    ax.set_title(lang)\n",
    "    ax.set_xlabel(\"word count\")\n",
    "    if i == 0:\n",
    "        ax.set_ylabel(\"frequency\")\n",
    "\n",
    "fig.savefig(\"figures/description_lengths\", bbox_inches=\"tight\") "
   ]
  },
  {
   "cell_type": "code",
   "execution_count": 18,
   "id": "7300b51e-3d4c-48dc-886e-b2a4cb4f34a0",
   "metadata": {},
   "outputs": [
    {
     "name": "stdout",
     "output_type": "stream",
     "text": [
      "Percentage of descriptions with less than 5 words:\n",
      "English: 2.75%\n",
      "German: 1.17%\n",
      "\n",
      "Percentage of descriptions with less than 10 words:\n",
      "English: 48.36%\n",
      "German: 9.90%\n"
     ]
    }
   ],
   "source": [
    "print(\"Percentage of descriptions with less than 5 words:\")\n",
    "print(\"English: {:.2f}%\".format(len(df_eng[df_eng[\"word_count\"] < 5]) / len(df_eng) * 100))\n",
    "print(\"German: {:.2f}%\".format(len(df_deu[df_deu[\"word_count\"] < 5]) / len(df_deu) * 100))\n",
    "\n",
    "print(\"\\nPercentage of descriptions with less than 10 words:\")\n",
    "print(\"English: {:.2f}%\".format(len(df_eng[df_eng[\"word_count\"] < 10]) / len(df_eng) * 100))\n",
    "print(\"German: {:.2f}%\".format(len(df_deu[df_deu[\"word_count\"] < 10]) / len(df_deu) * 100))"
   ]
  },
  {
   "cell_type": "markdown",
   "id": "772d9e80-7c25-41cd-bbf8-5e83580adb56",
   "metadata": {},
   "source": [
    "> Descriptions with less than 5 words mostly correspond to testing tasks (\"empty task\", \"test task\", \"bla bla bla\"...) and it is judicious to remove them. Since they correspong to less than 5% of the descriptions in both languages, we can remove them. Those with less than 10 words however represent more than half of the english tasks and so cannot be removed and should not be just testing tasks."
   ]
  },
  {
   "cell_type": "markdown",
   "id": "e1e1ec7c-ac0b-4303-a878-d96205527a5e",
   "metadata": {},
   "source": [
    "**Saving clean tasks**"
   ]
  },
  {
   "cell_type": "code",
   "execution_count": 19,
   "id": "2daab706-c768-4fea-8fde-63648e029cab",
   "metadata": {},
   "outputs": [],
   "source": [
    "df_deu = df_deu[df_deu[\"word_count\"] > 4]\n",
    "df_deu.to_csv(\"data/DE/open_tasks.csv\", index_label=False)\n",
    "\n",
    "df_eng = df_eng[df_eng[\"word_count\"] > 4]\n",
    "df_eng.to_csv(\"data/EN/open_tasks.csv\", index_label=False)"
   ]
  },
  {
   "cell_type": "code",
   "execution_count": null,
   "id": "445f5864-9c55-4b0c-a153-cdeab3fa54c6",
   "metadata": {},
   "outputs": [],
   "source": []
  }
 ],
 "metadata": {
  "kernelspec": {
   "display_name": "tb_venv",
   "language": "python",
   "name": "tb_venv"
  },
  "language_info": {
   "codemirror_mode": {
    "name": "ipython",
    "version": 3
   },
   "file_extension": ".py",
   "mimetype": "text/x-python",
   "name": "python",
   "nbconvert_exporter": "python",
   "pygments_lexer": "ipython3",
   "version": "3.11.8"
  }
 },
 "nbformat": 4,
 "nbformat_minor": 5
}
