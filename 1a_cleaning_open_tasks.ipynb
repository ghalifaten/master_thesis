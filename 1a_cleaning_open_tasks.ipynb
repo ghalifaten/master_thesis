{
 "cells": [
  {
   "cell_type": "code",
   "execution_count": 1,
   "id": "7a80166e-85d6-4a88-b969-dc9b4d2da852",
   "metadata": {},
   "outputs": [],
   "source": [
    "import warnings\n",
    "warnings.filterwarnings(\"ignore\")"
   ]
  },
  {
   "cell_type": "code",
   "execution_count": 2,
   "id": "4cf2eecb-db78-4a28-a0d4-13d29b6907d0",
   "metadata": {},
   "outputs": [],
   "source": [
    "import mysql.connector\n",
    "import pandas as pd\n",
    "import numpy as np\n",
    "import seaborn as sns\n",
    "import matplotlib.pyplot as plt\n",
    "from bs4 import BeautifulSoup"
   ]
  },
  {
   "cell_type": "code",
   "execution_count": 3,
   "id": "daba238a-3939-4ca7-ab33-dc17e742ad3f",
   "metadata": {},
   "outputs": [],
   "source": [
    "cnx = mysql.connector.connect(user='root', password='taskbase',\n",
    "                              host='127.0.0.1', port='3309', database='lernnavi')"
   ]
  },
  {
   "cell_type": "code",
   "execution_count": 4,
   "id": "dad2024a-74ac-4710-b019-c4eb89e5251e",
   "metadata": {},
   "outputs": [
    {
     "data": {
      "text/html": [
       "<div>\n",
       "<style scoped>\n",
       "    .dataframe tbody tr th:only-of-type {\n",
       "        vertical-align: middle;\n",
       "    }\n",
       "\n",
       "    .dataframe tbody tr th {\n",
       "        vertical-align: top;\n",
       "    }\n",
       "\n",
       "    .dataframe thead th {\n",
       "        text-align: right;\n",
       "    }\n",
       "</style>\n",
       "<table border=\"1\" class=\"dataframe\">\n",
       "  <thead>\n",
       "    <tr style=\"text-align: right;\">\n",
       "      <th></th>\n",
       "      <th>typeId</th>\n",
       "      <th>type</th>\n",
       "    </tr>\n",
       "  </thead>\n",
       "  <tbody>\n",
       "    <tr>\n",
       "      <th>0</th>\n",
       "      <td>26</td>\n",
       "      <td>BIT_MATCH</td>\n",
       "    </tr>\n",
       "    <tr>\n",
       "      <th>1</th>\n",
       "      <td>32</td>\n",
       "      <td>BIT_MATCH_MATRIX</td>\n",
       "    </tr>\n",
       "    <tr>\n",
       "      <th>2</th>\n",
       "      <td>27</td>\n",
       "      <td>BIT_MATCH_PICTURE</td>\n",
       "    </tr>\n",
       "    <tr>\n",
       "      <th>3</th>\n",
       "      <td>30</td>\n",
       "      <td>BIT_MULTIPLE_CHOICE</td>\n",
       "    </tr>\n",
       "    <tr>\n",
       "      <th>4</th>\n",
       "      <td>31</td>\n",
       "      <td>BIT_MULTIPLE_RESPONSE</td>\n",
       "    </tr>\n",
       "  </tbody>\n",
       "</table>\n",
       "</div>"
      ],
      "text/plain": [
       "   typeId                   type\n",
       "0      26              BIT_MATCH\n",
       "1      32       BIT_MATCH_MATRIX\n",
       "2      27      BIT_MATCH_PICTURE\n",
       "3      30    BIT_MULTIPLE_CHOICE\n",
       "4      31  BIT_MULTIPLE_RESPONSE"
      ]
     },
     "execution_count": 4,
     "metadata": {},
     "output_type": "execute_result"
    }
   ],
   "source": [
    "query = \"SELECT * FROM TaskTypes\"\n",
    "df_types = pd.read_sql(query, cnx)\n",
    "df_types.rename(columns={'id':'typeId', 'name':'type'}, inplace=True)\n",
    "df_types.head()"
   ]
  },
  {
   "cell_type": "code",
   "execution_count": 5,
   "id": "f6bd7682-8453-428a-9393-d91ddc34a30f",
   "metadata": {},
   "outputs": [
    {
     "data": {
      "text/html": [
       "<div>\n",
       "<style scoped>\n",
       "    .dataframe tbody tr th:only-of-type {\n",
       "        vertical-align: middle;\n",
       "    }\n",
       "\n",
       "    .dataframe tbody tr th {\n",
       "        vertical-align: top;\n",
       "    }\n",
       "\n",
       "    .dataframe thead th {\n",
       "        text-align: right;\n",
       "    }\n",
       "</style>\n",
       "<table border=\"1\" class=\"dataframe\">\n",
       "  <thead>\n",
       "    <tr style=\"text-align: right;\">\n",
       "      <th></th>\n",
       "      <th>version</th>\n",
       "      <th>taskId</th>\n",
       "      <th>title</th>\n",
       "      <th>typeId</th>\n",
       "      <th>createdTime</th>\n",
       "      <th>authorId</th>\n",
       "      <th>content</th>\n",
       "      <th>Status</th>\n",
       "      <th>versionComment</th>\n",
       "      <th>aiStatus</th>\n",
       "      <th>feedbackComment</th>\n",
       "      <th>customerId</th>\n",
       "      <th>language</th>\n",
       "      <th>followUpTask</th>\n",
       "      <th>type</th>\n",
       "    </tr>\n",
       "  </thead>\n",
       "  <tbody>\n",
       "    <tr>\n",
       "      <th>0</th>\n",
       "      <td>8</td>\n",
       "      <td>Dyx07vCUuWqWSiHC6V</td>\n",
       "      <td></td>\n",
       "      <td>3</td>\n",
       "      <td>1531728113426</td>\n",
       "      <td>2</td>\n",
       "      <td>{\"id\": \"Dyx07vCUuWqWSiHC6V\", \"type\": \"HIGHLIGH...</td>\n",
       "      <td>WORK_IN_PROGRESS</td>\n",
       "      <td>None</td>\n",
       "      <td>INITIAL</td>\n",
       "      <td>None</td>\n",
       "      <td>None</td>\n",
       "      <td>None</td>\n",
       "      <td>None</td>\n",
       "      <td>HIGHLIGHT</td>\n",
       "    </tr>\n",
       "    <tr>\n",
       "      <th>1</th>\n",
       "      <td>9</td>\n",
       "      <td>Dyx07vCUuWqWSiHC6V</td>\n",
       "      <td>Aufgabe PT1.2</td>\n",
       "      <td>3</td>\n",
       "      <td>1531728228715</td>\n",
       "      <td>2</td>\n",
       "      <td>{\"id\": \"Dyx07vCUuWqWSiHC6V\", \"type\": \"HIGHLIGH...</td>\n",
       "      <td>WORK_IN_PROGRESS</td>\n",
       "      <td>None</td>\n",
       "      <td>INITIAL</td>\n",
       "      <td>None</td>\n",
       "      <td>None</td>\n",
       "      <td>None</td>\n",
       "      <td>None</td>\n",
       "      <td>HIGHLIGHT</td>\n",
       "    </tr>\n",
       "    <tr>\n",
       "      <th>2</th>\n",
       "      <td>20</td>\n",
       "      <td>HurIW8u0XJAWSiN5aR</td>\n",
       "      <td></td>\n",
       "      <td>3</td>\n",
       "      <td>1531729909418</td>\n",
       "      <td>2</td>\n",
       "      <td>{\"id\": \"HurIW8u0XJAWSiN5aR\", \"type\": \"HIGHLIGH...</td>\n",
       "      <td>WORK_IN_PROGRESS</td>\n",
       "      <td>None</td>\n",
       "      <td>INITIAL</td>\n",
       "      <td>None</td>\n",
       "      <td>None</td>\n",
       "      <td>None</td>\n",
       "      <td>None</td>\n",
       "      <td>HIGHLIGHT</td>\n",
       "    </tr>\n",
       "    <tr>\n",
       "      <th>3</th>\n",
       "      <td>21</td>\n",
       "      <td>HurIW8u0XJAWSiN5aR</td>\n",
       "      <td></td>\n",
       "      <td>3</td>\n",
       "      <td>1531730025414</td>\n",
       "      <td>2</td>\n",
       "      <td>{\"id\": \"HurIW8u0XJAWSiN5aR\", \"type\": \"HIGHLIGH...</td>\n",
       "      <td>WORK_IN_PROGRESS</td>\n",
       "      <td>None</td>\n",
       "      <td>INITIAL</td>\n",
       "      <td>None</td>\n",
       "      <td>None</td>\n",
       "      <td>None</td>\n",
       "      <td>None</td>\n",
       "      <td>HIGHLIGHT</td>\n",
       "    </tr>\n",
       "    <tr>\n",
       "      <th>4</th>\n",
       "      <td>24</td>\n",
       "      <td>HurIW8u0XJAWSiN5aR</td>\n",
       "      <td>Aufgabe PT1.6a</td>\n",
       "      <td>3</td>\n",
       "      <td>1531730573408</td>\n",
       "      <td>2</td>\n",
       "      <td>{\"id\": \"HurIW8u0XJAWSiN5aR\", \"type\": \"HIGHLIGH...</td>\n",
       "      <td>WORK_IN_PROGRESS</td>\n",
       "      <td>None</td>\n",
       "      <td>INITIAL</td>\n",
       "      <td>None</td>\n",
       "      <td>None</td>\n",
       "      <td>None</td>\n",
       "      <td>None</td>\n",
       "      <td>HIGHLIGHT</td>\n",
       "    </tr>\n",
       "  </tbody>\n",
       "</table>\n",
       "</div>"
      ],
      "text/plain": [
       "   version              taskId           title  typeId    createdTime  \\\n",
       "0        8  Dyx07vCUuWqWSiHC6V                       3  1531728113426   \n",
       "1        9  Dyx07vCUuWqWSiHC6V   Aufgabe PT1.2       3  1531728228715   \n",
       "2       20  HurIW8u0XJAWSiN5aR                       3  1531729909418   \n",
       "3       21  HurIW8u0XJAWSiN5aR                       3  1531730025414   \n",
       "4       24  HurIW8u0XJAWSiN5aR  Aufgabe PT1.6a       3  1531730573408   \n",
       "\n",
       "   authorId                                            content  \\\n",
       "0         2  {\"id\": \"Dyx07vCUuWqWSiHC6V\", \"type\": \"HIGHLIGH...   \n",
       "1         2  {\"id\": \"Dyx07vCUuWqWSiHC6V\", \"type\": \"HIGHLIGH...   \n",
       "2         2  {\"id\": \"HurIW8u0XJAWSiN5aR\", \"type\": \"HIGHLIGH...   \n",
       "3         2  {\"id\": \"HurIW8u0XJAWSiN5aR\", \"type\": \"HIGHLIGH...   \n",
       "4         2  {\"id\": \"HurIW8u0XJAWSiN5aR\", \"type\": \"HIGHLIGH...   \n",
       "\n",
       "             Status versionComment aiStatus feedbackComment customerId  \\\n",
       "0  WORK_IN_PROGRESS           None  INITIAL            None       None   \n",
       "1  WORK_IN_PROGRESS           None  INITIAL            None       None   \n",
       "2  WORK_IN_PROGRESS           None  INITIAL            None       None   \n",
       "3  WORK_IN_PROGRESS           None  INITIAL            None       None   \n",
       "4  WORK_IN_PROGRESS           None  INITIAL            None       None   \n",
       "\n",
       "  language followUpTask       type  \n",
       "0     None         None  HIGHLIGHT  \n",
       "1     None         None  HIGHLIGHT  \n",
       "2     None         None  HIGHLIGHT  \n",
       "3     None         None  HIGHLIGHT  \n",
       "4     None         None  HIGHLIGHT  "
      ]
     },
     "execution_count": 5,
     "metadata": {},
     "output_type": "execute_result"
    }
   ],
   "source": [
    "query = \"SELECT * FROM Tasks\"\n",
    "df_tasks = pd.read_sql(query, cnx)\n",
    "df_tasks = pd.merge(df_tasks, df_types, how=\"inner\", on='typeId')\n",
    "df_tasks.head()"
   ]
  },
  {
   "cell_type": "code",
   "execution_count": 6,
   "id": "27dc8c36-8b70-43f8-99b2-f8e59965b08d",
   "metadata": {},
   "outputs": [
    {
     "data": {
      "text/html": [
       "<div>\n",
       "<style scoped>\n",
       "    .dataframe tbody tr th:only-of-type {\n",
       "        vertical-align: middle;\n",
       "    }\n",
       "\n",
       "    .dataframe tbody tr th {\n",
       "        vertical-align: top;\n",
       "    }\n",
       "\n",
       "    .dataframe thead th {\n",
       "        text-align: right;\n",
       "    }\n",
       "</style>\n",
       "<table border=\"1\" class=\"dataframe\">\n",
       "  <thead>\n",
       "    <tr style=\"text-align: right;\">\n",
       "      <th></th>\n",
       "      <th>version</th>\n",
       "      <th>taskId</th>\n",
       "      <th>title</th>\n",
       "      <th>typeId</th>\n",
       "      <th>createdTime_x</th>\n",
       "      <th>authorId</th>\n",
       "      <th>content</th>\n",
       "      <th>Status</th>\n",
       "      <th>versionComment</th>\n",
       "      <th>aiStatus</th>\n",
       "      <th>feedbackComment</th>\n",
       "      <th>customerId</th>\n",
       "      <th>language</th>\n",
       "      <th>followUpTask</th>\n",
       "      <th>type</th>\n",
       "      <th>id</th>\n",
       "      <th>createdTime_y</th>\n",
       "    </tr>\n",
       "  </thead>\n",
       "  <tbody>\n",
       "    <tr>\n",
       "      <th>0</th>\n",
       "      <td>2325</td>\n",
       "      <td>PT1-11a-restored</td>\n",
       "      <td>Aufgabe PT1.11a</td>\n",
       "      <td>3</td>\n",
       "      <td>1535643328825</td>\n",
       "      <td>2</td>\n",
       "      <td>{\"id\": \"PT1-11a-restored\", \"type\": \"HIGHLIGHT\"...</td>\n",
       "      <td>WORK_IN_PROGRESS</td>\n",
       "      <td>None</td>\n",
       "      <td>INITIAL</td>\n",
       "      <td>None</td>\n",
       "      <td>None</td>\n",
       "      <td>None</td>\n",
       "      <td>None</td>\n",
       "      <td>HIGHLIGHT</td>\n",
       "      <td>2693</td>\n",
       "      <td>1534434704301</td>\n",
       "    </tr>\n",
       "    <tr>\n",
       "      <th>1</th>\n",
       "      <td>2388</td>\n",
       "      <td>7kQh-veLQfOanjx1QkhbKx</td>\n",
       "      <td>Aufgabe PT 2.14a</td>\n",
       "      <td>3</td>\n",
       "      <td>1535660365797</td>\n",
       "      <td>2</td>\n",
       "      <td>{\"id\": \"7kQh-veLQfOanjx1QkhbKx\", \"type\": \"HIGH...</td>\n",
       "      <td>WORK_IN_PROGRESS</td>\n",
       "      <td>None</td>\n",
       "      <td>INITIAL</td>\n",
       "      <td>None</td>\n",
       "      <td>None</td>\n",
       "      <td>None</td>\n",
       "      <td>None</td>\n",
       "      <td>HIGHLIGHT</td>\n",
       "      <td>1589</td>\n",
       "      <td>1532335779747</td>\n",
       "    </tr>\n",
       "    <tr>\n",
       "      <th>2</th>\n",
       "      <td>2395</td>\n",
       "      <td>d7SwsoVyAUP80fMioyhxzH</td>\n",
       "      <td>Aufgabe PT 2.14c</td>\n",
       "      <td>3</td>\n",
       "      <td>1535661392063</td>\n",
       "      <td>2</td>\n",
       "      <td>{\"id\": \"d7SwsoVyAUP80fMioyhxzH\", \"type\": \"HIGH...</td>\n",
       "      <td>WORK_IN_PROGRESS</td>\n",
       "      <td>None</td>\n",
       "      <td>INITIAL</td>\n",
       "      <td>None</td>\n",
       "      <td>None</td>\n",
       "      <td>None</td>\n",
       "      <td>None</td>\n",
       "      <td>HIGHLIGHT</td>\n",
       "      <td>2516</td>\n",
       "      <td>1532336772750</td>\n",
       "    </tr>\n",
       "    <tr>\n",
       "      <th>3</th>\n",
       "      <td>3786</td>\n",
       "      <td>4R58yTMxw8b5CK1F72eh0W</td>\n",
       "      <td>Musteraufgabe D_Markieren_Adjektive_3.4_WORT_A_1</td>\n",
       "      <td>3</td>\n",
       "      <td>1562516756370</td>\n",
       "      <td>32</td>\n",
       "      <td>{\"id\": \"4R58yTMxw8b5CK1F72eh0W\", \"type\": \"HIGH...</td>\n",
       "      <td>WORK_IN_PROGRESS</td>\n",
       "      <td>None</td>\n",
       "      <td>INITIAL</td>\n",
       "      <td>None</td>\n",
       "      <td>None</td>\n",
       "      <td>None</td>\n",
       "      <td>None</td>\n",
       "      <td>HIGHLIGHT</td>\n",
       "      <td>927</td>\n",
       "      <td>1559076209311</td>\n",
       "    </tr>\n",
       "    <tr>\n",
       "      <th>4</th>\n",
       "      <td>3788</td>\n",
       "      <td>2UiRhzBKL217r4pFiCA6Ek</td>\n",
       "      <td>Ersatz 1.6b_Markieren mit mehreren Farben</td>\n",
       "      <td>3</td>\n",
       "      <td>1562516867617</td>\n",
       "      <td>32</td>\n",
       "      <td>{\"id\": \"2UiRhzBKL217r4pFiCA6Ek\", \"type\": \"HIGH...</td>\n",
       "      <td>WORK_IN_PROGRESS</td>\n",
       "      <td>None</td>\n",
       "      <td>INITIAL</td>\n",
       "      <td>None</td>\n",
       "      <td>None</td>\n",
       "      <td>None</td>\n",
       "      <td>None</td>\n",
       "      <td>HIGHLIGHT</td>\n",
       "      <td>425</td>\n",
       "      <td>1555145282057</td>\n",
       "    </tr>\n",
       "  </tbody>\n",
       "</table>\n",
       "</div>"
      ],
      "text/plain": [
       "   version                  taskId  \\\n",
       "0     2325        PT1-11a-restored   \n",
       "1     2388  7kQh-veLQfOanjx1QkhbKx   \n",
       "2     2395  d7SwsoVyAUP80fMioyhxzH   \n",
       "3     3786  4R58yTMxw8b5CK1F72eh0W   \n",
       "4     3788  2UiRhzBKL217r4pFiCA6Ek   \n",
       "\n",
       "                                              title  typeId  createdTime_x  \\\n",
       "0                                   Aufgabe PT1.11a       3  1535643328825   \n",
       "1                                  Aufgabe PT 2.14a       3  1535660365797   \n",
       "2                                  Aufgabe PT 2.14c       3  1535661392063   \n",
       "3  Musteraufgabe D_Markieren_Adjektive_3.4_WORT_A_1       3  1562516756370   \n",
       "4         Ersatz 1.6b_Markieren mit mehreren Farben       3  1562516867617   \n",
       "\n",
       "   authorId                                            content  \\\n",
       "0         2  {\"id\": \"PT1-11a-restored\", \"type\": \"HIGHLIGHT\"...   \n",
       "1         2  {\"id\": \"7kQh-veLQfOanjx1QkhbKx\", \"type\": \"HIGH...   \n",
       "2         2  {\"id\": \"d7SwsoVyAUP80fMioyhxzH\", \"type\": \"HIGH...   \n",
       "3        32  {\"id\": \"4R58yTMxw8b5CK1F72eh0W\", \"type\": \"HIGH...   \n",
       "4        32  {\"id\": \"2UiRhzBKL217r4pFiCA6Ek\", \"type\": \"HIGH...   \n",
       "\n",
       "             Status versionComment aiStatus feedbackComment customerId  \\\n",
       "0  WORK_IN_PROGRESS           None  INITIAL            None       None   \n",
       "1  WORK_IN_PROGRESS           None  INITIAL            None       None   \n",
       "2  WORK_IN_PROGRESS           None  INITIAL            None       None   \n",
       "3  WORK_IN_PROGRESS           None  INITIAL            None       None   \n",
       "4  WORK_IN_PROGRESS           None  INITIAL            None       None   \n",
       "\n",
       "  language followUpTask       type    id  createdTime_y  \n",
       "0     None         None  HIGHLIGHT  2693  1534434704301  \n",
       "1     None         None  HIGHLIGHT  1589  1532335779747  \n",
       "2     None         None  HIGHLIGHT  2516  1532336772750  \n",
       "3     None         None  HIGHLIGHT   927  1559076209311  \n",
       "4     None         None  HIGHLIGHT   425  1555145282057  "
      ]
     },
     "execution_count": 6,
     "metadata": {},
     "output_type": "execute_result"
    }
   ],
   "source": [
    "query = \"SELECT * FROM LatestTaskVersions\"\n",
    "df = pd.read_sql(query, cnx)\n",
    "df_latest_task_versions = pd.merge(df_tasks, df, how=\"inner\", on=[\"version\", \"taskId\"])\n",
    "df_latest_task_versions.head()"
   ]
  },
  {
   "cell_type": "code",
   "execution_count": 7,
   "id": "1e3e0b36-66a9-44cb-a62a-30dd112b06ef",
   "metadata": {},
   "outputs": [
    {
     "data": {
      "text/plain": [
       "28063"
      ]
     },
     "execution_count": 7,
     "metadata": {},
     "output_type": "execute_result"
    }
   ],
   "source": [
    "len(df_latest_task_versions)"
   ]
  },
  {
   "cell_type": "code",
   "execution_count": 8,
   "id": "1aaf9e10-1c78-4488-9b4d-9be4ea13b7dd",
   "metadata": {
    "scrolled": true
   },
   "outputs": [],
   "source": [
    "df_content = df_latest_task_versions[\"content\"].apply(json.loads).apply(pd.Series)\n",
    "df_content.rename(columns={\"id\":\"taskId\"}, inplace=True)"
   ]
  },
  {
   "cell_type": "code",
   "execution_count": 9,
   "id": "eb2f5828-c3ac-4c14-86e8-dabad438c9b7",
   "metadata": {},
   "outputs": [
    {
     "data": {
      "text/html": [
       "<div>\n",
       "<style scoped>\n",
       "    .dataframe tbody tr th:only-of-type {\n",
       "        vertical-align: middle;\n",
       "    }\n",
       "\n",
       "    .dataframe tbody tr th {\n",
       "        vertical-align: top;\n",
       "    }\n",
       "\n",
       "    .dataframe thead th {\n",
       "        text-align: right;\n",
       "    }\n",
       "</style>\n",
       "<table border=\"1\" class=\"dataframe\">\n",
       "  <thead>\n",
       "    <tr style=\"text-align: right;\">\n",
       "      <th></th>\n",
       "      <th>0</th>\n",
       "      <th>tenant_id</th>\n",
       "      <th>tenant_name</th>\n",
       "    </tr>\n",
       "  </thead>\n",
       "  <tbody>\n",
       "    <tr>\n",
       "      <th>0</th>\n",
       "      <td>NaN</td>\n",
       "      <td>NaN</td>\n",
       "      <td>NaN</td>\n",
       "    </tr>\n",
       "    <tr>\n",
       "      <th>1</th>\n",
       "      <td>NaN</td>\n",
       "      <td>NaN</td>\n",
       "      <td>NaN</td>\n",
       "    </tr>\n",
       "    <tr>\n",
       "      <th>2</th>\n",
       "      <td>NaN</td>\n",
       "      <td>NaN</td>\n",
       "      <td>NaN</td>\n",
       "    </tr>\n",
       "    <tr>\n",
       "      <th>3</th>\n",
       "      <td>NaN</td>\n",
       "      <td>NaN</td>\n",
       "      <td>NaN</td>\n",
       "    </tr>\n",
       "    <tr>\n",
       "      <th>4</th>\n",
       "      <td>NaN</td>\n",
       "      <td>NaN</td>\n",
       "      <td>NaN</td>\n",
       "    </tr>\n",
       "  </tbody>\n",
       "</table>\n",
       "</div>"
      ],
      "text/plain": [
       "    0  tenant_id tenant_name\n",
       "0 NaN        NaN         NaN\n",
       "1 NaN        NaN         NaN\n",
       "2 NaN        NaN         NaN\n",
       "3 NaN        NaN         NaN\n",
       "4 NaN        NaN         NaN"
      ]
     },
     "execution_count": 9,
     "metadata": {},
     "output_type": "execute_result"
    }
   ],
   "source": [
    "df_tenants = df_content[\"tenant\"].apply(pd.Series)\n",
    "df_tenants.rename(columns={\"id\": \"tenant_id\", \"name\": \"tenant_name\"}, inplace=True)\n",
    "df_tenants.head()"
   ]
  },
  {
   "cell_type": "code",
   "execution_count": 10,
   "id": "bd76d406-15eb-4438-9655-20ae1ef87a0a",
   "metadata": {},
   "outputs": [],
   "source": [
    "df_content = pd.concat([df_content, df_tenants], axis=1)\n",
    "# df_content"
   ]
  },
  {
   "cell_type": "code",
   "execution_count": 11,
   "id": "67750857-c406-433e-ac19-21f720f32f43",
   "metadata": {},
   "outputs": [
    {
     "data": {
      "text/plain": [
       "3.075223604033781"
      ]
     },
     "execution_count": 11,
     "metadata": {},
     "output_type": "execute_result"
    }
   ],
   "source": [
    "len(df_content[df_content[\"tenant_name\"].isna()]) / len(df_content) * 100"
   ]
  },
  {
   "cell_type": "code",
   "execution_count": 12,
   "id": "7ce66237-11dc-4a89-94ed-3ef74cd688c7",
   "metadata": {},
   "outputs": [
    {
     "data": {
      "text/plain": [
       "2.0739051420019243"
      ]
     },
     "execution_count": 12,
     "metadata": {},
     "output_type": "execute_result"
    }
   ],
   "source": [
    "len(df_content[df_content[\"tenant_name\"] == \"Playground\"]) / len(df_content) * 100"
   ]
  },
  {
   "cell_type": "code",
   "execution_count": 13,
   "id": "26b9d396-53ec-4533-b381-2d945ad8b703",
   "metadata": {},
   "outputs": [
    {
     "data": {
      "text/html": [
       "<div>\n",
       "<style scoped>\n",
       "    .dataframe tbody tr th:only-of-type {\n",
       "        vertical-align: middle;\n",
       "    }\n",
       "\n",
       "    .dataframe tbody tr th {\n",
       "        vertical-align: top;\n",
       "    }\n",
       "\n",
       "    .dataframe thead th {\n",
       "        text-align: right;\n",
       "    }\n",
       "</style>\n",
       "<table border=\"1\" class=\"dataframe\">\n",
       "  <thead>\n",
       "    <tr style=\"text-align: right;\">\n",
       "      <th></th>\n",
       "      <th>language</th>\n",
       "      <th>description</th>\n",
       "      <th>context</th>\n",
       "      <th>topic</th>\n",
       "      <th>tenant_id</th>\n",
       "      <th>tenant_name</th>\n",
       "    </tr>\n",
       "  </thead>\n",
       "  <tbody>\n",
       "    <tr>\n",
       "      <th>14837</th>\n",
       "      <td>NaN</td>\n",
       "      <td>Nennen Sie fünf Argumente für die ZHAW.</td>\n",
       "      <td>NaN</td>\n",
       "      <td>NaN</td>\n",
       "      <td>19.0</td>\n",
       "      <td>Marketing Grundlagen</td>\n",
       "    </tr>\n",
       "    <tr>\n",
       "      <th>14838</th>\n",
       "      <td>NaN</td>\n",
       "      <td>&lt;p&gt;Ersetze die markierte bildhafte Wendung dur...</td>\n",
       "      <td>NaN</td>\n",
       "      <td>{'id': 1, 'name': 'Deutsch', 'description': 'S...</td>\n",
       "      <td>1.0</td>\n",
       "      <td>Lernnavi</td>\n",
       "    </tr>\n",
       "    <tr>\n",
       "      <th>14839</th>\n",
       "      <td>NaN</td>\n",
       "      <td></td>\n",
       "      <td>NaN</td>\n",
       "      <td>NaN</td>\n",
       "      <td>16.0</td>\n",
       "      <td>connectsolutions_fr</td>\n",
       "    </tr>\n",
       "    <tr>\n",
       "      <th>14840</th>\n",
       "      <td>NaN</td>\n",
       "      <td>Ersetze den fett gedruckten Ausdruck durch ein...</td>\n",
       "      <td>NaN</td>\n",
       "      <td>{'id': 2027, 'name': 'Synonyme/Antonyme', 'dis...</td>\n",
       "      <td>1.0</td>\n",
       "      <td>Lernnavi</td>\n",
       "    </tr>\n",
       "    <tr>\n",
       "      <th>14841</th>\n",
       "      <td>NaN</td>\n",
       "      <td>Beschreibe den Handlungsbereich Vermitteln &lt;st...</td>\n",
       "      <td>NaN</td>\n",
       "      <td>{'id': 125, 'name': 'Sport', 'description': ''...</td>\n",
       "      <td>5.0</td>\n",
       "      <td>jugendundsport</td>\n",
       "    </tr>\n",
       "  </tbody>\n",
       "</table>\n",
       "</div>"
      ],
      "text/plain": [
       "      language                                        description context  \\\n",
       "14837      NaN            Nennen Sie fünf Argumente für die ZHAW.     NaN   \n",
       "14838      NaN  <p>Ersetze die markierte bildhafte Wendung dur...     NaN   \n",
       "14839      NaN                                                        NaN   \n",
       "14840      NaN  Ersetze den fett gedruckten Ausdruck durch ein...     NaN   \n",
       "14841      NaN  Beschreibe den Handlungsbereich Vermitteln <st...     NaN   \n",
       "\n",
       "                                                   topic  tenant_id  \\\n",
       "14837                                                NaN       19.0   \n",
       "14838  {'id': 1, 'name': 'Deutsch', 'description': 'S...        1.0   \n",
       "14839                                                NaN       16.0   \n",
       "14840  {'id': 2027, 'name': 'Synonyme/Antonyme', 'dis...        1.0   \n",
       "14841  {'id': 125, 'name': 'Sport', 'description': ''...        5.0   \n",
       "\n",
       "                tenant_name  \n",
       "14837  Marketing Grundlagen  \n",
       "14838              Lernnavi  \n",
       "14839   connectsolutions_fr  \n",
       "14840              Lernnavi  \n",
       "14841        jugendundsport  "
      ]
     },
     "execution_count": 13,
     "metadata": {},
     "output_type": "execute_result"
    }
   ],
   "source": [
    "df_content = df_content.dropna(subset=[\"tenant_name\"])\n",
    "df_content = df_content[df_content[\"tenant_name\"] != \"Playground\"]\n",
    "df_open_tasks = df_content[df_content[\"type\"] == \"OPEN\"]\n",
    "columns_to_keep = [\"language\", \"description\", \"context\", \"topic\", \"tenant_id\", \"tenant_name\"]\n",
    "df_open_tasks = df_open_tasks[columns_to_keep]\n",
    "df_open_tasks.dropna(axis=1, how=\"all\")\n",
    "df_open_tasks.head()"
   ]
  },
  {
   "cell_type": "code",
   "execution_count": 14,
   "id": "6594c327-3f81-446a-88c9-7edc3c6efa05",
   "metadata": {},
   "outputs": [
    {
     "data": {
      "text/html": [
       "<div>\n",
       "<style scoped>\n",
       "    .dataframe tbody tr th:only-of-type {\n",
       "        vertical-align: middle;\n",
       "    }\n",
       "\n",
       "    .dataframe tbody tr th {\n",
       "        vertical-align: top;\n",
       "    }\n",
       "\n",
       "    .dataframe thead th {\n",
       "        text-align: right;\n",
       "    }\n",
       "</style>\n",
       "<table border=\"1\" class=\"dataframe\">\n",
       "  <thead>\n",
       "    <tr style=\"text-align: right;\">\n",
       "      <th></th>\n",
       "      <th>topic_name</th>\n",
       "      <th>topic_description</th>\n",
       "    </tr>\n",
       "  </thead>\n",
       "  <tbody>\n",
       "    <tr>\n",
       "      <th>14837</th>\n",
       "      <td>NaN</td>\n",
       "      <td>NaN</td>\n",
       "    </tr>\n",
       "    <tr>\n",
       "      <th>14838</th>\n",
       "      <td>Deutsch</td>\n",
       "      <td>Sprache als System</td>\n",
       "    </tr>\n",
       "    <tr>\n",
       "      <th>14839</th>\n",
       "      <td>NaN</td>\n",
       "      <td>NaN</td>\n",
       "    </tr>\n",
       "    <tr>\n",
       "      <th>14840</th>\n",
       "      <td>Synonyme/Antonyme</td>\n",
       "      <td>NaN</td>\n",
       "    </tr>\n",
       "    <tr>\n",
       "      <th>14841</th>\n",
       "      <td>Sport</td>\n",
       "      <td></td>\n",
       "    </tr>\n",
       "  </tbody>\n",
       "</table>\n",
       "</div>"
      ],
      "text/plain": [
       "              topic_name   topic_description\n",
       "14837                NaN                 NaN\n",
       "14838            Deutsch  Sprache als System\n",
       "14839                NaN                 NaN\n",
       "14840  Synonyme/Antonyme                 NaN\n",
       "14841              Sport                    "
      ]
     },
     "execution_count": 14,
     "metadata": {},
     "output_type": "execute_result"
    }
   ],
   "source": [
    "df_topics = df_open_tasks[\"topic\"].apply(pd.Series)\n",
    "df_topics.rename(columns={\"name\":\"topic_name\", \"description\":\"topic_description\"}, inplace=True)\n",
    "df_topics = df_topics[[\"topic_name\", \"topic_description\"]]\n",
    "df_topics.head()"
   ]
  },
  {
   "cell_type": "code",
   "execution_count": 15,
   "id": "1f37b35b-c608-4de3-9579-c87a438c6c8c",
   "metadata": {},
   "outputs": [
    {
     "data": {
      "text/html": [
       "<div>\n",
       "<style scoped>\n",
       "    .dataframe tbody tr th:only-of-type {\n",
       "        vertical-align: middle;\n",
       "    }\n",
       "\n",
       "    .dataframe tbody tr th {\n",
       "        vertical-align: top;\n",
       "    }\n",
       "\n",
       "    .dataframe thead th {\n",
       "        text-align: right;\n",
       "    }\n",
       "</style>\n",
       "<table border=\"1\" class=\"dataframe\">\n",
       "  <thead>\n",
       "    <tr style=\"text-align: right;\">\n",
       "      <th></th>\n",
       "      <th>language</th>\n",
       "      <th>description</th>\n",
       "      <th>context</th>\n",
       "      <th>tenant_id</th>\n",
       "      <th>tenant_name</th>\n",
       "      <th>topic_name</th>\n",
       "      <th>topic_description</th>\n",
       "    </tr>\n",
       "  </thead>\n",
       "  <tbody>\n",
       "    <tr>\n",
       "      <th>14837</th>\n",
       "      <td>NaN</td>\n",
       "      <td>Nennen Sie fünf Argumente für die ZHAW.</td>\n",
       "      <td>NaN</td>\n",
       "      <td>19.0</td>\n",
       "      <td>Marketing Grundlagen</td>\n",
       "      <td>NaN</td>\n",
       "      <td>NaN</td>\n",
       "    </tr>\n",
       "    <tr>\n",
       "      <th>14838</th>\n",
       "      <td>NaN</td>\n",
       "      <td>&lt;p&gt;Ersetze die markierte bildhafte Wendung dur...</td>\n",
       "      <td>NaN</td>\n",
       "      <td>1.0</td>\n",
       "      <td>Lernnavi</td>\n",
       "      <td>Deutsch</td>\n",
       "      <td>Sprache als System</td>\n",
       "    </tr>\n",
       "    <tr>\n",
       "      <th>14839</th>\n",
       "      <td>NaN</td>\n",
       "      <td></td>\n",
       "      <td>NaN</td>\n",
       "      <td>16.0</td>\n",
       "      <td>connectsolutions_fr</td>\n",
       "      <td>NaN</td>\n",
       "      <td>NaN</td>\n",
       "    </tr>\n",
       "    <tr>\n",
       "      <th>14840</th>\n",
       "      <td>NaN</td>\n",
       "      <td>Ersetze den fett gedruckten Ausdruck durch ein...</td>\n",
       "      <td>NaN</td>\n",
       "      <td>1.0</td>\n",
       "      <td>Lernnavi</td>\n",
       "      <td>Synonyme/Antonyme</td>\n",
       "      <td>NaN</td>\n",
       "    </tr>\n",
       "    <tr>\n",
       "      <th>14841</th>\n",
       "      <td>NaN</td>\n",
       "      <td>Beschreibe den Handlungsbereich Vermitteln &lt;st...</td>\n",
       "      <td>NaN</td>\n",
       "      <td>5.0</td>\n",
       "      <td>jugendundsport</td>\n",
       "      <td>Sport</td>\n",
       "      <td></td>\n",
       "    </tr>\n",
       "  </tbody>\n",
       "</table>\n",
       "</div>"
      ],
      "text/plain": [
       "      language                                        description context  \\\n",
       "14837      NaN            Nennen Sie fünf Argumente für die ZHAW.     NaN   \n",
       "14838      NaN  <p>Ersetze die markierte bildhafte Wendung dur...     NaN   \n",
       "14839      NaN                                                        NaN   \n",
       "14840      NaN  Ersetze den fett gedruckten Ausdruck durch ein...     NaN   \n",
       "14841      NaN  Beschreibe den Handlungsbereich Vermitteln <st...     NaN   \n",
       "\n",
       "       tenant_id           tenant_name         topic_name   topic_description  \n",
       "14837       19.0  Marketing Grundlagen                NaN                 NaN  \n",
       "14838        1.0              Lernnavi            Deutsch  Sprache als System  \n",
       "14839       16.0   connectsolutions_fr                NaN                 NaN  \n",
       "14840        1.0              Lernnavi  Synonyme/Antonyme                 NaN  \n",
       "14841        5.0        jugendundsport              Sport                      "
      ]
     },
     "execution_count": 15,
     "metadata": {},
     "output_type": "execute_result"
    }
   ],
   "source": [
    "df_open_tasks = pd.concat([df_open_tasks.drop(\"topic\", axis=1), df_topics], axis=1)\n",
    "df_open_tasks.head()"
   ]
  },
  {
   "cell_type": "markdown",
   "id": "b8d1d333-471c-47fd-b5c0-2e48a4ce4eae",
   "metadata": {},
   "source": [
    "**Cleaning description**"
   ]
  },
  {
   "cell_type": "code",
   "execution_count": 16,
   "id": "1ea0ce15-c366-4f61-a0d1-dd31b94781db",
   "metadata": {
    "scrolled": true
   },
   "outputs": [
    {
     "data": {
      "text/html": [
       "<div>\n",
       "<style scoped>\n",
       "    .dataframe tbody tr th:only-of-type {\n",
       "        vertical-align: middle;\n",
       "    }\n",
       "\n",
       "    .dataframe tbody tr th {\n",
       "        vertical-align: top;\n",
       "    }\n",
       "\n",
       "    .dataframe thead th {\n",
       "        text-align: right;\n",
       "    }\n",
       "</style>\n",
       "<table border=\"1\" class=\"dataframe\">\n",
       "  <thead>\n",
       "    <tr style=\"text-align: right;\">\n",
       "      <th></th>\n",
       "      <th>language</th>\n",
       "      <th>description</th>\n",
       "      <th>context</th>\n",
       "      <th>tenant_id</th>\n",
       "      <th>tenant_name</th>\n",
       "      <th>topic_name</th>\n",
       "      <th>topic_description</th>\n",
       "    </tr>\n",
       "  </thead>\n",
       "  <tbody>\n",
       "    <tr>\n",
       "      <th>14837</th>\n",
       "      <td>NaN</td>\n",
       "      <td>Nennen Sie fünf Argumente für die ZHAW.</td>\n",
       "      <td>NaN</td>\n",
       "      <td>19.0</td>\n",
       "      <td>Marketing Grundlagen</td>\n",
       "      <td>NaN</td>\n",
       "      <td>NaN</td>\n",
       "    </tr>\n",
       "    <tr>\n",
       "      <th>14838</th>\n",
       "      <td>NaN</td>\n",
       "      <td>Ersetze die markierte bildhafte Wendung durch ...</td>\n",
       "      <td>NaN</td>\n",
       "      <td>1.0</td>\n",
       "      <td>Lernnavi</td>\n",
       "      <td>Deutsch</td>\n",
       "      <td>Sprache als System</td>\n",
       "    </tr>\n",
       "    <tr>\n",
       "      <th>14839</th>\n",
       "      <td>NaN</td>\n",
       "      <td></td>\n",
       "      <td>NaN</td>\n",
       "      <td>16.0</td>\n",
       "      <td>connectsolutions_fr</td>\n",
       "      <td>NaN</td>\n",
       "      <td>NaN</td>\n",
       "    </tr>\n",
       "    <tr>\n",
       "      <th>14840</th>\n",
       "      <td>NaN</td>\n",
       "      <td>Ersetze den fett gedruckten Ausdruck durch ein...</td>\n",
       "      <td>NaN</td>\n",
       "      <td>1.0</td>\n",
       "      <td>Lernnavi</td>\n",
       "      <td>Synonyme/Antonyme</td>\n",
       "      <td>NaN</td>\n",
       "    </tr>\n",
       "    <tr>\n",
       "      <th>14841</th>\n",
       "      <td>NaN</td>\n",
       "      <td>Beschreibe den Handlungsbereich Vermitteln sti...</td>\n",
       "      <td>NaN</td>\n",
       "      <td>5.0</td>\n",
       "      <td>jugendundsport</td>\n",
       "      <td>Sport</td>\n",
       "      <td></td>\n",
       "    </tr>\n",
       "  </tbody>\n",
       "</table>\n",
       "</div>"
      ],
      "text/plain": [
       "      language                                        description context  \\\n",
       "14837      NaN            Nennen Sie fünf Argumente für die ZHAW.     NaN   \n",
       "14838      NaN  Ersetze die markierte bildhafte Wendung durch ...     NaN   \n",
       "14839      NaN                                                        NaN   \n",
       "14840      NaN  Ersetze den fett gedruckten Ausdruck durch ein...     NaN   \n",
       "14841      NaN  Beschreibe den Handlungsbereich Vermitteln sti...     NaN   \n",
       "\n",
       "      tenant_id           tenant_name         topic_name   topic_description  \n",
       "14837      19.0  Marketing Grundlagen                NaN                 NaN  \n",
       "14838       1.0              Lernnavi            Deutsch  Sprache als System  \n",
       "14839      16.0   connectsolutions_fr                NaN                 NaN  \n",
       "14840       1.0              Lernnavi  Synonyme/Antonyme                 NaN  \n",
       "14841       5.0        jugendundsport              Sport                      "
      ]
     },
     "execution_count": 16,
     "metadata": {},
     "output_type": "execute_result"
    }
   ],
   "source": [
    "df_open_tasks = df_open_tasks.applymap(lambda cell: BeautifulSoup(str(cell), 'html.parser').get_text().strip()).applymap(lambda s: np.nan if s==\"nan\" else s)\n",
    "df_open_tasks.head()"
   ]
  },
  {
   "cell_type": "code",
   "execution_count": 17,
   "id": "7a320f02-7fea-4111-a16f-3cc404f76e5a",
   "metadata": {},
   "outputs": [
    {
     "data": {
      "text/plain": [
       "100.0"
      ]
     },
     "execution_count": 17,
     "metadata": {},
     "output_type": "execute_result"
    }
   ],
   "source": [
    "len(df_open_tasks.dropna(subset=[\"description\"])) / len(df_open_tasks) * 100"
   ]
  },
  {
   "cell_type": "code",
   "execution_count": 18,
   "id": "3aebf334-a08c-4bf5-b6d5-311e692413c3",
   "metadata": {
    "scrolled": true
   },
   "outputs": [],
   "source": [
    "df_open_tasks[\"word_count\"] = df_open_tasks[\"description\"].apply(lambda s: len(s.split()))\n",
    "df_open_tasks = df_open_tasks[df_open_tasks[\"word_count\"] > 4]"
   ]
  },
  {
   "cell_type": "markdown",
   "id": "851c614a-581a-4753-97aa-e73727cc72e3",
   "metadata": {},
   "source": [
    "**Fixing language field**"
   ]
  },
  {
   "cell_type": "code",
   "execution_count": 19,
   "id": "e1a2e746-1612-4b03-87cb-f7bd2326083f",
   "metadata": {},
   "outputs": [],
   "source": [
    "import nltk\n",
    "# nltk.download('crubadan')\n",
    "# nltk.download('punkt')"
   ]
  },
  {
   "cell_type": "code",
   "execution_count": 20,
   "id": "d6937586-9ca5-4dfb-806a-2416979b3211",
   "metadata": {},
   "outputs": [],
   "source": [
    "from nltk import classify\n",
    "from nltk import textcat\n",
    "detector = textcat.TextCat()\n",
    "\n",
    "def detect_lang(text):\n",
    "    try:\n",
    "        return detector.guess_language(text)\n",
    "    except:\n",
    "        return \"\""
   ]
  },
  {
   "cell_type": "code",
   "execution_count": 21,
   "id": "f28373a9-d869-4e74-9bc7-a83f8de82554",
   "metadata": {},
   "outputs": [],
   "source": [
    "# df_open_tasks[\"language\"] = df_open_tasks[\"description\"].apply(lambda text: detect_lang(text))\n",
    "# df_open_tasks.to_csv(\"language_detected.csv\", index_label=False)"
   ]
  },
  {
   "cell_type": "code",
   "execution_count": 22,
   "id": "ee8f9960-8408-438d-a889-9ffcf134f055",
   "metadata": {},
   "outputs": [],
   "source": [
    "df_open_tasks = pd.read_csv(\"language_detected.csv\")"
   ]
  },
  {
   "cell_type": "code",
   "execution_count": 23,
   "id": "7d9a1f2b-29dd-4827-ac53-f5e16c33add5",
   "metadata": {},
   "outputs": [
    {
     "data": {
      "text/plain": [
       "array(['deu', 'fra', 'eng', 'ita', 'fur', 'nds', 'vec', 'lnc', 'por',\n",
       "       'ukr', 'afr', 'lmo', 'nob', 'pdc', 'gsw', 'cat', 'glg', 'ssw',\n",
       "       'dan', 'ksh', 'sot', 'ltz'], dtype=object)"
      ]
     },
     "execution_count": 23,
     "metadata": {},
     "output_type": "execute_result"
    }
   ],
   "source": [
    "df_open_tasks[\"language\"] = df_open_tasks[\"language\"].str.strip()\n",
    "df_open_tasks.language.unique()"
   ]
  },
  {
   "cell_type": "code",
   "execution_count": 24,
   "id": "e37b5fb1-fa01-489f-b3ec-e2103c1d6ac9",
   "metadata": {},
   "outputs": [
    {
     "data": {
      "text/plain": [
       "array(['deu', 'eng'], dtype=object)"
      ]
     },
     "execution_count": 24,
     "metadata": {},
     "output_type": "execute_result"
    }
   ],
   "source": [
    "df_translator = df_open_tasks[df_open_tasks[\"tenant_name\"] == \"DataEnricher\"]\n",
    "df_open_tasks = df_open_tasks[df_open_tasks[\"tenant_name\"] != \"DataEnricher\"]\n",
    "\n",
    "idx = [15671, 15632, 15580, 17581, 17584, 17585]\n",
    "df_open_tasks.loc[idx, \"language\"] = \"eng\"\n",
    "\n",
    "idx = [16135, 16131, 16133, 16134, 16130, 16960, 16832, 15188]\n",
    "df_translator = pd.concat([df_translator, df_open_tasks.loc[idx]])\n",
    "df_open_tasks = df_open_tasks.drop(idx)\n",
    "\n",
    "idx = [17990, 17032, 15757, 15886, 18514]\n",
    "df_open_tasks.loc[idx, \"language\"] = \"deu\"\n",
    "\n",
    "idx = df_open_tasks[df_open_tasks[\"tenant_name\"].isin([\"connectsolutions_fr\", \"connectsolutions_it\"])].index\n",
    "df_open_tasks = df_open_tasks.drop(idx)\n",
    "\n",
    "df_open_tasks = df_open_tasks.drop([15388, 15404])\n",
    "\n",
    "idx = df_open_tasks[df_open_tasks[\"language\"].isin([\"nds\", \"pdc\", \"gsw\", \"ssw\", \"ksh\", \"ltz\"])].index\n",
    "df_open_tasks.loc[idx, \"language\"] = \"deu\"\n",
    "\n",
    "idx = df_open_tasks[df_open_tasks[\"language\"] == \"afr\"].index\n",
    "df_open_tasks.loc[idx, \"language\"] = \"eng\"\n",
    "\n",
    "idx = df_open_tasks[df_open_tasks[\"language\"].isin([\"por\", \"ukr\", \"cat\", \"glg\", \"fra\", \"ita\"])].index\n",
    "df_open_tasks = df_open_tasks.drop(idx)\n",
    "\n",
    "df_open_tasks.language.unique()"
   ]
  },
  {
   "cell_type": "code",
   "execution_count": 29,
   "id": "5e48aba3-3136-4a95-a22e-30ca6d9bdde4",
   "metadata": {},
   "outputs": [],
   "source": [
    "df_translator.to_csv(\"data/translate_tasks.csv\", index_label=False)"
   ]
  },
  {
   "cell_type": "code",
   "execution_count": 30,
   "id": "ca5a1b46-38c7-4ff5-8193-5bbee098df2a",
   "metadata": {},
   "outputs": [],
   "source": [
    "df_open_tasks[df_open_tasks[\"language\"] == \"eng\"].to_csv(\"data/open_tasks_EN.csv\", index_label=False)\n",
    "df_open_tasks[df_open_tasks[\"language\"] == \"deu\"].to_csv(\"data/open_tasks_DE.csv\", index_label=False)"
   ]
  },
  {
   "cell_type": "code",
   "execution_count": 33,
   "id": "55ee2c19-7fe4-48b4-a1fe-ba153c64d436",
   "metadata": {},
   "outputs": [
    {
     "data": {
      "text/plain": [
       "(350, 1914, 231)"
      ]
     },
     "execution_count": 33,
     "metadata": {},
     "output_type": "execute_result"
    }
   ],
   "source": [
    "len(df_open_tasks[df_open_tasks[\"language\"] == \"eng\"]), len(df_open_tasks[df_open_tasks[\"language\"] == \"deu\"]), len(df_translator)"
   ]
  },
  {
   "cell_type": "code",
   "execution_count": null,
   "id": "e3bc0811-8cb9-4a20-a18f-61f803707b87",
   "metadata": {},
   "outputs": [],
   "source": []
  }
 ],
 "metadata": {
  "kernelspec": {
   "display_name": "tb_venv",
   "language": "python",
   "name": "tb_venv"
  },
  "language_info": {
   "codemirror_mode": {
    "name": "ipython",
    "version": 3
   },
   "file_extension": ".py",
   "mimetype": "text/x-python",
   "name": "python",
   "nbconvert_exporter": "python",
   "pygments_lexer": "ipython3",
   "version": "3.11.8"
  }
 },
 "nbformat": 4,
 "nbformat_minor": 5
}
