{
 "cells": [
  {
   "cell_type": "markdown",
   "id": "227ddbba-b589-411a-b746-09933d46c1b0",
   "metadata": {},
   "source": [
    "This notebook is to explore and implement Latent Dirichlet Allocation. <hr>"
   ]
  },
  {
   "cell_type": "markdown",
   "id": "6fe12823-c2e6-4ec3-af27-726b3c37c08e",
   "metadata": {},
   "source": [
    "> Things to consider doing to improve results: plot distribution of words/lemmas in corpus and remove head and tail of distribution."
   ]
  },
  {
   "cell_type": "code",
   "execution_count": 2,
   "id": "6a8ec6ca-558d-44c6-9e75-e11e041a3460",
   "metadata": {},
   "outputs": [],
   "source": [
    "import pandas as pd\n",
    "import gensim.corpora as corpora\n",
    "from gensim.models.ldamodel import LdaModel\n",
    "from pprint import pprint\n",
    "import matplotlib.pyplot as plt\n",
    "from gensim.models import CoherenceModel\n",
    "import pyLDAvis\n",
    "import pyLDAvis.gensim_models as gensimvis"
   ]
  },
  {
   "cell_type": "code",
   "execution_count": 3,
   "id": "08760613-ec44-4414-a491-2eafa454965a",
   "metadata": {},
   "outputs": [],
   "source": [
    "def get_corpus(data, min_len=3):\n",
    "    # Create a Dictionary: a mapping between words and their integer IDs\n",
    "    id2word = corpora.Dictionary(data)\n",
    "    \n",
    "    # Remove tokens of 1 or 2 letters\n",
    "    del_ids = [k for k,v in id2word.items() if len(v)<min_len]\n",
    "    id2word.filter_tokens(bad_ids=del_ids)\n",
    "    \n",
    "    # Create a corpus: a list of documents represented as a BoW\n",
    "    corpus = [id2word.doc2bow(text) for text in data]\n",
    "    \n",
    "    return id2word, corpus"
   ]
  },
  {
   "cell_type": "code",
   "execution_count": 4,
   "id": "fec3c33c-a727-4a40-835a-3c0c021eb326",
   "metadata": {},
   "outputs": [],
   "source": [
    "def get_model(corpus, id2word, title, num_topics=3, passes=10, decay=0.5, iterations=50):\n",
    "    coh_scores = []\n",
    "    lda_model = LdaModel(\n",
    "        corpus=corpus, \n",
    "        id2word=id2word, \n",
    "        num_topics=num_topics, \n",
    "        distributed=False,\n",
    "        passes=passes, \n",
    "        update_every=1,\n",
    "        alpha='auto', \n",
    "        eta=None, \n",
    "        decay=decay,\n",
    "        eval_every=5,\n",
    "        iterations=iterations, \n",
    "        per_word_topics=True)\n",
    "    \n",
    "    coherence_model_lda = CoherenceModel(\n",
    "        model=lda_model, \n",
    "        texts=data, \n",
    "        dictionary=id2word, \n",
    "        coherence='c_v')\n",
    "        \n",
    "    coherence_lda = coherence_model_lda.get_coherence()\n",
    "    print(f\"Coherence score: {coherence_lda}\")\n",
    "\n",
    "    return lda_model, coherence_lda\n",
    "\n",
    "def plot_coh_score(coh_scores, title, language, save=True): \n",
    "    fig, ax = plt.subplots(1, 1)\n",
    "    ax.plot(range(2, 11), coh_scores, marker='o', linestyle='--')\n",
    "    ax.title.set_text(title)\n",
    "    ax.set_ylabel(\"Coherence score\")\n",
    "    ax.set_xlabel('Number of topics')\n",
    "    ax.grid(True)\n",
    "    if save:\n",
    "        ax.get_figure().savefig(\"figures/LDA_coh_\"+language, bbox_inches=\"tight\")\n"
   ]
  },
  {
   "cell_type": "code",
   "execution_count": 5,
   "id": "c1e5497e-b4fa-4b92-abbd-31da2097261e",
   "metadata": {},
   "outputs": [],
   "source": [
    "def get_best_model(corpus, id2word, title, language, plot=False, save_plot=False):\n",
    "    coh_scores = []\n",
    "    for num_topics in range(2, 11):\n",
    "    # for passes in range(10, 100, 10): \n",
    "    # for iterations in range(50, 100, 10): \n",
    "    # for decay in [0.6, 0.7, 0.8, 0.9, 1]:\n",
    "        lda_model, coherence_lda = get_model(corpus, \n",
    "                                             id2word, \n",
    "                                             title, \n",
    "                                             num_topics=num_topics, \n",
    "                                             passes=passes, \n",
    "                                             decay=decay, \n",
    "                                             iterations=iterations)\n",
    "    coh_scores.append(coherence_lda)\n",
    "    if coherence_lda == max(coh_scores):\n",
    "        best_model = lda_model\n",
    "\n",
    "    if plot:\n",
    "        plot_coh_score(coh_scores, title, language, save_plot)\n",
    "\n",
    "    return best_model "
   ]
  },
  {
   "cell_type": "markdown",
   "id": "0037c44f-2bde-44b8-a80a-169625d2dbeb",
   "metadata": {},
   "source": [
    "<hr>"
   ]
  },
  {
   "cell_type": "markdown",
   "id": "c386e7fa-92f6-4fc8-9dd5-8c873c80b127",
   "metadata": {},
   "source": [
    "**German tasks**"
   ]
  },
  {
   "cell_type": "raw",
   "id": "ae73f886-e4f5-45a5-a8a9-2df3c5650e08",
   "metadata": {},
   "source": [
    "df = pd.read_csv(\"data/all_preprocessed_tasks_DE.csv\") \n",
    "df.head()"
   ]
  },
  {
   "cell_type": "raw",
   "id": "2c893350-99a6-4c84-817f-331ba2399e55",
   "metadata": {},
   "source": [
    "df = pd.read_csv(\"data/all_preprocessed_tasks_DE.csv\")\n",
    "df.dropna(subset=[\"description\"], inplace=True)\n",
    "data = df[\"description\"].str.split().to_list() \n",
    "title = \"Coherence score by number of topics in german tasks\" \n",
    "\n",
    "id2word, corpus = get_corpus(data)\n",
    "\n",
    "num_topics = 3 \n",
    "passes = 80 \n",
    "decay = 0.9\n",
    "iterations = 100\n",
    "lda_model, coherence_lda = get_model(corpus=corpus,\n",
    "                                     id2word=id2word,\n",
    "                                     title=title,\n",
    "                                     num_topics=num_topics,\n",
    "                                     passes=passes,\n",
    "                                     decay=decay,\n",
    "                                     iterations=iterations)"
   ]
  },
  {
   "cell_type": "raw",
   "id": "d76a9e2e-839d-4d69-9919-8dbbb5093e18",
   "metadata": {},
   "source": [
    "lda_model.show_topics()"
   ]
  },
  {
   "cell_type": "raw",
   "id": "bb331fe8-0fa1-456a-b98b-da55488e6c2b",
   "metadata": {},
   "source": [
    "# Visualization \n",
    "pyLDAvis.enable_notebook()\n",
    "vis = gensimvis.prepare(lda_model, corpus, id2word) \n",
    "vis"
   ]
  },
  {
   "cell_type": "raw",
   "id": "d6bfbfe7-12b9-4f1b-8c78-119f0c2e9ba9",
   "metadata": {},
   "source": [
    "**German concept aspects**"
   ]
  },
  {
   "cell_type": "raw",
   "id": "9057ecfc-a4a2-4ed1-826a-7be9a328b2e7",
   "metadata": {},
   "source": [
    "df = pd.read_csv(\"data/preprocessed_concept_aspects_DE.csv\")\n",
    "df.dropna(subset=[\"description\"], inplace=True)\n",
    "data = df[\"description\"].str.split().to_list() \n",
    "title = \"Coherence score by number of topics in english tasks\" \n",
    "\n",
    "id2word, corpus = get_corpus(data)\n",
    "\n",
    "num_topics = 3 \n",
    "passes = 20 \n",
    "decay = 0.9\n",
    "iterations = 100\n",
    "lda_model_aspects, coherence_lda_aspects = get_model(corpus=corpus,\n",
    "                                                     id2word=id2word,\n",
    "                                                     title=title,\n",
    "                                                     num_topics=num_topics,\n",
    "                                                     passes=passes,\n",
    "                                                     decay=decay,\n",
    "                                                     iterations=iterations)"
   ]
  },
  {
   "cell_type": "raw",
   "id": "1fcffe13-bb96-45a1-94a2-e0bad29de54f",
   "metadata": {},
   "source": [
    "lda_model_aspects.show_topics()"
   ]
  },
  {
   "cell_type": "raw",
   "id": "0867c84f-6637-42d6-9e84-bcc4f55555d4",
   "metadata": {},
   "source": [
    "# Visualization \n",
    "pyLDAvis.enable_notebook()\n",
    "vis = gensimvis.prepare(lda_model_aspects, corpus, id2word) \n",
    "vis"
   ]
  },
  {
   "cell_type": "markdown",
   "id": "a34ee6e1-b975-4957-b974-c4abd2185c89",
   "metadata": {},
   "source": [
    "<hr>"
   ]
  },
  {
   "cell_type": "markdown",
   "id": "a9b84ab7-985a-4600-b896-ead7c6ac03c5",
   "metadata": {},
   "source": [
    "**English tasks**"
   ]
  },
  {
   "cell_type": "code",
   "execution_count": 10,
   "id": "489d6cc0-4ef7-4725-ae45-1d77f2f2800e",
   "metadata": {},
   "outputs": [],
   "source": [
    "df = pd.read_csv(\"data/all_preprocessed_tasks_EN.csv\")\n",
    "df_aspects = pd.read_csv(\"data/all_taskAspects_EN.csv\")\n",
    "df = pd.merge(df, df_aspects, on=\"taskId\", how=\"inner\") "
   ]
  },
  {
   "cell_type": "code",
   "execution_count": 14,
   "id": "c126fd00-0949-4a3c-8df0-9f6002e7c201",
   "metadata": {},
   "outputs": [
    {
     "data": {
      "text/plain": [
       "(1247, 1171)"
      ]
     },
     "execution_count": 14,
     "metadata": {},
     "output_type": "execute_result"
    }
   ],
   "source": [
    "len(df.taskId.unique()), len(df_aspects.aspectId.unique())"
   ]
  },
  {
   "cell_type": "code",
   "execution_count": 13,
   "id": "220d8396-eaad-433d-824f-5aa82285dd5a",
   "metadata": {},
   "outputs": [
    {
     "data": {
      "text/html": [
       "<div>\n",
       "<style scoped>\n",
       "    .dataframe tbody tr th:only-of-type {\n",
       "        vertical-align: middle;\n",
       "    }\n",
       "\n",
       "    .dataframe tbody tr th {\n",
       "        vertical-align: top;\n",
       "    }\n",
       "\n",
       "    .dataframe thead th {\n",
       "        text-align: right;\n",
       "    }\n",
       "</style>\n",
       "<table border=\"1\" class=\"dataframe\">\n",
       "  <thead>\n",
       "    <tr style=\"text-align: right;\">\n",
       "      <th></th>\n",
       "      <th>taskId</th>\n",
       "      <th>language</th>\n",
       "      <th>description</th>\n",
       "      <th>topic_id</th>\n",
       "      <th>word_count</th>\n",
       "      <th>aspectId</th>\n",
       "    </tr>\n",
       "  </thead>\n",
       "  <tbody>\n",
       "    <tr>\n",
       "      <th>20187</th>\n",
       "      <td>aif5faqXBMr5BWFu35fcRC_SR</td>\n",
       "      <td>eng</td>\n",
       "      <td>blue part question call doubt tag swiss german...</td>\n",
       "      <td>NaN</td>\n",
       "      <td>11</td>\n",
       "      <td>68184</td>\n",
       "    </tr>\n",
       "    <tr>\n",
       "      <th>20188</th>\n",
       "      <td>aif5faqXBMr5BWFu35fcRC_SR</td>\n",
       "      <td>eng</td>\n",
       "      <td>blue part question call doubt tag swiss german...</td>\n",
       "      <td>NaN</td>\n",
       "      <td>11</td>\n",
       "      <td>8513</td>\n",
       "    </tr>\n",
       "    <tr>\n",
       "      <th>20189</th>\n",
       "      <td>aif5faqXBMr5BWFu35fcRC_SR</td>\n",
       "      <td>eng</td>\n",
       "      <td>blue part question call doubt tag swiss german...</td>\n",
       "      <td>NaN</td>\n",
       "      <td>11</td>\n",
       "      <td>68181</td>\n",
       "    </tr>\n",
       "    <tr>\n",
       "      <th>20190</th>\n",
       "      <td>aif5faqXBMr5BWFu35fcRC_SR</td>\n",
       "      <td>eng</td>\n",
       "      <td>blue part question call doubt tag swiss german...</td>\n",
       "      <td>NaN</td>\n",
       "      <td>11</td>\n",
       "      <td>68175</td>\n",
       "    </tr>\n",
       "    <tr>\n",
       "      <th>20191</th>\n",
       "      <td>aif5faqXBMr5BWFu35fcRC_SR</td>\n",
       "      <td>eng</td>\n",
       "      <td>blue part question call doubt tag swiss german...</td>\n",
       "      <td>NaN</td>\n",
       "      <td>11</td>\n",
       "      <td>9159</td>\n",
       "    </tr>\n",
       "  </tbody>\n",
       "</table>\n",
       "</div>"
      ],
      "text/plain": [
       "                          taskId language  \\\n",
       "20187  aif5faqXBMr5BWFu35fcRC_SR      eng   \n",
       "20188  aif5faqXBMr5BWFu35fcRC_SR      eng   \n",
       "20189  aif5faqXBMr5BWFu35fcRC_SR      eng   \n",
       "20190  aif5faqXBMr5BWFu35fcRC_SR      eng   \n",
       "20191  aif5faqXBMr5BWFu35fcRC_SR      eng   \n",
       "\n",
       "                                             description  topic_id  \\\n",
       "20187  blue part question call doubt tag swiss german...       NaN   \n",
       "20188  blue part question call doubt tag swiss german...       NaN   \n",
       "20189  blue part question call doubt tag swiss german...       NaN   \n",
       "20190  blue part question call doubt tag swiss german...       NaN   \n",
       "20191  blue part question call doubt tag swiss german...       NaN   \n",
       "\n",
       "       word_count  aspectId  \n",
       "20187          11     68184  \n",
       "20188          11      8513  \n",
       "20189          11     68181  \n",
       "20190          11     68175  \n",
       "20191          11      9159  "
      ]
     },
     "execution_count": 13,
     "metadata": {},
     "output_type": "execute_result"
    }
   ],
   "source": [
    "df.tail()"
   ]
  },
  {
   "cell_type": "code",
   "execution_count": 7,
   "id": "ad5d19d2-458f-4561-924b-6d9df27ad288",
   "metadata": {},
   "outputs": [
    {
     "data": {
      "text/html": [
       "<div>\n",
       "<style scoped>\n",
       "    .dataframe tbody tr th:only-of-type {\n",
       "        vertical-align: middle;\n",
       "    }\n",
       "\n",
       "    .dataframe tbody tr th {\n",
       "        vertical-align: top;\n",
       "    }\n",
       "\n",
       "    .dataframe thead th {\n",
       "        text-align: right;\n",
       "    }\n",
       "</style>\n",
       "<table border=\"1\" class=\"dataframe\">\n",
       "  <thead>\n",
       "    <tr style=\"text-align: right;\">\n",
       "      <th></th>\n",
       "      <th>taskId</th>\n",
       "      <th>aspectId</th>\n",
       "    </tr>\n",
       "  </thead>\n",
       "  <tbody>\n",
       "    <tr>\n",
       "      <th>0</th>\n",
       "      <td>14ambh1obhw7TYMQE8lcC1</td>\n",
       "      <td>9639</td>\n",
       "    </tr>\n",
       "    <tr>\n",
       "      <th>1</th>\n",
       "      <td>25RGLvb2p0G5zulfX9xQOj</td>\n",
       "      <td>9639</td>\n",
       "    </tr>\n",
       "    <tr>\n",
       "      <th>2</th>\n",
       "      <td>18Ccvc8NMJT5xqLv9nAgTH</td>\n",
       "      <td>9937</td>\n",
       "    </tr>\n",
       "    <tr>\n",
       "      <th>3</th>\n",
       "      <td>3Jr6T26XL13aKRh31JX0xi</td>\n",
       "      <td>9633</td>\n",
       "    </tr>\n",
       "    <tr>\n",
       "      <th>4</th>\n",
       "      <td>3gbjpjewKN1aa5y4aN20Yw</td>\n",
       "      <td>11401</td>\n",
       "    </tr>\n",
       "  </tbody>\n",
       "</table>\n",
       "</div>"
      ],
      "text/plain": [
       "                   taskId  aspectId\n",
       "0  14ambh1obhw7TYMQE8lcC1      9639\n",
       "1  25RGLvb2p0G5zulfX9xQOj      9639\n",
       "2  18Ccvc8NMJT5xqLv9nAgTH      9937\n",
       "3  3Jr6T26XL13aKRh31JX0xi      9633\n",
       "4  3gbjpjewKN1aa5y4aN20Yw     11401"
      ]
     },
     "execution_count": 7,
     "metadata": {},
     "output_type": "execute_result"
    }
   ],
   "source": [
    "df_aspects.head()"
   ]
  },
  {
   "cell_type": "code",
   "execution_count": 17,
   "id": "cd3af9cf-6916-4337-91c1-a05b679d0d79",
   "metadata": {},
   "outputs": [],
   "source": [
    "df.dropna(subset=[\"description\"], inplace=True)\n",
    "df.reset_index(drop=True, inplace=True)\n",
    "data = df[\"description\"].str.split().to_list() "
   ]
  },
  {
   "cell_type": "code",
   "execution_count": 16,
   "id": "0ec4267e-c3d0-4c28-8adb-faaf594eb4b6",
   "metadata": {},
   "outputs": [
    {
     "data": {
      "text/html": [
       "<div>\n",
       "<style scoped>\n",
       "    .dataframe tbody tr th:only-of-type {\n",
       "        vertical-align: middle;\n",
       "    }\n",
       "\n",
       "    .dataframe tbody tr th {\n",
       "        vertical-align: top;\n",
       "    }\n",
       "\n",
       "    .dataframe thead th {\n",
       "        text-align: right;\n",
       "    }\n",
       "</style>\n",
       "<table border=\"1\" class=\"dataframe\">\n",
       "  <thead>\n",
       "    <tr style=\"text-align: right;\">\n",
       "      <th></th>\n",
       "      <th>taskId</th>\n",
       "      <th>language</th>\n",
       "      <th>description</th>\n",
       "      <th>topic_id</th>\n",
       "      <th>word_count</th>\n",
       "      <th>aspectId</th>\n",
       "    </tr>\n",
       "  </thead>\n",
       "  <tbody>\n",
       "  </tbody>\n",
       "</table>\n",
       "</div>"
      ],
      "text/plain": [
       "Empty DataFrame\n",
       "Columns: [taskId, language, description, topic_id, word_count, aspectId]\n",
       "Index: []"
      ]
     },
     "execution_count": 16,
     "metadata": {},
     "output_type": "execute_result"
    }
   ],
   "source": [
    "df[df[\"taskId\"] == \"8gooLcJt0bz7yVHSaWd0MM_SR\"]"
   ]
  },
  {
   "cell_type": "code",
   "execution_count": 6,
   "id": "faf0df50-b31c-4374-8cff-5a74f2923edd",
   "metadata": {},
   "outputs": [
    {
     "name": "stdout",
     "output_type": "stream",
     "text": [
      "Coherence score: 0.3283477288665198\n"
     ]
    }
   ],
   "source": [
    "title = \"Coherence score by number of topics in Augmented English tasks\" \n",
    "\n",
    "id2word, corpus = get_corpus(data)\n",
    "\n",
    "num_topics = 3 \n",
    "passes = 80 \n",
    "decay = 0.9\n",
    "iterations = 100\n",
    "lda_model_en, coherence_lda_en = get_model(corpus=corpus,\n",
    "                                         id2word=id2word,\n",
    "                                         title=title,\n",
    "                                         num_topics=num_topics,\n",
    "                                         passes=passes,\n",
    "                                         decay=decay,\n",
    "                                         iterations=iterations)"
   ]
  },
  {
   "cell_type": "code",
   "execution_count": 7,
   "id": "38c29589-04ee-47a1-b9cc-d26584f11011",
   "metadata": {},
   "outputs": [
    {
     "data": {
      "text/plain": [
       "[(0,\n",
       "  '0.012*\"ship\" + 0.011*\"write\" + 0.011*\"lifeboat\" + 0.010*\"one\" + 0.009*\"sentenc\" + 0.009*\"mine\" + 0.008*\"peopl\" + 0.008*\"open\" + 0.008*\"day\" + 0.007*\"find\"'),\n",
       " (1,\n",
       "  '0.009*\"oil\" + 0.008*\"ship\" + 0.007*\"time\" + 0.007*\"come\" + 0.007*\"man\" + 0.007*\"think\" + 0.007*\"food\" + 0.006*\"find\" + 0.006*\"ice\" + 0.006*\"water\"'),\n",
       " (2,\n",
       "  '0.016*\"name\" + 0.013*\"rise\" + 0.010*\"dora\" + 0.009*\"woman\" + 0.008*\"gwen\" + 0.008*\"want\" + 0.008*\"look\" + 0.006*\"societi\" + 0.006*\"mean\" + 0.006*\"well\"')]"
      ]
     },
     "execution_count": 7,
     "metadata": {},
     "output_type": "execute_result"
    }
   ],
   "source": [
    "lda_model_en.print_topics() "
   ]
  },
  {
   "cell_type": "raw",
   "id": "b8f6eae9-8bd7-4066-82b4-8990a6fcf157",
   "metadata": {},
   "source": [
    "# Visualization \n",
    "pyLDAvis.enable_notebook()\n",
    "vis = gensimvis.prepare(lda_model_en, corpus, id2word) \n",
    "vis"
   ]
  },
  {
   "cell_type": "code",
   "execution_count": 8,
   "id": "0bf7dacd-a529-4ea2-a27a-92bcc7286a33",
   "metadata": {
    "scrolled": true
   },
   "outputs": [],
   "source": [
    "documents = df[\"description\"].to_list()\n",
    "\n",
    "# Infer topic distributions for each document\n",
    "topic_distributions = lda_model_en.get_document_topics(corpus)\n",
    "\n",
    "doc_to_topic = {}\n",
    "for (i, d) in enumerate(topic_distributions): \n",
    "    doc_to_topic[i] = {u:v for (u,v) in d} \n",
    "    \n",
    "df1 = pd.DataFrame.from_dict(doc_to_topic, orient='index').sort_index()\n",
    "# Replace values that are less than 1/3 by NaN \n",
    "df1 = df1.mask(df1 < 1/3)"
   ]
  },
  {
   "cell_type": "code",
   "execution_count": 9,
   "id": "111aa0a6-95e9-4486-a53e-0ab4991a7dac",
   "metadata": {},
   "outputs": [
    {
     "data": {
      "text/html": [
       "<div>\n",
       "<style scoped>\n",
       "    .dataframe tbody tr th:only-of-type {\n",
       "        vertical-align: middle;\n",
       "    }\n",
       "\n",
       "    .dataframe tbody tr th {\n",
       "        vertical-align: top;\n",
       "    }\n",
       "\n",
       "    .dataframe thead th {\n",
       "        text-align: right;\n",
       "    }\n",
       "</style>\n",
       "<table border=\"1\" class=\"dataframe\">\n",
       "  <thead>\n",
       "    <tr style=\"text-align: right;\">\n",
       "      <th></th>\n",
       "      <th>taskId</th>\n",
       "      <th>0</th>\n",
       "      <th>1</th>\n",
       "      <th>2</th>\n",
       "    </tr>\n",
       "  </thead>\n",
       "  <tbody>\n",
       "    <tr>\n",
       "      <th>0</th>\n",
       "      <td>7TVZOkAoQvS71zub3YI9Uy</td>\n",
       "      <td>0.969440</td>\n",
       "      <td>NaN</td>\n",
       "      <td>NaN</td>\n",
       "    </tr>\n",
       "    <tr>\n",
       "      <th>1</th>\n",
       "      <td>8lxRyLzStOK9eUhNRal38O</td>\n",
       "      <td>0.984251</td>\n",
       "      <td>NaN</td>\n",
       "      <td>NaN</td>\n",
       "    </tr>\n",
       "    <tr>\n",
       "      <th>2</th>\n",
       "      <td>aazKG44PsKc5UnpTiDECut</td>\n",
       "      <td>0.993978</td>\n",
       "      <td>NaN</td>\n",
       "      <td>NaN</td>\n",
       "    </tr>\n",
       "    <tr>\n",
       "      <th>3</th>\n",
       "      <td>8L1QdQwEG5XaRfdYKcLPed</td>\n",
       "      <td>0.989354</td>\n",
       "      <td>NaN</td>\n",
       "      <td>NaN</td>\n",
       "    </tr>\n",
       "    <tr>\n",
       "      <th>4</th>\n",
       "      <td>14ambh1obhw7TYMQE8lcC1</td>\n",
       "      <td>0.990433</td>\n",
       "      <td>NaN</td>\n",
       "      <td>NaN</td>\n",
       "    </tr>\n",
       "  </tbody>\n",
       "</table>\n",
       "</div>"
      ],
      "text/plain": [
       "                   taskId         0   1   2\n",
       "0  7TVZOkAoQvS71zub3YI9Uy  0.969440 NaN NaN\n",
       "1  8lxRyLzStOK9eUhNRal38O  0.984251 NaN NaN\n",
       "2  aazKG44PsKc5UnpTiDECut  0.993978 NaN NaN\n",
       "3  8L1QdQwEG5XaRfdYKcLPed  0.989354 NaN NaN\n",
       "4  14ambh1obhw7TYMQE8lcC1  0.990433 NaN NaN"
      ]
     },
     "execution_count": 9,
     "metadata": {},
     "output_type": "execute_result"
    }
   ],
   "source": [
    "df_tasks_topics = pd.concat([df[[\"taskId\"]], df1], axis=1) \n",
    "df_tasks_topics.head()"
   ]
  },
  {
   "cell_type": "code",
   "execution_count": 10,
   "id": "ddbe0a6e-deb2-4f6c-885e-ee34d8215369",
   "metadata": {},
   "outputs": [
    {
     "data": {
      "text/plain": [
       "2549"
      ]
     },
     "execution_count": 10,
     "metadata": {},
     "output_type": "execute_result"
    }
   ],
   "source": [
    "len(df_tasks_topics.taskId.unique())"
   ]
  },
  {
   "cell_type": "code",
   "execution_count": 11,
   "id": "f9e37497-f332-4fb9-9af5-d31fa86a3cc3",
   "metadata": {},
   "outputs": [
    {
     "data": {
      "text/html": [
       "<div>\n",
       "<style scoped>\n",
       "    .dataframe tbody tr th:only-of-type {\n",
       "        vertical-align: middle;\n",
       "    }\n",
       "\n",
       "    .dataframe tbody tr th {\n",
       "        vertical-align: top;\n",
       "    }\n",
       "\n",
       "    .dataframe thead th {\n",
       "        text-align: right;\n",
       "    }\n",
       "</style>\n",
       "<table border=\"1\" class=\"dataframe\">\n",
       "  <thead>\n",
       "    <tr style=\"text-align: right;\">\n",
       "      <th></th>\n",
       "      <th>taskId</th>\n",
       "      <th>aspectId</th>\n",
       "    </tr>\n",
       "  </thead>\n",
       "  <tbody>\n",
       "    <tr>\n",
       "      <th>0</th>\n",
       "      <td>14ambh1obhw7TYMQE8lcC1</td>\n",
       "      <td>9639</td>\n",
       "    </tr>\n",
       "    <tr>\n",
       "      <th>1</th>\n",
       "      <td>25RGLvb2p0G5zulfX9xQOj</td>\n",
       "      <td>9639</td>\n",
       "    </tr>\n",
       "    <tr>\n",
       "      <th>2</th>\n",
       "      <td>18Ccvc8NMJT5xqLv9nAgTH</td>\n",
       "      <td>9937</td>\n",
       "    </tr>\n",
       "    <tr>\n",
       "      <th>3</th>\n",
       "      <td>3Jr6T26XL13aKRh31JX0xi</td>\n",
       "      <td>9633</td>\n",
       "    </tr>\n",
       "    <tr>\n",
       "      <th>4</th>\n",
       "      <td>3gbjpjewKN1aa5y4aN20Yw</td>\n",
       "      <td>11401</td>\n",
       "    </tr>\n",
       "  </tbody>\n",
       "</table>\n",
       "</div>"
      ],
      "text/plain": [
       "                   taskId  aspectId\n",
       "0  14ambh1obhw7TYMQE8lcC1      9639\n",
       "1  25RGLvb2p0G5zulfX9xQOj      9639\n",
       "2  18Ccvc8NMJT5xqLv9nAgTH      9937\n",
       "3  3Jr6T26XL13aKRh31JX0xi      9633\n",
       "4  3gbjpjewKN1aa5y4aN20Yw     11401"
      ]
     },
     "execution_count": 11,
     "metadata": {},
     "output_type": "execute_result"
    }
   ],
   "source": []
  },
  {
   "cell_type": "code",
   "execution_count": 25,
   "id": "04561baa-f547-48f8-8e4b-01562e10ef59",
   "metadata": {},
   "outputs": [
    {
     "data": {
      "text/html": [
       "<div>\n",
       "<style scoped>\n",
       "    .dataframe tbody tr th:only-of-type {\n",
       "        vertical-align: middle;\n",
       "    }\n",
       "\n",
       "    .dataframe tbody tr th {\n",
       "        vertical-align: top;\n",
       "    }\n",
       "\n",
       "    .dataframe thead th {\n",
       "        text-align: right;\n",
       "    }\n",
       "</style>\n",
       "<table border=\"1\" class=\"dataframe\">\n",
       "  <thead>\n",
       "    <tr style=\"text-align: right;\">\n",
       "      <th></th>\n",
       "      <th>taskId</th>\n",
       "      <th>0</th>\n",
       "      <th>1</th>\n",
       "      <th>2</th>\n",
       "    </tr>\n",
       "  </thead>\n",
       "  <tbody>\n",
       "    <tr>\n",
       "      <th>2539</th>\n",
       "      <td>atOoDKljkeQ5MI1SEnEJSN_SR</td>\n",
       "      <td>0.986434</td>\n",
       "      <td>NaN</td>\n",
       "      <td>NaN</td>\n",
       "    </tr>\n",
       "    <tr>\n",
       "      <th>2540</th>\n",
       "      <td>3mkboeyrKOC61fFrrPVHFp_SR</td>\n",
       "      <td>NaN</td>\n",
       "      <td>NaN</td>\n",
       "      <td>0.999405</td>\n",
       "    </tr>\n",
       "    <tr>\n",
       "      <th>2541</th>\n",
       "      <td>2ezJ24ksPkl5xccVpuBAag_SR</td>\n",
       "      <td>0.999268</td>\n",
       "      <td>NaN</td>\n",
       "      <td>NaN</td>\n",
       "    </tr>\n",
       "    <tr>\n",
       "      <th>2542</th>\n",
       "      <td>9FKeQbZKUpkasDUbCYYm3a_SR</td>\n",
       "      <td>0.999284</td>\n",
       "      <td>NaN</td>\n",
       "      <td>NaN</td>\n",
       "    </tr>\n",
       "    <tr>\n",
       "      <th>2543</th>\n",
       "      <td>zhUY1CRUTt5J9eLf8anEr_SR</td>\n",
       "      <td>0.996971</td>\n",
       "      <td>NaN</td>\n",
       "      <td>NaN</td>\n",
       "    </tr>\n",
       "    <tr>\n",
       "      <th>2544</th>\n",
       "      <td>88uTpL8NbsA8ItamLmWQOl_SR</td>\n",
       "      <td>0.997062</td>\n",
       "      <td>NaN</td>\n",
       "      <td>NaN</td>\n",
       "    </tr>\n",
       "    <tr>\n",
       "      <th>2545</th>\n",
       "      <td>4wepjjR1qol8ge0hyeFhmy_SR</td>\n",
       "      <td>NaN</td>\n",
       "      <td>NaN</td>\n",
       "      <td>0.994626</td>\n",
       "    </tr>\n",
       "    <tr>\n",
       "      <th>2546</th>\n",
       "      <td>MeWfnN21TD5MlRoHkOAH4_SR</td>\n",
       "      <td>0.999647</td>\n",
       "      <td>NaN</td>\n",
       "      <td>NaN</td>\n",
       "    </tr>\n",
       "    <tr>\n",
       "      <th>2547</th>\n",
       "      <td>54yk3CYjufq5DW3Jm89h4k_SR</td>\n",
       "      <td>0.999684</td>\n",
       "      <td>NaN</td>\n",
       "      <td>NaN</td>\n",
       "    </tr>\n",
       "    <tr>\n",
       "      <th>2548</th>\n",
       "      <td>aif5faqXBMr5BWFu35fcRC_SR</td>\n",
       "      <td>0.991284</td>\n",
       "      <td>NaN</td>\n",
       "      <td>NaN</td>\n",
       "    </tr>\n",
       "  </tbody>\n",
       "</table>\n",
       "</div>"
      ],
      "text/plain": [
       "                         taskId         0   1         2\n",
       "2539  atOoDKljkeQ5MI1SEnEJSN_SR  0.986434 NaN       NaN\n",
       "2540  3mkboeyrKOC61fFrrPVHFp_SR       NaN NaN  0.999405\n",
       "2541  2ezJ24ksPkl5xccVpuBAag_SR  0.999268 NaN       NaN\n",
       "2542  9FKeQbZKUpkasDUbCYYm3a_SR  0.999284 NaN       NaN\n",
       "2543   zhUY1CRUTt5J9eLf8anEr_SR  0.996971 NaN       NaN\n",
       "2544  88uTpL8NbsA8ItamLmWQOl_SR  0.997062 NaN       NaN\n",
       "2545  4wepjjR1qol8ge0hyeFhmy_SR       NaN NaN  0.994626\n",
       "2546   MeWfnN21TD5MlRoHkOAH4_SR  0.999647 NaN       NaN\n",
       "2547  54yk3CYjufq5DW3Jm89h4k_SR  0.999684 NaN       NaN\n",
       "2548  aif5faqXBMr5BWFu35fcRC_SR  0.991284 NaN       NaN"
      ]
     },
     "execution_count": 25,
     "metadata": {},
     "output_type": "execute_result"
    }
   ],
   "source": [
    "df_tasks_topics.tail(10)"
   ]
  },
  {
   "cell_type": "code",
   "execution_count": 16,
   "id": "f7955757-7b02-47c3-af9a-5208c7a5630a",
   "metadata": {},
   "outputs": [
    {
     "data": {
      "text/plain": [
       "True"
      ]
     },
     "execution_count": 16,
     "metadata": {},
     "output_type": "execute_result"
    }
   ],
   "source": [
    "\"8gooLcJt0bz7yVHSaWd0MM\" in df_tasks_topics[\"taskId\"].unique()"
   ]
  },
  {
   "cell_type": "code",
   "execution_count": 26,
   "id": "514d1c87-7f9f-4622-882c-63c258985387",
   "metadata": {},
   "outputs": [
    {
     "data": {
      "text/html": [
       "<div>\n",
       "<style scoped>\n",
       "    .dataframe tbody tr th:only-of-type {\n",
       "        vertical-align: middle;\n",
       "    }\n",
       "\n",
       "    .dataframe tbody tr th {\n",
       "        vertical-align: top;\n",
       "    }\n",
       "\n",
       "    .dataframe thead th {\n",
       "        text-align: right;\n",
       "    }\n",
       "</style>\n",
       "<table border=\"1\" class=\"dataframe\">\n",
       "  <thead>\n",
       "    <tr style=\"text-align: right;\">\n",
       "      <th></th>\n",
       "      <th>taskId</th>\n",
       "      <th>aspectId</th>\n",
       "    </tr>\n",
       "  </thead>\n",
       "  <tbody>\n",
       "    <tr>\n",
       "      <th>15152</th>\n",
       "      <td>62HICEhR1sK6bT8gDgzzkI_BT</td>\n",
       "      <td>17486</td>\n",
       "    </tr>\n",
       "    <tr>\n",
       "      <th>112164</th>\n",
       "      <td>7tdnrdrMDFm6cTs9xegrNH_SR_RI_RS_RD</td>\n",
       "      <td>34029</td>\n",
       "    </tr>\n",
       "    <tr>\n",
       "      <th>220731</th>\n",
       "      <td>2SvLuio6AlL5V2q7XMFOod_SR</td>\n",
       "      <td>19487</td>\n",
       "    </tr>\n",
       "    <tr>\n",
       "      <th>57307</th>\n",
       "      <td>6f6eWYJq6Ly5RgdxmcB6z8_BT</td>\n",
       "      <td>8550</td>\n",
       "    </tr>\n",
       "    <tr>\n",
       "      <th>79078</th>\n",
       "      <td>6J0dM4IDurz8VMOHbXtZwl_SR_RI_RS_RD</td>\n",
       "      <td>43345</td>\n",
       "    </tr>\n",
       "    <tr>\n",
       "      <th>206843</th>\n",
       "      <td>26u1vZhdpuH9kDcA6xx78A_SR_RI_RS</td>\n",
       "      <td>15465</td>\n",
       "    </tr>\n",
       "    <tr>\n",
       "      <th>97506</th>\n",
       "      <td>89LDEDnuUOr6ulX3abc8aH_SR_RI_RS_RD</td>\n",
       "      <td>65267</td>\n",
       "    </tr>\n",
       "    <tr>\n",
       "      <th>67973</th>\n",
       "      <td>V2lGMV9xar6MerL0KV6H1_SR_RI_RS_RD</td>\n",
       "      <td>24639</td>\n",
       "    </tr>\n",
       "    <tr>\n",
       "      <th>256048</th>\n",
       "      <td>19ZVjTFUecy6HVUsYdOorw_SR</td>\n",
       "      <td>55532</td>\n",
       "    </tr>\n",
       "    <tr>\n",
       "      <th>142399</th>\n",
       "      <td>NTd8vnUk0VavHuZVM07XP_SR_RI</td>\n",
       "      <td>29098</td>\n",
       "    </tr>\n",
       "  </tbody>\n",
       "</table>\n",
       "</div>"
      ],
      "text/plain": [
       "                                    taskId  aspectId\n",
       "15152            62HICEhR1sK6bT8gDgzzkI_BT     17486\n",
       "112164  7tdnrdrMDFm6cTs9xegrNH_SR_RI_RS_RD     34029\n",
       "220731           2SvLuio6AlL5V2q7XMFOod_SR     19487\n",
       "57307            6f6eWYJq6Ly5RgdxmcB6z8_BT      8550\n",
       "79078   6J0dM4IDurz8VMOHbXtZwl_SR_RI_RS_RD     43345\n",
       "206843     26u1vZhdpuH9kDcA6xx78A_SR_RI_RS     15465\n",
       "97506   89LDEDnuUOr6ulX3abc8aH_SR_RI_RS_RD     65267\n",
       "67973    V2lGMV9xar6MerL0KV6H1_SR_RI_RS_RD     24639\n",
       "256048           19ZVjTFUecy6HVUsYdOorw_SR     55532\n",
       "142399         NTd8vnUk0VavHuZVM07XP_SR_RI     29098"
      ]
     },
     "execution_count": 26,
     "metadata": {},
     "output_type": "execute_result"
    }
   ],
   "source": [
    "df_aspects.sample(10)"
   ]
  },
  {
   "cell_type": "code",
   "execution_count": 12,
   "id": "a1f18825-70d3-4fe4-9387-59e397628410",
   "metadata": {},
   "outputs": [
    {
     "data": {
      "text/plain": [
       "5866"
      ]
     },
     "execution_count": 12,
     "metadata": {},
     "output_type": "execute_result"
    }
   ],
   "source": [
    "len(df_aspects.taskId.unique())"
   ]
  },
  {
   "cell_type": "code",
   "execution_count": 91,
   "id": "06a1c850-b809-4ada-9769-cd3f540505d7",
   "metadata": {},
   "outputs": [
    {
     "data": {
      "text/plain": [
       "(11222, 951)"
      ]
     },
     "execution_count": 91,
     "metadata": {},
     "output_type": "execute_result"
    }
   ],
   "source": [
    "pd.merge(df_tasks_topics, df_aspects, on=\"taskId\", how=\"inner\")"
   ]
  },
  {
   "cell_type": "markdown",
   "id": "215170a1-e274-410c-a791-54eb6640f4cf",
   "metadata": {},
   "source": [
    "**English Aspects**"
   ]
  },
  {
   "cell_type": "code",
   "execution_count": 20,
   "id": "1a9bc059-7120-4a6e-b595-35ffcd5760bc",
   "metadata": {},
   "outputs": [
    {
     "data": {
      "text/plain": [
       "269"
      ]
     },
     "execution_count": 20,
     "metadata": {},
     "output_type": "execute_result"
    }
   ],
   "source": [
    "d = pd.read_csv(\"data/taskAspects_EN.csv\")\n",
    "len(d.aspectId.unique())"
   ]
  },
  {
   "cell_type": "code",
   "execution_count": 17,
   "id": "c8e0b982-638a-4c84-94cd-7525b7c8f827",
   "metadata": {},
   "outputs": [
    {
     "data": {
      "text/html": [
       "<div>\n",
       "<style scoped>\n",
       "    .dataframe tbody tr th:only-of-type {\n",
       "        vertical-align: middle;\n",
       "    }\n",
       "\n",
       "    .dataframe tbody tr th {\n",
       "        vertical-align: top;\n",
       "    }\n",
       "\n",
       "    .dataframe thead th {\n",
       "        text-align: right;\n",
       "    }\n",
       "</style>\n",
       "<table border=\"1\" class=\"dataframe\">\n",
       "  <thead>\n",
       "    <tr style=\"text-align: right;\">\n",
       "      <th></th>\n",
       "      <th>aspectId</th>\n",
       "      <th>description</th>\n",
       "      <th>type</th>\n",
       "      <th>groupId</th>\n",
       "      <th>categoryId</th>\n",
       "      <th>word_count</th>\n",
       "    </tr>\n",
       "  </thead>\n",
       "  <tbody>\n",
       "    <tr>\n",
       "      <th>0</th>\n",
       "      <td>9639</td>\n",
       "      <td>word right order</td>\n",
       "      <td>CONCEPT</td>\n",
       "      <td>NaN</td>\n",
       "      <td>NaN</td>\n",
       "      <td>3</td>\n",
       "    </tr>\n",
       "    <tr>\n",
       "      <th>1</th>\n",
       "      <td>9937</td>\n",
       "      <td>good answer orang utan strong social bond</td>\n",
       "      <td>CONCEPT</td>\n",
       "      <td>NaN</td>\n",
       "      <td>NaN</td>\n",
       "      <td>7</td>\n",
       "    </tr>\n",
       "    <tr>\n",
       "      <th>2</th>\n",
       "      <td>9633</td>\n",
       "      <td>subject verb congruent</td>\n",
       "      <td>CONCEPT</td>\n",
       "      <td>NaN</td>\n",
       "      <td>NaN</td>\n",
       "      <td>3</td>\n",
       "    </tr>\n",
       "    <tr>\n",
       "      <th>3</th>\n",
       "      <td>11401</td>\n",
       "      <td>answer mention keyword look correctstat</td>\n",
       "      <td>CONCEPT</td>\n",
       "      <td>55122.0</td>\n",
       "      <td>NaN</td>\n",
       "      <td>5</td>\n",
       "    </tr>\n",
       "    <tr>\n",
       "      <th>4</th>\n",
       "      <td>9984</td>\n",
       "      <td>verb conjug expect ten expectedten</td>\n",
       "      <td>CONCEPT</td>\n",
       "      <td>NaN</td>\n",
       "      <td>NaN</td>\n",
       "      <td>5</td>\n",
       "    </tr>\n",
       "    <tr>\n",
       "      <th>...</th>\n",
       "      <td>...</td>\n",
       "      <td>...</td>\n",
       "      <td>...</td>\n",
       "      <td>...</td>\n",
       "      <td>...</td>\n",
       "      <td>...</td>\n",
       "    </tr>\n",
       "    <tr>\n",
       "      <th>264</th>\n",
       "      <td>381128</td>\n",
       "      <td>learner compos two dimension three dimension s...</td>\n",
       "      <td>CONCEPT</td>\n",
       "      <td>342103.0</td>\n",
       "      <td>4.0</td>\n",
       "      <td>12</td>\n",
       "    </tr>\n",
       "    <tr>\n",
       "      <th>265</th>\n",
       "      <td>379944</td>\n",
       "      <td>answer within scope task</td>\n",
       "      <td>CONCEPT</td>\n",
       "      <td>340377.0</td>\n",
       "      <td>NaN</td>\n",
       "      <td>4</td>\n",
       "    </tr>\n",
       "    <tr>\n",
       "      <th>266</th>\n",
       "      <td>381286</td>\n",
       "      <td>climat chang refer signific chang global tempe...</td>\n",
       "      <td>CONCEPT</td>\n",
       "      <td>342514.0</td>\n",
       "      <td>4.0</td>\n",
       "      <td>32</td>\n",
       "    </tr>\n",
       "    <tr>\n",
       "      <th>267</th>\n",
       "      <td>381288</td>\n",
       "      <td>impact climat chang widespread affect weather ...</td>\n",
       "      <td>CONCEPT</td>\n",
       "      <td>342515.0</td>\n",
       "      <td>4.0</td>\n",
       "      <td>28</td>\n",
       "    </tr>\n",
       "    <tr>\n",
       "      <th>268</th>\n",
       "      <td>379209</td>\n",
       "      <td>learner appli commut associ properti addit</td>\n",
       "      <td>CONCEPT</td>\n",
       "      <td>339468.0</td>\n",
       "      <td>4.0</td>\n",
       "      <td>6</td>\n",
       "    </tr>\n",
       "  </tbody>\n",
       "</table>\n",
       "<p>269 rows × 6 columns</p>\n",
       "</div>"
      ],
      "text/plain": [
       "     aspectId                                        description     type  \\\n",
       "0        9639                                   word right order  CONCEPT   \n",
       "1        9937          good answer orang utan strong social bond  CONCEPT   \n",
       "2        9633                             subject verb congruent  CONCEPT   \n",
       "3       11401            answer mention keyword look correctstat  CONCEPT   \n",
       "4        9984                 verb conjug expect ten expectedten  CONCEPT   \n",
       "..        ...                                                ...      ...   \n",
       "264    381128  learner compos two dimension three dimension s...  CONCEPT   \n",
       "265    379944                           answer within scope task  CONCEPT   \n",
       "266    381286  climat chang refer signific chang global tempe...  CONCEPT   \n",
       "267    381288  impact climat chang widespread affect weather ...  CONCEPT   \n",
       "268    379209         learner appli commut associ properti addit  CONCEPT   \n",
       "\n",
       "      groupId  categoryId  word_count  \n",
       "0         NaN         NaN           3  \n",
       "1         NaN         NaN           7  \n",
       "2         NaN         NaN           3  \n",
       "3     55122.0         NaN           5  \n",
       "4         NaN         NaN           5  \n",
       "..        ...         ...         ...  \n",
       "264  342103.0         4.0          12  \n",
       "265  340377.0         NaN           4  \n",
       "266  342514.0         4.0          32  \n",
       "267  342515.0         4.0          28  \n",
       "268  339468.0         4.0           6  \n",
       "\n",
       "[269 rows x 6 columns]"
      ]
     },
     "execution_count": 17,
     "metadata": {},
     "output_type": "execute_result"
    }
   ],
   "source": [
    "i = pd.read_csv(\"data/preprocessed_concept_aspects_EN.csv\")\n",
    "i"
   ]
  },
  {
   "cell_type": "code",
   "execution_count": 39,
   "id": "779190f3-9f2e-44fb-a6dc-cba38a4a0d84",
   "metadata": {},
   "outputs": [
    {
     "name": "stdout",
     "output_type": "stream",
     "text": [
      "Coherence score: 0.5102065045997334\n"
     ]
    }
   ],
   "source": [
    "df = pd.read_csv(\"data/preprocessed_concept_aspects_EN.csv\")\n",
    "df.dropna(subset=[\"description\"], inplace=True)\n",
    "data = df[\"description\"].str.split().to_list() \n",
    "title = \"Coherence score by number of topics in english tasks\" \n",
    "\n",
    "id2word, corpus = get_corpus(data)\n",
    "\n",
    "num_topics = 3 \n",
    "passes = 20 \n",
    "decay = 0.9\n",
    "iterations = 100\n",
    "lda_model_aspects, coherence_lda_aspects = get_model(corpus=corpus,\n",
    "                                                     id2word=id2word,\n",
    "                                                     title=title,\n",
    "                                                     num_topics=num_topics,\n",
    "                                                     passes=passes,\n",
    "                                                     decay=decay,\n",
    "                                                     iterations=iterations)"
   ]
  },
  {
   "cell_type": "code",
   "execution_count": 40,
   "id": "50152f88-ff25-468b-9810-33f7e20f6e82",
   "metadata": {},
   "outputs": [
    {
     "data": {
      "text/plain": [
       "[(0,\n",
       "  '0.086*\"correctli\" + 0.082*\"write\" + 0.052*\"spell\" + 0.047*\"verb\" + 0.047*\"student\" + 0.041*\"abil\" + 0.040*\"subject\" + 0.038*\"text\" + 0.031*\"match\" + 0.026*\"learner\"'),\n",
       " (1,\n",
       "  '0.098*\"abil\" + 0.061*\"languag\" + 0.042*\"right\" + 0.040*\"answer\" + 0.037*\"text\" + 0.037*\"one\" + 0.035*\"anoth\" + 0.035*\"convert\" + 0.033*\"use\" + 0.030*\"correct\"'),\n",
       " (2,\n",
       "  '0.195*\"student\" + 0.179*\"word\" + 0.172*\"know\" + 0.026*\"answer\" + 0.010*\"sentenc\" + 0.008*\"understand\" + 0.007*\"die\" + 0.007*\"english\" + 0.005*\"consist\" + 0.005*\"look\"')]"
      ]
     },
     "execution_count": 40,
     "metadata": {},
     "output_type": "execute_result"
    }
   ],
   "source": [
    "lda_model_aspects.print_topics() "
   ]
  },
  {
   "cell_type": "code",
   "execution_count": 41,
   "id": "c8e27d3e-56fd-4810-a281-35a635c5bac8",
   "metadata": {},
   "outputs": [
    {
     "data": {
      "text/html": [
       "\n",
       "<link rel=\"stylesheet\" type=\"text/css\" href=\"https://cdn.jsdelivr.net/gh/bmabey/pyLDAvis@3.4.0/pyLDAvis/js/ldavis.v1.0.0.css\">\n",
       "\n",
       "\n",
       "<div id=\"ldavis_el175981396510789246403476208774\" style=\"background-color:white;\"></div>\n",
       "<script type=\"text/javascript\">\n",
       "\n",
       "var ldavis_el175981396510789246403476208774_data = {\"mdsDat\": {\"x\": [-0.24345249934282345, 0.07661995404311324, 0.1668325452997102], \"y\": [0.03635927395707919, -0.1653612442659934, 0.1290019703089141], \"topics\": [1, 2, 3], \"cluster\": [1, 1, 1], \"Freq\": [44.27029702089709, 28.41502393094826, 27.314679048154655]}, \"tinfo\": {\"Term\": [\"know\", \"word\", \"student\", \"correctli\", \"write\", \"abil\", \"languag\", \"spell\", \"verb\", \"right\", \"subject\", \"one\", \"text\", \"anoth\", \"convert\", \"match\", \"ten\", \"use\", \"correct\", \"learner\", \"formul\", \"abl\", \"format\", \"input\", \"detector\", \"answer\", \"strategi\", \"request\", \"amount\", \"chang\", \"know\", \"word\", \"die\", \"student\", \"consist\", \"look\", \"correctstat\", \"mention\", \"want\", \"respond\", \"understand\", \"enthalt\", \"christma\", \"gesuchten\", \"offic\", \"salari\", \"stichwort\", \"fli\", \"alcohol\", \"diet\", \"meat\", \"bank\", \"wear\", \"oil\", \"cash\", \"spoon\", \"mean\", \"qualiti\", \"earn\", \"profess\", \"answer\", \"sentenc\", \"english\", \"speak\", \"chang\", \"antwort\", \"rule\", \"correctli\", \"write\", \"spell\", \"subject\", \"verb\", \"match\", \"abl\", \"detector\", \"strategi\", \"request\", \"amount\", \"inform\", \"congruent\", \"theori\", \"aspect\", \"help\", \"simpl\", \"follow\", \"cute\", \"appropri\", \"expect\", \"past\", \"conjug\", \"sie\", \"pictur\", \"puppi\", \"expectedten\", \"verstanden\", \"inde\", \"hauptkonzept\", \"learner\", \"text\", \"task\", \"sentenc\", \"use\", \"abil\", \"correct\", \"student\", \"answer\", \"ten\", \"languag\", \"right\", \"one\", \"anoth\", \"convert\", \"formul\", \"format\", \"input\", \"order\", \"ten\", \"weather\", \"climat\", \"compos\", \"shape\", \"dimension\", \"give\", \"descript\", \"human\", \"signific\", \"pattern\", \"global\", \"topic\", \"abil\", \"composit\", \"two\", \"creat\", \"three\", \"new\", \"associ\", \"addit\", \"chang\", \"correct\", \"use\", \"text\", \"speak\", \"answer\", \"level\", \"german\", \"learner\", \"english\"], \"Freq\": [94.0, 98.0, 121.0, 30.0, 28.0, 46.0, 21.0, 18.0, 16.0, 14.0, 14.0, 12.0, 25.0, 12.0, 12.0, 11.0, 12.0, 20.0, 16.0, 15.0, 7.0, 7.0, 6.0, 6.0, 5.0, 31.0, 4.0, 4.0, 4.0, 6.0, 92.29870025049969, 95.98403428089749, 3.7519026158036994, 104.64177032407437, 2.8790227848739227, 2.877974633535352, 2.8303772880282967, 2.8268190112922884, 2.7940948384919437, 2.7786796303595516, 4.116190332431404, 2.0207436122916493, 2.0206152748657344, 2.01987231466537, 2.0197659280528284, 2.019477324745183, 2.019409975658697, 2.0193552233457943, 2.0192971035785674, 2.0192247656708604, 2.019200819328999, 2.0191730066506905, 2.019113639678159, 2.018935663481093, 2.0188641986170994, 2.018818301461865, 2.018807949657831, 2.01876068057676, 2.018736235352776, 2.018694079813457, 13.875599035444823, 5.594863722013585, 3.6396997860412728, 2.1897772225978263, 2.0941622233958306, 2.0272934356729397, 2.028184688584104, 29.69627979393879, 28.048922337477887, 17.82876308484407, 13.834479889543836, 16.106969844768535, 10.64495875572357, 6.655077153306271, 5.053449704439604, 3.461725999664037, 3.4614579847329283, 3.4604028960853754, 3.4591726531160583, 3.458722119056238, 2.6569573738996173, 2.6185310133348314, 2.6169611887234114, 2.614051129351951, 1.8635603302719368, 1.8632719820694719, 1.8572613389728951, 2.4616366096671967, 1.811209841544928, 1.8110346872231642, 1.0650426644568978, 1.0649383563758839, 1.0649337133454166, 1.0648271638014188, 1.0647970641556312, 1.064742948835013, 1.0646931563358646, 8.99029156826226, 13.05597752755053, 2.4084630237114975, 4.959141750425233, 8.203849944378987, 13.954093320231602, 5.783323526991134, 16.1019169467842, 4.382268910337818, 1.871198115390529, 20.19205993686887, 13.97732677882271, 12.371313769345873, 11.561747234773975, 11.550978837453478, 6.718366274277477, 5.915654035141574, 5.9094947728964575, 2.6732404755900805, 9.94876911854639, 2.6521229170899066, 2.6509344657391622, 1.8837426396432826, 1.8834686894484722, 1.8833651116500973, 1.8814035974743348, 1.8775438239149824, 1.857737532639406, 1.8548581314064254, 1.8515681126904369, 1.8498933227916021, 1.825633955708924, 32.45034493392809, 1.0765470054933246, 1.0763947938401406, 1.0763700921512265, 1.0762161105950987, 1.0760812132098452, 1.0759994898652134, 1.0759002983480477, 4.233075947734961, 9.972792395966799, 10.962557212500753, 12.376097124432786, 3.2548779856061545, 13.340409197585995, 1.8536752206214187, 1.8816526151233255, 5.923276006741453, 1.8676893121320033], \"Total\": [94.0, 98.0, 121.0, 30.0, 28.0, 46.0, 21.0, 18.0, 16.0, 14.0, 14.0, 12.0, 25.0, 12.0, 12.0, 11.0, 12.0, 20.0, 16.0, 15.0, 7.0, 7.0, 6.0, 6.0, 5.0, 31.0, 4.0, 4.0, 4.0, 6.0, 94.32291928602791, 98.61261370185213, 4.291806562587724, 121.67286492371815, 3.4244876481559468, 3.4244091804075287, 3.421127991242663, 3.4208594938246133, 3.4187591618395334, 3.4167290176193434, 5.12344316797827, 2.558305479542541, 2.558294844369725, 2.558238879249061, 2.5582334087657905, 2.558209241582864, 2.5582060019235304, 2.5581997788360478, 2.5581964217105697, 2.558187834872368, 2.5581913254956645, 2.5581880386255005, 2.5581858852886312, 2.5581667113851325, 2.5581628881939578, 2.558158284523266, 2.5581631303324626, 2.5581568865758557, 2.558155020945518, 2.5581524203337747, 31.598277143368637, 10.832499085058656, 6.698305279223755, 5.800306538858783, 6.602496309820262, 3.3665510166119126, 4.158371555132651, 30.423940783318482, 28.82819737515491, 18.42094178493228, 14.421877008300315, 16.832017855064965, 11.222454597828353, 7.223366270015337, 5.623820165057876, 4.024003382069642, 4.024002492677348, 4.024027876437442, 4.024092324047177, 4.024133580997043, 3.22444418026577, 3.22484075151451, 3.224787380373157, 3.2281550643549095, 2.424417496143447, 2.4244064715708973, 2.424482166428724, 3.2408943656463918, 2.42881229215353, 2.4288182832671112, 1.624585577740394, 1.6245889403458151, 1.6245931024596683, 1.6246081705304891, 1.6245954931382318, 1.6245993071658462, 1.6245906265205268, 15.28330748080365, 25.740113222261392, 4.053383980785626, 10.832499085058656, 20.182382594101995, 46.737112683752486, 16.123528481297924, 121.67286492371815, 31.598277143368637, 12.119238200359831, 21.024755518206014, 14.559626122035784, 12.943135358036985, 12.135446725295553, 12.13563847313106, 7.288000259837082, 6.480086398181685, 6.480352191496926, 3.249514653725733, 12.119238200359831, 3.2507869757372307, 3.251101089783788, 2.4405528017553455, 2.440552054966016, 2.4405509924510316, 2.4406447299354515, 2.4409420716329, 2.442237042623195, 2.442386826395907, 2.4426665049511866, 2.4427881143433776, 2.440664895709662, 46.737112683752486, 1.6326579596705915, 1.6326642366505157, 1.6326670554632214, 1.6326673416749953, 1.6326636179291567, 1.6326751159804007, 1.6326828262553423, 6.602496309820262, 16.123528481297924, 20.182382594101995, 25.740113222261392, 5.800306538858783, 31.598277143368637, 3.242372208010331, 3.307229549746845, 15.28330748080365, 6.698305279223755], \"Category\": [\"Default\", \"Default\", \"Default\", \"Default\", \"Default\", \"Default\", \"Default\", \"Default\", \"Default\", \"Default\", \"Default\", \"Default\", \"Default\", \"Default\", \"Default\", \"Default\", \"Default\", \"Default\", \"Default\", \"Default\", \"Default\", \"Default\", \"Default\", \"Default\", \"Default\", \"Default\", \"Default\", \"Default\", \"Default\", \"Default\", \"Topic1\", \"Topic1\", \"Topic1\", \"Topic1\", \"Topic1\", \"Topic1\", \"Topic1\", \"Topic1\", \"Topic1\", \"Topic1\", \"Topic1\", \"Topic1\", \"Topic1\", \"Topic1\", \"Topic1\", \"Topic1\", \"Topic1\", \"Topic1\", \"Topic1\", \"Topic1\", \"Topic1\", \"Topic1\", \"Topic1\", \"Topic1\", \"Topic1\", \"Topic1\", \"Topic1\", \"Topic1\", \"Topic1\", \"Topic1\", \"Topic1\", \"Topic1\", \"Topic1\", \"Topic1\", \"Topic1\", \"Topic1\", \"Topic1\", \"Topic2\", \"Topic2\", \"Topic2\", \"Topic2\", \"Topic2\", \"Topic2\", \"Topic2\", \"Topic2\", \"Topic2\", \"Topic2\", \"Topic2\", \"Topic2\", \"Topic2\", \"Topic2\", \"Topic2\", \"Topic2\", \"Topic2\", \"Topic2\", \"Topic2\", \"Topic2\", \"Topic2\", \"Topic2\", \"Topic2\", \"Topic2\", \"Topic2\", \"Topic2\", \"Topic2\", \"Topic2\", \"Topic2\", \"Topic2\", \"Topic2\", \"Topic2\", \"Topic2\", \"Topic2\", \"Topic2\", \"Topic2\", \"Topic2\", \"Topic2\", \"Topic2\", \"Topic2\", \"Topic3\", \"Topic3\", \"Topic3\", \"Topic3\", \"Topic3\", \"Topic3\", \"Topic3\", \"Topic3\", \"Topic3\", \"Topic3\", \"Topic3\", \"Topic3\", \"Topic3\", \"Topic3\", \"Topic3\", \"Topic3\", \"Topic3\", \"Topic3\", \"Topic3\", \"Topic3\", \"Topic3\", \"Topic3\", \"Topic3\", \"Topic3\", \"Topic3\", \"Topic3\", \"Topic3\", \"Topic3\", \"Topic3\", \"Topic3\", \"Topic3\", \"Topic3\", \"Topic3\", \"Topic3\", \"Topic3\", \"Topic3\", \"Topic3\", \"Topic3\", \"Topic3\", \"Topic3\"], \"logprob\": [30.0, 29.0, 28.0, 27.0, 26.0, 25.0, 24.0, 23.0, 22.0, 21.0, 20.0, 19.0, 18.0, 17.0, 16.0, 15.0, 14.0, 13.0, 12.0, 11.0, 10.0, 9.0, 8.0, 7.0, 6.0, 5.0, 4.0, 3.0, 2.0, 1.0, -1.7585, -1.7193, -4.9613, -1.633, -5.2261, -5.2264, -5.2431, -5.2444, -5.256, -5.2615, -4.8686, -5.5801, -5.5801, -5.5805, -5.5805, -5.5807, -5.5807, -5.5807, -5.5808, -5.5808, -5.5808, -5.5808, -5.5809, -5.5809, -5.581, -5.581, -5.581, -5.581, -5.581, -5.5811, -3.6534, -4.5617, -4.9916, -5.4997, -5.5444, -5.5768, -5.5764, -2.4491, -2.5062, -2.9593, -3.213, -3.0609, -3.475, -3.9447, -4.2201, -4.5984, -4.5984, -4.5987, -4.5991, -4.5992, -4.8629, -4.8775, -4.8781, -4.8792, -5.2176, -5.2178, -5.221, -4.9393, -5.2461, -5.2462, -5.7771, -5.7772, -5.7772, -5.7773, -5.7773, -5.7774, -5.7774, -3.644, -3.2709, -4.9611, -4.2389, -3.7355, -3.2044, -4.0851, -3.0612, -4.3626, -5.2135, -2.7953, -3.1632, -3.2852, -3.3529, -3.3539, -3.8958, -4.023, -4.0241, -4.8173, -3.5032, -4.8253, -4.8257, -5.1674, -5.1675, -5.1676, -5.1686, -5.1707, -5.1813, -5.1828, -5.1846, -5.1855, -5.1987, -2.3209, -5.7269, -5.727, -5.727, -5.7272, -5.7273, -5.7274, -5.7275, -4.3577, -3.5008, -3.4061, -3.2849, -4.6205, -3.2098, -5.1835, -5.1685, -4.0217, -5.1759], \"loglift\": [30.0, 29.0, 28.0, 27.0, 26.0, 25.0, 24.0, 23.0, 22.0, 21.0, 20.0, 19.0, 18.0, 17.0, 16.0, 15.0, 14.0, 13.0, 12.0, 11.0, 10.0, 9.0, 8.0, 7.0, 6.0, 5.0, 4.0, 3.0, 2.0, 1.0, 0.7932, 0.7878, 0.6804, 0.6641, 0.6414, 0.641, 0.6253, 0.6241, 0.6131, 0.6081, 0.596, 0.579, 0.5789, 0.5786, 0.5785, 0.5784, 0.5784, 0.5783, 0.5783, 0.5783, 0.5783, 0.5782, 0.5782, 0.5781, 0.5781, 0.5781, 0.5781, 0.5781, 0.578, 0.578, -0.0081, 0.1542, 0.2049, -0.1593, -0.3334, 0.3077, 0.0969, 1.234, 1.2308, 1.2256, 1.2167, 1.2142, 1.2054, 1.1763, 1.1513, 1.1077, 1.1077, 1.1074, 1.107, 1.1068, 1.0647, 1.05, 1.0494, 1.0472, 0.9951, 0.995, 0.9917, 0.9832, 0.9648, 0.9647, 0.836, 0.8359, 0.8359, 0.8358, 0.8358, 0.8357, 0.8357, 0.7276, 0.5794, 0.7377, 0.4769, 0.358, 0.0495, 0.233, -0.7641, -0.7173, -0.61, 1.2573, 1.2569, 1.2526, 1.2493, 1.2484, 1.2164, 1.2066, 1.2055, 1.1025, 1.1004, 1.0942, 1.0937, 1.0388, 1.0386, 1.0386, 1.0375, 1.0353, 1.0242, 1.0226, 1.0207, 1.0197, 1.0074, 0.9329, 0.8813, 0.8812, 0.8811, 0.881, 0.8809, 0.8808, 0.8807, 0.8532, 0.8173, 0.6874, 0.5655, 0.72, 0.4354, 0.7386, 0.7338, 0.3499, 0.0206]}, \"token.table\": {\"Topic\": [2, 3, 2, 3, 1, 2, 3, 1, 2, 3, 1, 3, 2, 2, 3, 1, 1, 1, 3, 1, 3, 3, 3, 2, 2, 1, 3, 2, 3, 2, 1, 3, 2, 3, 2, 1, 1, 3, 1, 1, 2, 3, 1, 1, 2, 2, 1, 2, 3, 3, 1, 3, 1, 3, 3, 2, 2, 3, 2, 2, 3, 1, 2, 3, 3, 2, 3, 2, 3, 1, 2, 1, 1, 1, 3, 1, 1, 3, 3, 2, 3, 2, 1, 2, 1, 2, 1, 3, 1, 2, 1, 1, 2, 3, 2, 3, 2, 1, 3, 2, 1, 1, 2, 1, 2, 3, 2, 1, 2, 3, 2, 3, 2, 3, 2, 3, 3, 3, 1, 3, 1, 2, 3, 2, 2, 1, 1, 3, 1, 2, 3, 2], \"Freq\": [0.2995478153460453, 0.6846807207909607, 0.9690772609797533, 0.6124888336662185, 0.7818007964621713, 0.7455216743319294, 0.9888387524281884, 0.44306213077626944, 0.12658918022179128, 0.4114148357208216, 0.5940798134741455, 0.29703990673707276, 0.8249184208048894, 0.9302784947105013, 0.6124917261322457, 0.7818033583936966, 0.7818110446485227, 0.30291573158856416, 0.6058314631771283, 0.7817707190402953, 0.9227642934349706, 0.8194864698528621, 0.6124981623228433, 0.7455020912244922, 0.823445711759758, 0.8760434576586867, 0.9888231283890526, 0.3721269824380902, 0.6202116373968171, 0.9860655532319821, 0.8769037603034268, 0.6124947500188759, 0.824944176421084, 0.8193557820329894, 0.8890753710558139, 0.9320084541713872, 0.781803420662339, 0.8194870773797729, 0.7818134489991859, 0.5971659745647704, 0.1492914936411926, 0.2985829872823852, 0.7817674691286776, 0.3085568016656265, 0.617113603331253, 0.6155330362972793, 0.7817997705050141, 0.82494042514601, 0.9259135806713322, 0.9604829514861296, 0.3023678837401976, 0.6047357674803951, 0.7817878213887027, 0.8194556034597034, 0.8187365855665303, 0.6155396834596749, 0.9302938910821632, 0.8189213270845362, 0.6155363944753398, 0.7455097344741808, 0.9258756040871959, 0.975372695166656, 0.010601877121376696, 0.010601877121376696, 0.9512595750605212, 0.5888777681993446, 0.392585178799563, 0.3084161644148949, 0.6168323288297898, 0.876063531532461, 0.9801777235194696, 0.781810970647551, 0.7818023539003629, 0.8769725869816182, 0.6124960396118726, 0.7817894931506238, 0.7818098762285471, 0.9271323885636915, 0.9232147934954988, 0.8234477429405138, 0.8187773467831488, 0.6155403223335602, 0.7818142437889022, 0.615538745354747, 0.7818128788328694, 0.7455263771479342, 0.8780327572159335, 0.9615631529721221, 0.4809575030714639, 0.4809575030714639, 0.7817968786488011, 0.5538888074567986, 0.4615740062139988, 0.8194867206091409, 0.6155415963933901, 0.8188711052586569, 0.9293233875676594, 0.3448093625054344, 0.5172140437581517, 0.9771487370273004, 0.7818124515984423, 0.7817978687002486, 0.7455262123703851, 0.8629697350007245, 0.1315001500953485, 0.00821875938095928, 0.9707474271166291, 0.24670744364223302, 0.49341488728446603, 0.24670744364223302, 0.1650268743740525, 0.8251343718702625, 0.5050482835000478, 0.46619841553850566, 0.9303929087563642, 0.6124946426465996, 0.8194488327814738, 0.6124958074977774, 0.7807249673423068, 0.1951812418355767, 0.049548163867046864, 0.3963853109363749, 0.5450298025375155, 0.9505693338594814, 0.6155378395567869, 0.8775113595266502, 0.7818040164717533, 0.9228534574522971, 0.9735062929195735, 0.010140690551245557, 0.010140690551245557, 0.9712712742882537], \"Term\": [\"abil\", \"abil\", \"abl\", \"addit\", \"alcohol\", \"amount\", \"anoth\", \"answer\", \"answer\", \"answer\", \"antwort\", \"antwort\", \"appropri\", \"aspect\", \"associ\", \"bank\", \"cash\", \"chang\", \"chang\", \"christma\", \"climat\", \"compos\", \"composit\", \"congruent\", \"conjug\", \"consist\", \"convert\", \"correct\", \"correct\", \"correctli\", \"correctstat\", \"creat\", \"cute\", \"descript\", \"detector\", \"die\", \"diet\", \"dimension\", \"earn\", \"english\", \"english\", \"english\", \"enthalt\", \"expect\", \"expect\", \"expectedten\", \"fli\", \"follow\", \"format\", \"formul\", \"german\", \"german\", \"gesuchten\", \"give\", \"global\", \"hauptkonzept\", \"help\", \"human\", \"inde\", \"inform\", \"input\", \"know\", \"know\", \"know\", \"languag\", \"learner\", \"learner\", \"level\", \"level\", \"look\", \"match\", \"mean\", \"meat\", \"mention\", \"new\", \"offic\", \"oil\", \"one\", \"order\", \"past\", \"pattern\", \"pictur\", \"profess\", \"puppi\", \"qualiti\", \"request\", \"respond\", \"right\", \"rule\", \"rule\", \"salari\", \"sentenc\", \"sentenc\", \"shape\", \"sie\", \"signific\", \"simpl\", \"speak\", \"speak\", \"spell\", \"spoon\", \"stichwort\", \"strategi\", \"student\", \"student\", \"student\", \"subject\", \"task\", \"task\", \"task\", \"ten\", \"ten\", \"text\", \"text\", \"theori\", \"three\", \"topic\", \"two\", \"understand\", \"understand\", \"use\", \"use\", \"use\", \"verb\", \"verstanden\", \"want\", \"wear\", \"weather\", \"word\", \"word\", \"word\", \"write\"]}, \"R\": 30, \"lambda.step\": 0.01, \"plot.opts\": {\"xlab\": \"PC1\", \"ylab\": \"PC2\"}, \"topic.order\": [3, 1, 2]};\n",
       "\n",
       "function LDAvis_load_lib(url, callback){\n",
       "  var s = document.createElement('script');\n",
       "  s.src = url;\n",
       "  s.async = true;\n",
       "  s.onreadystatechange = s.onload = callback;\n",
       "  s.onerror = function(){console.warn(\"failed to load library \" + url);};\n",
       "  document.getElementsByTagName(\"head\")[0].appendChild(s);\n",
       "}\n",
       "\n",
       "if(typeof(LDAvis) !== \"undefined\"){\n",
       "   // already loaded: just create the visualization\n",
       "   !function(LDAvis){\n",
       "       new LDAvis(\"#\" + \"ldavis_el175981396510789246403476208774\", ldavis_el175981396510789246403476208774_data);\n",
       "   }(LDAvis);\n",
       "}else if(typeof define === \"function\" && define.amd){\n",
       "   // require.js is available: use it to load d3/LDAvis\n",
       "   require.config({paths: {d3: \"https://d3js.org/d3.v5\"}});\n",
       "   require([\"d3\"], function(d3){\n",
       "      window.d3 = d3;\n",
       "      LDAvis_load_lib(\"https://cdn.jsdelivr.net/gh/bmabey/pyLDAvis@3.4.0/pyLDAvis/js/ldavis.v3.0.0.js\", function(){\n",
       "        new LDAvis(\"#\" + \"ldavis_el175981396510789246403476208774\", ldavis_el175981396510789246403476208774_data);\n",
       "      });\n",
       "    });\n",
       "}else{\n",
       "    // require.js not available: dynamically load d3 & LDAvis\n",
       "    LDAvis_load_lib(\"https://d3js.org/d3.v5.js\", function(){\n",
       "         LDAvis_load_lib(\"https://cdn.jsdelivr.net/gh/bmabey/pyLDAvis@3.4.0/pyLDAvis/js/ldavis.v3.0.0.js\", function(){\n",
       "                 new LDAvis(\"#\" + \"ldavis_el175981396510789246403476208774\", ldavis_el175981396510789246403476208774_data);\n",
       "            })\n",
       "         });\n",
       "}\n",
       "</script>"
      ],
      "text/plain": [
       "PreparedData(topic_coordinates=              x         y  topics  cluster       Freq\n",
       "topic                                                \n",
       "2     -0.243452  0.036359       1        1  44.270297\n",
       "0      0.076620 -0.165361       2        1  28.415024\n",
       "1      0.166833  0.129002       3        1  27.314679, topic_info=          Term        Freq       Total Category  logprob  loglift\n",
       "52        know   94.000000   94.000000  Default  30.0000  30.0000\n",
       "2         word   98.000000   98.000000  Default  29.0000  29.0000\n",
       "53     student  121.000000  121.000000  Default  28.0000  28.0000\n",
       "28   correctli   30.000000   30.000000  Default  27.0000  27.0000\n",
       "42       write   28.000000   28.000000  Default  26.0000  26.0000\n",
       "..         ...         ...         ...      ...      ...      ...\n",
       "3       answer   13.340409   31.598277   Topic3  -3.2098   0.4354\n",
       "162      level    1.853675    3.242372   Topic3  -5.1835   0.7386\n",
       "116     german    1.881653    3.307230   Topic3  -5.1685   0.7338\n",
       "44     learner    5.923276   15.283307   Topic3  -4.0217   0.3499\n",
       "115    english    1.867689    6.698305   Topic3  -5.1759   0.0206\n",
       "\n",
       "[147 rows x 6 columns], token_table=      Topic      Freq     Term\n",
       "term                          \n",
       "33        2  0.299548     abil\n",
       "33        3  0.684681     abil\n",
       "43        2  0.969077      abl\n",
       "243       3  0.612489    addit\n",
       "88        1  0.781801  alcohol\n",
       "...     ...       ...      ...\n",
       "224       3  0.922853  weather\n",
       "2         1  0.973506     word\n",
       "2         2  0.010141     word\n",
       "2         3  0.010141     word\n",
       "42        2  0.971271    write\n",
       "\n",
       "[132 rows x 3 columns], R=30, lambda_step=0.01, plot_opts={'xlab': 'PC1', 'ylab': 'PC2'}, topic_order=[3, 1, 2])"
      ]
     },
     "execution_count": 41,
     "metadata": {},
     "output_type": "execute_result"
    }
   ],
   "source": [
    "# Visualization \n",
    "pyLDAvis.enable_notebook()\n",
    "vis = gensimvis.prepare(lda_model_aspects, corpus, id2word) \n",
    "vis"
   ]
  },
  {
   "cell_type": "markdown",
   "id": "33bafd24-d078-4e1d-96f1-cba2a27e6b0d",
   "metadata": {},
   "source": [
    "<hr>"
   ]
  },
  {
   "cell_type": "markdown",
   "id": "990ee5a4-e02e-49b0-86d2-5af0771fd0d5",
   "metadata": {},
   "source": [
    "Functions that come with gensim LDAModel: <br>\n",
    "- get_document_topics(bow[, ...]) \tReturn topic distribution for the given document bow, as a list of (topic_id, topic_probability) 2-tuples.<br>\n",
    "- get_term_topics(word_id[, minimum_probability]) \tReturns most likely topics for a particular word in vocab.<br>\n",
    "- get_topic_terms(topicid[, topn]) \tReturn a list of (word_id, probability) 2-tuples for the most probable words in topic topicid. <br>\n",
    "- show_topic(topicid[, topn]) Return a list of (word, probability) 2-tuples for the most probable words in topic topicid.<br>\n",
    "- top_topics(corpus[, num_words]) \tCalculate the Umass topic coherence for each topic.<br>\n",
    "  https://tedboy.github.io/nlps/generated/generated/gensim.models.LdaModel.html                                             "
   ]
  },
  {
   "cell_type": "code",
   "execution_count": null,
   "id": "b9151638-78ff-40bb-bba6-7576418d209c",
   "metadata": {},
   "outputs": [],
   "source": []
  }
 ],
 "metadata": {
  "kernelspec": {
   "display_name": "tb_venv",
   "language": "python",
   "name": "tb_venv"
  },
  "language_info": {
   "codemirror_mode": {
    "name": "ipython",
    "version": 3
   },
   "file_extension": ".py",
   "mimetype": "text/x-python",
   "name": "python",
   "nbconvert_exporter": "python",
   "pygments_lexer": "ipython3",
   "version": "3.11.8"
  }
 },
 "nbformat": 4,
 "nbformat_minor": 5
}
