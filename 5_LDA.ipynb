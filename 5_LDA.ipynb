{
 "cells": [
  {
   "cell_type": "markdown",
   "id": "227ddbba-b589-411a-b746-09933d46c1b0",
   "metadata": {},
   "source": [
    "This notebook is to explore and implement Latent Dirichlet Allocation. <hr>"
   ]
  },
  {
   "cell_type": "markdown",
   "id": "6fe12823-c2e6-4ec3-af27-726b3c37c08e",
   "metadata": {},
   "source": [
    "> Things to consider doing to improve results: plot distribution of words/lemmas in corpus and remove head and tail of distribution."
   ]
  },
  {
   "cell_type": "code",
   "execution_count": 2,
   "id": "6a8ec6ca-558d-44c6-9e75-e11e041a3460",
   "metadata": {},
   "outputs": [],
   "source": [
    "import pandas as pd\n",
    "import gensim.corpora as corpora\n",
    "from gensim.models.ldamodel import LdaModel\n",
    "from pprint import pprint\n",
    "import matplotlib.pyplot as plt\n",
    "from gensim.models import CoherenceModel\n",
    "import pyLDAvis\n",
    "import pyLDAvis.gensim_models as gensimvis"
   ]
  },
  {
   "cell_type": "code",
   "execution_count": 3,
   "id": "08760613-ec44-4414-a491-2eafa454965a",
   "metadata": {},
   "outputs": [],
   "source": [
    "def get_corpus(data, min_len=3):\n",
    "    # Create a Dictionary: a mapping between words and their integer IDs\n",
    "    id2word = corpora.Dictionary(data)\n",
    "    \n",
    "    # Remove tokens of 1 or 2 letters\n",
    "    del_ids = [k for k,v in id2word.items() if len(v)<min_len]\n",
    "    id2word.filter_tokens(bad_ids=del_ids)\n",
    "    \n",
    "    # Create a corpus: a list of documents represented as a BoW\n",
    "    corpus = [id2word.doc2bow(text) for text in data]\n",
    "    \n",
    "    return id2word, corpus"
   ]
  },
  {
   "cell_type": "code",
   "execution_count": 45,
   "id": "fec3c33c-a727-4a40-835a-3c0c021eb326",
   "metadata": {},
   "outputs": [],
   "source": [
    "def get_model(corpus, id2word, num_topics=3, passes=10, decay=0.5, iterations=50):\n",
    "    coh_scores = []\n",
    "    lda_model = LdaModel(\n",
    "        corpus=corpus, \n",
    "        id2word=id2word, \n",
    "        num_topics=num_topics, \n",
    "        distributed=False,\n",
    "        passes=passes, \n",
    "        update_every=1,\n",
    "        alpha='auto', \n",
    "        eta=None, \n",
    "        decay=decay,\n",
    "        eval_every=5,\n",
    "        iterations=iterations, \n",
    "        per_word_topics=True)\n",
    "    \n",
    "    coherence_model_lda = CoherenceModel(\n",
    "        model=lda_model, \n",
    "        texts=data, \n",
    "        dictionary=id2word, \n",
    "        coherence='c_v')\n",
    "        \n",
    "    coherence_lda = coherence_model_lda.get_coherence()\n",
    "    print(f\"Coherence score: {coherence_lda}\")\n",
    "\n",
    "    return lda_model, coherence_lda\n",
    "\n",
    "def plot_coh_score(coh_scores, title, language, save=True): \n",
    "    fig, ax = plt.subplots(1, 1)\n",
    "    ax.plot(range(2, 11), coh_scores, marker='o', linestyle='--')\n",
    "    ax.title.set_text(title)\n",
    "    ax.set_ylabel(\"Coherence score\")\n",
    "    ax.set_xlabel('Number of topics')\n",
    "    ax.grid(True)\n",
    "    if save:\n",
    "        ax.get_figure().savefig(\"figures/LDA_coh_\"+language, bbox_inches=\"tight\")\n"
   ]
  },
  {
   "cell_type": "code",
   "execution_count": 5,
   "id": "c1e5497e-b4fa-4b92-abbd-31da2097261e",
   "metadata": {},
   "outputs": [],
   "source": [
    "def get_best_model(corpus, id2word, title, language, plot=False, save_plot=False):\n",
    "    coh_scores = []\n",
    "    for num_topics in range(2, 11):\n",
    "    # for passes in range(10, 100, 10): \n",
    "    # for iterations in range(50, 100, 10): \n",
    "    # for decay in [0.6, 0.7, 0.8, 0.9, 1]:\n",
    "        lda_model, coherence_lda = get_model(corpus, \n",
    "                                             id2word, \n",
    "                                             num_topics=num_topics, \n",
    "                                             passes=passes, \n",
    "                                             decay=decay, \n",
    "                                             iterations=iterations)\n",
    "    coh_scores.append(coherence_lda)\n",
    "    if coherence_lda == max(coh_scores):\n",
    "        best_model = lda_model\n",
    "\n",
    "    if plot:\n",
    "        plot_coh_score(coh_scores, title, language, save_plot)\n",
    "\n",
    "    return best_model "
   ]
  },
  {
   "cell_type": "markdown",
   "id": "0037c44f-2bde-44b8-a80a-169625d2dbeb",
   "metadata": {},
   "source": [
    "<hr>"
   ]
  },
  {
   "cell_type": "markdown",
   "id": "c386e7fa-92f6-4fc8-9dd5-8c873c80b127",
   "metadata": {},
   "source": [
    "**German tasks**"
   ]
  },
  {
   "cell_type": "raw",
   "id": "ae73f886-e4f5-45a5-a8a9-2df3c5650e08",
   "metadata": {},
   "source": [
    "df = pd.read_csv(\"data/all_preprocessed_tasks_DE.csv\") \n",
    "df.head()"
   ]
  },
  {
   "cell_type": "raw",
   "id": "2c893350-99a6-4c84-817f-331ba2399e55",
   "metadata": {},
   "source": [
    "df = pd.read_csv(\"data/all_preprocessed_tasks_DE.csv\")\n",
    "df.dropna(subset=[\"description\"], inplace=True)\n",
    "data = df[\"description\"].str.split().to_list() \n",
    "title = \"Coherence score by number of topics in german tasks\" \n",
    "\n",
    "id2word, corpus = get_corpus(data)\n",
    "\n",
    "num_topics = 3 \n",
    "passes = 80 \n",
    "decay = 0.9\n",
    "iterations = 100\n",
    "lda_model, coherence_lda = get_model(corpus=corpus,\n",
    "                                     id2word=id2word,\n",
    "                                     title=title,\n",
    "                                     num_topics=num_topics,\n",
    "                                     passes=passes,\n",
    "                                     decay=decay,\n",
    "                                     iterations=iterations)"
   ]
  },
  {
   "cell_type": "raw",
   "id": "d76a9e2e-839d-4d69-9919-8dbbb5093e18",
   "metadata": {},
   "source": [
    "lda_model.show_topics()"
   ]
  },
  {
   "cell_type": "raw",
   "id": "bb331fe8-0fa1-456a-b98b-da55488e6c2b",
   "metadata": {},
   "source": [
    "# Visualization \n",
    "pyLDAvis.enable_notebook()\n",
    "vis = gensimvis.prepare(lda_model, corpus, id2word) \n",
    "vis"
   ]
  },
  {
   "cell_type": "raw",
   "id": "d6bfbfe7-12b9-4f1b-8c78-119f0c2e9ba9",
   "metadata": {},
   "source": [
    "**German concept aspects**"
   ]
  },
  {
   "cell_type": "raw",
   "id": "9057ecfc-a4a2-4ed1-826a-7be9a328b2e7",
   "metadata": {},
   "source": [
    "df = pd.read_csv(\"data/preprocessed_concept_aspects_DE.csv\")\n",
    "df.dropna(subset=[\"description\"], inplace=True)\n",
    "data = df[\"description\"].str.split().to_list() \n",
    "title = \"Coherence score by number of topics in english tasks\" \n",
    "\n",
    "id2word, corpus = get_corpus(data)\n",
    "\n",
    "num_topics = 3 \n",
    "passes = 20 \n",
    "decay = 0.9\n",
    "iterations = 100\n",
    "lda_model_aspects, coherence_lda_aspects = get_model(corpus=corpus,\n",
    "                                                     id2word=id2word,\n",
    "                                                     title=title,\n",
    "                                                     num_topics=num_topics,\n",
    "                                                     passes=passes,\n",
    "                                                     decay=decay,\n",
    "                                                     iterations=iterations)"
   ]
  },
  {
   "cell_type": "raw",
   "id": "1fcffe13-bb96-45a1-94a2-e0bad29de54f",
   "metadata": {},
   "source": [
    "lda_model_aspects.show_topics()"
   ]
  },
  {
   "cell_type": "raw",
   "id": "0867c84f-6637-42d6-9e84-bcc4f55555d4",
   "metadata": {},
   "source": [
    "# Visualization \n",
    "pyLDAvis.enable_notebook()\n",
    "vis = gensimvis.prepare(lda_model_aspects, corpus, id2word) \n",
    "vis"
   ]
  },
  {
   "cell_type": "markdown",
   "id": "a34ee6e1-b975-4957-b974-c4abd2185c89",
   "metadata": {},
   "source": [
    "<hr>"
   ]
  },
  {
   "cell_type": "markdown",
   "id": "a9b84ab7-985a-4600-b896-ead7c6ac03c5",
   "metadata": {},
   "source": [
    "**English tasks**"
   ]
  },
  {
   "cell_type": "code",
   "execution_count": 6,
   "id": "489d6cc0-4ef7-4725-ae45-1d77f2f2800e",
   "metadata": {},
   "outputs": [],
   "source": [
    "folder = \"gen_files/EN/\"\n",
    "df = pd.read_csv(f\"{folder}preprocessed/all_preprocessed_open_tasks_EN.csv\")\n",
    "df_taskaspects = pd.read_csv(f\"{folder}all_taskAspects_EN.csv\")\n",
    "\n",
    "# Keeping only the tasks that have one or more aspects of type CONCEPT\n",
    "df = pd.merge(df, df_taskaspects, on=\"taskId\", how=\"inner\") \n",
    "df.reset_index(drop=True, inplace=True)"
   ]
  },
  {
   "cell_type": "code",
   "execution_count": 7,
   "id": "c126fd00-0949-4a3c-8df0-9f6002e7c201",
   "metadata": {},
   "outputs": [
    {
     "data": {
      "text/plain": [
       "(5706, 5706)"
      ]
     },
     "execution_count": 7,
     "metadata": {},
     "output_type": "execute_result"
    }
   ],
   "source": [
    "len(df.taskId.unique()), len(df_taskaspects.taskId.unique())"
   ]
  },
  {
   "cell_type": "code",
   "execution_count": 8,
   "id": "cd3af9cf-6916-4337-91c1-a05b679d0d79",
   "metadata": {},
   "outputs": [],
   "source": [
    "_df = df[[\"taskId\", \"description\", \"topic_id\"]].drop_duplicates(\"taskId\")\n",
    "_df = _df.dropna(subset=[\"description\"]).reset_index()\n",
    "data = _df[\"description\"].str.split().to_list() "
   ]
  },
  {
   "cell_type": "code",
   "execution_count": 9,
   "id": "be1ac68f-8e71-4cfe-8cfc-cff28c5e104e",
   "metadata": {},
   "outputs": [
    {
     "data": {
      "text/plain": [
       "5702"
      ]
     },
     "execution_count": 9,
     "metadata": {},
     "output_type": "execute_result"
    }
   ],
   "source": [
    "len(data)"
   ]
  },
  {
   "cell_type": "code",
   "execution_count": 46,
   "id": "faf0df50-b31c-4374-8cff-5a74f2923edd",
   "metadata": {},
   "outputs": [
    {
     "name": "stdout",
     "output_type": "stream",
     "text": [
      "Coherence score: 0.37872511552041693\n"
     ]
    }
   ],
   "source": [
    "id2word, corpus = get_corpus(data)\n",
    "\n",
    "num_topics = 3 \n",
    "passes = 20 \n",
    "decay = 0.9\n",
    "iterations = 100\n",
    "lda_model_en, coherence_lda_en = get_model(corpus=corpus,\n",
    "                                         id2word=id2word,\n",
    "                                         num_topics=num_topics,\n",
    "                                         passes=passes,\n",
    "                                         decay=decay,\n",
    "                                         iterations=iterations)"
   ]
  },
  {
   "cell_type": "code",
   "execution_count": 11,
   "id": "38c29589-04ee-47a1-b9cc-d26584f11011",
   "metadata": {},
   "outputs": [
    {
     "data": {
      "text/plain": [
       "[(0,\n",
       "  '0.013*\"dora\" + 0.010*\"gwen\" + 0.008*\"think\" + 0.007*\"look\" + 0.007*\"come\" + 0.007*\"dad\" + 0.007*\"ask\" + 0.006*\"friend\" + 0.006*\"take\" + 0.006*\"want\"'),\n",
       " (1,\n",
       "  '0.022*\"auf\" + 0.021*\"englisch\" + 0.019*\"schreib\" + 0.019*\"horst\" + 0.013*\"sie\" + 0.011*\"die\" + 0.011*\"ship\" + 0.011*\"english\" + 0.011*\"satz\" + 0.010*\"lifeboat\"'),\n",
       " (2,\n",
       "  '0.023*\"translat\" + 0.021*\"sie\" + 0.019*\"satz\" + 0.019*\"ubersetzen\" + 0.017*\"english\" + 0.015*\"den\" + 0.011*\"oil\" + 0.010*\"ich\" + 0.010*\"sentenc\" + 0.009*\"ship\"')]"
      ]
     },
     "execution_count": 11,
     "metadata": {},
     "output_type": "execute_result"
    }
   ],
   "source": [
    "lda_model_en.print_topics() "
   ]
  },
  {
   "cell_type": "raw",
   "id": "b8f6eae9-8bd7-4066-82b4-8990a6fcf157",
   "metadata": {},
   "source": [
    "# Visualization \n",
    "pyLDAvis.enable_notebook()\n",
    "vis = gensimvis.prepare(lda_model_en, corpus, id2word) \n",
    "vis"
   ]
  },
  {
   "cell_type": "code",
   "execution_count": 12,
   "id": "0bf7dacd-a529-4ea2-a27a-92bcc7286a33",
   "metadata": {
    "scrolled": true
   },
   "outputs": [],
   "source": [
    "documents = _df[\"description\"].to_list()\n",
    "\n",
    "# Infer topic distributions for each document\n",
    "topic_distributions = lda_model_en.get_document_topics(corpus)\n",
    "\n",
    "doc_to_topic = {}\n",
    "for (i, d) in enumerate(topic_distributions): \n",
    "    doc_to_topic[i] = {u:v for (u,v) in d} \n",
    "    \n",
    "df1 = pd.DataFrame.from_dict(doc_to_topic, orient='index').sort_index()\n",
    "# Replace values that are less than 1/3 by NaN \n",
    "df1 = df1.mask(df1 < 1/3).reset_index()"
   ]
  },
  {
   "cell_type": "code",
   "execution_count": 13,
   "id": "111aa0a6-95e9-4486-a53e-0ab4991a7dac",
   "metadata": {},
   "outputs": [
    {
     "name": "stdout",
     "output_type": "stream",
     "text": [
      "5702 5702\n"
     ]
    }
   ],
   "source": [
    "df_tasks_topics = pd.concat([_df[[\"taskId\"]], df1], axis=1) \n",
    "print(len(_df), len(df1))"
   ]
  },
  {
   "cell_type": "code",
   "execution_count": 14,
   "id": "45ce3a8a-85ab-498c-966d-52abbf981b32",
   "metadata": {},
   "outputs": [
    {
     "data": {
      "text/html": [
       "<div>\n",
       "<style scoped>\n",
       "    .dataframe tbody tr th:only-of-type {\n",
       "        vertical-align: middle;\n",
       "    }\n",
       "\n",
       "    .dataframe tbody tr th {\n",
       "        vertical-align: top;\n",
       "    }\n",
       "\n",
       "    .dataframe thead th {\n",
       "        text-align: right;\n",
       "    }\n",
       "</style>\n",
       "<table border=\"1\" class=\"dataframe\">\n",
       "  <thead>\n",
       "    <tr style=\"text-align: right;\">\n",
       "      <th></th>\n",
       "      <th>taskId</th>\n",
       "      <th>index</th>\n",
       "      <th>1</th>\n",
       "      <th>2</th>\n",
       "      <th>0</th>\n",
       "    </tr>\n",
       "  </thead>\n",
       "  <tbody>\n",
       "    <tr>\n",
       "      <th>0</th>\n",
       "      <td>14ambh1obhw7TYMQE8lcC1</td>\n",
       "      <td>0</td>\n",
       "      <td>0.981932</td>\n",
       "      <td>NaN</td>\n",
       "      <td>NaN</td>\n",
       "    </tr>\n",
       "    <tr>\n",
       "      <th>1</th>\n",
       "      <td>25RGLvb2p0G5zulfX9xQOj</td>\n",
       "      <td>1</td>\n",
       "      <td>0.613683</td>\n",
       "      <td>NaN</td>\n",
       "      <td>0.379606</td>\n",
       "    </tr>\n",
       "    <tr>\n",
       "      <th>2</th>\n",
       "      <td>18Ccvc8NMJT5xqLv9nAgTH</td>\n",
       "      <td>2</td>\n",
       "      <td>NaN</td>\n",
       "      <td>0.694426</td>\n",
       "      <td>NaN</td>\n",
       "    </tr>\n",
       "    <tr>\n",
       "      <th>3</th>\n",
       "      <td>3Jr6T26XL13aKRh31JX0xi</td>\n",
       "      <td>3</td>\n",
       "      <td>0.991638</td>\n",
       "      <td>NaN</td>\n",
       "      <td>NaN</td>\n",
       "    </tr>\n",
       "    <tr>\n",
       "      <th>4</th>\n",
       "      <td>3gbjpjewKN1aa5y4aN20Yw</td>\n",
       "      <td>4</td>\n",
       "      <td>NaN</td>\n",
       "      <td>0.786927</td>\n",
       "      <td>NaN</td>\n",
       "    </tr>\n",
       "    <tr>\n",
       "      <th>...</th>\n",
       "      <td>...</td>\n",
       "      <td>...</td>\n",
       "      <td>...</td>\n",
       "      <td>...</td>\n",
       "      <td>...</td>\n",
       "    </tr>\n",
       "    <tr>\n",
       "      <th>5697</th>\n",
       "      <td>1vmTwnxXvLHaBpLOllxi8E_SR</td>\n",
       "      <td>5697</td>\n",
       "      <td>0.474202</td>\n",
       "      <td>NaN</td>\n",
       "      <td>0.507759</td>\n",
       "    </tr>\n",
       "    <tr>\n",
       "      <th>5698</th>\n",
       "      <td>aif5faqXBMr5BWFu35fcRC_SR</td>\n",
       "      <td>5698</td>\n",
       "      <td>0.984828</td>\n",
       "      <td>NaN</td>\n",
       "      <td>NaN</td>\n",
       "    </tr>\n",
       "    <tr>\n",
       "      <th>5699</th>\n",
       "      <td>2lqfJ6gZiLr7w2cuDlFWvF_SR</td>\n",
       "      <td>5699</td>\n",
       "      <td>NaN</td>\n",
       "      <td>NaN</td>\n",
       "      <td>0.968495</td>\n",
       "    </tr>\n",
       "    <tr>\n",
       "      <th>5700</th>\n",
       "      <td>16MreBTRQqA9TQI3zQU33G_SR</td>\n",
       "      <td>5700</td>\n",
       "      <td>0.919188</td>\n",
       "      <td>NaN</td>\n",
       "      <td>NaN</td>\n",
       "    </tr>\n",
       "    <tr>\n",
       "      <th>5701</th>\n",
       "      <td>8gooLcJt0bz7yVHSaWd0MM_SR</td>\n",
       "      <td>5701</td>\n",
       "      <td>NaN</td>\n",
       "      <td>NaN</td>\n",
       "      <td>0.950674</td>\n",
       "    </tr>\n",
       "  </tbody>\n",
       "</table>\n",
       "<p>5702 rows × 5 columns</p>\n",
       "</div>"
      ],
      "text/plain": [
       "                         taskId  index         1         2         0\n",
       "0        14ambh1obhw7TYMQE8lcC1      0  0.981932       NaN       NaN\n",
       "1        25RGLvb2p0G5zulfX9xQOj      1  0.613683       NaN  0.379606\n",
       "2        18Ccvc8NMJT5xqLv9nAgTH      2       NaN  0.694426       NaN\n",
       "3        3Jr6T26XL13aKRh31JX0xi      3  0.991638       NaN       NaN\n",
       "4        3gbjpjewKN1aa5y4aN20Yw      4       NaN  0.786927       NaN\n",
       "...                         ...    ...       ...       ...       ...\n",
       "5697  1vmTwnxXvLHaBpLOllxi8E_SR   5697  0.474202       NaN  0.507759\n",
       "5698  aif5faqXBMr5BWFu35fcRC_SR   5698  0.984828       NaN       NaN\n",
       "5699  2lqfJ6gZiLr7w2cuDlFWvF_SR   5699       NaN       NaN  0.968495\n",
       "5700  16MreBTRQqA9TQI3zQU33G_SR   5700  0.919188       NaN       NaN\n",
       "5701  8gooLcJt0bz7yVHSaWd0MM_SR   5701       NaN       NaN  0.950674\n",
       "\n",
       "[5702 rows x 5 columns]"
      ]
     },
     "execution_count": 14,
     "metadata": {},
     "output_type": "execute_result"
    }
   ],
   "source": [
    "df_tasks_topics"
   ]
  },
  {
   "cell_type": "code",
   "execution_count": 15,
   "id": "f9e37497-f332-4fb9-9af5-d31fa86a3cc3",
   "metadata": {},
   "outputs": [
    {
     "data": {
      "text/html": [
       "<div>\n",
       "<style scoped>\n",
       "    .dataframe tbody tr th:only-of-type {\n",
       "        vertical-align: middle;\n",
       "    }\n",
       "\n",
       "    .dataframe tbody tr th {\n",
       "        vertical-align: top;\n",
       "    }\n",
       "\n",
       "    .dataframe thead th {\n",
       "        text-align: right;\n",
       "    }\n",
       "</style>\n",
       "<table border=\"1\" class=\"dataframe\">\n",
       "  <thead>\n",
       "    <tr style=\"text-align: right;\">\n",
       "      <th></th>\n",
       "      <th>taskId</th>\n",
       "      <th>aspectId</th>\n",
       "    </tr>\n",
       "  </thead>\n",
       "  <tbody>\n",
       "    <tr>\n",
       "      <th>0</th>\n",
       "      <td>14ambh1obhw7TYMQE8lcC1_BT</td>\n",
       "      <td>9639</td>\n",
       "    </tr>\n",
       "    <tr>\n",
       "      <th>1</th>\n",
       "      <td>25RGLvb2p0G5zulfX9xQOj_BT</td>\n",
       "      <td>9639</td>\n",
       "    </tr>\n",
       "    <tr>\n",
       "      <th>2</th>\n",
       "      <td>18Ccvc8NMJT5xqLv9nAgTH_BT</td>\n",
       "      <td>9937</td>\n",
       "    </tr>\n",
       "    <tr>\n",
       "      <th>3</th>\n",
       "      <td>3Jr6T26XL13aKRh31JX0xi_BT</td>\n",
       "      <td>9633</td>\n",
       "    </tr>\n",
       "    <tr>\n",
       "      <th>4</th>\n",
       "      <td>3gbjpjewKN1aa5y4aN20Yw_BT</td>\n",
       "      <td>11401</td>\n",
       "    </tr>\n",
       "  </tbody>\n",
       "</table>\n",
       "</div>"
      ],
      "text/plain": [
       "                      taskId  aspectId\n",
       "0  14ambh1obhw7TYMQE8lcC1_BT      9639\n",
       "1  25RGLvb2p0G5zulfX9xQOj_BT      9639\n",
       "2  18Ccvc8NMJT5xqLv9nAgTH_BT      9937\n",
       "3  3Jr6T26XL13aKRh31JX0xi_BT      9633\n",
       "4  3gbjpjewKN1aa5y4aN20Yw_BT     11401"
      ]
     },
     "execution_count": 15,
     "metadata": {},
     "output_type": "execute_result"
    }
   ],
   "source": [
    "df_taskaspects.head()"
   ]
  },
  {
   "cell_type": "code",
   "execution_count": 16,
   "id": "77609b82-1280-44f5-82eb-dfa0b397c241",
   "metadata": {},
   "outputs": [
    {
     "data": {
      "text/html": [
       "<div>\n",
       "<style scoped>\n",
       "    .dataframe tbody tr th:only-of-type {\n",
       "        vertical-align: middle;\n",
       "    }\n",
       "\n",
       "    .dataframe tbody tr th {\n",
       "        vertical-align: top;\n",
       "    }\n",
       "\n",
       "    .dataframe thead th {\n",
       "        text-align: right;\n",
       "    }\n",
       "</style>\n",
       "<table border=\"1\" class=\"dataframe\">\n",
       "  <thead>\n",
       "    <tr style=\"text-align: right;\">\n",
       "      <th></th>\n",
       "      <th>taskId</th>\n",
       "      <th>aspectId</th>\n",
       "    </tr>\n",
       "  </thead>\n",
       "  <tbody>\n",
       "    <tr>\n",
       "      <th>0</th>\n",
       "      <td>12QfXkR96hp8Hyu8mSN1gm</td>\n",
       "      <td>[183, 184, 185, 186, 187, 17042, 18153, 19487]</td>\n",
       "    </tr>\n",
       "    <tr>\n",
       "      <th>1</th>\n",
       "      <td>12QfXkR96hp8Hyu8mSN1gm_BT</td>\n",
       "      <td>[183, 184, 185, 186, 187, 17042, 18153, 19487]</td>\n",
       "    </tr>\n",
       "    <tr>\n",
       "      <th>2</th>\n",
       "      <td>12QfXkR96hp8Hyu8mSN1gm_RD</td>\n",
       "      <td>[183, 184, 185, 186, 187, 17042, 18153, 19487]</td>\n",
       "    </tr>\n",
       "    <tr>\n",
       "      <th>3</th>\n",
       "      <td>12QfXkR96hp8Hyu8mSN1gm_RI</td>\n",
       "      <td>[183, 184, 185, 186, 187, 17042, 18153, 19487]</td>\n",
       "    </tr>\n",
       "    <tr>\n",
       "      <th>4</th>\n",
       "      <td>12QfXkR96hp8Hyu8mSN1gm_RS</td>\n",
       "      <td>[183, 184, 185, 186, 187, 17042, 18153, 19487]</td>\n",
       "    </tr>\n",
       "  </tbody>\n",
       "</table>\n",
       "</div>"
      ],
      "text/plain": [
       "                      taskId                                        aspectId\n",
       "0     12QfXkR96hp8Hyu8mSN1gm  [183, 184, 185, 186, 187, 17042, 18153, 19487]\n",
       "1  12QfXkR96hp8Hyu8mSN1gm_BT  [183, 184, 185, 186, 187, 17042, 18153, 19487]\n",
       "2  12QfXkR96hp8Hyu8mSN1gm_RD  [183, 184, 185, 186, 187, 17042, 18153, 19487]\n",
       "3  12QfXkR96hp8Hyu8mSN1gm_RI  [183, 184, 185, 186, 187, 17042, 18153, 19487]\n",
       "4  12QfXkR96hp8Hyu8mSN1gm_RS  [183, 184, 185, 186, 187, 17042, 18153, 19487]"
      ]
     },
     "execution_count": 16,
     "metadata": {},
     "output_type": "execute_result"
    }
   ],
   "source": [
    "df_task_to_aspects = df_taskaspects.groupby(by=\"taskId\")[\"aspectId\"].apply(list).reset_index()\n",
    "df_task_to_aspects.head()"
   ]
  },
  {
   "cell_type": "code",
   "execution_count": 17,
   "id": "6130beab-3d1e-4466-89b2-126eb82a5a3c",
   "metadata": {},
   "outputs": [
    {
     "data": {
      "text/plain": [
       "(5702, 5702, 5706)"
      ]
     },
     "execution_count": 17,
     "metadata": {},
     "output_type": "execute_result"
    }
   ],
   "source": [
    "len(df_tasks_topics), len(df_tasks_topics.taskId.unique()), len(df_task_to_aspects)"
   ]
  },
  {
   "cell_type": "code",
   "execution_count": 18,
   "id": "06a1c850-b809-4ada-9769-cd3f540505d7",
   "metadata": {},
   "outputs": [
    {
     "data": {
      "text/html": [
       "<div>\n",
       "<style scoped>\n",
       "    .dataframe tbody tr th:only-of-type {\n",
       "        vertical-align: middle;\n",
       "    }\n",
       "\n",
       "    .dataframe tbody tr th {\n",
       "        vertical-align: top;\n",
       "    }\n",
       "\n",
       "    .dataframe thead th {\n",
       "        text-align: right;\n",
       "    }\n",
       "</style>\n",
       "<table border=\"1\" class=\"dataframe\">\n",
       "  <thead>\n",
       "    <tr style=\"text-align: right;\">\n",
       "      <th></th>\n",
       "      <th>taskId</th>\n",
       "      <th>1</th>\n",
       "      <th>2</th>\n",
       "      <th>0</th>\n",
       "      <th>aspectId</th>\n",
       "    </tr>\n",
       "  </thead>\n",
       "  <tbody>\n",
       "    <tr>\n",
       "      <th>4457</th>\n",
       "      <td>4XZ8sEvsgUl5DMsGoE5ufp_RS</td>\n",
       "      <td>NaN</td>\n",
       "      <td>0.979604</td>\n",
       "      <td>NaN</td>\n",
       "      <td>[6095, 6096, 6097, 6098, 6099, 6100, 6101, 624...</td>\n",
       "    </tr>\n",
       "    <tr>\n",
       "      <th>4987</th>\n",
       "      <td>2KO9ICLsLJT6Eqglg3Y4zi_SR</td>\n",
       "      <td>0.956628</td>\n",
       "      <td>NaN</td>\n",
       "      <td>NaN</td>\n",
       "      <td>[1375, 1376, 1377, 124, 1380, 15321, 27937]</td>\n",
       "    </tr>\n",
       "    <tr>\n",
       "      <th>5538</th>\n",
       "      <td>8nblrizP2BF7H4WWocLGff_SR</td>\n",
       "      <td>NaN</td>\n",
       "      <td>0.983991</td>\n",
       "      <td>NaN</td>\n",
       "      <td>[1374, 71121, 71160]</td>\n",
       "    </tr>\n",
       "    <tr>\n",
       "      <th>4642</th>\n",
       "      <td>7rYCHqM6wT35W1eFnKv0Rh_RS</td>\n",
       "      <td>0.964774</td>\n",
       "      <td>NaN</td>\n",
       "      <td>NaN</td>\n",
       "      <td>[68053, 8783, 68218, 92129]</td>\n",
       "    </tr>\n",
       "    <tr>\n",
       "      <th>3361</th>\n",
       "      <td>5dykdJ0qry1aM9Jzj6vJf1_RI</td>\n",
       "      <td>0.956821</td>\n",
       "      <td>NaN</td>\n",
       "      <td>NaN</td>\n",
       "      <td>[1415, 1631, 1417, 1416, 1418, 1419, 1632, 160...</td>\n",
       "    </tr>\n",
       "  </tbody>\n",
       "</table>\n",
       "</div>"
      ],
      "text/plain": [
       "                         taskId         1         2   0  \\\n",
       "4457  4XZ8sEvsgUl5DMsGoE5ufp_RS       NaN  0.979604 NaN   \n",
       "4987  2KO9ICLsLJT6Eqglg3Y4zi_SR  0.956628       NaN NaN   \n",
       "5538  8nblrizP2BF7H4WWocLGff_SR       NaN  0.983991 NaN   \n",
       "4642  7rYCHqM6wT35W1eFnKv0Rh_RS  0.964774       NaN NaN   \n",
       "3361  5dykdJ0qry1aM9Jzj6vJf1_RI  0.956821       NaN NaN   \n",
       "\n",
       "                                               aspectId  \n",
       "4457  [6095, 6096, 6097, 6098, 6099, 6100, 6101, 624...  \n",
       "4987        [1375, 1376, 1377, 124, 1380, 15321, 27937]  \n",
       "5538                               [1374, 71121, 71160]  \n",
       "4642                        [68053, 8783, 68218, 92129]  \n",
       "3361  [1415, 1631, 1417, 1416, 1418, 1419, 1632, 160...  "
      ]
     },
     "execution_count": 18,
     "metadata": {},
     "output_type": "execute_result"
    }
   ],
   "source": [
    "df_task_topic_aspect = pd.merge(df_tasks_topics, \n",
    "                                df_task_to_aspects, \n",
    "                                on=\"taskId\", \n",
    "                                how=\"inner\").drop(columns=[\"index\"])\n",
    "df_task_topic_aspect.sample(5)"
   ]
  },
  {
   "cell_type": "code",
   "execution_count": 19,
   "id": "0f794806-6415-48d0-adcf-db0a6bf6c00f",
   "metadata": {},
   "outputs": [
    {
     "data": {
      "text/plain": [
       "0            NaN\n",
       "1       0.379606\n",
       "2            NaN\n",
       "3            NaN\n",
       "4            NaN\n",
       "          ...   \n",
       "5697    0.507759\n",
       "5698         NaN\n",
       "5699    0.968495\n",
       "5700         NaN\n",
       "5701    0.950674\n",
       "Name: 0, Length: 5702, dtype: float64"
      ]
     },
     "execution_count": 19,
     "metadata": {},
     "output_type": "execute_result"
    }
   ],
   "source": [
    "df_task_topic_aspect[0]"
   ]
  },
  {
   "cell_type": "code",
   "execution_count": 20,
   "id": "4907981a-0bfc-4dda-a6c3-df76b86618ab",
   "metadata": {},
   "outputs": [],
   "source": [
    "df_topic_0 = df_task_topic_aspect[[0, \"aspectId\"]].dropna(subset=[0]).reset_index(drop=True)\n",
    "df_topic_1 = df_task_topic_aspect[[1, \"aspectId\"]].dropna(subset=[1]).reset_index(drop=True)\n",
    "df_topic_2 = df_task_topic_aspect[[2, \"aspectId\"]].dropna(subset=[2]).reset_index(drop=True)"
   ]
  },
  {
   "cell_type": "code",
   "execution_count": 21,
   "id": "f03984e3-6b17-4ed5-b3b9-df21e4420f84",
   "metadata": {},
   "outputs": [],
   "source": [
    "from collections import Counter\n",
    "import itertools\n",
    "aspects_0 = df_topic_0[\"aspectId\"].to_list()\n",
    "aspects_0 = list(itertools.chain.from_iterable(aspects_0))\n",
    "occurrences_0 = Counter(aspects_0)\n",
    "\n",
    "aspects_1 = df_topic_1[\"aspectId\"].to_list()\n",
    "aspects_1 = list(itertools.chain.from_iterable(aspects_1))\n",
    "occurrences_1 = Counter(aspects_1)\n",
    "\n",
    "aspects_2 = df_topic_2[\"aspectId\"].to_list()\n",
    "aspects_2 = list(itertools.chain.from_iterable(aspects_2))\n",
    "occurrences_2 = Counter(aspects_2)"
   ]
  },
  {
   "cell_type": "code",
   "execution_count": 41,
   "id": "574c7fc2-ee31-4619-874f-e093be20b0df",
   "metadata": {},
   "outputs": [
    {
     "name": "stdout",
     "output_type": "stream",
     "text": [
      "68\n",
      "117\n",
      "116\n"
     ]
    }
   ],
   "source": [
    "# define threshold t as a function of the values of the occurrences.\n",
    "# defining t as a fixed value risks of having an empty dict result. \n",
    "from statistics import median \n",
    "t = median(occurrences_0.values())\n",
    "retained_occ = dict(filter(lambda x: x[1] > t, occurrences_0.items()))\n",
    "retained_aspects_0 = list(retained_occ.keys())\n",
    "print(len(retained_aspects_0))\n",
    "\n",
    "t = median(occurrences_1.values())\n",
    "retained_occ = dict(filter(lambda x: x[1] > t, occurrences_1.items()))\n",
    "retained_aspects_1 = list(retained_occ.keys())\n",
    "print(len(retained_aspects_1))\n",
    "\n",
    "t = median(occurrences_2.values())\n",
    "retained_occ = dict(filter(lambda x: x[1] > t, occurrences_2.items()))\n",
    "retained_aspects_2 = list(retained_occ.keys())\n",
    "print(len(retained_aspects_2))"
   ]
  },
  {
   "cell_type": "code",
   "execution_count": 44,
   "id": "ddac4f33-be3e-4074-8937-e3f262c7f5e2",
   "metadata": {},
   "outputs": [
    {
     "name": "stdout",
     "output_type": "stream",
     "text": [
      "49\n",
      "99\n",
      "43\n"
     ]
    }
   ],
   "source": [
    "# Verify the number of common elements between the aspects of each topic \n",
    "# to assess their disparity. \n",
    "print(len(set(retained_aspects_0).intersection(set(retained_aspects_1))))\n",
    "print(len(set(retained_aspects_2).intersection(set(retained_aspects_1))))\n",
    "print(len(set(retained_aspects_0).intersection(set(retained_aspects_2))))"
   ]
  },
  {
   "cell_type": "markdown",
   "id": "c719bfe2-2dc0-4604-81b4-da55b0911b6d",
   "metadata": {},
   "source": [
    "subtopics"
   ]
  },
  {
   "cell_type": "code",
   "execution_count": 55,
   "id": "1366a003-9a0c-4bc0-80b5-8a0f92878ea1",
   "metadata": {},
   "outputs": [
    {
     "name": "stdout",
     "output_type": "stream",
     "text": [
      "Coherence score: 0.3734310209940581\n"
     ]
    }
   ],
   "source": [
    "tasks_topic0 = df_tasks_topics[[\"taskId\", 0]].dropna(subset=[0]).reset_index(drop=True)\n",
    "tasks_topic0 = pd.merge(tasks_topic0, _df, on=\"taskId\", how=\"inner\").drop(columns=[0,\"index\"])\n",
    "\n",
    "data = tasks_topic0[\"description\"].str.split().to_list() \n",
    "id2word, corpus = get_corpus(data)\n",
    "\n",
    "num_topics = 3 \n",
    "passes = 20 \n",
    "decay = 0.9\n",
    "iterations = 100\n",
    "lda_model_en, coherence_lda_en = get_model(corpus=corpus,\n",
    "                                         id2word=id2word,\n",
    "                                         num_topics=num_topics,\n",
    "                                         passes=passes,\n",
    "                                         decay=decay,\n",
    "                                         iterations=iterations)"
   ]
  },
  {
   "cell_type": "code",
   "execution_count": 56,
   "id": "158ab81c-1b2f-41fc-a52b-84b462c0a1b0",
   "metadata": {},
   "outputs": [
    {
     "data": {
      "text/html": [
       "\n",
       "<link rel=\"stylesheet\" type=\"text/css\" href=\"https://cdn.jsdelivr.net/gh/bmabey/pyLDAvis@3.4.0/pyLDAvis/js/ldavis.v1.0.0.css\">\n",
       "\n",
       "\n",
       "<div id=\"ldavis_el52681406078533471049499660281\" style=\"background-color:white;\"></div>\n",
       "<script type=\"text/javascript\">\n",
       "\n",
       "var ldavis_el52681406078533471049499660281_data = {\"mdsDat\": {\"x\": [0.23390482763178505, -0.13368023826871048, -0.10022458936307452], \"y\": [-0.00744237082879713, -0.07432870404335874, 0.08177107487215589], \"topics\": [1, 2, 3], \"cluster\": [1, 1, 1], \"Freq\": [48.08071426610847, 33.99627285549544, 17.92301287839609]}, \"tinfo\": {\"Term\": [\"gwen\", \"dora\", \"phone\", \"chef\", \"robert\", \"want\", \"pizza\", \"shruti\", \"gun\", \"london\", \"forgot\", \"woman\", \"kid\", \"look\", \"dylan\", \"susan\", \"aunt\", \"abbi\", \"lucki\", \"gordi\", \"favourit\", \"need\", \"day\", \"villag\", \"alejandro\", \"hear\", \"maria\", \"name\", \"sorri\", \"score\", \"scott\", \"abbi\", \"associ\", \"parent\", \"gordi\", \"gun\", \"bodi\", \"dylan\", \"grab\", \"teddi\", \"harlow\", \"assumpt\", \"health\", \"standup\", \"second\", \"alreadi\", \"bullet\", \"activ\", \"vern\", \"backpack\", \"turkey\", \"without\", \"main\", \"scream\", \"desk\", \"guy\", \"healthi\", \"trash\", \"drug\", \"alcohol\", \"thanksgiv\", \"alley\", \"drunk\", \"jose\", \"organ\", \"time\", \"fit\", \"sport\", \"much\", \"big\", \"date\", \"great\", \"find\", \"think\", \"man\", \"food\", \"realli\", \"lot\", \"friend\", \"walk\", \"laugh\", \"dad\", \"put\", \"take\", \"come\", \"live\", \"ask\", \"two\", \"societi\", \"robert\", \"former\", \"alejandro\", \"develop\", \"uniti\", \"diver\", \"shruti\", \"task\", \"russian\", \"maria\", \"ident\", \"independ\", \"philosoph\", \"alon\", \"comparison\", \"sandwich\", \"minist\", \"integr\", \"similar\", \"ocean\", \"azizah\", \"hibri\", \"concili\", \"presid\", \"gorbachev\", \"self\", \"drop\", \"indian\", \"unlik\", \"daniel\", \"map\", \"ambedkar\", \"susan\", \"earli\", \"ankl\", \"der\", \"aunt\", \"student\", \"rosali\", \"park\", \"calf\", \"bear\", \"hop\", \"cow\", \"hip\", \"bad\", \"everi\", \"beauti\", \"yuck\", \"bell\", \"shoe\", \"villag\", \"barbecu\", \"loud\", \"bore\", \"lose\", \"sing\", \"die\", \"dora\", \"middl\", \"littl\", \"need\", \"name\", \"place\", \"help\", \"london\", \"look\", \"play\", \"differ\", \"three\", \"know\", \"chef\", \"woman\", \"happen\", \"peopl\", \"come\", \"ask\", \"want\", \"gwen\", \"day\", \"phone\", \"take\", \"tell\", \"nice\", \"nisha\", \"email\", \"durham\", \"grandpa\", \"grandpar\", \"plane\", \"cousin\", \"feedback\", \"jess\", \"shoulder\", \"tip\", \"bedroom\", \"voci\", \"detector\", \"trainer\", \"verb\", \"progress\", \"list\", \"pro\", \"con\", \"wear\", \"pictur\", \"blog\", \"congratul\", \"photo\", \"choos\", \"listen\", \"said\", \"sextet\", \"birthday\", \"gwen\", \"score\", \"pizza\", \"dave\", \"everyth\", \"phone\", \"favourit\", \"kid\", \"lucki\", \"class\", \"takeaway\", \"bye\", \"homework\", \"tomorrow\", \"egg\", \"compani\", \"forgot\", \"high\", \"pocket\", \"rush\", \"tuna\", \"chef\", \"form\", \"competit\", \"cook\", \"sorri\", \"dora\", \"entri\", \"want\", \"teen\", \"forget\", \"woman\", \"hear\", \"london\", \"day\", \"game\", \"look\", \"year\", \"number\", \"answer\", \"dad\", \"one\", \"need\", \"come\", \"mum\", \"three\", \"realli\", \"ask\", \"take\", \"name\"], \"Freq\": [519.0, 669.0, 298.0, 278.0, 208.0, 309.0, 149.0, 187.0, 295.0, 200.0, 184.0, 186.0, 125.0, 388.0, 236.0, 161.0, 166.0, 215.0, 117.0, 219.0, 106.0, 273.0, 311.0, 167.0, 116.0, 192.0, 118.0, 183.0, 106.0, 82.0, 140.06341352677927, 209.9115282277734, 24.259033887839628, 89.25909180778092, 213.18708343618945, 286.80924802797387, 116.20219783720377, 229.36527228510764, 72.5760369231862, 179.9586191701524, 71.55548568713017, 21.26901997960074, 71.53837405254677, 63.77492859730302, 54.097067445419626, 70.51942475674963, 111.03109827383403, 93.63351128627191, 108.0291350441755, 107.05430585300812, 92.58305716538362, 80.03789285287533, 78.10535217307945, 70.37747100517373, 70.36153048600687, 95.42365525373849, 154.2025751443753, 73.24116373226066, 60.69531374077792, 136.80677820369337, 123.14891468251078, 110.71780973002522, 108.76344261420222, 112.5522012291876, 103.89230636430614, 168.01656716124256, 125.7065215289983, 151.25075749918386, 157.66570299401192, 159.9408586466739, 77.92838631811838, 168.80964894849438, 206.2967985772745, 280.137433839818, 192.53011234168812, 188.16418193297807, 204.37211589988482, 157.54082446928626, 208.89665053013422, 181.12727099673216, 142.0033389084503, 203.14426509919312, 156.07509767606322, 172.2299248962062, 182.73716027734258, 145.8491727131135, 160.87178011165497, 129.89344724969055, 91.06490009460668, 202.56146941580133, 54.42795034273528, 112.32326169273892, 52.46967768429044, 48.75175443198525, 35.85219437800029, 181.01682329091693, 28.456598724448355, 26.598405088738595, 113.55442331024402, 25.61913790080943, 26.509069351304404, 26.504206126908013, 27.41389509689604, 27.407751173353358, 31.962803315371524, 27.4052841649476, 26.487872386037203, 32.87059161627477, 26.47716556955622, 26.474209449918714, 24.619476061651117, 22.793074656005107, 27.352659657815764, 28.25337086243154, 21.869621924337658, 27.333322602364035, 25.509763619446396, 26.41695340265816, 39.0389063638051, 35.42704302070043, 26.415241513347034, 148.8981243513239, 50.35188182665528, 28.19222123233929, 37.050664916292064, 149.6752963558782, 31.71537953407176, 113.29482537876802, 48.869600205691185, 86.20305722292275, 41.21624078778231, 83.20483111499183, 106.3754288494928, 83.82397728719688, 47.69113817818244, 32.52573172907113, 66.24021827376475, 53.60394808296562, 56.557012920498295, 42.18078958904026, 134.49995108072872, 56.79093680275682, 55.260717990631825, 80.80423886596778, 54.54524693891785, 56.45120185736305, 122.68153922615657, 393.28723646594324, 56.613436620574994, 62.59857921181496, 165.5082388107673, 120.88389241239818, 116.39817607792997, 150.25186410822457, 116.7850630622442, 174.28744218472715, 90.91780632733199, 77.52096388071226, 125.71071663606858, 122.10428500190598, 131.5130860828125, 104.4489570020105, 79.20216789771895, 109.3951586898231, 138.35170203075975, 130.77299214198436, 123.0876903282827, 136.83612652244145, 111.80754109380199, 109.49341856201204, 95.69341116604949, 92.82014010648248, 16.709641938339637, 11.893290981434184, 11.886048225964995, 6.106993808591255, 6.106586658065193, 6.105697712749954, 6.105452291460633, 6.10521591796078, 6.100282045266474, 6.0970327578737535, 6.096582630347717, 6.092175791389926, 6.072096484612914, 5.135001661260315, 5.134635791273699, 5.134266528366034, 5.132191757143637, 5.131363318920467, 5.127481251751824, 5.101299776465442, 5.098107603243739, 5.080094019899656, 5.063411592581063, 4.17632757728295, 4.17511234606002, 7.482473823711244, 4.128193902799667, 3.202193648538865, 3.19484260233948, 3.9325535511316176, 40.47473879414239, 379.97625041006137, 62.57772392642411, 109.80029958195739, 29.520075670888804, 29.958271424564206, 186.72230750095235, 72.09001785799396, 83.16852033764437, 77.59897257478534, 19.218398299387836, 27.851258404398244, 29.592016906896784, 26.8923895102039, 26.84774545502108, 43.7434517908505, 26.767102507492183, 105.95897008539416, 58.040497274608576, 48.99530452211724, 25.526268302314943, 27.84406541177113, 144.85956089619776, 44.48434812702224, 40.55695605703873, 39.94624836352303, 63.48711724585969, 271.89398128345874, 44.90988376128444, 134.15051585168646, 39.08948603542321, 58.33897027747596, 80.45623734543302, 80.97470282532176, 81.67810512193782, 103.76971265896344, 57.663512078632024, 115.6034793644609, 68.73868044786346, 52.730616545588376, 53.24726794368877, 84.1877266778539, 70.39885481346464, 70.69971190885686, 74.78170808137598, 51.06073842578269, 63.01116280478667, 65.54266191563654, 64.04809828845889, 54.854580599322766, 53.64376469765321], \"Total\": [519.0, 669.0, 298.0, 278.0, 208.0, 309.0, 149.0, 187.0, 295.0, 200.0, 184.0, 186.0, 125.0, 388.0, 236.0, 161.0, 166.0, 215.0, 117.0, 219.0, 106.0, 273.0, 311.0, 167.0, 116.0, 192.0, 118.0, 183.0, 106.0, 82.0, 143.54643051024817, 215.3190781352962, 24.916127561831672, 91.6984262713673, 219.28403155367647, 295.05036323972166, 119.60793483729698, 236.2154465150627, 74.74911209184638, 185.38368137039333, 73.75123287757437, 21.9227065330696, 73.74943862046472, 65.77518213337841, 55.80854261437308, 72.7531669693656, 114.61047951265778, 96.66728898298844, 111.61708460332977, 110.61909789837097, 95.66997377762216, 82.71186478062157, 80.72010553986634, 72.74732340839071, 72.74522702932101, 98.65651722167794, 159.4517339988017, 75.73592907378946, 62.77826389358612, 141.51470265083012, 127.55004620752048, 114.60055351725367, 112.60012813186248, 116.58603320984847, 107.62117782494633, 176.2574529815646, 131.49118971262678, 159.2990286039205, 167.21764008385466, 170.24514895784804, 80.71297323427486, 188.67285110839413, 269.7447226859084, 409.41762241779355, 262.21020789778595, 255.76232903850462, 292.0429250589847, 208.45515373682002, 328.9065857093071, 267.5244939352425, 182.82798610814575, 356.962124155937, 229.65293387970863, 322.77791666157844, 395.8705703894783, 234.38574001702915, 355.6928705420982, 198.50576506251915, 93.36230044111036, 208.59167593979507, 56.221711788500066, 116.21664496067298, 54.319915888331224, 50.509816221282584, 37.164582595872474, 187.66273605684444, 29.531106564233497, 27.635120599453227, 118.12968736983744, 26.685122366843416, 27.63929088782494, 27.638961153725543, 28.593867074275444, 28.59325158317629, 33.348310094229205, 28.59428960572021, 27.639700115258, 34.3133812140862, 27.64045701412319, 27.639747694165123, 25.734150178634266, 23.82794343277439, 28.595495995223978, 29.549292981012886, 22.875420621651188, 28.596393481177717, 26.689265599586538, 27.64427707934975, 40.97706723880763, 37.163931608884795, 27.642629966785602, 161.0610445691168, 53.38093946278413, 29.54105068710013, 39.073805465723574, 166.85056117737355, 33.356546885413216, 126.81516968976261, 52.43538139516373, 95.34126376621427, 43.884928527873, 92.4847673235489, 120.15603666923795, 93.4334032459274, 51.4780248581811, 34.32585522556556, 74.394870635324, 59.108170765069964, 62.9260210016641, 45.7586132300484, 167.04703740651837, 63.893316420505954, 61.97850333181996, 95.46664999571608, 61.20035402484756, 63.899093395067595, 162.8580837549392, 669.1703645276789, 64.86301299420843, 73.63545143810614, 273.95796721576954, 183.90157740361383, 176.26254338065544, 256.45362686372755, 200.10449800747972, 388.74480419770106, 136.8593903395742, 108.38697715772128, 244.21452811361704, 240.24556707526057, 278.0554241621521, 186.7728211767636, 113.05901538329827, 227.54703210175478, 395.8705703894783, 355.6928705420982, 309.76020834154224, 519.2149156585338, 311.34322664954925, 298.6420991494308, 322.77791666157844, 206.20224756384331, 17.37253047436845, 12.54827356241584, 12.5483744526327, 6.759272959666455, 6.759267368585866, 6.7592695400654, 6.759263493336899, 6.75925820418519, 6.759265648496342, 6.759183283458885, 6.759176067230299, 6.759738756198501, 6.760428073835367, 5.794470714557914, 5.794467534030501, 5.794496263569266, 5.794651896682191, 5.794659615698782, 5.794746831452719, 5.795712872376698, 5.795794910249886, 5.7939830597773225, 5.796060846927484, 4.829651066514333, 4.8296720439248695, 8.706802084453017, 4.828970897719959, 3.8649776647924288, 3.8641629502175805, 4.825995053645645, 50.06455546724553, 519.2149156585338, 82.73174553636754, 149.05477435454114, 39.44109058287209, 40.40664624993876, 298.6420991494308, 106.6569555263497, 125.84536103254604, 117.60321746368953, 25.266666139673383, 38.469136703214424, 41.346839499159735, 37.50293219805337, 37.50237798449487, 65.33824322810264, 37.499238120885536, 184.01437707111245, 91.85797112040268, 75.88878868645574, 35.580345301578774, 39.424745533633526, 278.0554241621521, 69.33002031608761, 62.43950351401866, 61.481221735542505, 106.55500829392656, 669.1703645276789, 72.96959636273904, 309.76020834154224, 61.4666653252052, 107.77450254965666, 186.7728211767636, 192.1703560264388, 200.10449800747972, 311.34322664954925, 122.67839182410182, 388.74480419770106, 181.16097616992684, 113.62401442043047, 122.45436355612382, 356.962124155937, 260.3353800593925, 273.95796721576954, 395.8705703894783, 113.06020386734605, 244.21452811361704, 292.0429250589847, 355.6928705420982, 322.77791666157844, 183.90157740361383], \"Category\": [\"Default\", \"Default\", \"Default\", \"Default\", \"Default\", \"Default\", \"Default\", \"Default\", \"Default\", \"Default\", \"Default\", \"Default\", \"Default\", \"Default\", \"Default\", \"Default\", \"Default\", \"Default\", \"Default\", \"Default\", \"Default\", \"Default\", \"Default\", \"Default\", \"Default\", \"Default\", \"Default\", \"Default\", \"Default\", \"Default\", \"Topic1\", \"Topic1\", \"Topic1\", \"Topic1\", \"Topic1\", \"Topic1\", \"Topic1\", \"Topic1\", \"Topic1\", \"Topic1\", \"Topic1\", \"Topic1\", \"Topic1\", \"Topic1\", \"Topic1\", \"Topic1\", \"Topic1\", \"Topic1\", \"Topic1\", \"Topic1\", \"Topic1\", \"Topic1\", \"Topic1\", \"Topic1\", \"Topic1\", \"Topic1\", \"Topic1\", \"Topic1\", \"Topic1\", \"Topic1\", \"Topic1\", \"Topic1\", \"Topic1\", \"Topic1\", \"Topic1\", \"Topic1\", \"Topic1\", \"Topic1\", \"Topic1\", \"Topic1\", \"Topic1\", \"Topic1\", \"Topic1\", \"Topic1\", \"Topic1\", \"Topic1\", \"Topic1\", \"Topic1\", \"Topic1\", \"Topic1\", \"Topic1\", \"Topic1\", \"Topic1\", \"Topic1\", \"Topic1\", \"Topic1\", \"Topic1\", \"Topic1\", \"Topic2\", \"Topic2\", \"Topic2\", \"Topic2\", \"Topic2\", \"Topic2\", \"Topic2\", \"Topic2\", \"Topic2\", \"Topic2\", \"Topic2\", \"Topic2\", \"Topic2\", \"Topic2\", \"Topic2\", \"Topic2\", \"Topic2\", \"Topic2\", \"Topic2\", \"Topic2\", \"Topic2\", \"Topic2\", \"Topic2\", \"Topic2\", \"Topic2\", \"Topic2\", \"Topic2\", \"Topic2\", \"Topic2\", \"Topic2\", \"Topic2\", \"Topic2\", \"Topic2\", \"Topic2\", \"Topic2\", \"Topic2\", \"Topic2\", \"Topic2\", \"Topic2\", \"Topic2\", \"Topic2\", \"Topic2\", \"Topic2\", \"Topic2\", \"Topic2\", \"Topic2\", \"Topic2\", \"Topic2\", \"Topic2\", \"Topic2\", \"Topic2\", \"Topic2\", \"Topic2\", \"Topic2\", \"Topic2\", \"Topic2\", \"Topic2\", \"Topic2\", \"Topic2\", \"Topic2\", \"Topic2\", \"Topic2\", \"Topic2\", \"Topic2\", \"Topic2\", \"Topic2\", \"Topic2\", \"Topic2\", \"Topic2\", \"Topic2\", \"Topic2\", \"Topic2\", \"Topic2\", \"Topic2\", \"Topic2\", \"Topic2\", \"Topic2\", \"Topic2\", \"Topic2\", \"Topic2\", \"Topic2\", \"Topic2\", \"Topic2\", \"Topic2\", \"Topic3\", \"Topic3\", \"Topic3\", \"Topic3\", \"Topic3\", \"Topic3\", \"Topic3\", \"Topic3\", \"Topic3\", \"Topic3\", \"Topic3\", \"Topic3\", \"Topic3\", \"Topic3\", \"Topic3\", \"Topic3\", \"Topic3\", \"Topic3\", \"Topic3\", \"Topic3\", \"Topic3\", \"Topic3\", \"Topic3\", \"Topic3\", \"Topic3\", \"Topic3\", \"Topic3\", \"Topic3\", \"Topic3\", \"Topic3\", \"Topic3\", \"Topic3\", \"Topic3\", \"Topic3\", \"Topic3\", \"Topic3\", \"Topic3\", \"Topic3\", \"Topic3\", \"Topic3\", \"Topic3\", \"Topic3\", \"Topic3\", \"Topic3\", \"Topic3\", \"Topic3\", \"Topic3\", \"Topic3\", \"Topic3\", \"Topic3\", \"Topic3\", \"Topic3\", \"Topic3\", \"Topic3\", \"Topic3\", \"Topic3\", \"Topic3\", \"Topic3\", \"Topic3\", \"Topic3\", \"Topic3\", \"Topic3\", \"Topic3\", \"Topic3\", \"Topic3\", \"Topic3\", \"Topic3\", \"Topic3\", \"Topic3\", \"Topic3\", \"Topic3\", \"Topic3\", \"Topic3\", \"Topic3\", \"Topic3\", \"Topic3\", \"Topic3\", \"Topic3\", \"Topic3\", \"Topic3\", \"Topic3\"], \"logprob\": [30.0, 29.0, 28.0, 27.0, 26.0, 25.0, 24.0, 23.0, 22.0, 21.0, 20.0, 19.0, 18.0, 17.0, 16.0, 15.0, 14.0, 13.0, 12.0, 11.0, 10.0, 9.0, 8.0, 7.0, 6.0, 5.0, 4.0, 3.0, 2.0, 1.0, -5.2261, -4.8215, -6.9794, -5.6767, -4.8061, -4.5094, -5.4129, -4.7329, -5.8836, -4.9755, -5.8977, -7.111, -5.898, -6.0129, -6.1774, -5.9123, -5.4584, -5.6288, -5.4858, -5.4949, -5.6401, -5.7857, -5.8102, -5.9143, -5.9146, -5.6099, -5.13, -5.8745, -6.0624, -5.2497, -5.3548, -5.4612, -5.479, -5.4448, -5.5249, -5.0442, -5.3343, -5.1493, -5.1077, -5.0934, -5.8124, -5.0394, -4.8389, -4.5329, -4.908, -4.9309, -4.8483, -5.1085, -4.8264, -4.969, -5.2124, -4.8543, -5.1179, -5.0194, -4.9602, -5.1856, -5.0876, -5.3015, -5.31, -4.5105, -5.8247, -5.1002, -5.8614, -5.9348, -6.2422, -4.623, -6.4732, -6.5407, -5.0893, -6.5783, -6.5441, -6.5443, -6.5105, -6.5108, -6.357, -6.5109, -6.5449, -6.329, -6.5453, -6.5454, -6.6181, -6.6951, -6.5128, -6.4804, -6.7365, -6.5135, -6.5825, -6.5476, -6.157, -6.2541, -6.5476, -4.8183, -5.9026, -6.4825, -6.2093, -4.8131, -6.3648, -5.0916, -5.9324, -5.3649, -6.1028, -5.4003, -5.1546, -5.3929, -5.9568, -6.3396, -5.6283, -5.84, -5.7863, -6.0796, -4.92, -5.7822, -5.8095, -5.4296, -5.8226, -5.7882, -5.012, -3.8471, -5.7853, -5.6848, -4.7126, -5.0268, -5.0646, -4.8093, -5.0613, -4.6609, -5.3116, -5.471, -4.9876, -5.0167, -4.9425, -5.1729, -5.4496, -5.1266, -4.8918, -4.9481, -5.0087, -4.9028, -5.1048, -5.1257, -5.2604, -5.2909, -6.3654, -6.7055, -6.7061, -7.372, -7.3721, -7.3722, -7.3722, -7.3723, -7.3731, -7.3736, -7.3737, -7.3744, -7.3777, -7.5453, -7.5454, -7.5455, -7.5459, -7.5461, -7.5468, -7.5519, -7.5526, -7.5561, -7.5594, -7.752, -7.7523, -7.1689, -7.7636, -8.0176, -8.0199, -7.8121, -5.4807, -3.2413, -5.045, -4.4828, -5.7964, -5.7816, -3.9518, -4.9035, -4.7606, -4.8299, -6.2256, -5.8545, -5.7939, -5.8896, -5.8912, -5.4031, -5.8943, -4.5184, -5.1203, -5.2897, -5.9417, -5.8548, -4.2057, -5.3863, -5.4787, -5.4939, -5.0306, -3.576, -5.3768, -4.2825, -5.5156, -5.1152, -4.7937, -4.7873, -4.7786, -4.5393, -5.1268, -4.4313, -4.9511, -5.2162, -5.2065, -4.7484, -4.9272, -4.923, -4.8669, -5.2484, -5.0381, -4.9987, -5.0218, -5.1767, -5.1991], \"loglift\": [30.0, 29.0, 28.0, 27.0, 26.0, 25.0, 24.0, 23.0, 22.0, 21.0, 20.0, 19.0, 18.0, 17.0, 16.0, 15.0, 14.0, 13.0, 12.0, 11.0, 10.0, 9.0, 8.0, 7.0, 6.0, 5.0, 4.0, 3.0, 2.0, 1.0, 0.7077, 0.7069, 0.7056, 0.7053, 0.7041, 0.704, 0.7034, 0.7029, 0.7028, 0.7026, 0.7021, 0.702, 0.7018, 0.7014, 0.7011, 0.7011, 0.7006, 0.7004, 0.6996, 0.6995, 0.6995, 0.6994, 0.6994, 0.6992, 0.699, 0.699, 0.6988, 0.6988, 0.6985, 0.6985, 0.6972, 0.6978, 0.6976, 0.6971, 0.697, 0.6844, 0.6873, 0.6804, 0.6735, 0.6699, 0.6972, 0.621, 0.4641, 0.3528, 0.4234, 0.4254, 0.3753, 0.4522, 0.2784, 0.3423, 0.4796, 0.1686, 0.3461, 0.1042, -0.0407, 0.2579, -0.0612, 0.3082, 1.054, 1.0496, 1.0465, 1.0448, 1.0443, 1.0435, 1.043, 1.0429, 1.0419, 1.0407, 1.0394, 1.0382, 1.0372, 1.037, 1.0368, 1.0366, 1.0365, 1.0364, 1.0364, 1.036, 1.0359, 1.0358, 1.0346, 1.0345, 1.0345, 1.0341, 1.034, 1.0337, 1.0337, 1.0335, 1.0305, 1.0311, 1.0335, 1.0004, 1.0205, 1.0322, 1.0258, 0.9703, 1.0285, 0.9662, 1.0085, 0.9782, 1.0162, 0.9732, 0.9571, 0.9704, 1.0025, 1.0251, 0.9628, 0.9812, 0.9722, 0.9975, 0.8622, 0.9611, 0.9642, 0.9122, 0.9638, 0.955, 0.7956, 0.5474, 0.9429, 0.9165, 0.575, 0.6593, 0.664, 0.5443, 0.5404, 0.2767, 0.6699, 0.7438, 0.4149, 0.4021, 0.3302, 0.4977, 0.723, 0.3465, 0.0276, 0.0783, 0.156, -0.2546, 0.0548, 0.0755, -0.1369, 0.2807, 1.6802, 1.6655, 1.6649, 1.6176, 1.6175, 1.6174, 1.6174, 1.6173, 1.6165, 1.616, 1.6159, 1.6151, 1.6117, 1.5983, 1.5982, 1.5981, 1.5977, 1.5975, 1.5967, 1.5915, 1.5908, 1.5876, 1.5839, 1.5737, 1.5734, 1.5675, 1.5623, 1.531, 1.5289, 1.5144, 1.5064, 1.4069, 1.4399, 1.4134, 1.4293, 1.4199, 1.2495, 1.3274, 1.3049, 1.3033, 1.4455, 1.3961, 1.3846, 1.3865, 1.3849, 1.3178, 1.3819, 1.1671, 1.26, 1.2815, 1.387, 1.3713, 1.067, 1.2753, 1.2876, 1.2879, 1.2013, 0.8185, 1.2337, 0.8822, 1.2664, 1.1053, 0.8769, 0.8548, 0.823, 0.6204, 0.9641, 0.5063, 0.75, 0.9514, 0.8863, 0.2745, 0.4113, 0.3646, 0.0526, 0.9242, 0.3643, 0.2249, 0.0047, -0.0532, 0.487]}, \"token.table\": {\"Topic\": [1, 2, 3, 1, 2, 3, 1, 2, 3, 1, 2, 3, 1, 2, 3, 1, 2, 1, 2, 3, 1, 2, 1, 2, 3, 1, 2, 3, 1, 2, 3, 1, 1, 1, 2, 3, 1, 2, 1, 2, 3, 1, 2, 3, 1, 2, 3, 1, 2, 3, 1, 2, 3, 3, 1, 2, 3, 1, 2, 3, 1, 2, 3, 3, 1, 2, 3, 1, 2, 3, 1, 2, 3, 2, 3, 1, 2, 3, 1, 2, 3, 3, 1, 3, 1, 2, 3, 2, 3, 1, 2, 1, 2, 3, 3, 1, 2, 3, 1, 2, 3, 3, 1, 2, 3, 1, 2, 3, 1, 2, 3, 1, 2, 3, 2, 3, 1, 2, 3, 1, 2, 3, 1, 2, 3, 3, 1, 2, 3, 1, 2, 3, 1, 2, 3, 1, 2, 1, 2, 3, 1, 2, 1, 2, 3, 1, 2, 3, 3, 1, 2, 3, 1, 2, 3, 1, 2, 3, 3, 1, 2, 3, 1, 2, 3, 1, 2, 3, 1, 2, 3, 3, 1, 2, 3, 1, 2, 3, 1, 2, 3, 1, 2, 3, 1, 2, 3, 1, 2, 3, 1, 2, 3, 1, 2, 3, 1, 2, 3, 1, 2, 1, 2, 3, 1, 2, 3, 3, 3, 1, 2, 3, 1, 2, 3, 1, 2, 3, 1, 2, 3, 1, 2, 3, 1, 2, 3, 1, 2, 3, 1, 2, 3, 1, 2, 3, 1, 2, 3, 1, 2, 1, 2, 3, 1, 2, 3, 2, 3, 1, 2, 3, 1, 2, 1, 2, 1, 2, 1, 2, 3, 1, 2, 3, 1, 2, 3, 1, 2, 3, 1, 2, 3, 3, 3, 1, 2, 3, 1, 2, 3, 1, 2, 3, 1, 2, 3, 1, 2, 3, 1, 2, 3, 1, 2, 3, 1, 2, 3, 1, 2, 3, 1, 2, 3, 1, 2, 3, 1, 2, 3, 1, 2, 3, 1, 2, 1, 2, 3, 1, 2, 3, 1, 2, 3, 1, 2, 3, 3, 3, 1, 2, 3, 1, 2, 1, 2, 3, 1, 2, 3, 1, 2, 3, 1, 2, 3, 1, 2, 3, 1, 2, 1, 2, 3, 1, 3, 3, 1, 2, 3, 1, 2, 3, 3, 1, 2, 3, 1, 2, 3, 1, 2, 3, 3, 1, 2, 3, 1, 2, 3, 1, 2, 3, 1, 2, 3, 2, 3, 1, 2, 3, 1, 2, 3, 1, 2, 3, 1, 2, 3, 1, 2, 3, 1, 2, 3, 1, 2, 2, 3, 1, 2, 3, 3, 1, 2, 3, 1, 2, 3, 1, 2, 3, 1, 2, 3, 1, 2, 3, 1, 2, 3, 1, 2, 3, 1, 2, 3, 1, 2, 3, 1, 2, 3, 1, 2, 3, 2, 3, 1, 2, 3, 1, 2, 3, 1, 2, 3, 1, 2, 3, 1, 2, 3, 1, 2, 3, 1, 2, 3, 3, 2, 3, 3, 1, 2, 3, 1, 2, 3, 1, 2, 3, 1, 2, 3, 1, 2, 1, 2, 3, 1, 2, 3, 1, 2, 3, 3, 1, 2, 3, 1, 2, 3, 3, 1, 2, 3, 1, 2, 3, 1, 2, 3, 1, 2, 3], \"Freq\": [0.9752967633831595, 0.009288540603649137, 0.013932810905473707, 0.9724075329819394, 0.010344760989169569, 0.020689521978339138, 0.9680972890713018, 0.007066403569863516, 0.028265614279454065, 0.008604619418658954, 0.9637173748898028, 0.025813858255976863, 0.9685817091912075, 0.008725961344064932, 0.026177884032194794, 0.03497253440405243, 0.9442584289094157, 0.9759025339734859, 0.013745106112302619, 0.027490212224605237, 0.03617600789800263, 0.9405762053480683, 0.033851199491583286, 0.947833585764332, 0.033851199491583286, 0.15515984443699987, 0.4164816876993155, 0.4328143029032102, 0.4526376920477094, 0.3682952649580741, 0.17993051112455527, 0.9632315431216902, 0.9579109207306254, 0.011986774188154293, 0.899008064111572, 0.09589419350523434, 0.03617978033175406, 0.9406742886256056, 0.9672832452340558, 0.009040030329290242, 0.018080060658580484, 0.019425764736602475, 0.9324367073569187, 0.05827729420980742, 0.015651089284810696, 0.8921120892342096, 0.09390653570886418, 0.04557373264786619, 0.9342615192812569, 0.022786866323933095, 0.01344178693315964, 0.8871579375885363, 0.0940925085321175, 0.8875177628501923, 0.01589167698961221, 0.905825588407896, 0.09535006193767326, 0.9398211988972167, 0.01174776498621521, 0.04699105994486084, 0.019974211109379462, 0.17976789998441517, 0.7989684443751784, 0.8282171827553765, 0.969835322027716, 0.008360649327825138, 0.016721298655650276, 0.03142458649313263, 0.848463835314581, 0.12569834597253052, 0.9684978238638376, 0.008725205620394933, 0.017450411240789866, 0.2660420997891156, 0.7255693630612243, 0.010488637977907382, 0.9020228661000349, 0.08390910382325906, 0.007192810591724585, 0.47472549905382266, 0.5214787679000324, 0.8283338385593989, 0.237467023422567, 0.7519789075047956, 0.46227230233344946, 0.3485987853662078, 0.18945586161206945, 0.26667208458377745, 0.7200146283761991, 0.034973287213979555, 0.9442787547774479, 0.01601550210557783, 0.3363255442171344, 0.6566355863286909, 0.8626944323301503, 0.041967532901917994, 0.9652532567441139, 0.8282135854403417, 0.016265128957609776, 0.3415677081098053, 0.650605158304391, 0.8876713714361328, 0.008322511525182635, 0.8821862216693592, 0.0998701383021916, 0.5686877857980264, 0.19609923648207808, 0.2353190837784937, 0.024403893870006948, 0.951751860930271, 0.024403893870006948, 0.966387395661906, 0.012389581995665462, 0.024779163991330923, 0.22818841636971343, 0.7606280545657114, 0.30834137949003293, 0.3597316094050384, 0.3340364944475357, 0.025592592993718584, 0.9469259407675875, 0.025592592993718584, 0.9622624446795044, 0.013746606352564349, 0.013746606352564349, 0.8628920553330139, 0.018409454131993894, 0.9572916148636824, 0.018409454131993894, 0.09824504642997034, 0.755258794430397, 0.1473675696449555, 0.1199406085574544, 0.7196436513447264, 0.16607161184878302, 0.02690733838918618, 0.9686641820107025, 0.005977551027417844, 0.5872943884438031, 0.4064734698644134, 0.03496944468393207, 0.944175006466166, 0.9716738918330011, 0.015929080193983626, 0.015929080193983626, 0.9680273176275033, 0.017761969130779875, 0.017761969130779875, 0.8876694336510532, 0.9694539598425347, 0.012700270216277747, 0.016933693621703664, 0.018733278396068233, 0.9366639198034116, 0.037466556792136466, 0.015304972258113758, 0.3214044174203889, 0.6734187793570053, 0.9562991641106431, 0.013704337831730652, 0.3700171214567276, 0.6166952024278793, 0.02913255892471427, 0.961374444515571, 0.02913255892471427, 0.02474840385946447, 0.2474840385946447, 0.7424521157839341, 0.009375853595904949, 0.3187790222607682, 0.6750614589051562, 0.8876703938000651, 0.7636850053962577, 0.12975230674208263, 0.1075090541577256, 0.9582391054136195, 0.01521014453037491, 0.03042028906074982, 0.7350574289292497, 0.09774699852782577, 0.16421495752674728, 0.26908034195414976, 0.18557264962355158, 0.5381606839082995, 0.20650560355572042, 0.2173743195323373, 0.5760419467606939, 0.057695064587653444, 0.2884753229382672, 0.6346457104641878, 0.017786722747999754, 0.9604830283919866, 0.017786722747999754, 0.6354387813466209, 0.27059354803755625, 0.09425168527150836, 0.01630278951543179, 0.5135378697361014, 0.4727808959475219, 0.03384175725092838, 0.9475692030259947, 0.9713429586771426, 0.009120591161287724, 0.018241182322575447, 0.9766002291813554, 0.013378085331251443, 0.013378085331251443, 0.8876701679068636, 0.8876698827343917, 0.8957303555184423, 0.08480287389523714, 0.015900538855356965, 0.9727152912088404, 0.006778503771490177, 0.02033551131447053, 0.9629368913007351, 0.010136177803165633, 0.020272355606331265, 0.0038519694632873714, 0.2638599082351849, 0.7318741980246005, 0.07960444348013959, 0.6987501149923364, 0.22112345411149886, 0.9762548664036386, 0.013559095366717202, 0.013559095366717202, 0.9762786178011765, 0.013559425247238563, 0.013559425247238563, 0.9658095032140405, 0.006271490280610652, 0.02508596112244261, 0.18733378417141047, 0.3902787170237718, 0.4215010143856736, 0.21836306502990838, 0.5849010670443975, 0.19496702234813248, 0.03885887014175616, 0.9714717535439039, 0.15240920117481718, 0.21772743024973884, 0.6314095477242426, 0.010702810400343502, 0.8990360736288542, 0.09632529360309151, 0.26664581711077673, 0.7199437061990972, 0.010812591402231656, 0.8974450863852275, 0.08650073121785325, 0.03747406462121051, 0.9743256801514731, 0.03618037829040318, 0.9768702138408859, 0.03746824715984286, 0.9741744261559143, 0.03617984261153282, 0.9406759078998532, 0.8876812106402318, 0.9692413138082003, 0.008577356759364604, 0.025732070278093815, 0.007946260329305113, 0.3337429338308147, 0.6595396073323243, 0.3329926165711053, 0.5078137402709356, 0.15817149287127502, 0.7766863433916767, 0.1422101755505887, 0.08204433204841656, 0.8628504653319808, 0.7762011220215207, 0.08148249087660263, 0.8555661542043276, 0.06790207573050219, 0.6229047892990096, 0.3199853369686693, 0.055464125074569354, 0.009994777828158774, 0.5846945029472883, 0.40978589095450974, 0.2546657831332771, 0.44759440671909306, 0.29839627114606204, 0.09803864856016974, 0.898687611801556, 0.01633977476002829, 0.757956793908195, 0.11513267755567519, 0.12952426225013458, 0.016134626463085257, 0.887404455469689, 0.09680775877851154, 0.08503168719076534, 0.255095061572296, 0.6632471600879697, 0.966302007143401, 0.012388487271069244, 0.024776974542138487, 0.7360506730357146, 0.22501030937361224, 0.041951074628978555, 0.02690780971518443, 0.9417733400314551, 0.02690780971518443, 0.008465272551422449, 0.9650410708621592, 0.025395817654267346, 0.015417106820019125, 0.8787750887410901, 0.10791974774013388, 0.034972017622705784, 0.9442444758130561, 0.9448763893615991, 0.03588138187449111, 0.017940690937245554, 0.00884484518684668, 0.5395355563976474, 0.45108710452918066, 0.04893922133276461, 0.6579606423627242, 0.29363532799658765, 0.13870740970300444, 0.6059323687025983, 0.2591638444450872, 0.9785563493517491, 0.956306852915766, 0.2992325185254724, 0.23762582353493394, 0.4664506906426481, 0.03617885187242162, 0.940650148682962, 0.4378966853218038, 0.2919311235478692, 0.2688839295835638, 0.9663525534831403, 0.009291851475799426, 0.027875554427398277, 0.9705728180832491, 0.010905312562733136, 0.010905312562733136, 0.01907109233103114, 0.9344835242205259, 0.03814218466206228, 0.4350748901692071, 0.4790218487721573, 0.0834992213456054, 0.03618080992400855, 0.976881867948231, 0.00669697944695756, 0.36498537985918705, 0.6261675782905319, 0.11485273126692674, 0.8039691188684872, 0.8626548499142345, 0.006708943100483341, 0.25493983781836693, 0.7379837410531676, 0.05673355103247356, 0.6581091919766933, 0.2836677551623678, 0.8876706768296042, 0.029227077441125807, 0.6649160117856121, 0.30688431313182096, 0.013177176988970377, 0.34260660171322976, 0.6456816724595484, 0.03497054221990135, 0.9442046399373364, 0.8627066437039707, 0.8628634521437799, 0.679285900530721, 0.1001511263602986, 0.22207423671196647, 0.698527450917695, 0.07533139176563378, 0.22599417529690133, 0.00958811031643109, 0.9731931971177556, 0.01917622063286218, 0.007885491952156626, 0.8910605905936988, 0.09462590342587951, 0.2810540458570614, 0.7307405192283597, 0.036185838104132804, 0.9770176288115857, 0.7763647751529418, 0.02998652696866478, 0.959568862997273, 0.02998652696866478, 0.012087258567032362, 0.2296579127736149, 0.7614972897230389, 0.9752941922857846, 0.006966387087755604, 0.013932774175511208, 0.9622347149053482, 0.013746210212933546, 0.02749242042586709, 0.9675938032127127, 0.017918403763198382, 0.017918403763198382, 0.04371504316967695, 0.9617309497328929, 0.20721115311640895, 0.8288446124656358, 0.021853809139113684, 0.9178599838427748, 0.06556142741734106, 0.8876821583460562, 0.010657416821388477, 0.9644962223356572, 0.026643542053471195, 0.02914314954159877, 0.9617239348727593, 0.02914314954159877, 0.015649674304724807, 0.8763817610645892, 0.10954772013307365, 0.0214219228805478, 0.9746974910649249, 0.0107109614402739, 0.00938482400791102, 0.3941626083322629, 0.5912439124983944, 0.9479028298122575, 0.03138751092093568, 0.01883250655256141, 0.9730113687898468, 0.015203302637341357, 0.015203302637341357, 0.02997912234246582, 0.9593319149589062, 0.02997912234246582, 0.006208825993121296, 0.9251150729750731, 0.06829708592433426, 0.5328741252777094, 0.29741811643407035, 0.17039579587368614, 0.025994864603146695, 0.25994864603146695, 0.7278562088881074, 0.9481527534058649, 0.03386259833592375, 0.9709592487828698, 0.010788436097587442, 0.021576872195174884, 0.01626898083228109, 0.35791757831018395, 0.6344902524589624, 0.4316150820443616, 0.4510135126980408, 0.12124019158549484, 0.9643273652749786, 0.007840059880284378, 0.023520179640853137, 0.6838982610139622, 0.21738194725086657, 0.09769975157342317, 0.22521182676901227, 0.5159398213253736, 0.2579699106626868, 0.9531511840101974, 0.028367594762208258, 0.017020556857324953, 0.8876082665913915, 0.2666497576269547, 0.7199543455927777, 0.8628877770507223, 0.9638754141231456, 0.013203772796207474, 0.026407545592414948, 0.02536478007567336, 0.279012580832407, 0.7102138421188541, 0.9720918311963969, 0.010452600335445128, 0.020905200670890255, 0.6548928186496582, 0.2518818533267916, 0.09571510426418081, 0.019798131824891586, 0.9701084594196877, 0.03617385244438167, 0.9405201635539233, 0.8628646015583473, 0.9675938086343651, 0.008959201931799676, 0.01791840386359935, 0.005986337833495626, 0.802169269688414, 0.1855764728383644, 0.8628915817001368, 0.6765735628073488, 0.2467063820181493, 0.07849748518759296, 0.1711000915313244, 0.3970813444972246, 0.43259268424900893, 0.8629642075950706, 0.9672131103824789, 0.012090163879780987, 0.024180327759561974, 0.010708196125105271, 0.5568261985054741, 0.4283278450042109, 0.3808767288562125, 0.23735796146111793, 0.3808767288562125, 0.016918134786721415, 0.9135792784829565, 0.08459067393360709], \"Term\": [\"abbi\", \"abbi\", \"abbi\", \"activ\", \"activ\", \"activ\", \"alcohol\", \"alcohol\", \"alcohol\", \"alejandro\", \"alejandro\", \"alejandro\", \"alley\", \"alley\", \"alley\", \"alon\", \"alon\", \"alreadi\", \"alreadi\", \"alreadi\", \"ambedkar\", \"ambedkar\", \"ankl\", \"ankl\", \"ankl\", \"answer\", \"answer\", \"answer\", \"ask\", \"ask\", \"ask\", \"associ\", \"assumpt\", \"aunt\", \"aunt\", \"aunt\", \"azizah\", \"azizah\", \"backpack\", \"backpack\", \"backpack\", \"bad\", \"bad\", \"bad\", \"barbecu\", \"barbecu\", \"barbecu\", \"bear\", \"bear\", \"bear\", \"beauti\", \"beauti\", \"beauti\", \"bedroom\", \"bell\", \"bell\", \"bell\", \"big\", \"big\", \"big\", \"birthday\", \"birthday\", \"birthday\", \"blog\", \"bodi\", \"bodi\", \"bodi\", \"bore\", \"bore\", \"bore\", \"bullet\", \"bullet\", \"bullet\", \"bye\", \"bye\", \"calf\", \"calf\", \"calf\", \"chef\", \"chef\", \"chef\", \"choos\", \"class\", \"class\", \"come\", \"come\", \"come\", \"compani\", \"compani\", \"comparison\", \"comparison\", \"competit\", \"competit\", \"competit\", \"con\", \"concili\", \"concili\", \"congratul\", \"cook\", \"cook\", \"cook\", \"cousin\", \"cow\", \"cow\", \"cow\", \"dad\", \"dad\", \"dad\", \"daniel\", \"daniel\", \"daniel\", \"date\", \"date\", \"date\", \"dave\", \"dave\", \"day\", \"day\", \"day\", \"der\", \"der\", \"der\", \"desk\", \"desk\", \"desk\", \"detector\", \"develop\", \"develop\", \"develop\", \"die\", \"die\", \"die\", \"differ\", \"differ\", \"differ\", \"diver\", \"diver\", \"dora\", \"dora\", \"dora\", \"drop\", \"drop\", \"drug\", \"drug\", \"drug\", \"drunk\", \"drunk\", \"drunk\", \"durham\", \"dylan\", \"dylan\", \"dylan\", \"earli\", \"earli\", \"earli\", \"egg\", \"egg\", \"egg\", \"email\", \"entri\", \"entri\", \"entri\", \"everi\", \"everi\", \"everi\", \"everyth\", \"everyth\", \"everyth\", \"favourit\", \"favourit\", \"favourit\", \"feedback\", \"find\", \"find\", \"find\", \"fit\", \"fit\", \"fit\", \"food\", \"food\", \"food\", \"forget\", \"forget\", \"forget\", \"forgot\", \"forgot\", \"forgot\", \"form\", \"form\", \"form\", \"former\", \"former\", \"former\", \"friend\", \"friend\", \"friend\", \"game\", \"game\", \"game\", \"gorbachev\", \"gorbachev\", \"gordi\", \"gordi\", \"gordi\", \"grab\", \"grab\", \"grab\", \"grandpa\", \"grandpar\", \"great\", \"great\", \"great\", \"gun\", \"gun\", \"gun\", \"guy\", \"guy\", \"guy\", \"gwen\", \"gwen\", \"gwen\", \"happen\", \"happen\", \"happen\", \"harlow\", \"harlow\", \"harlow\", \"health\", \"health\", \"health\", \"healthi\", \"healthi\", \"healthi\", \"hear\", \"hear\", \"hear\", \"help\", \"help\", \"help\", \"hibri\", \"hibri\", \"high\", \"high\", \"high\", \"hip\", \"hip\", \"hip\", \"homework\", \"homework\", \"hop\", \"hop\", \"hop\", \"ident\", \"ident\", \"independ\", \"independ\", \"indian\", \"indian\", \"integr\", \"integr\", \"jess\", \"jose\", \"jose\", \"jose\", \"kid\", \"kid\", \"kid\", \"know\", \"know\", \"know\", \"laugh\", \"laugh\", \"laugh\", \"list\", \"listen\", \"littl\", \"littl\", \"littl\", \"live\", \"live\", \"live\", \"london\", \"london\", \"london\", \"look\", \"look\", \"look\", \"lose\", \"lose\", \"lose\", \"lot\", \"lot\", \"lot\", \"loud\", \"loud\", \"loud\", \"lucki\", \"lucki\", \"lucki\", \"main\", \"main\", \"main\", \"man\", \"man\", \"man\", \"map\", \"map\", \"map\", \"maria\", \"maria\", \"maria\", \"middl\", \"middl\", \"middl\", \"minist\", \"minist\", \"much\", \"much\", \"much\", \"mum\", \"mum\", \"mum\", \"name\", \"name\", \"name\", \"need\", \"need\", \"need\", \"nice\", \"nisha\", \"number\", \"number\", \"number\", \"ocean\", \"ocean\", \"one\", \"one\", \"one\", \"organ\", \"organ\", \"organ\", \"parent\", \"parent\", \"parent\", \"park\", \"park\", \"park\", \"peopl\", \"peopl\", \"peopl\", \"philosoph\", \"philosoph\", \"phone\", \"phone\", \"phone\", \"photo\", \"photo\", \"pictur\", \"pizza\", \"pizza\", \"pizza\", \"place\", \"place\", \"place\", \"plane\", \"play\", \"play\", \"play\", \"pocket\", \"pocket\", \"pocket\", \"presid\", \"presid\", \"pro\", \"progress\", \"put\", \"put\", \"put\", \"realli\", \"realli\", \"realli\", \"robert\", \"robert\", \"robert\", \"rosali\", \"rosali\", \"rosali\", \"rush\", \"rush\", \"russian\", \"russian\", \"said\", \"sandwich\", \"sandwich\", \"sandwich\", \"score\", \"score\", \"score\", \"scott\", \"scott\", \"scott\", \"scream\", \"scream\", \"scream\", \"second\", \"second\", \"second\", \"self\", \"self\", \"sextet\", \"sextet\", \"shoe\", \"shoe\", \"shoe\", \"shoulder\", \"shruti\", \"shruti\", \"shruti\", \"similar\", \"similar\", \"similar\", \"sing\", \"sing\", \"sing\", \"societi\", \"societi\", \"societi\", \"sorri\", \"sorri\", \"sorri\", \"sport\", \"sport\", \"sport\", \"standup\", \"standup\", \"standup\", \"student\", \"student\", \"student\", \"susan\", \"susan\", \"susan\", \"take\", \"take\", \"take\", \"takeaway\", \"takeaway\", \"takeaway\", \"task\", \"task\", \"teddi\", \"teddi\", \"teddi\", \"teen\", \"teen\", \"teen\", \"tell\", \"tell\", \"tell\", \"thanksgiv\", \"thanksgiv\", \"thanksgiv\", \"think\", \"think\", \"think\", \"three\", \"three\", \"three\", \"time\", \"time\", \"time\", \"tip\", \"tomorrow\", \"tomorrow\", \"trainer\", \"trash\", \"trash\", \"trash\", \"tuna\", \"tuna\", \"tuna\", \"turkey\", \"turkey\", \"turkey\", \"two\", \"two\", \"two\", \"uniti\", \"uniti\", \"unlik\", \"unlik\", \"verb\", \"vern\", \"vern\", \"vern\", \"villag\", \"villag\", \"villag\", \"voci\", \"walk\", \"walk\", \"walk\", \"want\", \"want\", \"want\", \"wear\", \"without\", \"without\", \"without\", \"woman\", \"woman\", \"woman\", \"year\", \"year\", \"year\", \"yuck\", \"yuck\", \"yuck\"]}, \"R\": 30, \"lambda.step\": 0.01, \"plot.opts\": {\"xlab\": \"PC1\", \"ylab\": \"PC2\"}, \"topic.order\": [3, 2, 1]};\n",
       "\n",
       "function LDAvis_load_lib(url, callback){\n",
       "  var s = document.createElement('script');\n",
       "  s.src = url;\n",
       "  s.async = true;\n",
       "  s.onreadystatechange = s.onload = callback;\n",
       "  s.onerror = function(){console.warn(\"failed to load library \" + url);};\n",
       "  document.getElementsByTagName(\"head\")[0].appendChild(s);\n",
       "}\n",
       "\n",
       "if(typeof(LDAvis) !== \"undefined\"){\n",
       "   // already loaded: just create the visualization\n",
       "   !function(LDAvis){\n",
       "       new LDAvis(\"#\" + \"ldavis_el52681406078533471049499660281\", ldavis_el52681406078533471049499660281_data);\n",
       "   }(LDAvis);\n",
       "}else if(typeof define === \"function\" && define.amd){\n",
       "   // require.js is available: use it to load d3/LDAvis\n",
       "   require.config({paths: {d3: \"https://d3js.org/d3.v5\"}});\n",
       "   require([\"d3\"], function(d3){\n",
       "      window.d3 = d3;\n",
       "      LDAvis_load_lib(\"https://cdn.jsdelivr.net/gh/bmabey/pyLDAvis@3.4.0/pyLDAvis/js/ldavis.v3.0.0.js\", function(){\n",
       "        new LDAvis(\"#\" + \"ldavis_el52681406078533471049499660281\", ldavis_el52681406078533471049499660281_data);\n",
       "      });\n",
       "    });\n",
       "}else{\n",
       "    // require.js not available: dynamically load d3 & LDAvis\n",
       "    LDAvis_load_lib(\"https://d3js.org/d3.v5.js\", function(){\n",
       "         LDAvis_load_lib(\"https://cdn.jsdelivr.net/gh/bmabey/pyLDAvis@3.4.0/pyLDAvis/js/ldavis.v3.0.0.js\", function(){\n",
       "                 new LDAvis(\"#\" + \"ldavis_el52681406078533471049499660281\", ldavis_el52681406078533471049499660281_data);\n",
       "            })\n",
       "         });\n",
       "}\n",
       "</script>"
      ],
      "text/plain": [
       "PreparedData(topic_coordinates=              x         y  topics  cluster       Freq\n",
       "topic                                                \n",
       "2      0.233905 -0.007442       1        1  48.080714\n",
       "1     -0.133680 -0.074329       2        1  33.996273\n",
       "0     -0.100225  0.081771       3        1  17.923013, topic_info=       Term        Freq       Total Category  logprob  loglift\n",
       "518    gwen  519.000000  519.000000  Default  30.0000  30.0000\n",
       "494    dora  669.000000  669.000000  Default  29.0000  29.0000\n",
       "553   phone  298.000000  298.000000  Default  28.0000  28.0000\n",
       "476    chef  278.000000  278.000000  Default  27.0000  27.0000\n",
       "711  robert  208.000000  208.000000  Default  26.0000  26.0000\n",
       "..      ...         ...         ...      ...      ...      ...\n",
       "151   three   63.011163  244.214528   Topic3  -5.0381   0.3643\n",
       "318  realli   65.542662  292.042925   Topic3  -4.9987   0.2249\n",
       "343     ask   64.048098  355.692871   Topic3  -5.0218   0.0047\n",
       "107    take   54.854581  322.777917   Topic3  -5.1767  -0.0532\n",
       "84     name   53.643765  183.901577   Topic3  -5.1991   0.4870\n",
       "\n",
       "[253 rows x 6 columns], token_table=      Topic      Freq   Term\n",
       "term                        \n",
       "939       1  0.975297   abbi\n",
       "939       2  0.009289   abbi\n",
       "939       3  0.013933   abbi\n",
       "852       1  0.972408  activ\n",
       "852       2  0.010345  activ\n",
       "...     ...       ...    ...\n",
       "263       2  0.237358   year\n",
       "263       3  0.380877   year\n",
       "666       1  0.016918   yuck\n",
       "666       2  0.913579   yuck\n",
       "666       3  0.084591   yuck\n",
       "\n",
       "[518 rows x 3 columns], R=30, lambda_step=0.01, plot_opts={'xlab': 'PC1', 'ylab': 'PC2'}, topic_order=[3, 2, 1])"
      ]
     },
     "execution_count": 56,
     "metadata": {},
     "output_type": "execute_result"
    }
   ],
   "source": [
    "pyLDAvis.enable_notebook()\n",
    "vis = gensimvis.prepare(lda_model_en, corpus, id2word) \n",
    "vis"
   ]
  },
  {
   "cell_type": "code",
   "execution_count": null,
   "id": "594fa34b-f74f-4cec-9ad4-72217262b30d",
   "metadata": {},
   "outputs": [],
   "source": []
  },
  {
   "cell_type": "markdown",
   "id": "215170a1-e274-410c-a791-54eb6640f4cf",
   "metadata": {},
   "source": [
    "**English Aspects**"
   ]
  },
  {
   "cell_type": "code",
   "execution_count": null,
   "id": "1a9bc059-7120-4a6e-b595-35ffcd5760bc",
   "metadata": {},
   "outputs": [],
   "source": [
    "d = pd.read_csv(\"data/taskAspects_EN.csv\")\n",
    "len(d.aspectId.unique())"
   ]
  },
  {
   "cell_type": "code",
   "execution_count": null,
   "id": "c8e0b982-638a-4c84-94cd-7525b7c8f827",
   "metadata": {},
   "outputs": [],
   "source": [
    "i = pd.read_csv(\"data/preprocessed_concept_aspects_EN.csv\")\n",
    "i"
   ]
  },
  {
   "cell_type": "code",
   "execution_count": null,
   "id": "779190f3-9f2e-44fb-a6dc-cba38a4a0d84",
   "metadata": {},
   "outputs": [],
   "source": [
    "df = pd.read_csv(\"data/preprocessed_concept_aspects_EN.csv\")\n",
    "df.dropna(subset=[\"description\"], inplace=True)\n",
    "data = df[\"description\"].str.split().to_list() \n",
    "title = \"Coherence score by number of topics in english tasks\" \n",
    "\n",
    "id2word, corpus = get_corpus(data)\n",
    "\n",
    "num_topics = 3 \n",
    "passes = 20 \n",
    "decay = 0.9\n",
    "iterations = 100\n",
    "lda_model_aspects, coherence_lda_aspects = get_model(corpus=corpus,\n",
    "                                                     id2word=id2word,\n",
    "                                                     title=title,\n",
    "                                                     num_topics=num_topics,\n",
    "                                                     passes=passes,\n",
    "                                                     decay=decay,\n",
    "                                                     iterations=iterations)"
   ]
  },
  {
   "cell_type": "code",
   "execution_count": null,
   "id": "50152f88-ff25-468b-9810-33f7e20f6e82",
   "metadata": {},
   "outputs": [],
   "source": [
    "lda_model_aspects.print_topics() "
   ]
  },
  {
   "cell_type": "code",
   "execution_count": null,
   "id": "c8e27d3e-56fd-4810-a281-35a635c5bac8",
   "metadata": {},
   "outputs": [],
   "source": [
    "# Visualization \n",
    "pyLDAvis.enable_notebook()\n",
    "vis = gensimvis.prepare(lda_model_aspects, corpus, id2word) \n",
    "vis"
   ]
  },
  {
   "cell_type": "markdown",
   "id": "33bafd24-d078-4e1d-96f1-cba2a27e6b0d",
   "metadata": {},
   "source": [
    "<hr>"
   ]
  },
  {
   "cell_type": "markdown",
   "id": "990ee5a4-e02e-49b0-86d2-5af0771fd0d5",
   "metadata": {},
   "source": [
    "Functions that come with gensim LDAModel: <br>\n",
    "- get_document_topics(bow[, ...]) \tReturn topic distribution for the given document bow, as a list of (topic_id, topic_probability) 2-tuples.<br>\n",
    "- get_term_topics(word_id[, minimum_probability]) \tReturns most likely topics for a particular word in vocab.<br>\n",
    "- get_topic_terms(topicid[, topn]) \tReturn a list of (word_id, probability) 2-tuples for the most probable words in topic topicid. <br>\n",
    "- show_topic(topicid[, topn]) Return a list of (word, probability) 2-tuples for the most probable words in topic topicid.<br>\n",
    "- top_topics(corpus[, num_words]) \tCalculate the Umass topic coherence for each topic.<br>\n",
    "  https://tedboy.github.io/nlps/generated/generated/gensim.models.LdaModel.html                                             "
   ]
  },
  {
   "cell_type": "code",
   "execution_count": null,
   "id": "b9151638-78ff-40bb-bba6-7576418d209c",
   "metadata": {},
   "outputs": [],
   "source": []
  },
  {
   "cell_type": "code",
   "execution_count": null,
   "id": "91452ddb-e0d4-48ce-b547-120865b0199c",
   "metadata": {},
   "outputs": [],
   "source": []
  },
  {
   "cell_type": "code",
   "execution_count": null,
   "id": "efe429b1-f85b-4aff-b15f-1c391cbe3c56",
   "metadata": {},
   "outputs": [],
   "source": []
  }
 ],
 "metadata": {
  "kernelspec": {
   "display_name": "tb_venv",
   "language": "python",
   "name": "tb_venv"
  },
  "language_info": {
   "codemirror_mode": {
    "name": "ipython",
    "version": 3
   },
   "file_extension": ".py",
   "mimetype": "text/x-python",
   "name": "python",
   "nbconvert_exporter": "python",
   "pygments_lexer": "ipython3",
   "version": "3.11.8"
  }
 },
 "nbformat": 4,
 "nbformat_minor": 5
}
